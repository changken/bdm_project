{
 "cells": [
  {
   "cell_type": "code",
   "execution_count": 1,
   "id": "b83a4568",
   "metadata": {},
   "outputs": [],
   "source": [
    "import numpy as np\n",
    "import pandas as pd\n",
    "from sklearn.model_selection import train_test_split\n",
    "from sklearn.feature_selection import SelectPercentile\n",
    "from sklearn.feature_selection import chi2"
   ]
  },
  {
   "cell_type": "code",
   "execution_count": 2,
   "id": "adf3468b",
   "metadata": {},
   "outputs": [],
   "source": [
    "def remove_dump_values(data, cols):\n",
    "    for col in cols:\n",
    "        data[col] = np.where(data[col] == '-', 'None', data[col])\n",
    "    return data\n",
    "\n",
    "\n",
    "def preprocess(data):\n",
    "    cols = data.columns\n",
    "    cols_cat = data.select_dtypes('object').columns\n",
    "    cols_numeric = data._get_numeric_data().columns\n",
    "    \n",
    "    # remove dump value\n",
    "    # data_bin = remove_dump_values(data, cols)\n",
    "\n",
    "    # remove unnecessary features\n",
    "    # cols_cat = cols_cat.drop(['attack_cat'])# \n",
    "    # cols_numeric = cols_numeric.drop(['id', 'label'])\n",
    "\n",
    "    # one hot encoding category feature\n",
    "    # data_bin_hot = pd.get_dummies(data_bin, columns=cols_cat)\n",
    "\n",
    "    # normalize numeric features\n",
    "    data[cols_numeric] = data[cols_numeric].astype('float')\n",
    "    data[cols_numeric] = (data[cols_numeric] - np.mean(data[cols_numeric])) / np.std(data[cols_numeric])\n",
    "\n",
    "    return data"
   ]
  },
  {
   "cell_type": "code",
   "execution_count": 3,
   "id": "a143b32d",
   "metadata": {},
   "outputs": [
    {
     "data": {
      "text/plain": [
       "((82332, 45), (175341, 45))"
      ]
     },
     "execution_count": 3,
     "metadata": {},
     "output_type": "execute_result"
    }
   ],
   "source": [
    "raw_tr = pd.read_csv('../../data/raw/UNSW_NB15_training-set.csv')\n",
    "raw_tt = pd.read_csv('../../data/raw/UNSW_NB15_testing-set.csv')\n",
    "raw_tr.shape, raw_tt.shape"
   ]
  },
  {
   "cell_type": "code",
   "execution_count": 4,
   "id": "6a19f56d",
   "metadata": {},
   "outputs": [
    {
     "data": {
      "text/plain": [
       "{'icmp', 'rtp'}"
      ]
     },
     "execution_count": 4,
     "metadata": {},
     "output_type": "execute_result"
    }
   ],
   "source": [
    "set(raw_tt['proto'].unique()) - set(raw_tr['proto'].unique())"
   ]
  },
  {
   "cell_type": "code",
   "execution_count": 5,
   "id": "e3dede02",
   "metadata": {},
   "outputs": [
    {
     "data": {
      "text/plain": [
       "{'ECO', 'PAR', 'URN', 'no'}"
      ]
     },
     "execution_count": 5,
     "metadata": {},
     "output_type": "execute_result"
    }
   ],
   "source": [
    "set(raw_tt['state'].unique()) - set(raw_tr['state'].unique())"
   ]
  },
  {
   "cell_type": "code",
   "execution_count": 6,
   "id": "e1e289cc",
   "metadata": {},
   "outputs": [],
   "source": [
    "raw_data = pd.concat([raw_tr, raw_tt]).reset_index(drop=True)"
   ]
  },
  {
   "cell_type": "code",
   "execution_count": 7,
   "id": "dd426c4f",
   "metadata": {
    "pycharm": {
     "name": "#%%\n"
    }
   },
   "outputs": [
    {
     "data": {
      "text/plain": [
       "{'ackdat',\n",
       " 'attack_cat',\n",
       " 'ct_dst_ltm',\n",
       " 'ct_dst_sport_ltm',\n",
       " 'ct_dst_src_ltm',\n",
       " 'ct_flw_http_mthd',\n",
       " 'ct_ftp_cmd',\n",
       " 'ct_src_dport_ltm',\n",
       " 'ct_src_ltm',\n",
       " 'ct_srv_dst',\n",
       " 'ct_srv_src',\n",
       " 'ct_state_ttl',\n",
       " 'dbytes',\n",
       " 'dinpkt',\n",
       " 'djit',\n",
       " 'dload',\n",
       " 'dloss',\n",
       " 'dmean',\n",
       " 'dpkts',\n",
       " 'dtcpb',\n",
       " 'dttl',\n",
       " 'dur',\n",
       " 'dwin',\n",
       " 'id',\n",
       " 'is_ftp_login',\n",
       " 'is_sm_ips_ports',\n",
       " 'label',\n",
       " 'proto',\n",
       " 'rate',\n",
       " 'response_body_len',\n",
       " 'sbytes',\n",
       " 'service',\n",
       " 'sinpkt',\n",
       " 'sjit',\n",
       " 'sload',\n",
       " 'sloss',\n",
       " 'smean',\n",
       " 'spkts',\n",
       " 'state',\n",
       " 'stcpb',\n",
       " 'sttl',\n",
       " 'swin',\n",
       " 'synack',\n",
       " 'tcprtt',\n",
       " 'trans_depth'}"
      ]
     },
     "execution_count": 7,
     "metadata": {},
     "output_type": "execute_result"
    }
   ],
   "source": [
    "# 資料的欄位名稱\n",
    "cols = raw_data.columns\n",
    "\n",
    "colNum = cols.to_numpy()\n",
    "colSet = set(cols.to_numpy())\n",
    "\n",
    "colSet"
   ]
  },
  {
   "cell_type": "raw",
   "id": "42fb2d12",
   "metadata": {
    "pycharm": {
     "name": "#%% raw\n"
    }
   },
   "source": [
    "# TODO先做feature selection"
   ]
  },
  {
   "cell_type": "code",
   "execution_count": 8,
   "id": "be5d3dba",
   "metadata": {
    "pycharm": {
     "name": "#%%\n"
    }
   },
   "outputs": [],
   "source": [
    "def processFeatureData(data):\n",
    "    newData = data.copy()\n",
    "    newData['proto'] = pd.Categorical(data['proto']).codes.astype(np.float64)\n",
    "    newData['service'] = pd.Categorical(data['service']).codes.astype(np.float64)\n",
    "    newData['state'] = pd.Categorical(data['state']).codes.astype(np.float64)\n",
    "    return newData"
   ]
  },
  {
   "cell_type": "code",
   "execution_count": 9,
   "id": "76a11cfa",
   "metadata": {
    "pycharm": {
     "name": "#%%\n"
    }
   },
   "outputs": [
    {
     "data": {
      "text/plain": [
       "((257673, 42), (257673,))"
      ]
     },
     "execution_count": 9,
     "metadata": {},
     "output_type": "execute_result"
    }
   ],
   "source": [
    "# 切分feature & label\n",
    "x = processFeatureData(raw_data.drop(['id', 'attack_cat', 'label'], axis=1))\n",
    "y = pd.Categorical(raw_data['attack_cat']).codes.astype(np.float64)\n",
    "\n",
    "x.shape, y.shape"
   ]
  },
  {
   "cell_type": "raw",
   "id": "dbe98281",
   "metadata": {
    "pycharm": {
     "name": "#%% raw\n"
    }
   },
   "source": [
    "# 使用卡方檢定來選擇前30%的特徵"
   ]
  },
  {
   "cell_type": "code",
   "execution_count": 10,
   "id": "a36eed6a",
   "metadata": {
    "pycharm": {
     "name": "#%%\n"
    }
   },
   "outputs": [],
   "source": [
    "selected = SelectPercentile(chi2,percentile=30)"
   ]
  },
  {
   "cell_type": "code",
   "execution_count": 11,
   "id": "d96e429b",
   "metadata": {
    "pycharm": {
     "name": "#%%\n"
    }
   },
   "outputs": [
    {
     "data": {
      "text/plain": [
       "(257673, 13)"
      ]
     },
     "execution_count": 11,
     "metadata": {},
     "output_type": "execute_result"
    }
   ],
   "source": [
    "#只選得分最好的前30%features\n",
    "x_new=selected.fit_transform(x,y)\n",
    "\n",
    "x_new.shape"
   ]
  },
  {
   "cell_type": "code",
   "execution_count": 12,
   "id": "d78f0f45",
   "metadata": {
    "pycharm": {
     "name": "#%%\n"
    },
    "scrolled": true
   },
   "outputs": [
    {
     "data": {
      "text/plain": [
       "{'dbytes',\n",
       " 'dinpkt',\n",
       " 'djit',\n",
       " 'dload',\n",
       " 'dmean',\n",
       " 'dtcpb',\n",
       " 'rate',\n",
       " 'response_body_len',\n",
       " 'sbytes',\n",
       " 'sinpkt',\n",
       " 'sjit',\n",
       " 'sload',\n",
       " 'stcpb'}"
      ]
     },
     "execution_count": 12,
     "metadata": {},
     "output_type": "execute_result"
    }
   ],
   "source": [
    "# 目前選出前30%有用的特徵名稱\n",
    "selectedColumn = selected.get_feature_names_out()\n",
    "\n",
    "selectedColumnSet = set(selectedColumn)\n",
    "\n",
    "selectedColumnSet"
   ]
  },
  {
   "cell_type": "code",
   "execution_count": 13,
   "id": "c779f174",
   "metadata": {
    "pycharm": {
     "name": "#%%\n"
    }
   },
   "outputs": [
    {
     "data": {
      "text/plain": [
       "{'ackdat',\n",
       " 'attack_cat',\n",
       " 'ct_dst_ltm',\n",
       " 'ct_dst_sport_ltm',\n",
       " 'ct_dst_src_ltm',\n",
       " 'ct_flw_http_mthd',\n",
       " 'ct_ftp_cmd',\n",
       " 'ct_src_dport_ltm',\n",
       " 'ct_src_ltm',\n",
       " 'ct_srv_dst',\n",
       " 'ct_srv_src',\n",
       " 'ct_state_ttl',\n",
       " 'dloss',\n",
       " 'dpkts',\n",
       " 'dttl',\n",
       " 'dur',\n",
       " 'dwin',\n",
       " 'id',\n",
       " 'is_ftp_login',\n",
       " 'is_sm_ips_ports',\n",
       " 'label',\n",
       " 'proto',\n",
       " 'service',\n",
       " 'sloss',\n",
       " 'smean',\n",
       " 'spkts',\n",
       " 'state',\n",
       " 'sttl',\n",
       " 'swin',\n",
       " 'synack',\n",
       " 'tcprtt',\n",
       " 'trans_depth'}"
      ]
     },
     "execution_count": 13,
     "metadata": {},
     "output_type": "execute_result"
    }
   ],
   "source": [
    "removeColumnSet = colSet - selectedColumnSet\n",
    "\n",
    "removeColumnList = list(removeColumnSet)\n",
    "\n",
    "removeColumnSet"
   ]
  },
  {
   "cell_type": "code",
   "execution_count": 14,
   "id": "ab2e073c",
   "metadata": {
    "pycharm": {
     "name": "#%%\n"
    }
   },
   "outputs": [
    {
     "data": {
      "text/plain": [
       "{'ackdat',\n",
       " 'ct_dst_ltm',\n",
       " 'ct_dst_sport_ltm',\n",
       " 'ct_dst_src_ltm',\n",
       " 'ct_flw_http_mthd',\n",
       " 'ct_ftp_cmd',\n",
       " 'ct_src_dport_ltm',\n",
       " 'ct_src_ltm',\n",
       " 'ct_srv_dst',\n",
       " 'ct_srv_src',\n",
       " 'ct_state_ttl',\n",
       " 'dloss',\n",
       " 'dpkts',\n",
       " 'dttl',\n",
       " 'dur',\n",
       " 'dwin',\n",
       " 'id',\n",
       " 'is_ftp_login',\n",
       " 'is_sm_ips_ports',\n",
       " 'label',\n",
       " 'proto',\n",
       " 'service',\n",
       " 'sloss',\n",
       " 'smean',\n",
       " 'spkts',\n",
       " 'state',\n",
       " 'sttl',\n",
       " 'swin',\n",
       " 'synack',\n",
       " 'tcprtt',\n",
       " 'trans_depth'}"
      ]
     },
     "execution_count": 14,
     "metadata": {},
     "output_type": "execute_result"
    }
   ],
   "source": [
    "removeColumnSetWithAttackCat = removeColumnSet - set(['attack_cat'])\n",
    "\n",
    "removeColumnSetWithAttackCat"
   ]
  },
  {
   "cell_type": "code",
   "execution_count": 15,
   "id": "72e2870e",
   "metadata": {
    "pycharm": {
     "name": "#%%\n"
    }
   },
   "outputs": [
    {
     "data": {
      "text/html": [
       "<div>\n",
       "<style scoped>\n",
       "    .dataframe tbody tr th:only-of-type {\n",
       "        vertical-align: middle;\n",
       "    }\n",
       "\n",
       "    .dataframe tbody tr th {\n",
       "        vertical-align: top;\n",
       "    }\n",
       "\n",
       "    .dataframe thead th {\n",
       "        text-align: right;\n",
       "    }\n",
       "</style>\n",
       "<table border=\"1\" class=\"dataframe\">\n",
       "  <thead>\n",
       "    <tr style=\"text-align: right;\">\n",
       "      <th></th>\n",
       "      <th>sbytes</th>\n",
       "      <th>dbytes</th>\n",
       "      <th>rate</th>\n",
       "      <th>sload</th>\n",
       "      <th>dload</th>\n",
       "      <th>sinpkt</th>\n",
       "      <th>dinpkt</th>\n",
       "      <th>sjit</th>\n",
       "      <th>djit</th>\n",
       "      <th>stcpb</th>\n",
       "      <th>dtcpb</th>\n",
       "      <th>dmean</th>\n",
       "      <th>response_body_len</th>\n",
       "      <th>attack_cat</th>\n",
       "    </tr>\n",
       "  </thead>\n",
       "  <tbody>\n",
       "    <tr>\n",
       "      <th>0</th>\n",
       "      <td>496</td>\n",
       "      <td>0</td>\n",
       "      <td>90909.090200</td>\n",
       "      <td>1.803636e+08</td>\n",
       "      <td>0.000000</td>\n",
       "      <td>0.011000</td>\n",
       "      <td>0.00000</td>\n",
       "      <td>0.000000</td>\n",
       "      <td>0.000000</td>\n",
       "      <td>0</td>\n",
       "      <td>0</td>\n",
       "      <td>0</td>\n",
       "      <td>0</td>\n",
       "      <td>Normal</td>\n",
       "    </tr>\n",
       "    <tr>\n",
       "      <th>1</th>\n",
       "      <td>1762</td>\n",
       "      <td>0</td>\n",
       "      <td>125000.000300</td>\n",
       "      <td>8.810000e+08</td>\n",
       "      <td>0.000000</td>\n",
       "      <td>0.008000</td>\n",
       "      <td>0.00000</td>\n",
       "      <td>0.000000</td>\n",
       "      <td>0.000000</td>\n",
       "      <td>0</td>\n",
       "      <td>0</td>\n",
       "      <td>0</td>\n",
       "      <td>0</td>\n",
       "      <td>Normal</td>\n",
       "    </tr>\n",
       "    <tr>\n",
       "      <th>2</th>\n",
       "      <td>1068</td>\n",
       "      <td>0</td>\n",
       "      <td>200000.005100</td>\n",
       "      <td>8.544000e+08</td>\n",
       "      <td>0.000000</td>\n",
       "      <td>0.005000</td>\n",
       "      <td>0.00000</td>\n",
       "      <td>0.000000</td>\n",
       "      <td>0.000000</td>\n",
       "      <td>0</td>\n",
       "      <td>0</td>\n",
       "      <td>0</td>\n",
       "      <td>0</td>\n",
       "      <td>Normal</td>\n",
       "    </tr>\n",
       "    <tr>\n",
       "      <th>3</th>\n",
       "      <td>900</td>\n",
       "      <td>0</td>\n",
       "      <td>166666.660800</td>\n",
       "      <td>6.000000e+08</td>\n",
       "      <td>0.000000</td>\n",
       "      <td>0.006000</td>\n",
       "      <td>0.00000</td>\n",
       "      <td>0.000000</td>\n",
       "      <td>0.000000</td>\n",
       "      <td>0</td>\n",
       "      <td>0</td>\n",
       "      <td>0</td>\n",
       "      <td>0</td>\n",
       "      <td>Normal</td>\n",
       "    </tr>\n",
       "    <tr>\n",
       "      <th>4</th>\n",
       "      <td>2126</td>\n",
       "      <td>0</td>\n",
       "      <td>100000.002500</td>\n",
       "      <td>8.504000e+08</td>\n",
       "      <td>0.000000</td>\n",
       "      <td>0.010000</td>\n",
       "      <td>0.00000</td>\n",
       "      <td>0.000000</td>\n",
       "      <td>0.000000</td>\n",
       "      <td>0</td>\n",
       "      <td>0</td>\n",
       "      <td>0</td>\n",
       "      <td>0</td>\n",
       "      <td>Normal</td>\n",
       "    </tr>\n",
       "    <tr>\n",
       "      <th>...</th>\n",
       "      <td>...</td>\n",
       "      <td>...</td>\n",
       "      <td>...</td>\n",
       "      <td>...</td>\n",
       "      <td>...</td>\n",
       "      <td>...</td>\n",
       "      <td>...</td>\n",
       "      <td>...</td>\n",
       "      <td>...</td>\n",
       "      <td>...</td>\n",
       "      <td>...</td>\n",
       "      <td>...</td>\n",
       "      <td>...</td>\n",
       "      <td>...</td>\n",
       "    </tr>\n",
       "    <tr>\n",
       "      <th>257668</th>\n",
       "      <td>114</td>\n",
       "      <td>0</td>\n",
       "      <td>111111.107200</td>\n",
       "      <td>5.066666e+07</td>\n",
       "      <td>0.000000</td>\n",
       "      <td>0.009000</td>\n",
       "      <td>0.00000</td>\n",
       "      <td>0.000000</td>\n",
       "      <td>0.000000</td>\n",
       "      <td>0</td>\n",
       "      <td>0</td>\n",
       "      <td>0</td>\n",
       "      <td>0</td>\n",
       "      <td>Generic</td>\n",
       "    </tr>\n",
       "    <tr>\n",
       "      <th>257669</th>\n",
       "      <td>620</td>\n",
       "      <td>354</td>\n",
       "      <td>33.612649</td>\n",
       "      <td>8.826286e+03</td>\n",
       "      <td>4903.492188</td>\n",
       "      <td>54.400111</td>\n",
       "      <td>66.98057</td>\n",
       "      <td>3721.068786</td>\n",
       "      <td>120.177727</td>\n",
       "      <td>3518776216</td>\n",
       "      <td>3453092386</td>\n",
       "      <td>44</td>\n",
       "      <td>0</td>\n",
       "      <td>Shellcode</td>\n",
       "    </tr>\n",
       "    <tr>\n",
       "      <th>257670</th>\n",
       "      <td>114</td>\n",
       "      <td>0</td>\n",
       "      <td>111111.107200</td>\n",
       "      <td>5.066666e+07</td>\n",
       "      <td>0.000000</td>\n",
       "      <td>0.009000</td>\n",
       "      <td>0.00000</td>\n",
       "      <td>0.000000</td>\n",
       "      <td>0.000000</td>\n",
       "      <td>0</td>\n",
       "      <td>0</td>\n",
       "      <td>0</td>\n",
       "      <td>0</td>\n",
       "      <td>Generic</td>\n",
       "    </tr>\n",
       "    <tr>\n",
       "      <th>257671</th>\n",
       "      <td>114</td>\n",
       "      <td>0</td>\n",
       "      <td>111111.107200</td>\n",
       "      <td>5.066666e+07</td>\n",
       "      <td>0.000000</td>\n",
       "      <td>0.009000</td>\n",
       "      <td>0.00000</td>\n",
       "      <td>0.000000</td>\n",
       "      <td>0.000000</td>\n",
       "      <td>0</td>\n",
       "      <td>0</td>\n",
       "      <td>0</td>\n",
       "      <td>0</td>\n",
       "      <td>Generic</td>\n",
       "    </tr>\n",
       "    <tr>\n",
       "      <th>257672</th>\n",
       "      <td>114</td>\n",
       "      <td>0</td>\n",
       "      <td>111111.107200</td>\n",
       "      <td>5.066666e+07</td>\n",
       "      <td>0.000000</td>\n",
       "      <td>0.009000</td>\n",
       "      <td>0.00000</td>\n",
       "      <td>0.000000</td>\n",
       "      <td>0.000000</td>\n",
       "      <td>0</td>\n",
       "      <td>0</td>\n",
       "      <td>0</td>\n",
       "      <td>0</td>\n",
       "      <td>Generic</td>\n",
       "    </tr>\n",
       "  </tbody>\n",
       "</table>\n",
       "<p>257673 rows × 14 columns</p>\n",
       "</div>"
      ],
      "text/plain": [
       "        sbytes  dbytes           rate         sload        dload     sinpkt  \\\n",
       "0          496       0   90909.090200  1.803636e+08     0.000000   0.011000   \n",
       "1         1762       0  125000.000300  8.810000e+08     0.000000   0.008000   \n",
       "2         1068       0  200000.005100  8.544000e+08     0.000000   0.005000   \n",
       "3          900       0  166666.660800  6.000000e+08     0.000000   0.006000   \n",
       "4         2126       0  100000.002500  8.504000e+08     0.000000   0.010000   \n",
       "...        ...     ...            ...           ...          ...        ...   \n",
       "257668     114       0  111111.107200  5.066666e+07     0.000000   0.009000   \n",
       "257669     620     354      33.612649  8.826286e+03  4903.492188  54.400111   \n",
       "257670     114       0  111111.107200  5.066666e+07     0.000000   0.009000   \n",
       "257671     114       0  111111.107200  5.066666e+07     0.000000   0.009000   \n",
       "257672     114       0  111111.107200  5.066666e+07     0.000000   0.009000   \n",
       "\n",
       "          dinpkt         sjit        djit       stcpb       dtcpb  dmean  \\\n",
       "0        0.00000     0.000000    0.000000           0           0      0   \n",
       "1        0.00000     0.000000    0.000000           0           0      0   \n",
       "2        0.00000     0.000000    0.000000           0           0      0   \n",
       "3        0.00000     0.000000    0.000000           0           0      0   \n",
       "4        0.00000     0.000000    0.000000           0           0      0   \n",
       "...          ...          ...         ...         ...         ...    ...   \n",
       "257668   0.00000     0.000000    0.000000           0           0      0   \n",
       "257669  66.98057  3721.068786  120.177727  3518776216  3453092386     44   \n",
       "257670   0.00000     0.000000    0.000000           0           0      0   \n",
       "257671   0.00000     0.000000    0.000000           0           0      0   \n",
       "257672   0.00000     0.000000    0.000000           0           0      0   \n",
       "\n",
       "        response_body_len attack_cat  \n",
       "0                       0     Normal  \n",
       "1                       0     Normal  \n",
       "2                       0     Normal  \n",
       "3                       0     Normal  \n",
       "4                       0     Normal  \n",
       "...                   ...        ...  \n",
       "257668                  0    Generic  \n",
       "257669                  0  Shellcode  \n",
       "257670                  0    Generic  \n",
       "257671                  0    Generic  \n",
       "257672                  0    Generic  \n",
       "\n",
       "[257673 rows x 14 columns]"
      ]
     },
     "execution_count": 15,
     "metadata": {},
     "output_type": "execute_result"
    }
   ],
   "source": [
    "new_raw_data = raw_data.drop(list(removeColumnSetWithAttackCat), axis=1)\n",
    "\n",
    "new_raw_data"
   ]
  },
  {
   "cell_type": "code",
   "execution_count": 16,
   "id": "834e79be",
   "metadata": {
    "pycharm": {
     "name": "#%%\n"
    }
   },
   "outputs": [
    {
     "data": {
      "text/plain": [
       "(Index(['attack_cat'], dtype='object'),\n",
       " Index(['sbytes', 'dbytes', 'rate', 'sload', 'dload', 'sinpkt', 'dinpkt',\n",
       "        'sjit', 'djit', 'stcpb', 'dtcpb', 'dmean', 'response_body_len'],\n",
       "       dtype='object'))"
      ]
     },
     "execution_count": 16,
     "metadata": {},
     "output_type": "execute_result"
    }
   ],
   "source": [
    "cols_cat = new_raw_data.select_dtypes('object').columns\n",
    "cols_numeric = new_raw_data._get_numeric_data().columns\n",
    "\n",
    "cols_cat, cols_numeric"
   ]
  },
  {
   "cell_type": "code",
   "execution_count": 17,
   "id": "0089c594",
   "metadata": {
    "pycharm": {
     "name": "#%%\n"
    }
   },
   "outputs": [
    {
     "data": {
      "text/plain": [
       "(257673, 14)"
      ]
     },
     "execution_count": 17,
     "metadata": {},
     "output_type": "execute_result"
    }
   ],
   "source": [
    "processed_data = preprocess(new_raw_data)\n",
    "processed_data.shape"
   ]
  },
  {
   "cell_type": "code",
   "execution_count": 18,
   "id": "1f6a59bc",
   "metadata": {
    "pycharm": {
     "name": "#%%\n"
    }
   },
   "outputs": [
    {
     "data": {
      "text/html": [
       "<div>\n",
       "<style scoped>\n",
       "    .dataframe tbody tr th:only-of-type {\n",
       "        vertical-align: middle;\n",
       "    }\n",
       "\n",
       "    .dataframe tbody tr th {\n",
       "        vertical-align: top;\n",
       "    }\n",
       "\n",
       "    .dataframe thead th {\n",
       "        text-align: right;\n",
       "    }\n",
       "</style>\n",
       "<table border=\"1\" class=\"dataframe\">\n",
       "  <thead>\n",
       "    <tr style=\"text-align: right;\">\n",
       "      <th></th>\n",
       "      <th>sbytes</th>\n",
       "      <th>dbytes</th>\n",
       "      <th>rate</th>\n",
       "      <th>sload</th>\n",
       "      <th>dload</th>\n",
       "      <th>sinpkt</th>\n",
       "      <th>dinpkt</th>\n",
       "      <th>sjit</th>\n",
       "      <th>djit</th>\n",
       "      <th>stcpb</th>\n",
       "      <th>dtcpb</th>\n",
       "      <th>dmean</th>\n",
       "      <th>response_body_len</th>\n",
       "      <th>attack_cat</th>\n",
       "    </tr>\n",
       "  </thead>\n",
       "  <tbody>\n",
       "    <tr>\n",
       "      <th>0</th>\n",
       "      <td>-0.046480</td>\n",
       "      <td>-0.098409</td>\n",
       "      <td>-0.002151</td>\n",
       "      <td>0.590935</td>\n",
       "      <td>-0.272850</td>\n",
       "      <td>-0.131793</td>\n",
       "      <td>-0.090412</td>\n",
       "      <td>-0.110522</td>\n",
       "      <td>-0.148150</td>\n",
       "      <td>-0.735580</td>\n",
       "      <td>-0.734888</td>\n",
       "      <td>-0.478859</td>\n",
       "      <td>-0.039675</td>\n",
       "      <td>Normal</td>\n",
       "    </tr>\n",
       "    <tr>\n",
       "      <th>1</th>\n",
       "      <td>-0.039194</td>\n",
       "      <td>-0.098409</td>\n",
       "      <td>0.210460</td>\n",
       "      <td>4.363255</td>\n",
       "      <td>-0.272850</td>\n",
       "      <td>-0.131793</td>\n",
       "      <td>-0.090412</td>\n",
       "      <td>-0.110522</td>\n",
       "      <td>-0.148150</td>\n",
       "      <td>-0.735580</td>\n",
       "      <td>-0.734888</td>\n",
       "      <td>-0.478859</td>\n",
       "      <td>-0.039675</td>\n",
       "      <td>Normal</td>\n",
       "    </tr>\n",
       "    <tr>\n",
       "      <th>2</th>\n",
       "      <td>-0.043188</td>\n",
       "      <td>-0.098409</td>\n",
       "      <td>0.678204</td>\n",
       "      <td>4.220037</td>\n",
       "      <td>-0.272850</td>\n",
       "      <td>-0.131794</td>\n",
       "      <td>-0.090412</td>\n",
       "      <td>-0.110522</td>\n",
       "      <td>-0.148150</td>\n",
       "      <td>-0.735580</td>\n",
       "      <td>-0.734888</td>\n",
       "      <td>-0.478859</td>\n",
       "      <td>-0.039675</td>\n",
       "      <td>Normal</td>\n",
       "    </tr>\n",
       "    <tr>\n",
       "      <th>3</th>\n",
       "      <td>-0.044155</td>\n",
       "      <td>-0.098409</td>\n",
       "      <td>0.470318</td>\n",
       "      <td>2.850314</td>\n",
       "      <td>-0.272850</td>\n",
       "      <td>-0.131794</td>\n",
       "      <td>-0.090412</td>\n",
       "      <td>-0.110522</td>\n",
       "      <td>-0.148150</td>\n",
       "      <td>-0.735580</td>\n",
       "      <td>-0.734888</td>\n",
       "      <td>-0.478859</td>\n",
       "      <td>-0.039675</td>\n",
       "      <td>Normal</td>\n",
       "    </tr>\n",
       "    <tr>\n",
       "      <th>4</th>\n",
       "      <td>-0.037100</td>\n",
       "      <td>-0.098409</td>\n",
       "      <td>0.054546</td>\n",
       "      <td>4.198501</td>\n",
       "      <td>-0.272850</td>\n",
       "      <td>-0.131793</td>\n",
       "      <td>-0.090412</td>\n",
       "      <td>-0.110522</td>\n",
       "      <td>-0.148150</td>\n",
       "      <td>-0.735580</td>\n",
       "      <td>-0.734888</td>\n",
       "      <td>-0.478859</td>\n",
       "      <td>-0.039675</td>\n",
       "      <td>Normal</td>\n",
       "    </tr>\n",
       "    <tr>\n",
       "      <th>...</th>\n",
       "      <td>...</td>\n",
       "      <td>...</td>\n",
       "      <td>...</td>\n",
       "      <td>...</td>\n",
       "      <td>...</td>\n",
       "      <td>...</td>\n",
       "      <td>...</td>\n",
       "      <td>...</td>\n",
       "      <td>...</td>\n",
       "      <td>...</td>\n",
       "      <td>...</td>\n",
       "      <td>...</td>\n",
       "      <td>...</td>\n",
       "      <td>...</td>\n",
       "    </tr>\n",
       "    <tr>\n",
       "      <th>257668</th>\n",
       "      <td>-0.048678</td>\n",
       "      <td>-0.098409</td>\n",
       "      <td>0.123841</td>\n",
       "      <td>-0.107371</td>\n",
       "      <td>-0.272850</td>\n",
       "      <td>-0.131793</td>\n",
       "      <td>-0.090412</td>\n",
       "      <td>-0.110522</td>\n",
       "      <td>-0.148150</td>\n",
       "      <td>-0.735580</td>\n",
       "      <td>-0.734888</td>\n",
       "      <td>-0.478859</td>\n",
       "      <td>-0.039675</td>\n",
       "      <td>Generic</td>\n",
       "    </tr>\n",
       "    <tr>\n",
       "      <th>257669</th>\n",
       "      <td>-0.045766</td>\n",
       "      <td>-0.095988</td>\n",
       "      <td>-0.568903</td>\n",
       "      <td>-0.380119</td>\n",
       "      <td>-0.270817</td>\n",
       "      <td>-0.123936</td>\n",
       "      <td>-0.029190</td>\n",
       "      <td>-0.034635</td>\n",
       "      <td>-0.117572</td>\n",
       "      <td>1.837016</td>\n",
       "      <td>1.796938</td>\n",
       "      <td>-0.305659</td>\n",
       "      <td>-0.039675</td>\n",
       "      <td>Shellcode</td>\n",
       "    </tr>\n",
       "    <tr>\n",
       "      <th>257670</th>\n",
       "      <td>-0.048678</td>\n",
       "      <td>-0.098409</td>\n",
       "      <td>0.123841</td>\n",
       "      <td>-0.107371</td>\n",
       "      <td>-0.272850</td>\n",
       "      <td>-0.131793</td>\n",
       "      <td>-0.090412</td>\n",
       "      <td>-0.110522</td>\n",
       "      <td>-0.148150</td>\n",
       "      <td>-0.735580</td>\n",
       "      <td>-0.734888</td>\n",
       "      <td>-0.478859</td>\n",
       "      <td>-0.039675</td>\n",
       "      <td>Generic</td>\n",
       "    </tr>\n",
       "    <tr>\n",
       "      <th>257671</th>\n",
       "      <td>-0.048678</td>\n",
       "      <td>-0.098409</td>\n",
       "      <td>0.123841</td>\n",
       "      <td>-0.107371</td>\n",
       "      <td>-0.272850</td>\n",
       "      <td>-0.131793</td>\n",
       "      <td>-0.090412</td>\n",
       "      <td>-0.110522</td>\n",
       "      <td>-0.148150</td>\n",
       "      <td>-0.735580</td>\n",
       "      <td>-0.734888</td>\n",
       "      <td>-0.478859</td>\n",
       "      <td>-0.039675</td>\n",
       "      <td>Generic</td>\n",
       "    </tr>\n",
       "    <tr>\n",
       "      <th>257672</th>\n",
       "      <td>-0.048678</td>\n",
       "      <td>-0.098409</td>\n",
       "      <td>0.123841</td>\n",
       "      <td>-0.107371</td>\n",
       "      <td>-0.272850</td>\n",
       "      <td>-0.131793</td>\n",
       "      <td>-0.090412</td>\n",
       "      <td>-0.110522</td>\n",
       "      <td>-0.148150</td>\n",
       "      <td>-0.735580</td>\n",
       "      <td>-0.734888</td>\n",
       "      <td>-0.478859</td>\n",
       "      <td>-0.039675</td>\n",
       "      <td>Generic</td>\n",
       "    </tr>\n",
       "  </tbody>\n",
       "</table>\n",
       "<p>257673 rows × 14 columns</p>\n",
       "</div>"
      ],
      "text/plain": [
       "          sbytes    dbytes      rate     sload     dload    sinpkt    dinpkt  \\\n",
       "0      -0.046480 -0.098409 -0.002151  0.590935 -0.272850 -0.131793 -0.090412   \n",
       "1      -0.039194 -0.098409  0.210460  4.363255 -0.272850 -0.131793 -0.090412   \n",
       "2      -0.043188 -0.098409  0.678204  4.220037 -0.272850 -0.131794 -0.090412   \n",
       "3      -0.044155 -0.098409  0.470318  2.850314 -0.272850 -0.131794 -0.090412   \n",
       "4      -0.037100 -0.098409  0.054546  4.198501 -0.272850 -0.131793 -0.090412   \n",
       "...          ...       ...       ...       ...       ...       ...       ...   \n",
       "257668 -0.048678 -0.098409  0.123841 -0.107371 -0.272850 -0.131793 -0.090412   \n",
       "257669 -0.045766 -0.095988 -0.568903 -0.380119 -0.270817 -0.123936 -0.029190   \n",
       "257670 -0.048678 -0.098409  0.123841 -0.107371 -0.272850 -0.131793 -0.090412   \n",
       "257671 -0.048678 -0.098409  0.123841 -0.107371 -0.272850 -0.131793 -0.090412   \n",
       "257672 -0.048678 -0.098409  0.123841 -0.107371 -0.272850 -0.131793 -0.090412   \n",
       "\n",
       "            sjit      djit     stcpb     dtcpb     dmean  response_body_len  \\\n",
       "0      -0.110522 -0.148150 -0.735580 -0.734888 -0.478859          -0.039675   \n",
       "1      -0.110522 -0.148150 -0.735580 -0.734888 -0.478859          -0.039675   \n",
       "2      -0.110522 -0.148150 -0.735580 -0.734888 -0.478859          -0.039675   \n",
       "3      -0.110522 -0.148150 -0.735580 -0.734888 -0.478859          -0.039675   \n",
       "4      -0.110522 -0.148150 -0.735580 -0.734888 -0.478859          -0.039675   \n",
       "...          ...       ...       ...       ...       ...                ...   \n",
       "257668 -0.110522 -0.148150 -0.735580 -0.734888 -0.478859          -0.039675   \n",
       "257669 -0.034635 -0.117572  1.837016  1.796938 -0.305659          -0.039675   \n",
       "257670 -0.110522 -0.148150 -0.735580 -0.734888 -0.478859          -0.039675   \n",
       "257671 -0.110522 -0.148150 -0.735580 -0.734888 -0.478859          -0.039675   \n",
       "257672 -0.110522 -0.148150 -0.735580 -0.734888 -0.478859          -0.039675   \n",
       "\n",
       "       attack_cat  \n",
       "0          Normal  \n",
       "1          Normal  \n",
       "2          Normal  \n",
       "3          Normal  \n",
       "4          Normal  \n",
       "...           ...  \n",
       "257668    Generic  \n",
       "257669  Shellcode  \n",
       "257670    Generic  \n",
       "257671    Generic  \n",
       "257672    Generic  \n",
       "\n",
       "[257673 rows x 14 columns]"
      ]
     },
     "execution_count": 18,
     "metadata": {},
     "output_type": "execute_result"
    }
   ],
   "source": [
    "processed_data"
   ]
  },
  {
   "cell_type": "code",
   "execution_count": 19,
   "id": "89fbf763",
   "metadata": {},
   "outputs": [
    {
     "data": {
      "text/plain": [
       "((164910, 14), (41228, 14), (51535, 14))"
      ]
     },
     "execution_count": 19,
     "metadata": {},
     "output_type": "execute_result"
    }
   ],
   "source": [
    "tr, tt = train_test_split(processed_data, test_size=0.2, random_state=88)\n",
    "tr, val = train_test_split(tr, test_size=0.2, random_state=88)\n",
    "tr.shape, val.shape, tt.shape"
   ]
  },
  {
   "cell_type": "code",
   "execution_count": 33,
   "id": "e7657388",
   "metadata": {},
   "outputs": [],
   "source": [
    "tr.to_csv('../../data/attack_classification/training-set.csv', index=False)\n",
    "val.to_csv('../../data/attack_classification/validation-set.csv', index=False)\n",
    "tt.to_csv('../../data/attack_classification/testing-set.csv', index=False)"
   ]
  },
  {
   "cell_type": "code",
   "execution_count": null,
   "id": "b853ab87",
   "metadata": {
    "pycharm": {
     "name": "#%%\n"
    }
   },
   "outputs": [],
   "source": []
  }
 ],
 "metadata": {
  "kernelspec": {
   "display_name": "Python 3 (ipykernel)",
   "language": "python",
   "name": "python3"
  },
  "language_info": {
   "codemirror_mode": {
    "name": "ipython",
    "version": 3
   },
   "file_extension": ".py",
   "mimetype": "text/x-python",
   "name": "python",
   "nbconvert_exporter": "python",
   "pygments_lexer": "ipython3",
   "version": "3.9.7"
  },
  "toc": {
   "base_numbering": 1,
   "nav_menu": {},
   "number_sections": true,
   "sideBar": true,
   "skip_h1_title": false,
   "title_cell": "Table of Contents",
   "title_sidebar": "Contents",
   "toc_cell": false,
   "toc_position": {},
   "toc_section_display": true,
   "toc_window_display": false
  }
 },
 "nbformat": 4,
 "nbformat_minor": 5
}
