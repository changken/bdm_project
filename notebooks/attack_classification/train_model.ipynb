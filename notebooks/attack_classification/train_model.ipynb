{
 "cells": [
  {
   "cell_type": "code",
   "execution_count": 1,
   "id": "841dfc0b",
   "metadata": {},
   "outputs": [],
   "source": [
    "import os\n",
    "from datetime import datetime\n",
    "\n",
    "import torch\n",
    "import torch.nn as nn\n",
    "from torch.utils.tensorboard import SummaryWriter\n",
    "\n",
    "from src.dataset import prep_dataloader\n",
    "from src.model import NeuralNetwork\n",
    "from src.training import train, test"
   ]
  },
  {
   "cell_type": "code",
   "execution_count": 2,
   "id": "a31f674d",
   "metadata": {},
   "outputs": [],
   "source": [
    "# config\n",
    "# path\n",
    "tr_path = '../../data/processed/training-set.csv'\n",
    "val_path = '../../data/processed/validation-set.csv'\n",
    "tt_path = '../../data/processed/testing-set.csv'\n",
    "log_path = '../../logs/attack_classification'\n",
    "model_path = '../../models/attack_classification/model_weights.pth'\n",
    "\n",
    "# hyperparameter\n",
    "batch_size = 64"
   ]
  },
  {
   "cell_type": "code",
   "execution_count": 3,
   "id": "27751c5f",
   "metadata": {},
   "outputs": [
    {
     "name": "stdout",
     "output_type": "stream",
     "text": [
      "Finished reading the training set of Dataset (164910 samples found, each dim = 59)\n",
      "Finished reading the validation set of Dataset (41228 samples found, each dim = 59)\n",
      "Finished reading the testing set of Dataset (51535 samples found, each dim = 59)\n"
     ]
    }
   ],
   "source": [
    "# prepare dataloader\n",
    "tr_dl = prep_dataloader(\n",
    "    tr_path,\n",
    "    batch_size,\n",
    "    shuffle=True\n",
    ")\n",
    "\n",
    "val_dl = prep_dataloader(\n",
    "    val_path,\n",
    "    batch_size,\n",
    "    shuffle=True\n",
    ")\n",
    "\n",
    "tt_dl = prep_dataloader(\n",
    "    tt_path,\n",
    "    batch_size,\n",
    "    shuffle=False\n",
    ")"
   ]
  },
  {
   "cell_type": "code",
   "execution_count": 7,
   "id": "2f880a12",
   "metadata": {},
   "outputs": [
    {
     "name": "stdout",
     "output_type": "stream",
     "text": [
      "Using cuda device\n",
      "Load model weights form ../../models/attack_classification/model_weights.pth\n",
      "Epoch 1\n"
     ]
    },
    {
     "data": {
      "application/vnd.jupyter.widget-view+json": {
       "model_id": "0b42d5a6ce5a48ac90680700a5529b8b",
       "version_major": 2,
       "version_minor": 0
      },
      "text/plain": [
       "  0%|          | 0/2577 [00:00<?, ?it/s]"
      ]
     },
     "metadata": {},
     "output_type": "display_data"
    },
    {
     "name": "stdout",
     "output_type": "stream",
     "text": [
      "[Train] Accuracy: 79.3%, Avg loss: 0.509964 \n",
      "\n",
      "[Test] Accuracy: 79.4%, Avg loss: 0.524921 \n",
      "\n",
      "Epoch 2\n"
     ]
    },
    {
     "data": {
      "application/vnd.jupyter.widget-view+json": {
       "model_id": "695ddfaa22244c73ab20c0d0d17583f4",
       "version_major": 2,
       "version_minor": 0
      },
      "text/plain": [
       "  0%|          | 0/2577 [00:00<?, ?it/s]"
      ]
     },
     "metadata": {},
     "output_type": "display_data"
    },
    {
     "name": "stdout",
     "output_type": "stream",
     "text": [
      "[Train] Accuracy: 79.3%, Avg loss: 0.508702 \n",
      "\n",
      "[Test] Accuracy: 78.6%, Avg loss: 0.526591 \n",
      "\n",
      "Epoch 3\n"
     ]
    },
    {
     "data": {
      "application/vnd.jupyter.widget-view+json": {
       "model_id": "0def565521f9447486fc8a4b57ee8a71",
       "version_major": 2,
       "version_minor": 0
      },
      "text/plain": [
       "  0%|          | 0/2577 [00:00<?, ?it/s]"
      ]
     },
     "metadata": {},
     "output_type": "display_data"
    },
    {
     "name": "stdout",
     "output_type": "stream",
     "text": [
      "[Train] Accuracy: 79.2%, Avg loss: 0.509427 \n",
      "\n",
      "[Test] Accuracy: 78.9%, Avg loss: 0.525185 \n",
      "\n",
      "Epoch 4\n"
     ]
    },
    {
     "data": {
      "application/vnd.jupyter.widget-view+json": {
       "model_id": "089b9e01560246f1a9400298db715d5a",
       "version_major": 2,
       "version_minor": 0
      },
      "text/plain": [
       "  0%|          | 0/2577 [00:00<?, ?it/s]"
      ]
     },
     "metadata": {},
     "output_type": "display_data"
    },
    {
     "name": "stdout",
     "output_type": "stream",
     "text": [
      "[Train] Accuracy: 79.4%, Avg loss: 0.509018 \n",
      "\n",
      "[Test] Accuracy: 79.1%, Avg loss: 0.514880 \n",
      "\n",
      "Epoch 5\n"
     ]
    },
    {
     "data": {
      "application/vnd.jupyter.widget-view+json": {
       "model_id": "ad2b1fba687249558cbead5ee21aa74f",
       "version_major": 2,
       "version_minor": 0
      },
      "text/plain": [
       "  0%|          | 0/2577 [00:00<?, ?it/s]"
      ]
     },
     "metadata": {},
     "output_type": "display_data"
    },
    {
     "name": "stdout",
     "output_type": "stream",
     "text": [
      "[Train] Accuracy: 79.3%, Avg loss: 0.508368 \n",
      "\n",
      "[Test] Accuracy: 78.7%, Avg loss: 0.521708 \n",
      "\n",
      "Epoch 6\n"
     ]
    },
    {
     "data": {
      "application/vnd.jupyter.widget-view+json": {
       "model_id": "8708dab07d254da0a9fbeaf4d09eac9b",
       "version_major": 2,
       "version_minor": 0
      },
      "text/plain": [
       "  0%|          | 0/2577 [00:00<?, ?it/s]"
      ]
     },
     "metadata": {},
     "output_type": "display_data"
    },
    {
     "name": "stdout",
     "output_type": "stream",
     "text": [
      "[Train] Accuracy: 79.4%, Avg loss: 0.507976 \n",
      "\n",
      "[Test] Accuracy: 79.1%, Avg loss: 0.524788 \n",
      "\n",
      "Epoch 7\n"
     ]
    },
    {
     "data": {
      "application/vnd.jupyter.widget-view+json": {
       "model_id": "25fd5cb5eca44a4e937d26e0599470cd",
       "version_major": 2,
       "version_minor": 0
      },
      "text/plain": [
       "  0%|          | 0/2577 [00:00<?, ?it/s]"
      ]
     },
     "metadata": {},
     "output_type": "display_data"
    },
    {
     "name": "stdout",
     "output_type": "stream",
     "text": [
      "[Train] Accuracy: 79.3%, Avg loss: 0.506706 \n",
      "\n",
      "[Test] Accuracy: 79.0%, Avg loss: 0.514717 \n",
      "\n",
      "Epoch 8\n"
     ]
    },
    {
     "data": {
      "application/vnd.jupyter.widget-view+json": {
       "model_id": "73b5413fa7da4744904656626650edab",
       "version_major": 2,
       "version_minor": 0
      },
      "text/plain": [
       "  0%|          | 0/2577 [00:00<?, ?it/s]"
      ]
     },
     "metadata": {},
     "output_type": "display_data"
    },
    {
     "name": "stdout",
     "output_type": "stream",
     "text": [
      "[Train] Accuracy: 79.3%, Avg loss: 0.505846 \n",
      "\n",
      "[Test] Accuracy: 79.8%, Avg loss: 0.511289 \n",
      "\n",
      "Epoch 9\n"
     ]
    },
    {
     "data": {
      "application/vnd.jupyter.widget-view+json": {
       "model_id": "00ee4ef8bf154a26bf9b39ffba205ee6",
       "version_major": 2,
       "version_minor": 0
      },
      "text/plain": [
       "  0%|          | 0/2577 [00:00<?, ?it/s]"
      ]
     },
     "metadata": {},
     "output_type": "display_data"
    },
    {
     "name": "stdout",
     "output_type": "stream",
     "text": [
      "[Train] Accuracy: 79.4%, Avg loss: 0.505443 \n",
      "\n",
      "[Test] Accuracy: 79.6%, Avg loss: 0.512887 \n",
      "\n",
      "Epoch 10\n"
     ]
    },
    {
     "data": {
      "application/vnd.jupyter.widget-view+json": {
       "model_id": "60f758cf6d6e4738849b310ea37b3c8c",
       "version_major": 2,
       "version_minor": 0
      },
      "text/plain": [
       "  0%|          | 0/2577 [00:00<?, ?it/s]"
      ]
     },
     "metadata": {},
     "output_type": "display_data"
    },
    {
     "name": "stdout",
     "output_type": "stream",
     "text": [
      "[Train] Accuracy: 79.4%, Avg loss: 0.504914 \n",
      "\n",
      "[Test] Accuracy: 79.0%, Avg loss: 0.525204 \n",
      "\n",
      "Epoch 11\n"
     ]
    },
    {
     "data": {
      "application/vnd.jupyter.widget-view+json": {
       "model_id": "577e912e9208434ab8a7cad85057dc62",
       "version_major": 2,
       "version_minor": 0
      },
      "text/plain": [
       "  0%|          | 0/2577 [00:00<?, ?it/s]"
      ]
     },
     "metadata": {},
     "output_type": "display_data"
    },
    {
     "name": "stdout",
     "output_type": "stream",
     "text": [
      "[Train] Accuracy: 79.4%, Avg loss: 0.504427 \n",
      "\n",
      "[Test] Accuracy: 77.9%, Avg loss: 0.528394 \n",
      "\n",
      "Epoch 12\n"
     ]
    },
    {
     "data": {
      "application/vnd.jupyter.widget-view+json": {
       "model_id": "2709cf9b25be4490b2528d8deab8699c",
       "version_major": 2,
       "version_minor": 0
      },
      "text/plain": [
       "  0%|          | 0/2577 [00:00<?, ?it/s]"
      ]
     },
     "metadata": {},
     "output_type": "display_data"
    },
    {
     "name": "stdout",
     "output_type": "stream",
     "text": [
      "[Train] Accuracy: 79.4%, Avg loss: 0.504924 \n",
      "\n",
      "[Test] Accuracy: 78.7%, Avg loss: 0.525010 \n",
      "\n",
      "Epoch 13\n"
     ]
    },
    {
     "data": {
      "application/vnd.jupyter.widget-view+json": {
       "model_id": "c34c5f3531204fa0be0bf36eacd1e69a",
       "version_major": 2,
       "version_minor": 0
      },
      "text/plain": [
       "  0%|          | 0/2577 [00:00<?, ?it/s]"
      ]
     },
     "metadata": {},
     "output_type": "display_data"
    },
    {
     "name": "stdout",
     "output_type": "stream",
     "text": [
      "[Train] Accuracy: 79.5%, Avg loss: 0.502395 \n",
      "\n",
      "[Test] Accuracy: 79.9%, Avg loss: 0.507260 \n",
      "\n",
      "Epoch 14\n"
     ]
    },
    {
     "data": {
      "application/vnd.jupyter.widget-view+json": {
       "model_id": "acb8f25bf2ea4fe69805b09fc5302b12",
       "version_major": 2,
       "version_minor": 0
      },
      "text/plain": [
       "  0%|          | 0/2577 [00:00<?, ?it/s]"
      ]
     },
     "metadata": {},
     "output_type": "display_data"
    },
    {
     "name": "stdout",
     "output_type": "stream",
     "text": [
      "[Train] Accuracy: 79.5%, Avg loss: 0.503990 \n",
      "\n",
      "[Test] Accuracy: 79.6%, Avg loss: 0.517887 \n",
      "\n",
      "Epoch 15\n"
     ]
    },
    {
     "data": {
      "application/vnd.jupyter.widget-view+json": {
       "model_id": "81142a89717a4115acb0b7bf56f38bf9",
       "version_major": 2,
       "version_minor": 0
      },
      "text/plain": [
       "  0%|          | 0/2577 [00:00<?, ?it/s]"
      ]
     },
     "metadata": {},
     "output_type": "display_data"
    },
    {
     "name": "stdout",
     "output_type": "stream",
     "text": [
      "[Train] Accuracy: 79.4%, Avg loss: 0.503181 \n",
      "\n",
      "[Test] Accuracy: 79.6%, Avg loss: 0.505028 \n",
      "\n",
      "Epoch 16\n"
     ]
    },
    {
     "data": {
      "application/vnd.jupyter.widget-view+json": {
       "model_id": "56a67d3ed1d4453c90abc6a5fe6f3dd7",
       "version_major": 2,
       "version_minor": 0
      },
      "text/plain": [
       "  0%|          | 0/2577 [00:00<?, ?it/s]"
      ]
     },
     "metadata": {},
     "output_type": "display_data"
    },
    {
     "name": "stdout",
     "output_type": "stream",
     "text": [
      "[Train] Accuracy: 79.5%, Avg loss: 0.503030 \n",
      "\n",
      "[Test] Accuracy: 79.4%, Avg loss: 0.507113 \n",
      "\n",
      "Epoch 17\n"
     ]
    },
    {
     "data": {
      "application/vnd.jupyter.widget-view+json": {
       "model_id": "0c097fefc7994cd3b5e48fca3abb16d6",
       "version_major": 2,
       "version_minor": 0
      },
      "text/plain": [
       "  0%|          | 0/2577 [00:00<?, ?it/s]"
      ]
     },
     "metadata": {},
     "output_type": "display_data"
    },
    {
     "name": "stdout",
     "output_type": "stream",
     "text": [
      "[Train] Accuracy: 79.5%, Avg loss: 0.501088 \n",
      "\n",
      "[Test] Accuracy: 80.1%, Avg loss: 0.503747 \n",
      "\n",
      "Epoch 18\n"
     ]
    },
    {
     "data": {
      "application/vnd.jupyter.widget-view+json": {
       "model_id": "38750a37c0f248f58e8aece8ced8d965",
       "version_major": 2,
       "version_minor": 0
      },
      "text/plain": [
       "  0%|          | 0/2577 [00:00<?, ?it/s]"
      ]
     },
     "metadata": {},
     "output_type": "display_data"
    },
    {
     "name": "stdout",
     "output_type": "stream",
     "text": [
      "[Train] Accuracy: 79.5%, Avg loss: 0.501826 \n",
      "\n",
      "[Test] Accuracy: 79.2%, Avg loss: 0.510320 \n",
      "\n",
      "Epoch 19\n"
     ]
    },
    {
     "data": {
      "application/vnd.jupyter.widget-view+json": {
       "model_id": "48f6909822484fb3b1ef65f8d0db51f5",
       "version_major": 2,
       "version_minor": 0
      },
      "text/plain": [
       "  0%|          | 0/2577 [00:00<?, ?it/s]"
      ]
     },
     "metadata": {},
     "output_type": "display_data"
    },
    {
     "name": "stdout",
     "output_type": "stream",
     "text": [
      "[Train] Accuracy: 79.6%, Avg loss: 0.500185 \n",
      "\n",
      "[Test] Accuracy: 79.6%, Avg loss: 0.516555 \n",
      "\n",
      "Epoch 20\n"
     ]
    },
    {
     "data": {
      "application/vnd.jupyter.widget-view+json": {
       "model_id": "a3fc91c4de0d4561a579bff1dacde46e",
       "version_major": 2,
       "version_minor": 0
      },
      "text/plain": [
       "  0%|          | 0/2577 [00:00<?, ?it/s]"
      ]
     },
     "metadata": {},
     "output_type": "display_data"
    },
    {
     "name": "stdout",
     "output_type": "stream",
     "text": [
      "[Train] Accuracy: 79.6%, Avg loss: 0.498921 \n",
      "\n",
      "[Test] Accuracy: 79.1%, Avg loss: 0.515348 \n",
      "\n",
      "Epoch 21\n"
     ]
    },
    {
     "data": {
      "application/vnd.jupyter.widget-view+json": {
       "model_id": "bd48b6023e40435481338fc3395ebdf1",
       "version_major": 2,
       "version_minor": 0
      },
      "text/plain": [
       "  0%|          | 0/2577 [00:00<?, ?it/s]"
      ]
     },
     "metadata": {},
     "output_type": "display_data"
    },
    {
     "name": "stdout",
     "output_type": "stream",
     "text": [
      "[Train] Accuracy: 79.6%, Avg loss: 0.500069 \n",
      "\n",
      "[Test] Accuracy: 79.4%, Avg loss: 0.512531 \n",
      "\n",
      "Epoch 22\n"
     ]
    },
    {
     "data": {
      "application/vnd.jupyter.widget-view+json": {
       "model_id": "92ae7d781e1d4f88b4cbd85b771e51ba",
       "version_major": 2,
       "version_minor": 0
      },
      "text/plain": [
       "  0%|          | 0/2577 [00:00<?, ?it/s]"
      ]
     },
     "metadata": {},
     "output_type": "display_data"
    },
    {
     "name": "stdout",
     "output_type": "stream",
     "text": [
      "[Train] Accuracy: 79.6%, Avg loss: 0.499877 \n",
      "\n",
      "[Test] Accuracy: 78.8%, Avg loss: 0.532124 \n",
      "\n",
      "Epoch 23\n"
     ]
    },
    {
     "data": {
      "application/vnd.jupyter.widget-view+json": {
       "model_id": "87b4924cc63642028942c29ddafee1d7",
       "version_major": 2,
       "version_minor": 0
      },
      "text/plain": [
       "  0%|          | 0/2577 [00:00<?, ?it/s]"
      ]
     },
     "metadata": {},
     "output_type": "display_data"
    },
    {
     "name": "stdout",
     "output_type": "stream",
     "text": [
      "[Train] Accuracy: 79.6%, Avg loss: 0.498744 \n",
      "\n",
      "[Test] Accuracy: 79.9%, Avg loss: 0.497433 \n",
      "\n",
      "Epoch 24\n"
     ]
    },
    {
     "data": {
      "application/vnd.jupyter.widget-view+json": {
       "model_id": "f2b513071046405da340d6a1beca319f",
       "version_major": 2,
       "version_minor": 0
      },
      "text/plain": [
       "  0%|          | 0/2577 [00:00<?, ?it/s]"
      ]
     },
     "metadata": {},
     "output_type": "display_data"
    },
    {
     "name": "stdout",
     "output_type": "stream",
     "text": [
      "[Train] Accuracy: 79.6%, Avg loss: 0.497800 \n",
      "\n",
      "[Test] Accuracy: 79.2%, Avg loss: 0.505002 \n",
      "\n",
      "Epoch 25\n"
     ]
    },
    {
     "data": {
      "application/vnd.jupyter.widget-view+json": {
       "model_id": "83484b42f28d4cfb97b4a28463dda699",
       "version_major": 2,
       "version_minor": 0
      },
      "text/plain": [
       "  0%|          | 0/2577 [00:00<?, ?it/s]"
      ]
     },
     "metadata": {},
     "output_type": "display_data"
    },
    {
     "name": "stdout",
     "output_type": "stream",
     "text": [
      "[Train] Accuracy: 79.6%, Avg loss: 0.498408 \n",
      "\n",
      "[Test] Accuracy: 80.0%, Avg loss: 0.507730 \n",
      "\n",
      "Epoch 26\n"
     ]
    },
    {
     "data": {
      "application/vnd.jupyter.widget-view+json": {
       "model_id": "7fc43b834f10436ebcdde8be1bdfc768",
       "version_major": 2,
       "version_minor": 0
      },
      "text/plain": [
       "  0%|          | 0/2577 [00:00<?, ?it/s]"
      ]
     },
     "metadata": {},
     "output_type": "display_data"
    },
    {
     "name": "stdout",
     "output_type": "stream",
     "text": [
      "[Train] Accuracy: 79.8%, Avg loss: 0.497792 \n",
      "\n",
      "[Test] Accuracy: 79.2%, Avg loss: 0.506876 \n",
      "\n",
      "Epoch 27\n"
     ]
    },
    {
     "data": {
      "application/vnd.jupyter.widget-view+json": {
       "model_id": "0e1c38af8abe46bc9cef02d24ddeec76",
       "version_major": 2,
       "version_minor": 0
      },
      "text/plain": [
       "  0%|          | 0/2577 [00:00<?, ?it/s]"
      ]
     },
     "metadata": {},
     "output_type": "display_data"
    },
    {
     "name": "stdout",
     "output_type": "stream",
     "text": [
      "[Train] Accuracy: 79.7%, Avg loss: 0.496152 \n",
      "\n",
      "[Test] Accuracy: 80.2%, Avg loss: 0.501983 \n",
      "\n",
      "Epoch 28\n"
     ]
    },
    {
     "data": {
      "application/vnd.jupyter.widget-view+json": {
       "model_id": "84ff39b1dea1428da3b95508535d8840",
       "version_major": 2,
       "version_minor": 0
      },
      "text/plain": [
       "  0%|          | 0/2577 [00:00<?, ?it/s]"
      ]
     },
     "metadata": {},
     "output_type": "display_data"
    },
    {
     "name": "stdout",
     "output_type": "stream",
     "text": [
      "[Train] Accuracy: 79.7%, Avg loss: 0.497244 \n",
      "\n",
      "[Test] Accuracy: 79.1%, Avg loss: 0.511702 \n",
      "\n",
      "Epoch 29\n"
     ]
    },
    {
     "data": {
      "application/vnd.jupyter.widget-view+json": {
       "model_id": "7a4ad1ee2b4d462e9be58a4f9c99ac0b",
       "version_major": 2,
       "version_minor": 0
      },
      "text/plain": [
       "  0%|          | 0/2577 [00:00<?, ?it/s]"
      ]
     },
     "metadata": {},
     "output_type": "display_data"
    },
    {
     "name": "stdout",
     "output_type": "stream",
     "text": [
      "[Train] Accuracy: 79.8%, Avg loss: 0.495406 \n",
      "\n",
      "[Test] Accuracy: 79.1%, Avg loss: 0.514692 \n",
      "\n",
      "Epoch 30\n"
     ]
    },
    {
     "data": {
      "application/vnd.jupyter.widget-view+json": {
       "model_id": "3e280cd17a4e42488c97ad2cda0b4984",
       "version_major": 2,
       "version_minor": 0
      },
      "text/plain": [
       "  0%|          | 0/2577 [00:00<?, ?it/s]"
      ]
     },
     "metadata": {},
     "output_type": "display_data"
    },
    {
     "name": "stdout",
     "output_type": "stream",
     "text": [
      "[Train] Accuracy: 79.8%, Avg loss: 0.494821 \n",
      "\n",
      "[Test] Accuracy: 80.2%, Avg loss: 0.509826 \n",
      "\n",
      "Epoch 31\n"
     ]
    },
    {
     "data": {
      "application/vnd.jupyter.widget-view+json": {
       "model_id": "6b37fbfce5b7435ba0da0d7bda474069",
       "version_major": 2,
       "version_minor": 0
      },
      "text/plain": [
       "  0%|          | 0/2577 [00:00<?, ?it/s]"
      ]
     },
     "metadata": {},
     "output_type": "display_data"
    },
    {
     "name": "stdout",
     "output_type": "stream",
     "text": [
      "[Train] Accuracy: 79.7%, Avg loss: 0.495162 \n",
      "\n",
      "[Test] Accuracy: 80.1%, Avg loss: 0.502136 \n",
      "\n",
      "Epoch 32\n"
     ]
    },
    {
     "data": {
      "application/vnd.jupyter.widget-view+json": {
       "model_id": "1e9b236d4f3947b5a1c5a0c2a312bb33",
       "version_major": 2,
       "version_minor": 0
      },
      "text/plain": [
       "  0%|          | 0/2577 [00:00<?, ?it/s]"
      ]
     },
     "metadata": {},
     "output_type": "display_data"
    },
    {
     "name": "stdout",
     "output_type": "stream",
     "text": [
      "[Train] Accuracy: 79.7%, Avg loss: 0.494399 \n",
      "\n",
      "[Test] Accuracy: 79.7%, Avg loss: 0.511654 \n",
      "\n",
      "Epoch 33\n"
     ]
    },
    {
     "data": {
      "application/vnd.jupyter.widget-view+json": {
       "model_id": "3c916a264045428c96c05567655a7922",
       "version_major": 2,
       "version_minor": 0
      },
      "text/plain": [
       "  0%|          | 0/2577 [00:00<?, ?it/s]"
      ]
     },
     "metadata": {},
     "output_type": "display_data"
    },
    {
     "name": "stdout",
     "output_type": "stream",
     "text": [
      "[Train] Accuracy: 79.8%, Avg loss: 0.494505 \n",
      "\n",
      "[Test] Accuracy: 79.5%, Avg loss: 0.506182 \n",
      "\n",
      "Epoch 34\n"
     ]
    },
    {
     "data": {
      "application/vnd.jupyter.widget-view+json": {
       "model_id": "b4deea9762184be183aacf7262e0dd8e",
       "version_major": 2,
       "version_minor": 0
      },
      "text/plain": [
       "  0%|          | 0/2577 [00:00<?, ?it/s]"
      ]
     },
     "metadata": {},
     "output_type": "display_data"
    },
    {
     "name": "stdout",
     "output_type": "stream",
     "text": [
      "[Train] Accuracy: 79.8%, Avg loss: 0.493400 \n",
      "\n",
      "[Test] Accuracy: 79.5%, Avg loss: 0.499154 \n",
      "\n",
      "Epoch 35\n"
     ]
    },
    {
     "data": {
      "application/vnd.jupyter.widget-view+json": {
       "model_id": "a2740622d0294ab9b01f6eb4935c5276",
       "version_major": 2,
       "version_minor": 0
      },
      "text/plain": [
       "  0%|          | 0/2577 [00:00<?, ?it/s]"
      ]
     },
     "metadata": {},
     "output_type": "display_data"
    },
    {
     "name": "stdout",
     "output_type": "stream",
     "text": [
      "[Train] Accuracy: 79.8%, Avg loss: 0.492613 \n",
      "\n",
      "[Test] Accuracy: 79.0%, Avg loss: 0.516373 \n",
      "\n",
      "Epoch 36\n"
     ]
    },
    {
     "data": {
      "application/vnd.jupyter.widget-view+json": {
       "model_id": "7981ac6e70bf4b27940cbc90d0fb2689",
       "version_major": 2,
       "version_minor": 0
      },
      "text/plain": [
       "  0%|          | 0/2577 [00:00<?, ?it/s]"
      ]
     },
     "metadata": {},
     "output_type": "display_data"
    },
    {
     "name": "stdout",
     "output_type": "stream",
     "text": [
      "[Train] Accuracy: 79.9%, Avg loss: 0.492697 \n",
      "\n",
      "[Test] Accuracy: 79.8%, Avg loss: 0.504016 \n",
      "\n",
      "Epoch 37\n"
     ]
    },
    {
     "data": {
      "application/vnd.jupyter.widget-view+json": {
       "model_id": "022ca517f1a847fd9fbdd3bbcf60bcce",
       "version_major": 2,
       "version_minor": 0
      },
      "text/plain": [
       "  0%|          | 0/2577 [00:00<?, ?it/s]"
      ]
     },
     "metadata": {},
     "output_type": "display_data"
    },
    {
     "name": "stdout",
     "output_type": "stream",
     "text": [
      "[Train] Accuracy: 79.9%, Avg loss: 0.492011 \n",
      "\n",
      "[Test] Accuracy: 80.3%, Avg loss: 0.509060 \n",
      "\n",
      "Epoch 38\n"
     ]
    },
    {
     "data": {
      "application/vnd.jupyter.widget-view+json": {
       "model_id": "87ccec56b7714caf97411ddaab1f3b65",
       "version_major": 2,
       "version_minor": 0
      },
      "text/plain": [
       "  0%|          | 0/2577 [00:00<?, ?it/s]"
      ]
     },
     "metadata": {},
     "output_type": "display_data"
    },
    {
     "name": "stdout",
     "output_type": "stream",
     "text": [
      "[Train] Accuracy: 79.8%, Avg loss: 0.492679 \n",
      "\n",
      "[Test] Accuracy: 79.7%, Avg loss: 0.508771 \n",
      "\n",
      "Epoch 39\n"
     ]
    },
    {
     "data": {
      "application/vnd.jupyter.widget-view+json": {
       "model_id": "2bdd1f8adc5d4e51a1b1298be406689e",
       "version_major": 2,
       "version_minor": 0
      },
      "text/plain": [
       "  0%|          | 0/2577 [00:00<?, ?it/s]"
      ]
     },
     "metadata": {},
     "output_type": "display_data"
    },
    {
     "name": "stdout",
     "output_type": "stream",
     "text": [
      "[Train] Accuracy: 79.8%, Avg loss: 0.492271 \n",
      "\n",
      "[Test] Accuracy: 79.3%, Avg loss: 0.500988 \n",
      "\n",
      "Epoch 40\n"
     ]
    },
    {
     "data": {
      "application/vnd.jupyter.widget-view+json": {
       "model_id": "aae3d9e660894cae862a656ef1446a3a",
       "version_major": 2,
       "version_minor": 0
      },
      "text/plain": [
       "  0%|          | 0/2577 [00:00<?, ?it/s]"
      ]
     },
     "metadata": {},
     "output_type": "display_data"
    },
    {
     "name": "stdout",
     "output_type": "stream",
     "text": [
      "[Train] Accuracy: 79.9%, Avg loss: 0.490922 \n",
      "\n",
      "[Test] Accuracy: 79.7%, Avg loss: 0.507643 \n",
      "\n",
      "Epoch 41\n"
     ]
    },
    {
     "data": {
      "application/vnd.jupyter.widget-view+json": {
       "model_id": "0adf2a857f044f7f8d20df8a03eee21d",
       "version_major": 2,
       "version_minor": 0
      },
      "text/plain": [
       "  0%|          | 0/2577 [00:00<?, ?it/s]"
      ]
     },
     "metadata": {},
     "output_type": "display_data"
    },
    {
     "name": "stdout",
     "output_type": "stream",
     "text": [
      "[Train] Accuracy: 79.9%, Avg loss: 0.490092 \n",
      "\n",
      "[Test] Accuracy: 79.9%, Avg loss: 0.495321 \n",
      "\n",
      "Epoch 42\n"
     ]
    },
    {
     "data": {
      "application/vnd.jupyter.widget-view+json": {
       "model_id": "2896c62b48f043c38e42a683d82c561a",
       "version_major": 2,
       "version_minor": 0
      },
      "text/plain": [
       "  0%|          | 0/2577 [00:00<?, ?it/s]"
      ]
     },
     "metadata": {},
     "output_type": "display_data"
    },
    {
     "name": "stdout",
     "output_type": "stream",
     "text": [
      "[Train] Accuracy: 79.9%, Avg loss: 0.490177 \n",
      "\n",
      "[Test] Accuracy: 78.8%, Avg loss: 0.529233 \n",
      "\n",
      "Epoch 43\n"
     ]
    },
    {
     "data": {
      "application/vnd.jupyter.widget-view+json": {
       "model_id": "3428f02872fc467785ec5bb075449219",
       "version_major": 2,
       "version_minor": 0
      },
      "text/plain": [
       "  0%|          | 0/2577 [00:00<?, ?it/s]"
      ]
     },
     "metadata": {},
     "output_type": "display_data"
    },
    {
     "name": "stdout",
     "output_type": "stream",
     "text": [
      "[Train] Accuracy: 79.9%, Avg loss: 0.490470 \n",
      "\n",
      "[Test] Accuracy: 79.9%, Avg loss: 0.499310 \n",
      "\n",
      "Epoch 44\n"
     ]
    },
    {
     "data": {
      "application/vnd.jupyter.widget-view+json": {
       "model_id": "eec60d47e6404d33afca5521b16229c9",
       "version_major": 2,
       "version_minor": 0
      },
      "text/plain": [
       "  0%|          | 0/2577 [00:00<?, ?it/s]"
      ]
     },
     "metadata": {},
     "output_type": "display_data"
    },
    {
     "name": "stdout",
     "output_type": "stream",
     "text": [
      "[Train] Accuracy: 80.0%, Avg loss: 0.488920 \n",
      "\n",
      "[Test] Accuracy: 79.6%, Avg loss: 0.494794 \n",
      "\n",
      "Epoch 45\n"
     ]
    },
    {
     "data": {
      "application/vnd.jupyter.widget-view+json": {
       "model_id": "e2b5239b946342c0b8c598a163b2ca1e",
       "version_major": 2,
       "version_minor": 0
      },
      "text/plain": [
       "  0%|          | 0/2577 [00:00<?, ?it/s]"
      ]
     },
     "metadata": {},
     "output_type": "display_data"
    },
    {
     "name": "stdout",
     "output_type": "stream",
     "text": [
      "[Train] Accuracy: 80.0%, Avg loss: 0.486882 \n",
      "\n",
      "[Test] Accuracy: 80.1%, Avg loss: 0.494837 \n",
      "\n",
      "Epoch 46\n"
     ]
    },
    {
     "data": {
      "application/vnd.jupyter.widget-view+json": {
       "model_id": "fc955bd62da94e04a190517267ab4513",
       "version_major": 2,
       "version_minor": 0
      },
      "text/plain": [
       "  0%|          | 0/2577 [00:00<?, ?it/s]"
      ]
     },
     "metadata": {},
     "output_type": "display_data"
    },
    {
     "name": "stdout",
     "output_type": "stream",
     "text": [
      "[Train] Accuracy: 79.9%, Avg loss: 0.488364 \n",
      "\n",
      "[Test] Accuracy: 78.7%, Avg loss: 0.508093 \n",
      "\n",
      "Epoch 47\n"
     ]
    },
    {
     "data": {
      "application/vnd.jupyter.widget-view+json": {
       "model_id": "56a964ac0a6f4818a987656c38c95432",
       "version_major": 2,
       "version_minor": 0
      },
      "text/plain": [
       "  0%|          | 0/2577 [00:00<?, ?it/s]"
      ]
     },
     "metadata": {},
     "output_type": "display_data"
    },
    {
     "name": "stdout",
     "output_type": "stream",
     "text": [
      "[Train] Accuracy: 80.1%, Avg loss: 0.487116 \n",
      "\n",
      "[Test] Accuracy: 79.8%, Avg loss: 0.495808 \n",
      "\n",
      "Epoch 48\n"
     ]
    },
    {
     "data": {
      "application/vnd.jupyter.widget-view+json": {
       "model_id": "23824f519a0f4351a298c713e7a01530",
       "version_major": 2,
       "version_minor": 0
      },
      "text/plain": [
       "  0%|          | 0/2577 [00:00<?, ?it/s]"
      ]
     },
     "metadata": {},
     "output_type": "display_data"
    },
    {
     "name": "stdout",
     "output_type": "stream",
     "text": [
      "[Train] Accuracy: 80.0%, Avg loss: 0.486397 \n",
      "\n",
      "[Test] Accuracy: 79.8%, Avg loss: 0.493281 \n",
      "\n",
      "Epoch 49\n"
     ]
    },
    {
     "data": {
      "application/vnd.jupyter.widget-view+json": {
       "model_id": "951f83fa8a7843878bee8d73ae167430",
       "version_major": 2,
       "version_minor": 0
      },
      "text/plain": [
       "  0%|          | 0/2577 [00:00<?, ?it/s]"
      ]
     },
     "metadata": {},
     "output_type": "display_data"
    },
    {
     "name": "stdout",
     "output_type": "stream",
     "text": [
      "[Train] Accuracy: 80.1%, Avg loss: 0.485779 \n",
      "\n",
      "[Test] Accuracy: 79.0%, Avg loss: 0.527700 \n",
      "\n",
      "Epoch 50\n"
     ]
    },
    {
     "data": {
      "application/vnd.jupyter.widget-view+json": {
       "model_id": "8ba9346d41da4d9b9e9cb15bedf8818f",
       "version_major": 2,
       "version_minor": 0
      },
      "text/plain": [
       "  0%|          | 0/2577 [00:00<?, ?it/s]"
      ]
     },
     "metadata": {},
     "output_type": "display_data"
    },
    {
     "name": "stdout",
     "output_type": "stream",
     "text": [
      "[Train] Accuracy: 80.0%, Avg loss: 0.486912 \n",
      "\n",
      "[Test] Accuracy: 78.3%, Avg loss: 0.525288 \n",
      "\n",
      "Epoch 51\n"
     ]
    },
    {
     "data": {
      "application/vnd.jupyter.widget-view+json": {
       "model_id": "e46d351170f64e6ba89e62aae9f62920",
       "version_major": 2,
       "version_minor": 0
      },
      "text/plain": [
       "  0%|          | 0/2577 [00:00<?, ?it/s]"
      ]
     },
     "metadata": {},
     "output_type": "display_data"
    },
    {
     "name": "stdout",
     "output_type": "stream",
     "text": [
      "[Train] Accuracy: 80.1%, Avg loss: 0.485523 \n",
      "\n",
      "[Test] Accuracy: 79.9%, Avg loss: 0.492800 \n",
      "\n",
      "Epoch 52\n"
     ]
    },
    {
     "data": {
      "application/vnd.jupyter.widget-view+json": {
       "model_id": "082a9d9161af4656b9ba0ad7850c7988",
       "version_major": 2,
       "version_minor": 0
      },
      "text/plain": [
       "  0%|          | 0/2577 [00:00<?, ?it/s]"
      ]
     },
     "metadata": {},
     "output_type": "display_data"
    },
    {
     "name": "stdout",
     "output_type": "stream",
     "text": [
      "[Train] Accuracy: 80.0%, Avg loss: 0.485952 \n",
      "\n",
      "[Test] Accuracy: 79.6%, Avg loss: 0.509184 \n",
      "\n",
      "Epoch 53\n"
     ]
    },
    {
     "data": {
      "application/vnd.jupyter.widget-view+json": {
       "model_id": "64e2e5c3e39142beae28f610930b7774",
       "version_major": 2,
       "version_minor": 0
      },
      "text/plain": [
       "  0%|          | 0/2577 [00:00<?, ?it/s]"
      ]
     },
     "metadata": {},
     "output_type": "display_data"
    },
    {
     "name": "stdout",
     "output_type": "stream",
     "text": [
      "[Train] Accuracy: 80.2%, Avg loss: 0.485346 \n",
      "\n",
      "[Test] Accuracy: 79.4%, Avg loss: 0.502140 \n",
      "\n",
      "Epoch 54\n"
     ]
    },
    {
     "data": {
      "application/vnd.jupyter.widget-view+json": {
       "model_id": "f35ddcfb3f0948b385a749572ccc22f6",
       "version_major": 2,
       "version_minor": 0
      },
      "text/plain": [
       "  0%|          | 0/2577 [00:00<?, ?it/s]"
      ]
     },
     "metadata": {},
     "output_type": "display_data"
    },
    {
     "name": "stdout",
     "output_type": "stream",
     "text": [
      "[Train] Accuracy: 80.0%, Avg loss: 0.485148 \n",
      "\n",
      "[Test] Accuracy: 79.6%, Avg loss: 0.501397 \n",
      "\n",
      "Epoch 55\n"
     ]
    },
    {
     "data": {
      "application/vnd.jupyter.widget-view+json": {
       "model_id": "9d0f599af22341dab9d419294a74c5a1",
       "version_major": 2,
       "version_minor": 0
      },
      "text/plain": [
       "  0%|          | 0/2577 [00:00<?, ?it/s]"
      ]
     },
     "metadata": {},
     "output_type": "display_data"
    },
    {
     "name": "stdout",
     "output_type": "stream",
     "text": [
      "[Train] Accuracy: 80.1%, Avg loss: 0.484799 \n",
      "\n",
      "[Test] Accuracy: 80.4%, Avg loss: 0.491396 \n",
      "\n",
      "Epoch 56\n"
     ]
    },
    {
     "data": {
      "application/vnd.jupyter.widget-view+json": {
       "model_id": "1c594745174c4891a0ca3d8838b944d5",
       "version_major": 2,
       "version_minor": 0
      },
      "text/plain": [
       "  0%|          | 0/2577 [00:00<?, ?it/s]"
      ]
     },
     "metadata": {},
     "output_type": "display_data"
    },
    {
     "name": "stdout",
     "output_type": "stream",
     "text": [
      "[Train] Accuracy: 80.1%, Avg loss: 0.484780 \n",
      "\n",
      "[Test] Accuracy: 79.6%, Avg loss: 0.501794 \n",
      "\n",
      "Epoch 57\n"
     ]
    },
    {
     "data": {
      "application/vnd.jupyter.widget-view+json": {
       "model_id": "bfdb74290abd453c862963256d61d2dd",
       "version_major": 2,
       "version_minor": 0
      },
      "text/plain": [
       "  0%|          | 0/2577 [00:00<?, ?it/s]"
      ]
     },
     "metadata": {},
     "output_type": "display_data"
    },
    {
     "name": "stdout",
     "output_type": "stream",
     "text": [
      "[Train] Accuracy: 80.2%, Avg loss: 0.484315 \n",
      "\n",
      "[Test] Accuracy: 80.6%, Avg loss: 0.493511 \n",
      "\n",
      "Epoch 58\n"
     ]
    },
    {
     "data": {
      "application/vnd.jupyter.widget-view+json": {
       "model_id": "013b13eae019418bb1e1ac08123fdd21",
       "version_major": 2,
       "version_minor": 0
      },
      "text/plain": [
       "  0%|          | 0/2577 [00:00<?, ?it/s]"
      ]
     },
     "metadata": {},
     "output_type": "display_data"
    },
    {
     "name": "stdout",
     "output_type": "stream",
     "text": [
      "[Train] Accuracy: 80.1%, Avg loss: 0.483450 \n",
      "\n",
      "[Test] Accuracy: 80.5%, Avg loss: 0.490479 \n",
      "\n",
      "Epoch 59\n"
     ]
    },
    {
     "data": {
      "application/vnd.jupyter.widget-view+json": {
       "model_id": "b92976fbe67d4670a44f27e8c8b5a54d",
       "version_major": 2,
       "version_minor": 0
      },
      "text/plain": [
       "  0%|          | 0/2577 [00:00<?, ?it/s]"
      ]
     },
     "metadata": {},
     "output_type": "display_data"
    },
    {
     "name": "stdout",
     "output_type": "stream",
     "text": [
      "[Train] Accuracy: 80.1%, Avg loss: 0.483815 \n",
      "\n",
      "[Test] Accuracy: 79.3%, Avg loss: 0.497961 \n",
      "\n",
      "Epoch 60\n"
     ]
    },
    {
     "data": {
      "application/vnd.jupyter.widget-view+json": {
       "model_id": "837a3e91befa43d7b042da793ba27478",
       "version_major": 2,
       "version_minor": 0
      },
      "text/plain": [
       "  0%|          | 0/2577 [00:00<?, ?it/s]"
      ]
     },
     "metadata": {},
     "output_type": "display_data"
    },
    {
     "name": "stdout",
     "output_type": "stream",
     "text": [
      "[Train] Accuracy: 80.2%, Avg loss: 0.482859 \n",
      "\n",
      "[Test] Accuracy: 79.3%, Avg loss: 0.502861 \n",
      "\n",
      "Epoch 61\n"
     ]
    },
    {
     "data": {
      "application/vnd.jupyter.widget-view+json": {
       "model_id": "2cfe55c928464eceac76c641d5f6ae3a",
       "version_major": 2,
       "version_minor": 0
      },
      "text/plain": [
       "  0%|          | 0/2577 [00:00<?, ?it/s]"
      ]
     },
     "metadata": {},
     "output_type": "display_data"
    },
    {
     "name": "stdout",
     "output_type": "stream",
     "text": [
      "[Train] Accuracy: 80.1%, Avg loss: 0.482592 \n",
      "\n",
      "[Test] Accuracy: 79.4%, Avg loss: 0.503694 \n",
      "\n",
      "Epoch 62\n"
     ]
    },
    {
     "data": {
      "application/vnd.jupyter.widget-view+json": {
       "model_id": "d32a90590fbe4aa89369661cad7bdc73",
       "version_major": 2,
       "version_minor": 0
      },
      "text/plain": [
       "  0%|          | 0/2577 [00:00<?, ?it/s]"
      ]
     },
     "metadata": {},
     "output_type": "display_data"
    },
    {
     "name": "stdout",
     "output_type": "stream",
     "text": [
      "[Train] Accuracy: 80.3%, Avg loss: 0.480957 \n",
      "\n",
      "[Test] Accuracy: 79.7%, Avg loss: 0.513182 \n",
      "\n",
      "Epoch 63\n"
     ]
    },
    {
     "data": {
      "application/vnd.jupyter.widget-view+json": {
       "model_id": "2f5fb28d4ed84990bd200341fb90373f",
       "version_major": 2,
       "version_minor": 0
      },
      "text/plain": [
       "  0%|          | 0/2577 [00:00<?, ?it/s]"
      ]
     },
     "metadata": {},
     "output_type": "display_data"
    },
    {
     "name": "stdout",
     "output_type": "stream",
     "text": [
      "[Train] Accuracy: 80.1%, Avg loss: 0.482448 \n",
      "\n",
      "[Test] Accuracy: 80.4%, Avg loss: 0.495051 \n",
      "\n",
      "Epoch 64\n"
     ]
    },
    {
     "data": {
      "application/vnd.jupyter.widget-view+json": {
       "model_id": "3ed6db057c264457bc57b7ef1be87992",
       "version_major": 2,
       "version_minor": 0
      },
      "text/plain": [
       "  0%|          | 0/2577 [00:00<?, ?it/s]"
      ]
     },
     "metadata": {},
     "output_type": "display_data"
    },
    {
     "name": "stdout",
     "output_type": "stream",
     "text": [
      "[Train] Accuracy: 80.3%, Avg loss: 0.481279 \n",
      "\n",
      "[Test] Accuracy: 80.4%, Avg loss: 0.492587 \n",
      "\n",
      "Epoch 65\n"
     ]
    },
    {
     "data": {
      "application/vnd.jupyter.widget-view+json": {
       "model_id": "c3f10bedbff44148903dc0e68ccb9dc4",
       "version_major": 2,
       "version_minor": 0
      },
      "text/plain": [
       "  0%|          | 0/2577 [00:00<?, ?it/s]"
      ]
     },
     "metadata": {},
     "output_type": "display_data"
    },
    {
     "name": "stdout",
     "output_type": "stream",
     "text": [
      "[Train] Accuracy: 80.2%, Avg loss: 0.480798 \n",
      "\n",
      "[Test] Accuracy: 80.0%, Avg loss: 0.505736 \n",
      "\n",
      "Epoch 66\n"
     ]
    },
    {
     "data": {
      "application/vnd.jupyter.widget-view+json": {
       "model_id": "5516f1dde3e443b5b5f1b05a7ae857a3",
       "version_major": 2,
       "version_minor": 0
      },
      "text/plain": [
       "  0%|          | 0/2577 [00:00<?, ?it/s]"
      ]
     },
     "metadata": {},
     "output_type": "display_data"
    },
    {
     "name": "stdout",
     "output_type": "stream",
     "text": [
      "[Train] Accuracy: 80.2%, Avg loss: 0.479690 \n",
      "\n",
      "[Test] Accuracy: 80.0%, Avg loss: 0.498453 \n",
      "\n",
      "Epoch 67\n"
     ]
    },
    {
     "data": {
      "application/vnd.jupyter.widget-view+json": {
       "model_id": "42e1d51839e843b0a2fec5ff5ea38440",
       "version_major": 2,
       "version_minor": 0
      },
      "text/plain": [
       "  0%|          | 0/2577 [00:00<?, ?it/s]"
      ]
     },
     "metadata": {},
     "output_type": "display_data"
    },
    {
     "name": "stdout",
     "output_type": "stream",
     "text": [
      "[Train] Accuracy: 80.4%, Avg loss: 0.479597 \n",
      "\n",
      "[Test] Accuracy: 80.7%, Avg loss: 0.485443 \n",
      "\n",
      "Epoch 68\n"
     ]
    },
    {
     "data": {
      "application/vnd.jupyter.widget-view+json": {
       "model_id": "4891adbfe88e4b95b31caf0fc784739d",
       "version_major": 2,
       "version_minor": 0
      },
      "text/plain": [
       "  0%|          | 0/2577 [00:00<?, ?it/s]"
      ]
     },
     "metadata": {},
     "output_type": "display_data"
    },
    {
     "name": "stdout",
     "output_type": "stream",
     "text": [
      "[Train] Accuracy: 80.4%, Avg loss: 0.478983 \n",
      "\n",
      "[Test] Accuracy: 80.6%, Avg loss: 0.496007 \n",
      "\n",
      "Epoch 69\n"
     ]
    },
    {
     "data": {
      "application/vnd.jupyter.widget-view+json": {
       "model_id": "2d3891e1bbfe4d389e09f687b043e43f",
       "version_major": 2,
       "version_minor": 0
      },
      "text/plain": [
       "  0%|          | 0/2577 [00:00<?, ?it/s]"
      ]
     },
     "metadata": {},
     "output_type": "display_data"
    },
    {
     "name": "stdout",
     "output_type": "stream",
     "text": [
      "[Train] Accuracy: 80.3%, Avg loss: 0.478904 \n",
      "\n",
      "[Test] Accuracy: 80.4%, Avg loss: 0.497477 \n",
      "\n",
      "Epoch 70\n"
     ]
    },
    {
     "data": {
      "application/vnd.jupyter.widget-view+json": {
       "model_id": "c77240479a7b4b6f960b7c62df883046",
       "version_major": 2,
       "version_minor": 0
      },
      "text/plain": [
       "  0%|          | 0/2577 [00:00<?, ?it/s]"
      ]
     },
     "metadata": {},
     "output_type": "display_data"
    },
    {
     "name": "stdout",
     "output_type": "stream",
     "text": [
      "[Train] Accuracy: 80.4%, Avg loss: 0.477716 \n",
      "\n",
      "[Test] Accuracy: 80.3%, Avg loss: 0.510809 \n",
      "\n",
      "Epoch 71\n"
     ]
    },
    {
     "data": {
      "application/vnd.jupyter.widget-view+json": {
       "model_id": "59cc844af58a4c93bc7632d41822d81a",
       "version_major": 2,
       "version_minor": 0
      },
      "text/plain": [
       "  0%|          | 0/2577 [00:00<?, ?it/s]"
      ]
     },
     "metadata": {},
     "output_type": "display_data"
    },
    {
     "name": "stdout",
     "output_type": "stream",
     "text": [
      "[Train] Accuracy: 80.3%, Avg loss: 0.480006 \n",
      "\n",
      "[Test] Accuracy: 80.2%, Avg loss: 0.486489 \n",
      "\n",
      "Epoch 72\n"
     ]
    },
    {
     "data": {
      "application/vnd.jupyter.widget-view+json": {
       "model_id": "5d84808c05744c8c81109183fb24afff",
       "version_major": 2,
       "version_minor": 0
      },
      "text/plain": [
       "  0%|          | 0/2577 [00:00<?, ?it/s]"
      ]
     },
     "metadata": {},
     "output_type": "display_data"
    },
    {
     "name": "stdout",
     "output_type": "stream",
     "text": [
      "[Train] Accuracy: 80.3%, Avg loss: 0.478594 \n",
      "\n",
      "[Test] Accuracy: 80.6%, Avg loss: 0.482419 \n",
      "\n",
      "Epoch 73\n"
     ]
    },
    {
     "data": {
      "application/vnd.jupyter.widget-view+json": {
       "model_id": "61b5b6298f8f4aa0b838c02294b9b3eb",
       "version_major": 2,
       "version_minor": 0
      },
      "text/plain": [
       "  0%|          | 0/2577 [00:00<?, ?it/s]"
      ]
     },
     "metadata": {},
     "output_type": "display_data"
    },
    {
     "name": "stdout",
     "output_type": "stream",
     "text": [
      "[Train] Accuracy: 80.3%, Avg loss: 0.479211 \n",
      "\n",
      "[Test] Accuracy: 80.4%, Avg loss: 0.498214 \n",
      "\n",
      "Epoch 74\n"
     ]
    },
    {
     "data": {
      "application/vnd.jupyter.widget-view+json": {
       "model_id": "38ecf74bba3245afa5ba768defee6fbd",
       "version_major": 2,
       "version_minor": 0
      },
      "text/plain": [
       "  0%|          | 0/2577 [00:00<?, ?it/s]"
      ]
     },
     "metadata": {},
     "output_type": "display_data"
    },
    {
     "name": "stdout",
     "output_type": "stream",
     "text": [
      "[Train] Accuracy: 80.4%, Avg loss: 0.477606 \n",
      "\n",
      "[Test] Accuracy: 78.9%, Avg loss: 0.517730 \n",
      "\n",
      "Epoch 75\n"
     ]
    },
    {
     "data": {
      "application/vnd.jupyter.widget-view+json": {
       "model_id": "1094f80a79a9494ca3e6ae4a87e5c275",
       "version_major": 2,
       "version_minor": 0
      },
      "text/plain": [
       "  0%|          | 0/2577 [00:00<?, ?it/s]"
      ]
     },
     "metadata": {},
     "output_type": "display_data"
    },
    {
     "name": "stdout",
     "output_type": "stream",
     "text": [
      "[Train] Accuracy: 80.3%, Avg loss: 0.478214 \n",
      "\n",
      "[Test] Accuracy: 79.5%, Avg loss: 0.490548 \n",
      "\n",
      "Epoch 76\n"
     ]
    },
    {
     "data": {
      "application/vnd.jupyter.widget-view+json": {
       "model_id": "677df0953556400f8b24647d33651ef4",
       "version_major": 2,
       "version_minor": 0
      },
      "text/plain": [
       "  0%|          | 0/2577 [00:00<?, ?it/s]"
      ]
     },
     "metadata": {},
     "output_type": "display_data"
    },
    {
     "name": "stdout",
     "output_type": "stream",
     "text": [
      "[Train] Accuracy: 80.4%, Avg loss: 0.477215 \n",
      "\n",
      "[Test] Accuracy: 79.8%, Avg loss: 0.499206 \n",
      "\n",
      "Epoch 77\n"
     ]
    },
    {
     "data": {
      "application/vnd.jupyter.widget-view+json": {
       "model_id": "516ca4884cf8483b98be7d6dd8c6f323",
       "version_major": 2,
       "version_minor": 0
      },
      "text/plain": [
       "  0%|          | 0/2577 [00:00<?, ?it/s]"
      ]
     },
     "metadata": {},
     "output_type": "display_data"
    },
    {
     "name": "stdout",
     "output_type": "stream",
     "text": [
      "[Train] Accuracy: 80.4%, Avg loss: 0.477790 \n",
      "\n",
      "[Test] Accuracy: 80.3%, Avg loss: 0.494325 \n",
      "\n",
      "Epoch 78\n"
     ]
    },
    {
     "data": {
      "application/vnd.jupyter.widget-view+json": {
       "model_id": "95862bd3fa494b02a2a2b29e43ff1cdd",
       "version_major": 2,
       "version_minor": 0
      },
      "text/plain": [
       "  0%|          | 0/2577 [00:00<?, ?it/s]"
      ]
     },
     "metadata": {},
     "output_type": "display_data"
    },
    {
     "name": "stdout",
     "output_type": "stream",
     "text": [
      "[Train] Accuracy: 80.3%, Avg loss: 0.476854 \n",
      "\n",
      "[Test] Accuracy: 80.5%, Avg loss: 0.489037 \n",
      "\n",
      "Epoch 79\n"
     ]
    },
    {
     "data": {
      "application/vnd.jupyter.widget-view+json": {
       "model_id": "399b9061486243b5a502083c97956bd2",
       "version_major": 2,
       "version_minor": 0
      },
      "text/plain": [
       "  0%|          | 0/2577 [00:00<?, ?it/s]"
      ]
     },
     "metadata": {},
     "output_type": "display_data"
    },
    {
     "name": "stdout",
     "output_type": "stream",
     "text": [
      "[Train] Accuracy: 80.4%, Avg loss: 0.475460 \n",
      "\n",
      "[Test] Accuracy: 79.8%, Avg loss: 0.502578 \n",
      "\n",
      "Epoch 80\n"
     ]
    },
    {
     "data": {
      "application/vnd.jupyter.widget-view+json": {
       "model_id": "3531e27b53104e1da06364e2b640b5f0",
       "version_major": 2,
       "version_minor": 0
      },
      "text/plain": [
       "  0%|          | 0/2577 [00:00<?, ?it/s]"
      ]
     },
     "metadata": {},
     "output_type": "display_data"
    },
    {
     "name": "stdout",
     "output_type": "stream",
     "text": [
      "[Train] Accuracy: 80.4%, Avg loss: 0.476191 \n",
      "\n",
      "[Test] Accuracy: 80.7%, Avg loss: 0.502896 \n",
      "\n",
      "Epoch 81\n"
     ]
    },
    {
     "data": {
      "application/vnd.jupyter.widget-view+json": {
       "model_id": "f58584acbdc64fab8d7c4c2ba16c24b1",
       "version_major": 2,
       "version_minor": 0
      },
      "text/plain": [
       "  0%|          | 0/2577 [00:00<?, ?it/s]"
      ]
     },
     "metadata": {},
     "output_type": "display_data"
    },
    {
     "name": "stdout",
     "output_type": "stream",
     "text": [
      "[Train] Accuracy: 80.4%, Avg loss: 0.476304 \n",
      "\n",
      "[Test] Accuracy: 79.9%, Avg loss: 0.484246 \n",
      "\n",
      "Epoch 82\n"
     ]
    },
    {
     "data": {
      "application/vnd.jupyter.widget-view+json": {
       "model_id": "02852163892f496385d944d55776808a",
       "version_major": 2,
       "version_minor": 0
      },
      "text/plain": [
       "  0%|          | 0/2577 [00:00<?, ?it/s]"
      ]
     },
     "metadata": {},
     "output_type": "display_data"
    },
    {
     "name": "stdout",
     "output_type": "stream",
     "text": [
      "[Train] Accuracy: 80.4%, Avg loss: 0.475670 \n",
      "\n",
      "[Test] Accuracy: 79.6%, Avg loss: 0.495217 \n",
      "\n",
      "Epoch 83\n"
     ]
    },
    {
     "data": {
      "application/vnd.jupyter.widget-view+json": {
       "model_id": "6009e8bcffef472ab5b068890a6c642b",
       "version_major": 2,
       "version_minor": 0
      },
      "text/plain": [
       "  0%|          | 0/2577 [00:00<?, ?it/s]"
      ]
     },
     "metadata": {},
     "output_type": "display_data"
    },
    {
     "name": "stdout",
     "output_type": "stream",
     "text": [
      "[Train] Accuracy: 80.4%, Avg loss: 0.475559 \n",
      "\n",
      "[Test] Accuracy: 80.6%, Avg loss: 0.486554 \n",
      "\n",
      "Epoch 84\n"
     ]
    },
    {
     "data": {
      "application/vnd.jupyter.widget-view+json": {
       "model_id": "ce41a6d733d34e299d60f392c51272e6",
       "version_major": 2,
       "version_minor": 0
      },
      "text/plain": [
       "  0%|          | 0/2577 [00:00<?, ?it/s]"
      ]
     },
     "metadata": {},
     "output_type": "display_data"
    },
    {
     "name": "stdout",
     "output_type": "stream",
     "text": [
      "[Train] Accuracy: 80.5%, Avg loss: 0.475759 \n",
      "\n",
      "[Test] Accuracy: 80.0%, Avg loss: 0.488330 \n",
      "\n",
      "Epoch 85\n"
     ]
    },
    {
     "data": {
      "application/vnd.jupyter.widget-view+json": {
       "model_id": "0bde19a13d3840bbaabd805f0afeb7b2",
       "version_major": 2,
       "version_minor": 0
      },
      "text/plain": [
       "  0%|          | 0/2577 [00:00<?, ?it/s]"
      ]
     },
     "metadata": {},
     "output_type": "display_data"
    },
    {
     "name": "stdout",
     "output_type": "stream",
     "text": [
      "[Train] Accuracy: 80.4%, Avg loss: 0.474476 \n",
      "\n",
      "[Test] Accuracy: 79.8%, Avg loss: 0.488460 \n",
      "\n",
      "Epoch 86\n"
     ]
    },
    {
     "data": {
      "application/vnd.jupyter.widget-view+json": {
       "model_id": "dfa2d52185664484ba58d8cebf8b5402",
       "version_major": 2,
       "version_minor": 0
      },
      "text/plain": [
       "  0%|          | 0/2577 [00:00<?, ?it/s]"
      ]
     },
     "metadata": {},
     "output_type": "display_data"
    },
    {
     "name": "stdout",
     "output_type": "stream",
     "text": [
      "[Train] Accuracy: 80.5%, Avg loss: 0.474969 \n",
      "\n",
      "[Test] Accuracy: 79.5%, Avg loss: 0.497730 \n",
      "\n",
      "Epoch 87\n"
     ]
    },
    {
     "data": {
      "application/vnd.jupyter.widget-view+json": {
       "model_id": "021de1aa12dd4c8db4228aed42822e5e",
       "version_major": 2,
       "version_minor": 0
      },
      "text/plain": [
       "  0%|          | 0/2577 [00:00<?, ?it/s]"
      ]
     },
     "metadata": {},
     "output_type": "display_data"
    },
    {
     "name": "stdout",
     "output_type": "stream",
     "text": [
      "[Train] Accuracy: 80.5%, Avg loss: 0.474848 \n",
      "\n",
      "[Test] Accuracy: 80.4%, Avg loss: 0.490584 \n",
      "\n",
      "Epoch 88\n"
     ]
    },
    {
     "data": {
      "application/vnd.jupyter.widget-view+json": {
       "model_id": "0f1667988d644ed89ad3bf6a466db8f1",
       "version_major": 2,
       "version_minor": 0
      },
      "text/plain": [
       "  0%|          | 0/2577 [00:00<?, ?it/s]"
      ]
     },
     "metadata": {},
     "output_type": "display_data"
    },
    {
     "name": "stdout",
     "output_type": "stream",
     "text": [
      "[Train] Accuracy: 80.5%, Avg loss: 0.474183 \n",
      "\n",
      "[Test] Accuracy: 80.7%, Avg loss: 0.487841 \n",
      "\n",
      "Epoch 89\n"
     ]
    },
    {
     "data": {
      "application/vnd.jupyter.widget-view+json": {
       "model_id": "59234aef0f0f49a9ada91e4002256265",
       "version_major": 2,
       "version_minor": 0
      },
      "text/plain": [
       "  0%|          | 0/2577 [00:00<?, ?it/s]"
      ]
     },
     "metadata": {},
     "output_type": "display_data"
    },
    {
     "name": "stdout",
     "output_type": "stream",
     "text": [
      "[Train] Accuracy: 80.5%, Avg loss: 0.474029 \n",
      "\n",
      "[Test] Accuracy: 79.8%, Avg loss: 0.490330 \n",
      "\n",
      "Epoch 90\n"
     ]
    },
    {
     "data": {
      "application/vnd.jupyter.widget-view+json": {
       "model_id": "d42022dea3c84c59af2339b4156695b5",
       "version_major": 2,
       "version_minor": 0
      },
      "text/plain": [
       "  0%|          | 0/2577 [00:00<?, ?it/s]"
      ]
     },
     "metadata": {},
     "output_type": "display_data"
    },
    {
     "name": "stdout",
     "output_type": "stream",
     "text": [
      "[Train] Accuracy: 80.5%, Avg loss: 0.473600 \n",
      "\n",
      "[Test] Accuracy: 79.3%, Avg loss: 0.499431 \n",
      "\n",
      "Epoch 91\n"
     ]
    },
    {
     "data": {
      "application/vnd.jupyter.widget-view+json": {
       "model_id": "cb8b347083b443b08a92e1b9da9198d1",
       "version_major": 2,
       "version_minor": 0
      },
      "text/plain": [
       "  0%|          | 0/2577 [00:00<?, ?it/s]"
      ]
     },
     "metadata": {},
     "output_type": "display_data"
    },
    {
     "name": "stdout",
     "output_type": "stream",
     "text": [
      "[Train] Accuracy: 80.5%, Avg loss: 0.473480 \n",
      "\n",
      "[Test] Accuracy: 80.8%, Avg loss: 0.485423 \n",
      "\n",
      "Epoch 92\n"
     ]
    },
    {
     "data": {
      "application/vnd.jupyter.widget-view+json": {
       "model_id": "0413ad6e2b8e42d684cb71e98f094197",
       "version_major": 2,
       "version_minor": 0
      },
      "text/plain": [
       "  0%|          | 0/2577 [00:00<?, ?it/s]"
      ]
     },
     "metadata": {},
     "output_type": "display_data"
    },
    {
     "name": "stdout",
     "output_type": "stream",
     "text": [
      "[Train] Accuracy: 80.6%, Avg loss: 0.473080 \n",
      "\n",
      "[Test] Accuracy: 80.7%, Avg loss: 0.484459 \n",
      "\n",
      "Epoch 93\n"
     ]
    },
    {
     "data": {
      "application/vnd.jupyter.widget-view+json": {
       "model_id": "14955a6585354ae8865bf30e506f1cc8",
       "version_major": 2,
       "version_minor": 0
      },
      "text/plain": [
       "  0%|          | 0/2577 [00:00<?, ?it/s]"
      ]
     },
     "metadata": {},
     "output_type": "display_data"
    },
    {
     "name": "stdout",
     "output_type": "stream",
     "text": [
      "[Train] Accuracy: 80.4%, Avg loss: 0.474451 \n",
      "\n",
      "[Test] Accuracy: 80.9%, Avg loss: 0.486568 \n",
      "\n",
      "Epoch 94\n"
     ]
    },
    {
     "data": {
      "application/vnd.jupyter.widget-view+json": {
       "model_id": "bfd4aa7bd6894b14b1c29850fa88302e",
       "version_major": 2,
       "version_minor": 0
      },
      "text/plain": [
       "  0%|          | 0/2577 [00:00<?, ?it/s]"
      ]
     },
     "metadata": {},
     "output_type": "display_data"
    },
    {
     "name": "stdout",
     "output_type": "stream",
     "text": [
      "[Train] Accuracy: 80.6%, Avg loss: 0.472430 \n",
      "\n",
      "[Test] Accuracy: 79.7%, Avg loss: 0.494277 \n",
      "\n",
      "Epoch 95\n"
     ]
    },
    {
     "data": {
      "application/vnd.jupyter.widget-view+json": {
       "model_id": "2bdd264b51c1470a9d2c3a4cac247796",
       "version_major": 2,
       "version_minor": 0
      },
      "text/plain": [
       "  0%|          | 0/2577 [00:00<?, ?it/s]"
      ]
     },
     "metadata": {},
     "output_type": "display_data"
    },
    {
     "name": "stdout",
     "output_type": "stream",
     "text": [
      "[Train] Accuracy: 80.6%, Avg loss: 0.472292 \n",
      "\n",
      "[Test] Accuracy: 80.6%, Avg loss: 0.491591 \n",
      "\n",
      "Epoch 96\n"
     ]
    },
    {
     "data": {
      "application/vnd.jupyter.widget-view+json": {
       "model_id": "164a2b1f38b04e6ebf67baa41e92213f",
       "version_major": 2,
       "version_minor": 0
      },
      "text/plain": [
       "  0%|          | 0/2577 [00:00<?, ?it/s]"
      ]
     },
     "metadata": {},
     "output_type": "display_data"
    },
    {
     "name": "stdout",
     "output_type": "stream",
     "text": [
      "[Train] Accuracy: 80.6%, Avg loss: 0.471657 \n",
      "\n",
      "[Test] Accuracy: 80.8%, Avg loss: 0.483200 \n",
      "\n",
      "Epoch 97\n"
     ]
    },
    {
     "data": {
      "application/vnd.jupyter.widget-view+json": {
       "model_id": "9d8fd4d8a7eb423dacd482c26f9d8a6e",
       "version_major": 2,
       "version_minor": 0
      },
      "text/plain": [
       "  0%|          | 0/2577 [00:00<?, ?it/s]"
      ]
     },
     "metadata": {},
     "output_type": "display_data"
    },
    {
     "name": "stdout",
     "output_type": "stream",
     "text": [
      "[Train] Accuracy: 80.6%, Avg loss: 0.472814 \n",
      "\n",
      "[Test] Accuracy: 79.6%, Avg loss: 0.495711 \n",
      "\n",
      "Epoch 98\n"
     ]
    },
    {
     "data": {
      "application/vnd.jupyter.widget-view+json": {
       "model_id": "24fd1c9b989c4a65aa6da57e1eb6c887",
       "version_major": 2,
       "version_minor": 0
      },
      "text/plain": [
       "  0%|          | 0/2577 [00:00<?, ?it/s]"
      ]
     },
     "metadata": {},
     "output_type": "display_data"
    },
    {
     "name": "stdout",
     "output_type": "stream",
     "text": [
      "[Train] Accuracy: 80.6%, Avg loss: 0.472911 \n",
      "\n",
      "[Test] Accuracy: 80.6%, Avg loss: 0.495741 \n",
      "\n",
      "Epoch 99\n"
     ]
    },
    {
     "data": {
      "application/vnd.jupyter.widget-view+json": {
       "model_id": "96796a2d7a8346078dbb45739a511bbc",
       "version_major": 2,
       "version_minor": 0
      },
      "text/plain": [
       "  0%|          | 0/2577 [00:00<?, ?it/s]"
      ]
     },
     "metadata": {},
     "output_type": "display_data"
    },
    {
     "name": "stdout",
     "output_type": "stream",
     "text": [
      "[Train] Accuracy: 80.5%, Avg loss: 0.470427 \n",
      "\n",
      "[Test] Accuracy: 80.0%, Avg loss: 0.509320 \n",
      "\n",
      "Epoch 100\n"
     ]
    },
    {
     "data": {
      "application/vnd.jupyter.widget-view+json": {
       "model_id": "fd1a85c18b0844c8bfda33608381f848",
       "version_major": 2,
       "version_minor": 0
      },
      "text/plain": [
       "  0%|          | 0/2577 [00:00<?, ?it/s]"
      ]
     },
     "metadata": {},
     "output_type": "display_data"
    },
    {
     "name": "stdout",
     "output_type": "stream",
     "text": [
      "[Train] Accuracy: 80.5%, Avg loss: 0.471142 \n",
      "\n",
      "[Test] Accuracy: 80.3%, Avg loss: 0.503054 \n",
      "\n",
      "Epoch 101\n"
     ]
    },
    {
     "data": {
      "application/vnd.jupyter.widget-view+json": {
       "model_id": "f4bc9a49b5f648e8b168254a7bf4fa40",
       "version_major": 2,
       "version_minor": 0
      },
      "text/plain": [
       "  0%|          | 0/2577 [00:00<?, ?it/s]"
      ]
     },
     "metadata": {},
     "output_type": "display_data"
    },
    {
     "name": "stdout",
     "output_type": "stream",
     "text": [
      "[Train] Accuracy: 80.7%, Avg loss: 0.470894 \n",
      "\n",
      "[Test] Accuracy: 80.1%, Avg loss: 0.494761 \n",
      "\n",
      "Epoch 102\n"
     ]
    },
    {
     "data": {
      "application/vnd.jupyter.widget-view+json": {
       "model_id": "93f161ac1fc14dd0a3e45bdc6b7bb491",
       "version_major": 2,
       "version_minor": 0
      },
      "text/plain": [
       "  0%|          | 0/2577 [00:00<?, ?it/s]"
      ]
     },
     "metadata": {},
     "output_type": "display_data"
    },
    {
     "name": "stdout",
     "output_type": "stream",
     "text": [
      "[Train] Accuracy: 80.6%, Avg loss: 0.471967 \n",
      "\n",
      "[Test] Accuracy: 80.5%, Avg loss: 0.503471 \n",
      "\n",
      "Epoch 103\n"
     ]
    },
    {
     "data": {
      "application/vnd.jupyter.widget-view+json": {
       "model_id": "787cc4ff04fe44608cf32b3b5ba38659",
       "version_major": 2,
       "version_minor": 0
      },
      "text/plain": [
       "  0%|          | 0/2577 [00:00<?, ?it/s]"
      ]
     },
     "metadata": {},
     "output_type": "display_data"
    },
    {
     "name": "stdout",
     "output_type": "stream",
     "text": [
      "[Train] Accuracy: 80.6%, Avg loss: 0.470896 \n",
      "\n",
      "[Test] Accuracy: 80.9%, Avg loss: 0.484110 \n",
      "\n",
      "Epoch 104\n"
     ]
    },
    {
     "data": {
      "application/vnd.jupyter.widget-view+json": {
       "model_id": "822554704a844785b1644da2f69c64d9",
       "version_major": 2,
       "version_minor": 0
      },
      "text/plain": [
       "  0%|          | 0/2577 [00:00<?, ?it/s]"
      ]
     },
     "metadata": {},
     "output_type": "display_data"
    },
    {
     "name": "stdout",
     "output_type": "stream",
     "text": [
      "[Train] Accuracy: 80.7%, Avg loss: 0.471009 \n",
      "\n",
      "[Test] Accuracy: 80.6%, Avg loss: 0.485891 \n",
      "\n",
      "Epoch 105\n"
     ]
    },
    {
     "data": {
      "application/vnd.jupyter.widget-view+json": {
       "model_id": "7cc1409439b042c38151ab1433bfe585",
       "version_major": 2,
       "version_minor": 0
      },
      "text/plain": [
       "  0%|          | 0/2577 [00:00<?, ?it/s]"
      ]
     },
     "metadata": {},
     "output_type": "display_data"
    },
    {
     "name": "stdout",
     "output_type": "stream",
     "text": [
      "[Train] Accuracy: 80.6%, Avg loss: 0.470742 \n",
      "\n",
      "[Test] Accuracy: 80.9%, Avg loss: 0.481791 \n",
      "\n",
      "Epoch 106\n"
     ]
    },
    {
     "data": {
      "application/vnd.jupyter.widget-view+json": {
       "model_id": "9d74e80f17964b9d8c10e11510f21783",
       "version_major": 2,
       "version_minor": 0
      },
      "text/plain": [
       "  0%|          | 0/2577 [00:00<?, ?it/s]"
      ]
     },
     "metadata": {},
     "output_type": "display_data"
    },
    {
     "name": "stdout",
     "output_type": "stream",
     "text": [
      "[Train] Accuracy: 80.5%, Avg loss: 0.473202 \n",
      "\n",
      "[Test] Accuracy: 80.1%, Avg loss: 0.492587 \n",
      "\n",
      "Epoch 107\n"
     ]
    },
    {
     "data": {
      "application/vnd.jupyter.widget-view+json": {
       "model_id": "ace83cf0780146a18697fe3ad3ff94ee",
       "version_major": 2,
       "version_minor": 0
      },
      "text/plain": [
       "  0%|          | 0/2577 [00:00<?, ?it/s]"
      ]
     },
     "metadata": {},
     "output_type": "display_data"
    },
    {
     "name": "stdout",
     "output_type": "stream",
     "text": [
      "[Train] Accuracy: 80.6%, Avg loss: 0.471005 \n",
      "\n",
      "[Test] Accuracy: 79.8%, Avg loss: 0.502585 \n",
      "\n",
      "Epoch 108\n"
     ]
    },
    {
     "data": {
      "application/vnd.jupyter.widget-view+json": {
       "model_id": "e051fe47fa784d34bfa1bffca45f3035",
       "version_major": 2,
       "version_minor": 0
      },
      "text/plain": [
       "  0%|          | 0/2577 [00:00<?, ?it/s]"
      ]
     },
     "metadata": {},
     "output_type": "display_data"
    },
    {
     "name": "stdout",
     "output_type": "stream",
     "text": [
      "[Train] Accuracy: 80.6%, Avg loss: 0.472083 \n",
      "\n",
      "[Test] Accuracy: 80.7%, Avg loss: 0.484617 \n",
      "\n",
      "Epoch 109\n"
     ]
    },
    {
     "data": {
      "application/vnd.jupyter.widget-view+json": {
       "model_id": "a368ba3f83314eec97cb109510aa8a67",
       "version_major": 2,
       "version_minor": 0
      },
      "text/plain": [
       "  0%|          | 0/2577 [00:00<?, ?it/s]"
      ]
     },
     "metadata": {},
     "output_type": "display_data"
    },
    {
     "name": "stdout",
     "output_type": "stream",
     "text": [
      "[Train] Accuracy: 80.7%, Avg loss: 0.471010 \n",
      "\n",
      "[Test] Accuracy: 80.4%, Avg loss: 0.496689 \n",
      "\n",
      "Epoch 110\n"
     ]
    },
    {
     "data": {
      "application/vnd.jupyter.widget-view+json": {
       "model_id": "0652e06df77149c0b1095b8315fe7afc",
       "version_major": 2,
       "version_minor": 0
      },
      "text/plain": [
       "  0%|          | 0/2577 [00:00<?, ?it/s]"
      ]
     },
     "metadata": {},
     "output_type": "display_data"
    },
    {
     "name": "stdout",
     "output_type": "stream",
     "text": [
      "[Train] Accuracy: 80.6%, Avg loss: 0.472425 \n",
      "\n",
      "[Test] Accuracy: 80.1%, Avg loss: 0.491024 \n",
      "\n",
      "Epoch 111\n"
     ]
    },
    {
     "data": {
      "application/vnd.jupyter.widget-view+json": {
       "model_id": "6fd67e891c1e48c39b58d01234e36d36",
       "version_major": 2,
       "version_minor": 0
      },
      "text/plain": [
       "  0%|          | 0/2577 [00:00<?, ?it/s]"
      ]
     },
     "metadata": {},
     "output_type": "display_data"
    },
    {
     "name": "stdout",
     "output_type": "stream",
     "text": [
      "[Train] Accuracy: 80.6%, Avg loss: 0.470369 \n",
      "\n",
      "[Test] Accuracy: 79.9%, Avg loss: 0.490547 \n",
      "\n",
      "Epoch 112\n"
     ]
    },
    {
     "data": {
      "application/vnd.jupyter.widget-view+json": {
       "model_id": "eaca721f87f942639d88be5c5288bed8",
       "version_major": 2,
       "version_minor": 0
      },
      "text/plain": [
       "  0%|          | 0/2577 [00:00<?, ?it/s]"
      ]
     },
     "metadata": {},
     "output_type": "display_data"
    },
    {
     "name": "stdout",
     "output_type": "stream",
     "text": [
      "[Train] Accuracy: 80.7%, Avg loss: 0.469947 \n",
      "\n",
      "[Test] Accuracy: 80.5%, Avg loss: 0.493591 \n",
      "\n",
      "Epoch 113\n"
     ]
    },
    {
     "data": {
      "application/vnd.jupyter.widget-view+json": {
       "model_id": "295477ba984249d69369d84d02a7b23e",
       "version_major": 2,
       "version_minor": 0
      },
      "text/plain": [
       "  0%|          | 0/2577 [00:00<?, ?it/s]"
      ]
     },
     "metadata": {},
     "output_type": "display_data"
    },
    {
     "name": "stdout",
     "output_type": "stream",
     "text": [
      "[Train] Accuracy: 80.7%, Avg loss: 0.469625 \n",
      "\n",
      "[Test] Accuracy: 79.7%, Avg loss: 0.493343 \n",
      "\n",
      "Epoch 114\n"
     ]
    },
    {
     "data": {
      "application/vnd.jupyter.widget-view+json": {
       "model_id": "6b7cf4f9a365453bb00da46adb0650cc",
       "version_major": 2,
       "version_minor": 0
      },
      "text/plain": [
       "  0%|          | 0/2577 [00:00<?, ?it/s]"
      ]
     },
     "metadata": {},
     "output_type": "display_data"
    },
    {
     "name": "stdout",
     "output_type": "stream",
     "text": [
      "[Train] Accuracy: 80.6%, Avg loss: 0.470018 \n",
      "\n",
      "[Test] Accuracy: 80.3%, Avg loss: 0.489029 \n",
      "\n",
      "Epoch 115\n"
     ]
    },
    {
     "data": {
      "application/vnd.jupyter.widget-view+json": {
       "model_id": "8ba80f29418245ada09ad73b671553a3",
       "version_major": 2,
       "version_minor": 0
      },
      "text/plain": [
       "  0%|          | 0/2577 [00:00<?, ?it/s]"
      ]
     },
     "metadata": {},
     "output_type": "display_data"
    },
    {
     "name": "stdout",
     "output_type": "stream",
     "text": [
      "[Train] Accuracy: 80.7%, Avg loss: 0.468041 \n",
      "\n",
      "[Test] Accuracy: 80.6%, Avg loss: 0.490120 \n",
      "\n",
      "Epoch 116\n"
     ]
    },
    {
     "data": {
      "application/vnd.jupyter.widget-view+json": {
       "model_id": "24c78b65883e4183a0640db51be5853c",
       "version_major": 2,
       "version_minor": 0
      },
      "text/plain": [
       "  0%|          | 0/2577 [00:00<?, ?it/s]"
      ]
     },
     "metadata": {},
     "output_type": "display_data"
    },
    {
     "name": "stdout",
     "output_type": "stream",
     "text": [
      "[Train] Accuracy: 80.6%, Avg loss: 0.468661 \n",
      "\n",
      "[Test] Accuracy: 80.7%, Avg loss: 0.480466 \n",
      "\n",
      "Epoch 117\n"
     ]
    },
    {
     "data": {
      "application/vnd.jupyter.widget-view+json": {
       "model_id": "36ca15e405ef4fcd847d9688d726240b",
       "version_major": 2,
       "version_minor": 0
      },
      "text/plain": [
       "  0%|          | 0/2577 [00:00<?, ?it/s]"
      ]
     },
     "metadata": {},
     "output_type": "display_data"
    },
    {
     "name": "stdout",
     "output_type": "stream",
     "text": [
      "[Train] Accuracy: 80.7%, Avg loss: 0.469510 \n",
      "\n",
      "[Test] Accuracy: 80.4%, Avg loss: 0.483270 \n",
      "\n",
      "Epoch 118\n"
     ]
    },
    {
     "data": {
      "application/vnd.jupyter.widget-view+json": {
       "model_id": "aab39bb3e82f4ae2b8f39a12720dcdc7",
       "version_major": 2,
       "version_minor": 0
      },
      "text/plain": [
       "  0%|          | 0/2577 [00:00<?, ?it/s]"
      ]
     },
     "metadata": {},
     "output_type": "display_data"
    },
    {
     "name": "stdout",
     "output_type": "stream",
     "text": [
      "[Train] Accuracy: 80.7%, Avg loss: 0.469594 \n",
      "\n",
      "[Test] Accuracy: 80.2%, Avg loss: 0.491345 \n",
      "\n",
      "Epoch 119\n"
     ]
    },
    {
     "data": {
      "application/vnd.jupyter.widget-view+json": {
       "model_id": "61521c6722104b0cb9c1e7240ba6d07a",
       "version_major": 2,
       "version_minor": 0
      },
      "text/plain": [
       "  0%|          | 0/2577 [00:00<?, ?it/s]"
      ]
     },
     "metadata": {},
     "output_type": "display_data"
    },
    {
     "name": "stdout",
     "output_type": "stream",
     "text": [
      "[Train] Accuracy: 80.7%, Avg loss: 0.469082 \n",
      "\n",
      "[Test] Accuracy: 80.0%, Avg loss: 0.490189 \n",
      "\n",
      "Epoch 120\n"
     ]
    },
    {
     "data": {
      "application/vnd.jupyter.widget-view+json": {
       "model_id": "4a70ab4e01f942b4abd69029577cb80b",
       "version_major": 2,
       "version_minor": 0
      },
      "text/plain": [
       "  0%|          | 0/2577 [00:00<?, ?it/s]"
      ]
     },
     "metadata": {},
     "output_type": "display_data"
    },
    {
     "name": "stdout",
     "output_type": "stream",
     "text": [
      "[Train] Accuracy: 80.7%, Avg loss: 0.470477 \n",
      "\n",
      "[Test] Accuracy: 78.8%, Avg loss: 0.492688 \n",
      "\n",
      "Epoch 121\n"
     ]
    },
    {
     "data": {
      "application/vnd.jupyter.widget-view+json": {
       "model_id": "2d0eae4404004a728892ca7b91cd39ef",
       "version_major": 2,
       "version_minor": 0
      },
      "text/plain": [
       "  0%|          | 0/2577 [00:00<?, ?it/s]"
      ]
     },
     "metadata": {},
     "output_type": "display_data"
    },
    {
     "name": "stdout",
     "output_type": "stream",
     "text": [
      "[Train] Accuracy: 80.8%, Avg loss: 0.468222 \n",
      "\n",
      "[Test] Accuracy: 80.6%, Avg loss: 0.486937 \n",
      "\n",
      "Epoch 122\n"
     ]
    },
    {
     "data": {
      "application/vnd.jupyter.widget-view+json": {
       "model_id": "579b9de139794490bde05950a6c661a4",
       "version_major": 2,
       "version_minor": 0
      },
      "text/plain": [
       "  0%|          | 0/2577 [00:00<?, ?it/s]"
      ]
     },
     "metadata": {},
     "output_type": "display_data"
    },
    {
     "name": "stdout",
     "output_type": "stream",
     "text": [
      "[Train] Accuracy: 80.9%, Avg loss: 0.467296 \n",
      "\n",
      "[Test] Accuracy: 80.3%, Avg loss: 0.485978 \n",
      "\n",
      "Epoch 123\n"
     ]
    },
    {
     "data": {
      "application/vnd.jupyter.widget-view+json": {
       "model_id": "51a1599917f84e2c8e51640e0a857336",
       "version_major": 2,
       "version_minor": 0
      },
      "text/plain": [
       "  0%|          | 0/2577 [00:00<?, ?it/s]"
      ]
     },
     "metadata": {},
     "output_type": "display_data"
    },
    {
     "name": "stdout",
     "output_type": "stream",
     "text": [
      "[Train] Accuracy: 80.7%, Avg loss: 0.467526 \n",
      "\n",
      "[Test] Accuracy: 80.9%, Avg loss: 0.487564 \n",
      "\n",
      "Epoch 124\n"
     ]
    },
    {
     "data": {
      "application/vnd.jupyter.widget-view+json": {
       "model_id": "cbe6e0605f5140d894c14526099d20a0",
       "version_major": 2,
       "version_minor": 0
      },
      "text/plain": [
       "  0%|          | 0/2577 [00:00<?, ?it/s]"
      ]
     },
     "metadata": {},
     "output_type": "display_data"
    },
    {
     "name": "stdout",
     "output_type": "stream",
     "text": [
      "[Train] Accuracy: 80.8%, Avg loss: 0.467475 \n",
      "\n",
      "[Test] Accuracy: 80.0%, Avg loss: 0.491017 \n",
      "\n",
      "Epoch 125\n"
     ]
    },
    {
     "data": {
      "application/vnd.jupyter.widget-view+json": {
       "model_id": "bb1e084f7dba4fc0a6cc0d935dc6cb3d",
       "version_major": 2,
       "version_minor": 0
      },
      "text/plain": [
       "  0%|          | 0/2577 [00:00<?, ?it/s]"
      ]
     },
     "metadata": {},
     "output_type": "display_data"
    },
    {
     "name": "stdout",
     "output_type": "stream",
     "text": [
      "[Train] Accuracy: 80.7%, Avg loss: 0.467773 \n",
      "\n",
      "[Test] Accuracy: 80.7%, Avg loss: 0.483283 \n",
      "\n",
      "Epoch 126\n"
     ]
    },
    {
     "data": {
      "application/vnd.jupyter.widget-view+json": {
       "model_id": "69b2cdd84aac41b1967cc02e2e0d2c9a",
       "version_major": 2,
       "version_minor": 0
      },
      "text/plain": [
       "  0%|          | 0/2577 [00:00<?, ?it/s]"
      ]
     },
     "metadata": {},
     "output_type": "display_data"
    },
    {
     "name": "stdout",
     "output_type": "stream",
     "text": [
      "[Train] Accuracy: 80.8%, Avg loss: 0.466369 \n",
      "\n",
      "[Test] Accuracy: 80.7%, Avg loss: 0.486025 \n",
      "\n",
      "Epoch 127\n"
     ]
    },
    {
     "data": {
      "application/vnd.jupyter.widget-view+json": {
       "model_id": "5409fcd34bb442d88e4297c8d318ddde",
       "version_major": 2,
       "version_minor": 0
      },
      "text/plain": [
       "  0%|          | 0/2577 [00:00<?, ?it/s]"
      ]
     },
     "metadata": {},
     "output_type": "display_data"
    },
    {
     "name": "stdout",
     "output_type": "stream",
     "text": [
      "[Train] Accuracy: 80.8%, Avg loss: 0.467607 \n",
      "\n",
      "[Test] Accuracy: 80.7%, Avg loss: 0.484849 \n",
      "\n",
      "Epoch 128\n"
     ]
    },
    {
     "data": {
      "application/vnd.jupyter.widget-view+json": {
       "model_id": "d0f4ac0a99764f6d8b8ece6b6ce6be3d",
       "version_major": 2,
       "version_minor": 0
      },
      "text/plain": [
       "  0%|          | 0/2577 [00:00<?, ?it/s]"
      ]
     },
     "metadata": {},
     "output_type": "display_data"
    },
    {
     "name": "stdout",
     "output_type": "stream",
     "text": [
      "[Train] Accuracy: 80.8%, Avg loss: 0.466734 \n",
      "\n",
      "[Test] Accuracy: 80.8%, Avg loss: 0.489117 \n",
      "\n",
      "Epoch 129\n"
     ]
    },
    {
     "data": {
      "application/vnd.jupyter.widget-view+json": {
       "model_id": "6b54041ff4774b999704d033240da073",
       "version_major": 2,
       "version_minor": 0
      },
      "text/plain": [
       "  0%|          | 0/2577 [00:00<?, ?it/s]"
      ]
     },
     "metadata": {},
     "output_type": "display_data"
    },
    {
     "name": "stdout",
     "output_type": "stream",
     "text": [
      "[Train] Accuracy: 80.8%, Avg loss: 0.466041 \n",
      "\n",
      "[Test] Accuracy: 80.7%, Avg loss: 0.486051 \n",
      "\n",
      "Epoch 130\n"
     ]
    },
    {
     "data": {
      "application/vnd.jupyter.widget-view+json": {
       "model_id": "0799e59a46fc44e0847b56579004cd54",
       "version_major": 2,
       "version_minor": 0
      },
      "text/plain": [
       "  0%|          | 0/2577 [00:00<?, ?it/s]"
      ]
     },
     "metadata": {},
     "output_type": "display_data"
    },
    {
     "name": "stdout",
     "output_type": "stream",
     "text": [
      "[Train] Accuracy: 80.9%, Avg loss: 0.465234 \n",
      "\n",
      "[Test] Accuracy: 80.3%, Avg loss: 0.499510 \n",
      "\n",
      "Epoch 131\n"
     ]
    },
    {
     "data": {
      "application/vnd.jupyter.widget-view+json": {
       "model_id": "7fc1a7b2352e48e0b2588022fdc8d058",
       "version_major": 2,
       "version_minor": 0
      },
      "text/plain": [
       "  0%|          | 0/2577 [00:00<?, ?it/s]"
      ]
     },
     "metadata": {},
     "output_type": "display_data"
    },
    {
     "name": "stdout",
     "output_type": "stream",
     "text": [
      "[Train] Accuracy: 80.8%, Avg loss: 0.465771 \n",
      "\n",
      "[Test] Accuracy: 80.8%, Avg loss: 0.494503 \n",
      "\n",
      "Epoch 132\n"
     ]
    },
    {
     "data": {
      "application/vnd.jupyter.widget-view+json": {
       "model_id": "db662d90f8bf42048fb766baea7c010c",
       "version_major": 2,
       "version_minor": 0
      },
      "text/plain": [
       "  0%|          | 0/2577 [00:00<?, ?it/s]"
      ]
     },
     "metadata": {},
     "output_type": "display_data"
    },
    {
     "name": "stdout",
     "output_type": "stream",
     "text": [
      "[Train] Accuracy: 80.8%, Avg loss: 0.465465 \n",
      "\n",
      "[Test] Accuracy: 80.2%, Avg loss: 0.484224 \n",
      "\n",
      "Epoch 133\n"
     ]
    },
    {
     "data": {
      "application/vnd.jupyter.widget-view+json": {
       "model_id": "4b664c0fd388403a83ecc0d08dc86693",
       "version_major": 2,
       "version_minor": 0
      },
      "text/plain": [
       "  0%|          | 0/2577 [00:00<?, ?it/s]"
      ]
     },
     "metadata": {},
     "output_type": "display_data"
    },
    {
     "name": "stdout",
     "output_type": "stream",
     "text": [
      "[Train] Accuracy: 80.8%, Avg loss: 0.464484 \n",
      "\n",
      "[Test] Accuracy: 80.5%, Avg loss: 0.491519 \n",
      "\n",
      "Epoch 134\n"
     ]
    },
    {
     "data": {
      "application/vnd.jupyter.widget-view+json": {
       "model_id": "3be16df563a64ea0b4c54c50e7adf440",
       "version_major": 2,
       "version_minor": 0
      },
      "text/plain": [
       "  0%|          | 0/2577 [00:00<?, ?it/s]"
      ]
     },
     "metadata": {},
     "output_type": "display_data"
    },
    {
     "name": "stdout",
     "output_type": "stream",
     "text": [
      "[Train] Accuracy: 80.9%, Avg loss: 0.464619 \n",
      "\n",
      "[Test] Accuracy: 80.2%, Avg loss: 0.489504 \n",
      "\n",
      "Epoch 135\n"
     ]
    },
    {
     "data": {
      "application/vnd.jupyter.widget-view+json": {
       "model_id": "6b5a7d579c1d4c7093fe89cb0a6edd77",
       "version_major": 2,
       "version_minor": 0
      },
      "text/plain": [
       "  0%|          | 0/2577 [00:00<?, ?it/s]"
      ]
     },
     "metadata": {},
     "output_type": "display_data"
    },
    {
     "name": "stdout",
     "output_type": "stream",
     "text": [
      "[Train] Accuracy: 80.8%, Avg loss: 0.464080 \n",
      "\n",
      "[Test] Accuracy: 80.8%, Avg loss: 0.479973 \n",
      "\n",
      "Epoch 136\n"
     ]
    },
    {
     "data": {
      "application/vnd.jupyter.widget-view+json": {
       "model_id": "ae8506d0887a4d46bd4994b85fb60331",
       "version_major": 2,
       "version_minor": 0
      },
      "text/plain": [
       "  0%|          | 0/2577 [00:00<?, ?it/s]"
      ]
     },
     "metadata": {},
     "output_type": "display_data"
    },
    {
     "name": "stdout",
     "output_type": "stream",
     "text": [
      "[Train] Accuracy: 80.8%, Avg loss: 0.464387 \n",
      "\n",
      "[Test] Accuracy: 80.6%, Avg loss: 0.490250 \n",
      "\n",
      "Epoch 137\n"
     ]
    },
    {
     "data": {
      "application/vnd.jupyter.widget-view+json": {
       "model_id": "16971b300ae741f5a88cd9c61c9d87a5",
       "version_major": 2,
       "version_minor": 0
      },
      "text/plain": [
       "  0%|          | 0/2577 [00:00<?, ?it/s]"
      ]
     },
     "metadata": {},
     "output_type": "display_data"
    },
    {
     "name": "stdout",
     "output_type": "stream",
     "text": [
      "[Train] Accuracy: 80.9%, Avg loss: 0.464611 \n",
      "\n",
      "[Test] Accuracy: 79.9%, Avg loss: 0.498865 \n",
      "\n",
      "Epoch 138\n"
     ]
    },
    {
     "data": {
      "application/vnd.jupyter.widget-view+json": {
       "model_id": "371ac12cfa1d4d258665370d64e67ddf",
       "version_major": 2,
       "version_minor": 0
      },
      "text/plain": [
       "  0%|          | 0/2577 [00:00<?, ?it/s]"
      ]
     },
     "metadata": {},
     "output_type": "display_data"
    },
    {
     "name": "stdout",
     "output_type": "stream",
     "text": [
      "[Train] Accuracy: 80.8%, Avg loss: 0.464552 \n",
      "\n",
      "[Test] Accuracy: 80.7%, Avg loss: 0.479287 \n",
      "\n",
      "Epoch 139\n"
     ]
    },
    {
     "data": {
      "application/vnd.jupyter.widget-view+json": {
       "model_id": "20e7680c0aa84d989bd365239b981e88",
       "version_major": 2,
       "version_minor": 0
      },
      "text/plain": [
       "  0%|          | 0/2577 [00:00<?, ?it/s]"
      ]
     },
     "metadata": {},
     "output_type": "display_data"
    },
    {
     "name": "stdout",
     "output_type": "stream",
     "text": [
      "[Train] Accuracy: 80.7%, Avg loss: 0.464783 \n",
      "\n",
      "[Test] Accuracy: 80.9%, Avg loss: 0.483688 \n",
      "\n",
      "Epoch 140\n"
     ]
    },
    {
     "data": {
      "application/vnd.jupyter.widget-view+json": {
       "model_id": "98dcb1aaa01b473ca2c567bd909d3c0b",
       "version_major": 2,
       "version_minor": 0
      },
      "text/plain": [
       "  0%|          | 0/2577 [00:00<?, ?it/s]"
      ]
     },
     "metadata": {},
     "output_type": "display_data"
    },
    {
     "name": "stdout",
     "output_type": "stream",
     "text": [
      "[Train] Accuracy: 80.8%, Avg loss: 0.463505 \n",
      "\n",
      "[Test] Accuracy: 80.5%, Avg loss: 0.483767 \n",
      "\n",
      "Epoch 141\n"
     ]
    },
    {
     "data": {
      "application/vnd.jupyter.widget-view+json": {
       "model_id": "0341a8a576854873996cd6cd567be5fc",
       "version_major": 2,
       "version_minor": 0
      },
      "text/plain": [
       "  0%|          | 0/2577 [00:00<?, ?it/s]"
      ]
     },
     "metadata": {},
     "output_type": "display_data"
    },
    {
     "name": "stdout",
     "output_type": "stream",
     "text": [
      "[Train] Accuracy: 80.9%, Avg loss: 0.463416 \n",
      "\n",
      "[Test] Accuracy: 80.7%, Avg loss: 0.479930 \n",
      "\n",
      "Epoch 142\n"
     ]
    },
    {
     "data": {
      "application/vnd.jupyter.widget-view+json": {
       "model_id": "6448d776082147d3afa1604d1aa56c88",
       "version_major": 2,
       "version_minor": 0
      },
      "text/plain": [
       "  0%|          | 0/2577 [00:00<?, ?it/s]"
      ]
     },
     "metadata": {},
     "output_type": "display_data"
    },
    {
     "name": "stdout",
     "output_type": "stream",
     "text": [
      "[Train] Accuracy: 80.9%, Avg loss: 0.463128 \n",
      "\n",
      "[Test] Accuracy: 80.8%, Avg loss: 0.482414 \n",
      "\n",
      "Epoch 143\n"
     ]
    },
    {
     "data": {
      "application/vnd.jupyter.widget-view+json": {
       "model_id": "be809c3278614f8e8a779016511a8f5e",
       "version_major": 2,
       "version_minor": 0
      },
      "text/plain": [
       "  0%|          | 0/2577 [00:00<?, ?it/s]"
      ]
     },
     "metadata": {},
     "output_type": "display_data"
    },
    {
     "name": "stdout",
     "output_type": "stream",
     "text": [
      "[Train] Accuracy: 80.9%, Avg loss: 0.463334 \n",
      "\n",
      "[Test] Accuracy: 81.2%, Avg loss: 0.482863 \n",
      "\n",
      "Epoch 144\n"
     ]
    },
    {
     "data": {
      "application/vnd.jupyter.widget-view+json": {
       "model_id": "4a7c0155f73141e59874c0ab0c938115",
       "version_major": 2,
       "version_minor": 0
      },
      "text/plain": [
       "  0%|          | 0/2577 [00:00<?, ?it/s]"
      ]
     },
     "metadata": {},
     "output_type": "display_data"
    },
    {
     "name": "stdout",
     "output_type": "stream",
     "text": [
      "[Train] Accuracy: 81.0%, Avg loss: 0.463029 \n",
      "\n",
      "[Test] Accuracy: 80.8%, Avg loss: 0.476287 \n",
      "\n",
      "Epoch 145\n"
     ]
    },
    {
     "data": {
      "application/vnd.jupyter.widget-view+json": {
       "model_id": "d2e89e1680ef41cc8fa9e405417c7af0",
       "version_major": 2,
       "version_minor": 0
      },
      "text/plain": [
       "  0%|          | 0/2577 [00:00<?, ?it/s]"
      ]
     },
     "metadata": {},
     "output_type": "display_data"
    },
    {
     "name": "stdout",
     "output_type": "stream",
     "text": [
      "[Train] Accuracy: 80.9%, Avg loss: 0.462258 \n",
      "\n",
      "[Test] Accuracy: 80.9%, Avg loss: 0.488292 \n",
      "\n",
      "Epoch 146\n"
     ]
    },
    {
     "data": {
      "application/vnd.jupyter.widget-view+json": {
       "model_id": "322e3cb966604dbcae08dd37e24757de",
       "version_major": 2,
       "version_minor": 0
      },
      "text/plain": [
       "  0%|          | 0/2577 [00:00<?, ?it/s]"
      ]
     },
     "metadata": {},
     "output_type": "display_data"
    },
    {
     "name": "stdout",
     "output_type": "stream",
     "text": [
      "[Train] Accuracy: 81.0%, Avg loss: 0.461810 \n",
      "\n",
      "[Test] Accuracy: 80.3%, Avg loss: 0.491300 \n",
      "\n",
      "Epoch 147\n"
     ]
    },
    {
     "data": {
      "application/vnd.jupyter.widget-view+json": {
       "model_id": "eb864ec371244a199fae88ea663575b7",
       "version_major": 2,
       "version_minor": 0
      },
      "text/plain": [
       "  0%|          | 0/2577 [00:00<?, ?it/s]"
      ]
     },
     "metadata": {},
     "output_type": "display_data"
    },
    {
     "name": "stdout",
     "output_type": "stream",
     "text": [
      "[Train] Accuracy: 81.0%, Avg loss: 0.462122 \n",
      "\n",
      "[Test] Accuracy: 80.6%, Avg loss: 0.499363 \n",
      "\n",
      "Epoch 148\n"
     ]
    },
    {
     "data": {
      "application/vnd.jupyter.widget-view+json": {
       "model_id": "ed97a5eaf4d845578fb7874715d6a384",
       "version_major": 2,
       "version_minor": 0
      },
      "text/plain": [
       "  0%|          | 0/2577 [00:00<?, ?it/s]"
      ]
     },
     "metadata": {},
     "output_type": "display_data"
    },
    {
     "name": "stdout",
     "output_type": "stream",
     "text": [
      "[Train] Accuracy: 80.9%, Avg loss: 0.462899 \n",
      "\n",
      "[Test] Accuracy: 80.2%, Avg loss: 0.481719 \n",
      "\n",
      "Epoch 149\n"
     ]
    },
    {
     "data": {
      "application/vnd.jupyter.widget-view+json": {
       "model_id": "4322e9c71a59427fa546a4acf60c14ea",
       "version_major": 2,
       "version_minor": 0
      },
      "text/plain": [
       "  0%|          | 0/2577 [00:00<?, ?it/s]"
      ]
     },
     "metadata": {},
     "output_type": "display_data"
    },
    {
     "name": "stdout",
     "output_type": "stream",
     "text": [
      "[Train] Accuracy: 81.0%, Avg loss: 0.461727 \n",
      "\n",
      "[Test] Accuracy: 81.0%, Avg loss: 0.483710 \n",
      "\n",
      "Epoch 150\n"
     ]
    },
    {
     "data": {
      "application/vnd.jupyter.widget-view+json": {
       "model_id": "b94fc628c8ee4deca25906cb9c477de0",
       "version_major": 2,
       "version_minor": 0
      },
      "text/plain": [
       "  0%|          | 0/2577 [00:00<?, ?it/s]"
      ]
     },
     "metadata": {},
     "output_type": "display_data"
    },
    {
     "name": "stdout",
     "output_type": "stream",
     "text": [
      "[Train] Accuracy: 81.0%, Avg loss: 0.461026 \n",
      "\n",
      "[Test] Accuracy: 80.3%, Avg loss: 0.509007 \n",
      "\n",
      "Epoch 151\n"
     ]
    },
    {
     "data": {
      "application/vnd.jupyter.widget-view+json": {
       "model_id": "c895304f3f1748fb87484f5160811feb",
       "version_major": 2,
       "version_minor": 0
      },
      "text/plain": [
       "  0%|          | 0/2577 [00:00<?, ?it/s]"
      ]
     },
     "metadata": {},
     "output_type": "display_data"
    },
    {
     "name": "stdout",
     "output_type": "stream",
     "text": [
      "[Train] Accuracy: 80.9%, Avg loss: 0.461754 \n",
      "\n",
      "[Test] Accuracy: 81.0%, Avg loss: 0.475849 \n",
      "\n",
      "Epoch 152\n"
     ]
    },
    {
     "data": {
      "application/vnd.jupyter.widget-view+json": {
       "model_id": "a3a6ecc4b20f45e3a5f536637dcc79d6",
       "version_major": 2,
       "version_minor": 0
      },
      "text/plain": [
       "  0%|          | 0/2577 [00:00<?, ?it/s]"
      ]
     },
     "metadata": {},
     "output_type": "display_data"
    },
    {
     "name": "stdout",
     "output_type": "stream",
     "text": [
      "[Train] Accuracy: 81.0%, Avg loss: 0.460826 \n",
      "\n",
      "[Test] Accuracy: 80.0%, Avg loss: 0.488335 \n",
      "\n",
      "Epoch 153\n"
     ]
    },
    {
     "data": {
      "application/vnd.jupyter.widget-view+json": {
       "model_id": "d52d62d24d2e4df792257d09eeeacfcb",
       "version_major": 2,
       "version_minor": 0
      },
      "text/plain": [
       "  0%|          | 0/2577 [00:00<?, ?it/s]"
      ]
     },
     "metadata": {},
     "output_type": "display_data"
    },
    {
     "name": "stdout",
     "output_type": "stream",
     "text": [
      "[Train] Accuracy: 81.0%, Avg loss: 0.461239 \n",
      "\n",
      "[Test] Accuracy: 81.0%, Avg loss: 0.476581 \n",
      "\n",
      "Epoch 154\n"
     ]
    },
    {
     "data": {
      "application/vnd.jupyter.widget-view+json": {
       "model_id": "6f5b6819a8c74a3a89bfa74b4bc60b11",
       "version_major": 2,
       "version_minor": 0
      },
      "text/plain": [
       "  0%|          | 0/2577 [00:00<?, ?it/s]"
      ]
     },
     "metadata": {},
     "output_type": "display_data"
    },
    {
     "name": "stdout",
     "output_type": "stream",
     "text": [
      "[Train] Accuracy: 81.0%, Avg loss: 0.462141 \n",
      "\n",
      "[Test] Accuracy: 79.5%, Avg loss: 0.496014 \n",
      "\n",
      "Epoch 155\n"
     ]
    },
    {
     "data": {
      "application/vnd.jupyter.widget-view+json": {
       "model_id": "42528c86df5b4d348107f231ff85b4ba",
       "version_major": 2,
       "version_minor": 0
      },
      "text/plain": [
       "  0%|          | 0/2577 [00:00<?, ?it/s]"
      ]
     },
     "metadata": {},
     "output_type": "display_data"
    },
    {
     "name": "stdout",
     "output_type": "stream",
     "text": [
      "[Train] Accuracy: 81.1%, Avg loss: 0.461164 \n",
      "\n",
      "[Test] Accuracy: 80.3%, Avg loss: 0.495180 \n",
      "\n",
      "Epoch 156\n"
     ]
    },
    {
     "data": {
      "application/vnd.jupyter.widget-view+json": {
       "model_id": "1473b1750ac44910832c5002f73b294b",
       "version_major": 2,
       "version_minor": 0
      },
      "text/plain": [
       "  0%|          | 0/2577 [00:00<?, ?it/s]"
      ]
     },
     "metadata": {},
     "output_type": "display_data"
    },
    {
     "name": "stdout",
     "output_type": "stream",
     "text": [
      "[Train] Accuracy: 80.9%, Avg loss: 0.461397 \n",
      "\n",
      "[Test] Accuracy: 80.7%, Avg loss: 0.490396 \n",
      "\n",
      "Epoch 157\n"
     ]
    },
    {
     "data": {
      "application/vnd.jupyter.widget-view+json": {
       "model_id": "4cfd39623f5b4415a5bf574cc662cc9c",
       "version_major": 2,
       "version_minor": 0
      },
      "text/plain": [
       "  0%|          | 0/2577 [00:00<?, ?it/s]"
      ]
     },
     "metadata": {},
     "output_type": "display_data"
    },
    {
     "name": "stdout",
     "output_type": "stream",
     "text": [
      "[Train] Accuracy: 81.0%, Avg loss: 0.461254 \n",
      "\n",
      "[Test] Accuracy: 79.8%, Avg loss: 0.488768 \n",
      "\n",
      "Epoch 158\n"
     ]
    },
    {
     "data": {
      "application/vnd.jupyter.widget-view+json": {
       "model_id": "d1628b90417f4437860ad2f973404d64",
       "version_major": 2,
       "version_minor": 0
      },
      "text/plain": [
       "  0%|          | 0/2577 [00:00<?, ?it/s]"
      ]
     },
     "metadata": {},
     "output_type": "display_data"
    },
    {
     "name": "stdout",
     "output_type": "stream",
     "text": [
      "[Train] Accuracy: 80.9%, Avg loss: 0.461635 \n",
      "\n",
      "[Test] Accuracy: 79.7%, Avg loss: 0.485632 \n",
      "\n",
      "Epoch 159\n"
     ]
    },
    {
     "data": {
      "application/vnd.jupyter.widget-view+json": {
       "model_id": "a6bf7a2ce682492ea12f03ec9ddf9ef2",
       "version_major": 2,
       "version_minor": 0
      },
      "text/plain": [
       "  0%|          | 0/2577 [00:00<?, ?it/s]"
      ]
     },
     "metadata": {},
     "output_type": "display_data"
    },
    {
     "name": "stdout",
     "output_type": "stream",
     "text": [
      "[Train] Accuracy: 81.0%, Avg loss: 0.460463 \n",
      "\n",
      "[Test] Accuracy: 79.2%, Avg loss: 0.505351 \n",
      "\n",
      "Epoch 160\n"
     ]
    },
    {
     "data": {
      "application/vnd.jupyter.widget-view+json": {
       "model_id": "f6082d2bd7554687bb92d3bfb930ba0b",
       "version_major": 2,
       "version_minor": 0
      },
      "text/plain": [
       "  0%|          | 0/2577 [00:00<?, ?it/s]"
      ]
     },
     "metadata": {},
     "output_type": "display_data"
    },
    {
     "name": "stdout",
     "output_type": "stream",
     "text": [
      "[Train] Accuracy: 81.0%, Avg loss: 0.460713 \n",
      "\n",
      "[Test] Accuracy: 79.6%, Avg loss: 0.492733 \n",
      "\n",
      "Epoch 161\n"
     ]
    },
    {
     "data": {
      "application/vnd.jupyter.widget-view+json": {
       "model_id": "aeaaf0fd48194e8aa4a95ee8e891d3d9",
       "version_major": 2,
       "version_minor": 0
      },
      "text/plain": [
       "  0%|          | 0/2577 [00:00<?, ?it/s]"
      ]
     },
     "metadata": {},
     "output_type": "display_data"
    },
    {
     "name": "stdout",
     "output_type": "stream",
     "text": [
      "[Train] Accuracy: 81.0%, Avg loss: 0.460759 \n",
      "\n",
      "[Test] Accuracy: 79.9%, Avg loss: 0.486498 \n",
      "\n",
      "Epoch 162\n"
     ]
    },
    {
     "data": {
      "application/vnd.jupyter.widget-view+json": {
       "model_id": "a6e6fc02614f45daaad7bde46178a2eb",
       "version_major": 2,
       "version_minor": 0
      },
      "text/plain": [
       "  0%|          | 0/2577 [00:00<?, ?it/s]"
      ]
     },
     "metadata": {},
     "output_type": "display_data"
    },
    {
     "name": "stdout",
     "output_type": "stream",
     "text": [
      "[Train] Accuracy: 81.0%, Avg loss: 0.461232 \n",
      "\n",
      "[Test] Accuracy: 81.0%, Avg loss: 0.500915 \n",
      "\n",
      "Epoch 163\n"
     ]
    },
    {
     "data": {
      "application/vnd.jupyter.widget-view+json": {
       "model_id": "bfb296f74fcb4cc1836f9336fa8bae5b",
       "version_major": 2,
       "version_minor": 0
      },
      "text/plain": [
       "  0%|          | 0/2577 [00:00<?, ?it/s]"
      ]
     },
     "metadata": {},
     "output_type": "display_data"
    },
    {
     "name": "stdout",
     "output_type": "stream",
     "text": [
      "[Train] Accuracy: 81.0%, Avg loss: 0.459531 \n",
      "\n",
      "[Test] Accuracy: 80.5%, Avg loss: 0.483348 \n",
      "\n",
      "Epoch 164\n"
     ]
    },
    {
     "data": {
      "application/vnd.jupyter.widget-view+json": {
       "model_id": "b4d56ff92bdd412e852118de065303aa",
       "version_major": 2,
       "version_minor": 0
      },
      "text/plain": [
       "  0%|          | 0/2577 [00:00<?, ?it/s]"
      ]
     },
     "metadata": {},
     "output_type": "display_data"
    },
    {
     "name": "stdout",
     "output_type": "stream",
     "text": [
      "[Train] Accuracy: 81.1%, Avg loss: 0.459334 \n",
      "\n",
      "[Test] Accuracy: 80.8%, Avg loss: 0.503858 \n",
      "\n",
      "Epoch 165\n"
     ]
    },
    {
     "data": {
      "application/vnd.jupyter.widget-view+json": {
       "model_id": "cb9e6271b964472ba7ea37a5f087b404",
       "version_major": 2,
       "version_minor": 0
      },
      "text/plain": [
       "  0%|          | 0/2577 [00:00<?, ?it/s]"
      ]
     },
     "metadata": {},
     "output_type": "display_data"
    },
    {
     "name": "stdout",
     "output_type": "stream",
     "text": [
      "[Train] Accuracy: 81.0%, Avg loss: 0.459556 \n",
      "\n",
      "[Test] Accuracy: 79.5%, Avg loss: 0.506407 \n",
      "\n",
      "Epoch 166\n"
     ]
    },
    {
     "data": {
      "application/vnd.jupyter.widget-view+json": {
       "model_id": "1d4e8c3cfd4a4a4c957c19a946022d86",
       "version_major": 2,
       "version_minor": 0
      },
      "text/plain": [
       "  0%|          | 0/2577 [00:00<?, ?it/s]"
      ]
     },
     "metadata": {},
     "output_type": "display_data"
    },
    {
     "name": "stdout",
     "output_type": "stream",
     "text": [
      "[Train] Accuracy: 81.0%, Avg loss: 0.460339 \n",
      "\n",
      "[Test] Accuracy: 80.9%, Avg loss: 0.482802 \n",
      "\n",
      "Epoch 167\n"
     ]
    },
    {
     "data": {
      "application/vnd.jupyter.widget-view+json": {
       "model_id": "e1a8dd31199f4c129e96c50d555252ef",
       "version_major": 2,
       "version_minor": 0
      },
      "text/plain": [
       "  0%|          | 0/2577 [00:00<?, ?it/s]"
      ]
     },
     "metadata": {},
     "output_type": "display_data"
    },
    {
     "name": "stdout",
     "output_type": "stream",
     "text": [
      "[Train] Accuracy: 81.0%, Avg loss: 0.460012 \n",
      "\n",
      "[Test] Accuracy: 80.6%, Avg loss: 0.487038 \n",
      "\n",
      "Epoch 168\n"
     ]
    },
    {
     "data": {
      "application/vnd.jupyter.widget-view+json": {
       "model_id": "52ed951f29764f44b6a12f5ce5848029",
       "version_major": 2,
       "version_minor": 0
      },
      "text/plain": [
       "  0%|          | 0/2577 [00:00<?, ?it/s]"
      ]
     },
     "metadata": {},
     "output_type": "display_data"
    },
    {
     "name": "stdout",
     "output_type": "stream",
     "text": [
      "[Train] Accuracy: 81.1%, Avg loss: 0.459165 \n",
      "\n",
      "[Test] Accuracy: 80.0%, Avg loss: 0.486164 \n",
      "\n",
      "Epoch 169\n"
     ]
    },
    {
     "data": {
      "application/vnd.jupyter.widget-view+json": {
       "model_id": "293533123d664f4e9b100d99f6756676",
       "version_major": 2,
       "version_minor": 0
      },
      "text/plain": [
       "  0%|          | 0/2577 [00:00<?, ?it/s]"
      ]
     },
     "metadata": {},
     "output_type": "display_data"
    },
    {
     "name": "stdout",
     "output_type": "stream",
     "text": [
      "[Train] Accuracy: 81.1%, Avg loss: 0.459796 \n",
      "\n",
      "[Test] Accuracy: 80.0%, Avg loss: 0.489517 \n",
      "\n",
      "Epoch 170\n"
     ]
    },
    {
     "data": {
      "application/vnd.jupyter.widget-view+json": {
       "model_id": "43c4634c7fd74837aa4dca59ee916f5f",
       "version_major": 2,
       "version_minor": 0
      },
      "text/plain": [
       "  0%|          | 0/2577 [00:00<?, ?it/s]"
      ]
     },
     "metadata": {},
     "output_type": "display_data"
    },
    {
     "name": "stdout",
     "output_type": "stream",
     "text": [
      "[Train] Accuracy: 81.0%, Avg loss: 0.458406 \n",
      "\n",
      "[Test] Accuracy: 80.4%, Avg loss: 0.486887 \n",
      "\n",
      "Epoch 171\n"
     ]
    },
    {
     "data": {
      "application/vnd.jupyter.widget-view+json": {
       "model_id": "e493770d3a8f4a1dabc17da42d2578cb",
       "version_major": 2,
       "version_minor": 0
      },
      "text/plain": [
       "  0%|          | 0/2577 [00:00<?, ?it/s]"
      ]
     },
     "metadata": {},
     "output_type": "display_data"
    },
    {
     "name": "stdout",
     "output_type": "stream",
     "text": [
      "[Train] Accuracy: 81.2%, Avg loss: 0.458753 \n",
      "\n",
      "[Test] Accuracy: 80.9%, Avg loss: 0.481567 \n",
      "\n",
      "Epoch 172\n"
     ]
    },
    {
     "data": {
      "application/vnd.jupyter.widget-view+json": {
       "model_id": "6e1fc0a17b414bcaba91150960e5a2ea",
       "version_major": 2,
       "version_minor": 0
      },
      "text/plain": [
       "  0%|          | 0/2577 [00:00<?, ?it/s]"
      ]
     },
     "metadata": {},
     "output_type": "display_data"
    },
    {
     "name": "stdout",
     "output_type": "stream",
     "text": [
      "[Train] Accuracy: 81.0%, Avg loss: 0.458895 \n",
      "\n",
      "[Test] Accuracy: 80.8%, Avg loss: 0.479721 \n",
      "\n",
      "Epoch 173\n"
     ]
    },
    {
     "data": {
      "application/vnd.jupyter.widget-view+json": {
       "model_id": "ef805119867d4de98778b162bcdb240e",
       "version_major": 2,
       "version_minor": 0
      },
      "text/plain": [
       "  0%|          | 0/2577 [00:00<?, ?it/s]"
      ]
     },
     "metadata": {},
     "output_type": "display_data"
    },
    {
     "name": "stdout",
     "output_type": "stream",
     "text": [
      "[Train] Accuracy: 81.0%, Avg loss: 0.459962 \n",
      "\n",
      "[Test] Accuracy: 81.1%, Avg loss: 0.486391 \n",
      "\n",
      "Epoch 174\n"
     ]
    },
    {
     "data": {
      "application/vnd.jupyter.widget-view+json": {
       "model_id": "dcb1ef739af54307a9ca2b4fdb466155",
       "version_major": 2,
       "version_minor": 0
      },
      "text/plain": [
       "  0%|          | 0/2577 [00:00<?, ?it/s]"
      ]
     },
     "metadata": {},
     "output_type": "display_data"
    },
    {
     "name": "stdout",
     "output_type": "stream",
     "text": [
      "[Train] Accuracy: 81.2%, Avg loss: 0.456912 \n",
      "\n",
      "[Test] Accuracy: 80.3%, Avg loss: 0.486281 \n",
      "\n",
      "Epoch 175\n"
     ]
    },
    {
     "data": {
      "application/vnd.jupyter.widget-view+json": {
       "model_id": "5e4721ef58434383a504eafbf408bc7b",
       "version_major": 2,
       "version_minor": 0
      },
      "text/plain": [
       "  0%|          | 0/2577 [00:00<?, ?it/s]"
      ]
     },
     "metadata": {},
     "output_type": "display_data"
    },
    {
     "name": "stdout",
     "output_type": "stream",
     "text": [
      "[Train] Accuracy: 81.1%, Avg loss: 0.457855 \n",
      "\n",
      "[Test] Accuracy: 81.0%, Avg loss: 0.481006 \n",
      "\n",
      "Epoch 176\n"
     ]
    },
    {
     "data": {
      "application/vnd.jupyter.widget-view+json": {
       "model_id": "3656a4b5961d4fa3938d57ff30e65f4c",
       "version_major": 2,
       "version_minor": 0
      },
      "text/plain": [
       "  0%|          | 0/2577 [00:00<?, ?it/s]"
      ]
     },
     "metadata": {},
     "output_type": "display_data"
    },
    {
     "name": "stdout",
     "output_type": "stream",
     "text": [
      "[Train] Accuracy: 81.0%, Avg loss: 0.458659 \n",
      "\n",
      "[Test] Accuracy: 81.2%, Avg loss: 0.477971 \n",
      "\n",
      "Epoch 177\n"
     ]
    },
    {
     "data": {
      "application/vnd.jupyter.widget-view+json": {
       "model_id": "6ffaacdce5d74858a914239e70f9e3d2",
       "version_major": 2,
       "version_minor": 0
      },
      "text/plain": [
       "  0%|          | 0/2577 [00:00<?, ?it/s]"
      ]
     },
     "metadata": {},
     "output_type": "display_data"
    },
    {
     "name": "stdout",
     "output_type": "stream",
     "text": [
      "[Train] Accuracy: 81.2%, Avg loss: 0.456652 \n",
      "\n",
      "[Test] Accuracy: 80.9%, Avg loss: 0.484382 \n",
      "\n",
      "Epoch 178\n"
     ]
    },
    {
     "data": {
      "application/vnd.jupyter.widget-view+json": {
       "model_id": "15ee40733ca84d22986d2c9ce3439aa2",
       "version_major": 2,
       "version_minor": 0
      },
      "text/plain": [
       "  0%|          | 0/2577 [00:00<?, ?it/s]"
      ]
     },
     "metadata": {},
     "output_type": "display_data"
    },
    {
     "name": "stdout",
     "output_type": "stream",
     "text": [
      "[Train] Accuracy: 81.3%, Avg loss: 0.456674 \n",
      "\n",
      "[Test] Accuracy: 80.0%, Avg loss: 0.492620 \n",
      "\n",
      "Epoch 179\n"
     ]
    },
    {
     "data": {
      "application/vnd.jupyter.widget-view+json": {
       "model_id": "c30301a6d5614453a84413d92409e51c",
       "version_major": 2,
       "version_minor": 0
      },
      "text/plain": [
       "  0%|          | 0/2577 [00:00<?, ?it/s]"
      ]
     },
     "metadata": {},
     "output_type": "display_data"
    },
    {
     "name": "stdout",
     "output_type": "stream",
     "text": [
      "[Train] Accuracy: 81.0%, Avg loss: 0.457116 \n",
      "\n",
      "[Test] Accuracy: 80.0%, Avg loss: 0.499091 \n",
      "\n",
      "Epoch 180\n"
     ]
    },
    {
     "data": {
      "application/vnd.jupyter.widget-view+json": {
       "model_id": "bdc4100c881443b99eafcda3c571a5e2",
       "version_major": 2,
       "version_minor": 0
      },
      "text/plain": [
       "  0%|          | 0/2577 [00:00<?, ?it/s]"
      ]
     },
     "metadata": {},
     "output_type": "display_data"
    },
    {
     "name": "stdout",
     "output_type": "stream",
     "text": [
      "[Train] Accuracy: 81.0%, Avg loss: 0.457902 \n",
      "\n",
      "[Test] Accuracy: 80.7%, Avg loss: 0.477857 \n",
      "\n",
      "Epoch 181\n"
     ]
    },
    {
     "data": {
      "application/vnd.jupyter.widget-view+json": {
       "model_id": "163475cec9b4458593c6080d2edc1292",
       "version_major": 2,
       "version_minor": 0
      },
      "text/plain": [
       "  0%|          | 0/2577 [00:00<?, ?it/s]"
      ]
     },
     "metadata": {},
     "output_type": "display_data"
    },
    {
     "name": "stdout",
     "output_type": "stream",
     "text": [
      "[Train] Accuracy: 81.2%, Avg loss: 0.456752 \n",
      "\n",
      "[Test] Accuracy: 81.1%, Avg loss: 0.482183 \n",
      "\n",
      "Epoch 182\n"
     ]
    },
    {
     "data": {
      "application/vnd.jupyter.widget-view+json": {
       "model_id": "0f9575cf2cf94d11b3a114e9a7f2194c",
       "version_major": 2,
       "version_minor": 0
      },
      "text/plain": [
       "  0%|          | 0/2577 [00:00<?, ?it/s]"
      ]
     },
     "metadata": {},
     "output_type": "display_data"
    },
    {
     "name": "stdout",
     "output_type": "stream",
     "text": [
      "[Train] Accuracy: 81.0%, Avg loss: 0.457163 \n",
      "\n",
      "[Test] Accuracy: 80.5%, Avg loss: 0.490086 \n",
      "\n",
      "Epoch 183\n"
     ]
    },
    {
     "data": {
      "application/vnd.jupyter.widget-view+json": {
       "model_id": "f992340531ae4f83b1dc65df54fd85f1",
       "version_major": 2,
       "version_minor": 0
      },
      "text/plain": [
       "  0%|          | 0/2577 [00:00<?, ?it/s]"
      ]
     },
     "metadata": {},
     "output_type": "display_data"
    },
    {
     "name": "stdout",
     "output_type": "stream",
     "text": [
      "[Train] Accuracy: 81.2%, Avg loss: 0.455151 \n",
      "\n",
      "[Test] Accuracy: 81.1%, Avg loss: 0.478983 \n",
      "\n",
      "Epoch 184\n"
     ]
    },
    {
     "data": {
      "application/vnd.jupyter.widget-view+json": {
       "model_id": "0a398c0116894aebadd2458bb6fcce3a",
       "version_major": 2,
       "version_minor": 0
      },
      "text/plain": [
       "  0%|          | 0/2577 [00:00<?, ?it/s]"
      ]
     },
     "metadata": {},
     "output_type": "display_data"
    },
    {
     "name": "stdout",
     "output_type": "stream",
     "text": [
      "[Train] Accuracy: 81.1%, Avg loss: 0.455374 \n",
      "\n",
      "[Test] Accuracy: 81.1%, Avg loss: 0.479267 \n",
      "\n",
      "Epoch 185\n"
     ]
    },
    {
     "data": {
      "application/vnd.jupyter.widget-view+json": {
       "model_id": "9298bb6ee8df4a3d9b3d13ec229ca061",
       "version_major": 2,
       "version_minor": 0
      },
      "text/plain": [
       "  0%|          | 0/2577 [00:00<?, ?it/s]"
      ]
     },
     "metadata": {},
     "output_type": "display_data"
    },
    {
     "name": "stdout",
     "output_type": "stream",
     "text": [
      "[Train] Accuracy: 81.2%, Avg loss: 0.456013 \n",
      "\n",
      "[Test] Accuracy: 80.9%, Avg loss: 0.477995 \n",
      "\n",
      "Epoch 186\n"
     ]
    },
    {
     "data": {
      "application/vnd.jupyter.widget-view+json": {
       "model_id": "f69db5754fe04d3db06cac1db0d6c88c",
       "version_major": 2,
       "version_minor": 0
      },
      "text/plain": [
       "  0%|          | 0/2577 [00:00<?, ?it/s]"
      ]
     },
     "metadata": {},
     "output_type": "display_data"
    },
    {
     "name": "stdout",
     "output_type": "stream",
     "text": [
      "[Train] Accuracy: 81.2%, Avg loss: 0.455977 \n",
      "\n",
      "[Test] Accuracy: 79.8%, Avg loss: 0.487796 \n",
      "\n",
      "Epoch 187\n"
     ]
    },
    {
     "data": {
      "application/vnd.jupyter.widget-view+json": {
       "model_id": "0dae8c29855a4501a65db165a0e45968",
       "version_major": 2,
       "version_minor": 0
      },
      "text/plain": [
       "  0%|          | 0/2577 [00:00<?, ?it/s]"
      ]
     },
     "metadata": {},
     "output_type": "display_data"
    },
    {
     "name": "stdout",
     "output_type": "stream",
     "text": [
      "[Train] Accuracy: 81.3%, Avg loss: 0.454789 \n",
      "\n",
      "[Test] Accuracy: 81.2%, Avg loss: 0.482291 \n",
      "\n",
      "Epoch 188\n"
     ]
    },
    {
     "data": {
      "application/vnd.jupyter.widget-view+json": {
       "model_id": "be50c9b4741f4f5f88eec10575f41953",
       "version_major": 2,
       "version_minor": 0
      },
      "text/plain": [
       "  0%|          | 0/2577 [00:00<?, ?it/s]"
      ]
     },
     "metadata": {},
     "output_type": "display_data"
    },
    {
     "name": "stdout",
     "output_type": "stream",
     "text": [
      "[Train] Accuracy: 81.2%, Avg loss: 0.454667 \n",
      "\n",
      "[Test] Accuracy: 80.8%, Avg loss: 0.477526 \n",
      "\n",
      "Epoch 189\n"
     ]
    },
    {
     "data": {
      "application/vnd.jupyter.widget-view+json": {
       "model_id": "56840d33059e401dadf20b89ab390560",
       "version_major": 2,
       "version_minor": 0
      },
      "text/plain": [
       "  0%|          | 0/2577 [00:00<?, ?it/s]"
      ]
     },
     "metadata": {},
     "output_type": "display_data"
    },
    {
     "name": "stdout",
     "output_type": "stream",
     "text": [
      "[Train] Accuracy: 81.3%, Avg loss: 0.453820 \n",
      "\n",
      "[Test] Accuracy: 80.2%, Avg loss: 0.492707 \n",
      "\n",
      "Epoch 190\n"
     ]
    },
    {
     "data": {
      "application/vnd.jupyter.widget-view+json": {
       "model_id": "101ad92d545c457b83542ad54572350a",
       "version_major": 2,
       "version_minor": 0
      },
      "text/plain": [
       "  0%|          | 0/2577 [00:00<?, ?it/s]"
      ]
     },
     "metadata": {},
     "output_type": "display_data"
    },
    {
     "name": "stdout",
     "output_type": "stream",
     "text": [
      "[Train] Accuracy: 81.3%, Avg loss: 0.453847 \n",
      "\n",
      "[Test] Accuracy: 81.1%, Avg loss: 0.481552 \n",
      "\n",
      "Epoch 191\n"
     ]
    },
    {
     "data": {
      "application/vnd.jupyter.widget-view+json": {
       "model_id": "5b83d808812a46838f82a8a5e62e0735",
       "version_major": 2,
       "version_minor": 0
      },
      "text/plain": [
       "  0%|          | 0/2577 [00:00<?, ?it/s]"
      ]
     },
     "metadata": {},
     "output_type": "display_data"
    },
    {
     "name": "stdout",
     "output_type": "stream",
     "text": [
      "[Train] Accuracy: 81.2%, Avg loss: 0.454206 \n",
      "\n",
      "[Test] Accuracy: 80.8%, Avg loss: 0.482989 \n",
      "\n",
      "Epoch 192\n"
     ]
    },
    {
     "data": {
      "application/vnd.jupyter.widget-view+json": {
       "model_id": "8262676748e54e45a9cacb3f04de9635",
       "version_major": 2,
       "version_minor": 0
      },
      "text/plain": [
       "  0%|          | 0/2577 [00:00<?, ?it/s]"
      ]
     },
     "metadata": {},
     "output_type": "display_data"
    },
    {
     "name": "stdout",
     "output_type": "stream",
     "text": [
      "[Train] Accuracy: 81.1%, Avg loss: 0.455325 \n",
      "\n",
      "[Test] Accuracy: 80.9%, Avg loss: 0.480619 \n",
      "\n",
      "Epoch 193\n"
     ]
    },
    {
     "data": {
      "application/vnd.jupyter.widget-view+json": {
       "model_id": "0fc4c81fa3b54ec2b9b9448c7093020c",
       "version_major": 2,
       "version_minor": 0
      },
      "text/plain": [
       "  0%|          | 0/2577 [00:00<?, ?it/s]"
      ]
     },
     "metadata": {},
     "output_type": "display_data"
    },
    {
     "name": "stdout",
     "output_type": "stream",
     "text": [
      "[Train] Accuracy: 81.2%, Avg loss: 0.455220 \n",
      "\n",
      "[Test] Accuracy: 81.2%, Avg loss: 0.480971 \n",
      "\n",
      "Epoch 194\n"
     ]
    },
    {
     "data": {
      "application/vnd.jupyter.widget-view+json": {
       "model_id": "57e9ea06b8be457d8e23f15ac5aad44a",
       "version_major": 2,
       "version_minor": 0
      },
      "text/plain": [
       "  0%|          | 0/2577 [00:00<?, ?it/s]"
      ]
     },
     "metadata": {},
     "output_type": "display_data"
    },
    {
     "name": "stdout",
     "output_type": "stream",
     "text": [
      "[Train] Accuracy: 81.2%, Avg loss: 0.455365 \n",
      "\n",
      "[Test] Accuracy: 81.2%, Avg loss: 0.474304 \n",
      "\n",
      "Epoch 195\n"
     ]
    },
    {
     "data": {
      "application/vnd.jupyter.widget-view+json": {
       "model_id": "fd2c73c938c44912be054d8173b29b9f",
       "version_major": 2,
       "version_minor": 0
      },
      "text/plain": [
       "  0%|          | 0/2577 [00:00<?, ?it/s]"
      ]
     },
     "metadata": {},
     "output_type": "display_data"
    },
    {
     "name": "stdout",
     "output_type": "stream",
     "text": [
      "[Train] Accuracy: 81.3%, Avg loss: 0.453291 \n",
      "\n",
      "[Test] Accuracy: 80.9%, Avg loss: 0.473924 \n",
      "\n",
      "Epoch 196\n"
     ]
    },
    {
     "data": {
      "application/vnd.jupyter.widget-view+json": {
       "model_id": "adaca3d531c94627ad3d1827ac803992",
       "version_major": 2,
       "version_minor": 0
      },
      "text/plain": [
       "  0%|          | 0/2577 [00:00<?, ?it/s]"
      ]
     },
     "metadata": {},
     "output_type": "display_data"
    },
    {
     "name": "stdout",
     "output_type": "stream",
     "text": [
      "[Train] Accuracy: 81.4%, Avg loss: 0.453273 \n",
      "\n",
      "[Test] Accuracy: 81.2%, Avg loss: 0.472744 \n",
      "\n",
      "Epoch 197\n"
     ]
    },
    {
     "data": {
      "application/vnd.jupyter.widget-view+json": {
       "model_id": "9ad5e255d9564f68bc0f713a5f4ccb02",
       "version_major": 2,
       "version_minor": 0
      },
      "text/plain": [
       "  0%|          | 0/2577 [00:00<?, ?it/s]"
      ]
     },
     "metadata": {},
     "output_type": "display_data"
    },
    {
     "name": "stdout",
     "output_type": "stream",
     "text": [
      "[Train] Accuracy: 81.3%, Avg loss: 0.453287 \n",
      "\n",
      "[Test] Accuracy: 81.1%, Avg loss: 0.476205 \n",
      "\n",
      "Epoch 198\n"
     ]
    },
    {
     "data": {
      "application/vnd.jupyter.widget-view+json": {
       "model_id": "3695e78a6529467a9cdc756ccf5aea4e",
       "version_major": 2,
       "version_minor": 0
      },
      "text/plain": [
       "  0%|          | 0/2577 [00:00<?, ?it/s]"
      ]
     },
     "metadata": {},
     "output_type": "display_data"
    },
    {
     "name": "stdout",
     "output_type": "stream",
     "text": [
      "[Train] Accuracy: 81.2%, Avg loss: 0.453775 \n",
      "\n",
      "[Test] Accuracy: 81.2%, Avg loss: 0.479609 \n",
      "\n",
      "Epoch 199\n"
     ]
    },
    {
     "data": {
      "application/vnd.jupyter.widget-view+json": {
       "model_id": "558d9d5510b14fb6bb1530b0cb4a6ba1",
       "version_major": 2,
       "version_minor": 0
      },
      "text/plain": [
       "  0%|          | 0/2577 [00:00<?, ?it/s]"
      ]
     },
     "metadata": {},
     "output_type": "display_data"
    },
    {
     "name": "stdout",
     "output_type": "stream",
     "text": [
      "[Train] Accuracy: 81.2%, Avg loss: 0.453564 \n",
      "\n",
      "[Test] Accuracy: 80.2%, Avg loss: 0.510361 \n",
      "\n",
      "Epoch 200\n"
     ]
    },
    {
     "data": {
      "application/vnd.jupyter.widget-view+json": {
       "model_id": "a9d83b617b304e06834cf90fdba2d1cd",
       "version_major": 2,
       "version_minor": 0
      },
      "text/plain": [
       "  0%|          | 0/2577 [00:00<?, ?it/s]"
      ]
     },
     "metadata": {},
     "output_type": "display_data"
    },
    {
     "name": "stdout",
     "output_type": "stream",
     "text": [
      "[Train] Accuracy: 81.3%, Avg loss: 0.453875 \n",
      "\n",
      "[Test] Accuracy: 81.2%, Avg loss: 0.479957 \n",
      "\n",
      "Epoch 201\n"
     ]
    },
    {
     "data": {
      "application/vnd.jupyter.widget-view+json": {
       "model_id": "003d4bb364b24e6694c60fcadb35c82d",
       "version_major": 2,
       "version_minor": 0
      },
      "text/plain": [
       "  0%|          | 0/2577 [00:00<?, ?it/s]"
      ]
     },
     "metadata": {},
     "output_type": "display_data"
    },
    {
     "name": "stdout",
     "output_type": "stream",
     "text": [
      "[Train] Accuracy: 81.2%, Avg loss: 0.453863 \n",
      "\n",
      "[Test] Accuracy: 80.4%, Avg loss: 0.481313 \n",
      "\n",
      "Epoch 202\n"
     ]
    },
    {
     "data": {
      "application/vnd.jupyter.widget-view+json": {
       "model_id": "6d386078b4a74206a74fc7c180e7f9ed",
       "version_major": 2,
       "version_minor": 0
      },
      "text/plain": [
       "  0%|          | 0/2577 [00:00<?, ?it/s]"
      ]
     },
     "metadata": {},
     "output_type": "display_data"
    },
    {
     "name": "stdout",
     "output_type": "stream",
     "text": [
      "[Train] Accuracy: 81.3%, Avg loss: 0.453354 \n",
      "\n",
      "[Test] Accuracy: 81.0%, Avg loss: 0.513204 \n",
      "\n",
      "Epoch 203\n"
     ]
    },
    {
     "data": {
      "application/vnd.jupyter.widget-view+json": {
       "model_id": "301dc873801647f8b14a0a4a028ffcb2",
       "version_major": 2,
       "version_minor": 0
      },
      "text/plain": [
       "  0%|          | 0/2577 [00:00<?, ?it/s]"
      ]
     },
     "metadata": {},
     "output_type": "display_data"
    },
    {
     "name": "stdout",
     "output_type": "stream",
     "text": [
      "[Train] Accuracy: 81.3%, Avg loss: 0.453600 \n",
      "\n",
      "[Test] Accuracy: 81.3%, Avg loss: 0.480602 \n",
      "\n",
      "Epoch 204\n"
     ]
    },
    {
     "data": {
      "application/vnd.jupyter.widget-view+json": {
       "model_id": "7362625c58d8497d80a447e2186c72d8",
       "version_major": 2,
       "version_minor": 0
      },
      "text/plain": [
       "  0%|          | 0/2577 [00:00<?, ?it/s]"
      ]
     },
     "metadata": {},
     "output_type": "display_data"
    },
    {
     "name": "stdout",
     "output_type": "stream",
     "text": [
      "[Train] Accuracy: 81.3%, Avg loss: 0.453326 \n",
      "\n",
      "[Test] Accuracy: 81.1%, Avg loss: 0.470298 \n",
      "\n",
      "Epoch 205\n"
     ]
    },
    {
     "data": {
      "application/vnd.jupyter.widget-view+json": {
       "model_id": "7ef29625a72444139b206b4e229575a5",
       "version_major": 2,
       "version_minor": 0
      },
      "text/plain": [
       "  0%|          | 0/2577 [00:00<?, ?it/s]"
      ]
     },
     "metadata": {},
     "output_type": "display_data"
    },
    {
     "name": "stdout",
     "output_type": "stream",
     "text": [
      "[Train] Accuracy: 81.3%, Avg loss: 0.452623 \n",
      "\n",
      "[Test] Accuracy: 80.3%, Avg loss: 0.476265 \n",
      "\n",
      "Epoch 206\n"
     ]
    },
    {
     "data": {
      "application/vnd.jupyter.widget-view+json": {
       "model_id": "8dec1b0ae1fe47029a02954502ceb9f4",
       "version_major": 2,
       "version_minor": 0
      },
      "text/plain": [
       "  0%|          | 0/2577 [00:00<?, ?it/s]"
      ]
     },
     "metadata": {},
     "output_type": "display_data"
    },
    {
     "name": "stdout",
     "output_type": "stream",
     "text": [
      "[Train] Accuracy: 81.4%, Avg loss: 0.450928 \n",
      "\n",
      "[Test] Accuracy: 81.2%, Avg loss: 0.469308 \n",
      "\n",
      "Epoch 207\n"
     ]
    },
    {
     "data": {
      "application/vnd.jupyter.widget-view+json": {
       "model_id": "5e4de12ca5a147bea620f1281acb5e71",
       "version_major": 2,
       "version_minor": 0
      },
      "text/plain": [
       "  0%|          | 0/2577 [00:00<?, ?it/s]"
      ]
     },
     "metadata": {},
     "output_type": "display_data"
    },
    {
     "name": "stdout",
     "output_type": "stream",
     "text": [
      "[Train] Accuracy: 81.4%, Avg loss: 0.451751 \n",
      "\n",
      "[Test] Accuracy: 80.9%, Avg loss: 0.471995 \n",
      "\n",
      "Epoch 208\n"
     ]
    },
    {
     "data": {
      "application/vnd.jupyter.widget-view+json": {
       "model_id": "a1db0ce0fb5e46e0a0202c605fbe7430",
       "version_major": 2,
       "version_minor": 0
      },
      "text/plain": [
       "  0%|          | 0/2577 [00:00<?, ?it/s]"
      ]
     },
     "metadata": {},
     "output_type": "display_data"
    },
    {
     "name": "stdout",
     "output_type": "stream",
     "text": [
      "[Train] Accuracy: 81.3%, Avg loss: 0.451449 \n",
      "\n",
      "[Test] Accuracy: 81.2%, Avg loss: 0.476832 \n",
      "\n",
      "Epoch 209\n"
     ]
    },
    {
     "data": {
      "application/vnd.jupyter.widget-view+json": {
       "model_id": "8d2ed717af5c468ca3b6bd592761a752",
       "version_major": 2,
       "version_minor": 0
      },
      "text/plain": [
       "  0%|          | 0/2577 [00:00<?, ?it/s]"
      ]
     },
     "metadata": {},
     "output_type": "display_data"
    },
    {
     "name": "stdout",
     "output_type": "stream",
     "text": [
      "[Train] Accuracy: 81.2%, Avg loss: 0.452892 \n",
      "\n",
      "[Test] Accuracy: 81.0%, Avg loss: 0.479592 \n",
      "\n",
      "Epoch 210\n"
     ]
    },
    {
     "data": {
      "application/vnd.jupyter.widget-view+json": {
       "model_id": "71a315ed9f734739b1fa0569d66fa5bf",
       "version_major": 2,
       "version_minor": 0
      },
      "text/plain": [
       "  0%|          | 0/2577 [00:00<?, ?it/s]"
      ]
     },
     "metadata": {},
     "output_type": "display_data"
    },
    {
     "name": "stdout",
     "output_type": "stream",
     "text": [
      "[Train] Accuracy: 81.2%, Avg loss: 0.452009 \n",
      "\n",
      "[Test] Accuracy: 81.3%, Avg loss: 0.474347 \n",
      "\n",
      "Epoch 211\n"
     ]
    },
    {
     "data": {
      "application/vnd.jupyter.widget-view+json": {
       "model_id": "81e0180b6bd645e7b2aef4dfbd9ac0e9",
       "version_major": 2,
       "version_minor": 0
      },
      "text/plain": [
       "  0%|          | 0/2577 [00:00<?, ?it/s]"
      ]
     },
     "metadata": {},
     "output_type": "display_data"
    },
    {
     "name": "stdout",
     "output_type": "stream",
     "text": [
      "[Train] Accuracy: 81.4%, Avg loss: 0.449860 \n",
      "\n",
      "[Test] Accuracy: 80.6%, Avg loss: 0.477190 \n",
      "\n",
      "Epoch 212\n"
     ]
    },
    {
     "data": {
      "application/vnd.jupyter.widget-view+json": {
       "model_id": "85b7ee8a9938467daefc8adcd3ab4183",
       "version_major": 2,
       "version_minor": 0
      },
      "text/plain": [
       "  0%|          | 0/2577 [00:00<?, ?it/s]"
      ]
     },
     "metadata": {},
     "output_type": "display_data"
    },
    {
     "name": "stdout",
     "output_type": "stream",
     "text": [
      "[Train] Accuracy: 81.3%, Avg loss: 0.450945 \n",
      "\n",
      "[Test] Accuracy: 80.4%, Avg loss: 0.503167 \n",
      "\n",
      "Epoch 213\n"
     ]
    },
    {
     "data": {
      "application/vnd.jupyter.widget-view+json": {
       "model_id": "6b7f14bd0af04a04ac3e5c93018d340a",
       "version_major": 2,
       "version_minor": 0
      },
      "text/plain": [
       "  0%|          | 0/2577 [00:00<?, ?it/s]"
      ]
     },
     "metadata": {},
     "output_type": "display_data"
    },
    {
     "name": "stdout",
     "output_type": "stream",
     "text": [
      "[Train] Accuracy: 81.3%, Avg loss: 0.450209 \n",
      "\n",
      "[Test] Accuracy: 81.2%, Avg loss: 0.503298 \n",
      "\n",
      "Epoch 214\n"
     ]
    },
    {
     "data": {
      "application/vnd.jupyter.widget-view+json": {
       "model_id": "9fc193fefb6742d5af3df62d35c036f4",
       "version_major": 2,
       "version_minor": 0
      },
      "text/plain": [
       "  0%|          | 0/2577 [00:00<?, ?it/s]"
      ]
     },
     "metadata": {},
     "output_type": "display_data"
    },
    {
     "name": "stdout",
     "output_type": "stream",
     "text": [
      "[Train] Accuracy: 81.4%, Avg loss: 0.450165 \n",
      "\n",
      "[Test] Accuracy: 80.8%, Avg loss: 0.475192 \n",
      "\n",
      "Epoch 215\n"
     ]
    },
    {
     "data": {
      "application/vnd.jupyter.widget-view+json": {
       "model_id": "189e865c8eb54570919307cb33dbe94f",
       "version_major": 2,
       "version_minor": 0
      },
      "text/plain": [
       "  0%|          | 0/2577 [00:00<?, ?it/s]"
      ]
     },
     "metadata": {},
     "output_type": "display_data"
    },
    {
     "name": "stdout",
     "output_type": "stream",
     "text": [
      "[Train] Accuracy: 81.4%, Avg loss: 0.450673 \n",
      "\n",
      "[Test] Accuracy: 81.2%, Avg loss: 0.472998 \n",
      "\n",
      "Epoch 216\n"
     ]
    },
    {
     "data": {
      "application/vnd.jupyter.widget-view+json": {
       "model_id": "9145eb45a68f498da46ecb2d6c1dab96",
       "version_major": 2,
       "version_minor": 0
      },
      "text/plain": [
       "  0%|          | 0/2577 [00:00<?, ?it/s]"
      ]
     },
     "metadata": {},
     "output_type": "display_data"
    },
    {
     "name": "stdout",
     "output_type": "stream",
     "text": [
      "[Train] Accuracy: 81.3%, Avg loss: 0.450838 \n",
      "\n",
      "[Test] Accuracy: 79.4%, Avg loss: 0.497881 \n",
      "\n",
      "Epoch 217\n"
     ]
    },
    {
     "data": {
      "application/vnd.jupyter.widget-view+json": {
       "model_id": "b3e2446f0034462bbc0bf032f874cee5",
       "version_major": 2,
       "version_minor": 0
      },
      "text/plain": [
       "  0%|          | 0/2577 [00:00<?, ?it/s]"
      ]
     },
     "metadata": {},
     "output_type": "display_data"
    },
    {
     "name": "stdout",
     "output_type": "stream",
     "text": [
      "[Train] Accuracy: 81.3%, Avg loss: 0.449997 \n",
      "\n",
      "[Test] Accuracy: 79.9%, Avg loss: 0.480663 \n",
      "\n",
      "Epoch 218\n"
     ]
    },
    {
     "data": {
      "application/vnd.jupyter.widget-view+json": {
       "model_id": "c7ed388c9b7c42df83b561e8efa2a958",
       "version_major": 2,
       "version_minor": 0
      },
      "text/plain": [
       "  0%|          | 0/2577 [00:00<?, ?it/s]"
      ]
     },
     "metadata": {},
     "output_type": "display_data"
    },
    {
     "name": "stdout",
     "output_type": "stream",
     "text": [
      "[Train] Accuracy: 81.4%, Avg loss: 0.449697 \n",
      "\n",
      "[Test] Accuracy: 80.5%, Avg loss: 0.489777 \n",
      "\n",
      "Epoch 219\n"
     ]
    },
    {
     "data": {
      "application/vnd.jupyter.widget-view+json": {
       "model_id": "a520ed9db0b74850896c8472733315d8",
       "version_major": 2,
       "version_minor": 0
      },
      "text/plain": [
       "  0%|          | 0/2577 [00:00<?, ?it/s]"
      ]
     },
     "metadata": {},
     "output_type": "display_data"
    },
    {
     "name": "stdout",
     "output_type": "stream",
     "text": [
      "[Train] Accuracy: 81.5%, Avg loss: 0.447844 \n",
      "\n",
      "[Test] Accuracy: 81.2%, Avg loss: 0.472618 \n",
      "\n",
      "Epoch 220\n"
     ]
    },
    {
     "data": {
      "application/vnd.jupyter.widget-view+json": {
       "model_id": "bbc8873b0ff84b67b9868dfa013c27a5",
       "version_major": 2,
       "version_minor": 0
      },
      "text/plain": [
       "  0%|          | 0/2577 [00:00<?, ?it/s]"
      ]
     },
     "metadata": {},
     "output_type": "display_data"
    },
    {
     "name": "stdout",
     "output_type": "stream",
     "text": [
      "[Train] Accuracy: 81.4%, Avg loss: 0.449654 \n",
      "\n",
      "[Test] Accuracy: 80.9%, Avg loss: 0.479870 \n",
      "\n",
      "Epoch 221\n"
     ]
    },
    {
     "data": {
      "application/vnd.jupyter.widget-view+json": {
       "model_id": "ff66e2d47b694c268766d7c49e84852a",
       "version_major": 2,
       "version_minor": 0
      },
      "text/plain": [
       "  0%|          | 0/2577 [00:00<?, ?it/s]"
      ]
     },
     "metadata": {},
     "output_type": "display_data"
    },
    {
     "name": "stdout",
     "output_type": "stream",
     "text": [
      "[Train] Accuracy: 81.5%, Avg loss: 0.449264 \n",
      "\n",
      "[Test] Accuracy: 81.2%, Avg loss: 0.496419 \n",
      "\n",
      "Epoch 222\n"
     ]
    },
    {
     "data": {
      "application/vnd.jupyter.widget-view+json": {
       "model_id": "65a547b670de45a7bebdbf630a7c72a9",
       "version_major": 2,
       "version_minor": 0
      },
      "text/plain": [
       "  0%|          | 0/2577 [00:00<?, ?it/s]"
      ]
     },
     "metadata": {},
     "output_type": "display_data"
    },
    {
     "name": "stdout",
     "output_type": "stream",
     "text": [
      "[Train] Accuracy: 81.4%, Avg loss: 0.448782 \n",
      "\n",
      "[Test] Accuracy: 80.7%, Avg loss: 0.482997 \n",
      "\n",
      "Epoch 223\n"
     ]
    },
    {
     "data": {
      "application/vnd.jupyter.widget-view+json": {
       "model_id": "f910be54e5a14564b031a5a91d842b0c",
       "version_major": 2,
       "version_minor": 0
      },
      "text/plain": [
       "  0%|          | 0/2577 [00:00<?, ?it/s]"
      ]
     },
     "metadata": {},
     "output_type": "display_data"
    },
    {
     "name": "stdout",
     "output_type": "stream",
     "text": [
      "[Train] Accuracy: 81.4%, Avg loss: 0.448892 \n",
      "\n",
      "[Test] Accuracy: 80.3%, Avg loss: 0.481715 \n",
      "\n",
      "Epoch 224\n"
     ]
    },
    {
     "data": {
      "application/vnd.jupyter.widget-view+json": {
       "model_id": "0683fc97dc6d452faa0c215527a64a8f",
       "version_major": 2,
       "version_minor": 0
      },
      "text/plain": [
       "  0%|          | 0/2577 [00:00<?, ?it/s]"
      ]
     },
     "metadata": {},
     "output_type": "display_data"
    },
    {
     "name": "stdout",
     "output_type": "stream",
     "text": [
      "[Train] Accuracy: 81.4%, Avg loss: 0.448973 \n",
      "\n",
      "[Test] Accuracy: 80.7%, Avg loss: 0.477364 \n",
      "\n",
      "Epoch 225\n"
     ]
    },
    {
     "data": {
      "application/vnd.jupyter.widget-view+json": {
       "model_id": "b39ebeab508c4e5fb915567f8822068d",
       "version_major": 2,
       "version_minor": 0
      },
      "text/plain": [
       "  0%|          | 0/2577 [00:00<?, ?it/s]"
      ]
     },
     "metadata": {},
     "output_type": "display_data"
    },
    {
     "name": "stdout",
     "output_type": "stream",
     "text": [
      "[Train] Accuracy: 81.4%, Avg loss: 0.448630 \n",
      "\n",
      "[Test] Accuracy: 80.5%, Avg loss: 0.472541 \n",
      "\n",
      "Epoch 226\n"
     ]
    },
    {
     "data": {
      "application/vnd.jupyter.widget-view+json": {
       "model_id": "1fe4c3ea04b045719b6a16f29959aeea",
       "version_major": 2,
       "version_minor": 0
      },
      "text/plain": [
       "  0%|          | 0/2577 [00:00<?, ?it/s]"
      ]
     },
     "metadata": {},
     "output_type": "display_data"
    },
    {
     "name": "stdout",
     "output_type": "stream",
     "text": [
      "[Train] Accuracy: 81.4%, Avg loss: 0.448390 \n",
      "\n",
      "[Test] Accuracy: 81.1%, Avg loss: 0.471674 \n",
      "\n",
      "Epoch 227\n"
     ]
    },
    {
     "data": {
      "application/vnd.jupyter.widget-view+json": {
       "model_id": "322c153964d64eaaa3b5d23b680f8ade",
       "version_major": 2,
       "version_minor": 0
      },
      "text/plain": [
       "  0%|          | 0/2577 [00:00<?, ?it/s]"
      ]
     },
     "metadata": {},
     "output_type": "display_data"
    },
    {
     "name": "stdout",
     "output_type": "stream",
     "text": [
      "[Train] Accuracy: 81.4%, Avg loss: 0.448462 \n",
      "\n",
      "[Test] Accuracy: 80.7%, Avg loss: 0.477984 \n",
      "\n",
      "Epoch 228\n"
     ]
    },
    {
     "data": {
      "application/vnd.jupyter.widget-view+json": {
       "model_id": "d0f3d158027643ed92df383e8a90e8c0",
       "version_major": 2,
       "version_minor": 0
      },
      "text/plain": [
       "  0%|          | 0/2577 [00:00<?, ?it/s]"
      ]
     },
     "metadata": {},
     "output_type": "display_data"
    },
    {
     "name": "stdout",
     "output_type": "stream",
     "text": [
      "[Train] Accuracy: 81.4%, Avg loss: 0.447844 \n",
      "\n",
      "[Test] Accuracy: 80.9%, Avg loss: 0.471228 \n",
      "\n",
      "Epoch 229\n"
     ]
    },
    {
     "data": {
      "application/vnd.jupyter.widget-view+json": {
       "model_id": "31bf661d5d9c4c47929ab19dd70afcd8",
       "version_major": 2,
       "version_minor": 0
      },
      "text/plain": [
       "  0%|          | 0/2577 [00:00<?, ?it/s]"
      ]
     },
     "metadata": {},
     "output_type": "display_data"
    },
    {
     "name": "stdout",
     "output_type": "stream",
     "text": [
      "[Train] Accuracy: 81.5%, Avg loss: 0.448112 \n",
      "\n",
      "[Test] Accuracy: 80.7%, Avg loss: 0.484583 \n",
      "\n",
      "Epoch 230\n"
     ]
    },
    {
     "data": {
      "application/vnd.jupyter.widget-view+json": {
       "model_id": "2413e1629d984b27805c60ffa5fbf18f",
       "version_major": 2,
       "version_minor": 0
      },
      "text/plain": [
       "  0%|          | 0/2577 [00:00<?, ?it/s]"
      ]
     },
     "metadata": {},
     "output_type": "display_data"
    },
    {
     "name": "stdout",
     "output_type": "stream",
     "text": [
      "[Train] Accuracy: 81.5%, Avg loss: 0.447212 \n",
      "\n",
      "[Test] Accuracy: 80.8%, Avg loss: 0.478973 \n",
      "\n",
      "Epoch 231\n"
     ]
    },
    {
     "data": {
      "application/vnd.jupyter.widget-view+json": {
       "model_id": "1a62a28b1c4e498e9818a8c81c4d419e",
       "version_major": 2,
       "version_minor": 0
      },
      "text/plain": [
       "  0%|          | 0/2577 [00:00<?, ?it/s]"
      ]
     },
     "metadata": {},
     "output_type": "display_data"
    },
    {
     "name": "stdout",
     "output_type": "stream",
     "text": [
      "[Train] Accuracy: 81.4%, Avg loss: 0.447683 \n",
      "\n",
      "[Test] Accuracy: 81.0%, Avg loss: 0.472975 \n",
      "\n",
      "Epoch 232\n"
     ]
    },
    {
     "data": {
      "application/vnd.jupyter.widget-view+json": {
       "model_id": "ce28b08c030c4df084904ad939466fdf",
       "version_major": 2,
       "version_minor": 0
      },
      "text/plain": [
       "  0%|          | 0/2577 [00:00<?, ?it/s]"
      ]
     },
     "metadata": {},
     "output_type": "display_data"
    },
    {
     "name": "stdout",
     "output_type": "stream",
     "text": [
      "[Train] Accuracy: 81.6%, Avg loss: 0.446120 \n",
      "\n",
      "[Test] Accuracy: 80.2%, Avg loss: 0.475025 \n",
      "\n",
      "Epoch 233\n"
     ]
    },
    {
     "data": {
      "application/vnd.jupyter.widget-view+json": {
       "model_id": "51954fec9cc24545b5d315abc6e8247f",
       "version_major": 2,
       "version_minor": 0
      },
      "text/plain": [
       "  0%|          | 0/2577 [00:00<?, ?it/s]"
      ]
     },
     "metadata": {},
     "output_type": "display_data"
    },
    {
     "name": "stdout",
     "output_type": "stream",
     "text": [
      "[Train] Accuracy: 81.5%, Avg loss: 0.447048 \n",
      "\n",
      "[Test] Accuracy: 81.5%, Avg loss: 0.466318 \n",
      "\n",
      "Epoch 234\n"
     ]
    },
    {
     "data": {
      "application/vnd.jupyter.widget-view+json": {
       "model_id": "eb659cb4035c4acc9fa021f649fce46a",
       "version_major": 2,
       "version_minor": 0
      },
      "text/plain": [
       "  0%|          | 0/2577 [00:00<?, ?it/s]"
      ]
     },
     "metadata": {},
     "output_type": "display_data"
    },
    {
     "name": "stdout",
     "output_type": "stream",
     "text": [
      "[Train] Accuracy: 81.5%, Avg loss: 0.447394 \n",
      "\n",
      "[Test] Accuracy: 80.5%, Avg loss: 0.501145 \n",
      "\n",
      "Epoch 235\n"
     ]
    },
    {
     "data": {
      "application/vnd.jupyter.widget-view+json": {
       "model_id": "7d4a004d6e054364b604c6f09a091879",
       "version_major": 2,
       "version_minor": 0
      },
      "text/plain": [
       "  0%|          | 0/2577 [00:00<?, ?it/s]"
      ]
     },
     "metadata": {},
     "output_type": "display_data"
    },
    {
     "name": "stdout",
     "output_type": "stream",
     "text": [
      "[Train] Accuracy: 81.5%, Avg loss: 0.447944 \n",
      "\n",
      "[Test] Accuracy: 81.2%, Avg loss: 0.470412 \n",
      "\n",
      "Epoch 236\n"
     ]
    },
    {
     "data": {
      "application/vnd.jupyter.widget-view+json": {
       "model_id": "03d8a0f4452b4f8093ea5830e0b9384f",
       "version_major": 2,
       "version_minor": 0
      },
      "text/plain": [
       "  0%|          | 0/2577 [00:00<?, ?it/s]"
      ]
     },
     "metadata": {},
     "output_type": "display_data"
    },
    {
     "name": "stdout",
     "output_type": "stream",
     "text": [
      "[Train] Accuracy: 81.5%, Avg loss: 0.446597 \n",
      "\n",
      "[Test] Accuracy: 81.3%, Avg loss: 0.471752 \n",
      "\n",
      "Epoch 237\n"
     ]
    },
    {
     "data": {
      "application/vnd.jupyter.widget-view+json": {
       "model_id": "965c169633e04da6a049d4df8091fe9e",
       "version_major": 2,
       "version_minor": 0
      },
      "text/plain": [
       "  0%|          | 0/2577 [00:00<?, ?it/s]"
      ]
     },
     "metadata": {},
     "output_type": "display_data"
    },
    {
     "name": "stdout",
     "output_type": "stream",
     "text": [
      "[Train] Accuracy: 81.5%, Avg loss: 0.446675 \n",
      "\n",
      "[Test] Accuracy: 79.9%, Avg loss: 0.483135 \n",
      "\n",
      "Epoch 238\n"
     ]
    },
    {
     "data": {
      "application/vnd.jupyter.widget-view+json": {
       "model_id": "7afcd757ed57491d855757765061f993",
       "version_major": 2,
       "version_minor": 0
      },
      "text/plain": [
       "  0%|          | 0/2577 [00:00<?, ?it/s]"
      ]
     },
     "metadata": {},
     "output_type": "display_data"
    },
    {
     "name": "stdout",
     "output_type": "stream",
     "text": [
      "[Train] Accuracy: 81.5%, Avg loss: 0.447104 \n",
      "\n",
      "[Test] Accuracy: 81.3%, Avg loss: 0.471398 \n",
      "\n",
      "Epoch 239\n"
     ]
    },
    {
     "data": {
      "application/vnd.jupyter.widget-view+json": {
       "model_id": "a433663705074b7d872bbe2ed7794898",
       "version_major": 2,
       "version_minor": 0
      },
      "text/plain": [
       "  0%|          | 0/2577 [00:00<?, ?it/s]"
      ]
     },
     "metadata": {},
     "output_type": "display_data"
    },
    {
     "name": "stdout",
     "output_type": "stream",
     "text": [
      "[Train] Accuracy: 81.6%, Avg loss: 0.446785 \n",
      "\n",
      "[Test] Accuracy: 81.3%, Avg loss: 0.473749 \n",
      "\n",
      "Epoch 240\n"
     ]
    },
    {
     "data": {
      "application/vnd.jupyter.widget-view+json": {
       "model_id": "117d84c76a4a4fe9ada1fc5e8af5a2c3",
       "version_major": 2,
       "version_minor": 0
      },
      "text/plain": [
       "  0%|          | 0/2577 [00:00<?, ?it/s]"
      ]
     },
     "metadata": {},
     "output_type": "display_data"
    },
    {
     "name": "stdout",
     "output_type": "stream",
     "text": [
      "[Train] Accuracy: 81.4%, Avg loss: 0.446983 \n",
      "\n",
      "[Test] Accuracy: 81.4%, Avg loss: 0.491597 \n",
      "\n",
      "Epoch 241\n"
     ]
    },
    {
     "data": {
      "application/vnd.jupyter.widget-view+json": {
       "model_id": "62cb72549f63472bb6d7755f8fd95fa8",
       "version_major": 2,
       "version_minor": 0
      },
      "text/plain": [
       "  0%|          | 0/2577 [00:00<?, ?it/s]"
      ]
     },
     "metadata": {},
     "output_type": "display_data"
    },
    {
     "name": "stdout",
     "output_type": "stream",
     "text": [
      "[Train] Accuracy: 81.5%, Avg loss: 0.445752 \n",
      "\n",
      "[Test] Accuracy: 80.1%, Avg loss: 0.479036 \n",
      "\n",
      "Epoch 242\n"
     ]
    },
    {
     "data": {
      "application/vnd.jupyter.widget-view+json": {
       "model_id": "01497a380dca444f80b5d45afcbd7af9",
       "version_major": 2,
       "version_minor": 0
      },
      "text/plain": [
       "  0%|          | 0/2577 [00:00<?, ?it/s]"
      ]
     },
     "metadata": {},
     "output_type": "display_data"
    },
    {
     "name": "stdout",
     "output_type": "stream",
     "text": [
      "[Train] Accuracy: 81.6%, Avg loss: 0.445873 \n",
      "\n",
      "[Test] Accuracy: 80.1%, Avg loss: 0.496621 \n",
      "\n",
      "Epoch 243\n"
     ]
    },
    {
     "data": {
      "application/vnd.jupyter.widget-view+json": {
       "model_id": "300203b0ac424c0c8c079916d9a83c69",
       "version_major": 2,
       "version_minor": 0
      },
      "text/plain": [
       "  0%|          | 0/2577 [00:00<?, ?it/s]"
      ]
     },
     "metadata": {},
     "output_type": "display_data"
    },
    {
     "name": "stdout",
     "output_type": "stream",
     "text": [
      "[Train] Accuracy: 81.5%, Avg loss: 0.446446 \n",
      "\n",
      "[Test] Accuracy: 81.2%, Avg loss: 0.475568 \n",
      "\n",
      "Epoch 244\n"
     ]
    },
    {
     "data": {
      "application/vnd.jupyter.widget-view+json": {
       "model_id": "ab07fb3d3a08498c84888de21b6bd37f",
       "version_major": 2,
       "version_minor": 0
      },
      "text/plain": [
       "  0%|          | 0/2577 [00:00<?, ?it/s]"
      ]
     },
     "metadata": {},
     "output_type": "display_data"
    },
    {
     "name": "stdout",
     "output_type": "stream",
     "text": [
      "[Train] Accuracy: 81.5%, Avg loss: 0.445439 \n",
      "\n",
      "[Test] Accuracy: 81.2%, Avg loss: 0.482299 \n",
      "\n",
      "Epoch 245\n"
     ]
    },
    {
     "data": {
      "application/vnd.jupyter.widget-view+json": {
       "model_id": "27285eac23ec4dcbad2b153e5cea441d",
       "version_major": 2,
       "version_minor": 0
      },
      "text/plain": [
       "  0%|          | 0/2577 [00:00<?, ?it/s]"
      ]
     },
     "metadata": {},
     "output_type": "display_data"
    },
    {
     "name": "stdout",
     "output_type": "stream",
     "text": [
      "[Train] Accuracy: 81.5%, Avg loss: 0.445823 \n",
      "\n",
      "[Test] Accuracy: 80.8%, Avg loss: 0.482503 \n",
      "\n",
      "Epoch 246\n"
     ]
    },
    {
     "data": {
      "application/vnd.jupyter.widget-view+json": {
       "model_id": "6f34f18128994631877ef18f744d257d",
       "version_major": 2,
       "version_minor": 0
      },
      "text/plain": [
       "  0%|          | 0/2577 [00:00<?, ?it/s]"
      ]
     },
     "metadata": {},
     "output_type": "display_data"
    },
    {
     "name": "stdout",
     "output_type": "stream",
     "text": [
      "[Train] Accuracy: 81.5%, Avg loss: 0.446305 \n",
      "\n",
      "[Test] Accuracy: 81.4%, Avg loss: 0.473715 \n",
      "\n",
      "Epoch 247\n"
     ]
    },
    {
     "data": {
      "application/vnd.jupyter.widget-view+json": {
       "model_id": "c2e909207d664315bfcbde4b59e95a6b",
       "version_major": 2,
       "version_minor": 0
      },
      "text/plain": [
       "  0%|          | 0/2577 [00:00<?, ?it/s]"
      ]
     },
     "metadata": {},
     "output_type": "display_data"
    },
    {
     "name": "stdout",
     "output_type": "stream",
     "text": [
      "[Train] Accuracy: 81.6%, Avg loss: 0.446076 \n",
      "\n",
      "[Test] Accuracy: 81.1%, Avg loss: 0.478944 \n",
      "\n",
      "Epoch 248\n"
     ]
    },
    {
     "data": {
      "application/vnd.jupyter.widget-view+json": {
       "model_id": "be098e23fa7041a6a433017e9de7af94",
       "version_major": 2,
       "version_minor": 0
      },
      "text/plain": [
       "  0%|          | 0/2577 [00:00<?, ?it/s]"
      ]
     },
     "metadata": {},
     "output_type": "display_data"
    },
    {
     "name": "stdout",
     "output_type": "stream",
     "text": [
      "[Train] Accuracy: 81.5%, Avg loss: 0.445232 \n",
      "\n",
      "[Test] Accuracy: 81.0%, Avg loss: 0.473816 \n",
      "\n",
      "Epoch 249\n"
     ]
    },
    {
     "data": {
      "application/vnd.jupyter.widget-view+json": {
       "model_id": "bb42d9ab72034f4eb892f2d49b970f74",
       "version_major": 2,
       "version_minor": 0
      },
      "text/plain": [
       "  0%|          | 0/2577 [00:00<?, ?it/s]"
      ]
     },
     "metadata": {},
     "output_type": "display_data"
    },
    {
     "name": "stdout",
     "output_type": "stream",
     "text": [
      "[Train] Accuracy: 81.6%, Avg loss: 0.444740 \n",
      "\n",
      "[Test] Accuracy: 81.3%, Avg loss: 0.468375 \n",
      "\n",
      "Epoch 250\n"
     ]
    },
    {
     "data": {
      "application/vnd.jupyter.widget-view+json": {
       "model_id": "c1a619eabf2e42719a90c23a2f57ee80",
       "version_major": 2,
       "version_minor": 0
      },
      "text/plain": [
       "  0%|          | 0/2577 [00:00<?, ?it/s]"
      ]
     },
     "metadata": {},
     "output_type": "display_data"
    },
    {
     "name": "stdout",
     "output_type": "stream",
     "text": [
      "[Train] Accuracy: 81.5%, Avg loss: 0.445430 \n",
      "\n",
      "[Test] Accuracy: 81.2%, Avg loss: 0.473390 \n",
      "\n",
      "Epoch 251\n"
     ]
    },
    {
     "data": {
      "application/vnd.jupyter.widget-view+json": {
       "model_id": "dc3a4508563c4a069c41cfae18878c12",
       "version_major": 2,
       "version_minor": 0
      },
      "text/plain": [
       "  0%|          | 0/2577 [00:00<?, ?it/s]"
      ]
     },
     "metadata": {},
     "output_type": "display_data"
    },
    {
     "name": "stdout",
     "output_type": "stream",
     "text": [
      "[Train] Accuracy: 81.5%, Avg loss: 0.446045 \n",
      "\n",
      "[Test] Accuracy: 81.0%, Avg loss: 0.470815 \n",
      "\n",
      "Epoch 252\n"
     ]
    },
    {
     "data": {
      "application/vnd.jupyter.widget-view+json": {
       "model_id": "67c5a79bab2942e5a666925ae666e0cd",
       "version_major": 2,
       "version_minor": 0
      },
      "text/plain": [
       "  0%|          | 0/2577 [00:00<?, ?it/s]"
      ]
     },
     "metadata": {},
     "output_type": "display_data"
    },
    {
     "name": "stdout",
     "output_type": "stream",
     "text": [
      "[Train] Accuracy: 81.6%, Avg loss: 0.445099 \n",
      "\n",
      "[Test] Accuracy: 80.3%, Avg loss: 0.477522 \n",
      "\n",
      "Epoch 253\n"
     ]
    },
    {
     "data": {
      "application/vnd.jupyter.widget-view+json": {
       "model_id": "0b77084a8e73467ab99a08cb330d6ae5",
       "version_major": 2,
       "version_minor": 0
      },
      "text/plain": [
       "  0%|          | 0/2577 [00:00<?, ?it/s]"
      ]
     },
     "metadata": {},
     "output_type": "display_data"
    },
    {
     "name": "stdout",
     "output_type": "stream",
     "text": [
      "[Train] Accuracy: 81.5%, Avg loss: 0.445238 \n",
      "\n",
      "[Test] Accuracy: 80.0%, Avg loss: 0.481774 \n",
      "\n",
      "Epoch 254\n"
     ]
    },
    {
     "data": {
      "application/vnd.jupyter.widget-view+json": {
       "model_id": "acf21567a3c7401c82a550196b598441",
       "version_major": 2,
       "version_minor": 0
      },
      "text/plain": [
       "  0%|          | 0/2577 [00:00<?, ?it/s]"
      ]
     },
     "metadata": {},
     "output_type": "display_data"
    },
    {
     "name": "stdout",
     "output_type": "stream",
     "text": [
      "[Train] Accuracy: 81.6%, Avg loss: 0.443263 \n",
      "\n",
      "[Test] Accuracy: 81.1%, Avg loss: 0.506701 \n",
      "\n",
      "Epoch 255\n"
     ]
    },
    {
     "data": {
      "application/vnd.jupyter.widget-view+json": {
       "model_id": "d64e915b10de4f788566c4fe74499743",
       "version_major": 2,
       "version_minor": 0
      },
      "text/plain": [
       "  0%|          | 0/2577 [00:00<?, ?it/s]"
      ]
     },
     "metadata": {},
     "output_type": "display_data"
    },
    {
     "name": "stdout",
     "output_type": "stream",
     "text": [
      "[Train] Accuracy: 81.6%, Avg loss: 0.445745 \n",
      "\n",
      "[Test] Accuracy: 81.4%, Avg loss: 0.470730 \n",
      "\n",
      "Epoch 256\n"
     ]
    },
    {
     "data": {
      "application/vnd.jupyter.widget-view+json": {
       "model_id": "eef623ccc6a34b79b4df3c0aa5f29476",
       "version_major": 2,
       "version_minor": 0
      },
      "text/plain": [
       "  0%|          | 0/2577 [00:00<?, ?it/s]"
      ]
     },
     "metadata": {},
     "output_type": "display_data"
    },
    {
     "name": "stdout",
     "output_type": "stream",
     "text": [
      "[Train] Accuracy: 81.5%, Avg loss: 0.446273 \n",
      "\n",
      "[Test] Accuracy: 80.5%, Avg loss: 0.490673 \n",
      "\n",
      "Epoch 257\n"
     ]
    },
    {
     "data": {
      "application/vnd.jupyter.widget-view+json": {
       "model_id": "a4df2f394e7d41d09b453a768db98abd",
       "version_major": 2,
       "version_minor": 0
      },
      "text/plain": [
       "  0%|          | 0/2577 [00:00<?, ?it/s]"
      ]
     },
     "metadata": {},
     "output_type": "display_data"
    },
    {
     "name": "stdout",
     "output_type": "stream",
     "text": [
      "[Train] Accuracy: 81.6%, Avg loss: 0.444077 \n",
      "\n",
      "[Test] Accuracy: 81.1%, Avg loss: 0.469274 \n",
      "\n",
      "Epoch 258\n"
     ]
    },
    {
     "data": {
      "application/vnd.jupyter.widget-view+json": {
       "model_id": "40ea2e3fe5d34ac3b16eef6c8422b4c6",
       "version_major": 2,
       "version_minor": 0
      },
      "text/plain": [
       "  0%|          | 0/2577 [00:00<?, ?it/s]"
      ]
     },
     "metadata": {},
     "output_type": "display_data"
    },
    {
     "name": "stdout",
     "output_type": "stream",
     "text": [
      "[Train] Accuracy: 81.6%, Avg loss: 0.444323 \n",
      "\n",
      "[Test] Accuracy: 80.8%, Avg loss: 0.478436 \n",
      "\n",
      "Epoch 259\n"
     ]
    },
    {
     "data": {
      "application/vnd.jupyter.widget-view+json": {
       "model_id": "8893b0e77c5d4b85a2329cffadfeac4d",
       "version_major": 2,
       "version_minor": 0
      },
      "text/plain": [
       "  0%|          | 0/2577 [00:00<?, ?it/s]"
      ]
     },
     "metadata": {},
     "output_type": "display_data"
    },
    {
     "name": "stdout",
     "output_type": "stream",
     "text": [
      "[Train] Accuracy: 81.7%, Avg loss: 0.443324 \n",
      "\n",
      "[Test] Accuracy: 80.1%, Avg loss: 0.477313 \n",
      "\n",
      "Epoch 260\n"
     ]
    },
    {
     "data": {
      "application/vnd.jupyter.widget-view+json": {
       "model_id": "dfca44b34ecc4b6590a1b4ee4d17fa7a",
       "version_major": 2,
       "version_minor": 0
      },
      "text/plain": [
       "  0%|          | 0/2577 [00:00<?, ?it/s]"
      ]
     },
     "metadata": {},
     "output_type": "display_data"
    },
    {
     "name": "stdout",
     "output_type": "stream",
     "text": [
      "[Train] Accuracy: 81.5%, Avg loss: 0.444538 \n",
      "\n",
      "[Test] Accuracy: 81.2%, Avg loss: 0.496909 \n",
      "\n",
      "Epoch 261\n"
     ]
    },
    {
     "data": {
      "application/vnd.jupyter.widget-view+json": {
       "model_id": "f18897b0e1c4420a97bfd125f702ef82",
       "version_major": 2,
       "version_minor": 0
      },
      "text/plain": [
       "  0%|          | 0/2577 [00:00<?, ?it/s]"
      ]
     },
     "metadata": {},
     "output_type": "display_data"
    },
    {
     "name": "stdout",
     "output_type": "stream",
     "text": [
      "[Train] Accuracy: 81.6%, Avg loss: 0.443468 \n",
      "\n",
      "[Test] Accuracy: 80.3%, Avg loss: 0.500638 \n",
      "\n",
      "Epoch 262\n"
     ]
    },
    {
     "data": {
      "application/vnd.jupyter.widget-view+json": {
       "model_id": "8d2c351a5e4845298332f5b60ce35e42",
       "version_major": 2,
       "version_minor": 0
      },
      "text/plain": [
       "  0%|          | 0/2577 [00:00<?, ?it/s]"
      ]
     },
     "metadata": {},
     "output_type": "display_data"
    },
    {
     "name": "stdout",
     "output_type": "stream",
     "text": [
      "[Train] Accuracy: 81.6%, Avg loss: 0.443125 \n",
      "\n",
      "[Test] Accuracy: 80.0%, Avg loss: 0.486960 \n",
      "\n",
      "Epoch 263\n"
     ]
    },
    {
     "data": {
      "application/vnd.jupyter.widget-view+json": {
       "model_id": "361bb5eec29f4f12b5fa261a7af13e90",
       "version_major": 2,
       "version_minor": 0
      },
      "text/plain": [
       "  0%|          | 0/2577 [00:00<?, ?it/s]"
      ]
     },
     "metadata": {},
     "output_type": "display_data"
    },
    {
     "name": "stdout",
     "output_type": "stream",
     "text": [
      "[Train] Accuracy: 81.6%, Avg loss: 0.443769 \n",
      "\n",
      "[Test] Accuracy: 81.4%, Avg loss: 0.493207 \n",
      "\n",
      "Epoch 264\n"
     ]
    },
    {
     "data": {
      "application/vnd.jupyter.widget-view+json": {
       "model_id": "d501c39708014f66b54c6ac813d37b20",
       "version_major": 2,
       "version_minor": 0
      },
      "text/plain": [
       "  0%|          | 0/2577 [00:00<?, ?it/s]"
      ]
     },
     "metadata": {},
     "output_type": "display_data"
    },
    {
     "name": "stdout",
     "output_type": "stream",
     "text": [
      "[Train] Accuracy: 81.7%, Avg loss: 0.442882 \n",
      "\n",
      "[Test] Accuracy: 81.1%, Avg loss: 0.479781 \n",
      "\n",
      "Epoch 265\n"
     ]
    },
    {
     "data": {
      "application/vnd.jupyter.widget-view+json": {
       "model_id": "44e4f1f558864d1d810c578d5ce8c425",
       "version_major": 2,
       "version_minor": 0
      },
      "text/plain": [
       "  0%|          | 0/2577 [00:00<?, ?it/s]"
      ]
     },
     "metadata": {},
     "output_type": "display_data"
    },
    {
     "name": "stdout",
     "output_type": "stream",
     "text": [
      "[Train] Accuracy: 81.6%, Avg loss: 0.443261 \n",
      "\n",
      "[Test] Accuracy: 81.4%, Avg loss: 0.465469 \n",
      "\n",
      "Epoch 266\n"
     ]
    },
    {
     "data": {
      "application/vnd.jupyter.widget-view+json": {
       "model_id": "d2129b05475146f8b5092244e32eb00f",
       "version_major": 2,
       "version_minor": 0
      },
      "text/plain": [
       "  0%|          | 0/2577 [00:00<?, ?it/s]"
      ]
     },
     "metadata": {},
     "output_type": "display_data"
    },
    {
     "name": "stdout",
     "output_type": "stream",
     "text": [
      "[Train] Accuracy: 81.6%, Avg loss: 0.443851 \n",
      "\n",
      "[Test] Accuracy: 80.8%, Avg loss: 0.489778 \n",
      "\n",
      "Epoch 267\n"
     ]
    },
    {
     "data": {
      "application/vnd.jupyter.widget-view+json": {
       "model_id": "329512d5e63f4ccc9655acb140955bbf",
       "version_major": 2,
       "version_minor": 0
      },
      "text/plain": [
       "  0%|          | 0/2577 [00:00<?, ?it/s]"
      ]
     },
     "metadata": {},
     "output_type": "display_data"
    },
    {
     "name": "stdout",
     "output_type": "stream",
     "text": [
      "[Train] Accuracy: 81.7%, Avg loss: 0.442279 \n",
      "\n",
      "[Test] Accuracy: 81.2%, Avg loss: 0.471404 \n",
      "\n",
      "Epoch 268\n"
     ]
    },
    {
     "data": {
      "application/vnd.jupyter.widget-view+json": {
       "model_id": "ee61e0f80501499a81a12f1e593f2492",
       "version_major": 2,
       "version_minor": 0
      },
      "text/plain": [
       "  0%|          | 0/2577 [00:00<?, ?it/s]"
      ]
     },
     "metadata": {},
     "output_type": "display_data"
    },
    {
     "name": "stdout",
     "output_type": "stream",
     "text": [
      "[Train] Accuracy: 81.5%, Avg loss: 0.443857 \n",
      "\n",
      "[Test] Accuracy: 81.1%, Avg loss: 0.468922 \n",
      "\n",
      "Epoch 269\n"
     ]
    },
    {
     "data": {
      "application/vnd.jupyter.widget-view+json": {
       "model_id": "829a915bce294ada99ce68bdbcf1223c",
       "version_major": 2,
       "version_minor": 0
      },
      "text/plain": [
       "  0%|          | 0/2577 [00:00<?, ?it/s]"
      ]
     },
     "metadata": {},
     "output_type": "display_data"
    },
    {
     "name": "stdout",
     "output_type": "stream",
     "text": [
      "[Train] Accuracy: 81.6%, Avg loss: 0.443869 \n",
      "\n",
      "[Test] Accuracy: 81.3%, Avg loss: 0.475518 \n",
      "\n",
      "Epoch 270\n"
     ]
    },
    {
     "data": {
      "application/vnd.jupyter.widget-view+json": {
       "model_id": "85910e86764c412b9d3e3866ecd33216",
       "version_major": 2,
       "version_minor": 0
      },
      "text/plain": [
       "  0%|          | 0/2577 [00:00<?, ?it/s]"
      ]
     },
     "metadata": {},
     "output_type": "display_data"
    },
    {
     "name": "stdout",
     "output_type": "stream",
     "text": [
      "[Train] Accuracy: 81.6%, Avg loss: 0.443171 \n",
      "\n",
      "[Test] Accuracy: 80.0%, Avg loss: 0.499499 \n",
      "\n",
      "Epoch 271\n"
     ]
    },
    {
     "data": {
      "application/vnd.jupyter.widget-view+json": {
       "model_id": "6a33d79233f54eefbfb4a9f0cb0b599c",
       "version_major": 2,
       "version_minor": 0
      },
      "text/plain": [
       "  0%|          | 0/2577 [00:00<?, ?it/s]"
      ]
     },
     "metadata": {},
     "output_type": "display_data"
    },
    {
     "name": "stdout",
     "output_type": "stream",
     "text": [
      "[Train] Accuracy: 81.7%, Avg loss: 0.441707 \n",
      "\n",
      "[Test] Accuracy: 80.8%, Avg loss: 0.480930 \n",
      "\n",
      "Epoch 272\n"
     ]
    },
    {
     "data": {
      "application/vnd.jupyter.widget-view+json": {
       "model_id": "38341d875cfe4aa8bca6cb7b1451c390",
       "version_major": 2,
       "version_minor": 0
      },
      "text/plain": [
       "  0%|          | 0/2577 [00:00<?, ?it/s]"
      ]
     },
     "metadata": {},
     "output_type": "display_data"
    },
    {
     "name": "stdout",
     "output_type": "stream",
     "text": [
      "[Train] Accuracy: 81.7%, Avg loss: 0.441166 \n",
      "\n",
      "[Test] Accuracy: 81.4%, Avg loss: 0.468306 \n",
      "\n",
      "Epoch 273\n"
     ]
    },
    {
     "data": {
      "application/vnd.jupyter.widget-view+json": {
       "model_id": "f0b1192df4ae4e0f9d86f3fb0d870df3",
       "version_major": 2,
       "version_minor": 0
      },
      "text/plain": [
       "  0%|          | 0/2577 [00:00<?, ?it/s]"
      ]
     },
     "metadata": {},
     "output_type": "display_data"
    },
    {
     "name": "stdout",
     "output_type": "stream",
     "text": [
      "[Train] Accuracy: 81.7%, Avg loss: 0.442203 \n",
      "\n",
      "[Test] Accuracy: 81.2%, Avg loss: 0.499855 \n",
      "\n",
      "Epoch 274\n"
     ]
    },
    {
     "data": {
      "application/vnd.jupyter.widget-view+json": {
       "model_id": "70ab1e61fff344fab4327ab42645a101",
       "version_major": 2,
       "version_minor": 0
      },
      "text/plain": [
       "  0%|          | 0/2577 [00:00<?, ?it/s]"
      ]
     },
     "metadata": {},
     "output_type": "display_data"
    },
    {
     "name": "stdout",
     "output_type": "stream",
     "text": [
      "[Train] Accuracy: 81.6%, Avg loss: 0.442625 \n",
      "\n",
      "[Test] Accuracy: 80.9%, Avg loss: 0.486995 \n",
      "\n",
      "Epoch 275\n"
     ]
    },
    {
     "data": {
      "application/vnd.jupyter.widget-view+json": {
       "model_id": "6da3c13a9dd54219bf3eb74756c06324",
       "version_major": 2,
       "version_minor": 0
      },
      "text/plain": [
       "  0%|          | 0/2577 [00:00<?, ?it/s]"
      ]
     },
     "metadata": {},
     "output_type": "display_data"
    },
    {
     "name": "stdout",
     "output_type": "stream",
     "text": [
      "[Train] Accuracy: 81.7%, Avg loss: 0.441434 \n",
      "\n",
      "[Test] Accuracy: 80.6%, Avg loss: 0.478034 \n",
      "\n",
      "Epoch 276\n"
     ]
    },
    {
     "data": {
      "application/vnd.jupyter.widget-view+json": {
       "model_id": "c42de386d88b4043af40a734f752e207",
       "version_major": 2,
       "version_minor": 0
      },
      "text/plain": [
       "  0%|          | 0/2577 [00:00<?, ?it/s]"
      ]
     },
     "metadata": {},
     "output_type": "display_data"
    },
    {
     "name": "stdout",
     "output_type": "stream",
     "text": [
      "[Train] Accuracy: 81.7%, Avg loss: 0.441800 \n",
      "\n",
      "[Test] Accuracy: 81.3%, Avg loss: 0.470133 \n",
      "\n",
      "Epoch 277\n"
     ]
    },
    {
     "data": {
      "application/vnd.jupyter.widget-view+json": {
       "model_id": "0313163844224a758cd87e86f17f3e2d",
       "version_major": 2,
       "version_minor": 0
      },
      "text/plain": [
       "  0%|          | 0/2577 [00:00<?, ?it/s]"
      ]
     },
     "metadata": {},
     "output_type": "display_data"
    },
    {
     "name": "stdout",
     "output_type": "stream",
     "text": [
      "[Train] Accuracy: 81.6%, Avg loss: 0.442507 \n",
      "\n",
      "[Test] Accuracy: 81.4%, Avg loss: 0.491330 \n",
      "\n",
      "Epoch 278\n"
     ]
    },
    {
     "data": {
      "application/vnd.jupyter.widget-view+json": {
       "model_id": "4dbfa0cb37104e5380f332ddd9483fcd",
       "version_major": 2,
       "version_minor": 0
      },
      "text/plain": [
       "  0%|          | 0/2577 [00:00<?, ?it/s]"
      ]
     },
     "metadata": {},
     "output_type": "display_data"
    },
    {
     "name": "stdout",
     "output_type": "stream",
     "text": [
      "[Train] Accuracy: 81.7%, Avg loss: 0.441623 \n",
      "\n",
      "[Test] Accuracy: 81.2%, Avg loss: 0.481982 \n",
      "\n",
      "Epoch 279\n"
     ]
    },
    {
     "data": {
      "application/vnd.jupyter.widget-view+json": {
       "model_id": "f9e2511f02e9461f923cf311b718fcb1",
       "version_major": 2,
       "version_minor": 0
      },
      "text/plain": [
       "  0%|          | 0/2577 [00:00<?, ?it/s]"
      ]
     },
     "metadata": {},
     "output_type": "display_data"
    },
    {
     "name": "stdout",
     "output_type": "stream",
     "text": [
      "[Train] Accuracy: 81.8%, Avg loss: 0.441168 \n",
      "\n",
      "[Test] Accuracy: 80.1%, Avg loss: 0.475369 \n",
      "\n",
      "Epoch 280\n"
     ]
    },
    {
     "data": {
      "application/vnd.jupyter.widget-view+json": {
       "model_id": "7d4046b7bc934775959080ae7bb018a1",
       "version_major": 2,
       "version_minor": 0
      },
      "text/plain": [
       "  0%|          | 0/2577 [00:00<?, ?it/s]"
      ]
     },
     "metadata": {},
     "output_type": "display_data"
    },
    {
     "name": "stdout",
     "output_type": "stream",
     "text": [
      "[Train] Accuracy: 81.7%, Avg loss: 0.441355 \n",
      "\n",
      "[Test] Accuracy: 80.6%, Avg loss: 0.469658 \n",
      "\n",
      "Epoch 281\n"
     ]
    },
    {
     "data": {
      "application/vnd.jupyter.widget-view+json": {
       "model_id": "b2f945b0c4f54faa91f515f086481454",
       "version_major": 2,
       "version_minor": 0
      },
      "text/plain": [
       "  0%|          | 0/2577 [00:00<?, ?it/s]"
      ]
     },
     "metadata": {},
     "output_type": "display_data"
    },
    {
     "name": "stdout",
     "output_type": "stream",
     "text": [
      "[Train] Accuracy: 81.7%, Avg loss: 0.440988 \n",
      "\n",
      "[Test] Accuracy: 80.6%, Avg loss: 0.472103 \n",
      "\n",
      "Epoch 282\n"
     ]
    },
    {
     "data": {
      "application/vnd.jupyter.widget-view+json": {
       "model_id": "e1ef97ef8a5844e485713c277e248be1",
       "version_major": 2,
       "version_minor": 0
      },
      "text/plain": [
       "  0%|          | 0/2577 [00:00<?, ?it/s]"
      ]
     },
     "metadata": {},
     "output_type": "display_data"
    },
    {
     "name": "stdout",
     "output_type": "stream",
     "text": [
      "[Train] Accuracy: 81.7%, Avg loss: 0.441430 \n",
      "\n",
      "[Test] Accuracy: 80.6%, Avg loss: 0.468756 \n",
      "\n",
      "Epoch 283\n"
     ]
    },
    {
     "data": {
      "application/vnd.jupyter.widget-view+json": {
       "model_id": "570cd76335374f84be68faa3509b4036",
       "version_major": 2,
       "version_minor": 0
      },
      "text/plain": [
       "  0%|          | 0/2577 [00:00<?, ?it/s]"
      ]
     },
     "metadata": {},
     "output_type": "display_data"
    },
    {
     "name": "stdout",
     "output_type": "stream",
     "text": [
      "[Train] Accuracy: 81.7%, Avg loss: 0.440490 \n",
      "\n",
      "[Test] Accuracy: 80.4%, Avg loss: 0.471239 \n",
      "\n",
      "Epoch 284\n"
     ]
    },
    {
     "data": {
      "application/vnd.jupyter.widget-view+json": {
       "model_id": "31727c1d65f440e89a94d08a2910dc99",
       "version_major": 2,
       "version_minor": 0
      },
      "text/plain": [
       "  0%|          | 0/2577 [00:00<?, ?it/s]"
      ]
     },
     "metadata": {},
     "output_type": "display_data"
    },
    {
     "name": "stdout",
     "output_type": "stream",
     "text": [
      "[Train] Accuracy: 81.8%, Avg loss: 0.439859 \n",
      "\n",
      "[Test] Accuracy: 81.6%, Avg loss: 0.467362 \n",
      "\n",
      "Epoch 285\n"
     ]
    },
    {
     "data": {
      "application/vnd.jupyter.widget-view+json": {
       "model_id": "5f4baccc4fa64253808fff7d670c78bc",
       "version_major": 2,
       "version_minor": 0
      },
      "text/plain": [
       "  0%|          | 0/2577 [00:00<?, ?it/s]"
      ]
     },
     "metadata": {},
     "output_type": "display_data"
    },
    {
     "name": "stdout",
     "output_type": "stream",
     "text": [
      "[Train] Accuracy: 81.7%, Avg loss: 0.440628 \n",
      "\n",
      "[Test] Accuracy: 81.2%, Avg loss: 0.464917 \n",
      "\n",
      "Epoch 286\n"
     ]
    },
    {
     "data": {
      "application/vnd.jupyter.widget-view+json": {
       "model_id": "5041100e6df54b58bb313ed97702d93f",
       "version_major": 2,
       "version_minor": 0
      },
      "text/plain": [
       "  0%|          | 0/2577 [00:00<?, ?it/s]"
      ]
     },
     "metadata": {},
     "output_type": "display_data"
    },
    {
     "name": "stdout",
     "output_type": "stream",
     "text": [
      "[Train] Accuracy: 81.8%, Avg loss: 0.439582 \n",
      "\n",
      "[Test] Accuracy: 81.4%, Avg loss: 0.471739 \n",
      "\n",
      "Epoch 287\n"
     ]
    },
    {
     "data": {
      "application/vnd.jupyter.widget-view+json": {
       "model_id": "b76c1197c3684ba88a4670d38c48c660",
       "version_major": 2,
       "version_minor": 0
      },
      "text/plain": [
       "  0%|          | 0/2577 [00:00<?, ?it/s]"
      ]
     },
     "metadata": {},
     "output_type": "display_data"
    },
    {
     "name": "stdout",
     "output_type": "stream",
     "text": [
      "[Train] Accuracy: 81.7%, Avg loss: 0.439499 \n",
      "\n",
      "[Test] Accuracy: 80.3%, Avg loss: 0.491019 \n",
      "\n",
      "Epoch 288\n"
     ]
    },
    {
     "data": {
      "application/vnd.jupyter.widget-view+json": {
       "model_id": "1f7752129d73418c87b9c47543ab6119",
       "version_major": 2,
       "version_minor": 0
      },
      "text/plain": [
       "  0%|          | 0/2577 [00:00<?, ?it/s]"
      ]
     },
     "metadata": {},
     "output_type": "display_data"
    },
    {
     "name": "stdout",
     "output_type": "stream",
     "text": [
      "[Train] Accuracy: 81.8%, Avg loss: 0.438528 \n",
      "\n",
      "[Test] Accuracy: 81.2%, Avg loss: 0.474849 \n",
      "\n",
      "Epoch 289\n"
     ]
    },
    {
     "data": {
      "application/vnd.jupyter.widget-view+json": {
       "model_id": "97a37d77cde7417686c0e3e6b4620c13",
       "version_major": 2,
       "version_minor": 0
      },
      "text/plain": [
       "  0%|          | 0/2577 [00:00<?, ?it/s]"
      ]
     },
     "metadata": {},
     "output_type": "display_data"
    },
    {
     "name": "stdout",
     "output_type": "stream",
     "text": [
      "[Train] Accuracy: 81.8%, Avg loss: 0.439118 \n",
      "\n",
      "[Test] Accuracy: 81.0%, Avg loss: 0.481474 \n",
      "\n",
      "Epoch 290\n"
     ]
    },
    {
     "data": {
      "application/vnd.jupyter.widget-view+json": {
       "model_id": "60b0a711e46044c98d07cc5228fae3c0",
       "version_major": 2,
       "version_minor": 0
      },
      "text/plain": [
       "  0%|          | 0/2577 [00:00<?, ?it/s]"
      ]
     },
     "metadata": {},
     "output_type": "display_data"
    },
    {
     "name": "stdout",
     "output_type": "stream",
     "text": [
      "[Train] Accuracy: 81.7%, Avg loss: 0.438344 \n",
      "\n",
      "[Test] Accuracy: 80.9%, Avg loss: 0.491266 \n",
      "\n",
      "Epoch 291\n"
     ]
    },
    {
     "data": {
      "application/vnd.jupyter.widget-view+json": {
       "model_id": "1fd4b677b6d340868cf3eaa41d4c2d23",
       "version_major": 2,
       "version_minor": 0
      },
      "text/plain": [
       "  0%|          | 0/2577 [00:00<?, ?it/s]"
      ]
     },
     "metadata": {},
     "output_type": "display_data"
    },
    {
     "name": "stdout",
     "output_type": "stream",
     "text": [
      "[Train] Accuracy: 81.8%, Avg loss: 0.439742 \n",
      "\n",
      "[Test] Accuracy: 81.4%, Avg loss: 0.498436 \n",
      "\n",
      "Epoch 292\n"
     ]
    },
    {
     "data": {
      "application/vnd.jupyter.widget-view+json": {
       "model_id": "0d961051ebd04deaa82e3dee445d3ef6",
       "version_major": 2,
       "version_minor": 0
      },
      "text/plain": [
       "  0%|          | 0/2577 [00:00<?, ?it/s]"
      ]
     },
     "metadata": {},
     "output_type": "display_data"
    },
    {
     "name": "stdout",
     "output_type": "stream",
     "text": [
      "[Train] Accuracy: 81.9%, Avg loss: 0.438420 \n",
      "\n",
      "[Test] Accuracy: 81.4%, Avg loss: 0.470909 \n",
      "\n",
      "Epoch 293\n"
     ]
    },
    {
     "data": {
      "application/vnd.jupyter.widget-view+json": {
       "model_id": "ae5fce0823f24c69a6e17a30ca313977",
       "version_major": 2,
       "version_minor": 0
      },
      "text/plain": [
       "  0%|          | 0/2577 [00:00<?, ?it/s]"
      ]
     },
     "metadata": {},
     "output_type": "display_data"
    },
    {
     "name": "stdout",
     "output_type": "stream",
     "text": [
      "[Train] Accuracy: 81.8%, Avg loss: 0.440170 \n",
      "\n",
      "[Test] Accuracy: 80.0%, Avg loss: 0.511877 \n",
      "\n",
      "Epoch 294\n"
     ]
    },
    {
     "data": {
      "application/vnd.jupyter.widget-view+json": {
       "model_id": "dae0c0bde5414b658ec22265e4b8ff9a",
       "version_major": 2,
       "version_minor": 0
      },
      "text/plain": [
       "  0%|          | 0/2577 [00:00<?, ?it/s]"
      ]
     },
     "metadata": {},
     "output_type": "display_data"
    },
    {
     "name": "stdout",
     "output_type": "stream",
     "text": [
      "[Train] Accuracy: 81.7%, Avg loss: 0.439407 \n",
      "\n",
      "[Test] Accuracy: 81.3%, Avg loss: 0.473997 \n",
      "\n",
      "Epoch 295\n"
     ]
    },
    {
     "data": {
      "application/vnd.jupyter.widget-view+json": {
       "model_id": "2012fd4bd0274a12abc914793e3eb203",
       "version_major": 2,
       "version_minor": 0
      },
      "text/plain": [
       "  0%|          | 0/2577 [00:00<?, ?it/s]"
      ]
     },
     "metadata": {},
     "output_type": "display_data"
    },
    {
     "name": "stdout",
     "output_type": "stream",
     "text": [
      "[Train] Accuracy: 81.9%, Avg loss: 0.438727 \n",
      "\n",
      "[Test] Accuracy: 81.4%, Avg loss: 0.465654 \n",
      "\n",
      "Epoch 296\n"
     ]
    },
    {
     "data": {
      "application/vnd.jupyter.widget-view+json": {
       "model_id": "1dabd4d9925b43ed95c7323a5b701d35",
       "version_major": 2,
       "version_minor": 0
      },
      "text/plain": [
       "  0%|          | 0/2577 [00:00<?, ?it/s]"
      ]
     },
     "metadata": {},
     "output_type": "display_data"
    },
    {
     "name": "stdout",
     "output_type": "stream",
     "text": [
      "[Train] Accuracy: 81.8%, Avg loss: 0.438743 \n",
      "\n",
      "[Test] Accuracy: 81.4%, Avg loss: 0.489758 \n",
      "\n",
      "Epoch 297\n"
     ]
    },
    {
     "data": {
      "application/vnd.jupyter.widget-view+json": {
       "model_id": "2896cc2d3bcc438fa2cdca16c46d5a1c",
       "version_major": 2,
       "version_minor": 0
      },
      "text/plain": [
       "  0%|          | 0/2577 [00:00<?, ?it/s]"
      ]
     },
     "metadata": {},
     "output_type": "display_data"
    },
    {
     "name": "stdout",
     "output_type": "stream",
     "text": [
      "[Train] Accuracy: 81.7%, Avg loss: 0.439175 \n",
      "\n",
      "[Test] Accuracy: 81.3%, Avg loss: 0.498024 \n",
      "\n",
      "Epoch 298\n"
     ]
    },
    {
     "data": {
      "application/vnd.jupyter.widget-view+json": {
       "model_id": "b102d1dfc128406695bbca6fa5f856bc",
       "version_major": 2,
       "version_minor": 0
      },
      "text/plain": [
       "  0%|          | 0/2577 [00:00<?, ?it/s]"
      ]
     },
     "metadata": {},
     "output_type": "display_data"
    },
    {
     "name": "stdout",
     "output_type": "stream",
     "text": [
      "[Train] Accuracy: 81.8%, Avg loss: 0.439131 \n",
      "\n",
      "[Test] Accuracy: 80.8%, Avg loss: 0.499322 \n",
      "\n",
      "Epoch 299\n"
     ]
    },
    {
     "data": {
      "application/vnd.jupyter.widget-view+json": {
       "model_id": "08be3f11ccdd49d3bfde4c918b5578a0",
       "version_major": 2,
       "version_minor": 0
      },
      "text/plain": [
       "  0%|          | 0/2577 [00:00<?, ?it/s]"
      ]
     },
     "metadata": {},
     "output_type": "display_data"
    },
    {
     "name": "stdout",
     "output_type": "stream",
     "text": [
      "[Train] Accuracy: 81.8%, Avg loss: 0.439168 \n",
      "\n",
      "[Test] Accuracy: 80.5%, Avg loss: 0.468831 \n",
      "\n",
      "Epoch 300\n"
     ]
    },
    {
     "data": {
      "application/vnd.jupyter.widget-view+json": {
       "model_id": "f33b750c948647c9bf8b8785735f6e69",
       "version_major": 2,
       "version_minor": 0
      },
      "text/plain": [
       "  0%|          | 0/2577 [00:00<?, ?it/s]"
      ]
     },
     "metadata": {},
     "output_type": "display_data"
    },
    {
     "name": "stdout",
     "output_type": "stream",
     "text": [
      "[Train] Accuracy: 81.9%, Avg loss: 0.437879 \n",
      "\n",
      "[Test] Accuracy: 80.2%, Avg loss: 0.479030 \n",
      "\n",
      "Epoch 301\n"
     ]
    },
    {
     "data": {
      "application/vnd.jupyter.widget-view+json": {
       "model_id": "1c455a79d61a4296a8f1f32de1b57d4c",
       "version_major": 2,
       "version_minor": 0
      },
      "text/plain": [
       "  0%|          | 0/2577 [00:00<?, ?it/s]"
      ]
     },
     "metadata": {},
     "output_type": "display_data"
    },
    {
     "name": "stdout",
     "output_type": "stream",
     "text": [
      "[Train] Accuracy: 81.8%, Avg loss: 0.438918 \n",
      "\n",
      "[Test] Accuracy: 81.3%, Avg loss: 0.465374 \n",
      "\n",
      "Epoch 302\n"
     ]
    },
    {
     "data": {
      "application/vnd.jupyter.widget-view+json": {
       "model_id": "55c72a2aed7c420dbeb214715f615b73",
       "version_major": 2,
       "version_minor": 0
      },
      "text/plain": [
       "  0%|          | 0/2577 [00:00<?, ?it/s]"
      ]
     },
     "metadata": {},
     "output_type": "display_data"
    },
    {
     "name": "stdout",
     "output_type": "stream",
     "text": [
      "[Train] Accuracy: 81.7%, Avg loss: 0.439526 \n",
      "\n",
      "[Test] Accuracy: 81.2%, Avg loss: 0.469167 \n",
      "\n",
      "Epoch 303\n"
     ]
    },
    {
     "data": {
      "application/vnd.jupyter.widget-view+json": {
       "model_id": "63d2cfd6f83a49bf944e4474dcfad2d8",
       "version_major": 2,
       "version_minor": 0
      },
      "text/plain": [
       "  0%|          | 0/2577 [00:00<?, ?it/s]"
      ]
     },
     "metadata": {},
     "output_type": "display_data"
    },
    {
     "name": "stdout",
     "output_type": "stream",
     "text": [
      "[Train] Accuracy: 81.8%, Avg loss: 0.437679 \n",
      "\n",
      "[Test] Accuracy: 81.4%, Avg loss: 0.471247 \n",
      "\n",
      "Epoch 304\n"
     ]
    },
    {
     "data": {
      "application/vnd.jupyter.widget-view+json": {
       "model_id": "b5db8dd3003d4201af1c24011d599d62",
       "version_major": 2,
       "version_minor": 0
      },
      "text/plain": [
       "  0%|          | 0/2577 [00:00<?, ?it/s]"
      ]
     },
     "metadata": {},
     "output_type": "display_data"
    },
    {
     "name": "stdout",
     "output_type": "stream",
     "text": [
      "[Train] Accuracy: 81.8%, Avg loss: 0.439735 \n",
      "\n",
      "[Test] Accuracy: 81.1%, Avg loss: 0.506901 \n",
      "\n",
      "Epoch 305\n"
     ]
    },
    {
     "data": {
      "application/vnd.jupyter.widget-view+json": {
       "model_id": "5b8e6b1bf54548b98b7caf20ee661e66",
       "version_major": 2,
       "version_minor": 0
      },
      "text/plain": [
       "  0%|          | 0/2577 [00:00<?, ?it/s]"
      ]
     },
     "metadata": {},
     "output_type": "display_data"
    },
    {
     "name": "stdout",
     "output_type": "stream",
     "text": [
      "[Train] Accuracy: 81.9%, Avg loss: 0.438391 \n",
      "\n",
      "[Test] Accuracy: 81.1%, Avg loss: 0.469113 \n",
      "\n",
      "Epoch 306\n"
     ]
    },
    {
     "data": {
      "application/vnd.jupyter.widget-view+json": {
       "model_id": "df4b7331011548cf92e3312512e92e39",
       "version_major": 2,
       "version_minor": 0
      },
      "text/plain": [
       "  0%|          | 0/2577 [00:00<?, ?it/s]"
      ]
     },
     "metadata": {},
     "output_type": "display_data"
    },
    {
     "name": "stdout",
     "output_type": "stream",
     "text": [
      "[Train] Accuracy: 81.8%, Avg loss: 0.438303 \n",
      "\n",
      "[Test] Accuracy: 81.5%, Avg loss: 0.469570 \n",
      "\n",
      "Epoch 307\n"
     ]
    },
    {
     "data": {
      "application/vnd.jupyter.widget-view+json": {
       "model_id": "407e96a21dd043daab44e5f53a93adbc",
       "version_major": 2,
       "version_minor": 0
      },
      "text/plain": [
       "  0%|          | 0/2577 [00:00<?, ?it/s]"
      ]
     },
     "metadata": {},
     "output_type": "display_data"
    },
    {
     "name": "stdout",
     "output_type": "stream",
     "text": [
      "[Train] Accuracy: 81.8%, Avg loss: 0.437858 \n",
      "\n",
      "[Test] Accuracy: 80.9%, Avg loss: 0.468252 \n",
      "\n",
      "Epoch 308\n"
     ]
    },
    {
     "data": {
      "application/vnd.jupyter.widget-view+json": {
       "model_id": "fb00488a70d14871846d223a8b4e8de8",
       "version_major": 2,
       "version_minor": 0
      },
      "text/plain": [
       "  0%|          | 0/2577 [00:00<?, ?it/s]"
      ]
     },
     "metadata": {},
     "output_type": "display_data"
    },
    {
     "name": "stdout",
     "output_type": "stream",
     "text": [
      "[Train] Accuracy: 81.8%, Avg loss: 0.437204 \n",
      "\n",
      "[Test] Accuracy: 81.1%, Avg loss: 0.465703 \n",
      "\n",
      "Epoch 309\n"
     ]
    },
    {
     "data": {
      "application/vnd.jupyter.widget-view+json": {
       "model_id": "30aea25c266d4836a29dea01a9ce3781",
       "version_major": 2,
       "version_minor": 0
      },
      "text/plain": [
       "  0%|          | 0/2577 [00:00<?, ?it/s]"
      ]
     },
     "metadata": {},
     "output_type": "display_data"
    },
    {
     "name": "stdout",
     "output_type": "stream",
     "text": [
      "[Train] Accuracy: 81.9%, Avg loss: 0.436596 \n",
      "\n",
      "[Test] Accuracy: 80.6%, Avg loss: 0.471102 \n",
      "\n",
      "Epoch 310\n"
     ]
    },
    {
     "data": {
      "application/vnd.jupyter.widget-view+json": {
       "model_id": "e98c2ad79a9b46839cebe4b540218114",
       "version_major": 2,
       "version_minor": 0
      },
      "text/plain": [
       "  0%|          | 0/2577 [00:00<?, ?it/s]"
      ]
     },
     "metadata": {},
     "output_type": "display_data"
    },
    {
     "name": "stdout",
     "output_type": "stream",
     "text": [
      "[Train] Accuracy: 81.9%, Avg loss: 0.436529 \n",
      "\n",
      "[Test] Accuracy: 80.9%, Avg loss: 0.473380 \n",
      "\n",
      "Epoch 311\n"
     ]
    },
    {
     "data": {
      "application/vnd.jupyter.widget-view+json": {
       "model_id": "6f5100b0a8604fd58a50a068e5a3bb22",
       "version_major": 2,
       "version_minor": 0
      },
      "text/plain": [
       "  0%|          | 0/2577 [00:00<?, ?it/s]"
      ]
     },
     "metadata": {},
     "output_type": "display_data"
    },
    {
     "name": "stdout",
     "output_type": "stream",
     "text": [
      "[Train] Accuracy: 81.9%, Avg loss: 0.436292 \n",
      "\n",
      "[Test] Accuracy: 80.9%, Avg loss: 0.480610 \n",
      "\n",
      "Epoch 312\n"
     ]
    },
    {
     "data": {
      "application/vnd.jupyter.widget-view+json": {
       "model_id": "e64c5be300674fd897d6141357cb941e",
       "version_major": 2,
       "version_minor": 0
      },
      "text/plain": [
       "  0%|          | 0/2577 [00:00<?, ?it/s]"
      ]
     },
     "metadata": {},
     "output_type": "display_data"
    },
    {
     "name": "stdout",
     "output_type": "stream",
     "text": [
      "[Train] Accuracy: 81.8%, Avg loss: 0.436979 \n",
      "\n",
      "[Test] Accuracy: 80.5%, Avg loss: 0.487021 \n",
      "\n",
      "Epoch 313\n"
     ]
    },
    {
     "data": {
      "application/vnd.jupyter.widget-view+json": {
       "model_id": "89d6eb7a9c814e2fb3f9cc10e92355a1",
       "version_major": 2,
       "version_minor": 0
      },
      "text/plain": [
       "  0%|          | 0/2577 [00:00<?, ?it/s]"
      ]
     },
     "metadata": {},
     "output_type": "display_data"
    },
    {
     "name": "stdout",
     "output_type": "stream",
     "text": [
      "[Train] Accuracy: 81.9%, Avg loss: 0.437100 \n",
      "\n",
      "[Test] Accuracy: 81.4%, Avg loss: 0.481692 \n",
      "\n",
      "Epoch 314\n"
     ]
    },
    {
     "data": {
      "application/vnd.jupyter.widget-view+json": {
       "model_id": "55d6765727314af39643d6edeb9d303e",
       "version_major": 2,
       "version_minor": 0
      },
      "text/plain": [
       "  0%|          | 0/2577 [00:00<?, ?it/s]"
      ]
     },
     "metadata": {},
     "output_type": "display_data"
    },
    {
     "name": "stdout",
     "output_type": "stream",
     "text": [
      "[Train] Accuracy: 81.8%, Avg loss: 0.437298 \n",
      "\n",
      "[Test] Accuracy: 81.5%, Avg loss: 0.488582 \n",
      "\n",
      "Epoch 315\n"
     ]
    },
    {
     "data": {
      "application/vnd.jupyter.widget-view+json": {
       "model_id": "bb52ed60eb4a4f45a8cc9952cf483f48",
       "version_major": 2,
       "version_minor": 0
      },
      "text/plain": [
       "  0%|          | 0/2577 [00:00<?, ?it/s]"
      ]
     },
     "metadata": {},
     "output_type": "display_data"
    },
    {
     "name": "stdout",
     "output_type": "stream",
     "text": [
      "[Train] Accuracy: 81.9%, Avg loss: 0.437465 \n",
      "\n",
      "[Test] Accuracy: 81.4%, Avg loss: 0.468044 \n",
      "\n",
      "Epoch 316\n"
     ]
    },
    {
     "data": {
      "application/vnd.jupyter.widget-view+json": {
       "model_id": "37d0e9b6e2a14a87a64ed384bee3d658",
       "version_major": 2,
       "version_minor": 0
      },
      "text/plain": [
       "  0%|          | 0/2577 [00:00<?, ?it/s]"
      ]
     },
     "metadata": {},
     "output_type": "display_data"
    },
    {
     "name": "stdout",
     "output_type": "stream",
     "text": [
      "[Train] Accuracy: 81.8%, Avg loss: 0.437377 \n",
      "\n",
      "[Test] Accuracy: 79.9%, Avg loss: 0.495865 \n",
      "\n",
      "Epoch 317\n"
     ]
    },
    {
     "data": {
      "application/vnd.jupyter.widget-view+json": {
       "model_id": "42433fefaccd4d6da52925cb998a0083",
       "version_major": 2,
       "version_minor": 0
      },
      "text/plain": [
       "  0%|          | 0/2577 [00:00<?, ?it/s]"
      ]
     },
     "metadata": {},
     "output_type": "display_data"
    },
    {
     "name": "stdout",
     "output_type": "stream",
     "text": [
      "[Train] Accuracy: 82.0%, Avg loss: 0.436579 \n",
      "\n",
      "[Test] Accuracy: 81.3%, Avg loss: 0.476876 \n",
      "\n",
      "Epoch 318\n"
     ]
    },
    {
     "data": {
      "application/vnd.jupyter.widget-view+json": {
       "model_id": "2f42132f21a147ce8d7bf29cb593ad05",
       "version_major": 2,
       "version_minor": 0
      },
      "text/plain": [
       "  0%|          | 0/2577 [00:00<?, ?it/s]"
      ]
     },
     "metadata": {},
     "output_type": "display_data"
    },
    {
     "name": "stdout",
     "output_type": "stream",
     "text": [
      "[Train] Accuracy: 81.9%, Avg loss: 0.438285 \n",
      "\n",
      "[Test] Accuracy: 81.2%, Avg loss: 0.469998 \n",
      "\n",
      "Epoch 319\n"
     ]
    },
    {
     "data": {
      "application/vnd.jupyter.widget-view+json": {
       "model_id": "8e3925ec25134897b4c5f2d35ae19280",
       "version_major": 2,
       "version_minor": 0
      },
      "text/plain": [
       "  0%|          | 0/2577 [00:00<?, ?it/s]"
      ]
     },
     "metadata": {},
     "output_type": "display_data"
    },
    {
     "name": "stdout",
     "output_type": "stream",
     "text": [
      "[Train] Accuracy: 81.8%, Avg loss: 0.436935 \n",
      "\n",
      "[Test] Accuracy: 81.3%, Avg loss: 0.479429 \n",
      "\n",
      "Epoch 320\n"
     ]
    },
    {
     "data": {
      "application/vnd.jupyter.widget-view+json": {
       "model_id": "9eb30b8299e84cefb2a1a8bdff58caa4",
       "version_major": 2,
       "version_minor": 0
      },
      "text/plain": [
       "  0%|          | 0/2577 [00:00<?, ?it/s]"
      ]
     },
     "metadata": {},
     "output_type": "display_data"
    },
    {
     "name": "stdout",
     "output_type": "stream",
     "text": [
      "[Train] Accuracy: 81.7%, Avg loss: 0.437791 \n",
      "\n",
      "[Test] Accuracy: 81.5%, Avg loss: 0.490030 \n",
      "\n",
      "Epoch 321\n"
     ]
    },
    {
     "data": {
      "application/vnd.jupyter.widget-view+json": {
       "model_id": "326ff04c5d774b89921ede4d93994347",
       "version_major": 2,
       "version_minor": 0
      },
      "text/plain": [
       "  0%|          | 0/2577 [00:00<?, ?it/s]"
      ]
     },
     "metadata": {},
     "output_type": "display_data"
    },
    {
     "name": "stdout",
     "output_type": "stream",
     "text": [
      "[Train] Accuracy: 81.9%, Avg loss: 0.436157 \n",
      "\n",
      "[Test] Accuracy: 81.3%, Avg loss: 0.465685 \n",
      "\n",
      "Epoch 322\n"
     ]
    },
    {
     "data": {
      "application/vnd.jupyter.widget-view+json": {
       "model_id": "5d56211c92d244d4b4e7251d497c3fe8",
       "version_major": 2,
       "version_minor": 0
      },
      "text/plain": [
       "  0%|          | 0/2577 [00:00<?, ?it/s]"
      ]
     },
     "metadata": {},
     "output_type": "display_data"
    },
    {
     "name": "stdout",
     "output_type": "stream",
     "text": [
      "[Train] Accuracy: 81.9%, Avg loss: 0.434960 \n",
      "\n",
      "[Test] Accuracy: 81.1%, Avg loss: 0.471701 \n",
      "\n",
      "Epoch 323\n"
     ]
    },
    {
     "data": {
      "application/vnd.jupyter.widget-view+json": {
       "model_id": "80e636c2ff4c405db1a001849af77523",
       "version_major": 2,
       "version_minor": 0
      },
      "text/plain": [
       "  0%|          | 0/2577 [00:00<?, ?it/s]"
      ]
     },
     "metadata": {},
     "output_type": "display_data"
    },
    {
     "name": "stdout",
     "output_type": "stream",
     "text": [
      "[Train] Accuracy: 81.9%, Avg loss: 0.435010 \n",
      "\n",
      "[Test] Accuracy: 80.3%, Avg loss: 0.472122 \n",
      "\n",
      "Epoch 324\n"
     ]
    },
    {
     "data": {
      "application/vnd.jupyter.widget-view+json": {
       "model_id": "a468f0938b1b454580dfb96565c1a518",
       "version_major": 2,
       "version_minor": 0
      },
      "text/plain": [
       "  0%|          | 0/2577 [00:00<?, ?it/s]"
      ]
     },
     "metadata": {},
     "output_type": "display_data"
    },
    {
     "name": "stdout",
     "output_type": "stream",
     "text": [
      "[Train] Accuracy: 81.8%, Avg loss: 0.435893 \n",
      "\n",
      "[Test] Accuracy: 80.1%, Avg loss: 0.478004 \n",
      "\n",
      "Epoch 325\n"
     ]
    },
    {
     "data": {
      "application/vnd.jupyter.widget-view+json": {
       "model_id": "538054dfb63a49ac89495f93e339421c",
       "version_major": 2,
       "version_minor": 0
      },
      "text/plain": [
       "  0%|          | 0/2577 [00:00<?, ?it/s]"
      ]
     },
     "metadata": {},
     "output_type": "display_data"
    },
    {
     "name": "stdout",
     "output_type": "stream",
     "text": [
      "[Train] Accuracy: 81.9%, Avg loss: 0.436608 \n",
      "\n",
      "[Test] Accuracy: 81.3%, Avg loss: 0.466361 \n",
      "\n",
      "Epoch 326\n"
     ]
    },
    {
     "data": {
      "application/vnd.jupyter.widget-view+json": {
       "model_id": "d4c8b145d6424da3a43692a7d6d10c7c",
       "version_major": 2,
       "version_minor": 0
      },
      "text/plain": [
       "  0%|          | 0/2577 [00:00<?, ?it/s]"
      ]
     },
     "metadata": {},
     "output_type": "display_data"
    },
    {
     "name": "stdout",
     "output_type": "stream",
     "text": [
      "[Train] Accuracy: 81.9%, Avg loss: 0.435635 \n",
      "\n",
      "[Test] Accuracy: 81.3%, Avg loss: 0.475129 \n",
      "\n",
      "Epoch 327\n"
     ]
    },
    {
     "data": {
      "application/vnd.jupyter.widget-view+json": {
       "model_id": "2a0b7b027f7a4129bad0d28790f4479c",
       "version_major": 2,
       "version_minor": 0
      },
      "text/plain": [
       "  0%|          | 0/2577 [00:00<?, ?it/s]"
      ]
     },
     "metadata": {},
     "output_type": "display_data"
    },
    {
     "name": "stdout",
     "output_type": "stream",
     "text": [
      "[Train] Accuracy: 81.8%, Avg loss: 0.436691 \n",
      "\n",
      "[Test] Accuracy: 81.1%, Avg loss: 0.470846 \n",
      "\n",
      "Epoch 328\n"
     ]
    },
    {
     "data": {
      "application/vnd.jupyter.widget-view+json": {
       "model_id": "559d7cbdeb494a3283b176641bec9b73",
       "version_major": 2,
       "version_minor": 0
      },
      "text/plain": [
       "  0%|          | 0/2577 [00:00<?, ?it/s]"
      ]
     },
     "metadata": {},
     "output_type": "display_data"
    },
    {
     "name": "stdout",
     "output_type": "stream",
     "text": [
      "[Train] Accuracy: 81.8%, Avg loss: 0.435852 \n",
      "\n",
      "[Test] Accuracy: 81.1%, Avg loss: 0.468751 \n",
      "\n",
      "Epoch 329\n"
     ]
    },
    {
     "data": {
      "application/vnd.jupyter.widget-view+json": {
       "model_id": "13421bb393954ca6979dc6187cbcc9a1",
       "version_major": 2,
       "version_minor": 0
      },
      "text/plain": [
       "  0%|          | 0/2577 [00:00<?, ?it/s]"
      ]
     },
     "metadata": {},
     "output_type": "display_data"
    },
    {
     "name": "stdout",
     "output_type": "stream",
     "text": [
      "[Train] Accuracy: 81.9%, Avg loss: 0.435340 \n",
      "\n",
      "[Test] Accuracy: 81.5%, Avg loss: 0.477595 \n",
      "\n",
      "Epoch 330\n"
     ]
    },
    {
     "data": {
      "application/vnd.jupyter.widget-view+json": {
       "model_id": "1a92f1be01124f88b73dfd54c459e470",
       "version_major": 2,
       "version_minor": 0
      },
      "text/plain": [
       "  0%|          | 0/2577 [00:00<?, ?it/s]"
      ]
     },
     "metadata": {},
     "output_type": "display_data"
    },
    {
     "name": "stdout",
     "output_type": "stream",
     "text": [
      "[Train] Accuracy: 82.0%, Avg loss: 0.434221 \n",
      "\n",
      "[Test] Accuracy: 81.3%, Avg loss: 0.473871 \n",
      "\n",
      "Epoch 331\n"
     ]
    },
    {
     "data": {
      "application/vnd.jupyter.widget-view+json": {
       "model_id": "6c4a99193bca475bbadb67b61b71387d",
       "version_major": 2,
       "version_minor": 0
      },
      "text/plain": [
       "  0%|          | 0/2577 [00:00<?, ?it/s]"
      ]
     },
     "metadata": {},
     "output_type": "display_data"
    },
    {
     "name": "stdout",
     "output_type": "stream",
     "text": [
      "[Train] Accuracy: 81.9%, Avg loss: 0.435195 \n",
      "\n",
      "[Test] Accuracy: 80.8%, Avg loss: 0.469665 \n",
      "\n",
      "Epoch 332\n"
     ]
    },
    {
     "data": {
      "application/vnd.jupyter.widget-view+json": {
       "model_id": "34d991ccfbe44781b550a72218b067b3",
       "version_major": 2,
       "version_minor": 0
      },
      "text/plain": [
       "  0%|          | 0/2577 [00:00<?, ?it/s]"
      ]
     },
     "metadata": {},
     "output_type": "display_data"
    },
    {
     "name": "stdout",
     "output_type": "stream",
     "text": [
      "[Train] Accuracy: 81.9%, Avg loss: 0.436338 \n",
      "\n",
      "[Test] Accuracy: 81.5%, Avg loss: 0.469134 \n",
      "\n",
      "Epoch 333\n"
     ]
    },
    {
     "data": {
      "application/vnd.jupyter.widget-view+json": {
       "model_id": "4b56d6b25fc04c5bbb9999e4b6c85c60",
       "version_major": 2,
       "version_minor": 0
      },
      "text/plain": [
       "  0%|          | 0/2577 [00:00<?, ?it/s]"
      ]
     },
     "metadata": {},
     "output_type": "display_data"
    },
    {
     "name": "stdout",
     "output_type": "stream",
     "text": [
      "[Train] Accuracy: 82.0%, Avg loss: 0.434693 \n",
      "\n",
      "[Test] Accuracy: 81.2%, Avg loss: 0.467255 \n",
      "\n",
      "Epoch 334\n"
     ]
    },
    {
     "data": {
      "application/vnd.jupyter.widget-view+json": {
       "model_id": "4d7287a6611749ad8d0805128fd62892",
       "version_major": 2,
       "version_minor": 0
      },
      "text/plain": [
       "  0%|          | 0/2577 [00:00<?, ?it/s]"
      ]
     },
     "metadata": {},
     "output_type": "display_data"
    },
    {
     "name": "stdout",
     "output_type": "stream",
     "text": [
      "[Train] Accuracy: 81.9%, Avg loss: 0.434648 \n",
      "\n",
      "[Test] Accuracy: 81.2%, Avg loss: 0.472082 \n",
      "\n",
      "Epoch 335\n"
     ]
    },
    {
     "data": {
      "application/vnd.jupyter.widget-view+json": {
       "model_id": "2a8d145c39d346b2a076e9e24d6366d5",
       "version_major": 2,
       "version_minor": 0
      },
      "text/plain": [
       "  0%|          | 0/2577 [00:00<?, ?it/s]"
      ]
     },
     "metadata": {},
     "output_type": "display_data"
    },
    {
     "name": "stdout",
     "output_type": "stream",
     "text": [
      "[Train] Accuracy: 82.0%, Avg loss: 0.434774 \n",
      "\n",
      "[Test] Accuracy: 80.6%, Avg loss: 0.476443 \n",
      "\n",
      "Epoch 336\n"
     ]
    },
    {
     "data": {
      "application/vnd.jupyter.widget-view+json": {
       "model_id": "5e323ae4b21442b4b069d02a3b63ac52",
       "version_major": 2,
       "version_minor": 0
      },
      "text/plain": [
       "  0%|          | 0/2577 [00:00<?, ?it/s]"
      ]
     },
     "metadata": {},
     "output_type": "display_data"
    },
    {
     "name": "stdout",
     "output_type": "stream",
     "text": [
      "[Train] Accuracy: 82.0%, Avg loss: 0.433728 \n",
      "\n",
      "[Test] Accuracy: 81.4%, Avg loss: 0.475023 \n",
      "\n",
      "Epoch 337\n"
     ]
    },
    {
     "data": {
      "application/vnd.jupyter.widget-view+json": {
       "model_id": "88e9847824d94102b7d9f89abab2f5aa",
       "version_major": 2,
       "version_minor": 0
      },
      "text/plain": [
       "  0%|          | 0/2577 [00:00<?, ?it/s]"
      ]
     },
     "metadata": {},
     "output_type": "display_data"
    },
    {
     "name": "stdout",
     "output_type": "stream",
     "text": [
      "[Train] Accuracy: 81.9%, Avg loss: 0.434087 \n",
      "\n",
      "[Test] Accuracy: 81.5%, Avg loss: 0.466778 \n",
      "\n",
      "Epoch 338\n"
     ]
    },
    {
     "data": {
      "application/vnd.jupyter.widget-view+json": {
       "model_id": "b21a1aef0c8945bb932291c80014b72a",
       "version_major": 2,
       "version_minor": 0
      },
      "text/plain": [
       "  0%|          | 0/2577 [00:00<?, ?it/s]"
      ]
     },
     "metadata": {},
     "output_type": "display_data"
    },
    {
     "name": "stdout",
     "output_type": "stream",
     "text": [
      "[Train] Accuracy: 81.9%, Avg loss: 0.433247 \n",
      "\n",
      "[Test] Accuracy: 80.0%, Avg loss: 0.487975 \n",
      "\n",
      "Epoch 339\n"
     ]
    },
    {
     "data": {
      "application/vnd.jupyter.widget-view+json": {
       "model_id": "c80bdf7830494d6ba014ca69adfb2a6f",
       "version_major": 2,
       "version_minor": 0
      },
      "text/plain": [
       "  0%|          | 0/2577 [00:00<?, ?it/s]"
      ]
     },
     "metadata": {},
     "output_type": "display_data"
    },
    {
     "name": "stdout",
     "output_type": "stream",
     "text": [
      "[Train] Accuracy: 82.0%, Avg loss: 0.433514 \n",
      "\n",
      "[Test] Accuracy: 80.5%, Avg loss: 0.513198 \n",
      "\n",
      "Epoch 340\n"
     ]
    },
    {
     "data": {
      "application/vnd.jupyter.widget-view+json": {
       "model_id": "ff02f191716a413fa56ec440d93256f9",
       "version_major": 2,
       "version_minor": 0
      },
      "text/plain": [
       "  0%|          | 0/2577 [00:00<?, ?it/s]"
      ]
     },
     "metadata": {},
     "output_type": "display_data"
    },
    {
     "name": "stdout",
     "output_type": "stream",
     "text": [
      "[Train] Accuracy: 82.0%, Avg loss: 0.434625 \n",
      "\n",
      "[Test] Accuracy: 81.3%, Avg loss: 0.489178 \n",
      "\n",
      "Epoch 341\n"
     ]
    },
    {
     "data": {
      "application/vnd.jupyter.widget-view+json": {
       "model_id": "124502b777bd42cd8817681543b3deaa",
       "version_major": 2,
       "version_minor": 0
      },
      "text/plain": [
       "  0%|          | 0/2577 [00:00<?, ?it/s]"
      ]
     },
     "metadata": {},
     "output_type": "display_data"
    },
    {
     "name": "stdout",
     "output_type": "stream",
     "text": [
      "[Train] Accuracy: 81.9%, Avg loss: 0.432913 \n",
      "\n",
      "[Test] Accuracy: 80.5%, Avg loss: 0.472275 \n",
      "\n",
      "Epoch 342\n"
     ]
    },
    {
     "data": {
      "application/vnd.jupyter.widget-view+json": {
       "model_id": "92f74d54d9924b438fac595210f16fc4",
       "version_major": 2,
       "version_minor": 0
      },
      "text/plain": [
       "  0%|          | 0/2577 [00:00<?, ?it/s]"
      ]
     },
     "metadata": {},
     "output_type": "display_data"
    },
    {
     "name": "stdout",
     "output_type": "stream",
     "text": [
      "[Train] Accuracy: 82.0%, Avg loss: 0.433345 \n",
      "\n",
      "[Test] Accuracy: 81.4%, Avg loss: 0.470882 \n",
      "\n",
      "Epoch 343\n"
     ]
    },
    {
     "data": {
      "application/vnd.jupyter.widget-view+json": {
       "model_id": "47112bfd73ca4ed787cb9086cc7855d6",
       "version_major": 2,
       "version_minor": 0
      },
      "text/plain": [
       "  0%|          | 0/2577 [00:00<?, ?it/s]"
      ]
     },
     "metadata": {},
     "output_type": "display_data"
    },
    {
     "name": "stdout",
     "output_type": "stream",
     "text": [
      "[Train] Accuracy: 82.0%, Avg loss: 0.433531 \n",
      "\n",
      "[Test] Accuracy: 81.4%, Avg loss: 0.482581 \n",
      "\n",
      "Epoch 344\n"
     ]
    },
    {
     "data": {
      "application/vnd.jupyter.widget-view+json": {
       "model_id": "30ff637d1dbe4135b7eedfd4386f3509",
       "version_major": 2,
       "version_minor": 0
      },
      "text/plain": [
       "  0%|          | 0/2577 [00:00<?, ?it/s]"
      ]
     },
     "metadata": {},
     "output_type": "display_data"
    },
    {
     "name": "stdout",
     "output_type": "stream",
     "text": [
      "[Train] Accuracy: 81.9%, Avg loss: 0.432754 \n",
      "\n",
      "[Test] Accuracy: 81.2%, Avg loss: 0.472781 \n",
      "\n",
      "Epoch 345\n"
     ]
    },
    {
     "data": {
      "application/vnd.jupyter.widget-view+json": {
       "model_id": "11acec3bf34d4a5eb2dcf9a0f1f26c41",
       "version_major": 2,
       "version_minor": 0
      },
      "text/plain": [
       "  0%|          | 0/2577 [00:00<?, ?it/s]"
      ]
     },
     "metadata": {},
     "output_type": "display_data"
    },
    {
     "name": "stdout",
     "output_type": "stream",
     "text": [
      "[Train] Accuracy: 82.0%, Avg loss: 0.432670 \n",
      "\n",
      "[Test] Accuracy: 81.4%, Avg loss: 0.467532 \n",
      "\n",
      "Epoch 346\n"
     ]
    },
    {
     "data": {
      "application/vnd.jupyter.widget-view+json": {
       "model_id": "c82d7c58781445e1b8bacf7f0cb74332",
       "version_major": 2,
       "version_minor": 0
      },
      "text/plain": [
       "  0%|          | 0/2577 [00:00<?, ?it/s]"
      ]
     },
     "metadata": {},
     "output_type": "display_data"
    },
    {
     "name": "stdout",
     "output_type": "stream",
     "text": [
      "[Train] Accuracy: 82.0%, Avg loss: 0.433551 \n",
      "\n",
      "[Test] Accuracy: 81.5%, Avg loss: 0.469719 \n",
      "\n",
      "Epoch 347\n"
     ]
    },
    {
     "data": {
      "application/vnd.jupyter.widget-view+json": {
       "model_id": "a945e538ec8242a8b270cbb132151d89",
       "version_major": 2,
       "version_minor": 0
      },
      "text/plain": [
       "  0%|          | 0/2577 [00:00<?, ?it/s]"
      ]
     },
     "metadata": {},
     "output_type": "display_data"
    },
    {
     "name": "stdout",
     "output_type": "stream",
     "text": [
      "[Train] Accuracy: 82.0%, Avg loss: 0.433415 \n",
      "\n",
      "[Test] Accuracy: 81.1%, Avg loss: 0.466328 \n",
      "\n",
      "Epoch 348\n"
     ]
    },
    {
     "data": {
      "application/vnd.jupyter.widget-view+json": {
       "model_id": "132a7caa694840c583bdbfc6b7e05dea",
       "version_major": 2,
       "version_minor": 0
      },
      "text/plain": [
       "  0%|          | 0/2577 [00:00<?, ?it/s]"
      ]
     },
     "metadata": {},
     "output_type": "display_data"
    },
    {
     "name": "stdout",
     "output_type": "stream",
     "text": [
      "[Train] Accuracy: 82.0%, Avg loss: 0.433800 \n",
      "\n",
      "[Test] Accuracy: 81.6%, Avg loss: 0.467654 \n",
      "\n",
      "Epoch 349\n"
     ]
    },
    {
     "data": {
      "application/vnd.jupyter.widget-view+json": {
       "model_id": "56dccf9f5b2e4bc49b16c281cfa312d9",
       "version_major": 2,
       "version_minor": 0
      },
      "text/plain": [
       "  0%|          | 0/2577 [00:00<?, ?it/s]"
      ]
     },
     "metadata": {},
     "output_type": "display_data"
    },
    {
     "name": "stdout",
     "output_type": "stream",
     "text": [
      "[Train] Accuracy: 82.0%, Avg loss: 0.433516 \n",
      "\n",
      "[Test] Accuracy: 81.3%, Avg loss: 0.464851 \n",
      "\n",
      "Epoch 350\n"
     ]
    },
    {
     "data": {
      "application/vnd.jupyter.widget-view+json": {
       "model_id": "a4464c513bb645769b5c5795e90263d1",
       "version_major": 2,
       "version_minor": 0
      },
      "text/plain": [
       "  0%|          | 0/2577 [00:00<?, ?it/s]"
      ]
     },
     "metadata": {},
     "output_type": "display_data"
    },
    {
     "name": "stdout",
     "output_type": "stream",
     "text": [
      "[Train] Accuracy: 81.9%, Avg loss: 0.432476 \n",
      "\n",
      "[Test] Accuracy: 80.6%, Avg loss: 0.470396 \n",
      "\n",
      "Epoch 351\n"
     ]
    },
    {
     "data": {
      "application/vnd.jupyter.widget-view+json": {
       "model_id": "af0599318c93475090131aa4822b87d0",
       "version_major": 2,
       "version_minor": 0
      },
      "text/plain": [
       "  0%|          | 0/2577 [00:00<?, ?it/s]"
      ]
     },
     "metadata": {},
     "output_type": "display_data"
    },
    {
     "name": "stdout",
     "output_type": "stream",
     "text": [
      "[Train] Accuracy: 82.1%, Avg loss: 0.431731 \n",
      "\n",
      "[Test] Accuracy: 80.2%, Avg loss: 0.504336 \n",
      "\n",
      "Epoch 352\n"
     ]
    },
    {
     "data": {
      "application/vnd.jupyter.widget-view+json": {
       "model_id": "05d08bfa813143e5bab5b0641d011b2e",
       "version_major": 2,
       "version_minor": 0
      },
      "text/plain": [
       "  0%|          | 0/2577 [00:00<?, ?it/s]"
      ]
     },
     "metadata": {},
     "output_type": "display_data"
    },
    {
     "name": "stdout",
     "output_type": "stream",
     "text": [
      "[Train] Accuracy: 82.0%, Avg loss: 0.433551 \n",
      "\n",
      "[Test] Accuracy: 80.5%, Avg loss: 0.496035 \n",
      "\n",
      "Epoch 353\n"
     ]
    },
    {
     "data": {
      "application/vnd.jupyter.widget-view+json": {
       "model_id": "1610811fe230496d93837d3bfe6e1b8a",
       "version_major": 2,
       "version_minor": 0
      },
      "text/plain": [
       "  0%|          | 0/2577 [00:00<?, ?it/s]"
      ]
     },
     "metadata": {},
     "output_type": "display_data"
    },
    {
     "name": "stdout",
     "output_type": "stream",
     "text": [
      "[Train] Accuracy: 82.0%, Avg loss: 0.432554 \n",
      "\n",
      "[Test] Accuracy: 81.3%, Avg loss: 0.465077 \n",
      "\n",
      "Epoch 354\n"
     ]
    },
    {
     "data": {
      "application/vnd.jupyter.widget-view+json": {
       "model_id": "571f06f34c8e47afb87871a2c7c26e8f",
       "version_major": 2,
       "version_minor": 0
      },
      "text/plain": [
       "  0%|          | 0/2577 [00:00<?, ?it/s]"
      ]
     },
     "metadata": {},
     "output_type": "display_data"
    },
    {
     "name": "stdout",
     "output_type": "stream",
     "text": [
      "[Train] Accuracy: 82.1%, Avg loss: 0.431461 \n",
      "\n",
      "[Test] Accuracy: 81.1%, Avg loss: 0.471816 \n",
      "\n",
      "Epoch 355\n"
     ]
    },
    {
     "data": {
      "application/vnd.jupyter.widget-view+json": {
       "model_id": "f49e107308e14fc9baad57bf6d505d4f",
       "version_major": 2,
       "version_minor": 0
      },
      "text/plain": [
       "  0%|          | 0/2577 [00:00<?, ?it/s]"
      ]
     },
     "metadata": {},
     "output_type": "display_data"
    },
    {
     "name": "stdout",
     "output_type": "stream",
     "text": [
      "[Train] Accuracy: 82.0%, Avg loss: 0.432429 \n",
      "\n",
      "[Test] Accuracy: 81.2%, Avg loss: 0.471639 \n",
      "\n",
      "Epoch 356\n"
     ]
    },
    {
     "data": {
      "application/vnd.jupyter.widget-view+json": {
       "model_id": "e962a2f7d34648958acf0de719bacc22",
       "version_major": 2,
       "version_minor": 0
      },
      "text/plain": [
       "  0%|          | 0/2577 [00:00<?, ?it/s]"
      ]
     },
     "metadata": {},
     "output_type": "display_data"
    },
    {
     "name": "stdout",
     "output_type": "stream",
     "text": [
      "[Train] Accuracy: 82.1%, Avg loss: 0.432118 \n",
      "\n",
      "[Test] Accuracy: 80.7%, Avg loss: 0.469499 \n",
      "\n",
      "Epoch 357\n"
     ]
    },
    {
     "data": {
      "application/vnd.jupyter.widget-view+json": {
       "model_id": "323d02e79994473fb1b6b2ff44d049c0",
       "version_major": 2,
       "version_minor": 0
      },
      "text/plain": [
       "  0%|          | 0/2577 [00:00<?, ?it/s]"
      ]
     },
     "metadata": {},
     "output_type": "display_data"
    },
    {
     "name": "stdout",
     "output_type": "stream",
     "text": [
      "[Train] Accuracy: 82.1%, Avg loss: 0.431337 \n",
      "\n",
      "[Test] Accuracy: 81.4%, Avg loss: 0.463768 \n",
      "\n",
      "Epoch 358\n"
     ]
    },
    {
     "data": {
      "application/vnd.jupyter.widget-view+json": {
       "model_id": "7b8a5805dd8946e2a1a00ca2e93cdffd",
       "version_major": 2,
       "version_minor": 0
      },
      "text/plain": [
       "  0%|          | 0/2577 [00:00<?, ?it/s]"
      ]
     },
     "metadata": {},
     "output_type": "display_data"
    },
    {
     "name": "stdout",
     "output_type": "stream",
     "text": [
      "[Train] Accuracy: 82.0%, Avg loss: 0.431473 \n",
      "\n",
      "[Test] Accuracy: 80.4%, Avg loss: 0.469849 \n",
      "\n",
      "Epoch 359\n"
     ]
    },
    {
     "data": {
      "application/vnd.jupyter.widget-view+json": {
       "model_id": "4e08091b0e944a609a527b7016b1471d",
       "version_major": 2,
       "version_minor": 0
      },
      "text/plain": [
       "  0%|          | 0/2577 [00:00<?, ?it/s]"
      ]
     },
     "metadata": {},
     "output_type": "display_data"
    },
    {
     "name": "stdout",
     "output_type": "stream",
     "text": [
      "[Train] Accuracy: 82.1%, Avg loss: 0.430309 \n",
      "\n",
      "[Test] Accuracy: 81.5%, Avg loss: 0.497553 \n",
      "\n",
      "Epoch 360\n"
     ]
    },
    {
     "data": {
      "application/vnd.jupyter.widget-view+json": {
       "model_id": "70cb29678168497f95e935b1dc561bbb",
       "version_major": 2,
       "version_minor": 0
      },
      "text/plain": [
       "  0%|          | 0/2577 [00:00<?, ?it/s]"
      ]
     },
     "metadata": {},
     "output_type": "display_data"
    },
    {
     "name": "stdout",
     "output_type": "stream",
     "text": [
      "[Train] Accuracy: 82.1%, Avg loss: 0.431007 \n",
      "\n",
      "[Test] Accuracy: 79.9%, Avg loss: 0.490503 \n",
      "\n",
      "Epoch 361\n"
     ]
    },
    {
     "data": {
      "application/vnd.jupyter.widget-view+json": {
       "model_id": "3574f0da590d445fa907b2f5c146ff27",
       "version_major": 2,
       "version_minor": 0
      },
      "text/plain": [
       "  0%|          | 0/2577 [00:00<?, ?it/s]"
      ]
     },
     "metadata": {},
     "output_type": "display_data"
    },
    {
     "name": "stdout",
     "output_type": "stream",
     "text": [
      "[Train] Accuracy: 82.1%, Avg loss: 0.431714 \n",
      "\n",
      "[Test] Accuracy: 81.4%, Avg loss: 0.494049 \n",
      "\n",
      "Epoch 362\n"
     ]
    },
    {
     "data": {
      "application/vnd.jupyter.widget-view+json": {
       "model_id": "c532a990521b481c9f2cbbdbdf2fcdc6",
       "version_major": 2,
       "version_minor": 0
      },
      "text/plain": [
       "  0%|          | 0/2577 [00:00<?, ?it/s]"
      ]
     },
     "metadata": {},
     "output_type": "display_data"
    },
    {
     "name": "stdout",
     "output_type": "stream",
     "text": [
      "[Train] Accuracy: 82.0%, Avg loss: 0.432903 \n",
      "\n",
      "[Test] Accuracy: 79.8%, Avg loss: 0.490890 \n",
      "\n",
      "Epoch 363\n"
     ]
    },
    {
     "data": {
      "application/vnd.jupyter.widget-view+json": {
       "model_id": "2eb5f289fe754a37ab77775596daf1a5",
       "version_major": 2,
       "version_minor": 0
      },
      "text/plain": [
       "  0%|          | 0/2577 [00:00<?, ?it/s]"
      ]
     },
     "metadata": {},
     "output_type": "display_data"
    },
    {
     "name": "stdout",
     "output_type": "stream",
     "text": [
      "[Train] Accuracy: 82.0%, Avg loss: 0.431194 \n",
      "\n",
      "[Test] Accuracy: 81.5%, Avg loss: 0.483190 \n",
      "\n",
      "Epoch 364\n"
     ]
    },
    {
     "data": {
      "application/vnd.jupyter.widget-view+json": {
       "model_id": "57db71cc92c9448d9187c96e0f510a88",
       "version_major": 2,
       "version_minor": 0
      },
      "text/plain": [
       "  0%|          | 0/2577 [00:00<?, ?it/s]"
      ]
     },
     "metadata": {},
     "output_type": "display_data"
    },
    {
     "name": "stdout",
     "output_type": "stream",
     "text": [
      "[Train] Accuracy: 82.1%, Avg loss: 0.430772 \n",
      "\n",
      "[Test] Accuracy: 81.5%, Avg loss: 0.468592 \n",
      "\n",
      "Epoch 365\n"
     ]
    },
    {
     "data": {
      "application/vnd.jupyter.widget-view+json": {
       "model_id": "05c018d984804536b62fb46e491b7457",
       "version_major": 2,
       "version_minor": 0
      },
      "text/plain": [
       "  0%|          | 0/2577 [00:00<?, ?it/s]"
      ]
     },
     "metadata": {},
     "output_type": "display_data"
    },
    {
     "name": "stdout",
     "output_type": "stream",
     "text": [
      "[Train] Accuracy: 82.0%, Avg loss: 0.432143 \n",
      "\n",
      "[Test] Accuracy: 81.5%, Avg loss: 0.462904 \n",
      "\n",
      "Epoch 366\n"
     ]
    },
    {
     "data": {
      "application/vnd.jupyter.widget-view+json": {
       "model_id": "e3e00283b36e4eed8ab3a0b4d58744e8",
       "version_major": 2,
       "version_minor": 0
      },
      "text/plain": [
       "  0%|          | 0/2577 [00:00<?, ?it/s]"
      ]
     },
     "metadata": {},
     "output_type": "display_data"
    },
    {
     "name": "stdout",
     "output_type": "stream",
     "text": [
      "[Train] Accuracy: 82.1%, Avg loss: 0.430361 \n",
      "\n",
      "[Test] Accuracy: 81.5%, Avg loss: 0.465277 \n",
      "\n",
      "Epoch 367\n"
     ]
    },
    {
     "data": {
      "application/vnd.jupyter.widget-view+json": {
       "model_id": "169ebc6236e64d0483f2291b7f9ba00e",
       "version_major": 2,
       "version_minor": 0
      },
      "text/plain": [
       "  0%|          | 0/2577 [00:00<?, ?it/s]"
      ]
     },
     "metadata": {},
     "output_type": "display_data"
    },
    {
     "name": "stdout",
     "output_type": "stream",
     "text": [
      "[Train] Accuracy: 82.2%, Avg loss: 0.429988 \n",
      "\n",
      "[Test] Accuracy: 81.6%, Avg loss: 0.463593 \n",
      "\n",
      "Epoch 368\n"
     ]
    },
    {
     "data": {
      "application/vnd.jupyter.widget-view+json": {
       "model_id": "2f5a5849eb52453fa60551ac98f8dc7b",
       "version_major": 2,
       "version_minor": 0
      },
      "text/plain": [
       "  0%|          | 0/2577 [00:00<?, ?it/s]"
      ]
     },
     "metadata": {},
     "output_type": "display_data"
    },
    {
     "name": "stdout",
     "output_type": "stream",
     "text": [
      "[Train] Accuracy: 82.1%, Avg loss: 0.430761 \n",
      "\n",
      "[Test] Accuracy: 81.0%, Avg loss: 0.467808 \n",
      "\n",
      "Epoch 369\n"
     ]
    },
    {
     "data": {
      "application/vnd.jupyter.widget-view+json": {
       "model_id": "f1ff20518c5d4c4f8c1f18ae2115d6bc",
       "version_major": 2,
       "version_minor": 0
      },
      "text/plain": [
       "  0%|          | 0/2577 [00:00<?, ?it/s]"
      ]
     },
     "metadata": {},
     "output_type": "display_data"
    },
    {
     "name": "stdout",
     "output_type": "stream",
     "text": [
      "[Train] Accuracy: 82.1%, Avg loss: 0.430125 \n",
      "\n",
      "[Test] Accuracy: 80.4%, Avg loss: 0.473936 \n",
      "\n",
      "Epoch 370\n"
     ]
    },
    {
     "data": {
      "application/vnd.jupyter.widget-view+json": {
       "model_id": "310e4aa8a387414a8516858bad0d8c2b",
       "version_major": 2,
       "version_minor": 0
      },
      "text/plain": [
       "  0%|          | 0/2577 [00:00<?, ?it/s]"
      ]
     },
     "metadata": {},
     "output_type": "display_data"
    },
    {
     "name": "stdout",
     "output_type": "stream",
     "text": [
      "[Train] Accuracy: 82.2%, Avg loss: 0.429845 \n",
      "\n",
      "[Test] Accuracy: 81.3%, Avg loss: 0.468550 \n",
      "\n",
      "Epoch 371\n"
     ]
    },
    {
     "data": {
      "application/vnd.jupyter.widget-view+json": {
       "model_id": "2f25317b0e7142f88c6226d71d842435",
       "version_major": 2,
       "version_minor": 0
      },
      "text/plain": [
       "  0%|          | 0/2577 [00:00<?, ?it/s]"
      ]
     },
     "metadata": {},
     "output_type": "display_data"
    },
    {
     "name": "stdout",
     "output_type": "stream",
     "text": [
      "[Train] Accuracy: 82.2%, Avg loss: 0.428522 \n",
      "\n",
      "[Test] Accuracy: 80.3%, Avg loss: 0.470043 \n",
      "\n",
      "Epoch 372\n"
     ]
    },
    {
     "data": {
      "application/vnd.jupyter.widget-view+json": {
       "model_id": "8e130c5e27794ca58238bb2f9f468d70",
       "version_major": 2,
       "version_minor": 0
      },
      "text/plain": [
       "  0%|          | 0/2577 [00:00<?, ?it/s]"
      ]
     },
     "metadata": {},
     "output_type": "display_data"
    },
    {
     "name": "stdout",
     "output_type": "stream",
     "text": [
      "[Train] Accuracy: 82.2%, Avg loss: 0.430043 \n",
      "\n",
      "[Test] Accuracy: 81.3%, Avg loss: 0.462994 \n",
      "\n",
      "Epoch 373\n"
     ]
    },
    {
     "data": {
      "application/vnd.jupyter.widget-view+json": {
       "model_id": "7ce3aa1c21b04da39aadd3b36e270751",
       "version_major": 2,
       "version_minor": 0
      },
      "text/plain": [
       "  0%|          | 0/2577 [00:00<?, ?it/s]"
      ]
     },
     "metadata": {},
     "output_type": "display_data"
    },
    {
     "name": "stdout",
     "output_type": "stream",
     "text": [
      "[Train] Accuracy: 82.0%, Avg loss: 0.430125 \n",
      "\n",
      "[Test] Accuracy: 81.6%, Avg loss: 0.465502 \n",
      "\n",
      "Epoch 374\n"
     ]
    },
    {
     "data": {
      "application/vnd.jupyter.widget-view+json": {
       "model_id": "885d41ec08a848a38d76bc78ee993c26",
       "version_major": 2,
       "version_minor": 0
      },
      "text/plain": [
       "  0%|          | 0/2577 [00:00<?, ?it/s]"
      ]
     },
     "metadata": {},
     "output_type": "display_data"
    },
    {
     "name": "stdout",
     "output_type": "stream",
     "text": [
      "[Train] Accuracy: 82.2%, Avg loss: 0.428630 \n",
      "\n",
      "[Test] Accuracy: 81.3%, Avg loss: 0.473149 \n",
      "\n",
      "Epoch 375\n"
     ]
    },
    {
     "data": {
      "application/vnd.jupyter.widget-view+json": {
       "model_id": "b7c0b25f62d54955b6169d1aa4d8da18",
       "version_major": 2,
       "version_minor": 0
      },
      "text/plain": [
       "  0%|          | 0/2577 [00:00<?, ?it/s]"
      ]
     },
     "metadata": {},
     "output_type": "display_data"
    },
    {
     "name": "stdout",
     "output_type": "stream",
     "text": [
      "[Train] Accuracy: 82.2%, Avg loss: 0.429683 \n",
      "\n",
      "[Test] Accuracy: 80.9%, Avg loss: 0.483815 \n",
      "\n",
      "Epoch 376\n"
     ]
    },
    {
     "data": {
      "application/vnd.jupyter.widget-view+json": {
       "model_id": "9f1fe2b496d0458aaf35eadc66c23d41",
       "version_major": 2,
       "version_minor": 0
      },
      "text/plain": [
       "  0%|          | 0/2577 [00:00<?, ?it/s]"
      ]
     },
     "metadata": {},
     "output_type": "display_data"
    },
    {
     "name": "stdout",
     "output_type": "stream",
     "text": [
      "[Train] Accuracy: 82.2%, Avg loss: 0.429474 \n",
      "\n",
      "[Test] Accuracy: 81.3%, Avg loss: 0.470329 \n",
      "\n",
      "Epoch 377\n"
     ]
    },
    {
     "data": {
      "application/vnd.jupyter.widget-view+json": {
       "model_id": "f32ad7b1cfaa46aa8ec4877fce017470",
       "version_major": 2,
       "version_minor": 0
      },
      "text/plain": [
       "  0%|          | 0/2577 [00:00<?, ?it/s]"
      ]
     },
     "metadata": {},
     "output_type": "display_data"
    },
    {
     "name": "stdout",
     "output_type": "stream",
     "text": [
      "[Train] Accuracy: 82.2%, Avg loss: 0.429520 \n",
      "\n",
      "[Test] Accuracy: 81.3%, Avg loss: 0.469669 \n",
      "\n",
      "Epoch 378\n"
     ]
    },
    {
     "data": {
      "application/vnd.jupyter.widget-view+json": {
       "model_id": "d76adbad2af9458f991190470ad82e15",
       "version_major": 2,
       "version_minor": 0
      },
      "text/plain": [
       "  0%|          | 0/2577 [00:00<?, ?it/s]"
      ]
     },
     "metadata": {},
     "output_type": "display_data"
    },
    {
     "name": "stdout",
     "output_type": "stream",
     "text": [
      "[Train] Accuracy: 82.1%, Avg loss: 0.430848 \n",
      "\n",
      "[Test] Accuracy: 80.8%, Avg loss: 0.483633 \n",
      "\n",
      "Epoch 379\n"
     ]
    },
    {
     "data": {
      "application/vnd.jupyter.widget-view+json": {
       "model_id": "31e3bf7198ec4ef2acffa5593864ed28",
       "version_major": 2,
       "version_minor": 0
      },
      "text/plain": [
       "  0%|          | 0/2577 [00:00<?, ?it/s]"
      ]
     },
     "metadata": {},
     "output_type": "display_data"
    },
    {
     "name": "stdout",
     "output_type": "stream",
     "text": [
      "[Train] Accuracy: 82.2%, Avg loss: 0.429078 \n",
      "\n",
      "[Test] Accuracy: 80.6%, Avg loss: 0.473430 \n",
      "\n",
      "Epoch 380\n"
     ]
    },
    {
     "data": {
      "application/vnd.jupyter.widget-view+json": {
       "model_id": "7f1fc74114fd4c17ae8734dbff2d484d",
       "version_major": 2,
       "version_minor": 0
      },
      "text/plain": [
       "  0%|          | 0/2577 [00:00<?, ?it/s]"
      ]
     },
     "metadata": {},
     "output_type": "display_data"
    },
    {
     "name": "stdout",
     "output_type": "stream",
     "text": [
      "[Train] Accuracy: 82.1%, Avg loss: 0.429880 \n",
      "\n",
      "[Test] Accuracy: 81.2%, Avg loss: 0.483978 \n",
      "\n",
      "Epoch 381\n"
     ]
    },
    {
     "data": {
      "application/vnd.jupyter.widget-view+json": {
       "model_id": "7c5094b2123245e2a8bc795ee3d45475",
       "version_major": 2,
       "version_minor": 0
      },
      "text/plain": [
       "  0%|          | 0/2577 [00:00<?, ?it/s]"
      ]
     },
     "metadata": {},
     "output_type": "display_data"
    },
    {
     "name": "stdout",
     "output_type": "stream",
     "text": [
      "[Train] Accuracy: 82.2%, Avg loss: 0.429180 \n",
      "\n",
      "[Test] Accuracy: 79.7%, Avg loss: 0.508685 \n",
      "\n",
      "Epoch 382\n"
     ]
    },
    {
     "data": {
      "application/vnd.jupyter.widget-view+json": {
       "model_id": "43c850be618a4f82849cb7e941b0649a",
       "version_major": 2,
       "version_minor": 0
      },
      "text/plain": [
       "  0%|          | 0/2577 [00:00<?, ?it/s]"
      ]
     },
     "metadata": {},
     "output_type": "display_data"
    },
    {
     "name": "stdout",
     "output_type": "stream",
     "text": [
      "[Train] Accuracy: 82.1%, Avg loss: 0.429548 \n",
      "\n",
      "[Test] Accuracy: 81.0%, Avg loss: 0.502166 \n",
      "\n",
      "Epoch 383\n"
     ]
    },
    {
     "data": {
      "application/vnd.jupyter.widget-view+json": {
       "model_id": "8db6203a5d0241848d9ac238c796744e",
       "version_major": 2,
       "version_minor": 0
      },
      "text/plain": [
       "  0%|          | 0/2577 [00:00<?, ?it/s]"
      ]
     },
     "metadata": {},
     "output_type": "display_data"
    },
    {
     "name": "stdout",
     "output_type": "stream",
     "text": [
      "[Train] Accuracy: 82.2%, Avg loss: 0.428498 \n",
      "\n",
      "[Test] Accuracy: 81.4%, Avg loss: 0.473615 \n",
      "\n",
      "Epoch 384\n"
     ]
    },
    {
     "data": {
      "application/vnd.jupyter.widget-view+json": {
       "model_id": "aa5da573539e4a7f956316ea4bc48609",
       "version_major": 2,
       "version_minor": 0
      },
      "text/plain": [
       "  0%|          | 0/2577 [00:00<?, ?it/s]"
      ]
     },
     "metadata": {},
     "output_type": "display_data"
    },
    {
     "name": "stdout",
     "output_type": "stream",
     "text": [
      "[Train] Accuracy: 82.2%, Avg loss: 0.428938 \n",
      "\n",
      "[Test] Accuracy: 81.6%, Avg loss: 0.464138 \n",
      "\n",
      "Epoch 385\n"
     ]
    },
    {
     "data": {
      "application/vnd.jupyter.widget-view+json": {
       "model_id": "305f9f843f194848be2470d6b3b940d7",
       "version_major": 2,
       "version_minor": 0
      },
      "text/plain": [
       "  0%|          | 0/2577 [00:00<?, ?it/s]"
      ]
     },
     "metadata": {},
     "output_type": "display_data"
    },
    {
     "name": "stdout",
     "output_type": "stream",
     "text": [
      "[Train] Accuracy: 82.2%, Avg loss: 0.427955 \n",
      "\n",
      "[Test] Accuracy: 81.3%, Avg loss: 0.472544 \n",
      "\n",
      "Epoch 386\n"
     ]
    },
    {
     "data": {
      "application/vnd.jupyter.widget-view+json": {
       "model_id": "7ca38f27eb194e59ab212064b33fd922",
       "version_major": 2,
       "version_minor": 0
      },
      "text/plain": [
       "  0%|          | 0/2577 [00:00<?, ?it/s]"
      ]
     },
     "metadata": {},
     "output_type": "display_data"
    },
    {
     "name": "stdout",
     "output_type": "stream",
     "text": [
      "[Train] Accuracy: 82.2%, Avg loss: 0.428116 \n",
      "\n",
      "[Test] Accuracy: 81.4%, Avg loss: 0.461401 \n",
      "\n",
      "Epoch 387\n"
     ]
    },
    {
     "data": {
      "application/vnd.jupyter.widget-view+json": {
       "model_id": "df51bd096f49447ba5420ef91b5528e2",
       "version_major": 2,
       "version_minor": 0
      },
      "text/plain": [
       "  0%|          | 0/2577 [00:00<?, ?it/s]"
      ]
     },
     "metadata": {},
     "output_type": "display_data"
    },
    {
     "name": "stdout",
     "output_type": "stream",
     "text": [
      "[Train] Accuracy: 82.1%, Avg loss: 0.428857 \n",
      "\n",
      "[Test] Accuracy: 81.4%, Avg loss: 0.509563 \n",
      "\n",
      "Epoch 388\n"
     ]
    },
    {
     "data": {
      "application/vnd.jupyter.widget-view+json": {
       "model_id": "1ef1ddd618604544999311851a16cd4e",
       "version_major": 2,
       "version_minor": 0
      },
      "text/plain": [
       "  0%|          | 0/2577 [00:00<?, ?it/s]"
      ]
     },
     "metadata": {},
     "output_type": "display_data"
    },
    {
     "name": "stdout",
     "output_type": "stream",
     "text": [
      "[Train] Accuracy: 82.1%, Avg loss: 0.427661 \n",
      "\n",
      "[Test] Accuracy: 80.9%, Avg loss: 0.467635 \n",
      "\n",
      "Epoch 389\n"
     ]
    },
    {
     "data": {
      "application/vnd.jupyter.widget-view+json": {
       "model_id": "8392e9ac1e2d48d7936d702ed4f9f6e6",
       "version_major": 2,
       "version_minor": 0
      },
      "text/plain": [
       "  0%|          | 0/2577 [00:00<?, ?it/s]"
      ]
     },
     "metadata": {},
     "output_type": "display_data"
    },
    {
     "name": "stdout",
     "output_type": "stream",
     "text": [
      "[Train] Accuracy: 82.2%, Avg loss: 0.428300 \n",
      "\n",
      "[Test] Accuracy: 79.9%, Avg loss: 0.520488 \n",
      "\n",
      "Epoch 390\n"
     ]
    },
    {
     "data": {
      "application/vnd.jupyter.widget-view+json": {
       "model_id": "9707bc7124564264aed08e91eb45ce27",
       "version_major": 2,
       "version_minor": 0
      },
      "text/plain": [
       "  0%|          | 0/2577 [00:00<?, ?it/s]"
      ]
     },
     "metadata": {},
     "output_type": "display_data"
    },
    {
     "name": "stdout",
     "output_type": "stream",
     "text": [
      "[Train] Accuracy: 82.2%, Avg loss: 0.427467 \n",
      "\n",
      "[Test] Accuracy: 81.4%, Avg loss: 0.475261 \n",
      "\n",
      "Epoch 391\n"
     ]
    },
    {
     "data": {
      "application/vnd.jupyter.widget-view+json": {
       "model_id": "950d171ad1d84f4fbd7d672f2b1cfe75",
       "version_major": 2,
       "version_minor": 0
      },
      "text/plain": [
       "  0%|          | 0/2577 [00:00<?, ?it/s]"
      ]
     },
     "metadata": {},
     "output_type": "display_data"
    },
    {
     "name": "stdout",
     "output_type": "stream",
     "text": [
      "[Train] Accuracy: 82.2%, Avg loss: 0.427606 \n",
      "\n",
      "[Test] Accuracy: 80.9%, Avg loss: 0.468966 \n",
      "\n",
      "Epoch 392\n"
     ]
    },
    {
     "data": {
      "application/vnd.jupyter.widget-view+json": {
       "model_id": "2acb8e15d60d4ee1a9862a6d7418da2c",
       "version_major": 2,
       "version_minor": 0
      },
      "text/plain": [
       "  0%|          | 0/2577 [00:00<?, ?it/s]"
      ]
     },
     "metadata": {},
     "output_type": "display_data"
    },
    {
     "name": "stdout",
     "output_type": "stream",
     "text": [
      "[Train] Accuracy: 82.2%, Avg loss: 0.427431 \n",
      "\n",
      "[Test] Accuracy: 81.2%, Avg loss: 0.471612 \n",
      "\n",
      "Epoch 393\n"
     ]
    },
    {
     "data": {
      "application/vnd.jupyter.widget-view+json": {
       "model_id": "58ef29448a914c4f8bbda217e21c5f6f",
       "version_major": 2,
       "version_minor": 0
      },
      "text/plain": [
       "  0%|          | 0/2577 [00:00<?, ?it/s]"
      ]
     },
     "metadata": {},
     "output_type": "display_data"
    },
    {
     "name": "stdout",
     "output_type": "stream",
     "text": [
      "[Train] Accuracy: 82.2%, Avg loss: 0.427141 \n",
      "\n",
      "[Test] Accuracy: 81.4%, Avg loss: 0.469729 \n",
      "\n",
      "Epoch 394\n"
     ]
    },
    {
     "data": {
      "application/vnd.jupyter.widget-view+json": {
       "model_id": "8861034f615945debb6f379c094b381d",
       "version_major": 2,
       "version_minor": 0
      },
      "text/plain": [
       "  0%|          | 0/2577 [00:00<?, ?it/s]"
      ]
     },
     "metadata": {},
     "output_type": "display_data"
    },
    {
     "name": "stdout",
     "output_type": "stream",
     "text": [
      "[Train] Accuracy: 82.2%, Avg loss: 0.426756 \n",
      "\n",
      "[Test] Accuracy: 80.4%, Avg loss: 0.510181 \n",
      "\n",
      "Epoch 395\n"
     ]
    },
    {
     "data": {
      "application/vnd.jupyter.widget-view+json": {
       "model_id": "42377df2ebef4b3fbe966cf7c1d379af",
       "version_major": 2,
       "version_minor": 0
      },
      "text/plain": [
       "  0%|          | 0/2577 [00:00<?, ?it/s]"
      ]
     },
     "metadata": {},
     "output_type": "display_data"
    },
    {
     "name": "stdout",
     "output_type": "stream",
     "text": [
      "[Train] Accuracy: 82.2%, Avg loss: 0.426841 \n",
      "\n",
      "[Test] Accuracy: 80.4%, Avg loss: 0.480874 \n",
      "\n",
      "Epoch 396\n"
     ]
    },
    {
     "data": {
      "application/vnd.jupyter.widget-view+json": {
       "model_id": "6a339c29487b44b7bf506dde4778b163",
       "version_major": 2,
       "version_minor": 0
      },
      "text/plain": [
       "  0%|          | 0/2577 [00:00<?, ?it/s]"
      ]
     },
     "metadata": {},
     "output_type": "display_data"
    },
    {
     "name": "stdout",
     "output_type": "stream",
     "text": [
      "[Train] Accuracy: 82.2%, Avg loss: 0.426527 \n",
      "\n",
      "[Test] Accuracy: 81.6%, Avg loss: 0.465608 \n",
      "\n",
      "Epoch 397\n"
     ]
    },
    {
     "data": {
      "application/vnd.jupyter.widget-view+json": {
       "model_id": "ebdbd9cbb0504a948cb531d61afb8a4f",
       "version_major": 2,
       "version_minor": 0
      },
      "text/plain": [
       "  0%|          | 0/2577 [00:00<?, ?it/s]"
      ]
     },
     "metadata": {},
     "output_type": "display_data"
    },
    {
     "name": "stdout",
     "output_type": "stream",
     "text": [
      "[Train] Accuracy: 82.3%, Avg loss: 0.426251 \n",
      "\n",
      "[Test] Accuracy: 80.2%, Avg loss: 0.474590 \n",
      "\n",
      "Epoch 398\n"
     ]
    },
    {
     "data": {
      "application/vnd.jupyter.widget-view+json": {
       "model_id": "a1a0b287d4374a068f97babc2943854a",
       "version_major": 2,
       "version_minor": 0
      },
      "text/plain": [
       "  0%|          | 0/2577 [00:00<?, ?it/s]"
      ]
     },
     "metadata": {},
     "output_type": "display_data"
    },
    {
     "name": "stdout",
     "output_type": "stream",
     "text": [
      "[Train] Accuracy: 82.2%, Avg loss: 0.427247 \n",
      "\n",
      "[Test] Accuracy: 80.4%, Avg loss: 0.488479 \n",
      "\n",
      "Epoch 399\n"
     ]
    },
    {
     "data": {
      "application/vnd.jupyter.widget-view+json": {
       "model_id": "3e8e49c95e2a4bec935c9929197f8466",
       "version_major": 2,
       "version_minor": 0
      },
      "text/plain": [
       "  0%|          | 0/2577 [00:00<?, ?it/s]"
      ]
     },
     "metadata": {},
     "output_type": "display_data"
    },
    {
     "name": "stdout",
     "output_type": "stream",
     "text": [
      "[Train] Accuracy: 82.3%, Avg loss: 0.426227 \n",
      "\n",
      "[Test] Accuracy: 80.2%, Avg loss: 0.477832 \n",
      "\n",
      "Epoch 400\n"
     ]
    },
    {
     "data": {
      "application/vnd.jupyter.widget-view+json": {
       "model_id": "d5580840181c450ca13b043c6dad3e48",
       "version_major": 2,
       "version_minor": 0
      },
      "text/plain": [
       "  0%|          | 0/2577 [00:00<?, ?it/s]"
      ]
     },
     "metadata": {},
     "output_type": "display_data"
    },
    {
     "name": "stdout",
     "output_type": "stream",
     "text": [
      "[Train] Accuracy: 82.2%, Avg loss: 0.428335 \n",
      "\n",
      "[Test] Accuracy: 81.5%, Avg loss: 0.458783 \n",
      "\n",
      "Epoch 401\n"
     ]
    },
    {
     "data": {
      "application/vnd.jupyter.widget-view+json": {
       "model_id": "33a6ea62a9ed47be91517790048a0514",
       "version_major": 2,
       "version_minor": 0
      },
      "text/plain": [
       "  0%|          | 0/2577 [00:00<?, ?it/s]"
      ]
     },
     "metadata": {},
     "output_type": "display_data"
    },
    {
     "name": "stdout",
     "output_type": "stream",
     "text": [
      "[Train] Accuracy: 82.2%, Avg loss: 0.427124 \n",
      "\n",
      "[Test] Accuracy: 81.5%, Avg loss: 0.482365 \n",
      "\n",
      "Epoch 402\n"
     ]
    },
    {
     "data": {
      "application/vnd.jupyter.widget-view+json": {
       "model_id": "1c0ba84069e84fb1808254dcfe77740f",
       "version_major": 2,
       "version_minor": 0
      },
      "text/plain": [
       "  0%|          | 0/2577 [00:00<?, ?it/s]"
      ]
     },
     "metadata": {},
     "output_type": "display_data"
    },
    {
     "name": "stdout",
     "output_type": "stream",
     "text": [
      "[Train] Accuracy: 82.3%, Avg loss: 0.426263 \n",
      "\n",
      "[Test] Accuracy: 81.5%, Avg loss: 0.498308 \n",
      "\n",
      "Epoch 403\n"
     ]
    },
    {
     "data": {
      "application/vnd.jupyter.widget-view+json": {
       "model_id": "fc00b1702bca400b9d4fdead5376549e",
       "version_major": 2,
       "version_minor": 0
      },
      "text/plain": [
       "  0%|          | 0/2577 [00:00<?, ?it/s]"
      ]
     },
     "metadata": {},
     "output_type": "display_data"
    },
    {
     "name": "stdout",
     "output_type": "stream",
     "text": [
      "[Train] Accuracy: 82.2%, Avg loss: 0.427021 \n",
      "\n",
      "[Test] Accuracy: 81.3%, Avg loss: 0.488578 \n",
      "\n",
      "Epoch 404\n"
     ]
    },
    {
     "data": {
      "application/vnd.jupyter.widget-view+json": {
       "model_id": "b869ba21825e4591a6afb970d0064a01",
       "version_major": 2,
       "version_minor": 0
      },
      "text/plain": [
       "  0%|          | 0/2577 [00:00<?, ?it/s]"
      ]
     },
     "metadata": {},
     "output_type": "display_data"
    },
    {
     "name": "stdout",
     "output_type": "stream",
     "text": [
      "[Train] Accuracy: 82.2%, Avg loss: 0.426250 \n",
      "\n",
      "[Test] Accuracy: 81.3%, Avg loss: 0.478831 \n",
      "\n",
      "Epoch 405\n"
     ]
    },
    {
     "data": {
      "application/vnd.jupyter.widget-view+json": {
       "model_id": "0b558b49eb1e499488419dd71fef7d71",
       "version_major": 2,
       "version_minor": 0
      },
      "text/plain": [
       "  0%|          | 0/2577 [00:00<?, ?it/s]"
      ]
     },
     "metadata": {},
     "output_type": "display_data"
    },
    {
     "name": "stdout",
     "output_type": "stream",
     "text": [
      "[Train] Accuracy: 82.2%, Avg loss: 0.427173 \n",
      "\n",
      "[Test] Accuracy: 81.6%, Avg loss: 0.467888 \n",
      "\n",
      "Epoch 406\n"
     ]
    },
    {
     "data": {
      "application/vnd.jupyter.widget-view+json": {
       "model_id": "f104f2ffe760443ab52fb9ab2def9b0c",
       "version_major": 2,
       "version_minor": 0
      },
      "text/plain": [
       "  0%|          | 0/2577 [00:00<?, ?it/s]"
      ]
     },
     "metadata": {},
     "output_type": "display_data"
    },
    {
     "name": "stdout",
     "output_type": "stream",
     "text": [
      "[Train] Accuracy: 82.2%, Avg loss: 0.426254 \n",
      "\n",
      "[Test] Accuracy: 81.3%, Avg loss: 0.473767 \n",
      "\n",
      "Epoch 407\n"
     ]
    },
    {
     "data": {
      "application/vnd.jupyter.widget-view+json": {
       "model_id": "04960354fb18434889ac983612eafba1",
       "version_major": 2,
       "version_minor": 0
      },
      "text/plain": [
       "  0%|          | 0/2577 [00:00<?, ?it/s]"
      ]
     },
     "metadata": {},
     "output_type": "display_data"
    },
    {
     "name": "stdout",
     "output_type": "stream",
     "text": [
      "[Train] Accuracy: 82.2%, Avg loss: 0.426133 \n",
      "\n",
      "[Test] Accuracy: 81.4%, Avg loss: 0.487230 \n",
      "\n",
      "Epoch 408\n"
     ]
    },
    {
     "data": {
      "application/vnd.jupyter.widget-view+json": {
       "model_id": "e33ee686905949ef978a2d27771f4c97",
       "version_major": 2,
       "version_minor": 0
      },
      "text/plain": [
       "  0%|          | 0/2577 [00:00<?, ?it/s]"
      ]
     },
     "metadata": {},
     "output_type": "display_data"
    },
    {
     "name": "stdout",
     "output_type": "stream",
     "text": [
      "[Train] Accuracy: 82.2%, Avg loss: 0.425911 \n",
      "\n",
      "[Test] Accuracy: 81.4%, Avg loss: 0.474638 \n",
      "\n",
      "Epoch 409\n"
     ]
    },
    {
     "data": {
      "application/vnd.jupyter.widget-view+json": {
       "model_id": "b8a07295ff13483caa4e372648f24f1a",
       "version_major": 2,
       "version_minor": 0
      },
      "text/plain": [
       "  0%|          | 0/2577 [00:00<?, ?it/s]"
      ]
     },
     "metadata": {},
     "output_type": "display_data"
    },
    {
     "name": "stdout",
     "output_type": "stream",
     "text": [
      "[Train] Accuracy: 82.2%, Avg loss: 0.426998 \n",
      "\n",
      "[Test] Accuracy: 81.5%, Avg loss: 0.472979 \n",
      "\n",
      "Epoch 410\n"
     ]
    },
    {
     "data": {
      "application/vnd.jupyter.widget-view+json": {
       "model_id": "542ead458a3f432999d8804269511f77",
       "version_major": 2,
       "version_minor": 0
      },
      "text/plain": [
       "  0%|          | 0/2577 [00:00<?, ?it/s]"
      ]
     },
     "metadata": {},
     "output_type": "display_data"
    },
    {
     "name": "stdout",
     "output_type": "stream",
     "text": [
      "[Train] Accuracy: 82.3%, Avg loss: 0.424564 \n",
      "\n",
      "[Test] Accuracy: 80.6%, Avg loss: 0.471060 \n",
      "\n",
      "Epoch 411\n"
     ]
    },
    {
     "data": {
      "application/vnd.jupyter.widget-view+json": {
       "model_id": "7199c8cdff03432581d7c26d6a00e8c0",
       "version_major": 2,
       "version_minor": 0
      },
      "text/plain": [
       "  0%|          | 0/2577 [00:00<?, ?it/s]"
      ]
     },
     "metadata": {},
     "output_type": "display_data"
    },
    {
     "name": "stdout",
     "output_type": "stream",
     "text": [
      "[Train] Accuracy: 82.4%, Avg loss: 0.425436 \n",
      "\n",
      "[Test] Accuracy: 81.6%, Avg loss: 0.475427 \n",
      "\n",
      "Epoch 412\n"
     ]
    },
    {
     "data": {
      "application/vnd.jupyter.widget-view+json": {
       "model_id": "642e2b14a12145dab71683aa264ae7b5",
       "version_major": 2,
       "version_minor": 0
      },
      "text/plain": [
       "  0%|          | 0/2577 [00:00<?, ?it/s]"
      ]
     },
     "metadata": {},
     "output_type": "display_data"
    },
    {
     "name": "stdout",
     "output_type": "stream",
     "text": [
      "[Train] Accuracy: 82.2%, Avg loss: 0.425968 \n",
      "\n",
      "[Test] Accuracy: 81.7%, Avg loss: 0.482414 \n",
      "\n",
      "Epoch 413\n"
     ]
    },
    {
     "data": {
      "application/vnd.jupyter.widget-view+json": {
       "model_id": "63e1fabded634d2f82d697250d973df6",
       "version_major": 2,
       "version_minor": 0
      },
      "text/plain": [
       "  0%|          | 0/2577 [00:00<?, ?it/s]"
      ]
     },
     "metadata": {},
     "output_type": "display_data"
    },
    {
     "name": "stdout",
     "output_type": "stream",
     "text": [
      "[Train] Accuracy: 82.3%, Avg loss: 0.425442 \n",
      "\n",
      "[Test] Accuracy: 81.1%, Avg loss: 0.460157 \n",
      "\n",
      "Epoch 414\n"
     ]
    },
    {
     "data": {
      "application/vnd.jupyter.widget-view+json": {
       "model_id": "108667029842485194a2a2261ee99d5f",
       "version_major": 2,
       "version_minor": 0
      },
      "text/plain": [
       "  0%|          | 0/2577 [00:00<?, ?it/s]"
      ]
     },
     "metadata": {},
     "output_type": "display_data"
    },
    {
     "name": "stdout",
     "output_type": "stream",
     "text": [
      "[Train] Accuracy: 82.3%, Avg loss: 0.425081 \n",
      "\n",
      "[Test] Accuracy: 80.9%, Avg loss: 0.482450 \n",
      "\n",
      "Epoch 415\n"
     ]
    },
    {
     "data": {
      "application/vnd.jupyter.widget-view+json": {
       "model_id": "8065901983c547cc9b31e897de4edd9f",
       "version_major": 2,
       "version_minor": 0
      },
      "text/plain": [
       "  0%|          | 0/2577 [00:00<?, ?it/s]"
      ]
     },
     "metadata": {},
     "output_type": "display_data"
    },
    {
     "name": "stdout",
     "output_type": "stream",
     "text": [
      "[Train] Accuracy: 82.3%, Avg loss: 0.424650 \n",
      "\n",
      "[Test] Accuracy: 81.1%, Avg loss: 0.502903 \n",
      "\n",
      "Epoch 416\n"
     ]
    },
    {
     "data": {
      "application/vnd.jupyter.widget-view+json": {
       "model_id": "8fe889162ad44b39ba5a8ff613d5ab63",
       "version_major": 2,
       "version_minor": 0
      },
      "text/plain": [
       "  0%|          | 0/2577 [00:00<?, ?it/s]"
      ]
     },
     "metadata": {},
     "output_type": "display_data"
    },
    {
     "name": "stdout",
     "output_type": "stream",
     "text": [
      "[Train] Accuracy: 82.2%, Avg loss: 0.425313 \n",
      "\n",
      "[Test] Accuracy: 81.6%, Avg loss: 0.463357 \n",
      "\n",
      "Epoch 417\n"
     ]
    },
    {
     "data": {
      "application/vnd.jupyter.widget-view+json": {
       "model_id": "ad5a2ef46a4d4c3690ba5264ad8be022",
       "version_major": 2,
       "version_minor": 0
      },
      "text/plain": [
       "  0%|          | 0/2577 [00:00<?, ?it/s]"
      ]
     },
     "metadata": {},
     "output_type": "display_data"
    },
    {
     "name": "stdout",
     "output_type": "stream",
     "text": [
      "[Train] Accuracy: 82.2%, Avg loss: 0.426072 \n",
      "\n",
      "[Test] Accuracy: 80.7%, Avg loss: 0.497473 \n",
      "\n",
      "Epoch 418\n"
     ]
    },
    {
     "data": {
      "application/vnd.jupyter.widget-view+json": {
       "model_id": "e869ac59a76048f5bc0177b77b0202b2",
       "version_major": 2,
       "version_minor": 0
      },
      "text/plain": [
       "  0%|          | 0/2577 [00:00<?, ?it/s]"
      ]
     },
     "metadata": {},
     "output_type": "display_data"
    },
    {
     "name": "stdout",
     "output_type": "stream",
     "text": [
      "[Train] Accuracy: 82.2%, Avg loss: 0.424376 \n",
      "\n",
      "[Test] Accuracy: 81.5%, Avg loss: 0.478642 \n",
      "\n",
      "Epoch 419\n"
     ]
    },
    {
     "data": {
      "application/vnd.jupyter.widget-view+json": {
       "model_id": "696928e0e56349c5b9444486b6efc4d3",
       "version_major": 2,
       "version_minor": 0
      },
      "text/plain": [
       "  0%|          | 0/2577 [00:00<?, ?it/s]"
      ]
     },
     "metadata": {},
     "output_type": "display_data"
    },
    {
     "name": "stdout",
     "output_type": "stream",
     "text": [
      "[Train] Accuracy: 82.2%, Avg loss: 0.424937 \n",
      "\n",
      "[Test] Accuracy: 81.4%, Avg loss: 0.466854 \n",
      "\n",
      "Epoch 420\n"
     ]
    },
    {
     "data": {
      "application/vnd.jupyter.widget-view+json": {
       "model_id": "1480ae500d2f421d962562f794ad8db0",
       "version_major": 2,
       "version_minor": 0
      },
      "text/plain": [
       "  0%|          | 0/2577 [00:00<?, ?it/s]"
      ]
     },
     "metadata": {},
     "output_type": "display_data"
    },
    {
     "name": "stdout",
     "output_type": "stream",
     "text": [
      "[Train] Accuracy: 82.3%, Avg loss: 0.424071 \n",
      "\n",
      "[Test] Accuracy: 81.4%, Avg loss: 0.467826 \n",
      "\n",
      "Epoch 421\n"
     ]
    },
    {
     "data": {
      "application/vnd.jupyter.widget-view+json": {
       "model_id": "2ece8e366989479498c68dc3a378161f",
       "version_major": 2,
       "version_minor": 0
      },
      "text/plain": [
       "  0%|          | 0/2577 [00:00<?, ?it/s]"
      ]
     },
     "metadata": {},
     "output_type": "display_data"
    },
    {
     "name": "stdout",
     "output_type": "stream",
     "text": [
      "[Train] Accuracy: 82.3%, Avg loss: 0.424852 \n",
      "\n",
      "[Test] Accuracy: 81.2%, Avg loss: 0.478072 \n",
      "\n",
      "Epoch 422\n"
     ]
    },
    {
     "data": {
      "application/vnd.jupyter.widget-view+json": {
       "model_id": "60b656283719432d8f9779e6f14aaa07",
       "version_major": 2,
       "version_minor": 0
      },
      "text/plain": [
       "  0%|          | 0/2577 [00:00<?, ?it/s]"
      ]
     },
     "metadata": {},
     "output_type": "display_data"
    },
    {
     "name": "stdout",
     "output_type": "stream",
     "text": [
      "[Train] Accuracy: 82.4%, Avg loss: 0.423988 \n",
      "\n",
      "[Test] Accuracy: 81.6%, Avg loss: 0.462050 \n",
      "\n",
      "Epoch 423\n"
     ]
    },
    {
     "data": {
      "application/vnd.jupyter.widget-view+json": {
       "model_id": "a9549eac68d14648ac4b44f6091b98c3",
       "version_major": 2,
       "version_minor": 0
      },
      "text/plain": [
       "  0%|          | 0/2577 [00:00<?, ?it/s]"
      ]
     },
     "metadata": {},
     "output_type": "display_data"
    },
    {
     "name": "stdout",
     "output_type": "stream",
     "text": [
      "[Train] Accuracy: 82.3%, Avg loss: 0.424160 \n",
      "\n",
      "[Test] Accuracy: 81.5%, Avg loss: 0.463227 \n",
      "\n",
      "Epoch 424\n"
     ]
    },
    {
     "data": {
      "application/vnd.jupyter.widget-view+json": {
       "model_id": "f3fa4beb7a01429a83fb495a1db0ca18",
       "version_major": 2,
       "version_minor": 0
      },
      "text/plain": [
       "  0%|          | 0/2577 [00:00<?, ?it/s]"
      ]
     },
     "metadata": {},
     "output_type": "display_data"
    },
    {
     "name": "stdout",
     "output_type": "stream",
     "text": [
      "[Train] Accuracy: 82.2%, Avg loss: 0.425687 \n",
      "\n",
      "[Test] Accuracy: 81.5%, Avg loss: 0.466532 \n",
      "\n",
      "Epoch 425\n"
     ]
    },
    {
     "data": {
      "application/vnd.jupyter.widget-view+json": {
       "model_id": "5f52bdb02f5a492a9eb865aa9c61a05b",
       "version_major": 2,
       "version_minor": 0
      },
      "text/plain": [
       "  0%|          | 0/2577 [00:00<?, ?it/s]"
      ]
     },
     "metadata": {},
     "output_type": "display_data"
    },
    {
     "name": "stdout",
     "output_type": "stream",
     "text": [
      "[Train] Accuracy: 82.3%, Avg loss: 0.425086 \n",
      "\n",
      "[Test] Accuracy: 81.4%, Avg loss: 0.463048 \n",
      "\n",
      "Epoch 426\n"
     ]
    },
    {
     "data": {
      "application/vnd.jupyter.widget-view+json": {
       "model_id": "f8f39f34a46442c3aa1062a3a191df99",
       "version_major": 2,
       "version_minor": 0
      },
      "text/plain": [
       "  0%|          | 0/2577 [00:00<?, ?it/s]"
      ]
     },
     "metadata": {},
     "output_type": "display_data"
    },
    {
     "name": "stdout",
     "output_type": "stream",
     "text": [
      "[Train] Accuracy: 82.3%, Avg loss: 0.424911 \n",
      "\n",
      "[Test] Accuracy: 81.6%, Avg loss: 0.469239 \n",
      "\n",
      "Epoch 427\n"
     ]
    },
    {
     "data": {
      "application/vnd.jupyter.widget-view+json": {
       "model_id": "76015bc9435d4075b4b13090560ea3c7",
       "version_major": 2,
       "version_minor": 0
      },
      "text/plain": [
       "  0%|          | 0/2577 [00:00<?, ?it/s]"
      ]
     },
     "metadata": {},
     "output_type": "display_data"
    },
    {
     "name": "stdout",
     "output_type": "stream",
     "text": [
      "[Train] Accuracy: 82.3%, Avg loss: 0.424724 \n",
      "\n",
      "[Test] Accuracy: 81.3%, Avg loss: 0.474020 \n",
      "\n",
      "Epoch 428\n"
     ]
    },
    {
     "data": {
      "application/vnd.jupyter.widget-view+json": {
       "model_id": "f3191ff520424a69a088807183cddfef",
       "version_major": 2,
       "version_minor": 0
      },
      "text/plain": [
       "  0%|          | 0/2577 [00:00<?, ?it/s]"
      ]
     },
     "metadata": {},
     "output_type": "display_data"
    },
    {
     "name": "stdout",
     "output_type": "stream",
     "text": [
      "[Train] Accuracy: 82.3%, Avg loss: 0.424403 \n",
      "\n",
      "[Test] Accuracy: 80.6%, Avg loss: 0.492267 \n",
      "\n",
      "Epoch 429\n"
     ]
    },
    {
     "data": {
      "application/vnd.jupyter.widget-view+json": {
       "model_id": "bf6b76a8d8ba4fc79522360bd9a1fd4e",
       "version_major": 2,
       "version_minor": 0
      },
      "text/plain": [
       "  0%|          | 0/2577 [00:00<?, ?it/s]"
      ]
     },
     "metadata": {},
     "output_type": "display_data"
    },
    {
     "name": "stdout",
     "output_type": "stream",
     "text": [
      "[Train] Accuracy: 82.3%, Avg loss: 0.423940 \n",
      "\n",
      "[Test] Accuracy: 81.6%, Avg loss: 0.464040 \n",
      "\n",
      "Epoch 430\n"
     ]
    },
    {
     "data": {
      "application/vnd.jupyter.widget-view+json": {
       "model_id": "2035ab581db340e5817e95751b021351",
       "version_major": 2,
       "version_minor": 0
      },
      "text/plain": [
       "  0%|          | 0/2577 [00:00<?, ?it/s]"
      ]
     },
     "metadata": {},
     "output_type": "display_data"
    },
    {
     "name": "stdout",
     "output_type": "stream",
     "text": [
      "[Train] Accuracy: 82.4%, Avg loss: 0.423933 \n",
      "\n",
      "[Test] Accuracy: 81.1%, Avg loss: 0.490574 \n",
      "\n",
      "Epoch 431\n"
     ]
    },
    {
     "data": {
      "application/vnd.jupyter.widget-view+json": {
       "model_id": "2ef734dd8e704f1e891174ae38b0074f",
       "version_major": 2,
       "version_minor": 0
      },
      "text/plain": [
       "  0%|          | 0/2577 [00:00<?, ?it/s]"
      ]
     },
     "metadata": {},
     "output_type": "display_data"
    },
    {
     "name": "stdout",
     "output_type": "stream",
     "text": [
      "[Train] Accuracy: 82.3%, Avg loss: 0.424604 \n",
      "\n",
      "[Test] Accuracy: 81.4%, Avg loss: 0.462436 \n",
      "\n",
      "Epoch 432\n"
     ]
    },
    {
     "data": {
      "application/vnd.jupyter.widget-view+json": {
       "model_id": "7b34aa184a974b7bb64a8a4a2e965c0c",
       "version_major": 2,
       "version_minor": 0
      },
      "text/plain": [
       "  0%|          | 0/2577 [00:00<?, ?it/s]"
      ]
     },
     "metadata": {},
     "output_type": "display_data"
    },
    {
     "name": "stdout",
     "output_type": "stream",
     "text": [
      "[Train] Accuracy: 82.4%, Avg loss: 0.423385 \n",
      "\n",
      "[Test] Accuracy: 81.4%, Avg loss: 0.466007 \n",
      "\n",
      "Epoch 433\n"
     ]
    },
    {
     "data": {
      "application/vnd.jupyter.widget-view+json": {
       "model_id": "d7a788695bc14582a84b42cc9e310fe9",
       "version_major": 2,
       "version_minor": 0
      },
      "text/plain": [
       "  0%|          | 0/2577 [00:00<?, ?it/s]"
      ]
     },
     "metadata": {},
     "output_type": "display_data"
    },
    {
     "name": "stdout",
     "output_type": "stream",
     "text": [
      "[Train] Accuracy: 82.3%, Avg loss: 0.423106 \n",
      "\n",
      "[Test] Accuracy: 81.6%, Avg loss: 0.461732 \n",
      "\n",
      "Epoch 434\n"
     ]
    },
    {
     "data": {
      "application/vnd.jupyter.widget-view+json": {
       "model_id": "fcc8879c413545bb86b93f7c15d9601e",
       "version_major": 2,
       "version_minor": 0
      },
      "text/plain": [
       "  0%|          | 0/2577 [00:00<?, ?it/s]"
      ]
     },
     "metadata": {},
     "output_type": "display_data"
    },
    {
     "name": "stdout",
     "output_type": "stream",
     "text": [
      "[Train] Accuracy: 82.3%, Avg loss: 0.423473 \n",
      "\n",
      "[Test] Accuracy: 81.7%, Avg loss: 0.462167 \n",
      "\n",
      "Epoch 435\n"
     ]
    },
    {
     "data": {
      "application/vnd.jupyter.widget-view+json": {
       "model_id": "faa4615a15134209a2005d7cb6370773",
       "version_major": 2,
       "version_minor": 0
      },
      "text/plain": [
       "  0%|          | 0/2577 [00:00<?, ?it/s]"
      ]
     },
     "metadata": {},
     "output_type": "display_data"
    },
    {
     "name": "stdout",
     "output_type": "stream",
     "text": [
      "[Train] Accuracy: 82.4%, Avg loss: 0.422452 \n",
      "\n",
      "[Test] Accuracy: 81.6%, Avg loss: 0.483724 \n",
      "\n",
      "Epoch 436\n"
     ]
    },
    {
     "data": {
      "application/vnd.jupyter.widget-view+json": {
       "model_id": "d00d113a85ae4e15beaba7cd0f36161e",
       "version_major": 2,
       "version_minor": 0
      },
      "text/plain": [
       "  0%|          | 0/2577 [00:00<?, ?it/s]"
      ]
     },
     "metadata": {},
     "output_type": "display_data"
    },
    {
     "name": "stdout",
     "output_type": "stream",
     "text": [
      "[Train] Accuracy: 82.3%, Avg loss: 0.422946 \n",
      "\n",
      "[Test] Accuracy: 80.5%, Avg loss: 0.485267 \n",
      "\n",
      "Epoch 437\n"
     ]
    },
    {
     "data": {
      "application/vnd.jupyter.widget-view+json": {
       "model_id": "866f18718f1446eca983ae8d83d5c5b2",
       "version_major": 2,
       "version_minor": 0
      },
      "text/plain": [
       "  0%|          | 0/2577 [00:00<?, ?it/s]"
      ]
     },
     "metadata": {},
     "output_type": "display_data"
    },
    {
     "name": "stdout",
     "output_type": "stream",
     "text": [
      "[Train] Accuracy: 82.4%, Avg loss: 0.422323 \n",
      "\n",
      "[Test] Accuracy: 80.7%, Avg loss: 0.469095 \n",
      "\n",
      "Epoch 438\n"
     ]
    },
    {
     "data": {
      "application/vnd.jupyter.widget-view+json": {
       "model_id": "b65d84e756234f4abb8cfbda29352b47",
       "version_major": 2,
       "version_minor": 0
      },
      "text/plain": [
       "  0%|          | 0/2577 [00:00<?, ?it/s]"
      ]
     },
     "metadata": {},
     "output_type": "display_data"
    },
    {
     "name": "stdout",
     "output_type": "stream",
     "text": [
      "[Train] Accuracy: 82.4%, Avg loss: 0.423052 \n",
      "\n",
      "[Test] Accuracy: 81.4%, Avg loss: 0.471320 \n",
      "\n",
      "Epoch 439\n"
     ]
    },
    {
     "data": {
      "application/vnd.jupyter.widget-view+json": {
       "model_id": "f2c605b401234c3082210febbbddfcc9",
       "version_major": 2,
       "version_minor": 0
      },
      "text/plain": [
       "  0%|          | 0/2577 [00:00<?, ?it/s]"
      ]
     },
     "metadata": {},
     "output_type": "display_data"
    },
    {
     "name": "stdout",
     "output_type": "stream",
     "text": [
      "[Train] Accuracy: 82.4%, Avg loss: 0.422111 \n",
      "\n",
      "[Test] Accuracy: 81.5%, Avg loss: 0.467370 \n",
      "\n",
      "Epoch 440\n"
     ]
    },
    {
     "data": {
      "application/vnd.jupyter.widget-view+json": {
       "model_id": "97926fb598e24a30886d0fd4194beb0d",
       "version_major": 2,
       "version_minor": 0
      },
      "text/plain": [
       "  0%|          | 0/2577 [00:00<?, ?it/s]"
      ]
     },
     "metadata": {},
     "output_type": "display_data"
    },
    {
     "name": "stdout",
     "output_type": "stream",
     "text": [
      "[Train] Accuracy: 82.5%, Avg loss: 0.422065 \n",
      "\n",
      "[Test] Accuracy: 81.4%, Avg loss: 0.498468 \n",
      "\n",
      "Epoch 441\n"
     ]
    },
    {
     "data": {
      "application/vnd.jupyter.widget-view+json": {
       "model_id": "29fc1b51d15d48fa886478fae7e1e4ab",
       "version_major": 2,
       "version_minor": 0
      },
      "text/plain": [
       "  0%|          | 0/2577 [00:00<?, ?it/s]"
      ]
     },
     "metadata": {},
     "output_type": "display_data"
    },
    {
     "name": "stdout",
     "output_type": "stream",
     "text": [
      "[Train] Accuracy: 82.4%, Avg loss: 0.422767 \n",
      "\n",
      "[Test] Accuracy: 81.3%, Avg loss: 0.483162 \n",
      "\n",
      "Epoch 442\n"
     ]
    },
    {
     "data": {
      "application/vnd.jupyter.widget-view+json": {
       "model_id": "7ee4f4cb33374b4f9400e8730e89cb1a",
       "version_major": 2,
       "version_minor": 0
      },
      "text/plain": [
       "  0%|          | 0/2577 [00:00<?, ?it/s]"
      ]
     },
     "metadata": {},
     "output_type": "display_data"
    },
    {
     "name": "stdout",
     "output_type": "stream",
     "text": [
      "[Train] Accuracy: 82.3%, Avg loss: 0.424241 \n",
      "\n",
      "[Test] Accuracy: 81.4%, Avg loss: 0.470376 \n",
      "\n",
      "Epoch 443\n"
     ]
    },
    {
     "data": {
      "application/vnd.jupyter.widget-view+json": {
       "model_id": "56709eb465c2498993fd15e545bc7fa0",
       "version_major": 2,
       "version_minor": 0
      },
      "text/plain": [
       "  0%|          | 0/2577 [00:00<?, ?it/s]"
      ]
     },
     "metadata": {},
     "output_type": "display_data"
    },
    {
     "name": "stdout",
     "output_type": "stream",
     "text": [
      "[Train] Accuracy: 82.3%, Avg loss: 0.421892 \n",
      "\n",
      "[Test] Accuracy: 81.5%, Avg loss: 0.472322 \n",
      "\n",
      "Epoch 444\n"
     ]
    },
    {
     "data": {
      "application/vnd.jupyter.widget-view+json": {
       "model_id": "0de8b0438be8483883feba2c220dff66",
       "version_major": 2,
       "version_minor": 0
      },
      "text/plain": [
       "  0%|          | 0/2577 [00:00<?, ?it/s]"
      ]
     },
     "metadata": {},
     "output_type": "display_data"
    },
    {
     "name": "stdout",
     "output_type": "stream",
     "text": [
      "[Train] Accuracy: 82.4%, Avg loss: 0.422020 \n",
      "\n",
      "[Test] Accuracy: 81.5%, Avg loss: 0.460616 \n",
      "\n",
      "Epoch 445\n"
     ]
    },
    {
     "data": {
      "application/vnd.jupyter.widget-view+json": {
       "model_id": "e6ff5e80010f4e309ed0fe703b6634b3",
       "version_major": 2,
       "version_minor": 0
      },
      "text/plain": [
       "  0%|          | 0/2577 [00:00<?, ?it/s]"
      ]
     },
     "metadata": {},
     "output_type": "display_data"
    },
    {
     "name": "stdout",
     "output_type": "stream",
     "text": [
      "[Train] Accuracy: 82.3%, Avg loss: 0.422236 \n",
      "\n",
      "[Test] Accuracy: 81.6%, Avg loss: 0.459520 \n",
      "\n",
      "Epoch 446\n"
     ]
    },
    {
     "data": {
      "application/vnd.jupyter.widget-view+json": {
       "model_id": "34eaec10a5464d37907964b7eca6d250",
       "version_major": 2,
       "version_minor": 0
      },
      "text/plain": [
       "  0%|          | 0/2577 [00:00<?, ?it/s]"
      ]
     },
     "metadata": {},
     "output_type": "display_data"
    },
    {
     "name": "stdout",
     "output_type": "stream",
     "text": [
      "[Train] Accuracy: 82.4%, Avg loss: 0.422070 \n",
      "\n",
      "[Test] Accuracy: 81.4%, Avg loss: 0.464787 \n",
      "\n",
      "Epoch 447\n"
     ]
    },
    {
     "data": {
      "application/vnd.jupyter.widget-view+json": {
       "model_id": "0058c8d7ed034070beca2880e709b133",
       "version_major": 2,
       "version_minor": 0
      },
      "text/plain": [
       "  0%|          | 0/2577 [00:00<?, ?it/s]"
      ]
     },
     "metadata": {},
     "output_type": "display_data"
    },
    {
     "name": "stdout",
     "output_type": "stream",
     "text": [
      "[Train] Accuracy: 82.3%, Avg loss: 0.422602 \n",
      "\n",
      "[Test] Accuracy: 81.4%, Avg loss: 0.468768 \n",
      "\n",
      "Epoch 448\n"
     ]
    },
    {
     "data": {
      "application/vnd.jupyter.widget-view+json": {
       "model_id": "8ac751f2e2284ad5a58cc99ccf406752",
       "version_major": 2,
       "version_minor": 0
      },
      "text/plain": [
       "  0%|          | 0/2577 [00:00<?, ?it/s]"
      ]
     },
     "metadata": {},
     "output_type": "display_data"
    },
    {
     "name": "stdout",
     "output_type": "stream",
     "text": [
      "[Train] Accuracy: 82.5%, Avg loss: 0.421397 \n",
      "\n",
      "[Test] Accuracy: 81.6%, Avg loss: 0.486526 \n",
      "\n",
      "Epoch 449\n"
     ]
    },
    {
     "data": {
      "application/vnd.jupyter.widget-view+json": {
       "model_id": "5ecfac391de34f71b127a5f5bf47c3cb",
       "version_major": 2,
       "version_minor": 0
      },
      "text/plain": [
       "  0%|          | 0/2577 [00:00<?, ?it/s]"
      ]
     },
     "metadata": {},
     "output_type": "display_data"
    },
    {
     "name": "stdout",
     "output_type": "stream",
     "text": [
      "[Train] Accuracy: 82.4%, Avg loss: 0.422553 \n",
      "\n",
      "[Test] Accuracy: 81.4%, Avg loss: 0.473332 \n",
      "\n",
      "Epoch 450\n"
     ]
    },
    {
     "data": {
      "application/vnd.jupyter.widget-view+json": {
       "model_id": "118f0339e8ff42ed9dca8faab23112ad",
       "version_major": 2,
       "version_minor": 0
      },
      "text/plain": [
       "  0%|          | 0/2577 [00:00<?, ?it/s]"
      ]
     },
     "metadata": {},
     "output_type": "display_data"
    },
    {
     "name": "stdout",
     "output_type": "stream",
     "text": [
      "[Train] Accuracy: 82.4%, Avg loss: 0.422123 \n",
      "\n",
      "[Test] Accuracy: 81.1%, Avg loss: 0.472778 \n",
      "\n",
      "Epoch 451\n"
     ]
    },
    {
     "data": {
      "application/vnd.jupyter.widget-view+json": {
       "model_id": "7e4597cfc1ca420090cc7e7a5bfcc450",
       "version_major": 2,
       "version_minor": 0
      },
      "text/plain": [
       "  0%|          | 0/2577 [00:00<?, ?it/s]"
      ]
     },
     "metadata": {},
     "output_type": "display_data"
    },
    {
     "name": "stdout",
     "output_type": "stream",
     "text": [
      "[Train] Accuracy: 82.4%, Avg loss: 0.422358 \n",
      "\n",
      "[Test] Accuracy: 81.5%, Avg loss: 0.467373 \n",
      "\n",
      "Epoch 452\n"
     ]
    },
    {
     "data": {
      "application/vnd.jupyter.widget-view+json": {
       "model_id": "5fd17d036b4f43e49c8098338e05a1f3",
       "version_major": 2,
       "version_minor": 0
      },
      "text/plain": [
       "  0%|          | 0/2577 [00:00<?, ?it/s]"
      ]
     },
     "metadata": {},
     "output_type": "display_data"
    },
    {
     "name": "stdout",
     "output_type": "stream",
     "text": [
      "[Train] Accuracy: 82.4%, Avg loss: 0.421854 \n",
      "\n",
      "[Test] Accuracy: 80.8%, Avg loss: 0.485764 \n",
      "\n",
      "Epoch 453\n"
     ]
    },
    {
     "data": {
      "application/vnd.jupyter.widget-view+json": {
       "model_id": "3e6437753e47443787b0fa437d0893bf",
       "version_major": 2,
       "version_minor": 0
      },
      "text/plain": [
       "  0%|          | 0/2577 [00:00<?, ?it/s]"
      ]
     },
     "metadata": {},
     "output_type": "display_data"
    },
    {
     "name": "stdout",
     "output_type": "stream",
     "text": [
      "[Train] Accuracy: 82.5%, Avg loss: 0.421745 \n",
      "\n",
      "[Test] Accuracy: 81.2%, Avg loss: 0.463243 \n",
      "\n",
      "Epoch 454\n"
     ]
    },
    {
     "data": {
      "application/vnd.jupyter.widget-view+json": {
       "model_id": "3c24520184254bd89ce696783964fe9e",
       "version_major": 2,
       "version_minor": 0
      },
      "text/plain": [
       "  0%|          | 0/2577 [00:00<?, ?it/s]"
      ]
     },
     "metadata": {},
     "output_type": "display_data"
    },
    {
     "name": "stdout",
     "output_type": "stream",
     "text": [
      "[Train] Accuracy: 82.4%, Avg loss: 0.421632 \n",
      "\n",
      "[Test] Accuracy: 81.5%, Avg loss: 0.470051 \n",
      "\n",
      "Epoch 455\n"
     ]
    },
    {
     "data": {
      "application/vnd.jupyter.widget-view+json": {
       "model_id": "b5388a0d3ad648c3b54f817a5482692a",
       "version_major": 2,
       "version_minor": 0
      },
      "text/plain": [
       "  0%|          | 0/2577 [00:00<?, ?it/s]"
      ]
     },
     "metadata": {},
     "output_type": "display_data"
    },
    {
     "name": "stdout",
     "output_type": "stream",
     "text": [
      "[Train] Accuracy: 82.4%, Avg loss: 0.421499 \n",
      "\n",
      "[Test] Accuracy: 81.5%, Avg loss: 0.467302 \n",
      "\n",
      "Epoch 456\n"
     ]
    },
    {
     "data": {
      "application/vnd.jupyter.widget-view+json": {
       "model_id": "3763a9b8849743e1956ccbc6b5ba458e",
       "version_major": 2,
       "version_minor": 0
      },
      "text/plain": [
       "  0%|          | 0/2577 [00:00<?, ?it/s]"
      ]
     },
     "metadata": {},
     "output_type": "display_data"
    },
    {
     "name": "stdout",
     "output_type": "stream",
     "text": [
      "[Train] Accuracy: 82.4%, Avg loss: 0.420550 \n",
      "\n",
      "[Test] Accuracy: 80.9%, Avg loss: 0.467636 \n",
      "\n",
      "Epoch 457\n"
     ]
    },
    {
     "data": {
      "application/vnd.jupyter.widget-view+json": {
       "model_id": "9dd767352a804c39bbcff24b4b2f241c",
       "version_major": 2,
       "version_minor": 0
      },
      "text/plain": [
       "  0%|          | 0/2577 [00:00<?, ?it/s]"
      ]
     },
     "metadata": {},
     "output_type": "display_data"
    },
    {
     "name": "stdout",
     "output_type": "stream",
     "text": [
      "[Train] Accuracy: 82.4%, Avg loss: 0.421137 \n",
      "\n",
      "[Test] Accuracy: 81.5%, Avg loss: 0.466717 \n",
      "\n",
      "Epoch 458\n"
     ]
    },
    {
     "data": {
      "application/vnd.jupyter.widget-view+json": {
       "model_id": "13d8f86c6b094e77b67f8c3cc741ce2d",
       "version_major": 2,
       "version_minor": 0
      },
      "text/plain": [
       "  0%|          | 0/2577 [00:00<?, ?it/s]"
      ]
     },
     "metadata": {},
     "output_type": "display_data"
    },
    {
     "name": "stdout",
     "output_type": "stream",
     "text": [
      "[Train] Accuracy: 82.5%, Avg loss: 0.420740 \n",
      "\n",
      "[Test] Accuracy: 81.6%, Avg loss: 0.471617 \n",
      "\n",
      "Epoch 459\n"
     ]
    },
    {
     "data": {
      "application/vnd.jupyter.widget-view+json": {
       "model_id": "193a40af8f4a4c8db063a6bec07ba158",
       "version_major": 2,
       "version_minor": 0
      },
      "text/plain": [
       "  0%|          | 0/2577 [00:00<?, ?it/s]"
      ]
     },
     "metadata": {},
     "output_type": "display_data"
    },
    {
     "name": "stdout",
     "output_type": "stream",
     "text": [
      "[Train] Accuracy: 82.3%, Avg loss: 0.422238 \n",
      "\n",
      "[Test] Accuracy: 81.8%, Avg loss: 0.470618 \n",
      "\n",
      "Epoch 460\n"
     ]
    },
    {
     "data": {
      "application/vnd.jupyter.widget-view+json": {
       "model_id": "91564705327642b1812e6a07f4b98d26",
       "version_major": 2,
       "version_minor": 0
      },
      "text/plain": [
       "  0%|          | 0/2577 [00:00<?, ?it/s]"
      ]
     },
     "metadata": {},
     "output_type": "display_data"
    },
    {
     "name": "stdout",
     "output_type": "stream",
     "text": [
      "[Train] Accuracy: 82.4%, Avg loss: 0.421392 \n",
      "\n",
      "[Test] Accuracy: 81.7%, Avg loss: 0.463863 \n",
      "\n",
      "Epoch 461\n"
     ]
    },
    {
     "data": {
      "application/vnd.jupyter.widget-view+json": {
       "model_id": "6dde59c420474bef9564140df9b74854",
       "version_major": 2,
       "version_minor": 0
      },
      "text/plain": [
       "  0%|          | 0/2577 [00:00<?, ?it/s]"
      ]
     },
     "metadata": {},
     "output_type": "display_data"
    },
    {
     "name": "stdout",
     "output_type": "stream",
     "text": [
      "[Train] Accuracy: 82.4%, Avg loss: 0.421406 \n",
      "\n",
      "[Test] Accuracy: 80.9%, Avg loss: 0.515095 \n",
      "\n",
      "Epoch 462\n"
     ]
    },
    {
     "data": {
      "application/vnd.jupyter.widget-view+json": {
       "model_id": "de6f3d26da2542019c317e96c6f0cbdd",
       "version_major": 2,
       "version_minor": 0
      },
      "text/plain": [
       "  0%|          | 0/2577 [00:00<?, ?it/s]"
      ]
     },
     "metadata": {},
     "output_type": "display_data"
    },
    {
     "name": "stdout",
     "output_type": "stream",
     "text": [
      "[Train] Accuracy: 82.3%, Avg loss: 0.421088 \n",
      "\n",
      "[Test] Accuracy: 80.8%, Avg loss: 0.517454 \n",
      "\n",
      "Epoch 463\n"
     ]
    },
    {
     "data": {
      "application/vnd.jupyter.widget-view+json": {
       "model_id": "c510189c51b34ac4804979182ceab02e",
       "version_major": 2,
       "version_minor": 0
      },
      "text/plain": [
       "  0%|          | 0/2577 [00:00<?, ?it/s]"
      ]
     },
     "metadata": {},
     "output_type": "display_data"
    },
    {
     "name": "stdout",
     "output_type": "stream",
     "text": [
      "[Train] Accuracy: 82.5%, Avg loss: 0.420192 \n",
      "\n",
      "[Test] Accuracy: 81.0%, Avg loss: 0.490043 \n",
      "\n",
      "Epoch 464\n"
     ]
    },
    {
     "data": {
      "application/vnd.jupyter.widget-view+json": {
       "model_id": "2c9d195433eb48438f345a9ec8c1f235",
       "version_major": 2,
       "version_minor": 0
      },
      "text/plain": [
       "  0%|          | 0/2577 [00:00<?, ?it/s]"
      ]
     },
     "metadata": {},
     "output_type": "display_data"
    },
    {
     "name": "stdout",
     "output_type": "stream",
     "text": [
      "[Train] Accuracy: 82.4%, Avg loss: 0.420698 \n",
      "\n",
      "[Test] Accuracy: 81.4%, Avg loss: 0.464813 \n",
      "\n",
      "Epoch 465\n"
     ]
    },
    {
     "data": {
      "application/vnd.jupyter.widget-view+json": {
       "model_id": "91cc97cb842a463d80193bc87ed875bb",
       "version_major": 2,
       "version_minor": 0
      },
      "text/plain": [
       "  0%|          | 0/2577 [00:00<?, ?it/s]"
      ]
     },
     "metadata": {},
     "output_type": "display_data"
    },
    {
     "name": "stdout",
     "output_type": "stream",
     "text": [
      "[Train] Accuracy: 82.5%, Avg loss: 0.420209 \n",
      "\n",
      "[Test] Accuracy: 80.9%, Avg loss: 0.467234 \n",
      "\n",
      "Epoch 466\n"
     ]
    },
    {
     "data": {
      "application/vnd.jupyter.widget-view+json": {
       "model_id": "dc2c8f5e85724859b2fe8239e3244492",
       "version_major": 2,
       "version_minor": 0
      },
      "text/plain": [
       "  0%|          | 0/2577 [00:00<?, ?it/s]"
      ]
     },
     "metadata": {},
     "output_type": "display_data"
    },
    {
     "name": "stdout",
     "output_type": "stream",
     "text": [
      "[Train] Accuracy: 82.4%, Avg loss: 0.421227 \n",
      "\n",
      "[Test] Accuracy: 81.1%, Avg loss: 0.470244 \n",
      "\n",
      "Epoch 467\n"
     ]
    },
    {
     "data": {
      "application/vnd.jupyter.widget-view+json": {
       "model_id": "daec5b27ef0a42fd83ec4d5dd5e9b215",
       "version_major": 2,
       "version_minor": 0
      },
      "text/plain": [
       "  0%|          | 0/2577 [00:00<?, ?it/s]"
      ]
     },
     "metadata": {},
     "output_type": "display_data"
    },
    {
     "name": "stdout",
     "output_type": "stream",
     "text": [
      "[Train] Accuracy: 82.5%, Avg loss: 0.419774 \n",
      "\n",
      "[Test] Accuracy: 81.6%, Avg loss: 0.466404 \n",
      "\n",
      "Epoch 468\n"
     ]
    },
    {
     "data": {
      "application/vnd.jupyter.widget-view+json": {
       "model_id": "f0f39c57ec1c45308f78a077edb56fef",
       "version_major": 2,
       "version_minor": 0
      },
      "text/plain": [
       "  0%|          | 0/2577 [00:00<?, ?it/s]"
      ]
     },
     "metadata": {},
     "output_type": "display_data"
    },
    {
     "name": "stdout",
     "output_type": "stream",
     "text": [
      "[Train] Accuracy: 82.4%, Avg loss: 0.420461 \n",
      "\n",
      "[Test] Accuracy: 81.7%, Avg loss: 0.462133 \n",
      "\n",
      "Epoch 469\n"
     ]
    },
    {
     "data": {
      "application/vnd.jupyter.widget-view+json": {
       "model_id": "19c02958a4fa416593ccf1c234305a33",
       "version_major": 2,
       "version_minor": 0
      },
      "text/plain": [
       "  0%|          | 0/2577 [00:00<?, ?it/s]"
      ]
     },
     "metadata": {},
     "output_type": "display_data"
    },
    {
     "name": "stdout",
     "output_type": "stream",
     "text": [
      "[Train] Accuracy: 82.5%, Avg loss: 0.419397 \n",
      "\n",
      "[Test] Accuracy: 81.1%, Avg loss: 0.470437 \n",
      "\n",
      "Epoch 470\n"
     ]
    },
    {
     "data": {
      "application/vnd.jupyter.widget-view+json": {
       "model_id": "0a8d3d4cc3d24b619ee90229c2a0c266",
       "version_major": 2,
       "version_minor": 0
      },
      "text/plain": [
       "  0%|          | 0/2577 [00:00<?, ?it/s]"
      ]
     },
     "metadata": {},
     "output_type": "display_data"
    },
    {
     "name": "stdout",
     "output_type": "stream",
     "text": [
      "[Train] Accuracy: 82.4%, Avg loss: 0.419532 \n",
      "\n",
      "[Test] Accuracy: 80.8%, Avg loss: 0.478831 \n",
      "\n",
      "Epoch 471\n"
     ]
    },
    {
     "data": {
      "application/vnd.jupyter.widget-view+json": {
       "model_id": "77392a0380e749129171794ce5449674",
       "version_major": 2,
       "version_minor": 0
      },
      "text/plain": [
       "  0%|          | 0/2577 [00:00<?, ?it/s]"
      ]
     },
     "metadata": {},
     "output_type": "display_data"
    },
    {
     "name": "stdout",
     "output_type": "stream",
     "text": [
      "[Train] Accuracy: 82.5%, Avg loss: 0.419823 \n",
      "\n",
      "[Test] Accuracy: 81.4%, Avg loss: 0.464545 \n",
      "\n",
      "Epoch 472\n"
     ]
    },
    {
     "data": {
      "application/vnd.jupyter.widget-view+json": {
       "model_id": "27285712bd6740d09632380381814ae0",
       "version_major": 2,
       "version_minor": 0
      },
      "text/plain": [
       "  0%|          | 0/2577 [00:00<?, ?it/s]"
      ]
     },
     "metadata": {},
     "output_type": "display_data"
    },
    {
     "name": "stdout",
     "output_type": "stream",
     "text": [
      "[Train] Accuracy: 82.5%, Avg loss: 0.418948 \n",
      "\n",
      "[Test] Accuracy: 80.5%, Avg loss: 0.465886 \n",
      "\n",
      "Epoch 473\n"
     ]
    },
    {
     "data": {
      "application/vnd.jupyter.widget-view+json": {
       "model_id": "2a6f04aa45114305b3ba5706a3b5ad71",
       "version_major": 2,
       "version_minor": 0
      },
      "text/plain": [
       "  0%|          | 0/2577 [00:00<?, ?it/s]"
      ]
     },
     "metadata": {},
     "output_type": "display_data"
    },
    {
     "name": "stdout",
     "output_type": "stream",
     "text": [
      "[Train] Accuracy: 82.4%, Avg loss: 0.420739 \n",
      "\n",
      "[Test] Accuracy: 80.2%, Avg loss: 0.482400 \n",
      "\n",
      "Epoch 474\n"
     ]
    },
    {
     "data": {
      "application/vnd.jupyter.widget-view+json": {
       "model_id": "ae3f4999c50349579f83f4191cd67530",
       "version_major": 2,
       "version_minor": 0
      },
      "text/plain": [
       "  0%|          | 0/2577 [00:00<?, ?it/s]"
      ]
     },
     "metadata": {},
     "output_type": "display_data"
    },
    {
     "name": "stdout",
     "output_type": "stream",
     "text": [
      "[Train] Accuracy: 82.4%, Avg loss: 0.420735 \n",
      "\n",
      "[Test] Accuracy: 80.8%, Avg loss: 0.466194 \n",
      "\n",
      "Epoch 475\n"
     ]
    },
    {
     "data": {
      "application/vnd.jupyter.widget-view+json": {
       "model_id": "f62575d408e14ce8970a88d07a90b0e0",
       "version_major": 2,
       "version_minor": 0
      },
      "text/plain": [
       "  0%|          | 0/2577 [00:00<?, ?it/s]"
      ]
     },
     "metadata": {},
     "output_type": "display_data"
    },
    {
     "name": "stdout",
     "output_type": "stream",
     "text": [
      "[Train] Accuracy: 82.5%, Avg loss: 0.419195 \n",
      "\n",
      "[Test] Accuracy: 81.5%, Avg loss: 0.465623 \n",
      "\n",
      "Epoch 476\n"
     ]
    },
    {
     "data": {
      "application/vnd.jupyter.widget-view+json": {
       "model_id": "052a9f4bab5c46cb877d5c62f159246f",
       "version_major": 2,
       "version_minor": 0
      },
      "text/plain": [
       "  0%|          | 0/2577 [00:00<?, ?it/s]"
      ]
     },
     "metadata": {},
     "output_type": "display_data"
    },
    {
     "name": "stdout",
     "output_type": "stream",
     "text": [
      "[Train] Accuracy: 82.5%, Avg loss: 0.419809 \n",
      "\n",
      "[Test] Accuracy: 81.7%, Avg loss: 0.460697 \n",
      "\n",
      "Epoch 477\n"
     ]
    },
    {
     "data": {
      "application/vnd.jupyter.widget-view+json": {
       "model_id": "73b42a478e8d40ca8d76b6575df1951d",
       "version_major": 2,
       "version_minor": 0
      },
      "text/plain": [
       "  0%|          | 0/2577 [00:00<?, ?it/s]"
      ]
     },
     "metadata": {},
     "output_type": "display_data"
    },
    {
     "name": "stdout",
     "output_type": "stream",
     "text": [
      "[Train] Accuracy: 82.4%, Avg loss: 0.418589 \n",
      "\n",
      "[Test] Accuracy: 81.3%, Avg loss: 0.474476 \n",
      "\n",
      "Epoch 478\n"
     ]
    },
    {
     "data": {
      "application/vnd.jupyter.widget-view+json": {
       "model_id": "94c565a57abc4a299e8d42d87ffa19bf",
       "version_major": 2,
       "version_minor": 0
      },
      "text/plain": [
       "  0%|          | 0/2577 [00:00<?, ?it/s]"
      ]
     },
     "metadata": {},
     "output_type": "display_data"
    },
    {
     "name": "stdout",
     "output_type": "stream",
     "text": [
      "[Train] Accuracy: 82.4%, Avg loss: 0.420218 \n",
      "\n",
      "[Test] Accuracy: 81.6%, Avg loss: 0.468361 \n",
      "\n",
      "Epoch 479\n"
     ]
    },
    {
     "data": {
      "application/vnd.jupyter.widget-view+json": {
       "model_id": "17832ce6cc0a46489dca1cfeca581f82",
       "version_major": 2,
       "version_minor": 0
      },
      "text/plain": [
       "  0%|          | 0/2577 [00:00<?, ?it/s]"
      ]
     },
     "metadata": {},
     "output_type": "display_data"
    },
    {
     "name": "stdout",
     "output_type": "stream",
     "text": [
      "[Train] Accuracy: 82.6%, Avg loss: 0.418306 \n",
      "\n",
      "[Test] Accuracy: 81.3%, Avg loss: 0.470470 \n",
      "\n",
      "Epoch 480\n"
     ]
    },
    {
     "data": {
      "application/vnd.jupyter.widget-view+json": {
       "model_id": "da6eda9d4e7b4e33847e3623e261d0f8",
       "version_major": 2,
       "version_minor": 0
      },
      "text/plain": [
       "  0%|          | 0/2577 [00:00<?, ?it/s]"
      ]
     },
     "metadata": {},
     "output_type": "display_data"
    },
    {
     "name": "stdout",
     "output_type": "stream",
     "text": [
      "[Train] Accuracy: 82.4%, Avg loss: 0.419758 \n",
      "\n",
      "[Test] Accuracy: 80.8%, Avg loss: 0.465195 \n",
      "\n",
      "Epoch 481\n"
     ]
    },
    {
     "data": {
      "application/vnd.jupyter.widget-view+json": {
       "model_id": "3bbdebff476946aca2f4b47b49172aff",
       "version_major": 2,
       "version_minor": 0
      },
      "text/plain": [
       "  0%|          | 0/2577 [00:00<?, ?it/s]"
      ]
     },
     "metadata": {},
     "output_type": "display_data"
    },
    {
     "name": "stdout",
     "output_type": "stream",
     "text": [
      "[Train] Accuracy: 82.5%, Avg loss: 0.419254 \n",
      "\n",
      "[Test] Accuracy: 81.5%, Avg loss: 0.468456 \n",
      "\n",
      "Epoch 482\n"
     ]
    },
    {
     "data": {
      "application/vnd.jupyter.widget-view+json": {
       "model_id": "95fecb37c3c145a69e738ef067fde8af",
       "version_major": 2,
       "version_minor": 0
      },
      "text/plain": [
       "  0%|          | 0/2577 [00:00<?, ?it/s]"
      ]
     },
     "metadata": {},
     "output_type": "display_data"
    },
    {
     "name": "stdout",
     "output_type": "stream",
     "text": [
      "[Train] Accuracy: 82.4%, Avg loss: 0.420519 \n",
      "\n",
      "[Test] Accuracy: 81.5%, Avg loss: 0.467802 \n",
      "\n",
      "Epoch 483\n"
     ]
    },
    {
     "data": {
      "application/vnd.jupyter.widget-view+json": {
       "model_id": "7e91548800c843f1a6d52b8dc4b7313d",
       "version_major": 2,
       "version_minor": 0
      },
      "text/plain": [
       "  0%|          | 0/2577 [00:00<?, ?it/s]"
      ]
     },
     "metadata": {},
     "output_type": "display_data"
    },
    {
     "name": "stdout",
     "output_type": "stream",
     "text": [
      "[Train] Accuracy: 82.5%, Avg loss: 0.418418 \n",
      "\n",
      "[Test] Accuracy: 81.1%, Avg loss: 0.476219 \n",
      "\n",
      "Epoch 484\n"
     ]
    },
    {
     "data": {
      "application/vnd.jupyter.widget-view+json": {
       "model_id": "206a9ed3b7db4d2aa2a648e14920b3b9",
       "version_major": 2,
       "version_minor": 0
      },
      "text/plain": [
       "  0%|          | 0/2577 [00:00<?, ?it/s]"
      ]
     },
     "metadata": {},
     "output_type": "display_data"
    },
    {
     "name": "stdout",
     "output_type": "stream",
     "text": [
      "[Train] Accuracy: 82.5%, Avg loss: 0.419207 \n",
      "\n",
      "[Test] Accuracy: 81.6%, Avg loss: 0.464320 \n",
      "\n",
      "Epoch 485\n"
     ]
    },
    {
     "data": {
      "application/vnd.jupyter.widget-view+json": {
       "model_id": "3591d1ccf9724f91b55d6fe97d113d53",
       "version_major": 2,
       "version_minor": 0
      },
      "text/plain": [
       "  0%|          | 0/2577 [00:00<?, ?it/s]"
      ]
     },
     "metadata": {},
     "output_type": "display_data"
    },
    {
     "name": "stdout",
     "output_type": "stream",
     "text": [
      "[Train] Accuracy: 82.5%, Avg loss: 0.419942 \n",
      "\n",
      "[Test] Accuracy: 81.5%, Avg loss: 0.462716 \n",
      "\n",
      "Epoch 486\n"
     ]
    },
    {
     "data": {
      "application/vnd.jupyter.widget-view+json": {
       "model_id": "57e5f679a8824268ad3c75296fe0bbaf",
       "version_major": 2,
       "version_minor": 0
      },
      "text/plain": [
       "  0%|          | 0/2577 [00:00<?, ?it/s]"
      ]
     },
     "metadata": {},
     "output_type": "display_data"
    },
    {
     "name": "stdout",
     "output_type": "stream",
     "text": [
      "[Train] Accuracy: 82.5%, Avg loss: 0.419218 \n",
      "\n",
      "[Test] Accuracy: 80.6%, Avg loss: 0.469768 \n",
      "\n",
      "Epoch 487\n"
     ]
    },
    {
     "data": {
      "application/vnd.jupyter.widget-view+json": {
       "model_id": "10b3dc6047fc4079b6a50a938ca841a0",
       "version_major": 2,
       "version_minor": 0
      },
      "text/plain": [
       "  0%|          | 0/2577 [00:00<?, ?it/s]"
      ]
     },
     "metadata": {},
     "output_type": "display_data"
    },
    {
     "name": "stdout",
     "output_type": "stream",
     "text": [
      "[Train] Accuracy: 82.4%, Avg loss: 0.419581 \n",
      "\n",
      "[Test] Accuracy: 81.6%, Avg loss: 0.468209 \n",
      "\n",
      "Epoch 488\n"
     ]
    },
    {
     "data": {
      "application/vnd.jupyter.widget-view+json": {
       "model_id": "ee9390a49916479e998c0363ebdf20e9",
       "version_major": 2,
       "version_minor": 0
      },
      "text/plain": [
       "  0%|          | 0/2577 [00:00<?, ?it/s]"
      ]
     },
     "metadata": {},
     "output_type": "display_data"
    },
    {
     "name": "stdout",
     "output_type": "stream",
     "text": [
      "[Train] Accuracy: 82.5%, Avg loss: 0.419064 \n",
      "\n",
      "[Test] Accuracy: 81.5%, Avg loss: 0.469354 \n",
      "\n",
      "Epoch 489\n"
     ]
    },
    {
     "data": {
      "application/vnd.jupyter.widget-view+json": {
       "model_id": "abace2d2eaf24644827c185cbc113fd9",
       "version_major": 2,
       "version_minor": 0
      },
      "text/plain": [
       "  0%|          | 0/2577 [00:00<?, ?it/s]"
      ]
     },
     "metadata": {},
     "output_type": "display_data"
    },
    {
     "name": "stdout",
     "output_type": "stream",
     "text": [
      "[Train] Accuracy: 82.5%, Avg loss: 0.418027 \n",
      "\n",
      "[Test] Accuracy: 81.4%, Avg loss: 0.473067 \n",
      "\n",
      "Epoch 490\n"
     ]
    },
    {
     "data": {
      "application/vnd.jupyter.widget-view+json": {
       "model_id": "e58a9759895c4b84a905dbf4c8fe70bf",
       "version_major": 2,
       "version_minor": 0
      },
      "text/plain": [
       "  0%|          | 0/2577 [00:00<?, ?it/s]"
      ]
     },
     "metadata": {},
     "output_type": "display_data"
    },
    {
     "name": "stdout",
     "output_type": "stream",
     "text": [
      "[Train] Accuracy: 82.6%, Avg loss: 0.417941 \n",
      "\n",
      "[Test] Accuracy: 81.5%, Avg loss: 0.479470 \n",
      "\n",
      "Epoch 491\n"
     ]
    },
    {
     "data": {
      "application/vnd.jupyter.widget-view+json": {
       "model_id": "6ef25e93dc8f41389a2122c11d1362b4",
       "version_major": 2,
       "version_minor": 0
      },
      "text/plain": [
       "  0%|          | 0/2577 [00:00<?, ?it/s]"
      ]
     },
     "metadata": {},
     "output_type": "display_data"
    },
    {
     "name": "stdout",
     "output_type": "stream",
     "text": [
      "[Train] Accuracy: 82.6%, Avg loss: 0.419120 \n",
      "\n",
      "[Test] Accuracy: 80.1%, Avg loss: 0.517716 \n",
      "\n",
      "Epoch 492\n"
     ]
    },
    {
     "data": {
      "application/vnd.jupyter.widget-view+json": {
       "model_id": "ca6513ff022f4520a89793ffbd6b9c77",
       "version_major": 2,
       "version_minor": 0
      },
      "text/plain": [
       "  0%|          | 0/2577 [00:00<?, ?it/s]"
      ]
     },
     "metadata": {},
     "output_type": "display_data"
    },
    {
     "name": "stdout",
     "output_type": "stream",
     "text": [
      "[Train] Accuracy: 82.5%, Avg loss: 0.418653 \n",
      "\n",
      "[Test] Accuracy: 81.0%, Avg loss: 0.466719 \n",
      "\n",
      "Epoch 493\n"
     ]
    },
    {
     "data": {
      "application/vnd.jupyter.widget-view+json": {
       "model_id": "53abb863d36d45ea9e3fd41ba540c79b",
       "version_major": 2,
       "version_minor": 0
      },
      "text/plain": [
       "  0%|          | 0/2577 [00:00<?, ?it/s]"
      ]
     },
     "metadata": {},
     "output_type": "display_data"
    },
    {
     "name": "stdout",
     "output_type": "stream",
     "text": [
      "[Train] Accuracy: 82.6%, Avg loss: 0.416698 \n",
      "\n",
      "[Test] Accuracy: 80.4%, Avg loss: 0.476198 \n",
      "\n",
      "Epoch 494\n"
     ]
    },
    {
     "data": {
      "application/vnd.jupyter.widget-view+json": {
       "model_id": "32bc55594d99435ab626fce2b68eaae3",
       "version_major": 2,
       "version_minor": 0
      },
      "text/plain": [
       "  0%|          | 0/2577 [00:00<?, ?it/s]"
      ]
     },
     "metadata": {},
     "output_type": "display_data"
    },
    {
     "name": "stdout",
     "output_type": "stream",
     "text": [
      "[Train] Accuracy: 82.6%, Avg loss: 0.417501 \n",
      "\n",
      "[Test] Accuracy: 81.4%, Avg loss: 0.465636 \n",
      "\n",
      "Epoch 495\n"
     ]
    },
    {
     "data": {
      "application/vnd.jupyter.widget-view+json": {
       "model_id": "7e807bef60974d7981d1cff7eff17f5b",
       "version_major": 2,
       "version_minor": 0
      },
      "text/plain": [
       "  0%|          | 0/2577 [00:00<?, ?it/s]"
      ]
     },
     "metadata": {},
     "output_type": "display_data"
    },
    {
     "name": "stdout",
     "output_type": "stream",
     "text": [
      "[Train] Accuracy: 82.6%, Avg loss: 0.417052 \n",
      "\n",
      "[Test] Accuracy: 81.4%, Avg loss: 0.463238 \n",
      "\n",
      "Epoch 496\n"
     ]
    },
    {
     "data": {
      "application/vnd.jupyter.widget-view+json": {
       "model_id": "717e6b01818d4d3c94644806d615985a",
       "version_major": 2,
       "version_minor": 0
      },
      "text/plain": [
       "  0%|          | 0/2577 [00:00<?, ?it/s]"
      ]
     },
     "metadata": {},
     "output_type": "display_data"
    },
    {
     "name": "stdout",
     "output_type": "stream",
     "text": [
      "[Train] Accuracy: 82.6%, Avg loss: 0.417717 \n",
      "\n",
      "[Test] Accuracy: 81.7%, Avg loss: 0.466827 \n",
      "\n",
      "Epoch 497\n"
     ]
    },
    {
     "data": {
      "application/vnd.jupyter.widget-view+json": {
       "model_id": "f39ac292fb4d4e3c8d971dc94076e15f",
       "version_major": 2,
       "version_minor": 0
      },
      "text/plain": [
       "  0%|          | 0/2577 [00:00<?, ?it/s]"
      ]
     },
     "metadata": {},
     "output_type": "display_data"
    },
    {
     "name": "stdout",
     "output_type": "stream",
     "text": [
      "[Train] Accuracy: 82.6%, Avg loss: 0.417399 \n",
      "\n",
      "[Test] Accuracy: 81.0%, Avg loss: 0.465348 \n",
      "\n",
      "Epoch 498\n"
     ]
    },
    {
     "data": {
      "application/vnd.jupyter.widget-view+json": {
       "model_id": "bfc851f436d04ea9908dfddc03b71366",
       "version_major": 2,
       "version_minor": 0
      },
      "text/plain": [
       "  0%|          | 0/2577 [00:00<?, ?it/s]"
      ]
     },
     "metadata": {},
     "output_type": "display_data"
    },
    {
     "name": "stdout",
     "output_type": "stream",
     "text": [
      "[Train] Accuracy: 82.6%, Avg loss: 0.417239 \n",
      "\n",
      "[Test] Accuracy: 81.6%, Avg loss: 0.469874 \n",
      "\n",
      "Epoch 499\n"
     ]
    },
    {
     "data": {
      "application/vnd.jupyter.widget-view+json": {
       "model_id": "57c975d5a2284c7da4d87080c42c9941",
       "version_major": 2,
       "version_minor": 0
      },
      "text/plain": [
       "  0%|          | 0/2577 [00:00<?, ?it/s]"
      ]
     },
     "metadata": {},
     "output_type": "display_data"
    },
    {
     "name": "stdout",
     "output_type": "stream",
     "text": [
      "[Train] Accuracy: 82.5%, Avg loss: 0.418098 \n",
      "\n",
      "[Test] Accuracy: 81.3%, Avg loss: 0.473359 \n",
      "\n",
      "Epoch 500\n"
     ]
    },
    {
     "data": {
      "application/vnd.jupyter.widget-view+json": {
       "model_id": "168189e287a348b78e6f1b527183083b",
       "version_major": 2,
       "version_minor": 0
      },
      "text/plain": [
       "  0%|          | 0/2577 [00:00<?, ?it/s]"
      ]
     },
     "metadata": {},
     "output_type": "display_data"
    },
    {
     "name": "stdout",
     "output_type": "stream",
     "text": [
      "[Train] Accuracy: 82.6%, Avg loss: 0.416846 \n",
      "\n",
      "[Test] Accuracy: 81.5%, Avg loss: 0.472051 \n",
      "\n",
      "Epoch 501\n"
     ]
    },
    {
     "data": {
      "application/vnd.jupyter.widget-view+json": {
       "model_id": "9fe8288d4002459bbac8a8b7351bbb69",
       "version_major": 2,
       "version_minor": 0
      },
      "text/plain": [
       "  0%|          | 0/2577 [00:00<?, ?it/s]"
      ]
     },
     "metadata": {},
     "output_type": "display_data"
    },
    {
     "name": "stdout",
     "output_type": "stream",
     "text": [
      "[Train] Accuracy: 82.6%, Avg loss: 0.417197 \n",
      "\n",
      "[Test] Accuracy: 81.7%, Avg loss: 0.468733 \n",
      "\n",
      "Epoch 502\n"
     ]
    },
    {
     "data": {
      "application/vnd.jupyter.widget-view+json": {
       "model_id": "41a259d423b34052a06ffd79e8bad55b",
       "version_major": 2,
       "version_minor": 0
      },
      "text/plain": [
       "  0%|          | 0/2577 [00:00<?, ?it/s]"
      ]
     },
     "metadata": {},
     "output_type": "display_data"
    },
    {
     "name": "stdout",
     "output_type": "stream",
     "text": [
      "[Train] Accuracy: 82.6%, Avg loss: 0.417897 \n",
      "\n",
      "[Test] Accuracy: 81.7%, Avg loss: 0.460954 \n",
      "\n",
      "Epoch 503\n"
     ]
    },
    {
     "data": {
      "application/vnd.jupyter.widget-view+json": {
       "model_id": "e9d930d8611b4e3da2ccae35368a96c0",
       "version_major": 2,
       "version_minor": 0
      },
      "text/plain": [
       "  0%|          | 0/2577 [00:00<?, ?it/s]"
      ]
     },
     "metadata": {},
     "output_type": "display_data"
    },
    {
     "name": "stdout",
     "output_type": "stream",
     "text": [
      "[Train] Accuracy: 82.7%, Avg loss: 0.416508 \n",
      "\n",
      "[Test] Accuracy: 81.1%, Avg loss: 0.464256 \n",
      "\n",
      "Epoch 504\n"
     ]
    },
    {
     "data": {
      "application/vnd.jupyter.widget-view+json": {
       "model_id": "73433a9c49564063a7da79c2f823fd23",
       "version_major": 2,
       "version_minor": 0
      },
      "text/plain": [
       "  0%|          | 0/2577 [00:00<?, ?it/s]"
      ]
     },
     "metadata": {},
     "output_type": "display_data"
    },
    {
     "name": "stdout",
     "output_type": "stream",
     "text": [
      "[Train] Accuracy: 82.6%, Avg loss: 0.416558 \n",
      "\n",
      "[Test] Accuracy: 81.3%, Avg loss: 0.460661 \n",
      "\n",
      "Epoch 505\n"
     ]
    },
    {
     "data": {
      "application/vnd.jupyter.widget-view+json": {
       "model_id": "f8b1e150c650452587c32f5523834763",
       "version_major": 2,
       "version_minor": 0
      },
      "text/plain": [
       "  0%|          | 0/2577 [00:00<?, ?it/s]"
      ]
     },
     "metadata": {},
     "output_type": "display_data"
    },
    {
     "name": "stdout",
     "output_type": "stream",
     "text": [
      "[Train] Accuracy: 82.7%, Avg loss: 0.416383 \n",
      "\n",
      "[Test] Accuracy: 81.5%, Avg loss: 0.463020 \n",
      "\n",
      "Epoch 506\n"
     ]
    },
    {
     "data": {
      "application/vnd.jupyter.widget-view+json": {
       "model_id": "9deabfafce9549c897558f0a2ddcdfde",
       "version_major": 2,
       "version_minor": 0
      },
      "text/plain": [
       "  0%|          | 0/2577 [00:00<?, ?it/s]"
      ]
     },
     "metadata": {},
     "output_type": "display_data"
    },
    {
     "name": "stdout",
     "output_type": "stream",
     "text": [
      "[Train] Accuracy: 82.6%, Avg loss: 0.416034 \n",
      "\n",
      "[Test] Accuracy: 81.1%, Avg loss: 0.492863 \n",
      "\n",
      "Epoch 507\n"
     ]
    },
    {
     "data": {
      "application/vnd.jupyter.widget-view+json": {
       "model_id": "e5a9f5789c91473abcaea86817e6b6e8",
       "version_major": 2,
       "version_minor": 0
      },
      "text/plain": [
       "  0%|          | 0/2577 [00:00<?, ?it/s]"
      ]
     },
     "metadata": {},
     "output_type": "display_data"
    },
    {
     "name": "stdout",
     "output_type": "stream",
     "text": [
      "[Train] Accuracy: 82.7%, Avg loss: 0.414780 \n",
      "\n",
      "[Test] Accuracy: 81.6%, Avg loss: 0.463828 \n",
      "\n",
      "Epoch 508\n"
     ]
    },
    {
     "data": {
      "application/vnd.jupyter.widget-view+json": {
       "model_id": "581e6a17fc9c49339675a3866dfa9956",
       "version_major": 2,
       "version_minor": 0
      },
      "text/plain": [
       "  0%|          | 0/2577 [00:00<?, ?it/s]"
      ]
     },
     "metadata": {},
     "output_type": "display_data"
    },
    {
     "name": "stdout",
     "output_type": "stream",
     "text": [
      "[Train] Accuracy: 82.6%, Avg loss: 0.415773 \n",
      "\n",
      "[Test] Accuracy: 81.7%, Avg loss: 0.469300 \n",
      "\n",
      "Epoch 509\n"
     ]
    },
    {
     "data": {
      "application/vnd.jupyter.widget-view+json": {
       "model_id": "be96f295dad645dbb0f576b82c244b14",
       "version_major": 2,
       "version_minor": 0
      },
      "text/plain": [
       "  0%|          | 0/2577 [00:00<?, ?it/s]"
      ]
     },
     "metadata": {},
     "output_type": "display_data"
    },
    {
     "name": "stdout",
     "output_type": "stream",
     "text": [
      "[Train] Accuracy: 82.6%, Avg loss: 0.416742 \n",
      "\n",
      "[Test] Accuracy: 81.6%, Avg loss: 0.462999 \n",
      "\n",
      "Epoch 510\n"
     ]
    },
    {
     "data": {
      "application/vnd.jupyter.widget-view+json": {
       "model_id": "558387aabca64b7a84b3ccf58379b015",
       "version_major": 2,
       "version_minor": 0
      },
      "text/plain": [
       "  0%|          | 0/2577 [00:00<?, ?it/s]"
      ]
     },
     "metadata": {},
     "output_type": "display_data"
    },
    {
     "name": "stdout",
     "output_type": "stream",
     "text": [
      "[Train] Accuracy: 82.6%, Avg loss: 0.417222 \n",
      "\n",
      "[Test] Accuracy: 81.5%, Avg loss: 0.464628 \n",
      "\n",
      "Epoch 511\n"
     ]
    },
    {
     "data": {
      "application/vnd.jupyter.widget-view+json": {
       "model_id": "31bae1e576b34006a7684e1c09e39063",
       "version_major": 2,
       "version_minor": 0
      },
      "text/plain": [
       "  0%|          | 0/2577 [00:00<?, ?it/s]"
      ]
     },
     "metadata": {},
     "output_type": "display_data"
    },
    {
     "name": "stdout",
     "output_type": "stream",
     "text": [
      "[Train] Accuracy: 82.7%, Avg loss: 0.416909 \n",
      "\n",
      "[Test] Accuracy: 81.5%, Avg loss: 0.472500 \n",
      "\n",
      "Epoch 512\n"
     ]
    },
    {
     "data": {
      "application/vnd.jupyter.widget-view+json": {
       "model_id": "5c393db11b5443d28145225f852cf2b6",
       "version_major": 2,
       "version_minor": 0
      },
      "text/plain": [
       "  0%|          | 0/2577 [00:00<?, ?it/s]"
      ]
     },
     "metadata": {},
     "output_type": "display_data"
    },
    {
     "name": "stdout",
     "output_type": "stream",
     "text": [
      "[Train] Accuracy: 82.6%, Avg loss: 0.416286 \n",
      "\n",
      "[Test] Accuracy: 80.8%, Avg loss: 0.464778 \n",
      "\n",
      "Epoch 513\n"
     ]
    },
    {
     "data": {
      "application/vnd.jupyter.widget-view+json": {
       "model_id": "be282a4ce050497485050203eefe5175",
       "version_major": 2,
       "version_minor": 0
      },
      "text/plain": [
       "  0%|          | 0/2577 [00:00<?, ?it/s]"
      ]
     },
     "metadata": {},
     "output_type": "display_data"
    },
    {
     "name": "stdout",
     "output_type": "stream",
     "text": [
      "[Train] Accuracy: 82.7%, Avg loss: 0.415688 \n",
      "\n",
      "[Test] Accuracy: 80.7%, Avg loss: 0.474827 \n",
      "\n",
      "Epoch 514\n"
     ]
    },
    {
     "data": {
      "application/vnd.jupyter.widget-view+json": {
       "model_id": "5dda62795c534acb8f263e98a2fd615d",
       "version_major": 2,
       "version_minor": 0
      },
      "text/plain": [
       "  0%|          | 0/2577 [00:00<?, ?it/s]"
      ]
     },
     "metadata": {},
     "output_type": "display_data"
    },
    {
     "name": "stdout",
     "output_type": "stream",
     "text": [
      "[Train] Accuracy: 82.6%, Avg loss: 0.415787 \n",
      "\n",
      "[Test] Accuracy: 81.6%, Avg loss: 0.485202 \n",
      "\n",
      "Epoch 515\n"
     ]
    },
    {
     "data": {
      "application/vnd.jupyter.widget-view+json": {
       "model_id": "29ba526e0dcb404385a1d811ec2f137a",
       "version_major": 2,
       "version_minor": 0
      },
      "text/plain": [
       "  0%|          | 0/2577 [00:00<?, ?it/s]"
      ]
     },
     "metadata": {},
     "output_type": "display_data"
    },
    {
     "name": "stdout",
     "output_type": "stream",
     "text": [
      "[Train] Accuracy: 82.6%, Avg loss: 0.415809 \n",
      "\n",
      "[Test] Accuracy: 81.4%, Avg loss: 0.465669 \n",
      "\n",
      "Epoch 516\n"
     ]
    },
    {
     "data": {
      "application/vnd.jupyter.widget-view+json": {
       "model_id": "3c6385c5ea4f4e11992a4852fefa7bdc",
       "version_major": 2,
       "version_minor": 0
      },
      "text/plain": [
       "  0%|          | 0/2577 [00:00<?, ?it/s]"
      ]
     },
     "metadata": {},
     "output_type": "display_data"
    },
    {
     "name": "stdout",
     "output_type": "stream",
     "text": [
      "[Train] Accuracy: 82.5%, Avg loss: 0.416458 \n",
      "\n",
      "[Test] Accuracy: 80.2%, Avg loss: 0.477313 \n",
      "\n",
      "Epoch 517\n"
     ]
    },
    {
     "data": {
      "application/vnd.jupyter.widget-view+json": {
       "model_id": "9e9e80a109c9462b9d5a38f25be55f80",
       "version_major": 2,
       "version_minor": 0
      },
      "text/plain": [
       "  0%|          | 0/2577 [00:00<?, ?it/s]"
      ]
     },
     "metadata": {},
     "output_type": "display_data"
    },
    {
     "name": "stdout",
     "output_type": "stream",
     "text": [
      "[Train] Accuracy: 82.7%, Avg loss: 0.414715 \n",
      "\n",
      "[Test] Accuracy: 81.5%, Avg loss: 0.476150 \n",
      "\n",
      "Epoch 518\n"
     ]
    },
    {
     "data": {
      "application/vnd.jupyter.widget-view+json": {
       "model_id": "ce9bdd50247c42bdab2491e5f068af26",
       "version_major": 2,
       "version_minor": 0
      },
      "text/plain": [
       "  0%|          | 0/2577 [00:00<?, ?it/s]"
      ]
     },
     "metadata": {},
     "output_type": "display_data"
    },
    {
     "name": "stdout",
     "output_type": "stream",
     "text": [
      "[Train] Accuracy: 82.6%, Avg loss: 0.415879 \n",
      "\n",
      "[Test] Accuracy: 81.3%, Avg loss: 0.467651 \n",
      "\n",
      "Epoch 519\n"
     ]
    },
    {
     "data": {
      "application/vnd.jupyter.widget-view+json": {
       "model_id": "40ae7bc8a2c646a4866ed08d5268c11c",
       "version_major": 2,
       "version_minor": 0
      },
      "text/plain": [
       "  0%|          | 0/2577 [00:00<?, ?it/s]"
      ]
     },
     "metadata": {},
     "output_type": "display_data"
    },
    {
     "name": "stdout",
     "output_type": "stream",
     "text": [
      "[Train] Accuracy: 82.5%, Avg loss: 0.417334 \n",
      "\n",
      "[Test] Accuracy: 80.5%, Avg loss: 0.476662 \n",
      "\n",
      "Epoch 520\n"
     ]
    },
    {
     "data": {
      "application/vnd.jupyter.widget-view+json": {
       "model_id": "a03e3108d0224ea69e6c675e6872ea70",
       "version_major": 2,
       "version_minor": 0
      },
      "text/plain": [
       "  0%|          | 0/2577 [00:00<?, ?it/s]"
      ]
     },
     "metadata": {},
     "output_type": "display_data"
    },
    {
     "name": "stdout",
     "output_type": "stream",
     "text": [
      "[Train] Accuracy: 82.6%, Avg loss: 0.416357 \n",
      "\n",
      "[Test] Accuracy: 80.6%, Avg loss: 0.471431 \n",
      "\n",
      "Epoch 521\n"
     ]
    },
    {
     "data": {
      "application/vnd.jupyter.widget-view+json": {
       "model_id": "90ab7db7e8ca4599b8730496ef61a8f6",
       "version_major": 2,
       "version_minor": 0
      },
      "text/plain": [
       "  0%|          | 0/2577 [00:00<?, ?it/s]"
      ]
     },
     "metadata": {},
     "output_type": "display_data"
    },
    {
     "name": "stdout",
     "output_type": "stream",
     "text": [
      "[Train] Accuracy: 82.7%, Avg loss: 0.415631 \n",
      "\n",
      "[Test] Accuracy: 81.4%, Avg loss: 0.469853 \n",
      "\n",
      "Epoch 522\n"
     ]
    },
    {
     "data": {
      "application/vnd.jupyter.widget-view+json": {
       "model_id": "d3c633cb6d904f2795dd39049cfecfe0",
       "version_major": 2,
       "version_minor": 0
      },
      "text/plain": [
       "  0%|          | 0/2577 [00:00<?, ?it/s]"
      ]
     },
     "metadata": {},
     "output_type": "display_data"
    },
    {
     "name": "stdout",
     "output_type": "stream",
     "text": [
      "[Train] Accuracy: 82.7%, Avg loss: 0.415688 \n",
      "\n",
      "[Test] Accuracy: 81.5%, Avg loss: 0.487074 \n",
      "\n",
      "Epoch 523\n"
     ]
    },
    {
     "data": {
      "application/vnd.jupyter.widget-view+json": {
       "model_id": "11407863be6d4feaa72405ebfc8fcc12",
       "version_major": 2,
       "version_minor": 0
      },
      "text/plain": [
       "  0%|          | 0/2577 [00:00<?, ?it/s]"
      ]
     },
     "metadata": {},
     "output_type": "display_data"
    },
    {
     "name": "stdout",
     "output_type": "stream",
     "text": [
      "[Train] Accuracy: 82.7%, Avg loss: 0.414739 \n",
      "\n",
      "[Test] Accuracy: 81.1%, Avg loss: 0.465735 \n",
      "\n",
      "Epoch 524\n"
     ]
    },
    {
     "data": {
      "application/vnd.jupyter.widget-view+json": {
       "model_id": "724a5bf0d9414de0a619473582ee08fc",
       "version_major": 2,
       "version_minor": 0
      },
      "text/plain": [
       "  0%|          | 0/2577 [00:00<?, ?it/s]"
      ]
     },
     "metadata": {},
     "output_type": "display_data"
    },
    {
     "name": "stdout",
     "output_type": "stream",
     "text": [
      "[Train] Accuracy: 82.7%, Avg loss: 0.414221 \n",
      "\n",
      "[Test] Accuracy: 81.7%, Avg loss: 0.477260 \n",
      "\n",
      "Epoch 525\n"
     ]
    },
    {
     "data": {
      "application/vnd.jupyter.widget-view+json": {
       "model_id": "dd27ac54c512488e86172959fbc8006f",
       "version_major": 2,
       "version_minor": 0
      },
      "text/plain": [
       "  0%|          | 0/2577 [00:00<?, ?it/s]"
      ]
     },
     "metadata": {},
     "output_type": "display_data"
    },
    {
     "name": "stdout",
     "output_type": "stream",
     "text": [
      "[Train] Accuracy: 82.7%, Avg loss: 0.413787 \n",
      "\n",
      "[Test] Accuracy: 81.7%, Avg loss: 0.479782 \n",
      "\n",
      "Epoch 526\n"
     ]
    },
    {
     "data": {
      "application/vnd.jupyter.widget-view+json": {
       "model_id": "ce396c285128492ab1b074ad816bcb92",
       "version_major": 2,
       "version_minor": 0
      },
      "text/plain": [
       "  0%|          | 0/2577 [00:00<?, ?it/s]"
      ]
     },
     "metadata": {},
     "output_type": "display_data"
    },
    {
     "name": "stdout",
     "output_type": "stream",
     "text": [
      "[Train] Accuracy: 82.7%, Avg loss: 0.415666 \n",
      "\n",
      "[Test] Accuracy: 81.5%, Avg loss: 0.467410 \n",
      "\n",
      "Epoch 527\n"
     ]
    },
    {
     "data": {
      "application/vnd.jupyter.widget-view+json": {
       "model_id": "8700bcce4ba44b7987123dbac2b87ad8",
       "version_major": 2,
       "version_minor": 0
      },
      "text/plain": [
       "  0%|          | 0/2577 [00:00<?, ?it/s]"
      ]
     },
     "metadata": {},
     "output_type": "display_data"
    },
    {
     "name": "stdout",
     "output_type": "stream",
     "text": [
      "[Train] Accuracy: 82.6%, Avg loss: 0.415215 \n",
      "\n",
      "[Test] Accuracy: 81.6%, Avg loss: 0.465425 \n",
      "\n",
      "Epoch 528\n"
     ]
    },
    {
     "data": {
      "application/vnd.jupyter.widget-view+json": {
       "model_id": "4ed91669d5a24f8f943ceeb7ffb113fd",
       "version_major": 2,
       "version_minor": 0
      },
      "text/plain": [
       "  0%|          | 0/2577 [00:00<?, ?it/s]"
      ]
     },
     "metadata": {},
     "output_type": "display_data"
    },
    {
     "name": "stdout",
     "output_type": "stream",
     "text": [
      "[Train] Accuracy: 82.6%, Avg loss: 0.415696 \n",
      "\n",
      "[Test] Accuracy: 81.5%, Avg loss: 0.467126 \n",
      "\n",
      "Epoch 529\n"
     ]
    },
    {
     "data": {
      "application/vnd.jupyter.widget-view+json": {
       "model_id": "7187f550ee1a4f6b86e979b7e8c96b20",
       "version_major": 2,
       "version_minor": 0
      },
      "text/plain": [
       "  0%|          | 0/2577 [00:00<?, ?it/s]"
      ]
     },
     "metadata": {},
     "output_type": "display_data"
    },
    {
     "name": "stdout",
     "output_type": "stream",
     "text": [
      "[Train] Accuracy: 82.7%, Avg loss: 0.414969 \n",
      "\n",
      "[Test] Accuracy: 80.5%, Avg loss: 0.473024 \n",
      "\n",
      "Epoch 530\n"
     ]
    },
    {
     "data": {
      "application/vnd.jupyter.widget-view+json": {
       "model_id": "b362a7e0cd7a4cec81211c4a245bc1e9",
       "version_major": 2,
       "version_minor": 0
      },
      "text/plain": [
       "  0%|          | 0/2577 [00:00<?, ?it/s]"
      ]
     },
     "metadata": {},
     "output_type": "display_data"
    },
    {
     "name": "stdout",
     "output_type": "stream",
     "text": [
      "[Train] Accuracy: 82.6%, Avg loss: 0.414202 \n",
      "\n",
      "[Test] Accuracy: 81.7%, Avg loss: 0.457803 \n",
      "\n",
      "Epoch 531\n"
     ]
    },
    {
     "data": {
      "application/vnd.jupyter.widget-view+json": {
       "model_id": "0cda3593a3014dd39d93acb2327d901d",
       "version_major": 2,
       "version_minor": 0
      },
      "text/plain": [
       "  0%|          | 0/2577 [00:00<?, ?it/s]"
      ]
     },
     "metadata": {},
     "output_type": "display_data"
    },
    {
     "name": "stdout",
     "output_type": "stream",
     "text": [
      "[Train] Accuracy: 82.7%, Avg loss: 0.415139 \n",
      "\n",
      "[Test] Accuracy: 81.6%, Avg loss: 0.465920 \n",
      "\n",
      "Epoch 532\n"
     ]
    },
    {
     "data": {
      "application/vnd.jupyter.widget-view+json": {
       "model_id": "c42e81c7ce2b40e5a1e576b0be3c7141",
       "version_major": 2,
       "version_minor": 0
      },
      "text/plain": [
       "  0%|          | 0/2577 [00:00<?, ?it/s]"
      ]
     },
     "metadata": {},
     "output_type": "display_data"
    },
    {
     "name": "stdout",
     "output_type": "stream",
     "text": [
      "[Train] Accuracy: 82.7%, Avg loss: 0.413813 \n",
      "\n",
      "[Test] Accuracy: 81.8%, Avg loss: 0.504341 \n",
      "\n",
      "Epoch 533\n"
     ]
    },
    {
     "data": {
      "application/vnd.jupyter.widget-view+json": {
       "model_id": "81182f752d8046dca35482d037a109e2",
       "version_major": 2,
       "version_minor": 0
      },
      "text/plain": [
       "  0%|          | 0/2577 [00:00<?, ?it/s]"
      ]
     },
     "metadata": {},
     "output_type": "display_data"
    },
    {
     "name": "stdout",
     "output_type": "stream",
     "text": [
      "[Train] Accuracy: 82.6%, Avg loss: 0.414198 \n",
      "\n",
      "[Test] Accuracy: 81.5%, Avg loss: 0.468555 \n",
      "\n",
      "Epoch 534\n"
     ]
    },
    {
     "data": {
      "application/vnd.jupyter.widget-view+json": {
       "model_id": "5bdea616b50943e58c82b31f3d813c72",
       "version_major": 2,
       "version_minor": 0
      },
      "text/plain": [
       "  0%|          | 0/2577 [00:00<?, ?it/s]"
      ]
     },
     "metadata": {},
     "output_type": "display_data"
    },
    {
     "name": "stdout",
     "output_type": "stream",
     "text": [
      "[Train] Accuracy: 82.7%, Avg loss: 0.415069 \n",
      "\n",
      "[Test] Accuracy: 81.6%, Avg loss: 0.458504 \n",
      "\n",
      "Epoch 535\n"
     ]
    },
    {
     "data": {
      "application/vnd.jupyter.widget-view+json": {
       "model_id": "2f8fc37d0e0b4a1794bea7e76f131667",
       "version_major": 2,
       "version_minor": 0
      },
      "text/plain": [
       "  0%|          | 0/2577 [00:00<?, ?it/s]"
      ]
     },
     "metadata": {},
     "output_type": "display_data"
    },
    {
     "name": "stdout",
     "output_type": "stream",
     "text": [
      "[Train] Accuracy: 82.6%, Avg loss: 0.414508 \n",
      "\n",
      "[Test] Accuracy: 80.2%, Avg loss: 0.471913 \n",
      "\n",
      "Epoch 536\n"
     ]
    },
    {
     "data": {
      "application/vnd.jupyter.widget-view+json": {
       "model_id": "c8449e464955455b8f2b2435191a34d0",
       "version_major": 2,
       "version_minor": 0
      },
      "text/plain": [
       "  0%|          | 0/2577 [00:00<?, ?it/s]"
      ]
     },
     "metadata": {},
     "output_type": "display_data"
    },
    {
     "name": "stdout",
     "output_type": "stream",
     "text": [
      "[Train] Accuracy: 82.8%, Avg loss: 0.414200 \n",
      "\n",
      "[Test] Accuracy: 80.5%, Avg loss: 0.481130 \n",
      "\n",
      "Epoch 537\n"
     ]
    },
    {
     "data": {
      "application/vnd.jupyter.widget-view+json": {
       "model_id": "a3778cfdcfde441d9092917d1e3fa6d5",
       "version_major": 2,
       "version_minor": 0
      },
      "text/plain": [
       "  0%|          | 0/2577 [00:00<?, ?it/s]"
      ]
     },
     "metadata": {},
     "output_type": "display_data"
    },
    {
     "name": "stdout",
     "output_type": "stream",
     "text": [
      "[Train] Accuracy: 82.7%, Avg loss: 0.414320 \n",
      "\n",
      "[Test] Accuracy: 81.7%, Avg loss: 0.470088 \n",
      "\n",
      "Epoch 538\n"
     ]
    },
    {
     "data": {
      "application/vnd.jupyter.widget-view+json": {
       "model_id": "bc34e12c80d04366af03b06d97e7d4e0",
       "version_major": 2,
       "version_minor": 0
      },
      "text/plain": [
       "  0%|          | 0/2577 [00:00<?, ?it/s]"
      ]
     },
     "metadata": {},
     "output_type": "display_data"
    },
    {
     "name": "stdout",
     "output_type": "stream",
     "text": [
      "[Train] Accuracy: 82.7%, Avg loss: 0.414429 \n",
      "\n",
      "[Test] Accuracy: 81.9%, Avg loss: 0.466946 \n",
      "\n",
      "Epoch 539\n"
     ]
    },
    {
     "data": {
      "application/vnd.jupyter.widget-view+json": {
       "model_id": "4b731a8736374efeb7c3f7e7ccf308ca",
       "version_major": 2,
       "version_minor": 0
      },
      "text/plain": [
       "  0%|          | 0/2577 [00:00<?, ?it/s]"
      ]
     },
     "metadata": {},
     "output_type": "display_data"
    },
    {
     "name": "stdout",
     "output_type": "stream",
     "text": [
      "[Train] Accuracy: 82.7%, Avg loss: 0.413703 \n",
      "\n",
      "[Test] Accuracy: 81.6%, Avg loss: 0.460253 \n",
      "\n",
      "Epoch 540\n"
     ]
    },
    {
     "data": {
      "application/vnd.jupyter.widget-view+json": {
       "model_id": "1c2666697d544cf7a951f7a668caafec",
       "version_major": 2,
       "version_minor": 0
      },
      "text/plain": [
       "  0%|          | 0/2577 [00:00<?, ?it/s]"
      ]
     },
     "metadata": {},
     "output_type": "display_data"
    },
    {
     "name": "stdout",
     "output_type": "stream",
     "text": [
      "[Train] Accuracy: 82.7%, Avg loss: 0.413691 \n",
      "\n",
      "[Test] Accuracy: 81.5%, Avg loss: 0.462753 \n",
      "\n",
      "Epoch 541\n"
     ]
    },
    {
     "data": {
      "application/vnd.jupyter.widget-view+json": {
       "model_id": "8e69093f1b22442f8a5a3b9f9cd060b7",
       "version_major": 2,
       "version_minor": 0
      },
      "text/plain": [
       "  0%|          | 0/2577 [00:00<?, ?it/s]"
      ]
     },
     "metadata": {},
     "output_type": "display_data"
    },
    {
     "name": "stdout",
     "output_type": "stream",
     "text": [
      "[Train] Accuracy: 82.7%, Avg loss: 0.413303 \n",
      "\n",
      "[Test] Accuracy: 81.6%, Avg loss: 0.462788 \n",
      "\n",
      "Epoch 542\n"
     ]
    },
    {
     "data": {
      "application/vnd.jupyter.widget-view+json": {
       "model_id": "89a5db4bd9944d6b999ce1c669bb5dcd",
       "version_major": 2,
       "version_minor": 0
      },
      "text/plain": [
       "  0%|          | 0/2577 [00:00<?, ?it/s]"
      ]
     },
     "metadata": {},
     "output_type": "display_data"
    },
    {
     "name": "stdout",
     "output_type": "stream",
     "text": [
      "[Train] Accuracy: 82.8%, Avg loss: 0.413397 \n",
      "\n",
      "[Test] Accuracy: 81.3%, Avg loss: 0.460213 \n",
      "\n",
      "Epoch 543\n"
     ]
    },
    {
     "data": {
      "application/vnd.jupyter.widget-view+json": {
       "model_id": "622caae6b52f4112b40fe4ebdb49f524",
       "version_major": 2,
       "version_minor": 0
      },
      "text/plain": [
       "  0%|          | 0/2577 [00:00<?, ?it/s]"
      ]
     },
     "metadata": {},
     "output_type": "display_data"
    },
    {
     "name": "stdout",
     "output_type": "stream",
     "text": [
      "[Train] Accuracy: 82.7%, Avg loss: 0.413566 \n",
      "\n",
      "[Test] Accuracy: 81.7%, Avg loss: 0.470281 \n",
      "\n",
      "Epoch 544\n"
     ]
    },
    {
     "data": {
      "application/vnd.jupyter.widget-view+json": {
       "model_id": "a77a0da51f674a8987609e571ef317f8",
       "version_major": 2,
       "version_minor": 0
      },
      "text/plain": [
       "  0%|          | 0/2577 [00:00<?, ?it/s]"
      ]
     },
     "metadata": {},
     "output_type": "display_data"
    },
    {
     "name": "stdout",
     "output_type": "stream",
     "text": [
      "[Train] Accuracy: 82.8%, Avg loss: 0.413240 \n",
      "\n",
      "[Test] Accuracy: 80.9%, Avg loss: 0.472888 \n",
      "\n",
      "Epoch 545\n"
     ]
    },
    {
     "data": {
      "application/vnd.jupyter.widget-view+json": {
       "model_id": "a9801df17edb4af7a0546d7328620ff6",
       "version_major": 2,
       "version_minor": 0
      },
      "text/plain": [
       "  0%|          | 0/2577 [00:00<?, ?it/s]"
      ]
     },
     "metadata": {},
     "output_type": "display_data"
    },
    {
     "name": "stdout",
     "output_type": "stream",
     "text": [
      "[Train] Accuracy: 82.7%, Avg loss: 0.413897 \n",
      "\n",
      "[Test] Accuracy: 80.5%, Avg loss: 0.487971 \n",
      "\n",
      "Epoch 546\n"
     ]
    },
    {
     "data": {
      "application/vnd.jupyter.widget-view+json": {
       "model_id": "e91e250fcd11441294774277c59a482f",
       "version_major": 2,
       "version_minor": 0
      },
      "text/plain": [
       "  0%|          | 0/2577 [00:00<?, ?it/s]"
      ]
     },
     "metadata": {},
     "output_type": "display_data"
    },
    {
     "name": "stdout",
     "output_type": "stream",
     "text": [
      "[Train] Accuracy: 82.7%, Avg loss: 0.413677 \n",
      "\n",
      "[Test] Accuracy: 81.1%, Avg loss: 0.484412 \n",
      "\n",
      "Epoch 547\n"
     ]
    },
    {
     "data": {
      "application/vnd.jupyter.widget-view+json": {
       "model_id": "4fdb0d3a52da426ebda58449527be0b2",
       "version_major": 2,
       "version_minor": 0
      },
      "text/plain": [
       "  0%|          | 0/2577 [00:00<?, ?it/s]"
      ]
     },
     "metadata": {},
     "output_type": "display_data"
    },
    {
     "name": "stdout",
     "output_type": "stream",
     "text": [
      "[Train] Accuracy: 82.7%, Avg loss: 0.414138 \n",
      "\n",
      "[Test] Accuracy: 81.6%, Avg loss: 0.469612 \n",
      "\n",
      "Epoch 548\n"
     ]
    },
    {
     "data": {
      "application/vnd.jupyter.widget-view+json": {
       "model_id": "0b4bb665b27d489698c71158cec9a8a8",
       "version_major": 2,
       "version_minor": 0
      },
      "text/plain": [
       "  0%|          | 0/2577 [00:00<?, ?it/s]"
      ]
     },
     "metadata": {},
     "output_type": "display_data"
    },
    {
     "name": "stdout",
     "output_type": "stream",
     "text": [
      "[Train] Accuracy: 82.8%, Avg loss: 0.413727 \n",
      "\n",
      "[Test] Accuracy: 81.4%, Avg loss: 0.467932 \n",
      "\n",
      "Epoch 549\n"
     ]
    },
    {
     "data": {
      "application/vnd.jupyter.widget-view+json": {
       "model_id": "989ba5f44be54ad398d2bcf82d3496a8",
       "version_major": 2,
       "version_minor": 0
      },
      "text/plain": [
       "  0%|          | 0/2577 [00:00<?, ?it/s]"
      ]
     },
     "metadata": {},
     "output_type": "display_data"
    },
    {
     "name": "stdout",
     "output_type": "stream",
     "text": [
      "[Train] Accuracy: 82.8%, Avg loss: 0.412799 \n",
      "\n",
      "[Test] Accuracy: 81.5%, Avg loss: 0.471448 \n",
      "\n",
      "Epoch 550\n"
     ]
    },
    {
     "data": {
      "application/vnd.jupyter.widget-view+json": {
       "model_id": "8373d8380f784c1d8401005948fffccd",
       "version_major": 2,
       "version_minor": 0
      },
      "text/plain": [
       "  0%|          | 0/2577 [00:00<?, ?it/s]"
      ]
     },
     "metadata": {},
     "output_type": "display_data"
    },
    {
     "name": "stdout",
     "output_type": "stream",
     "text": [
      "[Train] Accuracy: 82.8%, Avg loss: 0.412522 \n",
      "\n",
      "[Test] Accuracy: 80.2%, Avg loss: 0.475201 \n",
      "\n",
      "Epoch 551\n"
     ]
    },
    {
     "data": {
      "application/vnd.jupyter.widget-view+json": {
       "model_id": "cedb718b791840ee81e0efc12a99e5a6",
       "version_major": 2,
       "version_minor": 0
      },
      "text/plain": [
       "  0%|          | 0/2577 [00:00<?, ?it/s]"
      ]
     },
     "metadata": {},
     "output_type": "display_data"
    },
    {
     "name": "stdout",
     "output_type": "stream",
     "text": [
      "[Train] Accuracy: 82.9%, Avg loss: 0.412127 \n",
      "\n",
      "[Test] Accuracy: 80.9%, Avg loss: 0.463023 \n",
      "\n",
      "Epoch 552\n"
     ]
    },
    {
     "data": {
      "application/vnd.jupyter.widget-view+json": {
       "model_id": "2f6275e76f874dc59363e07a3a6ec25b",
       "version_major": 2,
       "version_minor": 0
      },
      "text/plain": [
       "  0%|          | 0/2577 [00:00<?, ?it/s]"
      ]
     },
     "metadata": {},
     "output_type": "display_data"
    },
    {
     "name": "stdout",
     "output_type": "stream",
     "text": [
      "[Train] Accuracy: 82.7%, Avg loss: 0.411280 \n",
      "\n",
      "[Test] Accuracy: 81.5%, Avg loss: 0.475517 \n",
      "\n",
      "Epoch 553\n"
     ]
    },
    {
     "data": {
      "application/vnd.jupyter.widget-view+json": {
       "model_id": "598cc86994084e9ab677f7c2613d4ea7",
       "version_major": 2,
       "version_minor": 0
      },
      "text/plain": [
       "  0%|          | 0/2577 [00:00<?, ?it/s]"
      ]
     },
     "metadata": {},
     "output_type": "display_data"
    },
    {
     "name": "stdout",
     "output_type": "stream",
     "text": [
      "[Train] Accuracy: 82.7%, Avg loss: 0.413587 \n",
      "\n",
      "[Test] Accuracy: 81.7%, Avg loss: 0.466549 \n",
      "\n",
      "Epoch 554\n"
     ]
    },
    {
     "data": {
      "application/vnd.jupyter.widget-view+json": {
       "model_id": "2998bc2448a74091a5c69e05334ae4b1",
       "version_major": 2,
       "version_minor": 0
      },
      "text/plain": [
       "  0%|          | 0/2577 [00:00<?, ?it/s]"
      ]
     },
     "metadata": {},
     "output_type": "display_data"
    },
    {
     "name": "stdout",
     "output_type": "stream",
     "text": [
      "[Train] Accuracy: 82.7%, Avg loss: 0.412497 \n",
      "\n",
      "[Test] Accuracy: 80.6%, Avg loss: 0.491537 \n",
      "\n",
      "Epoch 555\n"
     ]
    },
    {
     "data": {
      "application/vnd.jupyter.widget-view+json": {
       "model_id": "c94f1125497a4db689227751eaa1b802",
       "version_major": 2,
       "version_minor": 0
      },
      "text/plain": [
       "  0%|          | 0/2577 [00:00<?, ?it/s]"
      ]
     },
     "metadata": {},
     "output_type": "display_data"
    },
    {
     "name": "stdout",
     "output_type": "stream",
     "text": [
      "[Train] Accuracy: 82.8%, Avg loss: 0.412391 \n",
      "\n",
      "[Test] Accuracy: 81.6%, Avg loss: 0.465673 \n",
      "\n",
      "Epoch 556\n"
     ]
    },
    {
     "data": {
      "application/vnd.jupyter.widget-view+json": {
       "model_id": "acbf52e55a134335a382c1a98f00c3ce",
       "version_major": 2,
       "version_minor": 0
      },
      "text/plain": [
       "  0%|          | 0/2577 [00:00<?, ?it/s]"
      ]
     },
     "metadata": {},
     "output_type": "display_data"
    },
    {
     "name": "stdout",
     "output_type": "stream",
     "text": [
      "[Train] Accuracy: 82.8%, Avg loss: 0.411293 \n",
      "\n",
      "[Test] Accuracy: 81.4%, Avg loss: 0.481770 \n",
      "\n",
      "Epoch 557\n"
     ]
    },
    {
     "data": {
      "application/vnd.jupyter.widget-view+json": {
       "model_id": "40ce3068edab4cd58bb212cc16cae9db",
       "version_major": 2,
       "version_minor": 0
      },
      "text/plain": [
       "  0%|          | 0/2577 [00:00<?, ?it/s]"
      ]
     },
     "metadata": {},
     "output_type": "display_data"
    },
    {
     "name": "stdout",
     "output_type": "stream",
     "text": [
      "[Train] Accuracy: 82.9%, Avg loss: 0.411205 \n",
      "\n",
      "[Test] Accuracy: 80.8%, Avg loss: 0.472594 \n",
      "\n",
      "Epoch 558\n"
     ]
    },
    {
     "data": {
      "application/vnd.jupyter.widget-view+json": {
       "model_id": "4bfa051842f747c6a1f507d757237448",
       "version_major": 2,
       "version_minor": 0
      },
      "text/plain": [
       "  0%|          | 0/2577 [00:00<?, ?it/s]"
      ]
     },
     "metadata": {},
     "output_type": "display_data"
    },
    {
     "name": "stdout",
     "output_type": "stream",
     "text": [
      "[Train] Accuracy: 82.8%, Avg loss: 0.411926 \n",
      "\n",
      "[Test] Accuracy: 81.4%, Avg loss: 0.467442 \n",
      "\n",
      "Epoch 559\n"
     ]
    },
    {
     "data": {
      "application/vnd.jupyter.widget-view+json": {
       "model_id": "a66a199ef56c47019c0c6c78c37b0cd4",
       "version_major": 2,
       "version_minor": 0
      },
      "text/plain": [
       "  0%|          | 0/2577 [00:00<?, ?it/s]"
      ]
     },
     "metadata": {},
     "output_type": "display_data"
    },
    {
     "name": "stdout",
     "output_type": "stream",
     "text": [
      "[Train] Accuracy: 82.8%, Avg loss: 0.412672 \n",
      "\n",
      "[Test] Accuracy: 81.6%, Avg loss: 0.464608 \n",
      "\n",
      "Epoch 560\n"
     ]
    },
    {
     "data": {
      "application/vnd.jupyter.widget-view+json": {
       "model_id": "1c4724a3eb4e4b9ea7aa4d7193669532",
       "version_major": 2,
       "version_minor": 0
      },
      "text/plain": [
       "  0%|          | 0/2577 [00:00<?, ?it/s]"
      ]
     },
     "metadata": {},
     "output_type": "display_data"
    },
    {
     "name": "stdout",
     "output_type": "stream",
     "text": [
      "[Train] Accuracy: 82.8%, Avg loss: 0.411415 \n",
      "\n",
      "[Test] Accuracy: 80.4%, Avg loss: 0.481593 \n",
      "\n",
      "Epoch 561\n"
     ]
    },
    {
     "data": {
      "application/vnd.jupyter.widget-view+json": {
       "model_id": "2782c6b5e75b41a1bc61569dd77b2d06",
       "version_major": 2,
       "version_minor": 0
      },
      "text/plain": [
       "  0%|          | 0/2577 [00:00<?, ?it/s]"
      ]
     },
     "metadata": {},
     "output_type": "display_data"
    },
    {
     "name": "stdout",
     "output_type": "stream",
     "text": [
      "[Train] Accuracy: 82.8%, Avg loss: 0.411728 \n",
      "\n",
      "[Test] Accuracy: 81.4%, Avg loss: 0.466328 \n",
      "\n",
      "Epoch 562\n"
     ]
    },
    {
     "data": {
      "application/vnd.jupyter.widget-view+json": {
       "model_id": "65c633bd17b2464dbc52f3e9aef9c954",
       "version_major": 2,
       "version_minor": 0
      },
      "text/plain": [
       "  0%|          | 0/2577 [00:00<?, ?it/s]"
      ]
     },
     "metadata": {},
     "output_type": "display_data"
    },
    {
     "name": "stdout",
     "output_type": "stream",
     "text": [
      "[Train] Accuracy: 82.9%, Avg loss: 0.411091 \n",
      "\n",
      "[Test] Accuracy: 80.7%, Avg loss: 0.473808 \n",
      "\n",
      "Epoch 563\n"
     ]
    },
    {
     "data": {
      "application/vnd.jupyter.widget-view+json": {
       "model_id": "52ad1942a4d34ccf8d649874d059e42c",
       "version_major": 2,
       "version_minor": 0
      },
      "text/plain": [
       "  0%|          | 0/2577 [00:00<?, ?it/s]"
      ]
     },
     "metadata": {},
     "output_type": "display_data"
    },
    {
     "name": "stdout",
     "output_type": "stream",
     "text": [
      "[Train] Accuracy: 82.7%, Avg loss: 0.411419 \n",
      "\n",
      "[Test] Accuracy: 81.7%, Avg loss: 0.469511 \n",
      "\n",
      "Epoch 564\n"
     ]
    },
    {
     "data": {
      "application/vnd.jupyter.widget-view+json": {
       "model_id": "b7c10fd9ab0b4e7d812d9cd2b34a1671",
       "version_major": 2,
       "version_minor": 0
      },
      "text/plain": [
       "  0%|          | 0/2577 [00:00<?, ?it/s]"
      ]
     },
     "metadata": {},
     "output_type": "display_data"
    },
    {
     "name": "stdout",
     "output_type": "stream",
     "text": [
      "[Train] Accuracy: 82.8%, Avg loss: 0.410323 \n",
      "\n",
      "[Test] Accuracy: 81.6%, Avg loss: 0.466369 \n",
      "\n",
      "Epoch 565\n"
     ]
    },
    {
     "data": {
      "application/vnd.jupyter.widget-view+json": {
       "model_id": "e829cb80d56b4e5eb31a965b1068edc9",
       "version_major": 2,
       "version_minor": 0
      },
      "text/plain": [
       "  0%|          | 0/2577 [00:00<?, ?it/s]"
      ]
     },
     "metadata": {},
     "output_type": "display_data"
    },
    {
     "name": "stdout",
     "output_type": "stream",
     "text": [
      "[Train] Accuracy: 82.8%, Avg loss: 0.411035 \n",
      "\n",
      "[Test] Accuracy: 81.7%, Avg loss: 0.458728 \n",
      "\n",
      "Epoch 566\n"
     ]
    },
    {
     "data": {
      "application/vnd.jupyter.widget-view+json": {
       "model_id": "081ad768bdd54ad594a284a33b1ef87e",
       "version_major": 2,
       "version_minor": 0
      },
      "text/plain": [
       "  0%|          | 0/2577 [00:00<?, ?it/s]"
      ]
     },
     "metadata": {},
     "output_type": "display_data"
    },
    {
     "name": "stdout",
     "output_type": "stream",
     "text": [
      "[Train] Accuracy: 82.8%, Avg loss: 0.410475 \n",
      "\n",
      "[Test] Accuracy: 81.6%, Avg loss: 0.466259 \n",
      "\n",
      "Epoch 567\n"
     ]
    },
    {
     "data": {
      "application/vnd.jupyter.widget-view+json": {
       "model_id": "af8ff752364a4956b691173eb8805ee0",
       "version_major": 2,
       "version_minor": 0
      },
      "text/plain": [
       "  0%|          | 0/2577 [00:00<?, ?it/s]"
      ]
     },
     "metadata": {},
     "output_type": "display_data"
    },
    {
     "name": "stdout",
     "output_type": "stream",
     "text": [
      "[Train] Accuracy: 82.7%, Avg loss: 0.410917 \n",
      "\n",
      "[Test] Accuracy: 80.6%, Avg loss: 0.498369 \n",
      "\n",
      "Epoch 568\n"
     ]
    },
    {
     "data": {
      "application/vnd.jupyter.widget-view+json": {
       "model_id": "b9556d6fac634306942eecea0b03e2a2",
       "version_major": 2,
       "version_minor": 0
      },
      "text/plain": [
       "  0%|          | 0/2577 [00:00<?, ?it/s]"
      ]
     },
     "metadata": {},
     "output_type": "display_data"
    },
    {
     "name": "stdout",
     "output_type": "stream",
     "text": [
      "[Train] Accuracy: 82.8%, Avg loss: 0.410488 \n",
      "\n",
      "[Test] Accuracy: 81.5%, Avg loss: 0.477645 \n",
      "\n",
      "Epoch 569\n"
     ]
    },
    {
     "data": {
      "application/vnd.jupyter.widget-view+json": {
       "model_id": "1672314aee4e42988c053899196958e1",
       "version_major": 2,
       "version_minor": 0
      },
      "text/plain": [
       "  0%|          | 0/2577 [00:00<?, ?it/s]"
      ]
     },
     "metadata": {},
     "output_type": "display_data"
    },
    {
     "name": "stdout",
     "output_type": "stream",
     "text": [
      "[Train] Accuracy: 82.8%, Avg loss: 0.411583 \n",
      "\n",
      "[Test] Accuracy: 80.9%, Avg loss: 0.471389 \n",
      "\n",
      "Epoch 570\n"
     ]
    },
    {
     "data": {
      "application/vnd.jupyter.widget-view+json": {
       "model_id": "e192acd66b654d9996fd6fee59cc3902",
       "version_major": 2,
       "version_minor": 0
      },
      "text/plain": [
       "  0%|          | 0/2577 [00:00<?, ?it/s]"
      ]
     },
     "metadata": {},
     "output_type": "display_data"
    },
    {
     "name": "stdout",
     "output_type": "stream",
     "text": [
      "[Train] Accuracy: 82.7%, Avg loss: 0.411067 \n",
      "\n",
      "[Test] Accuracy: 80.6%, Avg loss: 0.485993 \n",
      "\n",
      "Epoch 571\n"
     ]
    },
    {
     "data": {
      "application/vnd.jupyter.widget-view+json": {
       "model_id": "6782d091cb554761b74c7ae743edf51f",
       "version_major": 2,
       "version_minor": 0
      },
      "text/plain": [
       "  0%|          | 0/2577 [00:00<?, ?it/s]"
      ]
     },
     "metadata": {},
     "output_type": "display_data"
    },
    {
     "name": "stdout",
     "output_type": "stream",
     "text": [
      "[Train] Accuracy: 82.7%, Avg loss: 0.412346 \n",
      "\n",
      "[Test] Accuracy: 81.8%, Avg loss: 0.460794 \n",
      "\n",
      "Epoch 572\n"
     ]
    },
    {
     "data": {
      "application/vnd.jupyter.widget-view+json": {
       "model_id": "bc562632aab94325997eeb9dd2fe9586",
       "version_major": 2,
       "version_minor": 0
      },
      "text/plain": [
       "  0%|          | 0/2577 [00:00<?, ?it/s]"
      ]
     },
     "metadata": {},
     "output_type": "display_data"
    },
    {
     "name": "stdout",
     "output_type": "stream",
     "text": [
      "[Train] Accuracy: 82.9%, Avg loss: 0.410911 \n",
      "\n",
      "[Test] Accuracy: 81.0%, Avg loss: 0.466799 \n",
      "\n",
      "Epoch 573\n"
     ]
    },
    {
     "data": {
      "application/vnd.jupyter.widget-view+json": {
       "model_id": "3e6603098da6495cbe0952db47bd5572",
       "version_major": 2,
       "version_minor": 0
      },
      "text/plain": [
       "  0%|          | 0/2577 [00:00<?, ?it/s]"
      ]
     },
     "metadata": {},
     "output_type": "display_data"
    },
    {
     "name": "stdout",
     "output_type": "stream",
     "text": [
      "[Train] Accuracy: 82.8%, Avg loss: 0.410882 \n",
      "\n",
      "[Test] Accuracy: 81.6%, Avg loss: 0.457855 \n",
      "\n",
      "Epoch 574\n"
     ]
    },
    {
     "data": {
      "application/vnd.jupyter.widget-view+json": {
       "model_id": "0ad2b84131524e1dadf08e84de031e53",
       "version_major": 2,
       "version_minor": 0
      },
      "text/plain": [
       "  0%|          | 0/2577 [00:00<?, ?it/s]"
      ]
     },
     "metadata": {},
     "output_type": "display_data"
    },
    {
     "name": "stdout",
     "output_type": "stream",
     "text": [
      "[Train] Accuracy: 82.8%, Avg loss: 0.410832 \n",
      "\n",
      "[Test] Accuracy: 81.6%, Avg loss: 0.466735 \n",
      "\n",
      "Epoch 575\n"
     ]
    },
    {
     "data": {
      "application/vnd.jupyter.widget-view+json": {
       "model_id": "7ebb462cfe0644b0be1c00405543c57c",
       "version_major": 2,
       "version_minor": 0
      },
      "text/plain": [
       "  0%|          | 0/2577 [00:00<?, ?it/s]"
      ]
     },
     "metadata": {},
     "output_type": "display_data"
    },
    {
     "name": "stdout",
     "output_type": "stream",
     "text": [
      "[Train] Accuracy: 82.9%, Avg loss: 0.410219 \n",
      "\n",
      "[Test] Accuracy: 81.2%, Avg loss: 0.477403 \n",
      "\n",
      "Epoch 576\n"
     ]
    },
    {
     "data": {
      "application/vnd.jupyter.widget-view+json": {
       "model_id": "fd585a0fc6b44b4892d97d3a55a77fe9",
       "version_major": 2,
       "version_minor": 0
      },
      "text/plain": [
       "  0%|          | 0/2577 [00:00<?, ?it/s]"
      ]
     },
     "metadata": {},
     "output_type": "display_data"
    },
    {
     "name": "stdout",
     "output_type": "stream",
     "text": [
      "[Train] Accuracy: 82.8%, Avg loss: 0.410777 \n",
      "\n",
      "[Test] Accuracy: 81.6%, Avg loss: 0.462795 \n",
      "\n",
      "Epoch 577\n"
     ]
    },
    {
     "data": {
      "application/vnd.jupyter.widget-view+json": {
       "model_id": "acd3756fb6d94bfc8f1961409669180a",
       "version_major": 2,
       "version_minor": 0
      },
      "text/plain": [
       "  0%|          | 0/2577 [00:00<?, ?it/s]"
      ]
     },
     "metadata": {},
     "output_type": "display_data"
    },
    {
     "name": "stdout",
     "output_type": "stream",
     "text": [
      "[Train] Accuracy: 82.8%, Avg loss: 0.411046 \n",
      "\n",
      "[Test] Accuracy: 81.2%, Avg loss: 0.504441 \n",
      "\n",
      "Epoch 578\n"
     ]
    },
    {
     "data": {
      "application/vnd.jupyter.widget-view+json": {
       "model_id": "7364dc4952434c76afb6cd7af2b15ea7",
       "version_major": 2,
       "version_minor": 0
      },
      "text/plain": [
       "  0%|          | 0/2577 [00:00<?, ?it/s]"
      ]
     },
     "metadata": {},
     "output_type": "display_data"
    },
    {
     "name": "stdout",
     "output_type": "stream",
     "text": [
      "[Train] Accuracy: 82.8%, Avg loss: 0.410208 \n",
      "\n",
      "[Test] Accuracy: 81.3%, Avg loss: 0.461828 \n",
      "\n",
      "Epoch 579\n"
     ]
    },
    {
     "data": {
      "application/vnd.jupyter.widget-view+json": {
       "model_id": "8aabfc4d185049c6913db03894c28cd9",
       "version_major": 2,
       "version_minor": 0
      },
      "text/plain": [
       "  0%|          | 0/2577 [00:00<?, ?it/s]"
      ]
     },
     "metadata": {},
     "output_type": "display_data"
    },
    {
     "name": "stdout",
     "output_type": "stream",
     "text": [
      "[Train] Accuracy: 82.8%, Avg loss: 0.411001 \n",
      "\n",
      "[Test] Accuracy: 81.1%, Avg loss: 0.470186 \n",
      "\n",
      "Epoch 580\n"
     ]
    },
    {
     "data": {
      "application/vnd.jupyter.widget-view+json": {
       "model_id": "d71cad78077546669c3f0faadd7451e8",
       "version_major": 2,
       "version_minor": 0
      },
      "text/plain": [
       "  0%|          | 0/2577 [00:00<?, ?it/s]"
      ]
     },
     "metadata": {},
     "output_type": "display_data"
    },
    {
     "name": "stdout",
     "output_type": "stream",
     "text": [
      "[Train] Accuracy: 82.9%, Avg loss: 0.409370 \n",
      "\n",
      "[Test] Accuracy: 81.8%, Avg loss: 0.470896 \n",
      "\n",
      "Epoch 581\n"
     ]
    },
    {
     "data": {
      "application/vnd.jupyter.widget-view+json": {
       "model_id": "814747db75a84b8e82222ab77bf1ff39",
       "version_major": 2,
       "version_minor": 0
      },
      "text/plain": [
       "  0%|          | 0/2577 [00:00<?, ?it/s]"
      ]
     },
     "metadata": {},
     "output_type": "display_data"
    },
    {
     "name": "stdout",
     "output_type": "stream",
     "text": [
      "[Train] Accuracy: 82.9%, Avg loss: 0.409480 \n",
      "\n",
      "[Test] Accuracy: 81.4%, Avg loss: 0.467197 \n",
      "\n",
      "Epoch 582\n"
     ]
    },
    {
     "data": {
      "application/vnd.jupyter.widget-view+json": {
       "model_id": "aba2e2d8eb0545adb7e27bd1a173d80c",
       "version_major": 2,
       "version_minor": 0
      },
      "text/plain": [
       "  0%|          | 0/2577 [00:00<?, ?it/s]"
      ]
     },
     "metadata": {},
     "output_type": "display_data"
    },
    {
     "name": "stdout",
     "output_type": "stream",
     "text": [
      "[Train] Accuracy: 82.8%, Avg loss: 0.410953 \n",
      "\n",
      "[Test] Accuracy: 81.0%, Avg loss: 0.465197 \n",
      "\n",
      "Epoch 583\n"
     ]
    },
    {
     "data": {
      "application/vnd.jupyter.widget-view+json": {
       "model_id": "9ab926940eb9474c8abf9e87afd83108",
       "version_major": 2,
       "version_minor": 0
      },
      "text/plain": [
       "  0%|          | 0/2577 [00:00<?, ?it/s]"
      ]
     },
     "metadata": {},
     "output_type": "display_data"
    },
    {
     "name": "stdout",
     "output_type": "stream",
     "text": [
      "[Train] Accuracy: 82.8%, Avg loss: 0.410014 \n",
      "\n",
      "[Test] Accuracy: 81.6%, Avg loss: 0.466266 \n",
      "\n",
      "Epoch 584\n"
     ]
    },
    {
     "data": {
      "application/vnd.jupyter.widget-view+json": {
       "model_id": "865e97b8845a4fab8a2ce158f8512a66",
       "version_major": 2,
       "version_minor": 0
      },
      "text/plain": [
       "  0%|          | 0/2577 [00:00<?, ?it/s]"
      ]
     },
     "metadata": {},
     "output_type": "display_data"
    },
    {
     "name": "stdout",
     "output_type": "stream",
     "text": [
      "[Train] Accuracy: 82.9%, Avg loss: 0.410255 \n",
      "\n",
      "[Test] Accuracy: 80.7%, Avg loss: 0.487491 \n",
      "\n",
      "Epoch 585\n"
     ]
    },
    {
     "data": {
      "application/vnd.jupyter.widget-view+json": {
       "model_id": "4b5a53c1fa414bb28c58d23580d7e740",
       "version_major": 2,
       "version_minor": 0
      },
      "text/plain": [
       "  0%|          | 0/2577 [00:00<?, ?it/s]"
      ]
     },
     "metadata": {},
     "output_type": "display_data"
    },
    {
     "name": "stdout",
     "output_type": "stream",
     "text": [
      "[Train] Accuracy: 82.9%, Avg loss: 0.408879 \n",
      "\n",
      "[Test] Accuracy: 81.6%, Avg loss: 0.466761 \n",
      "\n",
      "Epoch 586\n"
     ]
    },
    {
     "data": {
      "application/vnd.jupyter.widget-view+json": {
       "model_id": "e3d8beeb090e494580dc5e7fb00e9708",
       "version_major": 2,
       "version_minor": 0
      },
      "text/plain": [
       "  0%|          | 0/2577 [00:00<?, ?it/s]"
      ]
     },
     "metadata": {},
     "output_type": "display_data"
    },
    {
     "name": "stdout",
     "output_type": "stream",
     "text": [
      "[Train] Accuracy: 82.8%, Avg loss: 0.410008 \n",
      "\n",
      "[Test] Accuracy: 81.3%, Avg loss: 0.502219 \n",
      "\n",
      "Epoch 587\n"
     ]
    },
    {
     "data": {
      "application/vnd.jupyter.widget-view+json": {
       "model_id": "45c72e73a58442dc9c9641505d64cc77",
       "version_major": 2,
       "version_minor": 0
      },
      "text/plain": [
       "  0%|          | 0/2577 [00:00<?, ?it/s]"
      ]
     },
     "metadata": {},
     "output_type": "display_data"
    },
    {
     "name": "stdout",
     "output_type": "stream",
     "text": [
      "[Train] Accuracy: 82.9%, Avg loss: 0.408970 \n",
      "\n",
      "[Test] Accuracy: 81.7%, Avg loss: 0.464198 \n",
      "\n",
      "Epoch 588\n"
     ]
    },
    {
     "data": {
      "application/vnd.jupyter.widget-view+json": {
       "model_id": "ab2551299bd649c38192ced0d058dade",
       "version_major": 2,
       "version_minor": 0
      },
      "text/plain": [
       "  0%|          | 0/2577 [00:00<?, ?it/s]"
      ]
     },
     "metadata": {},
     "output_type": "display_data"
    },
    {
     "name": "stdout",
     "output_type": "stream",
     "text": [
      "[Train] Accuracy: 82.9%, Avg loss: 0.410112 \n",
      "\n",
      "[Test] Accuracy: 80.1%, Avg loss: 0.569540 \n",
      "\n",
      "Epoch 589\n"
     ]
    },
    {
     "data": {
      "application/vnd.jupyter.widget-view+json": {
       "model_id": "0f5e69114aef4d1fa31952c35c0f735c",
       "version_major": 2,
       "version_minor": 0
      },
      "text/plain": [
       "  0%|          | 0/2577 [00:00<?, ?it/s]"
      ]
     },
     "metadata": {},
     "output_type": "display_data"
    },
    {
     "name": "stdout",
     "output_type": "stream",
     "text": [
      "[Train] Accuracy: 82.8%, Avg loss: 0.410358 \n",
      "\n",
      "[Test] Accuracy: 81.5%, Avg loss: 0.497616 \n",
      "\n",
      "Epoch 590\n"
     ]
    },
    {
     "data": {
      "application/vnd.jupyter.widget-view+json": {
       "model_id": "12e8a309422142b2b0e7e866afeb1309",
       "version_major": 2,
       "version_minor": 0
      },
      "text/plain": [
       "  0%|          | 0/2577 [00:00<?, ?it/s]"
      ]
     },
     "metadata": {},
     "output_type": "display_data"
    },
    {
     "name": "stdout",
     "output_type": "stream",
     "text": [
      "[Train] Accuracy: 82.9%, Avg loss: 0.408978 \n",
      "\n",
      "[Test] Accuracy: 81.5%, Avg loss: 0.462633 \n",
      "\n",
      "Epoch 591\n"
     ]
    },
    {
     "data": {
      "application/vnd.jupyter.widget-view+json": {
       "model_id": "ccdf75e66bb7484a89e7ac0afc5c2ae2",
       "version_major": 2,
       "version_minor": 0
      },
      "text/plain": [
       "  0%|          | 0/2577 [00:00<?, ?it/s]"
      ]
     },
     "metadata": {},
     "output_type": "display_data"
    },
    {
     "name": "stdout",
     "output_type": "stream",
     "text": [
      "[Train] Accuracy: 82.9%, Avg loss: 0.409520 \n",
      "\n",
      "[Test] Accuracy: 81.5%, Avg loss: 0.470034 \n",
      "\n",
      "Epoch 592\n"
     ]
    },
    {
     "data": {
      "application/vnd.jupyter.widget-view+json": {
       "model_id": "0567e990d9674b718246a28ab33be10d",
       "version_major": 2,
       "version_minor": 0
      },
      "text/plain": [
       "  0%|          | 0/2577 [00:00<?, ?it/s]"
      ]
     },
     "metadata": {},
     "output_type": "display_data"
    },
    {
     "name": "stdout",
     "output_type": "stream",
     "text": [
      "[Train] Accuracy: 82.8%, Avg loss: 0.410161 \n",
      "\n",
      "[Test] Accuracy: 81.8%, Avg loss: 0.484160 \n",
      "\n",
      "Epoch 593\n"
     ]
    },
    {
     "data": {
      "application/vnd.jupyter.widget-view+json": {
       "model_id": "ef314b7c7be54b24ad66135212c440a5",
       "version_major": 2,
       "version_minor": 0
      },
      "text/plain": [
       "  0%|          | 0/2577 [00:00<?, ?it/s]"
      ]
     },
     "metadata": {},
     "output_type": "display_data"
    },
    {
     "name": "stdout",
     "output_type": "stream",
     "text": [
      "[Train] Accuracy: 82.8%, Avg loss: 0.409542 \n",
      "\n",
      "[Test] Accuracy: 80.9%, Avg loss: 0.468997 \n",
      "\n",
      "Epoch 594\n"
     ]
    },
    {
     "data": {
      "application/vnd.jupyter.widget-view+json": {
       "model_id": "5c43148eb4fb417baf058435b5b9de84",
       "version_major": 2,
       "version_minor": 0
      },
      "text/plain": [
       "  0%|          | 0/2577 [00:00<?, ?it/s]"
      ]
     },
     "metadata": {},
     "output_type": "display_data"
    },
    {
     "name": "stdout",
     "output_type": "stream",
     "text": [
      "[Train] Accuracy: 82.9%, Avg loss: 0.407878 \n",
      "\n",
      "[Test] Accuracy: 81.4%, Avg loss: 0.470441 \n",
      "\n",
      "Epoch 595\n"
     ]
    },
    {
     "data": {
      "application/vnd.jupyter.widget-view+json": {
       "model_id": "73bb41bae7794ce38d9bc80f0dedfbed",
       "version_major": 2,
       "version_minor": 0
      },
      "text/plain": [
       "  0%|          | 0/2577 [00:00<?, ?it/s]"
      ]
     },
     "metadata": {},
     "output_type": "display_data"
    },
    {
     "name": "stdout",
     "output_type": "stream",
     "text": [
      "[Train] Accuracy: 82.9%, Avg loss: 0.408119 \n",
      "\n",
      "[Test] Accuracy: 80.4%, Avg loss: 0.484310 \n",
      "\n",
      "Epoch 596\n"
     ]
    },
    {
     "data": {
      "application/vnd.jupyter.widget-view+json": {
       "model_id": "f8edb0a567224c1bb0235c21af02b722",
       "version_major": 2,
       "version_minor": 0
      },
      "text/plain": [
       "  0%|          | 0/2577 [00:00<?, ?it/s]"
      ]
     },
     "metadata": {},
     "output_type": "display_data"
    },
    {
     "name": "stdout",
     "output_type": "stream",
     "text": [
      "[Train] Accuracy: 82.9%, Avg loss: 0.408988 \n",
      "\n",
      "[Test] Accuracy: 80.5%, Avg loss: 0.480050 \n",
      "\n",
      "Epoch 597\n"
     ]
    },
    {
     "data": {
      "application/vnd.jupyter.widget-view+json": {
       "model_id": "9c891e14053f45738eb997f79f875aa3",
       "version_major": 2,
       "version_minor": 0
      },
      "text/plain": [
       "  0%|          | 0/2577 [00:00<?, ?it/s]"
      ]
     },
     "metadata": {},
     "output_type": "display_data"
    },
    {
     "name": "stdout",
     "output_type": "stream",
     "text": [
      "[Train] Accuracy: 82.8%, Avg loss: 0.410799 \n",
      "\n",
      "[Test] Accuracy: 80.9%, Avg loss: 0.465955 \n",
      "\n",
      "Epoch 598\n"
     ]
    },
    {
     "data": {
      "application/vnd.jupyter.widget-view+json": {
       "model_id": "72429136eecf4b00b5c7f6e2d8a4c782",
       "version_major": 2,
       "version_minor": 0
      },
      "text/plain": [
       "  0%|          | 0/2577 [00:00<?, ?it/s]"
      ]
     },
     "metadata": {},
     "output_type": "display_data"
    },
    {
     "name": "stdout",
     "output_type": "stream",
     "text": [
      "[Train] Accuracy: 82.9%, Avg loss: 0.409156 \n",
      "\n",
      "[Test] Accuracy: 81.5%, Avg loss: 0.461487 \n",
      "\n",
      "Epoch 599\n"
     ]
    },
    {
     "data": {
      "application/vnd.jupyter.widget-view+json": {
       "model_id": "b70bb2ffb2cb4e7db7c690628387e388",
       "version_major": 2,
       "version_minor": 0
      },
      "text/plain": [
       "  0%|          | 0/2577 [00:00<?, ?it/s]"
      ]
     },
     "metadata": {},
     "output_type": "display_data"
    },
    {
     "name": "stdout",
     "output_type": "stream",
     "text": [
      "[Train] Accuracy: 82.9%, Avg loss: 0.408505 \n",
      "\n",
      "[Test] Accuracy: 81.3%, Avg loss: 0.472740 \n",
      "\n",
      "Epoch 600\n"
     ]
    },
    {
     "data": {
      "application/vnd.jupyter.widget-view+json": {
       "model_id": "a97745a8ff7e4deab6e2477f0ab242ed",
       "version_major": 2,
       "version_minor": 0
      },
      "text/plain": [
       "  0%|          | 0/2577 [00:00<?, ?it/s]"
      ]
     },
     "metadata": {},
     "output_type": "display_data"
    },
    {
     "name": "stdout",
     "output_type": "stream",
     "text": [
      "[Train] Accuracy: 82.8%, Avg loss: 0.409732 \n",
      "\n",
      "[Test] Accuracy: 81.7%, Avg loss: 0.490111 \n",
      "\n",
      "Epoch 601\n"
     ]
    },
    {
     "data": {
      "application/vnd.jupyter.widget-view+json": {
       "model_id": "6779a6bfc3b6416c869c3fbb2eb83aa5",
       "version_major": 2,
       "version_minor": 0
      },
      "text/plain": [
       "  0%|          | 0/2577 [00:00<?, ?it/s]"
      ]
     },
     "metadata": {},
     "output_type": "display_data"
    },
    {
     "name": "stdout",
     "output_type": "stream",
     "text": [
      "[Train] Accuracy: 83.0%, Avg loss: 0.408374 \n",
      "\n",
      "[Test] Accuracy: 81.8%, Avg loss: 0.465991 \n",
      "\n",
      "Epoch 602\n"
     ]
    },
    {
     "data": {
      "application/vnd.jupyter.widget-view+json": {
       "model_id": "bd744d8cdf8e484c928f7d9e2feeaed6",
       "version_major": 2,
       "version_minor": 0
      },
      "text/plain": [
       "  0%|          | 0/2577 [00:00<?, ?it/s]"
      ]
     },
     "metadata": {},
     "output_type": "display_data"
    },
    {
     "name": "stdout",
     "output_type": "stream",
     "text": [
      "[Train] Accuracy: 82.9%, Avg loss: 0.408521 \n",
      "\n",
      "[Test] Accuracy: 81.2%, Avg loss: 0.471927 \n",
      "\n",
      "Epoch 603\n"
     ]
    },
    {
     "data": {
      "application/vnd.jupyter.widget-view+json": {
       "model_id": "4204361e44a84b069ab05a9b2bf77733",
       "version_major": 2,
       "version_minor": 0
      },
      "text/plain": [
       "  0%|          | 0/2577 [00:00<?, ?it/s]"
      ]
     },
     "metadata": {},
     "output_type": "display_data"
    },
    {
     "name": "stdout",
     "output_type": "stream",
     "text": [
      "[Train] Accuracy: 82.8%, Avg loss: 0.409571 \n",
      "\n",
      "[Test] Accuracy: 81.7%, Avg loss: 0.464915 \n",
      "\n",
      "Epoch 604\n"
     ]
    },
    {
     "data": {
      "application/vnd.jupyter.widget-view+json": {
       "model_id": "c0bb4832812f4175878a9f176fc277c7",
       "version_major": 2,
       "version_minor": 0
      },
      "text/plain": [
       "  0%|          | 0/2577 [00:00<?, ?it/s]"
      ]
     },
     "metadata": {},
     "output_type": "display_data"
    },
    {
     "name": "stdout",
     "output_type": "stream",
     "text": [
      "[Train] Accuracy: 83.0%, Avg loss: 0.407662 \n",
      "\n",
      "[Test] Accuracy: 80.8%, Avg loss: 0.471250 \n",
      "\n",
      "Epoch 605\n"
     ]
    },
    {
     "data": {
      "application/vnd.jupyter.widget-view+json": {
       "model_id": "b5a3fdb4b4324fe389e8d00a891107ac",
       "version_major": 2,
       "version_minor": 0
      },
      "text/plain": [
       "  0%|          | 0/2577 [00:00<?, ?it/s]"
      ]
     },
     "metadata": {},
     "output_type": "display_data"
    },
    {
     "name": "stdout",
     "output_type": "stream",
     "text": [
      "[Train] Accuracy: 83.0%, Avg loss: 0.407741 \n",
      "\n",
      "[Test] Accuracy: 81.5%, Avg loss: 0.470821 \n",
      "\n",
      "Epoch 606\n"
     ]
    },
    {
     "data": {
      "application/vnd.jupyter.widget-view+json": {
       "model_id": "65a42749660140dab62053bdfbc1c49d",
       "version_major": 2,
       "version_minor": 0
      },
      "text/plain": [
       "  0%|          | 0/2577 [00:00<?, ?it/s]"
      ]
     },
     "metadata": {},
     "output_type": "display_data"
    },
    {
     "name": "stdout",
     "output_type": "stream",
     "text": [
      "[Train] Accuracy: 82.9%, Avg loss: 0.408736 \n",
      "\n",
      "[Test] Accuracy: 81.5%, Avg loss: 0.468778 \n",
      "\n",
      "Epoch 607\n"
     ]
    },
    {
     "data": {
      "application/vnd.jupyter.widget-view+json": {
       "model_id": "83bae47b767f49acb98de6d0a68ee100",
       "version_major": 2,
       "version_minor": 0
      },
      "text/plain": [
       "  0%|          | 0/2577 [00:00<?, ?it/s]"
      ]
     },
     "metadata": {},
     "output_type": "display_data"
    },
    {
     "name": "stdout",
     "output_type": "stream",
     "text": [
      "[Train] Accuracy: 82.9%, Avg loss: 0.407661 \n",
      "\n",
      "[Test] Accuracy: 80.9%, Avg loss: 0.463508 \n",
      "\n",
      "Epoch 608\n"
     ]
    },
    {
     "data": {
      "application/vnd.jupyter.widget-view+json": {
       "model_id": "3bf3b2b16f09488094990e747fea1a9e",
       "version_major": 2,
       "version_minor": 0
      },
      "text/plain": [
       "  0%|          | 0/2577 [00:00<?, ?it/s]"
      ]
     },
     "metadata": {},
     "output_type": "display_data"
    },
    {
     "name": "stdout",
     "output_type": "stream",
     "text": [
      "[Train] Accuracy: 82.9%, Avg loss: 0.408536 \n",
      "\n",
      "[Test] Accuracy: 81.7%, Avg loss: 0.465650 \n",
      "\n",
      "Epoch 609\n"
     ]
    },
    {
     "data": {
      "application/vnd.jupyter.widget-view+json": {
       "model_id": "4dedc32d57fe47b991f14be5fe25620b",
       "version_major": 2,
       "version_minor": 0
      },
      "text/plain": [
       "  0%|          | 0/2577 [00:00<?, ?it/s]"
      ]
     },
     "metadata": {},
     "output_type": "display_data"
    },
    {
     "name": "stdout",
     "output_type": "stream",
     "text": [
      "[Train] Accuracy: 83.0%, Avg loss: 0.407739 \n",
      "\n",
      "[Test] Accuracy: 81.8%, Avg loss: 0.470341 \n",
      "\n",
      "Epoch 610\n"
     ]
    },
    {
     "data": {
      "application/vnd.jupyter.widget-view+json": {
       "model_id": "79c624551ebb4c28a917b4009464ef10",
       "version_major": 2,
       "version_minor": 0
      },
      "text/plain": [
       "  0%|          | 0/2577 [00:00<?, ?it/s]"
      ]
     },
     "metadata": {},
     "output_type": "display_data"
    },
    {
     "name": "stdout",
     "output_type": "stream",
     "text": [
      "[Train] Accuracy: 83.0%, Avg loss: 0.408810 \n",
      "\n",
      "[Test] Accuracy: 81.5%, Avg loss: 0.466928 \n",
      "\n",
      "Epoch 611\n"
     ]
    },
    {
     "data": {
      "application/vnd.jupyter.widget-view+json": {
       "model_id": "62f9fef6e38b48e982b2d5a048ad708b",
       "version_major": 2,
       "version_minor": 0
      },
      "text/plain": [
       "  0%|          | 0/2577 [00:00<?, ?it/s]"
      ]
     },
     "metadata": {},
     "output_type": "display_data"
    },
    {
     "name": "stdout",
     "output_type": "stream",
     "text": [
      "[Train] Accuracy: 82.9%, Avg loss: 0.408407 \n",
      "\n",
      "[Test] Accuracy: 81.6%, Avg loss: 0.468169 \n",
      "\n",
      "Epoch 612\n"
     ]
    },
    {
     "data": {
      "application/vnd.jupyter.widget-view+json": {
       "model_id": "4028a908ebf64895a339d58fa8978498",
       "version_major": 2,
       "version_minor": 0
      },
      "text/plain": [
       "  0%|          | 0/2577 [00:00<?, ?it/s]"
      ]
     },
     "metadata": {},
     "output_type": "display_data"
    },
    {
     "name": "stdout",
     "output_type": "stream",
     "text": [
      "[Train] Accuracy: 82.9%, Avg loss: 0.406812 \n",
      "\n",
      "[Test] Accuracy: 81.4%, Avg loss: 0.465515 \n",
      "\n",
      "Epoch 613\n"
     ]
    },
    {
     "data": {
      "application/vnd.jupyter.widget-view+json": {
       "model_id": "d2e806f4a0a9433ca78f3685c8375f56",
       "version_major": 2,
       "version_minor": 0
      },
      "text/plain": [
       "  0%|          | 0/2577 [00:00<?, ?it/s]"
      ]
     },
     "metadata": {},
     "output_type": "display_data"
    },
    {
     "name": "stdout",
     "output_type": "stream",
     "text": [
      "[Train] Accuracy: 82.9%, Avg loss: 0.408119 \n",
      "\n",
      "[Test] Accuracy: 81.4%, Avg loss: 0.468476 \n",
      "\n",
      "Epoch 614\n"
     ]
    },
    {
     "data": {
      "application/vnd.jupyter.widget-view+json": {
       "model_id": "beb6473133a1423680d3891db55771ee",
       "version_major": 2,
       "version_minor": 0
      },
      "text/plain": [
       "  0%|          | 0/2577 [00:00<?, ?it/s]"
      ]
     },
     "metadata": {},
     "output_type": "display_data"
    },
    {
     "name": "stdout",
     "output_type": "stream",
     "text": [
      "[Train] Accuracy: 83.0%, Avg loss: 0.406406 \n",
      "\n",
      "[Test] Accuracy: 81.7%, Avg loss: 0.497540 \n",
      "\n",
      "Epoch 615\n"
     ]
    },
    {
     "data": {
      "application/vnd.jupyter.widget-view+json": {
       "model_id": "150f037980ca4d5a9743c49a92e93460",
       "version_major": 2,
       "version_minor": 0
      },
      "text/plain": [
       "  0%|          | 0/2577 [00:00<?, ?it/s]"
      ]
     },
     "metadata": {},
     "output_type": "display_data"
    },
    {
     "name": "stdout",
     "output_type": "stream",
     "text": [
      "[Train] Accuracy: 82.9%, Avg loss: 0.407848 \n",
      "\n",
      "[Test] Accuracy: 81.6%, Avg loss: 0.467481 \n",
      "\n",
      "Epoch 616\n"
     ]
    },
    {
     "data": {
      "application/vnd.jupyter.widget-view+json": {
       "model_id": "490d0917177549bd9dd69821e303330c",
       "version_major": 2,
       "version_minor": 0
      },
      "text/plain": [
       "  0%|          | 0/2577 [00:00<?, ?it/s]"
      ]
     },
     "metadata": {},
     "output_type": "display_data"
    },
    {
     "name": "stdout",
     "output_type": "stream",
     "text": [
      "[Train] Accuracy: 82.9%, Avg loss: 0.407752 \n",
      "\n",
      "[Test] Accuracy: 81.6%, Avg loss: 0.481715 \n",
      "\n",
      "Epoch 617\n"
     ]
    },
    {
     "data": {
      "application/vnd.jupyter.widget-view+json": {
       "model_id": "c2cd570c12c644198905efd7337b7adf",
       "version_major": 2,
       "version_minor": 0
      },
      "text/plain": [
       "  0%|          | 0/2577 [00:00<?, ?it/s]"
      ]
     },
     "metadata": {},
     "output_type": "display_data"
    },
    {
     "name": "stdout",
     "output_type": "stream",
     "text": [
      "[Train] Accuracy: 82.9%, Avg loss: 0.406988 \n",
      "\n",
      "[Test] Accuracy: 81.6%, Avg loss: 0.465064 \n",
      "\n",
      "Epoch 618\n"
     ]
    },
    {
     "data": {
      "application/vnd.jupyter.widget-view+json": {
       "model_id": "1c35be3635f14212b3fa7f3c4df0998f",
       "version_major": 2,
       "version_minor": 0
      },
      "text/plain": [
       "  0%|          | 0/2577 [00:00<?, ?it/s]"
      ]
     },
     "metadata": {},
     "output_type": "display_data"
    },
    {
     "name": "stdout",
     "output_type": "stream",
     "text": [
      "[Train] Accuracy: 83.0%, Avg loss: 0.408008 \n",
      "\n",
      "[Test] Accuracy: 81.4%, Avg loss: 0.469649 \n",
      "\n",
      "Epoch 619\n"
     ]
    },
    {
     "data": {
      "application/vnd.jupyter.widget-view+json": {
       "model_id": "9201cc2acb674a4d870008ecc86b2370",
       "version_major": 2,
       "version_minor": 0
      },
      "text/plain": [
       "  0%|          | 0/2577 [00:00<?, ?it/s]"
      ]
     },
     "metadata": {},
     "output_type": "display_data"
    },
    {
     "name": "stdout",
     "output_type": "stream",
     "text": [
      "[Train] Accuracy: 83.0%, Avg loss: 0.407387 \n",
      "\n",
      "[Test] Accuracy: 81.7%, Avg loss: 0.470171 \n",
      "\n",
      "Epoch 620\n"
     ]
    },
    {
     "data": {
      "application/vnd.jupyter.widget-view+json": {
       "model_id": "6c54e4e03c9a4fbd9c6f45794bfd24c6",
       "version_major": 2,
       "version_minor": 0
      },
      "text/plain": [
       "  0%|          | 0/2577 [00:00<?, ?it/s]"
      ]
     },
     "metadata": {},
     "output_type": "display_data"
    },
    {
     "name": "stdout",
     "output_type": "stream",
     "text": [
      "[Train] Accuracy: 83.0%, Avg loss: 0.407405 \n",
      "\n",
      "[Test] Accuracy: 81.3%, Avg loss: 0.468792 \n",
      "\n",
      "Epoch 621\n"
     ]
    },
    {
     "data": {
      "application/vnd.jupyter.widget-view+json": {
       "model_id": "5352a36fc1404781a653255c1693065c",
       "version_major": 2,
       "version_minor": 0
      },
      "text/plain": [
       "  0%|          | 0/2577 [00:00<?, ?it/s]"
      ]
     },
     "metadata": {},
     "output_type": "display_data"
    },
    {
     "name": "stdout",
     "output_type": "stream",
     "text": [
      "[Train] Accuracy: 83.0%, Avg loss: 0.408133 \n",
      "\n",
      "[Test] Accuracy: 81.7%, Avg loss: 0.466534 \n",
      "\n",
      "Epoch 622\n"
     ]
    },
    {
     "data": {
      "application/vnd.jupyter.widget-view+json": {
       "model_id": "2d5674b7862f461282c0bcf2f037c02b",
       "version_major": 2,
       "version_minor": 0
      },
      "text/plain": [
       "  0%|          | 0/2577 [00:00<?, ?it/s]"
      ]
     },
     "metadata": {},
     "output_type": "display_data"
    },
    {
     "name": "stdout",
     "output_type": "stream",
     "text": [
      "[Train] Accuracy: 82.9%, Avg loss: 0.406994 \n",
      "\n",
      "[Test] Accuracy: 81.2%, Avg loss: 0.471134 \n",
      "\n",
      "Epoch 623\n"
     ]
    },
    {
     "data": {
      "application/vnd.jupyter.widget-view+json": {
       "model_id": "b884433c04794c42a27f920367fe4b15",
       "version_major": 2,
       "version_minor": 0
      },
      "text/plain": [
       "  0%|          | 0/2577 [00:00<?, ?it/s]"
      ]
     },
     "metadata": {},
     "output_type": "display_data"
    },
    {
     "name": "stdout",
     "output_type": "stream",
     "text": [
      "[Train] Accuracy: 82.9%, Avg loss: 0.407021 \n",
      "\n",
      "[Test] Accuracy: 81.3%, Avg loss: 0.465475 \n",
      "\n",
      "Epoch 624\n"
     ]
    },
    {
     "data": {
      "application/vnd.jupyter.widget-view+json": {
       "model_id": "66bc6424a6f14c32b125e0b0f139bce8",
       "version_major": 2,
       "version_minor": 0
      },
      "text/plain": [
       "  0%|          | 0/2577 [00:00<?, ?it/s]"
      ]
     },
     "metadata": {},
     "output_type": "display_data"
    },
    {
     "name": "stdout",
     "output_type": "stream",
     "text": [
      "[Train] Accuracy: 83.0%, Avg loss: 0.406968 \n",
      "\n",
      "[Test] Accuracy: 80.3%, Avg loss: 0.474989 \n",
      "\n",
      "Epoch 625\n"
     ]
    },
    {
     "data": {
      "application/vnd.jupyter.widget-view+json": {
       "model_id": "53fe2bcff6bd47a0becbf294e8e37890",
       "version_major": 2,
       "version_minor": 0
      },
      "text/plain": [
       "  0%|          | 0/2577 [00:00<?, ?it/s]"
      ]
     },
     "metadata": {},
     "output_type": "display_data"
    },
    {
     "name": "stdout",
     "output_type": "stream",
     "text": [
      "[Train] Accuracy: 83.0%, Avg loss: 0.407083 \n",
      "\n",
      "[Test] Accuracy: 81.5%, Avg loss: 0.460901 \n",
      "\n",
      "Epoch 626\n"
     ]
    },
    {
     "data": {
      "application/vnd.jupyter.widget-view+json": {
       "model_id": "a0a4d5b4c4964e43adc54bdb1f7fc11a",
       "version_major": 2,
       "version_minor": 0
      },
      "text/plain": [
       "  0%|          | 0/2577 [00:00<?, ?it/s]"
      ]
     },
     "metadata": {},
     "output_type": "display_data"
    },
    {
     "name": "stdout",
     "output_type": "stream",
     "text": [
      "[Train] Accuracy: 82.9%, Avg loss: 0.407070 \n",
      "\n",
      "[Test] Accuracy: 81.8%, Avg loss: 0.469944 \n",
      "\n",
      "Epoch 627\n"
     ]
    },
    {
     "data": {
      "application/vnd.jupyter.widget-view+json": {
       "model_id": "37915c2fbc3e40909731694b43abb302",
       "version_major": 2,
       "version_minor": 0
      },
      "text/plain": [
       "  0%|          | 0/2577 [00:00<?, ?it/s]"
      ]
     },
     "metadata": {},
     "output_type": "display_data"
    },
    {
     "name": "stdout",
     "output_type": "stream",
     "text": [
      "[Train] Accuracy: 83.0%, Avg loss: 0.406705 \n",
      "\n",
      "[Test] Accuracy: 81.8%, Avg loss: 0.469208 \n",
      "\n",
      "Epoch 628\n"
     ]
    },
    {
     "data": {
      "application/vnd.jupyter.widget-view+json": {
       "model_id": "ecb8502405f848418d64066caf4b5214",
       "version_major": 2,
       "version_minor": 0
      },
      "text/plain": [
       "  0%|          | 0/2577 [00:00<?, ?it/s]"
      ]
     },
     "metadata": {},
     "output_type": "display_data"
    },
    {
     "name": "stdout",
     "output_type": "stream",
     "text": [
      "[Train] Accuracy: 83.0%, Avg loss: 0.405685 \n",
      "\n",
      "[Test] Accuracy: 81.5%, Avg loss: 0.478216 \n",
      "\n",
      "Epoch 629\n"
     ]
    },
    {
     "data": {
      "application/vnd.jupyter.widget-view+json": {
       "model_id": "767557610d884d0a8730e4dd0d66279c",
       "version_major": 2,
       "version_minor": 0
      },
      "text/plain": [
       "  0%|          | 0/2577 [00:00<?, ?it/s]"
      ]
     },
     "metadata": {},
     "output_type": "display_data"
    },
    {
     "name": "stdout",
     "output_type": "stream",
     "text": [
      "[Train] Accuracy: 83.0%, Avg loss: 0.406272 \n",
      "\n",
      "[Test] Accuracy: 81.7%, Avg loss: 0.487253 \n",
      "\n",
      "Epoch 630\n"
     ]
    },
    {
     "data": {
      "application/vnd.jupyter.widget-view+json": {
       "model_id": "0b2fe1a820b44dd8bb1dd2a984da1384",
       "version_major": 2,
       "version_minor": 0
      },
      "text/plain": [
       "  0%|          | 0/2577 [00:00<?, ?it/s]"
      ]
     },
     "metadata": {},
     "output_type": "display_data"
    },
    {
     "name": "stdout",
     "output_type": "stream",
     "text": [
      "[Train] Accuracy: 83.0%, Avg loss: 0.406564 \n",
      "\n",
      "[Test] Accuracy: 81.7%, Avg loss: 0.469407 \n",
      "\n",
      "Epoch 631\n"
     ]
    },
    {
     "data": {
      "application/vnd.jupyter.widget-view+json": {
       "model_id": "1cfc43287b0842c6830b62fafa85460b",
       "version_major": 2,
       "version_minor": 0
      },
      "text/plain": [
       "  0%|          | 0/2577 [00:00<?, ?it/s]"
      ]
     },
     "metadata": {},
     "output_type": "display_data"
    },
    {
     "name": "stdout",
     "output_type": "stream",
     "text": [
      "[Train] Accuracy: 82.9%, Avg loss: 0.406705 \n",
      "\n",
      "[Test] Accuracy: 81.6%, Avg loss: 0.487855 \n",
      "\n",
      "Epoch 632\n"
     ]
    },
    {
     "data": {
      "application/vnd.jupyter.widget-view+json": {
       "model_id": "b062566b5ee74c4fae51055669a71770",
       "version_major": 2,
       "version_minor": 0
      },
      "text/plain": [
       "  0%|          | 0/2577 [00:00<?, ?it/s]"
      ]
     },
     "metadata": {},
     "output_type": "display_data"
    },
    {
     "name": "stdout",
     "output_type": "stream",
     "text": [
      "[Train] Accuracy: 83.0%, Avg loss: 0.406183 \n",
      "\n",
      "[Test] Accuracy: 80.9%, Avg loss: 0.470473 \n",
      "\n",
      "Epoch 633\n"
     ]
    },
    {
     "data": {
      "application/vnd.jupyter.widget-view+json": {
       "model_id": "fa3afe6685df4740a9e039c58de2f88f",
       "version_major": 2,
       "version_minor": 0
      },
      "text/plain": [
       "  0%|          | 0/2577 [00:00<?, ?it/s]"
      ]
     },
     "metadata": {},
     "output_type": "display_data"
    },
    {
     "name": "stdout",
     "output_type": "stream",
     "text": [
      "[Train] Accuracy: 82.9%, Avg loss: 0.406962 \n",
      "\n",
      "[Test] Accuracy: 81.8%, Avg loss: 0.466902 \n",
      "\n",
      "Epoch 634\n"
     ]
    },
    {
     "data": {
      "application/vnd.jupyter.widget-view+json": {
       "model_id": "3532c04c88404e9d82266acbbc2d212b",
       "version_major": 2,
       "version_minor": 0
      },
      "text/plain": [
       "  0%|          | 0/2577 [00:00<?, ?it/s]"
      ]
     },
     "metadata": {},
     "output_type": "display_data"
    },
    {
     "name": "stdout",
     "output_type": "stream",
     "text": [
      "[Train] Accuracy: 83.0%, Avg loss: 0.406472 \n",
      "\n",
      "[Test] Accuracy: 81.5%, Avg loss: 0.465566 \n",
      "\n",
      "Epoch 635\n"
     ]
    },
    {
     "data": {
      "application/vnd.jupyter.widget-view+json": {
       "model_id": "6e08561a5fd542618ff60cb98b030ff2",
       "version_major": 2,
       "version_minor": 0
      },
      "text/plain": [
       "  0%|          | 0/2577 [00:00<?, ?it/s]"
      ]
     },
     "metadata": {},
     "output_type": "display_data"
    },
    {
     "name": "stdout",
     "output_type": "stream",
     "text": [
      "[Train] Accuracy: 83.1%, Avg loss: 0.405574 \n",
      "\n",
      "[Test] Accuracy: 80.9%, Avg loss: 0.473726 \n",
      "\n",
      "Epoch 636\n"
     ]
    },
    {
     "data": {
      "application/vnd.jupyter.widget-view+json": {
       "model_id": "776f27b46435491c8b70571e7fdce558",
       "version_major": 2,
       "version_minor": 0
      },
      "text/plain": [
       "  0%|          | 0/2577 [00:00<?, ?it/s]"
      ]
     },
     "metadata": {},
     "output_type": "display_data"
    },
    {
     "name": "stdout",
     "output_type": "stream",
     "text": [
      "[Train] Accuracy: 83.0%, Avg loss: 0.405792 \n",
      "\n",
      "[Test] Accuracy: 81.7%, Avg loss: 0.465958 \n",
      "\n",
      "Epoch 637\n"
     ]
    },
    {
     "data": {
      "application/vnd.jupyter.widget-view+json": {
       "model_id": "0d5a0aeef9e2466c8cbab393ee6a91bc",
       "version_major": 2,
       "version_minor": 0
      },
      "text/plain": [
       "  0%|          | 0/2577 [00:00<?, ?it/s]"
      ]
     },
     "metadata": {},
     "output_type": "display_data"
    },
    {
     "name": "stdout",
     "output_type": "stream",
     "text": [
      "[Train] Accuracy: 83.0%, Avg loss: 0.405361 \n",
      "\n",
      "[Test] Accuracy: 81.6%, Avg loss: 0.466950 \n",
      "\n",
      "Epoch 638\n"
     ]
    },
    {
     "data": {
      "application/vnd.jupyter.widget-view+json": {
       "model_id": "c20b1b8825a541a5bae0efccca247eda",
       "version_major": 2,
       "version_minor": 0
      },
      "text/plain": [
       "  0%|          | 0/2577 [00:00<?, ?it/s]"
      ]
     },
     "metadata": {},
     "output_type": "display_data"
    },
    {
     "name": "stdout",
     "output_type": "stream",
     "text": [
      "[Train] Accuracy: 83.0%, Avg loss: 0.405025 \n",
      "\n",
      "[Test] Accuracy: 81.6%, Avg loss: 0.474148 \n",
      "\n",
      "Epoch 639\n"
     ]
    },
    {
     "data": {
      "application/vnd.jupyter.widget-view+json": {
       "model_id": "47e7057fa61a48159aec0ecf622a03aa",
       "version_major": 2,
       "version_minor": 0
      },
      "text/plain": [
       "  0%|          | 0/2577 [00:00<?, ?it/s]"
      ]
     },
     "metadata": {},
     "output_type": "display_data"
    },
    {
     "name": "stdout",
     "output_type": "stream",
     "text": [
      "[Train] Accuracy: 83.0%, Avg loss: 0.406006 \n",
      "\n",
      "[Test] Accuracy: 81.6%, Avg loss: 0.463961 \n",
      "\n",
      "Epoch 640\n"
     ]
    },
    {
     "data": {
      "application/vnd.jupyter.widget-view+json": {
       "model_id": "582499e74a5c46af845bc441bef81f13",
       "version_major": 2,
       "version_minor": 0
      },
      "text/plain": [
       "  0%|          | 0/2577 [00:00<?, ?it/s]"
      ]
     },
     "metadata": {},
     "output_type": "display_data"
    },
    {
     "name": "stdout",
     "output_type": "stream",
     "text": [
      "[Train] Accuracy: 83.1%, Avg loss: 0.405281 \n",
      "\n",
      "[Test] Accuracy: 81.4%, Avg loss: 0.460095 \n",
      "\n",
      "Epoch 641\n"
     ]
    },
    {
     "data": {
      "application/vnd.jupyter.widget-view+json": {
       "model_id": "ea3b8c3c6f9b49e8ac98a66295c47d14",
       "version_major": 2,
       "version_minor": 0
      },
      "text/plain": [
       "  0%|          | 0/2577 [00:00<?, ?it/s]"
      ]
     },
     "metadata": {},
     "output_type": "display_data"
    },
    {
     "name": "stdout",
     "output_type": "stream",
     "text": [
      "[Train] Accuracy: 82.9%, Avg loss: 0.405036 \n",
      "\n",
      "[Test] Accuracy: 80.9%, Avg loss: 0.473962 \n",
      "\n",
      "Epoch 642\n"
     ]
    },
    {
     "data": {
      "application/vnd.jupyter.widget-view+json": {
       "model_id": "590082b93026411398a1668e9d0b37b8",
       "version_major": 2,
       "version_minor": 0
      },
      "text/plain": [
       "  0%|          | 0/2577 [00:00<?, ?it/s]"
      ]
     },
     "metadata": {},
     "output_type": "display_data"
    },
    {
     "name": "stdout",
     "output_type": "stream",
     "text": [
      "[Train] Accuracy: 83.0%, Avg loss: 0.404561 \n",
      "\n",
      "[Test] Accuracy: 81.2%, Avg loss: 0.466621 \n",
      "\n",
      "Epoch 643\n"
     ]
    },
    {
     "data": {
      "application/vnd.jupyter.widget-view+json": {
       "model_id": "cfa8085eab504074b9479dad328e21f6",
       "version_major": 2,
       "version_minor": 0
      },
      "text/plain": [
       "  0%|          | 0/2577 [00:00<?, ?it/s]"
      ]
     },
     "metadata": {},
     "output_type": "display_data"
    },
    {
     "name": "stdout",
     "output_type": "stream",
     "text": [
      "[Train] Accuracy: 83.0%, Avg loss: 0.404347 \n",
      "\n",
      "[Test] Accuracy: 80.6%, Avg loss: 0.481761 \n",
      "\n",
      "Epoch 644\n"
     ]
    },
    {
     "data": {
      "application/vnd.jupyter.widget-view+json": {
       "model_id": "b2ec012a088244dc9fe474de0828ab07",
       "version_major": 2,
       "version_minor": 0
      },
      "text/plain": [
       "  0%|          | 0/2577 [00:00<?, ?it/s]"
      ]
     },
     "metadata": {},
     "output_type": "display_data"
    },
    {
     "name": "stdout",
     "output_type": "stream",
     "text": [
      "[Train] Accuracy: 83.0%, Avg loss: 0.405354 \n",
      "\n",
      "[Test] Accuracy: 80.8%, Avg loss: 0.465566 \n",
      "\n",
      "Epoch 645\n"
     ]
    },
    {
     "data": {
      "application/vnd.jupyter.widget-view+json": {
       "model_id": "45f7bd4c2dcf4c9e86214a225da75cf8",
       "version_major": 2,
       "version_minor": 0
      },
      "text/plain": [
       "  0%|          | 0/2577 [00:00<?, ?it/s]"
      ]
     },
     "metadata": {},
     "output_type": "display_data"
    },
    {
     "name": "stdout",
     "output_type": "stream",
     "text": [
      "[Train] Accuracy: 83.0%, Avg loss: 0.405163 \n",
      "\n",
      "[Test] Accuracy: 81.8%, Avg loss: 0.470369 \n",
      "\n",
      "Epoch 646\n"
     ]
    },
    {
     "data": {
      "application/vnd.jupyter.widget-view+json": {
       "model_id": "79cb5ab4b1214caf9718a012c3333f6b",
       "version_major": 2,
       "version_minor": 0
      },
      "text/plain": [
       "  0%|          | 0/2577 [00:00<?, ?it/s]"
      ]
     },
     "metadata": {},
     "output_type": "display_data"
    },
    {
     "name": "stdout",
     "output_type": "stream",
     "text": [
      "[Train] Accuracy: 83.0%, Avg loss: 0.404954 \n",
      "\n",
      "[Test] Accuracy: 81.7%, Avg loss: 0.471172 \n",
      "\n",
      "Epoch 647\n"
     ]
    },
    {
     "data": {
      "application/vnd.jupyter.widget-view+json": {
       "model_id": "8f6b8a80c2a84524b1030a4ef2f2423d",
       "version_major": 2,
       "version_minor": 0
      },
      "text/plain": [
       "  0%|          | 0/2577 [00:00<?, ?it/s]"
      ]
     },
     "metadata": {},
     "output_type": "display_data"
    },
    {
     "name": "stdout",
     "output_type": "stream",
     "text": [
      "[Train] Accuracy: 83.2%, Avg loss: 0.403358 \n",
      "\n",
      "[Test] Accuracy: 81.6%, Avg loss: 0.474702 \n",
      "\n",
      "Epoch 648\n"
     ]
    },
    {
     "data": {
      "application/vnd.jupyter.widget-view+json": {
       "model_id": "3c786c49b8a942d0bf54b4de32f02327",
       "version_major": 2,
       "version_minor": 0
      },
      "text/plain": [
       "  0%|          | 0/2577 [00:00<?, ?it/s]"
      ]
     },
     "metadata": {},
     "output_type": "display_data"
    },
    {
     "name": "stdout",
     "output_type": "stream",
     "text": [
      "[Train] Accuracy: 83.0%, Avg loss: 0.405168 \n",
      "\n",
      "[Test] Accuracy: 81.7%, Avg loss: 0.467030 \n",
      "\n",
      "Epoch 649\n"
     ]
    },
    {
     "data": {
      "application/vnd.jupyter.widget-view+json": {
       "model_id": "8da05728b49f4454bf51f6494f1cc96e",
       "version_major": 2,
       "version_minor": 0
      },
      "text/plain": [
       "  0%|          | 0/2577 [00:00<?, ?it/s]"
      ]
     },
     "metadata": {},
     "output_type": "display_data"
    },
    {
     "name": "stdout",
     "output_type": "stream",
     "text": [
      "[Train] Accuracy: 83.1%, Avg loss: 0.404982 \n",
      "\n",
      "[Test] Accuracy: 81.5%, Avg loss: 0.522081 \n",
      "\n",
      "Epoch 650\n"
     ]
    },
    {
     "data": {
      "application/vnd.jupyter.widget-view+json": {
       "model_id": "1f4629952bdc4ac9afa5c9e9e7f985fa",
       "version_major": 2,
       "version_minor": 0
      },
      "text/plain": [
       "  0%|          | 0/2577 [00:00<?, ?it/s]"
      ]
     },
     "metadata": {},
     "output_type": "display_data"
    },
    {
     "name": "stdout",
     "output_type": "stream",
     "text": [
      "[Train] Accuracy: 83.0%, Avg loss: 0.404990 \n",
      "\n",
      "[Test] Accuracy: 81.6%, Avg loss: 0.473605 \n",
      "\n",
      "Epoch 651\n"
     ]
    },
    {
     "data": {
      "application/vnd.jupyter.widget-view+json": {
       "model_id": "850aa82c56364f23aa09c905fdf5c8f4",
       "version_major": 2,
       "version_minor": 0
      },
      "text/plain": [
       "  0%|          | 0/2577 [00:00<?, ?it/s]"
      ]
     },
     "metadata": {},
     "output_type": "display_data"
    },
    {
     "name": "stdout",
     "output_type": "stream",
     "text": [
      "[Train] Accuracy: 83.0%, Avg loss: 0.404511 \n",
      "\n",
      "[Test] Accuracy: 80.4%, Avg loss: 0.479293 \n",
      "\n",
      "Epoch 652\n"
     ]
    },
    {
     "data": {
      "application/vnd.jupyter.widget-view+json": {
       "model_id": "8262c57418e94569968f0e978c66e5fd",
       "version_major": 2,
       "version_minor": 0
      },
      "text/plain": [
       "  0%|          | 0/2577 [00:00<?, ?it/s]"
      ]
     },
     "metadata": {},
     "output_type": "display_data"
    },
    {
     "name": "stdout",
     "output_type": "stream",
     "text": [
      "[Train] Accuracy: 82.9%, Avg loss: 0.404166 \n",
      "\n",
      "[Test] Accuracy: 81.8%, Avg loss: 0.473250 \n",
      "\n",
      "Epoch 653\n"
     ]
    },
    {
     "data": {
      "application/vnd.jupyter.widget-view+json": {
       "model_id": "5702170496984b3db7bb96a8538f0625",
       "version_major": 2,
       "version_minor": 0
      },
      "text/plain": [
       "  0%|          | 0/2577 [00:00<?, ?it/s]"
      ]
     },
     "metadata": {},
     "output_type": "display_data"
    },
    {
     "name": "stdout",
     "output_type": "stream",
     "text": [
      "[Train] Accuracy: 83.1%, Avg loss: 0.404890 \n",
      "\n",
      "[Test] Accuracy: 81.6%, Avg loss: 0.460592 \n",
      "\n",
      "Epoch 654\n"
     ]
    },
    {
     "data": {
      "application/vnd.jupyter.widget-view+json": {
       "model_id": "7a63929dfadc454cafcebdddb509aadc",
       "version_major": 2,
       "version_minor": 0
      },
      "text/plain": [
       "  0%|          | 0/2577 [00:00<?, ?it/s]"
      ]
     },
     "metadata": {},
     "output_type": "display_data"
    },
    {
     "name": "stdout",
     "output_type": "stream",
     "text": [
      "[Train] Accuracy: 83.1%, Avg loss: 0.404420 \n",
      "\n",
      "[Test] Accuracy: 81.5%, Avg loss: 0.472728 \n",
      "\n",
      "Epoch 655\n"
     ]
    },
    {
     "data": {
      "application/vnd.jupyter.widget-view+json": {
       "model_id": "8f063f61f4c349d6af7ef5ef82f48d57",
       "version_major": 2,
       "version_minor": 0
      },
      "text/plain": [
       "  0%|          | 0/2577 [00:00<?, ?it/s]"
      ]
     },
     "metadata": {},
     "output_type": "display_data"
    },
    {
     "name": "stdout",
     "output_type": "stream",
     "text": [
      "[Train] Accuracy: 83.0%, Avg loss: 0.404527 \n",
      "\n",
      "[Test] Accuracy: 81.6%, Avg loss: 0.476942 \n",
      "\n",
      "Epoch 656\n"
     ]
    },
    {
     "data": {
      "application/vnd.jupyter.widget-view+json": {
       "model_id": "d7935affb0704b8cb8b77a9b83333a94",
       "version_major": 2,
       "version_minor": 0
      },
      "text/plain": [
       "  0%|          | 0/2577 [00:00<?, ?it/s]"
      ]
     },
     "metadata": {},
     "output_type": "display_data"
    },
    {
     "name": "stdout",
     "output_type": "stream",
     "text": [
      "[Train] Accuracy: 83.0%, Avg loss: 0.404635 \n",
      "\n",
      "[Test] Accuracy: 81.3%, Avg loss: 0.462826 \n",
      "\n",
      "Epoch 657\n"
     ]
    },
    {
     "data": {
      "application/vnd.jupyter.widget-view+json": {
       "model_id": "083a7d28ae6242e8b6840be49c6f568a",
       "version_major": 2,
       "version_minor": 0
      },
      "text/plain": [
       "  0%|          | 0/2577 [00:00<?, ?it/s]"
      ]
     },
     "metadata": {},
     "output_type": "display_data"
    },
    {
     "name": "stdout",
     "output_type": "stream",
     "text": [
      "[Train] Accuracy: 83.0%, Avg loss: 0.404666 \n",
      "\n",
      "[Test] Accuracy: 81.7%, Avg loss: 0.466088 \n",
      "\n",
      "Epoch 658\n"
     ]
    },
    {
     "data": {
      "application/vnd.jupyter.widget-view+json": {
       "model_id": "79c72d79fe9847599a44542baae9faa1",
       "version_major": 2,
       "version_minor": 0
      },
      "text/plain": [
       "  0%|          | 0/2577 [00:00<?, ?it/s]"
      ]
     },
     "metadata": {},
     "output_type": "display_data"
    },
    {
     "name": "stdout",
     "output_type": "stream",
     "text": [
      "[Train] Accuracy: 83.0%, Avg loss: 0.404142 \n",
      "\n",
      "[Test] Accuracy: 81.3%, Avg loss: 0.478784 \n",
      "\n",
      "Epoch 659\n"
     ]
    },
    {
     "data": {
      "application/vnd.jupyter.widget-view+json": {
       "model_id": "d8bf040ee91447be9f5cdfb58767cd51",
       "version_major": 2,
       "version_minor": 0
      },
      "text/plain": [
       "  0%|          | 0/2577 [00:00<?, ?it/s]"
      ]
     },
     "metadata": {},
     "output_type": "display_data"
    },
    {
     "name": "stdout",
     "output_type": "stream",
     "text": [
      "[Train] Accuracy: 83.1%, Avg loss: 0.404501 \n",
      "\n",
      "[Test] Accuracy: 81.7%, Avg loss: 0.493286 \n",
      "\n",
      "Epoch 660\n"
     ]
    },
    {
     "data": {
      "application/vnd.jupyter.widget-view+json": {
       "model_id": "e4f9125ed39040a28a568d0e9ef40afe",
       "version_major": 2,
       "version_minor": 0
      },
      "text/plain": [
       "  0%|          | 0/2577 [00:00<?, ?it/s]"
      ]
     },
     "metadata": {},
     "output_type": "display_data"
    },
    {
     "name": "stdout",
     "output_type": "stream",
     "text": [
      "[Train] Accuracy: 83.2%, Avg loss: 0.404025 \n",
      "\n",
      "[Test] Accuracy: 81.7%, Avg loss: 0.478101 \n",
      "\n",
      "Epoch 661\n"
     ]
    },
    {
     "data": {
      "application/vnd.jupyter.widget-view+json": {
       "model_id": "3380436087044f2d9a0524f6d3c4d16a",
       "version_major": 2,
       "version_minor": 0
      },
      "text/plain": [
       "  0%|          | 0/2577 [00:00<?, ?it/s]"
      ]
     },
     "metadata": {},
     "output_type": "display_data"
    },
    {
     "name": "stdout",
     "output_type": "stream",
     "text": [
      "[Train] Accuracy: 83.1%, Avg loss: 0.404487 \n",
      "\n",
      "[Test] Accuracy: 81.7%, Avg loss: 0.500258 \n",
      "\n",
      "Epoch 662\n"
     ]
    },
    {
     "data": {
      "application/vnd.jupyter.widget-view+json": {
       "model_id": "429a6afac1df4a6cb40263c675e584de",
       "version_major": 2,
       "version_minor": 0
      },
      "text/plain": [
       "  0%|          | 0/2577 [00:00<?, ?it/s]"
      ]
     },
     "metadata": {},
     "output_type": "display_data"
    },
    {
     "name": "stdout",
     "output_type": "stream",
     "text": [
      "[Train] Accuracy: 83.1%, Avg loss: 0.403843 \n",
      "\n",
      "[Test] Accuracy: 80.4%, Avg loss: 0.471080 \n",
      "\n",
      "Epoch 663\n"
     ]
    },
    {
     "data": {
      "application/vnd.jupyter.widget-view+json": {
       "model_id": "0ad67d93056343ac894d706730522151",
       "version_major": 2,
       "version_minor": 0
      },
      "text/plain": [
       "  0%|          | 0/2577 [00:00<?, ?it/s]"
      ]
     },
     "metadata": {},
     "output_type": "display_data"
    },
    {
     "name": "stdout",
     "output_type": "stream",
     "text": [
      "[Train] Accuracy: 83.2%, Avg loss: 0.402553 \n",
      "\n",
      "[Test] Accuracy: 80.7%, Avg loss: 0.480985 \n",
      "\n",
      "Epoch 664\n"
     ]
    },
    {
     "data": {
      "application/vnd.jupyter.widget-view+json": {
       "model_id": "48c6d63a8cf94bd1a1a48d62f47520d4",
       "version_major": 2,
       "version_minor": 0
      },
      "text/plain": [
       "  0%|          | 0/2577 [00:00<?, ?it/s]"
      ]
     },
     "metadata": {},
     "output_type": "display_data"
    },
    {
     "name": "stdout",
     "output_type": "stream",
     "text": [
      "[Train] Accuracy: 83.1%, Avg loss: 0.403297 \n",
      "\n",
      "[Test] Accuracy: 81.6%, Avg loss: 0.468601 \n",
      "\n",
      "Epoch 665\n"
     ]
    },
    {
     "data": {
      "application/vnd.jupyter.widget-view+json": {
       "model_id": "78100d0fc8464db09d39d7739ea6d917",
       "version_major": 2,
       "version_minor": 0
      },
      "text/plain": [
       "  0%|          | 0/2577 [00:00<?, ?it/s]"
      ]
     },
     "metadata": {},
     "output_type": "display_data"
    },
    {
     "name": "stdout",
     "output_type": "stream",
     "text": [
      "[Train] Accuracy: 83.1%, Avg loss: 0.402587 \n",
      "\n",
      "[Test] Accuracy: 80.9%, Avg loss: 0.491483 \n",
      "\n",
      "Epoch 666\n"
     ]
    },
    {
     "data": {
      "application/vnd.jupyter.widget-view+json": {
       "model_id": "d9a5220d45634c2d990d5aad8a6490dd",
       "version_major": 2,
       "version_minor": 0
      },
      "text/plain": [
       "  0%|          | 0/2577 [00:00<?, ?it/s]"
      ]
     },
     "metadata": {},
     "output_type": "display_data"
    },
    {
     "name": "stdout",
     "output_type": "stream",
     "text": [
      "[Train] Accuracy: 83.0%, Avg loss: 0.403802 \n",
      "\n",
      "[Test] Accuracy: 81.4%, Avg loss: 0.478218 \n",
      "\n",
      "Epoch 667\n"
     ]
    },
    {
     "data": {
      "application/vnd.jupyter.widget-view+json": {
       "model_id": "04f0904e00804668b046a54407c2bfbe",
       "version_major": 2,
       "version_minor": 0
      },
      "text/plain": [
       "  0%|          | 0/2577 [00:00<?, ?it/s]"
      ]
     },
     "metadata": {},
     "output_type": "display_data"
    },
    {
     "name": "stdout",
     "output_type": "stream",
     "text": [
      "[Train] Accuracy: 83.1%, Avg loss: 0.403375 \n",
      "\n",
      "[Test] Accuracy: 81.7%, Avg loss: 0.462031 \n",
      "\n",
      "Epoch 668\n"
     ]
    },
    {
     "data": {
      "application/vnd.jupyter.widget-view+json": {
       "model_id": "827ed1fedf7e435ead939868c7607bb3",
       "version_major": 2,
       "version_minor": 0
      },
      "text/plain": [
       "  0%|          | 0/2577 [00:00<?, ?it/s]"
      ]
     },
     "metadata": {},
     "output_type": "display_data"
    },
    {
     "name": "stdout",
     "output_type": "stream",
     "text": [
      "[Train] Accuracy: 83.1%, Avg loss: 0.402935 \n",
      "\n",
      "[Test] Accuracy: 80.3%, Avg loss: 0.511753 \n",
      "\n",
      "Epoch 669\n"
     ]
    },
    {
     "data": {
      "application/vnd.jupyter.widget-view+json": {
       "model_id": "da66762617894244bfbe73c4ce95713f",
       "version_major": 2,
       "version_minor": 0
      },
      "text/plain": [
       "  0%|          | 0/2577 [00:00<?, ?it/s]"
      ]
     },
     "metadata": {},
     "output_type": "display_data"
    },
    {
     "name": "stdout",
     "output_type": "stream",
     "text": [
      "[Train] Accuracy: 83.1%, Avg loss: 0.403982 \n",
      "\n",
      "[Test] Accuracy: 80.8%, Avg loss: 0.500749 \n",
      "\n",
      "Epoch 670\n"
     ]
    },
    {
     "data": {
      "application/vnd.jupyter.widget-view+json": {
       "model_id": "73789960360a4c498797051b2cbda415",
       "version_major": 2,
       "version_minor": 0
      },
      "text/plain": [
       "  0%|          | 0/2577 [00:00<?, ?it/s]"
      ]
     },
     "metadata": {},
     "output_type": "display_data"
    },
    {
     "name": "stdout",
     "output_type": "stream",
     "text": [
      "[Train] Accuracy: 83.1%, Avg loss: 0.402441 \n",
      "\n",
      "[Test] Accuracy: 81.4%, Avg loss: 0.469014 \n",
      "\n",
      "Epoch 671\n"
     ]
    },
    {
     "data": {
      "application/vnd.jupyter.widget-view+json": {
       "model_id": "095ccb162624458d9edbd4b45d9ce97f",
       "version_major": 2,
       "version_minor": 0
      },
      "text/plain": [
       "  0%|          | 0/2577 [00:00<?, ?it/s]"
      ]
     },
     "metadata": {},
     "output_type": "display_data"
    },
    {
     "name": "stdout",
     "output_type": "stream",
     "text": [
      "[Train] Accuracy: 83.1%, Avg loss: 0.403216 \n",
      "\n",
      "[Test] Accuracy: 81.6%, Avg loss: 0.466981 \n",
      "\n",
      "Epoch 672\n"
     ]
    },
    {
     "data": {
      "application/vnd.jupyter.widget-view+json": {
       "model_id": "71f168820cea4acda91a4b11c54fd4f9",
       "version_major": 2,
       "version_minor": 0
      },
      "text/plain": [
       "  0%|          | 0/2577 [00:00<?, ?it/s]"
      ]
     },
     "metadata": {},
     "output_type": "display_data"
    },
    {
     "name": "stdout",
     "output_type": "stream",
     "text": [
      "[Train] Accuracy: 83.1%, Avg loss: 0.402457 \n",
      "\n",
      "[Test] Accuracy: 81.7%, Avg loss: 0.471243 \n",
      "\n",
      "Epoch 673\n"
     ]
    },
    {
     "data": {
      "application/vnd.jupyter.widget-view+json": {
       "model_id": "0865049200fe47b7b9b313c183889641",
       "version_major": 2,
       "version_minor": 0
      },
      "text/plain": [
       "  0%|          | 0/2577 [00:00<?, ?it/s]"
      ]
     },
     "metadata": {},
     "output_type": "display_data"
    },
    {
     "name": "stdout",
     "output_type": "stream",
     "text": [
      "[Train] Accuracy: 83.1%, Avg loss: 0.402353 \n",
      "\n",
      "[Test] Accuracy: 81.7%, Avg loss: 0.511645 \n",
      "\n",
      "Epoch 674\n"
     ]
    },
    {
     "data": {
      "application/vnd.jupyter.widget-view+json": {
       "model_id": "485a9e81f6e546e8ac07906fa7eef74d",
       "version_major": 2,
       "version_minor": 0
      },
      "text/plain": [
       "  0%|          | 0/2577 [00:00<?, ?it/s]"
      ]
     },
     "metadata": {},
     "output_type": "display_data"
    },
    {
     "name": "stdout",
     "output_type": "stream",
     "text": [
      "[Train] Accuracy: 83.1%, Avg loss: 0.403143 \n",
      "\n",
      "[Test] Accuracy: 81.7%, Avg loss: 0.472206 \n",
      "\n",
      "Epoch 675\n"
     ]
    },
    {
     "data": {
      "application/vnd.jupyter.widget-view+json": {
       "model_id": "341b30262627411b9ca8251ef8529436",
       "version_major": 2,
       "version_minor": 0
      },
      "text/plain": [
       "  0%|          | 0/2577 [00:00<?, ?it/s]"
      ]
     },
     "metadata": {},
     "output_type": "display_data"
    },
    {
     "name": "stdout",
     "output_type": "stream",
     "text": [
      "[Train] Accuracy: 83.0%, Avg loss: 0.403586 \n",
      "\n",
      "[Test] Accuracy: 80.2%, Avg loss: 0.477746 \n",
      "\n",
      "Epoch 676\n"
     ]
    },
    {
     "data": {
      "application/vnd.jupyter.widget-view+json": {
       "model_id": "9954fa3c612247568dd7ace6c0c1940a",
       "version_major": 2,
       "version_minor": 0
      },
      "text/plain": [
       "  0%|          | 0/2577 [00:00<?, ?it/s]"
      ]
     },
     "metadata": {},
     "output_type": "display_data"
    },
    {
     "name": "stdout",
     "output_type": "stream",
     "text": [
      "[Train] Accuracy: 83.1%, Avg loss: 0.403005 \n",
      "\n",
      "[Test] Accuracy: 81.5%, Avg loss: 0.477144 \n",
      "\n",
      "Epoch 677\n"
     ]
    },
    {
     "data": {
      "application/vnd.jupyter.widget-view+json": {
       "model_id": "f9a8b655bfd0423185ab987f8f3adbb5",
       "version_major": 2,
       "version_minor": 0
      },
      "text/plain": [
       "  0%|          | 0/2577 [00:00<?, ?it/s]"
      ]
     },
     "metadata": {},
     "output_type": "display_data"
    },
    {
     "name": "stdout",
     "output_type": "stream",
     "text": [
      "[Train] Accuracy: 83.2%, Avg loss: 0.402766 \n",
      "\n",
      "[Test] Accuracy: 80.8%, Avg loss: 0.499364 \n",
      "\n",
      "Epoch 678\n"
     ]
    },
    {
     "data": {
      "application/vnd.jupyter.widget-view+json": {
       "model_id": "759af7f5cc7c41c69a00022380f61b7e",
       "version_major": 2,
       "version_minor": 0
      },
      "text/plain": [
       "  0%|          | 0/2577 [00:00<?, ?it/s]"
      ]
     },
     "metadata": {},
     "output_type": "display_data"
    },
    {
     "name": "stdout",
     "output_type": "stream",
     "text": [
      "[Train] Accuracy: 83.2%, Avg loss: 0.401759 \n",
      "\n",
      "[Test] Accuracy: 81.4%, Avg loss: 0.498547 \n",
      "\n",
      "Epoch 679\n"
     ]
    },
    {
     "data": {
      "application/vnd.jupyter.widget-view+json": {
       "model_id": "0cf5309c51ac427391cd15687b6f9289",
       "version_major": 2,
       "version_minor": 0
      },
      "text/plain": [
       "  0%|          | 0/2577 [00:00<?, ?it/s]"
      ]
     },
     "metadata": {},
     "output_type": "display_data"
    },
    {
     "name": "stdout",
     "output_type": "stream",
     "text": [
      "[Train] Accuracy: 83.2%, Avg loss: 0.402875 \n",
      "\n",
      "[Test] Accuracy: 80.5%, Avg loss: 0.476514 \n",
      "\n",
      "Epoch 680\n"
     ]
    },
    {
     "data": {
      "application/vnd.jupyter.widget-view+json": {
       "model_id": "778958df02b6455dbb687ec00a129e17",
       "version_major": 2,
       "version_minor": 0
      },
      "text/plain": [
       "  0%|          | 0/2577 [00:00<?, ?it/s]"
      ]
     },
     "metadata": {},
     "output_type": "display_data"
    },
    {
     "name": "stdout",
     "output_type": "stream",
     "text": [
      "[Train] Accuracy: 83.2%, Avg loss: 0.402461 \n",
      "\n",
      "[Test] Accuracy: 81.6%, Avg loss: 0.477380 \n",
      "\n",
      "Epoch 681\n"
     ]
    },
    {
     "data": {
      "application/vnd.jupyter.widget-view+json": {
       "model_id": "2a27fa65794b4ab0a0558dc0fe6909e9",
       "version_major": 2,
       "version_minor": 0
      },
      "text/plain": [
       "  0%|          | 0/2577 [00:00<?, ?it/s]"
      ]
     },
     "metadata": {},
     "output_type": "display_data"
    },
    {
     "name": "stdout",
     "output_type": "stream",
     "text": [
      "[Train] Accuracy: 83.1%, Avg loss: 0.402063 \n",
      "\n",
      "[Test] Accuracy: 81.8%, Avg loss: 0.471517 \n",
      "\n",
      "Epoch 682\n"
     ]
    },
    {
     "data": {
      "application/vnd.jupyter.widget-view+json": {
       "model_id": "c99ba32515aa4fce90bd0606230a6326",
       "version_major": 2,
       "version_minor": 0
      },
      "text/plain": [
       "  0%|          | 0/2577 [00:00<?, ?it/s]"
      ]
     },
     "metadata": {},
     "output_type": "display_data"
    },
    {
     "name": "stdout",
     "output_type": "stream",
     "text": [
      "[Train] Accuracy: 83.1%, Avg loss: 0.401982 \n",
      "\n",
      "[Test] Accuracy: 81.5%, Avg loss: 0.468677 \n",
      "\n",
      "Epoch 683\n"
     ]
    },
    {
     "data": {
      "application/vnd.jupyter.widget-view+json": {
       "model_id": "3a3fa40912a84ff09d7a1ca70114a7f6",
       "version_major": 2,
       "version_minor": 0
      },
      "text/plain": [
       "  0%|          | 0/2577 [00:00<?, ?it/s]"
      ]
     },
     "metadata": {},
     "output_type": "display_data"
    },
    {
     "name": "stdout",
     "output_type": "stream",
     "text": [
      "[Train] Accuracy: 83.0%, Avg loss: 0.402618 \n",
      "\n",
      "[Test] Accuracy: 81.5%, Avg loss: 0.479048 \n",
      "\n",
      "Epoch 684\n"
     ]
    },
    {
     "data": {
      "application/vnd.jupyter.widget-view+json": {
       "model_id": "531e0e9acdc7483390779f6eb5be58f6",
       "version_major": 2,
       "version_minor": 0
      },
      "text/plain": [
       "  0%|          | 0/2577 [00:00<?, ?it/s]"
      ]
     },
     "metadata": {},
     "output_type": "display_data"
    },
    {
     "name": "stdout",
     "output_type": "stream",
     "text": [
      "[Train] Accuracy: 83.1%, Avg loss: 0.402292 \n",
      "\n",
      "[Test] Accuracy: 81.1%, Avg loss: 0.482737 \n",
      "\n",
      "Epoch 685\n"
     ]
    },
    {
     "data": {
      "application/vnd.jupyter.widget-view+json": {
       "model_id": "f7d3d4a49c9041c5a35b6e13cebac7a6",
       "version_major": 2,
       "version_minor": 0
      },
      "text/plain": [
       "  0%|          | 0/2577 [00:00<?, ?it/s]"
      ]
     },
     "metadata": {},
     "output_type": "display_data"
    },
    {
     "name": "stdout",
     "output_type": "stream",
     "text": [
      "[Train] Accuracy: 83.2%, Avg loss: 0.401984 \n",
      "\n",
      "[Test] Accuracy: 81.4%, Avg loss: 0.466057 \n",
      "\n",
      "Epoch 686\n"
     ]
    },
    {
     "data": {
      "application/vnd.jupyter.widget-view+json": {
       "model_id": "18c3f8bffc6842b5bc26c80670585182",
       "version_major": 2,
       "version_minor": 0
      },
      "text/plain": [
       "  0%|          | 0/2577 [00:00<?, ?it/s]"
      ]
     },
     "metadata": {},
     "output_type": "display_data"
    },
    {
     "name": "stdout",
     "output_type": "stream",
     "text": [
      "[Train] Accuracy: 83.3%, Avg loss: 0.400851 \n",
      "\n",
      "[Test] Accuracy: 81.6%, Avg loss: 0.469370 \n",
      "\n",
      "Epoch 687\n"
     ]
    },
    {
     "data": {
      "application/vnd.jupyter.widget-view+json": {
       "model_id": "c7cd1d9a021a4b63b73c33c941ebc965",
       "version_major": 2,
       "version_minor": 0
      },
      "text/plain": [
       "  0%|          | 0/2577 [00:00<?, ?it/s]"
      ]
     },
     "metadata": {},
     "output_type": "display_data"
    },
    {
     "name": "stdout",
     "output_type": "stream",
     "text": [
      "[Train] Accuracy: 83.2%, Avg loss: 0.400893 \n",
      "\n",
      "[Test] Accuracy: 81.5%, Avg loss: 0.479482 \n",
      "\n",
      "Epoch 688\n"
     ]
    },
    {
     "data": {
      "application/vnd.jupyter.widget-view+json": {
       "model_id": "7bdd15ab511042c8918ae8bff6f4f633",
       "version_major": 2,
       "version_minor": 0
      },
      "text/plain": [
       "  0%|          | 0/2577 [00:00<?, ?it/s]"
      ]
     },
     "metadata": {},
     "output_type": "display_data"
    },
    {
     "name": "stdout",
     "output_type": "stream",
     "text": [
      "[Train] Accuracy: 83.1%, Avg loss: 0.402455 \n",
      "\n",
      "[Test] Accuracy: 81.6%, Avg loss: 0.466524 \n",
      "\n",
      "Epoch 689\n"
     ]
    },
    {
     "data": {
      "application/vnd.jupyter.widget-view+json": {
       "model_id": "9395e11aff1f4d2694dcf97f149cf3cd",
       "version_major": 2,
       "version_minor": 0
      },
      "text/plain": [
       "  0%|          | 0/2577 [00:00<?, ?it/s]"
      ]
     },
     "metadata": {},
     "output_type": "display_data"
    },
    {
     "name": "stdout",
     "output_type": "stream",
     "text": [
      "[Train] Accuracy: 83.2%, Avg loss: 0.401107 \n",
      "\n",
      "[Test] Accuracy: 81.6%, Avg loss: 0.477807 \n",
      "\n",
      "Epoch 690\n"
     ]
    },
    {
     "data": {
      "application/vnd.jupyter.widget-view+json": {
       "model_id": "fca000c01f434d079fe36363d9fac7b6",
       "version_major": 2,
       "version_minor": 0
      },
      "text/plain": [
       "  0%|          | 0/2577 [00:00<?, ?it/s]"
      ]
     },
     "metadata": {},
     "output_type": "display_data"
    },
    {
     "name": "stdout",
     "output_type": "stream",
     "text": [
      "[Train] Accuracy: 83.1%, Avg loss: 0.401027 \n",
      "\n",
      "[Test] Accuracy: 80.3%, Avg loss: 0.484425 \n",
      "\n",
      "Epoch 691\n"
     ]
    },
    {
     "data": {
      "application/vnd.jupyter.widget-view+json": {
       "model_id": "7bce9f4c3b7f43a9ab02b210978fb102",
       "version_major": 2,
       "version_minor": 0
      },
      "text/plain": [
       "  0%|          | 0/2577 [00:00<?, ?it/s]"
      ]
     },
     "metadata": {},
     "output_type": "display_data"
    },
    {
     "name": "stdout",
     "output_type": "stream",
     "text": [
      "[Train] Accuracy: 83.2%, Avg loss: 0.400467 \n",
      "\n",
      "[Test] Accuracy: 81.3%, Avg loss: 0.480606 \n",
      "\n",
      "Epoch 692\n"
     ]
    },
    {
     "data": {
      "application/vnd.jupyter.widget-view+json": {
       "model_id": "d16e38dae5254028b80ac3f276735e89",
       "version_major": 2,
       "version_minor": 0
      },
      "text/plain": [
       "  0%|          | 0/2577 [00:00<?, ?it/s]"
      ]
     },
     "metadata": {},
     "output_type": "display_data"
    },
    {
     "name": "stdout",
     "output_type": "stream",
     "text": [
      "[Train] Accuracy: 83.2%, Avg loss: 0.400544 \n",
      "\n",
      "[Test] Accuracy: 80.8%, Avg loss: 0.466566 \n",
      "\n",
      "Epoch 693\n"
     ]
    },
    {
     "data": {
      "application/vnd.jupyter.widget-view+json": {
       "model_id": "15a0537a56fc4673ab56a6ec56683d66",
       "version_major": 2,
       "version_minor": 0
      },
      "text/plain": [
       "  0%|          | 0/2577 [00:00<?, ?it/s]"
      ]
     },
     "metadata": {},
     "output_type": "display_data"
    },
    {
     "name": "stdout",
     "output_type": "stream",
     "text": [
      "[Train] Accuracy: 83.2%, Avg loss: 0.400858 \n",
      "\n",
      "[Test] Accuracy: 81.7%, Avg loss: 0.470822 \n",
      "\n",
      "Epoch 694\n"
     ]
    },
    {
     "data": {
      "application/vnd.jupyter.widget-view+json": {
       "model_id": "dbc6263b8ae54fc19422cc5c354529d0",
       "version_major": 2,
       "version_minor": 0
      },
      "text/plain": [
       "  0%|          | 0/2577 [00:00<?, ?it/s]"
      ]
     },
     "metadata": {},
     "output_type": "display_data"
    },
    {
     "name": "stdout",
     "output_type": "stream",
     "text": [
      "[Train] Accuracy: 83.2%, Avg loss: 0.400761 \n",
      "\n",
      "[Test] Accuracy: 81.7%, Avg loss: 0.471894 \n",
      "\n",
      "Epoch 695\n"
     ]
    },
    {
     "data": {
      "application/vnd.jupyter.widget-view+json": {
       "model_id": "90a4b4b347674e2c91450df6529f70e9",
       "version_major": 2,
       "version_minor": 0
      },
      "text/plain": [
       "  0%|          | 0/2577 [00:00<?, ?it/s]"
      ]
     },
     "metadata": {},
     "output_type": "display_data"
    },
    {
     "name": "stdout",
     "output_type": "stream",
     "text": [
      "[Train] Accuracy: 83.2%, Avg loss: 0.401230 \n",
      "\n",
      "[Test] Accuracy: 81.4%, Avg loss: 0.472830 \n",
      "\n",
      "Epoch 696\n"
     ]
    },
    {
     "data": {
      "application/vnd.jupyter.widget-view+json": {
       "model_id": "3ae8467f821c4cc5ab0b890d66381474",
       "version_major": 2,
       "version_minor": 0
      },
      "text/plain": [
       "  0%|          | 0/2577 [00:00<?, ?it/s]"
      ]
     },
     "metadata": {},
     "output_type": "display_data"
    },
    {
     "name": "stdout",
     "output_type": "stream",
     "text": [
      "[Train] Accuracy: 83.3%, Avg loss: 0.400812 \n",
      "\n",
      "[Test] Accuracy: 81.5%, Avg loss: 0.476310 \n",
      "\n",
      "Epoch 697\n"
     ]
    },
    {
     "data": {
      "application/vnd.jupyter.widget-view+json": {
       "model_id": "76097ad1bd344fd19a68e36d7b78109f",
       "version_major": 2,
       "version_minor": 0
      },
      "text/plain": [
       "  0%|          | 0/2577 [00:00<?, ?it/s]"
      ]
     },
     "metadata": {},
     "output_type": "display_data"
    },
    {
     "name": "stdout",
     "output_type": "stream",
     "text": [
      "[Train] Accuracy: 83.1%, Avg loss: 0.400852 \n",
      "\n",
      "[Test] Accuracy: 81.7%, Avg loss: 0.471587 \n",
      "\n",
      "Epoch 698\n"
     ]
    },
    {
     "data": {
      "application/vnd.jupyter.widget-view+json": {
       "model_id": "a52670dec0244d2fa33a8cd49f01667b",
       "version_major": 2,
       "version_minor": 0
      },
      "text/plain": [
       "  0%|          | 0/2577 [00:00<?, ?it/s]"
      ]
     },
     "metadata": {},
     "output_type": "display_data"
    },
    {
     "name": "stdout",
     "output_type": "stream",
     "text": [
      "[Train] Accuracy: 83.2%, Avg loss: 0.400227 \n",
      "\n",
      "[Test] Accuracy: 81.6%, Avg loss: 0.471185 \n",
      "\n",
      "Epoch 699\n"
     ]
    },
    {
     "data": {
      "application/vnd.jupyter.widget-view+json": {
       "model_id": "f3ab74b3885245a3b26c8a087f933d2a",
       "version_major": 2,
       "version_minor": 0
      },
      "text/plain": [
       "  0%|          | 0/2577 [00:00<?, ?it/s]"
      ]
     },
     "metadata": {},
     "output_type": "display_data"
    },
    {
     "name": "stdout",
     "output_type": "stream",
     "text": [
      "[Train] Accuracy: 83.1%, Avg loss: 0.402195 \n",
      "\n",
      "[Test] Accuracy: 81.3%, Avg loss: 0.484411 \n",
      "\n",
      "Epoch 700\n"
     ]
    },
    {
     "data": {
      "application/vnd.jupyter.widget-view+json": {
       "model_id": "d18fd89ebc0b49c8832c50dcb8786929",
       "version_major": 2,
       "version_minor": 0
      },
      "text/plain": [
       "  0%|          | 0/2577 [00:00<?, ?it/s]"
      ]
     },
     "metadata": {},
     "output_type": "display_data"
    },
    {
     "name": "stdout",
     "output_type": "stream",
     "text": [
      "[Train] Accuracy: 83.3%, Avg loss: 0.399947 \n",
      "\n",
      "[Test] Accuracy: 81.6%, Avg loss: 0.467754 \n",
      "\n",
      "Epoch 701\n"
     ]
    },
    {
     "data": {
      "application/vnd.jupyter.widget-view+json": {
       "model_id": "f3e03bc82b594b218d46b0bb24d5e1d0",
       "version_major": 2,
       "version_minor": 0
      },
      "text/plain": [
       "  0%|          | 0/2577 [00:00<?, ?it/s]"
      ]
     },
     "metadata": {},
     "output_type": "display_data"
    },
    {
     "name": "stdout",
     "output_type": "stream",
     "text": [
      "[Train] Accuracy: 83.3%, Avg loss: 0.399877 \n",
      "\n",
      "[Test] Accuracy: 81.7%, Avg loss: 0.468495 \n",
      "\n",
      "Epoch 702\n"
     ]
    },
    {
     "data": {
      "application/vnd.jupyter.widget-view+json": {
       "model_id": "505f0ecc416a4d4ab9dbc7d3d17a2ad8",
       "version_major": 2,
       "version_minor": 0
      },
      "text/plain": [
       "  0%|          | 0/2577 [00:00<?, ?it/s]"
      ]
     },
     "metadata": {},
     "output_type": "display_data"
    },
    {
     "name": "stdout",
     "output_type": "stream",
     "text": [
      "[Train] Accuracy: 83.3%, Avg loss: 0.400020 \n",
      "\n",
      "[Test] Accuracy: 81.6%, Avg loss: 0.468960 \n",
      "\n",
      "Epoch 703\n"
     ]
    },
    {
     "data": {
      "application/vnd.jupyter.widget-view+json": {
       "model_id": "97890aafb4984c47859e6346c3906e7a",
       "version_major": 2,
       "version_minor": 0
      },
      "text/plain": [
       "  0%|          | 0/2577 [00:00<?, ?it/s]"
      ]
     },
     "metadata": {},
     "output_type": "display_data"
    },
    {
     "name": "stdout",
     "output_type": "stream",
     "text": [
      "[Train] Accuracy: 83.3%, Avg loss: 0.399840 \n",
      "\n",
      "[Test] Accuracy: 81.6%, Avg loss: 0.468774 \n",
      "\n",
      "Epoch 704\n"
     ]
    },
    {
     "data": {
      "application/vnd.jupyter.widget-view+json": {
       "model_id": "088b3c835c0d49d29885d068026865fe",
       "version_major": 2,
       "version_minor": 0
      },
      "text/plain": [
       "  0%|          | 0/2577 [00:00<?, ?it/s]"
      ]
     },
     "metadata": {},
     "output_type": "display_data"
    },
    {
     "name": "stdout",
     "output_type": "stream",
     "text": [
      "[Train] Accuracy: 83.2%, Avg loss: 0.399880 \n",
      "\n",
      "[Test] Accuracy: 81.6%, Avg loss: 0.466974 \n",
      "\n",
      "Epoch 705\n"
     ]
    },
    {
     "data": {
      "application/vnd.jupyter.widget-view+json": {
       "model_id": "67a54028640c429db3e54c82b4a97157",
       "version_major": 2,
       "version_minor": 0
      },
      "text/plain": [
       "  0%|          | 0/2577 [00:00<?, ?it/s]"
      ]
     },
     "metadata": {},
     "output_type": "display_data"
    },
    {
     "name": "stdout",
     "output_type": "stream",
     "text": [
      "[Train] Accuracy: 83.2%, Avg loss: 0.400439 \n",
      "\n",
      "[Test] Accuracy: 81.2%, Avg loss: 0.464320 \n",
      "\n",
      "Epoch 706\n"
     ]
    },
    {
     "data": {
      "application/vnd.jupyter.widget-view+json": {
       "model_id": "19fe3df8b6d346b4b36b7039c4e86eba",
       "version_major": 2,
       "version_minor": 0
      },
      "text/plain": [
       "  0%|          | 0/2577 [00:00<?, ?it/s]"
      ]
     },
     "metadata": {},
     "output_type": "display_data"
    },
    {
     "name": "stdout",
     "output_type": "stream",
     "text": [
      "[Train] Accuracy: 83.3%, Avg loss: 0.399731 \n",
      "\n",
      "[Test] Accuracy: 81.2%, Avg loss: 0.534513 \n",
      "\n",
      "Epoch 707\n"
     ]
    },
    {
     "data": {
      "application/vnd.jupyter.widget-view+json": {
       "model_id": "2ea42d537d6f4f3ea9facab2b008f364",
       "version_major": 2,
       "version_minor": 0
      },
      "text/plain": [
       "  0%|          | 0/2577 [00:00<?, ?it/s]"
      ]
     },
     "metadata": {},
     "output_type": "display_data"
    },
    {
     "name": "stdout",
     "output_type": "stream",
     "text": [
      "[Train] Accuracy: 83.4%, Avg loss: 0.398282 \n",
      "\n",
      "[Test] Accuracy: 81.6%, Avg loss: 0.462996 \n",
      "\n",
      "Epoch 708\n"
     ]
    },
    {
     "data": {
      "application/vnd.jupyter.widget-view+json": {
       "model_id": "be63d96dc6524abb9c3fe89c78d280d1",
       "version_major": 2,
       "version_minor": 0
      },
      "text/plain": [
       "  0%|          | 0/2577 [00:00<?, ?it/s]"
      ]
     },
     "metadata": {},
     "output_type": "display_data"
    },
    {
     "name": "stdout",
     "output_type": "stream",
     "text": [
      "[Train] Accuracy: 83.2%, Avg loss: 0.399223 \n",
      "\n",
      "[Test] Accuracy: 81.6%, Avg loss: 0.465423 \n",
      "\n",
      "Epoch 709\n"
     ]
    },
    {
     "data": {
      "application/vnd.jupyter.widget-view+json": {
       "model_id": "71121ba958c34fd8b4de7768c79b4c8e",
       "version_major": 2,
       "version_minor": 0
      },
      "text/plain": [
       "  0%|          | 0/2577 [00:00<?, ?it/s]"
      ]
     },
     "metadata": {},
     "output_type": "display_data"
    },
    {
     "name": "stdout",
     "output_type": "stream",
     "text": [
      "[Train] Accuracy: 83.3%, Avg loss: 0.399793 \n",
      "\n",
      "[Test] Accuracy: 81.5%, Avg loss: 0.462127 \n",
      "\n",
      "Epoch 710\n"
     ]
    },
    {
     "data": {
      "application/vnd.jupyter.widget-view+json": {
       "model_id": "014dc69c37294ed0a2601beb88cc44c1",
       "version_major": 2,
       "version_minor": 0
      },
      "text/plain": [
       "  0%|          | 0/2577 [00:00<?, ?it/s]"
      ]
     },
     "metadata": {},
     "output_type": "display_data"
    },
    {
     "name": "stdout",
     "output_type": "stream",
     "text": [
      "[Train] Accuracy: 83.2%, Avg loss: 0.401040 \n",
      "\n",
      "[Test] Accuracy: 81.6%, Avg loss: 0.474030 \n",
      "\n",
      "Epoch 711\n"
     ]
    },
    {
     "data": {
      "application/vnd.jupyter.widget-view+json": {
       "model_id": "349e7451e5534a81a036638db7bb4f3c",
       "version_major": 2,
       "version_minor": 0
      },
      "text/plain": [
       "  0%|          | 0/2577 [00:00<?, ?it/s]"
      ]
     },
     "metadata": {},
     "output_type": "display_data"
    },
    {
     "name": "stdout",
     "output_type": "stream",
     "text": [
      "[Train] Accuracy: 83.3%, Avg loss: 0.398366 \n",
      "\n",
      "[Test] Accuracy: 81.7%, Avg loss: 0.465727 \n",
      "\n",
      "Epoch 712\n"
     ]
    },
    {
     "data": {
      "application/vnd.jupyter.widget-view+json": {
       "model_id": "0139dff4f47e4732a35cf266085e00c6",
       "version_major": 2,
       "version_minor": 0
      },
      "text/plain": [
       "  0%|          | 0/2577 [00:00<?, ?it/s]"
      ]
     },
     "metadata": {},
     "output_type": "display_data"
    },
    {
     "name": "stdout",
     "output_type": "stream",
     "text": [
      "[Train] Accuracy: 83.3%, Avg loss: 0.398616 \n",
      "\n",
      "[Test] Accuracy: 81.2%, Avg loss: 0.463359 \n",
      "\n",
      "Epoch 713\n"
     ]
    },
    {
     "data": {
      "application/vnd.jupyter.widget-view+json": {
       "model_id": "e65830063c57483599af1e904d6ee576",
       "version_major": 2,
       "version_minor": 0
      },
      "text/plain": [
       "  0%|          | 0/2577 [00:00<?, ?it/s]"
      ]
     },
     "metadata": {},
     "output_type": "display_data"
    },
    {
     "name": "stdout",
     "output_type": "stream",
     "text": [
      "[Train] Accuracy: 83.2%, Avg loss: 0.400007 \n",
      "\n",
      "[Test] Accuracy: 81.5%, Avg loss: 0.467190 \n",
      "\n",
      "Epoch 714\n"
     ]
    },
    {
     "data": {
      "application/vnd.jupyter.widget-view+json": {
       "model_id": "5c48fff70c3e4536b441f34709293268",
       "version_major": 2,
       "version_minor": 0
      },
      "text/plain": [
       "  0%|          | 0/2577 [00:00<?, ?it/s]"
      ]
     },
     "metadata": {},
     "output_type": "display_data"
    },
    {
     "name": "stdout",
     "output_type": "stream",
     "text": [
      "[Train] Accuracy: 83.2%, Avg loss: 0.399533 \n",
      "\n",
      "[Test] Accuracy: 81.4%, Avg loss: 0.464940 \n",
      "\n",
      "Epoch 715\n"
     ]
    },
    {
     "data": {
      "application/vnd.jupyter.widget-view+json": {
       "model_id": "c3b1551aeb6242f4ae4223d680c7cab3",
       "version_major": 2,
       "version_minor": 0
      },
      "text/plain": [
       "  0%|          | 0/2577 [00:00<?, ?it/s]"
      ]
     },
     "metadata": {},
     "output_type": "display_data"
    },
    {
     "name": "stdout",
     "output_type": "stream",
     "text": [
      "[Train] Accuracy: 83.2%, Avg loss: 0.399574 \n",
      "\n",
      "[Test] Accuracy: 80.6%, Avg loss: 0.471266 \n",
      "\n",
      "Epoch 716\n"
     ]
    },
    {
     "data": {
      "application/vnd.jupyter.widget-view+json": {
       "model_id": "0383d77f65c840a285bfcb99e07a062a",
       "version_major": 2,
       "version_minor": 0
      },
      "text/plain": [
       "  0%|          | 0/2577 [00:00<?, ?it/s]"
      ]
     },
     "metadata": {},
     "output_type": "display_data"
    },
    {
     "name": "stdout",
     "output_type": "stream",
     "text": [
      "[Train] Accuracy: 83.2%, Avg loss: 0.399123 \n",
      "\n",
      "[Test] Accuracy: 81.8%, Avg loss: 0.467995 \n",
      "\n",
      "Epoch 717\n"
     ]
    },
    {
     "data": {
      "application/vnd.jupyter.widget-view+json": {
       "model_id": "bc7aa6d04b14418bb3a64c70d3f6ba9a",
       "version_major": 2,
       "version_minor": 0
      },
      "text/plain": [
       "  0%|          | 0/2577 [00:00<?, ?it/s]"
      ]
     },
     "metadata": {},
     "output_type": "display_data"
    },
    {
     "name": "stdout",
     "output_type": "stream",
     "text": [
      "[Train] Accuracy: 83.2%, Avg loss: 0.398515 \n",
      "\n",
      "[Test] Accuracy: 81.8%, Avg loss: 0.470087 \n",
      "\n",
      "Epoch 718\n"
     ]
    },
    {
     "data": {
      "application/vnd.jupyter.widget-view+json": {
       "model_id": "fb778c0422004fa9a450d674b1f3e4f2",
       "version_major": 2,
       "version_minor": 0
      },
      "text/plain": [
       "  0%|          | 0/2577 [00:00<?, ?it/s]"
      ]
     },
     "metadata": {},
     "output_type": "display_data"
    },
    {
     "name": "stdout",
     "output_type": "stream",
     "text": [
      "[Train] Accuracy: 83.3%, Avg loss: 0.398364 \n",
      "\n",
      "[Test] Accuracy: 81.8%, Avg loss: 0.500923 \n",
      "\n",
      "Epoch 719\n"
     ]
    },
    {
     "data": {
      "application/vnd.jupyter.widget-view+json": {
       "model_id": "1c88b3675a3e4a9e91e7fe0507840ee6",
       "version_major": 2,
       "version_minor": 0
      },
      "text/plain": [
       "  0%|          | 0/2577 [00:00<?, ?it/s]"
      ]
     },
     "metadata": {},
     "output_type": "display_data"
    },
    {
     "name": "stdout",
     "output_type": "stream",
     "text": [
      "[Train] Accuracy: 83.3%, Avg loss: 0.398192 \n",
      "\n",
      "[Test] Accuracy: 80.8%, Avg loss: 0.474576 \n",
      "\n",
      "Epoch 720\n"
     ]
    },
    {
     "data": {
      "application/vnd.jupyter.widget-view+json": {
       "model_id": "54b4af0f0b0b44d1a996c29e293046ad",
       "version_major": 2,
       "version_minor": 0
      },
      "text/plain": [
       "  0%|          | 0/2577 [00:00<?, ?it/s]"
      ]
     },
     "metadata": {},
     "output_type": "display_data"
    },
    {
     "name": "stdout",
     "output_type": "stream",
     "text": [
      "[Train] Accuracy: 83.2%, Avg loss: 0.399370 \n",
      "\n",
      "[Test] Accuracy: 81.3%, Avg loss: 0.490061 \n",
      "\n",
      "Epoch 721\n"
     ]
    },
    {
     "data": {
      "application/vnd.jupyter.widget-view+json": {
       "model_id": "af9d8bb79f6f49a7b113128eca6be4d3",
       "version_major": 2,
       "version_minor": 0
      },
      "text/plain": [
       "  0%|          | 0/2577 [00:00<?, ?it/s]"
      ]
     },
     "metadata": {},
     "output_type": "display_data"
    },
    {
     "name": "stdout",
     "output_type": "stream",
     "text": [
      "[Train] Accuracy: 83.3%, Avg loss: 0.397592 \n",
      "\n",
      "[Test] Accuracy: 81.6%, Avg loss: 0.472944 \n",
      "\n",
      "Epoch 722\n"
     ]
    },
    {
     "data": {
      "application/vnd.jupyter.widget-view+json": {
       "model_id": "c0547f77d23045a3a2fa8c099c31b1c5",
       "version_major": 2,
       "version_minor": 0
      },
      "text/plain": [
       "  0%|          | 0/2577 [00:00<?, ?it/s]"
      ]
     },
     "metadata": {},
     "output_type": "display_data"
    },
    {
     "name": "stdout",
     "output_type": "stream",
     "text": [
      "[Train] Accuracy: 83.3%, Avg loss: 0.398027 \n",
      "\n",
      "[Test] Accuracy: 80.7%, Avg loss: 0.482560 \n",
      "\n",
      "Epoch 723\n"
     ]
    },
    {
     "data": {
      "application/vnd.jupyter.widget-view+json": {
       "model_id": "7bb2b37fb0784b039c3cd28be08a3108",
       "version_major": 2,
       "version_minor": 0
      },
      "text/plain": [
       "  0%|          | 0/2577 [00:00<?, ?it/s]"
      ]
     },
     "metadata": {},
     "output_type": "display_data"
    },
    {
     "name": "stdout",
     "output_type": "stream",
     "text": [
      "[Train] Accuracy: 83.3%, Avg loss: 0.398219 \n",
      "\n",
      "[Test] Accuracy: 81.6%, Avg loss: 0.472412 \n",
      "\n",
      "Epoch 724\n"
     ]
    },
    {
     "data": {
      "application/vnd.jupyter.widget-view+json": {
       "model_id": "ec29595201c54fee932877fe8e80de24",
       "version_major": 2,
       "version_minor": 0
      },
      "text/plain": [
       "  0%|          | 0/2577 [00:00<?, ?it/s]"
      ]
     },
     "metadata": {},
     "output_type": "display_data"
    },
    {
     "name": "stdout",
     "output_type": "stream",
     "text": [
      "[Train] Accuracy: 83.3%, Avg loss: 0.398115 \n",
      "\n",
      "[Test] Accuracy: 80.1%, Avg loss: 0.497222 \n",
      "\n",
      "Epoch 725\n"
     ]
    },
    {
     "data": {
      "application/vnd.jupyter.widget-view+json": {
       "model_id": "a5b4ab43dbd146a5ba685c9ba4d9a8c8",
       "version_major": 2,
       "version_minor": 0
      },
      "text/plain": [
       "  0%|          | 0/2577 [00:00<?, ?it/s]"
      ]
     },
     "metadata": {},
     "output_type": "display_data"
    },
    {
     "name": "stdout",
     "output_type": "stream",
     "text": [
      "[Train] Accuracy: 83.3%, Avg loss: 0.398952 \n",
      "\n",
      "[Test] Accuracy: 81.6%, Avg loss: 0.469313 \n",
      "\n",
      "Epoch 726\n"
     ]
    },
    {
     "data": {
      "application/vnd.jupyter.widget-view+json": {
       "model_id": "2628f3e70f764c3d9c53e6b3aa059a65",
       "version_major": 2,
       "version_minor": 0
      },
      "text/plain": [
       "  0%|          | 0/2577 [00:00<?, ?it/s]"
      ]
     },
     "metadata": {},
     "output_type": "display_data"
    },
    {
     "name": "stdout",
     "output_type": "stream",
     "text": [
      "[Train] Accuracy: 83.3%, Avg loss: 0.398425 \n",
      "\n",
      "[Test] Accuracy: 81.3%, Avg loss: 0.478700 \n",
      "\n",
      "Epoch 727\n"
     ]
    },
    {
     "data": {
      "application/vnd.jupyter.widget-view+json": {
       "model_id": "d925137edcc4454c939c64963ef02185",
       "version_major": 2,
       "version_minor": 0
      },
      "text/plain": [
       "  0%|          | 0/2577 [00:00<?, ?it/s]"
      ]
     },
     "metadata": {},
     "output_type": "display_data"
    },
    {
     "name": "stdout",
     "output_type": "stream",
     "text": [
      "[Train] Accuracy: 83.3%, Avg loss: 0.397997 \n",
      "\n",
      "[Test] Accuracy: 81.3%, Avg loss: 0.484132 \n",
      "\n",
      "Epoch 728\n"
     ]
    },
    {
     "data": {
      "application/vnd.jupyter.widget-view+json": {
       "model_id": "2a914214bebb4ac98b4ab6bc4cbbefe6",
       "version_major": 2,
       "version_minor": 0
      },
      "text/plain": [
       "  0%|          | 0/2577 [00:00<?, ?it/s]"
      ]
     },
     "metadata": {},
     "output_type": "display_data"
    },
    {
     "name": "stdout",
     "output_type": "stream",
     "text": [
      "[Train] Accuracy: 83.3%, Avg loss: 0.397377 \n",
      "\n",
      "[Test] Accuracy: 80.7%, Avg loss: 0.497270 \n",
      "\n",
      "Epoch 729\n"
     ]
    },
    {
     "data": {
      "application/vnd.jupyter.widget-view+json": {
       "model_id": "91589b224ec840138c58a2b606eb4615",
       "version_major": 2,
       "version_minor": 0
      },
      "text/plain": [
       "  0%|          | 0/2577 [00:00<?, ?it/s]"
      ]
     },
     "metadata": {},
     "output_type": "display_data"
    },
    {
     "name": "stdout",
     "output_type": "stream",
     "text": [
      "[Train] Accuracy: 83.4%, Avg loss: 0.398126 \n",
      "\n",
      "[Test] Accuracy: 81.8%, Avg loss: 0.468338 \n",
      "\n",
      "Epoch 730\n"
     ]
    },
    {
     "data": {
      "application/vnd.jupyter.widget-view+json": {
       "model_id": "3d5fb3171549440abcd059f2583d7b06",
       "version_major": 2,
       "version_minor": 0
      },
      "text/plain": [
       "  0%|          | 0/2577 [00:00<?, ?it/s]"
      ]
     },
     "metadata": {},
     "output_type": "display_data"
    },
    {
     "name": "stdout",
     "output_type": "stream",
     "text": [
      "[Train] Accuracy: 83.3%, Avg loss: 0.398472 \n",
      "\n",
      "[Test] Accuracy: 81.0%, Avg loss: 0.463533 \n",
      "\n",
      "Epoch 731\n"
     ]
    },
    {
     "data": {
      "application/vnd.jupyter.widget-view+json": {
       "model_id": "b65ef9e9d5d8478aab17677904ab848c",
       "version_major": 2,
       "version_minor": 0
      },
      "text/plain": [
       "  0%|          | 0/2577 [00:00<?, ?it/s]"
      ]
     },
     "metadata": {},
     "output_type": "display_data"
    },
    {
     "name": "stdout",
     "output_type": "stream",
     "text": [
      "[Train] Accuracy: 83.3%, Avg loss: 0.398237 \n",
      "\n",
      "[Test] Accuracy: 81.2%, Avg loss: 0.463616 \n",
      "\n",
      "Epoch 732\n"
     ]
    },
    {
     "data": {
      "application/vnd.jupyter.widget-view+json": {
       "model_id": "a2347be5745f45029b583fb0ed184c39",
       "version_major": 2,
       "version_minor": 0
      },
      "text/plain": [
       "  0%|          | 0/2577 [00:00<?, ?it/s]"
      ]
     },
     "metadata": {},
     "output_type": "display_data"
    },
    {
     "name": "stdout",
     "output_type": "stream",
     "text": [
      "[Train] Accuracy: 83.3%, Avg loss: 0.396989 \n",
      "\n",
      "[Test] Accuracy: 81.6%, Avg loss: 0.467994 \n",
      "\n",
      "Epoch 733\n"
     ]
    },
    {
     "data": {
      "application/vnd.jupyter.widget-view+json": {
       "model_id": "19038dac8f5b46239f30cae9edc23790",
       "version_major": 2,
       "version_minor": 0
      },
      "text/plain": [
       "  0%|          | 0/2577 [00:00<?, ?it/s]"
      ]
     },
     "metadata": {},
     "output_type": "display_data"
    },
    {
     "name": "stdout",
     "output_type": "stream",
     "text": [
      "[Train] Accuracy: 83.4%, Avg loss: 0.396756 \n",
      "\n",
      "[Test] Accuracy: 81.5%, Avg loss: 0.472856 \n",
      "\n",
      "Epoch 734\n"
     ]
    },
    {
     "data": {
      "application/vnd.jupyter.widget-view+json": {
       "model_id": "2c2e1a2d0b3b4bbdac97c9a3e40dea8a",
       "version_major": 2,
       "version_minor": 0
      },
      "text/plain": [
       "  0%|          | 0/2577 [00:00<?, ?it/s]"
      ]
     },
     "metadata": {},
     "output_type": "display_data"
    },
    {
     "name": "stdout",
     "output_type": "stream",
     "text": [
      "[Train] Accuracy: 83.4%, Avg loss: 0.396147 \n",
      "\n",
      "[Test] Accuracy: 81.6%, Avg loss: 0.474215 \n",
      "\n",
      "Epoch 735\n"
     ]
    },
    {
     "data": {
      "application/vnd.jupyter.widget-view+json": {
       "model_id": "4a2cb6f923b44ac6a3d0661415a7c784",
       "version_major": 2,
       "version_minor": 0
      },
      "text/plain": [
       "  0%|          | 0/2577 [00:00<?, ?it/s]"
      ]
     },
     "metadata": {},
     "output_type": "display_data"
    },
    {
     "name": "stdout",
     "output_type": "stream",
     "text": [
      "[Train] Accuracy: 83.3%, Avg loss: 0.397405 \n",
      "\n",
      "[Test] Accuracy: 80.7%, Avg loss: 0.481470 \n",
      "\n",
      "Epoch 736\n"
     ]
    },
    {
     "data": {
      "application/vnd.jupyter.widget-view+json": {
       "model_id": "b79d1b6901b24444a0a8425b425d527d",
       "version_major": 2,
       "version_minor": 0
      },
      "text/plain": [
       "  0%|          | 0/2577 [00:00<?, ?it/s]"
      ]
     },
     "metadata": {},
     "output_type": "display_data"
    },
    {
     "name": "stdout",
     "output_type": "stream",
     "text": [
      "[Train] Accuracy: 83.3%, Avg loss: 0.397257 \n",
      "\n",
      "[Test] Accuracy: 81.4%, Avg loss: 0.479277 \n",
      "\n",
      "Epoch 737\n"
     ]
    },
    {
     "data": {
      "application/vnd.jupyter.widget-view+json": {
       "model_id": "c45bd0bb4e104a7cb878e49c63ec66f9",
       "version_major": 2,
       "version_minor": 0
      },
      "text/plain": [
       "  0%|          | 0/2577 [00:00<?, ?it/s]"
      ]
     },
     "metadata": {},
     "output_type": "display_data"
    },
    {
     "name": "stdout",
     "output_type": "stream",
     "text": [
      "[Train] Accuracy: 83.4%, Avg loss: 0.396696 \n",
      "\n",
      "[Test] Accuracy: 81.6%, Avg loss: 0.465284 \n",
      "\n",
      "Epoch 738\n"
     ]
    },
    {
     "data": {
      "application/vnd.jupyter.widget-view+json": {
       "model_id": "cb5f26cf2d61436888a63d5ceda8240c",
       "version_major": 2,
       "version_minor": 0
      },
      "text/plain": [
       "  0%|          | 0/2577 [00:00<?, ?it/s]"
      ]
     },
     "metadata": {},
     "output_type": "display_data"
    },
    {
     "name": "stdout",
     "output_type": "stream",
     "text": [
      "[Train] Accuracy: 83.3%, Avg loss: 0.397472 \n",
      "\n",
      "[Test] Accuracy: 81.0%, Avg loss: 0.477770 \n",
      "\n",
      "Epoch 739\n"
     ]
    },
    {
     "data": {
      "application/vnd.jupyter.widget-view+json": {
       "model_id": "393bc337d3cb4d4c9dc998f3236d04e8",
       "version_major": 2,
       "version_minor": 0
      },
      "text/plain": [
       "  0%|          | 0/2577 [00:00<?, ?it/s]"
      ]
     },
     "metadata": {},
     "output_type": "display_data"
    },
    {
     "name": "stdout",
     "output_type": "stream",
     "text": [
      "[Train] Accuracy: 83.3%, Avg loss: 0.397217 \n",
      "\n",
      "[Test] Accuracy: 81.7%, Avg loss: 0.469388 \n",
      "\n",
      "Epoch 740\n"
     ]
    },
    {
     "data": {
      "application/vnd.jupyter.widget-view+json": {
       "model_id": "8e82312c6ca042edb43f16fbbebc6aa5",
       "version_major": 2,
       "version_minor": 0
      },
      "text/plain": [
       "  0%|          | 0/2577 [00:00<?, ?it/s]"
      ]
     },
     "metadata": {},
     "output_type": "display_data"
    },
    {
     "name": "stdout",
     "output_type": "stream",
     "text": [
      "[Train] Accuracy: 83.3%, Avg loss: 0.396768 \n",
      "\n",
      "[Test] Accuracy: 81.8%, Avg loss: 0.460960 \n",
      "\n",
      "Epoch 741\n"
     ]
    },
    {
     "data": {
      "application/vnd.jupyter.widget-view+json": {
       "model_id": "d35e1ffde0d94e4d99a2dc4681e29929",
       "version_major": 2,
       "version_minor": 0
      },
      "text/plain": [
       "  0%|          | 0/2577 [00:00<?, ?it/s]"
      ]
     },
     "metadata": {},
     "output_type": "display_data"
    },
    {
     "name": "stdout",
     "output_type": "stream",
     "text": [
      "[Train] Accuracy: 83.3%, Avg loss: 0.395903 \n",
      "\n",
      "[Test] Accuracy: 80.8%, Avg loss: 0.493413 \n",
      "\n",
      "Epoch 742\n"
     ]
    },
    {
     "data": {
      "application/vnd.jupyter.widget-view+json": {
       "model_id": "54f07cb362ab45c69f7940baa59945e4",
       "version_major": 2,
       "version_minor": 0
      },
      "text/plain": [
       "  0%|          | 0/2577 [00:00<?, ?it/s]"
      ]
     },
     "metadata": {},
     "output_type": "display_data"
    },
    {
     "name": "stdout",
     "output_type": "stream",
     "text": [
      "[Train] Accuracy: 83.4%, Avg loss: 0.396169 \n",
      "\n",
      "[Test] Accuracy: 80.1%, Avg loss: 0.488160 \n",
      "\n",
      "Epoch 743\n"
     ]
    },
    {
     "data": {
      "application/vnd.jupyter.widget-view+json": {
       "model_id": "d092196f65cc4a40b4ed8a70441383f9",
       "version_major": 2,
       "version_minor": 0
      },
      "text/plain": [
       "  0%|          | 0/2577 [00:00<?, ?it/s]"
      ]
     },
     "metadata": {},
     "output_type": "display_data"
    },
    {
     "name": "stdout",
     "output_type": "stream",
     "text": [
      "[Train] Accuracy: 83.3%, Avg loss: 0.397504 \n",
      "\n",
      "[Test] Accuracy: 81.6%, Avg loss: 0.561314 \n",
      "\n",
      "Epoch 744\n"
     ]
    },
    {
     "data": {
      "application/vnd.jupyter.widget-view+json": {
       "model_id": "0c61258957cf4aad907e9a18e3c3f358",
       "version_major": 2,
       "version_minor": 0
      },
      "text/plain": [
       "  0%|          | 0/2577 [00:00<?, ?it/s]"
      ]
     },
     "metadata": {},
     "output_type": "display_data"
    },
    {
     "name": "stdout",
     "output_type": "stream",
     "text": [
      "[Train] Accuracy: 83.4%, Avg loss: 0.397248 \n",
      "\n",
      "[Test] Accuracy: 80.5%, Avg loss: 0.468932 \n",
      "\n",
      "Epoch 745\n"
     ]
    },
    {
     "data": {
      "application/vnd.jupyter.widget-view+json": {
       "model_id": "06f1615ab0464292a731cbccf660a6bc",
       "version_major": 2,
       "version_minor": 0
      },
      "text/plain": [
       "  0%|          | 0/2577 [00:00<?, ?it/s]"
      ]
     },
     "metadata": {},
     "output_type": "display_data"
    },
    {
     "name": "stdout",
     "output_type": "stream",
     "text": [
      "[Train] Accuracy: 83.3%, Avg loss: 0.396497 \n",
      "\n",
      "[Test] Accuracy: 81.9%, Avg loss: 0.471233 \n",
      "\n",
      "Epoch 746\n"
     ]
    },
    {
     "data": {
      "application/vnd.jupyter.widget-view+json": {
       "model_id": "f9faf9adef8246ac80d32fd6db93636b",
       "version_major": 2,
       "version_minor": 0
      },
      "text/plain": [
       "  0%|          | 0/2577 [00:00<?, ?it/s]"
      ]
     },
     "metadata": {},
     "output_type": "display_data"
    },
    {
     "name": "stdout",
     "output_type": "stream",
     "text": [
      "[Train] Accuracy: 83.4%, Avg loss: 0.396551 \n",
      "\n",
      "[Test] Accuracy: 81.6%, Avg loss: 0.473056 \n",
      "\n",
      "Epoch 747\n"
     ]
    },
    {
     "data": {
      "application/vnd.jupyter.widget-view+json": {
       "model_id": "1650df41438c496394ada5d6db86efb5",
       "version_major": 2,
       "version_minor": 0
      },
      "text/plain": [
       "  0%|          | 0/2577 [00:00<?, ?it/s]"
      ]
     },
     "metadata": {},
     "output_type": "display_data"
    },
    {
     "name": "stdout",
     "output_type": "stream",
     "text": [
      "[Train] Accuracy: 83.4%, Avg loss: 0.395473 \n",
      "\n",
      "[Test] Accuracy: 80.7%, Avg loss: 0.466444 \n",
      "\n",
      "Epoch 748\n"
     ]
    },
    {
     "data": {
      "application/vnd.jupyter.widget-view+json": {
       "model_id": "9126e280e7b145bc84ebf405d10d5ff1",
       "version_major": 2,
       "version_minor": 0
      },
      "text/plain": [
       "  0%|          | 0/2577 [00:00<?, ?it/s]"
      ]
     },
     "metadata": {},
     "output_type": "display_data"
    },
    {
     "name": "stdout",
     "output_type": "stream",
     "text": [
      "[Train] Accuracy: 83.4%, Avg loss: 0.395935 \n",
      "\n",
      "[Test] Accuracy: 81.7%, Avg loss: 0.468134 \n",
      "\n",
      "Epoch 749\n"
     ]
    },
    {
     "data": {
      "application/vnd.jupyter.widget-view+json": {
       "model_id": "3ec5269f2c7e45d3b5c0c3fba262a082",
       "version_major": 2,
       "version_minor": 0
      },
      "text/plain": [
       "  0%|          | 0/2577 [00:00<?, ?it/s]"
      ]
     },
     "metadata": {},
     "output_type": "display_data"
    },
    {
     "name": "stdout",
     "output_type": "stream",
     "text": [
      "[Train] Accuracy: 83.4%, Avg loss: 0.395708 \n",
      "\n",
      "[Test] Accuracy: 81.8%, Avg loss: 0.463068 \n",
      "\n",
      "Epoch 750\n"
     ]
    },
    {
     "data": {
      "application/vnd.jupyter.widget-view+json": {
       "model_id": "f4c380dc260042f5920f7ffc0e4ed04b",
       "version_major": 2,
       "version_minor": 0
      },
      "text/plain": [
       "  0%|          | 0/2577 [00:00<?, ?it/s]"
      ]
     },
     "metadata": {},
     "output_type": "display_data"
    },
    {
     "name": "stdout",
     "output_type": "stream",
     "text": [
      "[Train] Accuracy: 83.3%, Avg loss: 0.396560 \n",
      "\n",
      "[Test] Accuracy: 81.8%, Avg loss: 0.481512 \n",
      "\n",
      "Epoch 751\n"
     ]
    },
    {
     "data": {
      "application/vnd.jupyter.widget-view+json": {
       "model_id": "dd91233bcd2a4a728e17ab07ae04336d",
       "version_major": 2,
       "version_minor": 0
      },
      "text/plain": [
       "  0%|          | 0/2577 [00:00<?, ?it/s]"
      ]
     },
     "metadata": {},
     "output_type": "display_data"
    },
    {
     "name": "stdout",
     "output_type": "stream",
     "text": [
      "[Train] Accuracy: 83.5%, Avg loss: 0.395808 \n",
      "\n",
      "[Test] Accuracy: 81.7%, Avg loss: 0.460510 \n",
      "\n",
      "Epoch 752\n"
     ]
    },
    {
     "data": {
      "application/vnd.jupyter.widget-view+json": {
       "model_id": "14614e5989ad4e70bd6824509453860a",
       "version_major": 2,
       "version_minor": 0
      },
      "text/plain": [
       "  0%|          | 0/2577 [00:00<?, ?it/s]"
      ]
     },
     "metadata": {},
     "output_type": "display_data"
    },
    {
     "name": "stdout",
     "output_type": "stream",
     "text": [
      "[Train] Accuracy: 83.4%, Avg loss: 0.394765 \n",
      "\n",
      "[Test] Accuracy: 81.5%, Avg loss: 0.464403 \n",
      "\n",
      "Epoch 753\n"
     ]
    },
    {
     "data": {
      "application/vnd.jupyter.widget-view+json": {
       "model_id": "062c94d745d345c6bc5ac9a13052d56b",
       "version_major": 2,
       "version_minor": 0
      },
      "text/plain": [
       "  0%|          | 0/2577 [00:00<?, ?it/s]"
      ]
     },
     "metadata": {},
     "output_type": "display_data"
    },
    {
     "name": "stdout",
     "output_type": "stream",
     "text": [
      "[Train] Accuracy: 83.4%, Avg loss: 0.396063 \n",
      "\n",
      "[Test] Accuracy: 81.8%, Avg loss: 0.467388 \n",
      "\n",
      "Epoch 754\n"
     ]
    },
    {
     "data": {
      "application/vnd.jupyter.widget-view+json": {
       "model_id": "2786bba088f14eb6b943992f696905cd",
       "version_major": 2,
       "version_minor": 0
      },
      "text/plain": [
       "  0%|          | 0/2577 [00:00<?, ?it/s]"
      ]
     },
     "metadata": {},
     "output_type": "display_data"
    },
    {
     "name": "stdout",
     "output_type": "stream",
     "text": [
      "[Train] Accuracy: 83.3%, Avg loss: 0.395801 \n",
      "\n",
      "[Test] Accuracy: 81.7%, Avg loss: 0.464199 \n",
      "\n",
      "Epoch 755\n"
     ]
    },
    {
     "data": {
      "application/vnd.jupyter.widget-view+json": {
       "model_id": "c8ed9a1b50ec41ddae3fa72ff183b6d2",
       "version_major": 2,
       "version_minor": 0
      },
      "text/plain": [
       "  0%|          | 0/2577 [00:00<?, ?it/s]"
      ]
     },
     "metadata": {},
     "output_type": "display_data"
    },
    {
     "name": "stdout",
     "output_type": "stream",
     "text": [
      "[Train] Accuracy: 83.4%, Avg loss: 0.395878 \n",
      "\n",
      "[Test] Accuracy: 80.9%, Avg loss: 0.522611 \n",
      "\n",
      "Epoch 756\n"
     ]
    },
    {
     "data": {
      "application/vnd.jupyter.widget-view+json": {
       "model_id": "e8edd3b2ed624118b80289f6e320af82",
       "version_major": 2,
       "version_minor": 0
      },
      "text/plain": [
       "  0%|          | 0/2577 [00:00<?, ?it/s]"
      ]
     },
     "metadata": {},
     "output_type": "display_data"
    },
    {
     "name": "stdout",
     "output_type": "stream",
     "text": [
      "[Train] Accuracy: 83.4%, Avg loss: 0.394933 \n",
      "\n",
      "[Test] Accuracy: 80.9%, Avg loss: 0.486449 \n",
      "\n",
      "Epoch 757\n"
     ]
    },
    {
     "data": {
      "application/vnd.jupyter.widget-view+json": {
       "model_id": "2dc9f3e17f114c6b85ee5358a147dc2e",
       "version_major": 2,
       "version_minor": 0
      },
      "text/plain": [
       "  0%|          | 0/2577 [00:00<?, ?it/s]"
      ]
     },
     "metadata": {},
     "output_type": "display_data"
    },
    {
     "name": "stdout",
     "output_type": "stream",
     "text": [
      "[Train] Accuracy: 83.3%, Avg loss: 0.396127 \n",
      "\n",
      "[Test] Accuracy: 81.9%, Avg loss: 0.478610 \n",
      "\n",
      "Epoch 758\n"
     ]
    },
    {
     "data": {
      "application/vnd.jupyter.widget-view+json": {
       "model_id": "c6097694b9c840128af30cab8fed3632",
       "version_major": 2,
       "version_minor": 0
      },
      "text/plain": [
       "  0%|          | 0/2577 [00:00<?, ?it/s]"
      ]
     },
     "metadata": {},
     "output_type": "display_data"
    },
    {
     "name": "stdout",
     "output_type": "stream",
     "text": [
      "[Train] Accuracy: 83.4%, Avg loss: 0.394132 \n",
      "\n",
      "[Test] Accuracy: 81.6%, Avg loss: 0.474373 \n",
      "\n",
      "Epoch 759\n"
     ]
    },
    {
     "data": {
      "application/vnd.jupyter.widget-view+json": {
       "model_id": "219df2afc1054df990215530d9b431f1",
       "version_major": 2,
       "version_minor": 0
      },
      "text/plain": [
       "  0%|          | 0/2577 [00:00<?, ?it/s]"
      ]
     },
     "metadata": {},
     "output_type": "display_data"
    },
    {
     "name": "stdout",
     "output_type": "stream",
     "text": [
      "[Train] Accuracy: 83.5%, Avg loss: 0.394436 \n",
      "\n",
      "[Test] Accuracy: 81.1%, Avg loss: 0.464913 \n",
      "\n",
      "Epoch 760\n"
     ]
    },
    {
     "data": {
      "application/vnd.jupyter.widget-view+json": {
       "model_id": "b1475df4c7ca443790ca7e90a3de42a6",
       "version_major": 2,
       "version_minor": 0
      },
      "text/plain": [
       "  0%|          | 0/2577 [00:00<?, ?it/s]"
      ]
     },
     "metadata": {},
     "output_type": "display_data"
    },
    {
     "name": "stdout",
     "output_type": "stream",
     "text": [
      "[Train] Accuracy: 83.5%, Avg loss: 0.395004 \n",
      "\n",
      "[Test] Accuracy: 81.6%, Avg loss: 0.468476 \n",
      "\n",
      "Epoch 761\n"
     ]
    },
    {
     "data": {
      "application/vnd.jupyter.widget-view+json": {
       "model_id": "9be090a9f97d41fcbfd7d6e35a199b1b",
       "version_major": 2,
       "version_minor": 0
      },
      "text/plain": [
       "  0%|          | 0/2577 [00:00<?, ?it/s]"
      ]
     },
     "metadata": {},
     "output_type": "display_data"
    },
    {
     "name": "stdout",
     "output_type": "stream",
     "text": [
      "[Train] Accuracy: 83.4%, Avg loss: 0.395979 \n",
      "\n",
      "[Test] Accuracy: 81.4%, Avg loss: 0.474576 \n",
      "\n",
      "Epoch 762\n"
     ]
    },
    {
     "data": {
      "application/vnd.jupyter.widget-view+json": {
       "model_id": "d927d1acfc8a461496a4a591f5e28727",
       "version_major": 2,
       "version_minor": 0
      },
      "text/plain": [
       "  0%|          | 0/2577 [00:00<?, ?it/s]"
      ]
     },
     "metadata": {},
     "output_type": "display_data"
    },
    {
     "name": "stdout",
     "output_type": "stream",
     "text": [
      "[Train] Accuracy: 83.3%, Avg loss: 0.395879 \n",
      "\n",
      "[Test] Accuracy: 81.9%, Avg loss: 0.471076 \n",
      "\n",
      "Epoch 763\n"
     ]
    },
    {
     "data": {
      "application/vnd.jupyter.widget-view+json": {
       "model_id": "a38726dc7fb249f9909c226d60b5829e",
       "version_major": 2,
       "version_minor": 0
      },
      "text/plain": [
       "  0%|          | 0/2577 [00:00<?, ?it/s]"
      ]
     },
     "metadata": {},
     "output_type": "display_data"
    },
    {
     "name": "stdout",
     "output_type": "stream",
     "text": [
      "[Train] Accuracy: 83.5%, Avg loss: 0.394768 \n",
      "\n",
      "[Test] Accuracy: 81.0%, Avg loss: 0.463654 \n",
      "\n",
      "Epoch 764\n"
     ]
    },
    {
     "data": {
      "application/vnd.jupyter.widget-view+json": {
       "model_id": "3830eef890f64187b23a81345d2a61a3",
       "version_major": 2,
       "version_minor": 0
      },
      "text/plain": [
       "  0%|          | 0/2577 [00:00<?, ?it/s]"
      ]
     },
     "metadata": {},
     "output_type": "display_data"
    },
    {
     "name": "stdout",
     "output_type": "stream",
     "text": [
      "[Train] Accuracy: 83.5%, Avg loss: 0.393472 \n",
      "\n",
      "[Test] Accuracy: 81.6%, Avg loss: 0.482234 \n",
      "\n",
      "Epoch 765\n"
     ]
    },
    {
     "data": {
      "application/vnd.jupyter.widget-view+json": {
       "model_id": "4467a8b79d3c4b23b9cc0b1165ebdbe0",
       "version_major": 2,
       "version_minor": 0
      },
      "text/plain": [
       "  0%|          | 0/2577 [00:00<?, ?it/s]"
      ]
     },
     "metadata": {},
     "output_type": "display_data"
    },
    {
     "name": "stdout",
     "output_type": "stream",
     "text": [
      "[Train] Accuracy: 83.4%, Avg loss: 0.394787 \n",
      "\n",
      "[Test] Accuracy: 80.8%, Avg loss: 0.472443 \n",
      "\n",
      "Epoch 766\n"
     ]
    },
    {
     "data": {
      "application/vnd.jupyter.widget-view+json": {
       "model_id": "44470dda966649498c5f562f9c6a5ce3",
       "version_major": 2,
       "version_minor": 0
      },
      "text/plain": [
       "  0%|          | 0/2577 [00:00<?, ?it/s]"
      ]
     },
     "metadata": {},
     "output_type": "display_data"
    },
    {
     "name": "stdout",
     "output_type": "stream",
     "text": [
      "[Train] Accuracy: 83.5%, Avg loss: 0.394926 \n",
      "\n",
      "[Test] Accuracy: 81.9%, Avg loss: 0.464702 \n",
      "\n",
      "Epoch 767\n"
     ]
    },
    {
     "data": {
      "application/vnd.jupyter.widget-view+json": {
       "model_id": "915c8d0dd21946c5bcd449ab1f44ae80",
       "version_major": 2,
       "version_minor": 0
      },
      "text/plain": [
       "  0%|          | 0/2577 [00:00<?, ?it/s]"
      ]
     },
     "metadata": {},
     "output_type": "display_data"
    },
    {
     "name": "stdout",
     "output_type": "stream",
     "text": [
      "[Train] Accuracy: 83.4%, Avg loss: 0.393672 \n",
      "\n",
      "[Test] Accuracy: 81.4%, Avg loss: 0.470249 \n",
      "\n",
      "Epoch 768\n"
     ]
    },
    {
     "data": {
      "application/vnd.jupyter.widget-view+json": {
       "model_id": "28c5004b67d94bd68dacda0c5f10b07a",
       "version_major": 2,
       "version_minor": 0
      },
      "text/plain": [
       "  0%|          | 0/2577 [00:00<?, ?it/s]"
      ]
     },
     "metadata": {},
     "output_type": "display_data"
    },
    {
     "name": "stdout",
     "output_type": "stream",
     "text": [
      "[Train] Accuracy: 83.5%, Avg loss: 0.393824 \n",
      "\n",
      "[Test] Accuracy: 81.7%, Avg loss: 0.463605 \n",
      "\n",
      "Epoch 769\n"
     ]
    },
    {
     "data": {
      "application/vnd.jupyter.widget-view+json": {
       "model_id": "e20bb8b9e83b4895aca02e23eb7034f2",
       "version_major": 2,
       "version_minor": 0
      },
      "text/plain": [
       "  0%|          | 0/2577 [00:00<?, ?it/s]"
      ]
     },
     "metadata": {},
     "output_type": "display_data"
    },
    {
     "name": "stdout",
     "output_type": "stream",
     "text": [
      "[Train] Accuracy: 83.6%, Avg loss: 0.393983 \n",
      "\n",
      "[Test] Accuracy: 81.5%, Avg loss: 0.470660 \n",
      "\n",
      "Epoch 770\n"
     ]
    },
    {
     "data": {
      "application/vnd.jupyter.widget-view+json": {
       "model_id": "644b7ad3de7f43d1b95c504ea5c737b7",
       "version_major": 2,
       "version_minor": 0
      },
      "text/plain": [
       "  0%|          | 0/2577 [00:00<?, ?it/s]"
      ]
     },
     "metadata": {},
     "output_type": "display_data"
    },
    {
     "name": "stdout",
     "output_type": "stream",
     "text": [
      "[Train] Accuracy: 83.5%, Avg loss: 0.394375 \n",
      "\n",
      "[Test] Accuracy: 81.5%, Avg loss: 0.474719 \n",
      "\n",
      "Epoch 771\n"
     ]
    },
    {
     "data": {
      "application/vnd.jupyter.widget-view+json": {
       "model_id": "d0058019a5d34e3fa688a9680bfefd46",
       "version_major": 2,
       "version_minor": 0
      },
      "text/plain": [
       "  0%|          | 0/2577 [00:00<?, ?it/s]"
      ]
     },
     "metadata": {},
     "output_type": "display_data"
    },
    {
     "name": "stdout",
     "output_type": "stream",
     "text": [
      "[Train] Accuracy: 83.5%, Avg loss: 0.394450 \n",
      "\n",
      "[Test] Accuracy: 80.9%, Avg loss: 0.514065 \n",
      "\n",
      "Epoch 772\n"
     ]
    },
    {
     "data": {
      "application/vnd.jupyter.widget-view+json": {
       "model_id": "6e6fd585e0f344559eb953c1004d296c",
       "version_major": 2,
       "version_minor": 0
      },
      "text/plain": [
       "  0%|          | 0/2577 [00:00<?, ?it/s]"
      ]
     },
     "metadata": {},
     "output_type": "display_data"
    },
    {
     "name": "stdout",
     "output_type": "stream",
     "text": [
      "[Train] Accuracy: 83.5%, Avg loss: 0.393830 \n",
      "\n",
      "[Test] Accuracy: 81.4%, Avg loss: 0.478296 \n",
      "\n",
      "Epoch 773\n"
     ]
    },
    {
     "data": {
      "application/vnd.jupyter.widget-view+json": {
       "model_id": "b3366c86770341198bb8a83383064ff6",
       "version_major": 2,
       "version_minor": 0
      },
      "text/plain": [
       "  0%|          | 0/2577 [00:00<?, ?it/s]"
      ]
     },
     "metadata": {},
     "output_type": "display_data"
    },
    {
     "name": "stdout",
     "output_type": "stream",
     "text": [
      "[Train] Accuracy: 83.4%, Avg loss: 0.394579 \n",
      "\n",
      "[Test] Accuracy: 80.8%, Avg loss: 0.502261 \n",
      "\n",
      "Epoch 774\n"
     ]
    },
    {
     "data": {
      "application/vnd.jupyter.widget-view+json": {
       "model_id": "2944f97fb7884fceb4263fd9e6a721cf",
       "version_major": 2,
       "version_minor": 0
      },
      "text/plain": [
       "  0%|          | 0/2577 [00:00<?, ?it/s]"
      ]
     },
     "metadata": {},
     "output_type": "display_data"
    },
    {
     "name": "stdout",
     "output_type": "stream",
     "text": [
      "[Train] Accuracy: 83.5%, Avg loss: 0.393042 \n",
      "\n",
      "[Test] Accuracy: 81.6%, Avg loss: 0.478703 \n",
      "\n",
      "Epoch 775\n"
     ]
    },
    {
     "data": {
      "application/vnd.jupyter.widget-view+json": {
       "model_id": "8d3fcbd39c84415fa119e6255f76bd9b",
       "version_major": 2,
       "version_minor": 0
      },
      "text/plain": [
       "  0%|          | 0/2577 [00:00<?, ?it/s]"
      ]
     },
     "metadata": {},
     "output_type": "display_data"
    },
    {
     "name": "stdout",
     "output_type": "stream",
     "text": [
      "[Train] Accuracy: 83.4%, Avg loss: 0.393474 \n",
      "\n",
      "[Test] Accuracy: 81.7%, Avg loss: 0.471822 \n",
      "\n",
      "Epoch 776\n"
     ]
    },
    {
     "data": {
      "application/vnd.jupyter.widget-view+json": {
       "model_id": "6925adcaa89f471fb42eef61d70ec5e9",
       "version_major": 2,
       "version_minor": 0
      },
      "text/plain": [
       "  0%|          | 0/2577 [00:00<?, ?it/s]"
      ]
     },
     "metadata": {},
     "output_type": "display_data"
    },
    {
     "name": "stdout",
     "output_type": "stream",
     "text": [
      "[Train] Accuracy: 83.4%, Avg loss: 0.393783 \n",
      "\n",
      "[Test] Accuracy: 81.3%, Avg loss: 0.464640 \n",
      "\n",
      "Epoch 777\n"
     ]
    },
    {
     "data": {
      "application/vnd.jupyter.widget-view+json": {
       "model_id": "2aac629e93f94892ac5d05d9bb47ee5c",
       "version_major": 2,
       "version_minor": 0
      },
      "text/plain": [
       "  0%|          | 0/2577 [00:00<?, ?it/s]"
      ]
     },
     "metadata": {},
     "output_type": "display_data"
    },
    {
     "name": "stdout",
     "output_type": "stream",
     "text": [
      "[Train] Accuracy: 83.5%, Avg loss: 0.393350 \n",
      "\n",
      "[Test] Accuracy: 81.7%, Avg loss: 0.467531 \n",
      "\n",
      "Epoch 778\n"
     ]
    },
    {
     "data": {
      "application/vnd.jupyter.widget-view+json": {
       "model_id": "2224b04ee2644319aad992b4e5a5c23a",
       "version_major": 2,
       "version_minor": 0
      },
      "text/plain": [
       "  0%|          | 0/2577 [00:00<?, ?it/s]"
      ]
     },
     "metadata": {},
     "output_type": "display_data"
    },
    {
     "name": "stdout",
     "output_type": "stream",
     "text": [
      "[Train] Accuracy: 83.4%, Avg loss: 0.393295 \n",
      "\n",
      "[Test] Accuracy: 81.5%, Avg loss: 0.459880 \n",
      "\n",
      "Epoch 779\n"
     ]
    },
    {
     "data": {
      "application/vnd.jupyter.widget-view+json": {
       "model_id": "c14c4f4d19be4afe949e697045bf81ca",
       "version_major": 2,
       "version_minor": 0
      },
      "text/plain": [
       "  0%|          | 0/2577 [00:00<?, ?it/s]"
      ]
     },
     "metadata": {},
     "output_type": "display_data"
    },
    {
     "name": "stdout",
     "output_type": "stream",
     "text": [
      "[Train] Accuracy: 83.4%, Avg loss: 0.393300 \n",
      "\n",
      "[Test] Accuracy: 81.9%, Avg loss: 0.469635 \n",
      "\n",
      "Epoch 780\n"
     ]
    },
    {
     "data": {
      "application/vnd.jupyter.widget-view+json": {
       "model_id": "a37a5373205d4e87b77f89eaed9a23ae",
       "version_major": 2,
       "version_minor": 0
      },
      "text/plain": [
       "  0%|          | 0/2577 [00:00<?, ?it/s]"
      ]
     },
     "metadata": {},
     "output_type": "display_data"
    },
    {
     "name": "stdout",
     "output_type": "stream",
     "text": [
      "[Train] Accuracy: 83.5%, Avg loss: 0.392919 \n",
      "\n",
      "[Test] Accuracy: 81.5%, Avg loss: 0.457398 \n",
      "\n",
      "Epoch 781\n"
     ]
    },
    {
     "data": {
      "application/vnd.jupyter.widget-view+json": {
       "model_id": "d9a893252966408682273ac4397b01fc",
       "version_major": 2,
       "version_minor": 0
      },
      "text/plain": [
       "  0%|          | 0/2577 [00:00<?, ?it/s]"
      ]
     },
     "metadata": {},
     "output_type": "display_data"
    },
    {
     "name": "stdout",
     "output_type": "stream",
     "text": [
      "[Train] Accuracy: 83.4%, Avg loss: 0.393600 \n",
      "\n",
      "[Test] Accuracy: 80.9%, Avg loss: 0.465425 \n",
      "\n",
      "Epoch 782\n"
     ]
    },
    {
     "data": {
      "application/vnd.jupyter.widget-view+json": {
       "model_id": "6be2be96a4a04b009db69db8848af3f5",
       "version_major": 2,
       "version_minor": 0
      },
      "text/plain": [
       "  0%|          | 0/2577 [00:00<?, ?it/s]"
      ]
     },
     "metadata": {},
     "output_type": "display_data"
    },
    {
     "name": "stdout",
     "output_type": "stream",
     "text": [
      "[Train] Accuracy: 83.5%, Avg loss: 0.393348 \n",
      "\n",
      "[Test] Accuracy: 81.7%, Avg loss: 0.467649 \n",
      "\n",
      "Epoch 783\n"
     ]
    },
    {
     "data": {
      "application/vnd.jupyter.widget-view+json": {
       "model_id": "b0c7d4534d64406393e5aba3c0292357",
       "version_major": 2,
       "version_minor": 0
      },
      "text/plain": [
       "  0%|          | 0/2577 [00:00<?, ?it/s]"
      ]
     },
     "metadata": {},
     "output_type": "display_data"
    },
    {
     "name": "stdout",
     "output_type": "stream",
     "text": [
      "[Train] Accuracy: 83.4%, Avg loss: 0.393521 \n",
      "\n",
      "[Test] Accuracy: 81.3%, Avg loss: 0.488108 \n",
      "\n",
      "Epoch 784\n"
     ]
    },
    {
     "data": {
      "application/vnd.jupyter.widget-view+json": {
       "model_id": "068b6597fb3c49da918b4bc122a0d570",
       "version_major": 2,
       "version_minor": 0
      },
      "text/plain": [
       "  0%|          | 0/2577 [00:00<?, ?it/s]"
      ]
     },
     "metadata": {},
     "output_type": "display_data"
    },
    {
     "name": "stdout",
     "output_type": "stream",
     "text": [
      "[Train] Accuracy: 83.5%, Avg loss: 0.392935 \n",
      "\n",
      "[Test] Accuracy: 80.7%, Avg loss: 0.466256 \n",
      "\n",
      "Epoch 785\n"
     ]
    },
    {
     "data": {
      "application/vnd.jupyter.widget-view+json": {
       "model_id": "34412a6221f9494ba1ea076ae7a65867",
       "version_major": 2,
       "version_minor": 0
      },
      "text/plain": [
       "  0%|          | 0/2577 [00:00<?, ?it/s]"
      ]
     },
     "metadata": {},
     "output_type": "display_data"
    },
    {
     "name": "stdout",
     "output_type": "stream",
     "text": [
      "[Train] Accuracy: 83.5%, Avg loss: 0.392856 \n",
      "\n",
      "[Test] Accuracy: 81.7%, Avg loss: 0.466598 \n",
      "\n",
      "Epoch 786\n"
     ]
    },
    {
     "data": {
      "application/vnd.jupyter.widget-view+json": {
       "model_id": "356bc84922fd4efca1babcb88de32f62",
       "version_major": 2,
       "version_minor": 0
      },
      "text/plain": [
       "  0%|          | 0/2577 [00:00<?, ?it/s]"
      ]
     },
     "metadata": {},
     "output_type": "display_data"
    },
    {
     "name": "stdout",
     "output_type": "stream",
     "text": [
      "[Train] Accuracy: 83.4%, Avg loss: 0.393044 \n",
      "\n",
      "[Test] Accuracy: 81.9%, Avg loss: 0.463488 \n",
      "\n",
      "Epoch 787\n"
     ]
    },
    {
     "data": {
      "application/vnd.jupyter.widget-view+json": {
       "model_id": "76b6d8bf59864de7baedb07aaf0d07d8",
       "version_major": 2,
       "version_minor": 0
      },
      "text/plain": [
       "  0%|          | 0/2577 [00:00<?, ?it/s]"
      ]
     },
     "metadata": {},
     "output_type": "display_data"
    },
    {
     "name": "stdout",
     "output_type": "stream",
     "text": [
      "[Train] Accuracy: 83.4%, Avg loss: 0.392964 \n",
      "\n",
      "[Test] Accuracy: 81.7%, Avg loss: 0.460879 \n",
      "\n",
      "Epoch 788\n"
     ]
    },
    {
     "data": {
      "application/vnd.jupyter.widget-view+json": {
       "model_id": "4e58bad32d0d471893da636e77b8f1a5",
       "version_major": 2,
       "version_minor": 0
      },
      "text/plain": [
       "  0%|          | 0/2577 [00:00<?, ?it/s]"
      ]
     },
     "metadata": {},
     "output_type": "display_data"
    },
    {
     "name": "stdout",
     "output_type": "stream",
     "text": [
      "[Train] Accuracy: 83.5%, Avg loss: 0.392980 \n",
      "\n",
      "[Test] Accuracy: 81.8%, Avg loss: 0.465139 \n",
      "\n",
      "Epoch 789\n"
     ]
    },
    {
     "data": {
      "application/vnd.jupyter.widget-view+json": {
       "model_id": "f3364b2c1b0d4e5ab4f6e98c8a25b933",
       "version_major": 2,
       "version_minor": 0
      },
      "text/plain": [
       "  0%|          | 0/2577 [00:00<?, ?it/s]"
      ]
     },
     "metadata": {},
     "output_type": "display_data"
    },
    {
     "name": "stdout",
     "output_type": "stream",
     "text": [
      "[Train] Accuracy: 83.4%, Avg loss: 0.393782 \n",
      "\n",
      "[Test] Accuracy: 80.9%, Avg loss: 0.476868 \n",
      "\n",
      "Epoch 790\n"
     ]
    },
    {
     "data": {
      "application/vnd.jupyter.widget-view+json": {
       "model_id": "3c9b5367045a40d5ba5dac04b6a11169",
       "version_major": 2,
       "version_minor": 0
      },
      "text/plain": [
       "  0%|          | 0/2577 [00:00<?, ?it/s]"
      ]
     },
     "metadata": {},
     "output_type": "display_data"
    },
    {
     "name": "stdout",
     "output_type": "stream",
     "text": [
      "[Train] Accuracy: 83.5%, Avg loss: 0.392680 \n",
      "\n",
      "[Test] Accuracy: 81.3%, Avg loss: 0.491099 \n",
      "\n",
      "Epoch 791\n"
     ]
    },
    {
     "data": {
      "application/vnd.jupyter.widget-view+json": {
       "model_id": "52f931c59f6e4f22bc96b03551798517",
       "version_major": 2,
       "version_minor": 0
      },
      "text/plain": [
       "  0%|          | 0/2577 [00:00<?, ?it/s]"
      ]
     },
     "metadata": {},
     "output_type": "display_data"
    },
    {
     "name": "stdout",
     "output_type": "stream",
     "text": [
      "[Train] Accuracy: 83.5%, Avg loss: 0.392165 \n",
      "\n",
      "[Test] Accuracy: 81.6%, Avg loss: 0.476234 \n",
      "\n",
      "Epoch 792\n"
     ]
    },
    {
     "data": {
      "application/vnd.jupyter.widget-view+json": {
       "model_id": "94cc02f971474d80a127ba5d97b9d7ce",
       "version_major": 2,
       "version_minor": 0
      },
      "text/plain": [
       "  0%|          | 0/2577 [00:00<?, ?it/s]"
      ]
     },
     "metadata": {},
     "output_type": "display_data"
    },
    {
     "name": "stdout",
     "output_type": "stream",
     "text": [
      "[Train] Accuracy: 83.5%, Avg loss: 0.392804 \n",
      "\n",
      "[Test] Accuracy: 81.8%, Avg loss: 0.465681 \n",
      "\n",
      "Epoch 793\n"
     ]
    },
    {
     "data": {
      "application/vnd.jupyter.widget-view+json": {
       "model_id": "9066a667c02644d3bba4a38ed5f95491",
       "version_major": 2,
       "version_minor": 0
      },
      "text/plain": [
       "  0%|          | 0/2577 [00:00<?, ?it/s]"
      ]
     },
     "metadata": {},
     "output_type": "display_data"
    },
    {
     "name": "stdout",
     "output_type": "stream",
     "text": [
      "[Train] Accuracy: 83.5%, Avg loss: 0.393116 \n",
      "\n",
      "[Test] Accuracy: 81.5%, Avg loss: 0.480283 \n",
      "\n",
      "Epoch 794\n"
     ]
    },
    {
     "data": {
      "application/vnd.jupyter.widget-view+json": {
       "model_id": "fb098ffbf52c43dab7b27468bd4e95fa",
       "version_major": 2,
       "version_minor": 0
      },
      "text/plain": [
       "  0%|          | 0/2577 [00:00<?, ?it/s]"
      ]
     },
     "metadata": {},
     "output_type": "display_data"
    },
    {
     "name": "stdout",
     "output_type": "stream",
     "text": [
      "[Train] Accuracy: 83.6%, Avg loss: 0.393027 \n",
      "\n",
      "[Test] Accuracy: 81.3%, Avg loss: 0.471684 \n",
      "\n",
      "Epoch 795\n"
     ]
    },
    {
     "data": {
      "application/vnd.jupyter.widget-view+json": {
       "model_id": "1cf37228ba6e4c3d8f0f6212be5fd5cd",
       "version_major": 2,
       "version_minor": 0
      },
      "text/plain": [
       "  0%|          | 0/2577 [00:00<?, ?it/s]"
      ]
     },
     "metadata": {},
     "output_type": "display_data"
    },
    {
     "name": "stdout",
     "output_type": "stream",
     "text": [
      "[Train] Accuracy: 83.5%, Avg loss: 0.391808 \n",
      "\n",
      "[Test] Accuracy: 81.6%, Avg loss: 0.470645 \n",
      "\n",
      "Epoch 796\n"
     ]
    },
    {
     "data": {
      "application/vnd.jupyter.widget-view+json": {
       "model_id": "2a316a1cf788405f8525e16a0d6ac3a6",
       "version_major": 2,
       "version_minor": 0
      },
      "text/plain": [
       "  0%|          | 0/2577 [00:00<?, ?it/s]"
      ]
     },
     "metadata": {},
     "output_type": "display_data"
    },
    {
     "name": "stdout",
     "output_type": "stream",
     "text": [
      "[Train] Accuracy: 83.6%, Avg loss: 0.390924 \n",
      "\n",
      "[Test] Accuracy: 81.7%, Avg loss: 0.476912 \n",
      "\n",
      "Epoch 797\n"
     ]
    },
    {
     "data": {
      "application/vnd.jupyter.widget-view+json": {
       "model_id": "5929a9e1b6e4443984a3f6cc0c252199",
       "version_major": 2,
       "version_minor": 0
      },
      "text/plain": [
       "  0%|          | 0/2577 [00:00<?, ?it/s]"
      ]
     },
     "metadata": {},
     "output_type": "display_data"
    },
    {
     "name": "stdout",
     "output_type": "stream",
     "text": [
      "[Train] Accuracy: 83.5%, Avg loss: 0.392265 \n",
      "\n",
      "[Test] Accuracy: 81.2%, Avg loss: 0.458573 \n",
      "\n",
      "Epoch 798\n"
     ]
    },
    {
     "data": {
      "application/vnd.jupyter.widget-view+json": {
       "model_id": "673abf2a115c4e6fb6779f1c623ae12e",
       "version_major": 2,
       "version_minor": 0
      },
      "text/plain": [
       "  0%|          | 0/2577 [00:00<?, ?it/s]"
      ]
     },
     "metadata": {},
     "output_type": "display_data"
    },
    {
     "name": "stdout",
     "output_type": "stream",
     "text": [
      "[Train] Accuracy: 83.5%, Avg loss: 0.391989 \n",
      "\n",
      "[Test] Accuracy: 81.8%, Avg loss: 0.459699 \n",
      "\n",
      "Epoch 799\n"
     ]
    },
    {
     "data": {
      "application/vnd.jupyter.widget-view+json": {
       "model_id": "89cb4c1d2ee2408186daa594eff37f69",
       "version_major": 2,
       "version_minor": 0
      },
      "text/plain": [
       "  0%|          | 0/2577 [00:00<?, ?it/s]"
      ]
     },
     "metadata": {},
     "output_type": "display_data"
    },
    {
     "name": "stdout",
     "output_type": "stream",
     "text": [
      "[Train] Accuracy: 83.6%, Avg loss: 0.391782 \n",
      "\n",
      "[Test] Accuracy: 81.6%, Avg loss: 0.474224 \n",
      "\n",
      "Epoch 800\n"
     ]
    },
    {
     "data": {
      "application/vnd.jupyter.widget-view+json": {
       "model_id": "93773a8bfcd64e05b7a1aa251ca93ca7",
       "version_major": 2,
       "version_minor": 0
      },
      "text/plain": [
       "  0%|          | 0/2577 [00:00<?, ?it/s]"
      ]
     },
     "metadata": {},
     "output_type": "display_data"
    },
    {
     "name": "stdout",
     "output_type": "stream",
     "text": [
      "[Train] Accuracy: 83.6%, Avg loss: 0.392489 \n",
      "\n",
      "[Test] Accuracy: 81.6%, Avg loss: 0.470516 \n",
      "\n",
      "Epoch 801\n"
     ]
    },
    {
     "data": {
      "application/vnd.jupyter.widget-view+json": {
       "model_id": "7035ea721dac4c0c8fccff86c1248111",
       "version_major": 2,
       "version_minor": 0
      },
      "text/plain": [
       "  0%|          | 0/2577 [00:00<?, ?it/s]"
      ]
     },
     "metadata": {},
     "output_type": "display_data"
    },
    {
     "name": "stdout",
     "output_type": "stream",
     "text": [
      "[Train] Accuracy: 83.5%, Avg loss: 0.392991 \n",
      "\n",
      "[Test] Accuracy: 81.6%, Avg loss: 0.480015 \n",
      "\n",
      "Epoch 802\n"
     ]
    },
    {
     "data": {
      "application/vnd.jupyter.widget-view+json": {
       "model_id": "5f4039c4eef342c0ad1688c0f0e7aff8",
       "version_major": 2,
       "version_minor": 0
      },
      "text/plain": [
       "  0%|          | 0/2577 [00:00<?, ?it/s]"
      ]
     },
     "metadata": {},
     "output_type": "display_data"
    },
    {
     "name": "stdout",
     "output_type": "stream",
     "text": [
      "[Train] Accuracy: 83.5%, Avg loss: 0.392266 \n",
      "\n",
      "[Test] Accuracy: 81.5%, Avg loss: 0.474233 \n",
      "\n",
      "Epoch 803\n"
     ]
    },
    {
     "data": {
      "application/vnd.jupyter.widget-view+json": {
       "model_id": "d02a8ef2924b40dc8220ce4ad80e14b4",
       "version_major": 2,
       "version_minor": 0
      },
      "text/plain": [
       "  0%|          | 0/2577 [00:00<?, ?it/s]"
      ]
     },
     "metadata": {},
     "output_type": "display_data"
    },
    {
     "name": "stdout",
     "output_type": "stream",
     "text": [
      "[Train] Accuracy: 83.6%, Avg loss: 0.392285 \n",
      "\n",
      "[Test] Accuracy: 81.7%, Avg loss: 0.468099 \n",
      "\n",
      "Epoch 804\n"
     ]
    },
    {
     "data": {
      "application/vnd.jupyter.widget-view+json": {
       "model_id": "ae23bb8daba046f189210bd9e9946c1c",
       "version_major": 2,
       "version_minor": 0
      },
      "text/plain": [
       "  0%|          | 0/2577 [00:00<?, ?it/s]"
      ]
     },
     "metadata": {},
     "output_type": "display_data"
    },
    {
     "name": "stdout",
     "output_type": "stream",
     "text": [
      "[Train] Accuracy: 83.5%, Avg loss: 0.391983 \n",
      "\n",
      "[Test] Accuracy: 80.9%, Avg loss: 0.497131 \n",
      "\n",
      "Epoch 805\n"
     ]
    },
    {
     "data": {
      "application/vnd.jupyter.widget-view+json": {
       "model_id": "f3013ac168a34675996878dbf0a8d319",
       "version_major": 2,
       "version_minor": 0
      },
      "text/plain": [
       "  0%|          | 0/2577 [00:00<?, ?it/s]"
      ]
     },
     "metadata": {},
     "output_type": "display_data"
    },
    {
     "name": "stdout",
     "output_type": "stream",
     "text": [
      "[Train] Accuracy: 83.6%, Avg loss: 0.391665 \n",
      "\n",
      "[Test] Accuracy: 81.7%, Avg loss: 0.484438 \n",
      "\n",
      "Epoch 806\n"
     ]
    },
    {
     "data": {
      "application/vnd.jupyter.widget-view+json": {
       "model_id": "fc49c8f926924140a6159bb560e9ba59",
       "version_major": 2,
       "version_minor": 0
      },
      "text/plain": [
       "  0%|          | 0/2577 [00:00<?, ?it/s]"
      ]
     },
     "metadata": {},
     "output_type": "display_data"
    },
    {
     "name": "stdout",
     "output_type": "stream",
     "text": [
      "[Train] Accuracy: 83.6%, Avg loss: 0.390546 \n",
      "\n",
      "[Test] Accuracy: 81.2%, Avg loss: 0.470561 \n",
      "\n",
      "Epoch 807\n"
     ]
    },
    {
     "data": {
      "application/vnd.jupyter.widget-view+json": {
       "model_id": "0a1081321cf942519acff1599de33603",
       "version_major": 2,
       "version_minor": 0
      },
      "text/plain": [
       "  0%|          | 0/2577 [00:00<?, ?it/s]"
      ]
     },
     "metadata": {},
     "output_type": "display_data"
    },
    {
     "name": "stdout",
     "output_type": "stream",
     "text": [
      "[Train] Accuracy: 83.5%, Avg loss: 0.390800 \n",
      "\n",
      "[Test] Accuracy: 81.3%, Avg loss: 0.477107 \n",
      "\n",
      "Epoch 808\n"
     ]
    },
    {
     "data": {
      "application/vnd.jupyter.widget-view+json": {
       "model_id": "3f256c3972f84ab684db1bd0348f582f",
       "version_major": 2,
       "version_minor": 0
      },
      "text/plain": [
       "  0%|          | 0/2577 [00:00<?, ?it/s]"
      ]
     },
     "metadata": {},
     "output_type": "display_data"
    },
    {
     "name": "stdout",
     "output_type": "stream",
     "text": [
      "[Train] Accuracy: 83.6%, Avg loss: 0.391013 \n",
      "\n",
      "[Test] Accuracy: 81.6%, Avg loss: 0.477537 \n",
      "\n",
      "Epoch 809\n"
     ]
    },
    {
     "data": {
      "application/vnd.jupyter.widget-view+json": {
       "model_id": "ca522444ef294df1b7e80fb3ee2c288a",
       "version_major": 2,
       "version_minor": 0
      },
      "text/plain": [
       "  0%|          | 0/2577 [00:00<?, ?it/s]"
      ]
     },
     "metadata": {},
     "output_type": "display_data"
    },
    {
     "name": "stdout",
     "output_type": "stream",
     "text": [
      "[Train] Accuracy: 83.6%, Avg loss: 0.390550 \n",
      "\n",
      "[Test] Accuracy: 81.1%, Avg loss: 0.473119 \n",
      "\n",
      "Epoch 810\n"
     ]
    },
    {
     "data": {
      "application/vnd.jupyter.widget-view+json": {
       "model_id": "2c9bc1566c10487e8a35c07d2456060c",
       "version_major": 2,
       "version_minor": 0
      },
      "text/plain": [
       "  0%|          | 0/2577 [00:00<?, ?it/s]"
      ]
     },
     "metadata": {},
     "output_type": "display_data"
    },
    {
     "name": "stdout",
     "output_type": "stream",
     "text": [
      "[Train] Accuracy: 83.6%, Avg loss: 0.390446 \n",
      "\n",
      "[Test] Accuracy: 80.8%, Avg loss: 0.467088 \n",
      "\n",
      "Epoch 811\n"
     ]
    },
    {
     "data": {
      "application/vnd.jupyter.widget-view+json": {
       "model_id": "450225e876d8458bad6027125aa3ec84",
       "version_major": 2,
       "version_minor": 0
      },
      "text/plain": [
       "  0%|          | 0/2577 [00:00<?, ?it/s]"
      ]
     },
     "metadata": {},
     "output_type": "display_data"
    },
    {
     "name": "stdout",
     "output_type": "stream",
     "text": [
      "[Train] Accuracy: 83.6%, Avg loss: 0.390503 \n",
      "\n",
      "[Test] Accuracy: 81.6%, Avg loss: 0.469343 \n",
      "\n",
      "Epoch 812\n"
     ]
    },
    {
     "data": {
      "application/vnd.jupyter.widget-view+json": {
       "model_id": "cebf7423dff446b7a0cd1a61c8a083bc",
       "version_major": 2,
       "version_minor": 0
      },
      "text/plain": [
       "  0%|          | 0/2577 [00:00<?, ?it/s]"
      ]
     },
     "metadata": {},
     "output_type": "display_data"
    },
    {
     "name": "stdout",
     "output_type": "stream",
     "text": [
      "[Train] Accuracy: 83.6%, Avg loss: 0.391198 \n",
      "\n",
      "[Test] Accuracy: 81.8%, Avg loss: 0.466873 \n",
      "\n",
      "Epoch 813\n"
     ]
    },
    {
     "data": {
      "application/vnd.jupyter.widget-view+json": {
       "model_id": "b5f43f6b70da40a08cfd4163330f880d",
       "version_major": 2,
       "version_minor": 0
      },
      "text/plain": [
       "  0%|          | 0/2577 [00:00<?, ?it/s]"
      ]
     },
     "metadata": {},
     "output_type": "display_data"
    },
    {
     "name": "stdout",
     "output_type": "stream",
     "text": [
      "[Train] Accuracy: 83.7%, Avg loss: 0.391185 \n",
      "\n",
      "[Test] Accuracy: 81.6%, Avg loss: 0.458075 \n",
      "\n",
      "Epoch 814\n"
     ]
    },
    {
     "data": {
      "application/vnd.jupyter.widget-view+json": {
       "model_id": "4d4f25a898534f97946be9769ca8e2c4",
       "version_major": 2,
       "version_minor": 0
      },
      "text/plain": [
       "  0%|          | 0/2577 [00:00<?, ?it/s]"
      ]
     },
     "metadata": {},
     "output_type": "display_data"
    },
    {
     "name": "stdout",
     "output_type": "stream",
     "text": [
      "[Train] Accuracy: 83.7%, Avg loss: 0.390232 \n",
      "\n",
      "[Test] Accuracy: 79.8%, Avg loss: 0.485773 \n",
      "\n",
      "Epoch 815\n"
     ]
    },
    {
     "data": {
      "application/vnd.jupyter.widget-view+json": {
       "model_id": "ee0931b430e94f21bb4dbcc1a3092d06",
       "version_major": 2,
       "version_minor": 0
      },
      "text/plain": [
       "  0%|          | 0/2577 [00:00<?, ?it/s]"
      ]
     },
     "metadata": {},
     "output_type": "display_data"
    },
    {
     "name": "stdout",
     "output_type": "stream",
     "text": [
      "[Train] Accuracy: 83.6%, Avg loss: 0.390759 \n",
      "\n",
      "[Test] Accuracy: 81.7%, Avg loss: 0.465826 \n",
      "\n",
      "Epoch 816\n"
     ]
    },
    {
     "data": {
      "application/vnd.jupyter.widget-view+json": {
       "model_id": "01956b39ee3b4f7a80a026883a5fdd4a",
       "version_major": 2,
       "version_minor": 0
      },
      "text/plain": [
       "  0%|          | 0/2577 [00:00<?, ?it/s]"
      ]
     },
     "metadata": {},
     "output_type": "display_data"
    },
    {
     "name": "stdout",
     "output_type": "stream",
     "text": [
      "[Train] Accuracy: 83.6%, Avg loss: 0.391234 \n",
      "\n",
      "[Test] Accuracy: 81.8%, Avg loss: 0.491401 \n",
      "\n",
      "Epoch 817\n"
     ]
    },
    {
     "data": {
      "application/vnd.jupyter.widget-view+json": {
       "model_id": "29ea0b8e539f4b15a6fb7b44badd7706",
       "version_major": 2,
       "version_minor": 0
      },
      "text/plain": [
       "  0%|          | 0/2577 [00:00<?, ?it/s]"
      ]
     },
     "metadata": {},
     "output_type": "display_data"
    },
    {
     "name": "stdout",
     "output_type": "stream",
     "text": [
      "[Train] Accuracy: 83.6%, Avg loss: 0.390219 \n",
      "\n",
      "[Test] Accuracy: 81.6%, Avg loss: 0.466415 \n",
      "\n",
      "Epoch 818\n"
     ]
    },
    {
     "data": {
      "application/vnd.jupyter.widget-view+json": {
       "model_id": "a841ceb3a2ef4e25a634cdca67437d56",
       "version_major": 2,
       "version_minor": 0
      },
      "text/plain": [
       "  0%|          | 0/2577 [00:00<?, ?it/s]"
      ]
     },
     "metadata": {},
     "output_type": "display_data"
    },
    {
     "name": "stdout",
     "output_type": "stream",
     "text": [
      "[Train] Accuracy: 83.5%, Avg loss: 0.391462 \n",
      "\n",
      "[Test] Accuracy: 81.6%, Avg loss: 0.528906 \n",
      "\n",
      "Epoch 819\n"
     ]
    },
    {
     "data": {
      "application/vnd.jupyter.widget-view+json": {
       "model_id": "ad278841787445d6ac98bb2726bb6508",
       "version_major": 2,
       "version_minor": 0
      },
      "text/plain": [
       "  0%|          | 0/2577 [00:00<?, ?it/s]"
      ]
     },
     "metadata": {},
     "output_type": "display_data"
    },
    {
     "name": "stdout",
     "output_type": "stream",
     "text": [
      "[Train] Accuracy: 83.6%, Avg loss: 0.390482 \n",
      "\n",
      "[Test] Accuracy: 81.8%, Avg loss: 0.473950 \n",
      "\n",
      "Epoch 820\n"
     ]
    },
    {
     "data": {
      "application/vnd.jupyter.widget-view+json": {
       "model_id": "f7c032fce61c4f8db5b28e4e47c2f7d0",
       "version_major": 2,
       "version_minor": 0
      },
      "text/plain": [
       "  0%|          | 0/2577 [00:00<?, ?it/s]"
      ]
     },
     "metadata": {},
     "output_type": "display_data"
    },
    {
     "name": "stdout",
     "output_type": "stream",
     "text": [
      "[Train] Accuracy: 83.7%, Avg loss: 0.389761 \n",
      "\n",
      "[Test] Accuracy: 80.9%, Avg loss: 0.463077 \n",
      "\n",
      "Epoch 821\n"
     ]
    },
    {
     "data": {
      "application/vnd.jupyter.widget-view+json": {
       "model_id": "0852c046e899497597d57c7fbb71a7a1",
       "version_major": 2,
       "version_minor": 0
      },
      "text/plain": [
       "  0%|          | 0/2577 [00:00<?, ?it/s]"
      ]
     },
     "metadata": {},
     "output_type": "display_data"
    },
    {
     "name": "stdout",
     "output_type": "stream",
     "text": [
      "[Train] Accuracy: 83.6%, Avg loss: 0.390040 \n",
      "\n",
      "[Test] Accuracy: 81.8%, Avg loss: 0.473313 \n",
      "\n",
      "Epoch 822\n"
     ]
    },
    {
     "data": {
      "application/vnd.jupyter.widget-view+json": {
       "model_id": "6b69742e69eb4ec08af37dc68978e49d",
       "version_major": 2,
       "version_minor": 0
      },
      "text/plain": [
       "  0%|          | 0/2577 [00:00<?, ?it/s]"
      ]
     },
     "metadata": {},
     "output_type": "display_data"
    },
    {
     "name": "stdout",
     "output_type": "stream",
     "text": [
      "[Train] Accuracy: 83.6%, Avg loss: 0.391057 \n",
      "\n",
      "[Test] Accuracy: 81.6%, Avg loss: 0.472057 \n",
      "\n",
      "Epoch 823\n"
     ]
    },
    {
     "data": {
      "application/vnd.jupyter.widget-view+json": {
       "model_id": "db670f334d5e4cd9b45b1443f6d99d3b",
       "version_major": 2,
       "version_minor": 0
      },
      "text/plain": [
       "  0%|          | 0/2577 [00:00<?, ?it/s]"
      ]
     },
     "metadata": {},
     "output_type": "display_data"
    },
    {
     "name": "stdout",
     "output_type": "stream",
     "text": [
      "[Train] Accuracy: 83.6%, Avg loss: 0.390237 \n",
      "\n",
      "[Test] Accuracy: 81.8%, Avg loss: 0.465300 \n",
      "\n",
      "Epoch 824\n"
     ]
    },
    {
     "data": {
      "application/vnd.jupyter.widget-view+json": {
       "model_id": "567e2b90cae441f0bd5d04c9f81b6a87",
       "version_major": 2,
       "version_minor": 0
      },
      "text/plain": [
       "  0%|          | 0/2577 [00:00<?, ?it/s]"
      ]
     },
     "metadata": {},
     "output_type": "display_data"
    },
    {
     "name": "stdout",
     "output_type": "stream",
     "text": [
      "[Train] Accuracy: 83.6%, Avg loss: 0.389023 \n",
      "\n",
      "[Test] Accuracy: 81.8%, Avg loss: 0.479362 \n",
      "\n",
      "Epoch 825\n"
     ]
    },
    {
     "data": {
      "application/vnd.jupyter.widget-view+json": {
       "model_id": "d99de5f150a84e63bb491accc7ad2e9a",
       "version_major": 2,
       "version_minor": 0
      },
      "text/plain": [
       "  0%|          | 0/2577 [00:00<?, ?it/s]"
      ]
     },
     "metadata": {},
     "output_type": "display_data"
    },
    {
     "name": "stdout",
     "output_type": "stream",
     "text": [
      "[Train] Accuracy: 83.5%, Avg loss: 0.391036 \n",
      "\n",
      "[Test] Accuracy: 81.3%, Avg loss: 0.475365 \n",
      "\n",
      "Epoch 826\n"
     ]
    },
    {
     "data": {
      "application/vnd.jupyter.widget-view+json": {
       "model_id": "5e7ebf994fb542ab83b745058f364c25",
       "version_major": 2,
       "version_minor": 0
      },
      "text/plain": [
       "  0%|          | 0/2577 [00:00<?, ?it/s]"
      ]
     },
     "metadata": {},
     "output_type": "display_data"
    },
    {
     "name": "stdout",
     "output_type": "stream",
     "text": [
      "[Train] Accuracy: 83.6%, Avg loss: 0.389736 \n",
      "\n",
      "[Test] Accuracy: 81.6%, Avg loss: 0.465948 \n",
      "\n",
      "Epoch 827\n"
     ]
    },
    {
     "data": {
      "application/vnd.jupyter.widget-view+json": {
       "model_id": "72d1bf82802a4504992873717db07d30",
       "version_major": 2,
       "version_minor": 0
      },
      "text/plain": [
       "  0%|          | 0/2577 [00:00<?, ?it/s]"
      ]
     },
     "metadata": {},
     "output_type": "display_data"
    },
    {
     "name": "stdout",
     "output_type": "stream",
     "text": [
      "[Train] Accuracy: 83.6%, Avg loss: 0.390082 \n",
      "\n",
      "[Test] Accuracy: 81.8%, Avg loss: 0.473264 \n",
      "\n",
      "Epoch 828\n"
     ]
    },
    {
     "data": {
      "application/vnd.jupyter.widget-view+json": {
       "model_id": "ecfee811b9244dc39054239b08302c47",
       "version_major": 2,
       "version_minor": 0
      },
      "text/plain": [
       "  0%|          | 0/2577 [00:00<?, ?it/s]"
      ]
     },
     "metadata": {},
     "output_type": "display_data"
    },
    {
     "name": "stdout",
     "output_type": "stream",
     "text": [
      "[Train] Accuracy: 83.6%, Avg loss: 0.390593 \n",
      "\n",
      "[Test] Accuracy: 81.8%, Avg loss: 0.464588 \n",
      "\n",
      "Epoch 829\n"
     ]
    },
    {
     "data": {
      "application/vnd.jupyter.widget-view+json": {
       "model_id": "933a5343ffcd484ab6c5935acae96696",
       "version_major": 2,
       "version_minor": 0
      },
      "text/plain": [
       "  0%|          | 0/2577 [00:00<?, ?it/s]"
      ]
     },
     "metadata": {},
     "output_type": "display_data"
    },
    {
     "name": "stdout",
     "output_type": "stream",
     "text": [
      "[Train] Accuracy: 83.6%, Avg loss: 0.390721 \n",
      "\n",
      "[Test] Accuracy: 81.6%, Avg loss: 0.468906 \n",
      "\n",
      "Epoch 830\n"
     ]
    },
    {
     "data": {
      "application/vnd.jupyter.widget-view+json": {
       "model_id": "f2301d70c843400283d8976c2813a70f",
       "version_major": 2,
       "version_minor": 0
      },
      "text/plain": [
       "  0%|          | 0/2577 [00:00<?, ?it/s]"
      ]
     },
     "metadata": {},
     "output_type": "display_data"
    },
    {
     "name": "stdout",
     "output_type": "stream",
     "text": [
      "[Train] Accuracy: 83.5%, Avg loss: 0.390343 \n",
      "\n",
      "[Test] Accuracy: 80.8%, Avg loss: 0.493039 \n",
      "\n",
      "Epoch 831\n"
     ]
    },
    {
     "data": {
      "application/vnd.jupyter.widget-view+json": {
       "model_id": "04eaf7d82f0f4aacae2fc4847773cc6c",
       "version_major": 2,
       "version_minor": 0
      },
      "text/plain": [
       "  0%|          | 0/2577 [00:00<?, ?it/s]"
      ]
     },
     "metadata": {},
     "output_type": "display_data"
    },
    {
     "name": "stdout",
     "output_type": "stream",
     "text": [
      "[Train] Accuracy: 83.6%, Avg loss: 0.389082 \n",
      "\n",
      "[Test] Accuracy: 81.0%, Avg loss: 0.468034 \n",
      "\n",
      "Epoch 832\n"
     ]
    },
    {
     "data": {
      "application/vnd.jupyter.widget-view+json": {
       "model_id": "198837027d534b4d8cb91fa0128ed119",
       "version_major": 2,
       "version_minor": 0
      },
      "text/plain": [
       "  0%|          | 0/2577 [00:00<?, ?it/s]"
      ]
     },
     "metadata": {},
     "output_type": "display_data"
    },
    {
     "name": "stdout",
     "output_type": "stream",
     "text": [
      "[Train] Accuracy: 83.6%, Avg loss: 0.389915 \n",
      "\n",
      "[Test] Accuracy: 80.5%, Avg loss: 0.501355 \n",
      "\n",
      "Epoch 833\n"
     ]
    },
    {
     "data": {
      "application/vnd.jupyter.widget-view+json": {
       "model_id": "bed379164b35421982fcbbd614a739ee",
       "version_major": 2,
       "version_minor": 0
      },
      "text/plain": [
       "  0%|          | 0/2577 [00:00<?, ?it/s]"
      ]
     },
     "metadata": {},
     "output_type": "display_data"
    },
    {
     "name": "stdout",
     "output_type": "stream",
     "text": [
      "[Train] Accuracy: 83.7%, Avg loss: 0.388596 \n",
      "\n",
      "[Test] Accuracy: 81.0%, Avg loss: 0.488599 \n",
      "\n",
      "Epoch 834\n"
     ]
    },
    {
     "data": {
      "application/vnd.jupyter.widget-view+json": {
       "model_id": "e634a620977544449a656988bb70e765",
       "version_major": 2,
       "version_minor": 0
      },
      "text/plain": [
       "  0%|          | 0/2577 [00:00<?, ?it/s]"
      ]
     },
     "metadata": {},
     "output_type": "display_data"
    },
    {
     "name": "stdout",
     "output_type": "stream",
     "text": [
      "[Train] Accuracy: 83.7%, Avg loss: 0.389142 \n",
      "\n",
      "[Test] Accuracy: 81.7%, Avg loss: 0.468705 \n",
      "\n",
      "Epoch 835\n"
     ]
    },
    {
     "data": {
      "application/vnd.jupyter.widget-view+json": {
       "model_id": "8300c0e56e904c78bfa58428f5f2aa79",
       "version_major": 2,
       "version_minor": 0
      },
      "text/plain": [
       "  0%|          | 0/2577 [00:00<?, ?it/s]"
      ]
     },
     "metadata": {},
     "output_type": "display_data"
    },
    {
     "name": "stdout",
     "output_type": "stream",
     "text": [
      "[Train] Accuracy: 83.6%, Avg loss: 0.389247 \n",
      "\n",
      "[Test] Accuracy: 81.9%, Avg loss: 0.464572 \n",
      "\n",
      "Epoch 836\n"
     ]
    },
    {
     "data": {
      "application/vnd.jupyter.widget-view+json": {
       "model_id": "e61705358dfe4e5c83fcebdf15dc2e7a",
       "version_major": 2,
       "version_minor": 0
      },
      "text/plain": [
       "  0%|          | 0/2577 [00:00<?, ?it/s]"
      ]
     },
     "metadata": {},
     "output_type": "display_data"
    },
    {
     "name": "stdout",
     "output_type": "stream",
     "text": [
      "[Train] Accuracy: 83.6%, Avg loss: 0.388927 \n",
      "\n",
      "[Test] Accuracy: 81.6%, Avg loss: 0.463141 \n",
      "\n",
      "Epoch 837\n"
     ]
    },
    {
     "data": {
      "application/vnd.jupyter.widget-view+json": {
       "model_id": "d7c39a5b278c4be0ab1b3e89f3482240",
       "version_major": 2,
       "version_minor": 0
      },
      "text/plain": [
       "  0%|          | 0/2577 [00:00<?, ?it/s]"
      ]
     },
     "metadata": {},
     "output_type": "display_data"
    },
    {
     "name": "stdout",
     "output_type": "stream",
     "text": [
      "[Train] Accuracy: 83.7%, Avg loss: 0.388355 \n",
      "\n",
      "[Test] Accuracy: 81.3%, Avg loss: 0.479305 \n",
      "\n",
      "Epoch 838\n"
     ]
    },
    {
     "data": {
      "application/vnd.jupyter.widget-view+json": {
       "model_id": "5e77afd0fda7498ab15eca81ccbdf6d5",
       "version_major": 2,
       "version_minor": 0
      },
      "text/plain": [
       "  0%|          | 0/2577 [00:00<?, ?it/s]"
      ]
     },
     "metadata": {},
     "output_type": "display_data"
    },
    {
     "name": "stdout",
     "output_type": "stream",
     "text": [
      "[Train] Accuracy: 83.7%, Avg loss: 0.389350 \n",
      "\n",
      "[Test] Accuracy: 81.8%, Avg loss: 0.471257 \n",
      "\n",
      "Epoch 839\n"
     ]
    },
    {
     "data": {
      "application/vnd.jupyter.widget-view+json": {
       "model_id": "4effc3c25113402bbc9c4c9376dc195e",
       "version_major": 2,
       "version_minor": 0
      },
      "text/plain": [
       "  0%|          | 0/2577 [00:00<?, ?it/s]"
      ]
     },
     "metadata": {},
     "output_type": "display_data"
    },
    {
     "name": "stdout",
     "output_type": "stream",
     "text": [
      "[Train] Accuracy: 83.6%, Avg loss: 0.389385 \n",
      "\n",
      "[Test] Accuracy: 81.6%, Avg loss: 0.461089 \n",
      "\n",
      "Epoch 840\n"
     ]
    },
    {
     "data": {
      "application/vnd.jupyter.widget-view+json": {
       "model_id": "3021248b268c4997a58332e7cd119958",
       "version_major": 2,
       "version_minor": 0
      },
      "text/plain": [
       "  0%|          | 0/2577 [00:00<?, ?it/s]"
      ]
     },
     "metadata": {},
     "output_type": "display_data"
    },
    {
     "name": "stdout",
     "output_type": "stream",
     "text": [
      "[Train] Accuracy: 83.6%, Avg loss: 0.388937 \n",
      "\n",
      "[Test] Accuracy: 80.8%, Avg loss: 0.470951 \n",
      "\n",
      "Epoch 841\n"
     ]
    },
    {
     "data": {
      "application/vnd.jupyter.widget-view+json": {
       "model_id": "6628adb162524ea795281320f2da1c44",
       "version_major": 2,
       "version_minor": 0
      },
      "text/plain": [
       "  0%|          | 0/2577 [00:00<?, ?it/s]"
      ]
     },
     "metadata": {},
     "output_type": "display_data"
    },
    {
     "name": "stdout",
     "output_type": "stream",
     "text": [
      "[Train] Accuracy: 83.6%, Avg loss: 0.389396 \n",
      "\n",
      "[Test] Accuracy: 81.5%, Avg loss: 0.473967 \n",
      "\n",
      "Epoch 842\n"
     ]
    },
    {
     "data": {
      "application/vnd.jupyter.widget-view+json": {
       "model_id": "ac588b737a9c4a77a4721b116a0e5d3d",
       "version_major": 2,
       "version_minor": 0
      },
      "text/plain": [
       "  0%|          | 0/2577 [00:00<?, ?it/s]"
      ]
     },
     "metadata": {},
     "output_type": "display_data"
    },
    {
     "name": "stdout",
     "output_type": "stream",
     "text": [
      "[Train] Accuracy: 83.6%, Avg loss: 0.387973 \n",
      "\n",
      "[Test] Accuracy: 81.5%, Avg loss: 0.469236 \n",
      "\n",
      "Epoch 843\n"
     ]
    },
    {
     "data": {
      "application/vnd.jupyter.widget-view+json": {
       "model_id": "5969e7356c984f4bb8e4bfe17ad5fe65",
       "version_major": 2,
       "version_minor": 0
      },
      "text/plain": [
       "  0%|          | 0/2577 [00:00<?, ?it/s]"
      ]
     },
     "metadata": {},
     "output_type": "display_data"
    },
    {
     "name": "stdout",
     "output_type": "stream",
     "text": [
      "[Train] Accuracy: 83.6%, Avg loss: 0.388598 \n",
      "\n",
      "[Test] Accuracy: 80.6%, Avg loss: 0.487613 \n",
      "\n",
      "Epoch 844\n"
     ]
    },
    {
     "data": {
      "application/vnd.jupyter.widget-view+json": {
       "model_id": "7814b78a8dba48bd929f2542ed28b78f",
       "version_major": 2,
       "version_minor": 0
      },
      "text/plain": [
       "  0%|          | 0/2577 [00:00<?, ?it/s]"
      ]
     },
     "metadata": {},
     "output_type": "display_data"
    },
    {
     "name": "stdout",
     "output_type": "stream",
     "text": [
      "[Train] Accuracy: 83.6%, Avg loss: 0.388740 \n",
      "\n",
      "[Test] Accuracy: 81.7%, Avg loss: 0.499432 \n",
      "\n",
      "Epoch 845\n"
     ]
    },
    {
     "data": {
      "application/vnd.jupyter.widget-view+json": {
       "model_id": "545823a1f88044f48c4b02af7116afe4",
       "version_major": 2,
       "version_minor": 0
      },
      "text/plain": [
       "  0%|          | 0/2577 [00:00<?, ?it/s]"
      ]
     },
     "metadata": {},
     "output_type": "display_data"
    },
    {
     "name": "stdout",
     "output_type": "stream",
     "text": [
      "[Train] Accuracy: 83.7%, Avg loss: 0.388515 \n",
      "\n",
      "[Test] Accuracy: 81.6%, Avg loss: 0.473044 \n",
      "\n",
      "Epoch 846\n"
     ]
    },
    {
     "data": {
      "application/vnd.jupyter.widget-view+json": {
       "model_id": "de80533d01a84d579ad65df757c36c71",
       "version_major": 2,
       "version_minor": 0
      },
      "text/plain": [
       "  0%|          | 0/2577 [00:00<?, ?it/s]"
      ]
     },
     "metadata": {},
     "output_type": "display_data"
    },
    {
     "name": "stdout",
     "output_type": "stream",
     "text": [
      "[Train] Accuracy: 83.8%, Avg loss: 0.388120 \n",
      "\n",
      "[Test] Accuracy: 81.6%, Avg loss: 0.466443 \n",
      "\n",
      "Epoch 847\n"
     ]
    },
    {
     "data": {
      "application/vnd.jupyter.widget-view+json": {
       "model_id": "c4c9febdbe0544c0b989fe787ecba664",
       "version_major": 2,
       "version_minor": 0
      },
      "text/plain": [
       "  0%|          | 0/2577 [00:00<?, ?it/s]"
      ]
     },
     "metadata": {},
     "output_type": "display_data"
    },
    {
     "name": "stdout",
     "output_type": "stream",
     "text": [
      "[Train] Accuracy: 83.6%, Avg loss: 0.389718 \n",
      "\n",
      "[Test] Accuracy: 81.8%, Avg loss: 0.466692 \n",
      "\n",
      "Epoch 848\n"
     ]
    },
    {
     "data": {
      "application/vnd.jupyter.widget-view+json": {
       "model_id": "3fa96bb734c9418d99d1ce771e44a58d",
       "version_major": 2,
       "version_minor": 0
      },
      "text/plain": [
       "  0%|          | 0/2577 [00:00<?, ?it/s]"
      ]
     },
     "metadata": {},
     "output_type": "display_data"
    },
    {
     "name": "stdout",
     "output_type": "stream",
     "text": [
      "[Train] Accuracy: 83.7%, Avg loss: 0.387852 \n",
      "\n",
      "[Test] Accuracy: 81.5%, Avg loss: 0.468672 \n",
      "\n",
      "Epoch 849\n"
     ]
    },
    {
     "data": {
      "application/vnd.jupyter.widget-view+json": {
       "model_id": "1bb43e630ccc4cb69bc3639a44d60890",
       "version_major": 2,
       "version_minor": 0
      },
      "text/plain": [
       "  0%|          | 0/2577 [00:00<?, ?it/s]"
      ]
     },
     "metadata": {},
     "output_type": "display_data"
    },
    {
     "name": "stdout",
     "output_type": "stream",
     "text": [
      "[Train] Accuracy: 83.7%, Avg loss: 0.388214 \n",
      "\n",
      "[Test] Accuracy: 81.6%, Avg loss: 0.504989 \n",
      "\n",
      "Epoch 850\n"
     ]
    },
    {
     "data": {
      "application/vnd.jupyter.widget-view+json": {
       "model_id": "5a5c8203b3bb43b9b0b9d7fc924a0c64",
       "version_major": 2,
       "version_minor": 0
      },
      "text/plain": [
       "  0%|          | 0/2577 [00:00<?, ?it/s]"
      ]
     },
     "metadata": {},
     "output_type": "display_data"
    },
    {
     "name": "stdout",
     "output_type": "stream",
     "text": [
      "[Train] Accuracy: 83.7%, Avg loss: 0.388192 \n",
      "\n",
      "[Test] Accuracy: 81.7%, Avg loss: 0.466854 \n",
      "\n",
      "Epoch 851\n"
     ]
    },
    {
     "data": {
      "application/vnd.jupyter.widget-view+json": {
       "model_id": "196c24bed1dc4013be230773245b4404",
       "version_major": 2,
       "version_minor": 0
      },
      "text/plain": [
       "  0%|          | 0/2577 [00:00<?, ?it/s]"
      ]
     },
     "metadata": {},
     "output_type": "display_data"
    },
    {
     "name": "stdout",
     "output_type": "stream",
     "text": [
      "[Train] Accuracy: 83.7%, Avg loss: 0.387351 \n",
      "\n",
      "[Test] Accuracy: 80.4%, Avg loss: 0.483539 \n",
      "\n",
      "Epoch 852\n"
     ]
    },
    {
     "data": {
      "application/vnd.jupyter.widget-view+json": {
       "model_id": "85737c13e41a41f1be946b5a56a7e5ff",
       "version_major": 2,
       "version_minor": 0
      },
      "text/plain": [
       "  0%|          | 0/2577 [00:00<?, ?it/s]"
      ]
     },
     "metadata": {},
     "output_type": "display_data"
    },
    {
     "name": "stdout",
     "output_type": "stream",
     "text": [
      "[Train] Accuracy: 83.6%, Avg loss: 0.388120 \n",
      "\n",
      "[Test] Accuracy: 81.8%, Avg loss: 0.471446 \n",
      "\n",
      "Epoch 853\n"
     ]
    },
    {
     "data": {
      "application/vnd.jupyter.widget-view+json": {
       "model_id": "1f9b445511ae482e8808fba6998f6dcf",
       "version_major": 2,
       "version_minor": 0
      },
      "text/plain": [
       "  0%|          | 0/2577 [00:00<?, ?it/s]"
      ]
     },
     "metadata": {},
     "output_type": "display_data"
    },
    {
     "name": "stdout",
     "output_type": "stream",
     "text": [
      "[Train] Accuracy: 83.7%, Avg loss: 0.389637 \n",
      "\n",
      "[Test] Accuracy: 81.7%, Avg loss: 0.468201 \n",
      "\n",
      "Epoch 854\n"
     ]
    },
    {
     "data": {
      "application/vnd.jupyter.widget-view+json": {
       "model_id": "3764ea5a8a80479d88fc2eeb6ce4852f",
       "version_major": 2,
       "version_minor": 0
      },
      "text/plain": [
       "  0%|          | 0/2577 [00:00<?, ?it/s]"
      ]
     },
     "metadata": {},
     "output_type": "display_data"
    },
    {
     "name": "stdout",
     "output_type": "stream",
     "text": [
      "[Train] Accuracy: 83.7%, Avg loss: 0.387992 \n",
      "\n",
      "[Test] Accuracy: 81.0%, Avg loss: 0.526544 \n",
      "\n",
      "Epoch 855\n"
     ]
    },
    {
     "data": {
      "application/vnd.jupyter.widget-view+json": {
       "model_id": "aefde50a6f9444999467cc47d842d3de",
       "version_major": 2,
       "version_minor": 0
      },
      "text/plain": [
       "  0%|          | 0/2577 [00:00<?, ?it/s]"
      ]
     },
     "metadata": {},
     "output_type": "display_data"
    },
    {
     "name": "stdout",
     "output_type": "stream",
     "text": [
      "[Train] Accuracy: 83.7%, Avg loss: 0.387895 \n",
      "\n",
      "[Test] Accuracy: 81.2%, Avg loss: 0.472553 \n",
      "\n",
      "Epoch 856\n"
     ]
    },
    {
     "data": {
      "application/vnd.jupyter.widget-view+json": {
       "model_id": "85a3a330992a4c0c90f3731f5ae04104",
       "version_major": 2,
       "version_minor": 0
      },
      "text/plain": [
       "  0%|          | 0/2577 [00:00<?, ?it/s]"
      ]
     },
     "metadata": {},
     "output_type": "display_data"
    },
    {
     "name": "stdout",
     "output_type": "stream",
     "text": [
      "[Train] Accuracy: 83.7%, Avg loss: 0.388173 \n",
      "\n",
      "[Test] Accuracy: 81.5%, Avg loss: 0.558279 \n",
      "\n",
      "Epoch 857\n"
     ]
    },
    {
     "data": {
      "application/vnd.jupyter.widget-view+json": {
       "model_id": "a63c5fc22ecb4afe9e92262d605946b2",
       "version_major": 2,
       "version_minor": 0
      },
      "text/plain": [
       "  0%|          | 0/2577 [00:00<?, ?it/s]"
      ]
     },
     "metadata": {},
     "output_type": "display_data"
    },
    {
     "name": "stdout",
     "output_type": "stream",
     "text": [
      "[Train] Accuracy: 83.7%, Avg loss: 0.387003 \n",
      "\n",
      "[Test] Accuracy: 80.8%, Avg loss: 0.481409 \n",
      "\n",
      "Epoch 858\n"
     ]
    },
    {
     "data": {
      "application/vnd.jupyter.widget-view+json": {
       "model_id": "e01895fb8fb044b58bc8efd55d8813bf",
       "version_major": 2,
       "version_minor": 0
      },
      "text/plain": [
       "  0%|          | 0/2577 [00:00<?, ?it/s]"
      ]
     },
     "metadata": {},
     "output_type": "display_data"
    },
    {
     "name": "stdout",
     "output_type": "stream",
     "text": [
      "[Train] Accuracy: 83.7%, Avg loss: 0.387022 \n",
      "\n",
      "[Test] Accuracy: 80.2%, Avg loss: 0.475589 \n",
      "\n",
      "Epoch 859\n"
     ]
    },
    {
     "data": {
      "application/vnd.jupyter.widget-view+json": {
       "model_id": "5e3b29b0f09b4516ba8d3a2696d96256",
       "version_major": 2,
       "version_minor": 0
      },
      "text/plain": [
       "  0%|          | 0/2577 [00:00<?, ?it/s]"
      ]
     },
     "metadata": {},
     "output_type": "display_data"
    },
    {
     "name": "stdout",
     "output_type": "stream",
     "text": [
      "[Train] Accuracy: 83.7%, Avg loss: 0.387769 \n",
      "\n",
      "[Test] Accuracy: 81.7%, Avg loss: 0.470242 \n",
      "\n",
      "Epoch 860\n"
     ]
    },
    {
     "data": {
      "application/vnd.jupyter.widget-view+json": {
       "model_id": "c6a6a6cc5f7a480e85fa27bc6750cb35",
       "version_major": 2,
       "version_minor": 0
      },
      "text/plain": [
       "  0%|          | 0/2577 [00:00<?, ?it/s]"
      ]
     },
     "metadata": {},
     "output_type": "display_data"
    },
    {
     "name": "stdout",
     "output_type": "stream",
     "text": [
      "[Train] Accuracy: 83.7%, Avg loss: 0.387315 \n",
      "\n",
      "[Test] Accuracy: 81.5%, Avg loss: 0.537470 \n",
      "\n",
      "Epoch 861\n"
     ]
    },
    {
     "data": {
      "application/vnd.jupyter.widget-view+json": {
       "model_id": "3c37c26e92984e2f9919642911347fa8",
       "version_major": 2,
       "version_minor": 0
      },
      "text/plain": [
       "  0%|          | 0/2577 [00:00<?, ?it/s]"
      ]
     },
     "metadata": {},
     "output_type": "display_data"
    },
    {
     "name": "stdout",
     "output_type": "stream",
     "text": [
      "[Train] Accuracy: 83.7%, Avg loss: 0.386915 \n",
      "\n",
      "[Test] Accuracy: 81.9%, Avg loss: 0.473104 \n",
      "\n",
      "Epoch 862\n"
     ]
    },
    {
     "data": {
      "application/vnd.jupyter.widget-view+json": {
       "model_id": "f455174c5286452b9323a65a834fa052",
       "version_major": 2,
       "version_minor": 0
      },
      "text/plain": [
       "  0%|          | 0/2577 [00:00<?, ?it/s]"
      ]
     },
     "metadata": {},
     "output_type": "display_data"
    },
    {
     "name": "stdout",
     "output_type": "stream",
     "text": [
      "[Train] Accuracy: 83.7%, Avg loss: 0.387689 \n",
      "\n",
      "[Test] Accuracy: 81.8%, Avg loss: 0.481691 \n",
      "\n",
      "Epoch 863\n"
     ]
    },
    {
     "data": {
      "application/vnd.jupyter.widget-view+json": {
       "model_id": "216105f4e40d4cb19ff4cf64b06644e4",
       "version_major": 2,
       "version_minor": 0
      },
      "text/plain": [
       "  0%|          | 0/2577 [00:00<?, ?it/s]"
      ]
     },
     "metadata": {},
     "output_type": "display_data"
    },
    {
     "name": "stdout",
     "output_type": "stream",
     "text": [
      "[Train] Accuracy: 83.8%, Avg loss: 0.387175 \n",
      "\n",
      "[Test] Accuracy: 81.7%, Avg loss: 0.468595 \n",
      "\n",
      "Epoch 864\n"
     ]
    },
    {
     "data": {
      "application/vnd.jupyter.widget-view+json": {
       "model_id": "1a291ec88ef9403eafa1027c8cd6c457",
       "version_major": 2,
       "version_minor": 0
      },
      "text/plain": [
       "  0%|          | 0/2577 [00:00<?, ?it/s]"
      ]
     },
     "metadata": {},
     "output_type": "display_data"
    },
    {
     "name": "stdout",
     "output_type": "stream",
     "text": [
      "[Train] Accuracy: 83.7%, Avg loss: 0.387000 \n",
      "\n",
      "[Test] Accuracy: 80.7%, Avg loss: 0.470233 \n",
      "\n",
      "Epoch 865\n"
     ]
    },
    {
     "data": {
      "application/vnd.jupyter.widget-view+json": {
       "model_id": "5efac13fdf744575a93faefa99c4407c",
       "version_major": 2,
       "version_minor": 0
      },
      "text/plain": [
       "  0%|          | 0/2577 [00:00<?, ?it/s]"
      ]
     },
     "metadata": {},
     "output_type": "display_data"
    },
    {
     "name": "stdout",
     "output_type": "stream",
     "text": [
      "[Train] Accuracy: 83.6%, Avg loss: 0.387990 \n",
      "\n",
      "[Test] Accuracy: 81.4%, Avg loss: 0.476566 \n",
      "\n",
      "Epoch 866\n"
     ]
    },
    {
     "data": {
      "application/vnd.jupyter.widget-view+json": {
       "model_id": "d452659d16744551b53e8d0943c82b58",
       "version_major": 2,
       "version_minor": 0
      },
      "text/plain": [
       "  0%|          | 0/2577 [00:00<?, ?it/s]"
      ]
     },
     "metadata": {},
     "output_type": "display_data"
    },
    {
     "name": "stdout",
     "output_type": "stream",
     "text": [
      "[Train] Accuracy: 83.7%, Avg loss: 0.386276 \n",
      "\n",
      "[Test] Accuracy: 81.7%, Avg loss: 0.474776 \n",
      "\n",
      "Epoch 867\n"
     ]
    },
    {
     "data": {
      "application/vnd.jupyter.widget-view+json": {
       "model_id": "45e01f588f89414189483c26b524317b",
       "version_major": 2,
       "version_minor": 0
      },
      "text/plain": [
       "  0%|          | 0/2577 [00:00<?, ?it/s]"
      ]
     },
     "metadata": {},
     "output_type": "display_data"
    },
    {
     "name": "stdout",
     "output_type": "stream",
     "text": [
      "[Train] Accuracy: 83.8%, Avg loss: 0.385357 \n",
      "\n",
      "[Test] Accuracy: 81.5%, Avg loss: 0.490216 \n",
      "\n",
      "Epoch 868\n"
     ]
    },
    {
     "data": {
      "application/vnd.jupyter.widget-view+json": {
       "model_id": "a9f815abc11b47c9b586d0762269816f",
       "version_major": 2,
       "version_minor": 0
      },
      "text/plain": [
       "  0%|          | 0/2577 [00:00<?, ?it/s]"
      ]
     },
     "metadata": {},
     "output_type": "display_data"
    },
    {
     "name": "stdout",
     "output_type": "stream",
     "text": [
      "[Train] Accuracy: 83.7%, Avg loss: 0.387206 \n",
      "\n",
      "[Test] Accuracy: 80.8%, Avg loss: 0.478770 \n",
      "\n",
      "Epoch 869\n"
     ]
    },
    {
     "data": {
      "application/vnd.jupyter.widget-view+json": {
       "model_id": "285a2d5957cf4603b5771277518b797d",
       "version_major": 2,
       "version_minor": 0
      },
      "text/plain": [
       "  0%|          | 0/2577 [00:00<?, ?it/s]"
      ]
     },
     "metadata": {},
     "output_type": "display_data"
    },
    {
     "name": "stdout",
     "output_type": "stream",
     "text": [
      "[Train] Accuracy: 83.7%, Avg loss: 0.387325 \n",
      "\n",
      "[Test] Accuracy: 81.7%, Avg loss: 0.476612 \n",
      "\n",
      "Epoch 870\n"
     ]
    },
    {
     "data": {
      "application/vnd.jupyter.widget-view+json": {
       "model_id": "c4a16dfe663e443c89423e773e5a60f8",
       "version_major": 2,
       "version_minor": 0
      },
      "text/plain": [
       "  0%|          | 0/2577 [00:00<?, ?it/s]"
      ]
     },
     "metadata": {},
     "output_type": "display_data"
    },
    {
     "name": "stdout",
     "output_type": "stream",
     "text": [
      "[Train] Accuracy: 83.7%, Avg loss: 0.386556 \n",
      "\n",
      "[Test] Accuracy: 81.8%, Avg loss: 0.478831 \n",
      "\n",
      "Epoch 871\n"
     ]
    },
    {
     "data": {
      "application/vnd.jupyter.widget-view+json": {
       "model_id": "e5345a0edb604e119879e2bf36ecde57",
       "version_major": 2,
       "version_minor": 0
      },
      "text/plain": [
       "  0%|          | 0/2577 [00:00<?, ?it/s]"
      ]
     },
     "metadata": {},
     "output_type": "display_data"
    },
    {
     "name": "stdout",
     "output_type": "stream",
     "text": [
      "[Train] Accuracy: 83.8%, Avg loss: 0.385762 \n",
      "\n",
      "[Test] Accuracy: 81.6%, Avg loss: 0.531458 \n",
      "\n",
      "Epoch 872\n"
     ]
    },
    {
     "data": {
      "application/vnd.jupyter.widget-view+json": {
       "model_id": "c259dd3fd1dc4d66b81f9f9f8eb1211f",
       "version_major": 2,
       "version_minor": 0
      },
      "text/plain": [
       "  0%|          | 0/2577 [00:00<?, ?it/s]"
      ]
     },
     "metadata": {},
     "output_type": "display_data"
    },
    {
     "name": "stdout",
     "output_type": "stream",
     "text": [
      "[Train] Accuracy: 83.8%, Avg loss: 0.387126 \n",
      "\n",
      "[Test] Accuracy: 81.9%, Avg loss: 0.465128 \n",
      "\n",
      "Epoch 873\n"
     ]
    },
    {
     "data": {
      "application/vnd.jupyter.widget-view+json": {
       "model_id": "b19c888224c14db0830ee04ca180c2b4",
       "version_major": 2,
       "version_minor": 0
      },
      "text/plain": [
       "  0%|          | 0/2577 [00:00<?, ?it/s]"
      ]
     },
     "metadata": {},
     "output_type": "display_data"
    },
    {
     "name": "stdout",
     "output_type": "stream",
     "text": [
      "[Train] Accuracy: 83.7%, Avg loss: 0.386740 \n",
      "\n",
      "[Test] Accuracy: 81.4%, Avg loss: 0.468020 \n",
      "\n",
      "Epoch 874\n"
     ]
    },
    {
     "data": {
      "application/vnd.jupyter.widget-view+json": {
       "model_id": "1149ad9ae7884b9d88a3d83a1ef4d21e",
       "version_major": 2,
       "version_minor": 0
      },
      "text/plain": [
       "  0%|          | 0/2577 [00:00<?, ?it/s]"
      ]
     },
     "metadata": {},
     "output_type": "display_data"
    },
    {
     "name": "stdout",
     "output_type": "stream",
     "text": [
      "[Train] Accuracy: 83.8%, Avg loss: 0.386339 \n",
      "\n",
      "[Test] Accuracy: 81.7%, Avg loss: 0.480804 \n",
      "\n",
      "Epoch 875\n"
     ]
    },
    {
     "data": {
      "application/vnd.jupyter.widget-view+json": {
       "model_id": "378647b82902442c90aa122e3a74642c",
       "version_major": 2,
       "version_minor": 0
      },
      "text/plain": [
       "  0%|          | 0/2577 [00:00<?, ?it/s]"
      ]
     },
     "metadata": {},
     "output_type": "display_data"
    },
    {
     "name": "stdout",
     "output_type": "stream",
     "text": [
      "[Train] Accuracy: 83.7%, Avg loss: 0.386611 \n",
      "\n",
      "[Test] Accuracy: 81.9%, Avg loss: 0.479522 \n",
      "\n",
      "Epoch 876\n"
     ]
    },
    {
     "data": {
      "application/vnd.jupyter.widget-view+json": {
       "model_id": "ed12b4d3b9d74a53acd095b76560f495",
       "version_major": 2,
       "version_minor": 0
      },
      "text/plain": [
       "  0%|          | 0/2577 [00:00<?, ?it/s]"
      ]
     },
     "metadata": {},
     "output_type": "display_data"
    },
    {
     "name": "stdout",
     "output_type": "stream",
     "text": [
      "[Train] Accuracy: 83.8%, Avg loss: 0.385693 \n",
      "\n",
      "[Test] Accuracy: 81.8%, Avg loss: 0.482979 \n",
      "\n",
      "Epoch 877\n"
     ]
    },
    {
     "data": {
      "application/vnd.jupyter.widget-view+json": {
       "model_id": "efb5c817e63846d5aa3873ef7500fa65",
       "version_major": 2,
       "version_minor": 0
      },
      "text/plain": [
       "  0%|          | 0/2577 [00:00<?, ?it/s]"
      ]
     },
     "metadata": {},
     "output_type": "display_data"
    },
    {
     "name": "stdout",
     "output_type": "stream",
     "text": [
      "[Train] Accuracy: 83.7%, Avg loss: 0.386549 \n",
      "\n",
      "[Test] Accuracy: 80.6%, Avg loss: 0.473246 \n",
      "\n",
      "Epoch 878\n"
     ]
    },
    {
     "data": {
      "application/vnd.jupyter.widget-view+json": {
       "model_id": "18630eb1cbfd4373a9110b8a43c57044",
       "version_major": 2,
       "version_minor": 0
      },
      "text/plain": [
       "  0%|          | 0/2577 [00:00<?, ?it/s]"
      ]
     },
     "metadata": {},
     "output_type": "display_data"
    },
    {
     "name": "stdout",
     "output_type": "stream",
     "text": [
      "[Train] Accuracy: 83.8%, Avg loss: 0.386029 \n",
      "\n",
      "[Test] Accuracy: 81.8%, Avg loss: 0.573039 \n",
      "\n",
      "Epoch 879\n"
     ]
    },
    {
     "data": {
      "application/vnd.jupyter.widget-view+json": {
       "model_id": "aac66b19cc3b4488a56e048b5e3cee89",
       "version_major": 2,
       "version_minor": 0
      },
      "text/plain": [
       "  0%|          | 0/2577 [00:00<?, ?it/s]"
      ]
     },
     "metadata": {},
     "output_type": "display_data"
    },
    {
     "name": "stdout",
     "output_type": "stream",
     "text": [
      "[Train] Accuracy: 83.7%, Avg loss: 0.386837 \n",
      "\n",
      "[Test] Accuracy: 81.0%, Avg loss: 0.502384 \n",
      "\n",
      "Epoch 880\n"
     ]
    },
    {
     "data": {
      "application/vnd.jupyter.widget-view+json": {
       "model_id": "64f365dba61640a890bb51fe53231010",
       "version_major": 2,
       "version_minor": 0
      },
      "text/plain": [
       "  0%|          | 0/2577 [00:00<?, ?it/s]"
      ]
     },
     "metadata": {},
     "output_type": "display_data"
    },
    {
     "name": "stdout",
     "output_type": "stream",
     "text": [
      "[Train] Accuracy: 83.7%, Avg loss: 0.385723 \n",
      "\n",
      "[Test] Accuracy: 81.8%, Avg loss: 0.470024 \n",
      "\n",
      "Epoch 881\n"
     ]
    },
    {
     "data": {
      "application/vnd.jupyter.widget-view+json": {
       "model_id": "a4705f008c0241d8bb475a1c4ff443ad",
       "version_major": 2,
       "version_minor": 0
      },
      "text/plain": [
       "  0%|          | 0/2577 [00:00<?, ?it/s]"
      ]
     },
     "metadata": {},
     "output_type": "display_data"
    },
    {
     "name": "stdout",
     "output_type": "stream",
     "text": [
      "[Train] Accuracy: 83.8%, Avg loss: 0.385485 \n",
      "\n",
      "[Test] Accuracy: 81.1%, Avg loss: 0.480807 \n",
      "\n",
      "Epoch 882\n"
     ]
    },
    {
     "data": {
      "application/vnd.jupyter.widget-view+json": {
       "model_id": "b2a4bbc19b80441682b60615c53455c5",
       "version_major": 2,
       "version_minor": 0
      },
      "text/plain": [
       "  0%|          | 0/2577 [00:00<?, ?it/s]"
      ]
     },
     "metadata": {},
     "output_type": "display_data"
    },
    {
     "name": "stdout",
     "output_type": "stream",
     "text": [
      "[Train] Accuracy: 83.8%, Avg loss: 0.385082 \n",
      "\n",
      "[Test] Accuracy: 81.7%, Avg loss: 0.485266 \n",
      "\n",
      "Epoch 883\n"
     ]
    },
    {
     "data": {
      "application/vnd.jupyter.widget-view+json": {
       "model_id": "fb10575dd98049d9a058edccf659ad73",
       "version_major": 2,
       "version_minor": 0
      },
      "text/plain": [
       "  0%|          | 0/2577 [00:00<?, ?it/s]"
      ]
     },
     "metadata": {},
     "output_type": "display_data"
    },
    {
     "name": "stdout",
     "output_type": "stream",
     "text": [
      "[Train] Accuracy: 83.8%, Avg loss: 0.385043 \n",
      "\n",
      "[Test] Accuracy: 81.5%, Avg loss: 0.476136 \n",
      "\n",
      "Epoch 884\n"
     ]
    },
    {
     "data": {
      "application/vnd.jupyter.widget-view+json": {
       "model_id": "18b4ce6859994324ab49453bd39cee38",
       "version_major": 2,
       "version_minor": 0
      },
      "text/plain": [
       "  0%|          | 0/2577 [00:00<?, ?it/s]"
      ]
     },
     "metadata": {},
     "output_type": "display_data"
    },
    {
     "name": "stdout",
     "output_type": "stream",
     "text": [
      "[Train] Accuracy: 83.7%, Avg loss: 0.386322 \n",
      "\n",
      "[Test] Accuracy: 80.2%, Avg loss: 0.488589 \n",
      "\n",
      "Epoch 885\n"
     ]
    },
    {
     "data": {
      "application/vnd.jupyter.widget-view+json": {
       "model_id": "a9e0721c9a6348f5b4f44082c9b452ff",
       "version_major": 2,
       "version_minor": 0
      },
      "text/plain": [
       "  0%|          | 0/2577 [00:00<?, ?it/s]"
      ]
     },
     "metadata": {},
     "output_type": "display_data"
    },
    {
     "name": "stdout",
     "output_type": "stream",
     "text": [
      "[Train] Accuracy: 83.8%, Avg loss: 0.385905 \n",
      "\n",
      "[Test] Accuracy: 81.3%, Avg loss: 0.503296 \n",
      "\n",
      "Epoch 886\n"
     ]
    },
    {
     "data": {
      "application/vnd.jupyter.widget-view+json": {
       "model_id": "862d5948264b4c22811bb4f3f4d00c96",
       "version_major": 2,
       "version_minor": 0
      },
      "text/plain": [
       "  0%|          | 0/2577 [00:00<?, ?it/s]"
      ]
     },
     "metadata": {},
     "output_type": "display_data"
    },
    {
     "name": "stdout",
     "output_type": "stream",
     "text": [
      "[Train] Accuracy: 83.8%, Avg loss: 0.386117 \n",
      "\n",
      "[Test] Accuracy: 81.5%, Avg loss: 0.467151 \n",
      "\n",
      "Epoch 887\n"
     ]
    },
    {
     "data": {
      "application/vnd.jupyter.widget-view+json": {
       "model_id": "435444aa54314ad790d4d54b1a6f2811",
       "version_major": 2,
       "version_minor": 0
      },
      "text/plain": [
       "  0%|          | 0/2577 [00:00<?, ?it/s]"
      ]
     },
     "metadata": {},
     "output_type": "display_data"
    },
    {
     "name": "stdout",
     "output_type": "stream",
     "text": [
      "[Train] Accuracy: 83.8%, Avg loss: 0.384698 \n",
      "\n",
      "[Test] Accuracy: 81.8%, Avg loss: 0.553031 \n",
      "\n",
      "Epoch 888\n"
     ]
    },
    {
     "data": {
      "application/vnd.jupyter.widget-view+json": {
       "model_id": "d3c52b9a97bf467d8ef0adfff1dc3412",
       "version_major": 2,
       "version_minor": 0
      },
      "text/plain": [
       "  0%|          | 0/2577 [00:00<?, ?it/s]"
      ]
     },
     "metadata": {},
     "output_type": "display_data"
    },
    {
     "name": "stdout",
     "output_type": "stream",
     "text": [
      "[Train] Accuracy: 83.8%, Avg loss: 0.384974 \n",
      "\n",
      "[Test] Accuracy: 81.7%, Avg loss: 0.484102 \n",
      "\n",
      "Epoch 889\n"
     ]
    },
    {
     "data": {
      "application/vnd.jupyter.widget-view+json": {
       "model_id": "205a480fd3c94364b2a659c120ccecba",
       "version_major": 2,
       "version_minor": 0
      },
      "text/plain": [
       "  0%|          | 0/2577 [00:00<?, ?it/s]"
      ]
     },
     "metadata": {},
     "output_type": "display_data"
    },
    {
     "name": "stdout",
     "output_type": "stream",
     "text": [
      "[Train] Accuracy: 83.7%, Avg loss: 0.386149 \n",
      "\n",
      "[Test] Accuracy: 81.8%, Avg loss: 0.462139 \n",
      "\n",
      "Epoch 890\n"
     ]
    },
    {
     "data": {
      "application/vnd.jupyter.widget-view+json": {
       "model_id": "6f40235713b04f78ace7c83431da6d2f",
       "version_major": 2,
       "version_minor": 0
      },
      "text/plain": [
       "  0%|          | 0/2577 [00:00<?, ?it/s]"
      ]
     },
     "metadata": {},
     "output_type": "display_data"
    },
    {
     "name": "stdout",
     "output_type": "stream",
     "text": [
      "[Train] Accuracy: 83.8%, Avg loss: 0.385479 \n",
      "\n",
      "[Test] Accuracy: 81.4%, Avg loss: 0.470853 \n",
      "\n",
      "Epoch 891\n"
     ]
    },
    {
     "data": {
      "application/vnd.jupyter.widget-view+json": {
       "model_id": "af6ae9abeea94efc92de073833e0e159",
       "version_major": 2,
       "version_minor": 0
      },
      "text/plain": [
       "  0%|          | 0/2577 [00:00<?, ?it/s]"
      ]
     },
     "metadata": {},
     "output_type": "display_data"
    },
    {
     "name": "stdout",
     "output_type": "stream",
     "text": [
      "[Train] Accuracy: 83.8%, Avg loss: 0.385609 \n",
      "\n",
      "[Test] Accuracy: 81.8%, Avg loss: 0.474112 \n",
      "\n",
      "Epoch 892\n"
     ]
    },
    {
     "data": {
      "application/vnd.jupyter.widget-view+json": {
       "model_id": "53ad01f11cd440f6ad4d3951daced18c",
       "version_major": 2,
       "version_minor": 0
      },
      "text/plain": [
       "  0%|          | 0/2577 [00:00<?, ?it/s]"
      ]
     },
     "metadata": {},
     "output_type": "display_data"
    },
    {
     "name": "stdout",
     "output_type": "stream",
     "text": [
      "[Train] Accuracy: 83.7%, Avg loss: 0.385806 \n",
      "\n",
      "[Test] Accuracy: 81.6%, Avg loss: 0.469746 \n",
      "\n",
      "Epoch 893\n"
     ]
    },
    {
     "data": {
      "application/vnd.jupyter.widget-view+json": {
       "model_id": "c7c17cb1c61b4b3dae2a50ee60b0c999",
       "version_major": 2,
       "version_minor": 0
      },
      "text/plain": [
       "  0%|          | 0/2577 [00:00<?, ?it/s]"
      ]
     },
     "metadata": {},
     "output_type": "display_data"
    },
    {
     "name": "stdout",
     "output_type": "stream",
     "text": [
      "[Train] Accuracy: 83.9%, Avg loss: 0.384108 \n",
      "\n",
      "[Test] Accuracy: 81.2%, Avg loss: 0.486850 \n",
      "\n",
      "Epoch 894\n"
     ]
    },
    {
     "data": {
      "application/vnd.jupyter.widget-view+json": {
       "model_id": "5b4966e20b454db6806b7c033e6df24d",
       "version_major": 2,
       "version_minor": 0
      },
      "text/plain": [
       "  0%|          | 0/2577 [00:00<?, ?it/s]"
      ]
     },
     "metadata": {},
     "output_type": "display_data"
    },
    {
     "name": "stdout",
     "output_type": "stream",
     "text": [
      "[Train] Accuracy: 83.8%, Avg loss: 0.384464 \n",
      "\n",
      "[Test] Accuracy: 81.7%, Avg loss: 0.471963 \n",
      "\n",
      "Epoch 895\n"
     ]
    },
    {
     "data": {
      "application/vnd.jupyter.widget-view+json": {
       "model_id": "22c043d9587c4ae18c63dc4d941f66b8",
       "version_major": 2,
       "version_minor": 0
      },
      "text/plain": [
       "  0%|          | 0/2577 [00:00<?, ?it/s]"
      ]
     },
     "metadata": {},
     "output_type": "display_data"
    },
    {
     "name": "stdout",
     "output_type": "stream",
     "text": [
      "[Train] Accuracy: 83.8%, Avg loss: 0.384315 \n",
      "\n",
      "[Test] Accuracy: 81.4%, Avg loss: 0.480798 \n",
      "\n",
      "Epoch 896\n"
     ]
    },
    {
     "data": {
      "application/vnd.jupyter.widget-view+json": {
       "model_id": "67fb15d79a564891bc0e1257c3fcc1e0",
       "version_major": 2,
       "version_minor": 0
      },
      "text/plain": [
       "  0%|          | 0/2577 [00:00<?, ?it/s]"
      ]
     },
     "metadata": {},
     "output_type": "display_data"
    },
    {
     "name": "stdout",
     "output_type": "stream",
     "text": [
      "[Train] Accuracy: 83.8%, Avg loss: 0.384144 \n",
      "\n",
      "[Test] Accuracy: 81.6%, Avg loss: 0.478778 \n",
      "\n",
      "Epoch 897\n"
     ]
    },
    {
     "data": {
      "application/vnd.jupyter.widget-view+json": {
       "model_id": "8d323b9d6af1472c9be7aafaef889a42",
       "version_major": 2,
       "version_minor": 0
      },
      "text/plain": [
       "  0%|          | 0/2577 [00:00<?, ?it/s]"
      ]
     },
     "metadata": {},
     "output_type": "display_data"
    },
    {
     "name": "stdout",
     "output_type": "stream",
     "text": [
      "[Train] Accuracy: 83.9%, Avg loss: 0.384449 \n",
      "\n",
      "[Test] Accuracy: 81.8%, Avg loss: 0.471303 \n",
      "\n",
      "Epoch 898\n"
     ]
    },
    {
     "data": {
      "application/vnd.jupyter.widget-view+json": {
       "model_id": "af7370109b2346d5886ffdc7b1ecfbc3",
       "version_major": 2,
       "version_minor": 0
      },
      "text/plain": [
       "  0%|          | 0/2577 [00:00<?, ?it/s]"
      ]
     },
     "metadata": {},
     "output_type": "display_data"
    },
    {
     "name": "stdout",
     "output_type": "stream",
     "text": [
      "[Train] Accuracy: 83.8%, Avg loss: 0.384460 \n",
      "\n",
      "[Test] Accuracy: 81.8%, Avg loss: 0.495259 \n",
      "\n",
      "Epoch 899\n"
     ]
    },
    {
     "data": {
      "application/vnd.jupyter.widget-view+json": {
       "model_id": "1e47adabd83a4aaaa4b9ec81a47c0c40",
       "version_major": 2,
       "version_minor": 0
      },
      "text/plain": [
       "  0%|          | 0/2577 [00:00<?, ?it/s]"
      ]
     },
     "metadata": {},
     "output_type": "display_data"
    },
    {
     "name": "stdout",
     "output_type": "stream",
     "text": [
      "[Train] Accuracy: 83.8%, Avg loss: 0.384980 \n",
      "\n",
      "[Test] Accuracy: 81.3%, Avg loss: 0.552221 \n",
      "\n",
      "Epoch 900\n"
     ]
    },
    {
     "data": {
      "application/vnd.jupyter.widget-view+json": {
       "model_id": "abf4514f595142e29c74d1435c76459e",
       "version_major": 2,
       "version_minor": 0
      },
      "text/plain": [
       "  0%|          | 0/2577 [00:00<?, ?it/s]"
      ]
     },
     "metadata": {},
     "output_type": "display_data"
    },
    {
     "name": "stdout",
     "output_type": "stream",
     "text": [
      "[Train] Accuracy: 83.9%, Avg loss: 0.384037 \n",
      "\n",
      "[Test] Accuracy: 81.0%, Avg loss: 0.477337 \n",
      "\n",
      "Epoch 901\n"
     ]
    },
    {
     "data": {
      "application/vnd.jupyter.widget-view+json": {
       "model_id": "e4902deeaa084be09dbc1f7b2130e8e8",
       "version_major": 2,
       "version_minor": 0
      },
      "text/plain": [
       "  0%|          | 0/2577 [00:00<?, ?it/s]"
      ]
     },
     "metadata": {},
     "output_type": "display_data"
    },
    {
     "name": "stdout",
     "output_type": "stream",
     "text": [
      "[Train] Accuracy: 83.9%, Avg loss: 0.382658 \n",
      "\n",
      "[Test] Accuracy: 80.6%, Avg loss: 0.508392 \n",
      "\n",
      "Epoch 902\n"
     ]
    },
    {
     "data": {
      "application/vnd.jupyter.widget-view+json": {
       "model_id": "f61a06aadf0641599bfe7afec58564a1",
       "version_major": 2,
       "version_minor": 0
      },
      "text/plain": [
       "  0%|          | 0/2577 [00:00<?, ?it/s]"
      ]
     },
     "metadata": {},
     "output_type": "display_data"
    },
    {
     "name": "stdout",
     "output_type": "stream",
     "text": [
      "[Train] Accuracy: 84.0%, Avg loss: 0.383290 \n",
      "\n",
      "[Test] Accuracy: 81.1%, Avg loss: 0.501176 \n",
      "\n",
      "Epoch 903\n"
     ]
    },
    {
     "data": {
      "application/vnd.jupyter.widget-view+json": {
       "model_id": "9ff728e170ad47f4803e5fa364ae1cc4",
       "version_major": 2,
       "version_minor": 0
      },
      "text/plain": [
       "  0%|          | 0/2577 [00:00<?, ?it/s]"
      ]
     },
     "metadata": {},
     "output_type": "display_data"
    },
    {
     "name": "stdout",
     "output_type": "stream",
     "text": [
      "[Train] Accuracy: 83.9%, Avg loss: 0.382670 \n",
      "\n",
      "[Test] Accuracy: 81.7%, Avg loss: 0.465546 \n",
      "\n",
      "Epoch 904\n"
     ]
    },
    {
     "data": {
      "application/vnd.jupyter.widget-view+json": {
       "model_id": "c3109f21c01442fc8c37dd560dc73cc8",
       "version_major": 2,
       "version_minor": 0
      },
      "text/plain": [
       "  0%|          | 0/2577 [00:00<?, ?it/s]"
      ]
     },
     "metadata": {},
     "output_type": "display_data"
    },
    {
     "name": "stdout",
     "output_type": "stream",
     "text": [
      "[Train] Accuracy: 83.8%, Avg loss: 0.383370 \n",
      "\n",
      "[Test] Accuracy: 81.3%, Avg loss: 0.488333 \n",
      "\n",
      "Epoch 905\n"
     ]
    },
    {
     "data": {
      "application/vnd.jupyter.widget-view+json": {
       "model_id": "46cf50ec91dc4c0cbf53aab62ceb4be8",
       "version_major": 2,
       "version_minor": 0
      },
      "text/plain": [
       "  0%|          | 0/2577 [00:00<?, ?it/s]"
      ]
     },
     "metadata": {},
     "output_type": "display_data"
    },
    {
     "name": "stdout",
     "output_type": "stream",
     "text": [
      "[Train] Accuracy: 83.9%, Avg loss: 0.384093 \n",
      "\n",
      "[Test] Accuracy: 81.6%, Avg loss: 0.475592 \n",
      "\n",
      "Epoch 906\n"
     ]
    },
    {
     "data": {
      "application/vnd.jupyter.widget-view+json": {
       "model_id": "06372eb2ec6a4cbfb1989ca0d113a4e2",
       "version_major": 2,
       "version_minor": 0
      },
      "text/plain": [
       "  0%|          | 0/2577 [00:00<?, ?it/s]"
      ]
     },
     "metadata": {},
     "output_type": "display_data"
    },
    {
     "name": "stdout",
     "output_type": "stream",
     "text": [
      "[Train] Accuracy: 83.9%, Avg loss: 0.383029 \n",
      "\n",
      "[Test] Accuracy: 81.3%, Avg loss: 0.470323 \n",
      "\n",
      "Epoch 907\n"
     ]
    },
    {
     "data": {
      "application/vnd.jupyter.widget-view+json": {
       "model_id": "258a74c8dd15429a8a2b9dccc2eef807",
       "version_major": 2,
       "version_minor": 0
      },
      "text/plain": [
       "  0%|          | 0/2577 [00:00<?, ?it/s]"
      ]
     },
     "metadata": {},
     "output_type": "display_data"
    },
    {
     "name": "stdout",
     "output_type": "stream",
     "text": [
      "[Train] Accuracy: 83.8%, Avg loss: 0.382980 \n",
      "\n",
      "[Test] Accuracy: 80.9%, Avg loss: 0.487400 \n",
      "\n",
      "Epoch 908\n"
     ]
    },
    {
     "data": {
      "application/vnd.jupyter.widget-view+json": {
       "model_id": "09c5e6ab8bd04cb8b641f666a5edf017",
       "version_major": 2,
       "version_minor": 0
      },
      "text/plain": [
       "  0%|          | 0/2577 [00:00<?, ?it/s]"
      ]
     },
     "metadata": {},
     "output_type": "display_data"
    },
    {
     "name": "stdout",
     "output_type": "stream",
     "text": [
      "[Train] Accuracy: 83.9%, Avg loss: 0.383241 \n",
      "\n",
      "[Test] Accuracy: 81.8%, Avg loss: 0.534553 \n",
      "\n",
      "Epoch 909\n"
     ]
    },
    {
     "data": {
      "application/vnd.jupyter.widget-view+json": {
       "model_id": "9d1c1bc6a2864ec8a237dd3cc81ee3c5",
       "version_major": 2,
       "version_minor": 0
      },
      "text/plain": [
       "  0%|          | 0/2577 [00:00<?, ?it/s]"
      ]
     },
     "metadata": {},
     "output_type": "display_data"
    },
    {
     "name": "stdout",
     "output_type": "stream",
     "text": [
      "[Train] Accuracy: 83.9%, Avg loss: 0.382305 \n",
      "\n",
      "[Test] Accuracy: 81.2%, Avg loss: 0.478696 \n",
      "\n",
      "Epoch 910\n"
     ]
    },
    {
     "data": {
      "application/vnd.jupyter.widget-view+json": {
       "model_id": "7e578d22215546f1b9872befe300434e",
       "version_major": 2,
       "version_minor": 0
      },
      "text/plain": [
       "  0%|          | 0/2577 [00:00<?, ?it/s]"
      ]
     },
     "metadata": {},
     "output_type": "display_data"
    },
    {
     "name": "stdout",
     "output_type": "stream",
     "text": [
      "[Train] Accuracy: 83.8%, Avg loss: 0.383589 \n",
      "\n",
      "[Test] Accuracy: 81.6%, Avg loss: 0.549519 \n",
      "\n",
      "Epoch 911\n"
     ]
    },
    {
     "data": {
      "application/vnd.jupyter.widget-view+json": {
       "model_id": "c60ed090390f436a88f7af1a574a4aef",
       "version_major": 2,
       "version_minor": 0
      },
      "text/plain": [
       "  0%|          | 0/2577 [00:00<?, ?it/s]"
      ]
     },
     "metadata": {},
     "output_type": "display_data"
    },
    {
     "name": "stdout",
     "output_type": "stream",
     "text": [
      "[Train] Accuracy: 83.8%, Avg loss: 0.383133 \n",
      "\n",
      "[Test] Accuracy: 81.6%, Avg loss: 0.485273 \n",
      "\n",
      "Epoch 912\n"
     ]
    },
    {
     "data": {
      "application/vnd.jupyter.widget-view+json": {
       "model_id": "af4e553adf7c4da8ab08e9dd31780681",
       "version_major": 2,
       "version_minor": 0
      },
      "text/plain": [
       "  0%|          | 0/2577 [00:00<?, ?it/s]"
      ]
     },
     "metadata": {},
     "output_type": "display_data"
    },
    {
     "name": "stdout",
     "output_type": "stream",
     "text": [
      "[Train] Accuracy: 83.9%, Avg loss: 0.382021 \n",
      "\n",
      "[Test] Accuracy: 81.7%, Avg loss: 0.618506 \n",
      "\n",
      "Epoch 913\n"
     ]
    },
    {
     "data": {
      "application/vnd.jupyter.widget-view+json": {
       "model_id": "66e0f3b570194e8a980519dc21fc89f2",
       "version_major": 2,
       "version_minor": 0
      },
      "text/plain": [
       "  0%|          | 0/2577 [00:00<?, ?it/s]"
      ]
     },
     "metadata": {},
     "output_type": "display_data"
    },
    {
     "name": "stdout",
     "output_type": "stream",
     "text": [
      "[Train] Accuracy: 84.0%, Avg loss: 0.383026 \n",
      "\n",
      "[Test] Accuracy: 81.7%, Avg loss: 0.481861 \n",
      "\n",
      "Epoch 914\n"
     ]
    },
    {
     "data": {
      "application/vnd.jupyter.widget-view+json": {
       "model_id": "ada1e1aff274416d89cc8366a63d315f",
       "version_major": 2,
       "version_minor": 0
      },
      "text/plain": [
       "  0%|          | 0/2577 [00:00<?, ?it/s]"
      ]
     },
     "metadata": {},
     "output_type": "display_data"
    },
    {
     "name": "stdout",
     "output_type": "stream",
     "text": [
      "[Train] Accuracy: 83.8%, Avg loss: 0.383634 \n",
      "\n",
      "[Test] Accuracy: 81.1%, Avg loss: 0.475233 \n",
      "\n",
      "Epoch 915\n"
     ]
    },
    {
     "data": {
      "application/vnd.jupyter.widget-view+json": {
       "model_id": "f191a91fb696426d89bda2eb09f3ccca",
       "version_major": 2,
       "version_minor": 0
      },
      "text/plain": [
       "  0%|          | 0/2577 [00:00<?, ?it/s]"
      ]
     },
     "metadata": {},
     "output_type": "display_data"
    },
    {
     "name": "stdout",
     "output_type": "stream",
     "text": [
      "[Train] Accuracy: 83.9%, Avg loss: 0.383155 \n",
      "\n",
      "[Test] Accuracy: 81.6%, Avg loss: 0.488142 \n",
      "\n",
      "Epoch 916\n"
     ]
    },
    {
     "data": {
      "application/vnd.jupyter.widget-view+json": {
       "model_id": "4b10bc96a9154b1484065b18afefab24",
       "version_major": 2,
       "version_minor": 0
      },
      "text/plain": [
       "  0%|          | 0/2577 [00:00<?, ?it/s]"
      ]
     },
     "metadata": {},
     "output_type": "display_data"
    },
    {
     "name": "stdout",
     "output_type": "stream",
     "text": [
      "[Train] Accuracy: 84.0%, Avg loss: 0.382923 \n",
      "\n",
      "[Test] Accuracy: 81.9%, Avg loss: 0.475935 \n",
      "\n",
      "Epoch 917\n"
     ]
    },
    {
     "data": {
      "application/vnd.jupyter.widget-view+json": {
       "model_id": "ead81ff14f144943a3ac62df491c5c21",
       "version_major": 2,
       "version_minor": 0
      },
      "text/plain": [
       "  0%|          | 0/2577 [00:00<?, ?it/s]"
      ]
     },
     "metadata": {},
     "output_type": "display_data"
    },
    {
     "name": "stdout",
     "output_type": "stream",
     "text": [
      "[Train] Accuracy: 83.9%, Avg loss: 0.382971 \n",
      "\n",
      "[Test] Accuracy: 81.7%, Avg loss: 0.535280 \n",
      "\n",
      "Epoch 918\n"
     ]
    },
    {
     "data": {
      "application/vnd.jupyter.widget-view+json": {
       "model_id": "a92d4a1e8bfd403eaa1039c6ce5e35c0",
       "version_major": 2,
       "version_minor": 0
      },
      "text/plain": [
       "  0%|          | 0/2577 [00:00<?, ?it/s]"
      ]
     },
     "metadata": {},
     "output_type": "display_data"
    },
    {
     "name": "stdout",
     "output_type": "stream",
     "text": [
      "[Train] Accuracy: 83.8%, Avg loss: 0.381914 \n",
      "\n",
      "[Test] Accuracy: 81.6%, Avg loss: 0.478492 \n",
      "\n",
      "Epoch 919\n"
     ]
    },
    {
     "data": {
      "application/vnd.jupyter.widget-view+json": {
       "model_id": "4563bc884bc84c56a7b2b48c46b7874e",
       "version_major": 2,
       "version_minor": 0
      },
      "text/plain": [
       "  0%|          | 0/2577 [00:00<?, ?it/s]"
      ]
     },
     "metadata": {},
     "output_type": "display_data"
    },
    {
     "name": "stdout",
     "output_type": "stream",
     "text": [
      "[Train] Accuracy: 83.9%, Avg loss: 0.383095 \n",
      "\n",
      "[Test] Accuracy: 80.8%, Avg loss: 0.603935 \n",
      "\n",
      "Epoch 920\n"
     ]
    },
    {
     "data": {
      "application/vnd.jupyter.widget-view+json": {
       "model_id": "b1cd5e64fac74d5e9c90d0aa744bb200",
       "version_major": 2,
       "version_minor": 0
      },
      "text/plain": [
       "  0%|          | 0/2577 [00:00<?, ?it/s]"
      ]
     },
     "metadata": {},
     "output_type": "display_data"
    },
    {
     "name": "stdout",
     "output_type": "stream",
     "text": [
      "[Train] Accuracy: 83.8%, Avg loss: 0.383381 \n",
      "\n",
      "[Test] Accuracy: 81.8%, Avg loss: 0.517920 \n",
      "\n",
      "Epoch 921\n"
     ]
    },
    {
     "data": {
      "application/vnd.jupyter.widget-view+json": {
       "model_id": "67cef7f3c4d94599bbe7e7da6faf444b",
       "version_major": 2,
       "version_minor": 0
      },
      "text/plain": [
       "  0%|          | 0/2577 [00:00<?, ?it/s]"
      ]
     },
     "metadata": {},
     "output_type": "display_data"
    },
    {
     "name": "stdout",
     "output_type": "stream",
     "text": [
      "[Train] Accuracy: 83.9%, Avg loss: 0.382450 \n",
      "\n",
      "[Test] Accuracy: 81.8%, Avg loss: 0.474008 \n",
      "\n",
      "Epoch 922\n"
     ]
    },
    {
     "data": {
      "application/vnd.jupyter.widget-view+json": {
       "model_id": "5f9eb7a241f64ecf86955fa8706132b1",
       "version_major": 2,
       "version_minor": 0
      },
      "text/plain": [
       "  0%|          | 0/2577 [00:00<?, ?it/s]"
      ]
     },
     "metadata": {},
     "output_type": "display_data"
    },
    {
     "name": "stdout",
     "output_type": "stream",
     "text": [
      "[Train] Accuracy: 83.9%, Avg loss: 0.382212 \n",
      "\n",
      "[Test] Accuracy: 82.0%, Avg loss: 0.470429 \n",
      "\n",
      "Epoch 923\n"
     ]
    },
    {
     "data": {
      "application/vnd.jupyter.widget-view+json": {
       "model_id": "3b3387f3d2b24c03ab9baceac373dfb2",
       "version_major": 2,
       "version_minor": 0
      },
      "text/plain": [
       "  0%|          | 0/2577 [00:00<?, ?it/s]"
      ]
     },
     "metadata": {},
     "output_type": "display_data"
    },
    {
     "name": "stdout",
     "output_type": "stream",
     "text": [
      "[Train] Accuracy: 83.9%, Avg loss: 0.383185 \n",
      "\n",
      "[Test] Accuracy: 80.9%, Avg loss: 0.483372 \n",
      "\n",
      "Epoch 924\n"
     ]
    },
    {
     "data": {
      "application/vnd.jupyter.widget-view+json": {
       "model_id": "4f914e3a27a9475284f7e83e46e8ff1b",
       "version_major": 2,
       "version_minor": 0
      },
      "text/plain": [
       "  0%|          | 0/2577 [00:00<?, ?it/s]"
      ]
     },
     "metadata": {},
     "output_type": "display_data"
    },
    {
     "name": "stdout",
     "output_type": "stream",
     "text": [
      "[Train] Accuracy: 83.9%, Avg loss: 0.382172 \n",
      "\n",
      "[Test] Accuracy: 81.7%, Avg loss: 0.465847 \n",
      "\n",
      "Epoch 925\n"
     ]
    },
    {
     "data": {
      "application/vnd.jupyter.widget-view+json": {
       "model_id": "69363d92410149cab2a50bcfdf5a9e47",
       "version_major": 2,
       "version_minor": 0
      },
      "text/plain": [
       "  0%|          | 0/2577 [00:00<?, ?it/s]"
      ]
     },
     "metadata": {},
     "output_type": "display_data"
    },
    {
     "name": "stdout",
     "output_type": "stream",
     "text": [
      "[Train] Accuracy: 83.9%, Avg loss: 0.382295 \n",
      "\n",
      "[Test] Accuracy: 80.6%, Avg loss: 0.469671 \n",
      "\n",
      "Epoch 926\n"
     ]
    },
    {
     "data": {
      "application/vnd.jupyter.widget-view+json": {
       "model_id": "099cb0f208a2473eb24e8d685ce4b473",
       "version_major": 2,
       "version_minor": 0
      },
      "text/plain": [
       "  0%|          | 0/2577 [00:00<?, ?it/s]"
      ]
     },
     "metadata": {},
     "output_type": "display_data"
    },
    {
     "name": "stdout",
     "output_type": "stream",
     "text": [
      "[Train] Accuracy: 83.9%, Avg loss: 0.382746 \n",
      "\n",
      "[Test] Accuracy: 81.2%, Avg loss: 0.488160 \n",
      "\n",
      "Epoch 927\n"
     ]
    },
    {
     "data": {
      "application/vnd.jupyter.widget-view+json": {
       "model_id": "2371768c7b7c46d0920217986841c1da",
       "version_major": 2,
       "version_minor": 0
      },
      "text/plain": [
       "  0%|          | 0/2577 [00:00<?, ?it/s]"
      ]
     },
     "metadata": {},
     "output_type": "display_data"
    },
    {
     "name": "stdout",
     "output_type": "stream",
     "text": [
      "[Train] Accuracy: 83.9%, Avg loss: 0.383288 \n",
      "\n",
      "[Test] Accuracy: 81.3%, Avg loss: 0.473982 \n",
      "\n",
      "Epoch 928\n"
     ]
    },
    {
     "data": {
      "application/vnd.jupyter.widget-view+json": {
       "model_id": "069c204bed8c48e3805e71a09f51943d",
       "version_major": 2,
       "version_minor": 0
      },
      "text/plain": [
       "  0%|          | 0/2577 [00:00<?, ?it/s]"
      ]
     },
     "metadata": {},
     "output_type": "display_data"
    },
    {
     "name": "stdout",
     "output_type": "stream",
     "text": [
      "[Train] Accuracy: 83.9%, Avg loss: 0.382904 \n",
      "\n",
      "[Test] Accuracy: 81.4%, Avg loss: 0.489095 \n",
      "\n",
      "Epoch 929\n"
     ]
    },
    {
     "data": {
      "application/vnd.jupyter.widget-view+json": {
       "model_id": "e2627a6b21b44b65a6547443a2149e9c",
       "version_major": 2,
       "version_minor": 0
      },
      "text/plain": [
       "  0%|          | 0/2577 [00:00<?, ?it/s]"
      ]
     },
     "metadata": {},
     "output_type": "display_data"
    },
    {
     "name": "stdout",
     "output_type": "stream",
     "text": [
      "[Train] Accuracy: 83.8%, Avg loss: 0.382722 \n",
      "\n",
      "[Test] Accuracy: 81.7%, Avg loss: 0.484741 \n",
      "\n",
      "Epoch 930\n"
     ]
    },
    {
     "data": {
      "application/vnd.jupyter.widget-view+json": {
       "model_id": "93b6efc56d6e4235b6ce9672f6e717ac",
       "version_major": 2,
       "version_minor": 0
      },
      "text/plain": [
       "  0%|          | 0/2577 [00:00<?, ?it/s]"
      ]
     },
     "metadata": {},
     "output_type": "display_data"
    },
    {
     "name": "stdout",
     "output_type": "stream",
     "text": [
      "[Train] Accuracy: 83.9%, Avg loss: 0.381439 \n",
      "\n",
      "[Test] Accuracy: 80.4%, Avg loss: 0.485377 \n",
      "\n",
      "Epoch 931\n"
     ]
    },
    {
     "data": {
      "application/vnd.jupyter.widget-view+json": {
       "model_id": "1c3637ec39bc438497d560d205723059",
       "version_major": 2,
       "version_minor": 0
      },
      "text/plain": [
       "  0%|          | 0/2577 [00:00<?, ?it/s]"
      ]
     },
     "metadata": {},
     "output_type": "display_data"
    },
    {
     "name": "stdout",
     "output_type": "stream",
     "text": [
      "[Train] Accuracy: 83.9%, Avg loss: 0.382896 \n",
      "\n",
      "[Test] Accuracy: 81.6%, Avg loss: 0.533484 \n",
      "\n",
      "Epoch 932\n"
     ]
    },
    {
     "data": {
      "application/vnd.jupyter.widget-view+json": {
       "model_id": "eb02e8285dd143e4a3fae1c1ba78a4e1",
       "version_major": 2,
       "version_minor": 0
      },
      "text/plain": [
       "  0%|          | 0/2577 [00:00<?, ?it/s]"
      ]
     },
     "metadata": {},
     "output_type": "display_data"
    },
    {
     "name": "stdout",
     "output_type": "stream",
     "text": [
      "[Train] Accuracy: 83.9%, Avg loss: 0.382530 \n",
      "\n",
      "[Test] Accuracy: 81.4%, Avg loss: 0.537418 \n",
      "\n",
      "Epoch 933\n"
     ]
    },
    {
     "data": {
      "application/vnd.jupyter.widget-view+json": {
       "model_id": "ec19f61d74414b54944ff51b53937955",
       "version_major": 2,
       "version_minor": 0
      },
      "text/plain": [
       "  0%|          | 0/2577 [00:00<?, ?it/s]"
      ]
     },
     "metadata": {},
     "output_type": "display_data"
    },
    {
     "name": "stdout",
     "output_type": "stream",
     "text": [
      "[Train] Accuracy: 84.0%, Avg loss: 0.382293 \n",
      "\n",
      "[Test] Accuracy: 81.5%, Avg loss: 0.487406 \n",
      "\n",
      "Epoch 934\n"
     ]
    },
    {
     "data": {
      "application/vnd.jupyter.widget-view+json": {
       "model_id": "f1bcc9561fc54e99849d6044e7583171",
       "version_major": 2,
       "version_minor": 0
      },
      "text/plain": [
       "  0%|          | 0/2577 [00:00<?, ?it/s]"
      ]
     },
     "metadata": {},
     "output_type": "display_data"
    },
    {
     "name": "stdout",
     "output_type": "stream",
     "text": [
      "[Train] Accuracy: 84.0%, Avg loss: 0.381582 \n",
      "\n",
      "[Test] Accuracy: 81.8%, Avg loss: 0.466452 \n",
      "\n",
      "Epoch 935\n"
     ]
    },
    {
     "data": {
      "application/vnd.jupyter.widget-view+json": {
       "model_id": "3d74da468c0244769be60564bd9b9b15",
       "version_major": 2,
       "version_minor": 0
      },
      "text/plain": [
       "  0%|          | 0/2577 [00:00<?, ?it/s]"
      ]
     },
     "metadata": {},
     "output_type": "display_data"
    },
    {
     "name": "stdout",
     "output_type": "stream",
     "text": [
      "[Train] Accuracy: 83.9%, Avg loss: 0.382039 \n",
      "\n",
      "[Test] Accuracy: 81.3%, Avg loss: 0.485213 \n",
      "\n",
      "Epoch 936\n"
     ]
    },
    {
     "data": {
      "application/vnd.jupyter.widget-view+json": {
       "model_id": "f0a70217bbac4245add77c13efeb5a08",
       "version_major": 2,
       "version_minor": 0
      },
      "text/plain": [
       "  0%|          | 0/2577 [00:00<?, ?it/s]"
      ]
     },
     "metadata": {},
     "output_type": "display_data"
    },
    {
     "name": "stdout",
     "output_type": "stream",
     "text": [
      "[Train] Accuracy: 83.9%, Avg loss: 0.381889 \n",
      "\n",
      "[Test] Accuracy: 81.8%, Avg loss: 0.473880 \n",
      "\n",
      "Epoch 937\n"
     ]
    },
    {
     "data": {
      "application/vnd.jupyter.widget-view+json": {
       "model_id": "88a77b9ecb3b442e852c1aef0b57a94e",
       "version_major": 2,
       "version_minor": 0
      },
      "text/plain": [
       "  0%|          | 0/2577 [00:00<?, ?it/s]"
      ]
     },
     "metadata": {},
     "output_type": "display_data"
    },
    {
     "name": "stdout",
     "output_type": "stream",
     "text": [
      "[Train] Accuracy: 83.9%, Avg loss: 0.384092 \n",
      "\n",
      "[Test] Accuracy: 81.7%, Avg loss: 0.479954 \n",
      "\n",
      "Epoch 938\n"
     ]
    },
    {
     "data": {
      "application/vnd.jupyter.widget-view+json": {
       "model_id": "4b3da1a5926f4a57b05dc909dddaf936",
       "version_major": 2,
       "version_minor": 0
      },
      "text/plain": [
       "  0%|          | 0/2577 [00:00<?, ?it/s]"
      ]
     },
     "metadata": {},
     "output_type": "display_data"
    },
    {
     "name": "stdout",
     "output_type": "stream",
     "text": [
      "[Train] Accuracy: 84.0%, Avg loss: 0.381101 \n",
      "\n",
      "[Test] Accuracy: 81.8%, Avg loss: 0.484793 \n",
      "\n",
      "Epoch 939\n"
     ]
    },
    {
     "data": {
      "application/vnd.jupyter.widget-view+json": {
       "model_id": "347697416e6f4c2e9e2ae3b02a7050f8",
       "version_major": 2,
       "version_minor": 0
      },
      "text/plain": [
       "  0%|          | 0/2577 [00:00<?, ?it/s]"
      ]
     },
     "metadata": {},
     "output_type": "display_data"
    },
    {
     "name": "stdout",
     "output_type": "stream",
     "text": [
      "[Train] Accuracy: 83.9%, Avg loss: 0.381095 \n",
      "\n",
      "[Test] Accuracy: 81.5%, Avg loss: 0.473735 \n",
      "\n",
      "Epoch 940\n"
     ]
    },
    {
     "data": {
      "application/vnd.jupyter.widget-view+json": {
       "model_id": "94c1171a02a3443fb3f5631d2b931200",
       "version_major": 2,
       "version_minor": 0
      },
      "text/plain": [
       "  0%|          | 0/2577 [00:00<?, ?it/s]"
      ]
     },
     "metadata": {},
     "output_type": "display_data"
    },
    {
     "name": "stdout",
     "output_type": "stream",
     "text": [
      "[Train] Accuracy: 84.0%, Avg loss: 0.381393 \n",
      "\n",
      "[Test] Accuracy: 81.7%, Avg loss: 0.478570 \n",
      "\n",
      "Epoch 941\n"
     ]
    },
    {
     "data": {
      "application/vnd.jupyter.widget-view+json": {
       "model_id": "74bc3dbc0af249d2a2685844f1508e67",
       "version_major": 2,
       "version_minor": 0
      },
      "text/plain": [
       "  0%|          | 0/2577 [00:00<?, ?it/s]"
      ]
     },
     "metadata": {},
     "output_type": "display_data"
    },
    {
     "name": "stdout",
     "output_type": "stream",
     "text": [
      "[Train] Accuracy: 84.0%, Avg loss: 0.380688 \n",
      "\n",
      "[Test] Accuracy: 81.6%, Avg loss: 0.481807 \n",
      "\n",
      "Epoch 942\n"
     ]
    },
    {
     "data": {
      "application/vnd.jupyter.widget-view+json": {
       "model_id": "b17b28fa59c04de2b4a7e726e7fee3af",
       "version_major": 2,
       "version_minor": 0
      },
      "text/plain": [
       "  0%|          | 0/2577 [00:00<?, ?it/s]"
      ]
     },
     "metadata": {},
     "output_type": "display_data"
    },
    {
     "name": "stdout",
     "output_type": "stream",
     "text": [
      "[Train] Accuracy: 83.9%, Avg loss: 0.381470 \n",
      "\n",
      "[Test] Accuracy: 80.6%, Avg loss: 0.475016 \n",
      "\n",
      "Epoch 943\n"
     ]
    },
    {
     "data": {
      "application/vnd.jupyter.widget-view+json": {
       "model_id": "7ae4a4738d6042dbb8811ef47e1db8f2",
       "version_major": 2,
       "version_minor": 0
      },
      "text/plain": [
       "  0%|          | 0/2577 [00:00<?, ?it/s]"
      ]
     },
     "metadata": {},
     "output_type": "display_data"
    },
    {
     "name": "stdout",
     "output_type": "stream",
     "text": [
      "[Train] Accuracy: 84.0%, Avg loss: 0.380318 \n",
      "\n",
      "[Test] Accuracy: 81.8%, Avg loss: 0.462693 \n",
      "\n",
      "Epoch 944\n"
     ]
    },
    {
     "data": {
      "application/vnd.jupyter.widget-view+json": {
       "model_id": "f9a4d1725fd14825808d366f9976230d",
       "version_major": 2,
       "version_minor": 0
      },
      "text/plain": [
       "  0%|          | 0/2577 [00:00<?, ?it/s]"
      ]
     },
     "metadata": {},
     "output_type": "display_data"
    },
    {
     "name": "stdout",
     "output_type": "stream",
     "text": [
      "[Train] Accuracy: 84.0%, Avg loss: 0.380728 \n",
      "\n",
      "[Test] Accuracy: 81.1%, Avg loss: 0.475010 \n",
      "\n",
      "Epoch 945\n"
     ]
    },
    {
     "data": {
      "application/vnd.jupyter.widget-view+json": {
       "model_id": "63d4df8fd240421a8566d49acd2a1887",
       "version_major": 2,
       "version_minor": 0
      },
      "text/plain": [
       "  0%|          | 0/2577 [00:00<?, ?it/s]"
      ]
     },
     "metadata": {},
     "output_type": "display_data"
    },
    {
     "name": "stdout",
     "output_type": "stream",
     "text": [
      "[Train] Accuracy: 83.9%, Avg loss: 0.380972 \n",
      "\n",
      "[Test] Accuracy: 81.1%, Avg loss: 0.485805 \n",
      "\n",
      "Epoch 946\n"
     ]
    },
    {
     "data": {
      "application/vnd.jupyter.widget-view+json": {
       "model_id": "1ca913a720bf4669b48225ef8adac43e",
       "version_major": 2,
       "version_minor": 0
      },
      "text/plain": [
       "  0%|          | 0/2577 [00:00<?, ?it/s]"
      ]
     },
     "metadata": {},
     "output_type": "display_data"
    },
    {
     "name": "stdout",
     "output_type": "stream",
     "text": [
      "[Train] Accuracy: 84.0%, Avg loss: 0.381331 \n",
      "\n",
      "[Test] Accuracy: 81.7%, Avg loss: 0.471246 \n",
      "\n",
      "Epoch 947\n"
     ]
    },
    {
     "data": {
      "application/vnd.jupyter.widget-view+json": {
       "model_id": "7ce3759a04d642daac2e6c5346d5d10f",
       "version_major": 2,
       "version_minor": 0
      },
      "text/plain": [
       "  0%|          | 0/2577 [00:00<?, ?it/s]"
      ]
     },
     "metadata": {},
     "output_type": "display_data"
    },
    {
     "name": "stdout",
     "output_type": "stream",
     "text": [
      "[Train] Accuracy: 84.0%, Avg loss: 0.380522 \n",
      "\n",
      "[Test] Accuracy: 80.9%, Avg loss: 0.469205 \n",
      "\n",
      "Epoch 948\n"
     ]
    },
    {
     "data": {
      "application/vnd.jupyter.widget-view+json": {
       "model_id": "b092622a710746d7a056386b1c9f1b73",
       "version_major": 2,
       "version_minor": 0
      },
      "text/plain": [
       "  0%|          | 0/2577 [00:00<?, ?it/s]"
      ]
     },
     "metadata": {},
     "output_type": "display_data"
    },
    {
     "name": "stdout",
     "output_type": "stream",
     "text": [
      "[Train] Accuracy: 83.9%, Avg loss: 0.381244 \n",
      "\n",
      "[Test] Accuracy: 81.8%, Avg loss: 0.482478 \n",
      "\n",
      "Epoch 949\n"
     ]
    },
    {
     "data": {
      "application/vnd.jupyter.widget-view+json": {
       "model_id": "b2bdc8031c7141598923c3a4029367e6",
       "version_major": 2,
       "version_minor": 0
      },
      "text/plain": [
       "  0%|          | 0/2577 [00:00<?, ?it/s]"
      ]
     },
     "metadata": {},
     "output_type": "display_data"
    },
    {
     "name": "stdout",
     "output_type": "stream",
     "text": [
      "[Train] Accuracy: 84.0%, Avg loss: 0.380632 \n",
      "\n",
      "[Test] Accuracy: 81.4%, Avg loss: 0.469897 \n",
      "\n",
      "Epoch 950\n"
     ]
    },
    {
     "data": {
      "application/vnd.jupyter.widget-view+json": {
       "model_id": "2df94b3b71cf4d45b1cb054f449d7ba1",
       "version_major": 2,
       "version_minor": 0
      },
      "text/plain": [
       "  0%|          | 0/2577 [00:00<?, ?it/s]"
      ]
     },
     "metadata": {},
     "output_type": "display_data"
    },
    {
     "name": "stdout",
     "output_type": "stream",
     "text": [
      "[Train] Accuracy: 84.0%, Avg loss: 0.380199 \n",
      "\n",
      "[Test] Accuracy: 81.0%, Avg loss: 0.466500 \n",
      "\n",
      "Epoch 951\n"
     ]
    },
    {
     "data": {
      "application/vnd.jupyter.widget-view+json": {
       "model_id": "480b429d4df3471789407be47ff3670b",
       "version_major": 2,
       "version_minor": 0
      },
      "text/plain": [
       "  0%|          | 0/2577 [00:00<?, ?it/s]"
      ]
     },
     "metadata": {},
     "output_type": "display_data"
    },
    {
     "name": "stdout",
     "output_type": "stream",
     "text": [
      "[Train] Accuracy: 84.1%, Avg loss: 0.378664 \n",
      "\n",
      "[Test] Accuracy: 81.7%, Avg loss: 0.464525 \n",
      "\n",
      "Epoch 952\n"
     ]
    },
    {
     "data": {
      "application/vnd.jupyter.widget-view+json": {
       "model_id": "74afab3127ef4ad8be7ea0dc05716c92",
       "version_major": 2,
       "version_minor": 0
      },
      "text/plain": [
       "  0%|          | 0/2577 [00:00<?, ?it/s]"
      ]
     },
     "metadata": {},
     "output_type": "display_data"
    },
    {
     "name": "stdout",
     "output_type": "stream",
     "text": [
      "[Train] Accuracy: 84.0%, Avg loss: 0.380189 \n",
      "\n",
      "[Test] Accuracy: 80.5%, Avg loss: 0.482125 \n",
      "\n",
      "Epoch 953\n"
     ]
    },
    {
     "data": {
      "application/vnd.jupyter.widget-view+json": {
       "model_id": "5c4bd0d109c64f2aaaf1bbd6de9b5299",
       "version_major": 2,
       "version_minor": 0
      },
      "text/plain": [
       "  0%|          | 0/2577 [00:00<?, ?it/s]"
      ]
     },
     "metadata": {},
     "output_type": "display_data"
    },
    {
     "name": "stdout",
     "output_type": "stream",
     "text": [
      "[Train] Accuracy: 84.0%, Avg loss: 0.380237 \n",
      "\n",
      "[Test] Accuracy: 81.8%, Avg loss: 0.473761 \n",
      "\n",
      "Epoch 954\n"
     ]
    },
    {
     "data": {
      "application/vnd.jupyter.widget-view+json": {
       "model_id": "c4a66b7a44fb4fd5824f1deebb903cc4",
       "version_major": 2,
       "version_minor": 0
      },
      "text/plain": [
       "  0%|          | 0/2577 [00:00<?, ?it/s]"
      ]
     },
     "metadata": {},
     "output_type": "display_data"
    },
    {
     "name": "stdout",
     "output_type": "stream",
     "text": [
      "[Train] Accuracy: 84.0%, Avg loss: 0.379780 \n",
      "\n",
      "[Test] Accuracy: 81.5%, Avg loss: 0.488940 \n",
      "\n",
      "Epoch 955\n"
     ]
    },
    {
     "data": {
      "application/vnd.jupyter.widget-view+json": {
       "model_id": "4e949c9d4a454275922c1f0c482afe3e",
       "version_major": 2,
       "version_minor": 0
      },
      "text/plain": [
       "  0%|          | 0/2577 [00:00<?, ?it/s]"
      ]
     },
     "metadata": {},
     "output_type": "display_data"
    },
    {
     "name": "stdout",
     "output_type": "stream",
     "text": [
      "[Train] Accuracy: 84.1%, Avg loss: 0.379145 \n",
      "\n",
      "[Test] Accuracy: 81.9%, Avg loss: 0.482816 \n",
      "\n",
      "Epoch 956\n"
     ]
    },
    {
     "data": {
      "application/vnd.jupyter.widget-view+json": {
       "model_id": "56e6d86820504c498de909871f9c595e",
       "version_major": 2,
       "version_minor": 0
      },
      "text/plain": [
       "  0%|          | 0/2577 [00:00<?, ?it/s]"
      ]
     },
     "metadata": {},
     "output_type": "display_data"
    },
    {
     "name": "stdout",
     "output_type": "stream",
     "text": [
      "[Train] Accuracy: 84.0%, Avg loss: 0.378882 \n",
      "\n",
      "[Test] Accuracy: 81.7%, Avg loss: 0.492129 \n",
      "\n",
      "Epoch 957\n"
     ]
    },
    {
     "data": {
      "application/vnd.jupyter.widget-view+json": {
       "model_id": "6cd910a0fa714f86b941d620e6192f83",
       "version_major": 2,
       "version_minor": 0
      },
      "text/plain": [
       "  0%|          | 0/2577 [00:00<?, ?it/s]"
      ]
     },
     "metadata": {},
     "output_type": "display_data"
    },
    {
     "name": "stdout",
     "output_type": "stream",
     "text": [
      "[Train] Accuracy: 84.0%, Avg loss: 0.379893 \n",
      "\n",
      "[Test] Accuracy: 81.7%, Avg loss: 0.475147 \n",
      "\n",
      "Epoch 958\n"
     ]
    },
    {
     "data": {
      "application/vnd.jupyter.widget-view+json": {
       "model_id": "12705ef6966c4bb18a0b11c34ebc4490",
       "version_major": 2,
       "version_minor": 0
      },
      "text/plain": [
       "  0%|          | 0/2577 [00:00<?, ?it/s]"
      ]
     },
     "metadata": {},
     "output_type": "display_data"
    },
    {
     "name": "stdout",
     "output_type": "stream",
     "text": [
      "[Train] Accuracy: 84.1%, Avg loss: 0.379455 \n",
      "\n",
      "[Test] Accuracy: 81.7%, Avg loss: 0.480753 \n",
      "\n",
      "Epoch 959\n"
     ]
    },
    {
     "data": {
      "application/vnd.jupyter.widget-view+json": {
       "model_id": "e4ce38ccc015484fb22a9fe5b0042b97",
       "version_major": 2,
       "version_minor": 0
      },
      "text/plain": [
       "  0%|          | 0/2577 [00:00<?, ?it/s]"
      ]
     },
     "metadata": {},
     "output_type": "display_data"
    },
    {
     "name": "stdout",
     "output_type": "stream",
     "text": [
      "[Train] Accuracy: 84.1%, Avg loss: 0.377822 \n",
      "\n",
      "[Test] Accuracy: 81.5%, Avg loss: 0.494909 \n",
      "\n",
      "Epoch 960\n"
     ]
    },
    {
     "data": {
      "application/vnd.jupyter.widget-view+json": {
       "model_id": "c7326de2e8264a82afffb64e21759957",
       "version_major": 2,
       "version_minor": 0
      },
      "text/plain": [
       "  0%|          | 0/2577 [00:00<?, ?it/s]"
      ]
     },
     "metadata": {},
     "output_type": "display_data"
    },
    {
     "name": "stdout",
     "output_type": "stream",
     "text": [
      "[Train] Accuracy: 84.1%, Avg loss: 0.379767 \n",
      "\n",
      "[Test] Accuracy: 81.5%, Avg loss: 0.471551 \n",
      "\n",
      "Epoch 961\n"
     ]
    },
    {
     "data": {
      "application/vnd.jupyter.widget-view+json": {
       "model_id": "2a28f0ee0acc47ff9de0c4b677af09ff",
       "version_major": 2,
       "version_minor": 0
      },
      "text/plain": [
       "  0%|          | 0/2577 [00:00<?, ?it/s]"
      ]
     },
     "metadata": {},
     "output_type": "display_data"
    },
    {
     "name": "stdout",
     "output_type": "stream",
     "text": [
      "[Train] Accuracy: 84.0%, Avg loss: 0.379947 \n",
      "\n",
      "[Test] Accuracy: 81.7%, Avg loss: 0.462887 \n",
      "\n",
      "Epoch 962\n"
     ]
    },
    {
     "data": {
      "application/vnd.jupyter.widget-view+json": {
       "model_id": "3375230a60e54cb1996b7a6bdfc52126",
       "version_major": 2,
       "version_minor": 0
      },
      "text/plain": [
       "  0%|          | 0/2577 [00:00<?, ?it/s]"
      ]
     },
     "metadata": {},
     "output_type": "display_data"
    },
    {
     "name": "stdout",
     "output_type": "stream",
     "text": [
      "[Train] Accuracy: 83.9%, Avg loss: 0.380580 \n",
      "\n",
      "[Test] Accuracy: 81.3%, Avg loss: 0.487977 \n",
      "\n",
      "Epoch 963\n"
     ]
    },
    {
     "data": {
      "application/vnd.jupyter.widget-view+json": {
       "model_id": "7bdb52feebef4ff28d174a0d297ac484",
       "version_major": 2,
       "version_minor": 0
      },
      "text/plain": [
       "  0%|          | 0/2577 [00:00<?, ?it/s]"
      ]
     },
     "metadata": {},
     "output_type": "display_data"
    },
    {
     "name": "stdout",
     "output_type": "stream",
     "text": [
      "[Train] Accuracy: 84.0%, Avg loss: 0.380052 \n",
      "\n",
      "[Test] Accuracy: 81.4%, Avg loss: 0.469155 \n",
      "\n",
      "Epoch 964\n"
     ]
    },
    {
     "data": {
      "application/vnd.jupyter.widget-view+json": {
       "model_id": "5357c2f08875428b940f1e5ce3b1437e",
       "version_major": 2,
       "version_minor": 0
      },
      "text/plain": [
       "  0%|          | 0/2577 [00:00<?, ?it/s]"
      ]
     },
     "metadata": {},
     "output_type": "display_data"
    },
    {
     "name": "stdout",
     "output_type": "stream",
     "text": [
      "[Train] Accuracy: 83.9%, Avg loss: 0.380470 \n",
      "\n",
      "[Test] Accuracy: 81.8%, Avg loss: 0.480101 \n",
      "\n",
      "Epoch 965\n"
     ]
    },
    {
     "data": {
      "application/vnd.jupyter.widget-view+json": {
       "model_id": "33ed7bf396ca406f91061f4e6025654b",
       "version_major": 2,
       "version_minor": 0
      },
      "text/plain": [
       "  0%|          | 0/2577 [00:00<?, ?it/s]"
      ]
     },
     "metadata": {},
     "output_type": "display_data"
    },
    {
     "name": "stdout",
     "output_type": "stream",
     "text": [
      "[Train] Accuracy: 84.1%, Avg loss: 0.379216 \n",
      "\n",
      "[Test] Accuracy: 81.5%, Avg loss: 0.476887 \n",
      "\n",
      "Epoch 966\n"
     ]
    },
    {
     "data": {
      "application/vnd.jupyter.widget-view+json": {
       "model_id": "87f7ba3760ec47d49e1f694588641cf5",
       "version_major": 2,
       "version_minor": 0
      },
      "text/plain": [
       "  0%|          | 0/2577 [00:00<?, ?it/s]"
      ]
     },
     "metadata": {},
     "output_type": "display_data"
    },
    {
     "name": "stdout",
     "output_type": "stream",
     "text": [
      "[Train] Accuracy: 84.0%, Avg loss: 0.379860 \n",
      "\n",
      "[Test] Accuracy: 81.6%, Avg loss: 0.468456 \n",
      "\n",
      "Epoch 967\n"
     ]
    },
    {
     "data": {
      "application/vnd.jupyter.widget-view+json": {
       "model_id": "252f0236d0454a58ba96d9ecc903bef5",
       "version_major": 2,
       "version_minor": 0
      },
      "text/plain": [
       "  0%|          | 0/2577 [00:00<?, ?it/s]"
      ]
     },
     "metadata": {},
     "output_type": "display_data"
    },
    {
     "name": "stdout",
     "output_type": "stream",
     "text": [
      "[Train] Accuracy: 84.1%, Avg loss: 0.379607 \n",
      "\n",
      "[Test] Accuracy: 81.6%, Avg loss: 0.480693 \n",
      "\n",
      "Epoch 968\n"
     ]
    },
    {
     "data": {
      "application/vnd.jupyter.widget-view+json": {
       "model_id": "31acf8d303164080a842e478aa2790e4",
       "version_major": 2,
       "version_minor": 0
      },
      "text/plain": [
       "  0%|          | 0/2577 [00:00<?, ?it/s]"
      ]
     },
     "metadata": {},
     "output_type": "display_data"
    },
    {
     "name": "stdout",
     "output_type": "stream",
     "text": [
      "[Train] Accuracy: 84.1%, Avg loss: 0.380419 \n",
      "\n",
      "[Test] Accuracy: 81.7%, Avg loss: 0.472449 \n",
      "\n",
      "Epoch 969\n"
     ]
    },
    {
     "data": {
      "application/vnd.jupyter.widget-view+json": {
       "model_id": "c0e080ef37e64b97b61cf8552467b7ba",
       "version_major": 2,
       "version_minor": 0
      },
      "text/plain": [
       "  0%|          | 0/2577 [00:00<?, ?it/s]"
      ]
     },
     "metadata": {},
     "output_type": "display_data"
    },
    {
     "name": "stdout",
     "output_type": "stream",
     "text": [
      "[Train] Accuracy: 84.0%, Avg loss: 0.378523 \n",
      "\n",
      "[Test] Accuracy: 81.8%, Avg loss: 0.476441 \n",
      "\n",
      "Epoch 970\n"
     ]
    },
    {
     "data": {
      "application/vnd.jupyter.widget-view+json": {
       "model_id": "f6dfa9a065a44bab9c87b86dd2922e03",
       "version_major": 2,
       "version_minor": 0
      },
      "text/plain": [
       "  0%|          | 0/2577 [00:00<?, ?it/s]"
      ]
     },
     "metadata": {},
     "output_type": "display_data"
    },
    {
     "name": "stdout",
     "output_type": "stream",
     "text": [
      "[Train] Accuracy: 84.1%, Avg loss: 0.379425 \n",
      "\n",
      "[Test] Accuracy: 81.8%, Avg loss: 0.462099 \n",
      "\n",
      "Epoch 971\n"
     ]
    },
    {
     "data": {
      "application/vnd.jupyter.widget-view+json": {
       "model_id": "18df89e82b8d4ff09ad82fcb294a236a",
       "version_major": 2,
       "version_minor": 0
      },
      "text/plain": [
       "  0%|          | 0/2577 [00:00<?, ?it/s]"
      ]
     },
     "metadata": {},
     "output_type": "display_data"
    },
    {
     "name": "stdout",
     "output_type": "stream",
     "text": [
      "[Train] Accuracy: 84.0%, Avg loss: 0.379338 \n",
      "\n",
      "[Test] Accuracy: 81.7%, Avg loss: 0.478483 \n",
      "\n",
      "Epoch 972\n"
     ]
    },
    {
     "data": {
      "application/vnd.jupyter.widget-view+json": {
       "model_id": "05c3e3cb22804e37be0cbf2eb9a9d904",
       "version_major": 2,
       "version_minor": 0
      },
      "text/plain": [
       "  0%|          | 0/2577 [00:00<?, ?it/s]"
      ]
     },
     "metadata": {},
     "output_type": "display_data"
    },
    {
     "name": "stdout",
     "output_type": "stream",
     "text": [
      "[Train] Accuracy: 84.1%, Avg loss: 0.378010 \n",
      "\n",
      "[Test] Accuracy: 81.6%, Avg loss: 0.483801 \n",
      "\n",
      "Epoch 973\n"
     ]
    },
    {
     "data": {
      "application/vnd.jupyter.widget-view+json": {
       "model_id": "3f7e725e95a147ed9cc36c1c113345bf",
       "version_major": 2,
       "version_minor": 0
      },
      "text/plain": [
       "  0%|          | 0/2577 [00:00<?, ?it/s]"
      ]
     },
     "metadata": {},
     "output_type": "display_data"
    },
    {
     "name": "stdout",
     "output_type": "stream",
     "text": [
      "[Train] Accuracy: 84.1%, Avg loss: 0.378109 \n",
      "\n",
      "[Test] Accuracy: 81.0%, Avg loss: 0.541994 \n",
      "\n",
      "Epoch 974\n"
     ]
    },
    {
     "data": {
      "application/vnd.jupyter.widget-view+json": {
       "model_id": "bc23e4e516444480ab2260331285f0dc",
       "version_major": 2,
       "version_minor": 0
      },
      "text/plain": [
       "  0%|          | 0/2577 [00:00<?, ?it/s]"
      ]
     },
     "metadata": {},
     "output_type": "display_data"
    },
    {
     "name": "stdout",
     "output_type": "stream",
     "text": [
      "[Train] Accuracy: 84.1%, Avg loss: 0.378239 \n",
      "\n",
      "[Test] Accuracy: 80.6%, Avg loss: 0.487410 \n",
      "\n",
      "Epoch 975\n"
     ]
    },
    {
     "data": {
      "application/vnd.jupyter.widget-view+json": {
       "model_id": "6da61b779e314732a925be53d7c4482e",
       "version_major": 2,
       "version_minor": 0
      },
      "text/plain": [
       "  0%|          | 0/2577 [00:00<?, ?it/s]"
      ]
     },
     "metadata": {},
     "output_type": "display_data"
    },
    {
     "name": "stdout",
     "output_type": "stream",
     "text": [
      "[Train] Accuracy: 84.1%, Avg loss: 0.378289 \n",
      "\n",
      "[Test] Accuracy: 81.7%, Avg loss: 0.484450 \n",
      "\n",
      "Epoch 976\n"
     ]
    },
    {
     "data": {
      "application/vnd.jupyter.widget-view+json": {
       "model_id": "96bbc62611f94ecca4040cd080f7ed17",
       "version_major": 2,
       "version_minor": 0
      },
      "text/plain": [
       "  0%|          | 0/2577 [00:00<?, ?it/s]"
      ]
     },
     "metadata": {},
     "output_type": "display_data"
    },
    {
     "name": "stdout",
     "output_type": "stream",
     "text": [
      "[Train] Accuracy: 84.1%, Avg loss: 0.376912 \n",
      "\n",
      "[Test] Accuracy: 81.7%, Avg loss: 0.473539 \n",
      "\n",
      "Epoch 977\n"
     ]
    },
    {
     "data": {
      "application/vnd.jupyter.widget-view+json": {
       "model_id": "d310b9b5883145ab9be4f543eaeabd42",
       "version_major": 2,
       "version_minor": 0
      },
      "text/plain": [
       "  0%|          | 0/2577 [00:00<?, ?it/s]"
      ]
     },
     "metadata": {},
     "output_type": "display_data"
    },
    {
     "name": "stdout",
     "output_type": "stream",
     "text": [
      "[Train] Accuracy: 84.2%, Avg loss: 0.377546 \n",
      "\n",
      "[Test] Accuracy: 81.9%, Avg loss: 0.491411 \n",
      "\n",
      "Epoch 978\n"
     ]
    },
    {
     "data": {
      "application/vnd.jupyter.widget-view+json": {
       "model_id": "a5e9cbf3a7aa4b01afa903aa4f29937f",
       "version_major": 2,
       "version_minor": 0
      },
      "text/plain": [
       "  0%|          | 0/2577 [00:00<?, ?it/s]"
      ]
     },
     "metadata": {},
     "output_type": "display_data"
    },
    {
     "name": "stdout",
     "output_type": "stream",
     "text": [
      "[Train] Accuracy: 84.0%, Avg loss: 0.378900 \n",
      "\n",
      "[Test] Accuracy: 81.8%, Avg loss: 0.474432 \n",
      "\n",
      "Epoch 979\n"
     ]
    },
    {
     "data": {
      "application/vnd.jupyter.widget-view+json": {
       "model_id": "80f450019dc646fc9765c7ddbe1974fe",
       "version_major": 2,
       "version_minor": 0
      },
      "text/plain": [
       "  0%|          | 0/2577 [00:00<?, ?it/s]"
      ]
     },
     "metadata": {},
     "output_type": "display_data"
    },
    {
     "name": "stdout",
     "output_type": "stream",
     "text": [
      "[Train] Accuracy: 84.1%, Avg loss: 0.377915 \n",
      "\n",
      "[Test] Accuracy: 80.8%, Avg loss: 0.483143 \n",
      "\n",
      "Epoch 980\n"
     ]
    },
    {
     "data": {
      "application/vnd.jupyter.widget-view+json": {
       "model_id": "24e7c00d8ea84c4ea6118e8d73909915",
       "version_major": 2,
       "version_minor": 0
      },
      "text/plain": [
       "  0%|          | 0/2577 [00:00<?, ?it/s]"
      ]
     },
     "metadata": {},
     "output_type": "display_data"
    },
    {
     "name": "stdout",
     "output_type": "stream",
     "text": [
      "[Train] Accuracy: 84.1%, Avg loss: 0.378159 \n",
      "\n",
      "[Test] Accuracy: 81.7%, Avg loss: 0.472892 \n",
      "\n",
      "Epoch 981\n"
     ]
    },
    {
     "data": {
      "application/vnd.jupyter.widget-view+json": {
       "model_id": "35884aa025c740858ba0a0ab866a06e5",
       "version_major": 2,
       "version_minor": 0
      },
      "text/plain": [
       "  0%|          | 0/2577 [00:00<?, ?it/s]"
      ]
     },
     "metadata": {},
     "output_type": "display_data"
    },
    {
     "name": "stdout",
     "output_type": "stream",
     "text": [
      "[Train] Accuracy: 84.1%, Avg loss: 0.379102 \n",
      "\n",
      "[Test] Accuracy: 81.6%, Avg loss: 0.470045 \n",
      "\n",
      "Epoch 982\n"
     ]
    },
    {
     "data": {
      "application/vnd.jupyter.widget-view+json": {
       "model_id": "21ae8fe00ef340f9be2059f6ae3ffa2d",
       "version_major": 2,
       "version_minor": 0
      },
      "text/plain": [
       "  0%|          | 0/2577 [00:00<?, ?it/s]"
      ]
     },
     "metadata": {},
     "output_type": "display_data"
    },
    {
     "name": "stdout",
     "output_type": "stream",
     "text": [
      "[Train] Accuracy: 84.1%, Avg loss: 0.377165 \n",
      "\n",
      "[Test] Accuracy: 80.5%, Avg loss: 0.472522 \n",
      "\n",
      "Epoch 983\n"
     ]
    },
    {
     "data": {
      "application/vnd.jupyter.widget-view+json": {
       "model_id": "40f37a4aba5c41d9a5039f9c9e58d381",
       "version_major": 2,
       "version_minor": 0
      },
      "text/plain": [
       "  0%|          | 0/2577 [00:00<?, ?it/s]"
      ]
     },
     "metadata": {},
     "output_type": "display_data"
    },
    {
     "name": "stdout",
     "output_type": "stream",
     "text": [
      "[Train] Accuracy: 84.1%, Avg loss: 0.378155 \n",
      "\n",
      "[Test] Accuracy: 81.1%, Avg loss: 0.472952 \n",
      "\n",
      "Epoch 984\n"
     ]
    },
    {
     "data": {
      "application/vnd.jupyter.widget-view+json": {
       "model_id": "2830e3fc59734c479d0c72a547890973",
       "version_major": 2,
       "version_minor": 0
      },
      "text/plain": [
       "  0%|          | 0/2577 [00:00<?, ?it/s]"
      ]
     },
     "metadata": {},
     "output_type": "display_data"
    },
    {
     "name": "stdout",
     "output_type": "stream",
     "text": [
      "[Train] Accuracy: 84.2%, Avg loss: 0.377206 \n",
      "\n",
      "[Test] Accuracy: 81.8%, Avg loss: 0.470743 \n",
      "\n",
      "Epoch 985\n"
     ]
    },
    {
     "data": {
      "application/vnd.jupyter.widget-view+json": {
       "model_id": "3667bc6f5e5645db94ab4c874963b749",
       "version_major": 2,
       "version_minor": 0
      },
      "text/plain": [
       "  0%|          | 0/2577 [00:00<?, ?it/s]"
      ]
     },
     "metadata": {},
     "output_type": "display_data"
    },
    {
     "name": "stdout",
     "output_type": "stream",
     "text": [
      "[Train] Accuracy: 84.1%, Avg loss: 0.378118 \n",
      "\n",
      "[Test] Accuracy: 81.7%, Avg loss: 0.467970 \n",
      "\n",
      "Epoch 986\n"
     ]
    },
    {
     "data": {
      "application/vnd.jupyter.widget-view+json": {
       "model_id": "40ca1b7970bf4eada5070fe60e5717be",
       "version_major": 2,
       "version_minor": 0
      },
      "text/plain": [
       "  0%|          | 0/2577 [00:00<?, ?it/s]"
      ]
     },
     "metadata": {},
     "output_type": "display_data"
    },
    {
     "name": "stdout",
     "output_type": "stream",
     "text": [
      "[Train] Accuracy: 84.1%, Avg loss: 0.377031 \n",
      "\n",
      "[Test] Accuracy: 81.8%, Avg loss: 0.467828 \n",
      "\n",
      "Epoch 987\n"
     ]
    },
    {
     "data": {
      "application/vnd.jupyter.widget-view+json": {
       "model_id": "9525975c06b64691bfc19a18be1dac50",
       "version_major": 2,
       "version_minor": 0
      },
      "text/plain": [
       "  0%|          | 0/2577 [00:00<?, ?it/s]"
      ]
     },
     "metadata": {},
     "output_type": "display_data"
    },
    {
     "name": "stdout",
     "output_type": "stream",
     "text": [
      "[Train] Accuracy: 84.2%, Avg loss: 0.376721 \n",
      "\n",
      "[Test] Accuracy: 81.6%, Avg loss: 0.474031 \n",
      "\n",
      "Epoch 988\n"
     ]
    },
    {
     "data": {
      "application/vnd.jupyter.widget-view+json": {
       "model_id": "af95dc9aa51f46749e1d221389e8d919",
       "version_major": 2,
       "version_minor": 0
      },
      "text/plain": [
       "  0%|          | 0/2577 [00:00<?, ?it/s]"
      ]
     },
     "metadata": {},
     "output_type": "display_data"
    },
    {
     "name": "stdout",
     "output_type": "stream",
     "text": [
      "[Train] Accuracy: 84.1%, Avg loss: 0.377188 \n",
      "\n",
      "[Test] Accuracy: 81.8%, Avg loss: 0.480223 \n",
      "\n",
      "Epoch 989\n"
     ]
    },
    {
     "data": {
      "application/vnd.jupyter.widget-view+json": {
       "model_id": "26de6673131240309ce54e325aa155a6",
       "version_major": 2,
       "version_minor": 0
      },
      "text/plain": [
       "  0%|          | 0/2577 [00:00<?, ?it/s]"
      ]
     },
     "metadata": {},
     "output_type": "display_data"
    },
    {
     "name": "stdout",
     "output_type": "stream",
     "text": [
      "[Train] Accuracy: 84.1%, Avg loss: 0.377098 \n",
      "\n",
      "[Test] Accuracy: 80.6%, Avg loss: 0.496378 \n",
      "\n",
      "Epoch 990\n"
     ]
    },
    {
     "data": {
      "application/vnd.jupyter.widget-view+json": {
       "model_id": "07dec951ec6048f1821a5da1012ae481",
       "version_major": 2,
       "version_minor": 0
      },
      "text/plain": [
       "  0%|          | 0/2577 [00:00<?, ?it/s]"
      ]
     },
     "metadata": {},
     "output_type": "display_data"
    },
    {
     "name": "stdout",
     "output_type": "stream",
     "text": [
      "[Train] Accuracy: 84.2%, Avg loss: 0.376701 \n",
      "\n",
      "[Test] Accuracy: 81.9%, Avg loss: 0.478052 \n",
      "\n",
      "Epoch 991\n"
     ]
    },
    {
     "data": {
      "application/vnd.jupyter.widget-view+json": {
       "model_id": "f1517998f66b431a8bb48584be71a8d3",
       "version_major": 2,
       "version_minor": 0
      },
      "text/plain": [
       "  0%|          | 0/2577 [00:00<?, ?it/s]"
      ]
     },
     "metadata": {},
     "output_type": "display_data"
    },
    {
     "name": "stdout",
     "output_type": "stream",
     "text": [
      "[Train] Accuracy: 84.2%, Avg loss: 0.376762 \n",
      "\n",
      "[Test] Accuracy: 81.7%, Avg loss: 0.479611 \n",
      "\n",
      "Epoch 992\n"
     ]
    },
    {
     "data": {
      "application/vnd.jupyter.widget-view+json": {
       "model_id": "0159daa28c7344ab995f049f6557882f",
       "version_major": 2,
       "version_minor": 0
      },
      "text/plain": [
       "  0%|          | 0/2577 [00:00<?, ?it/s]"
      ]
     },
     "metadata": {},
     "output_type": "display_data"
    },
    {
     "name": "stdout",
     "output_type": "stream",
     "text": [
      "[Train] Accuracy: 84.1%, Avg loss: 0.377422 \n",
      "\n",
      "[Test] Accuracy: 81.4%, Avg loss: 0.475830 \n",
      "\n",
      "Epoch 993\n"
     ]
    },
    {
     "data": {
      "application/vnd.jupyter.widget-view+json": {
       "model_id": "41a9fe4c8504449ca920364e11a76ac9",
       "version_major": 2,
       "version_minor": 0
      },
      "text/plain": [
       "  0%|          | 0/2577 [00:00<?, ?it/s]"
      ]
     },
     "metadata": {},
     "output_type": "display_data"
    },
    {
     "name": "stdout",
     "output_type": "stream",
     "text": [
      "[Train] Accuracy: 84.1%, Avg loss: 0.376566 \n",
      "\n",
      "[Test] Accuracy: 80.7%, Avg loss: 0.568268 \n",
      "\n",
      "Epoch 994\n"
     ]
    },
    {
     "data": {
      "application/vnd.jupyter.widget-view+json": {
       "model_id": "cdf9960770fa43c8bf88bc1428fdc88b",
       "version_major": 2,
       "version_minor": 0
      },
      "text/plain": [
       "  0%|          | 0/2577 [00:00<?, ?it/s]"
      ]
     },
     "metadata": {},
     "output_type": "display_data"
    },
    {
     "name": "stdout",
     "output_type": "stream",
     "text": [
      "[Train] Accuracy: 84.1%, Avg loss: 0.377187 \n",
      "\n",
      "[Test] Accuracy: 81.8%, Avg loss: 0.476757 \n",
      "\n",
      "Epoch 995\n"
     ]
    },
    {
     "data": {
      "application/vnd.jupyter.widget-view+json": {
       "model_id": "eef0ee7a4604458097b07236e0349531",
       "version_major": 2,
       "version_minor": 0
      },
      "text/plain": [
       "  0%|          | 0/2577 [00:00<?, ?it/s]"
      ]
     },
     "metadata": {},
     "output_type": "display_data"
    },
    {
     "name": "stdout",
     "output_type": "stream",
     "text": [
      "[Train] Accuracy: 84.1%, Avg loss: 0.376870 \n",
      "\n",
      "[Test] Accuracy: 81.0%, Avg loss: 0.490794 \n",
      "\n",
      "Epoch 996\n"
     ]
    },
    {
     "data": {
      "application/vnd.jupyter.widget-view+json": {
       "model_id": "3f623bca7d814949a92eab972d968411",
       "version_major": 2,
       "version_minor": 0
      },
      "text/plain": [
       "  0%|          | 0/2577 [00:00<?, ?it/s]"
      ]
     },
     "metadata": {},
     "output_type": "display_data"
    },
    {
     "name": "stdout",
     "output_type": "stream",
     "text": [
      "[Train] Accuracy: 84.1%, Avg loss: 0.377073 \n",
      "\n",
      "[Test] Accuracy: 81.2%, Avg loss: 0.486884 \n",
      "\n",
      "Epoch 997\n"
     ]
    },
    {
     "data": {
      "application/vnd.jupyter.widget-view+json": {
       "model_id": "49821b7a66a94051a4e20695cc154da1",
       "version_major": 2,
       "version_minor": 0
      },
      "text/plain": [
       "  0%|          | 0/2577 [00:00<?, ?it/s]"
      ]
     },
     "metadata": {},
     "output_type": "display_data"
    },
    {
     "name": "stdout",
     "output_type": "stream",
     "text": [
      "[Train] Accuracy: 84.1%, Avg loss: 0.377203 \n",
      "\n",
      "[Test] Accuracy: 81.5%, Avg loss: 0.476220 \n",
      "\n",
      "Epoch 998\n"
     ]
    },
    {
     "data": {
      "application/vnd.jupyter.widget-view+json": {
       "model_id": "67424154cafe4dd5960bf75ab30c6107",
       "version_major": 2,
       "version_minor": 0
      },
      "text/plain": [
       "  0%|          | 0/2577 [00:00<?, ?it/s]"
      ]
     },
     "metadata": {},
     "output_type": "display_data"
    },
    {
     "name": "stdout",
     "output_type": "stream",
     "text": [
      "[Train] Accuracy: 84.2%, Avg loss: 0.375728 \n",
      "\n",
      "[Test] Accuracy: 81.8%, Avg loss: 0.460024 \n",
      "\n",
      "Epoch 999\n"
     ]
    },
    {
     "data": {
      "application/vnd.jupyter.widget-view+json": {
       "model_id": "c1d7d7740d51441ea10f1e653ed56448",
       "version_major": 2,
       "version_minor": 0
      },
      "text/plain": [
       "  0%|          | 0/2577 [00:00<?, ?it/s]"
      ]
     },
     "metadata": {},
     "output_type": "display_data"
    },
    {
     "name": "stdout",
     "output_type": "stream",
     "text": [
      "[Train] Accuracy: 84.1%, Avg loss: 0.376050 \n",
      "\n",
      "[Test] Accuracy: 81.7%, Avg loss: 0.527136 \n",
      "\n",
      "Epoch 1000\n"
     ]
    },
    {
     "data": {
      "application/vnd.jupyter.widget-view+json": {
       "model_id": "f850bee82b374b388c26a6d4d9e7f582",
       "version_major": 2,
       "version_minor": 0
      },
      "text/plain": [
       "  0%|          | 0/2577 [00:00<?, ?it/s]"
      ]
     },
     "metadata": {},
     "output_type": "display_data"
    },
    {
     "name": "stdout",
     "output_type": "stream",
     "text": [
      "[Train] Accuracy: 84.1%, Avg loss: 0.376802 \n",
      "\n",
      "[Test] Accuracy: 81.4%, Avg loss: 0.481488 \n",
      "\n",
      "Saving model to ../../models/attack_classification/model_weights.pth\n",
      "\n",
      "Done!\n"
     ]
    }
   ],
   "source": [
    "# training and validation\n",
    "# device\n",
    "device = \"cuda\" if torch.cuda.is_available() else \"cpu\"\n",
    "print(f\"Using {device} device\")\n",
    "\n",
    "# summary writer\n",
    "last_log_path = os.path.join(log_path, datetime.now().strftime(\"%Y-%m-%d_%H-%M-%S\"))\n",
    "writer = SummaryWriter(last_log_path)\n",
    "\n",
    "# neural network\n",
    "model = NeuralNetwork().to(device)\n",
    "\n",
    "# load model weight\n",
    "if os.path.isfile(model_path):\n",
    "    print(f'Load model weights form {model_path}')\n",
    "    model.load_state_dict(torch.load(model_path))\n",
    "\n",
    "# loss func and optimizer\n",
    "loss_fn = nn.CrossEntropyLoss()\n",
    "optimizer = torch.optim.SGD(model.parameters(), lr=1e-3)1\n",
    "# optimizer = torch.optim.Adam(model.parameters(), lr=1e-3)\n",
    "\n",
    "# training and validation\n",
    "epochs = 1000\n",
    "for t in range(epochs):\n",
    "    ep = t + 1\n",
    "    print(f\"Epoch {ep}\")\n",
    "    tr_loss, tr_acc = train(tr_dl, model, loss_fn, optimizer, device)\n",
    "    val_loss, val_acc = test(val_dl, model, loss_fn, device)\n",
    "    \n",
    "    # log loss and acc\n",
    "    writer.add_scalar('Loss/train', tr_loss, ep)\n",
    "    writer.add_scalar('Accuracy/train', tr_acc, ep)\n",
    "    writer.add_scalar('Loss/val', val_loss, ep)\n",
    "    writer.add_scalar('Accuracy/val', val_acc, ep)\n",
    "\n",
    "# saving model\n",
    "print(f'Saving model to {model_path}\\n')\n",
    "torch.save(model.state_dict(), model_path)\n",
    "    \n",
    "print(\"Done!\")"
   ]
  },
  {
   "cell_type": "code",
   "execution_count": 9,
   "id": "a83ddf4f",
   "metadata": {},
   "outputs": [
    {
     "name": "stdout",
     "output_type": "stream",
     "text": [
      "[Test] Accuracy: 79.1%, Avg loss: 0.520311 \n",
      "\n"
     ]
    }
   ],
   "source": [
    "# testing\n",
    "tt_loss, tt_acc = test(tt_dl, model, loss_fn, device)\n",
    "writer.add_scalar('Loss/test', tt_loss, 1)\n",
    "writer.add_scalar('Accuracy/test', tt_acc, 1)"
   ]
  },
  {
   "cell_type": "code",
   "execution_count": null,
   "id": "745e7603",
   "metadata": {},
   "outputs": [],
   "source": []
  }
 ],
 "metadata": {
  "kernelspec": {
   "display_name": "Python 3 (ipykernel)",
   "language": "python",
   "name": "python3"
  },
  "language_info": {
   "codemirror_mode": {
    "name": "ipython",
    "version": 3
   },
   "file_extension": ".py",
   "mimetype": "text/x-python",
   "name": "python",
   "nbconvert_exporter": "python",
   "pygments_lexer": "ipython3",
   "version": "3.9.7"
  },
  "toc": {
   "base_numbering": 1,
   "nav_menu": {},
   "number_sections": true,
   "sideBar": true,
   "skip_h1_title": false,
   "title_cell": "Table of Contents",
   "title_sidebar": "Contents",
   "toc_cell": false,
   "toc_position": {},
   "toc_section_display": true,
   "toc_window_display": false
  }
 },
 "nbformat": 4,
 "nbformat_minor": 5
}
