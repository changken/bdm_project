{
 "cells": [
  {
   "cell_type": "code",
   "execution_count": 1,
   "id": "841dfc0b",
   "metadata": {},
   "outputs": [],
   "source": [
    "import numpy as np\n",
    "import pandas as pd\n",
    "\n",
    "import torch\n",
    "import torch.nn as nn\n",
    "from torch.utils.data import Dataset, DataLoader"
   ]
  },
  {
   "cell_type": "code",
   "execution_count": 2,
   "id": "d7bfa04e",
   "metadata": {},
   "outputs": [],
   "source": [
    "tr_path = '../data/processed/training-set.csv'\n",
    "val_path = '../data/processed/validation-set.csv'\n",
    "tt_path = '../data/processed/testing-set.csv'"
   ]
  },
  {
   "cell_type": "code",
   "execution_count": 3,
   "id": "51247fbc",
   "metadata": {},
   "outputs": [],
   "source": [
    "class NUSW_NB15_Dataset(Dataset):\n",
    "    def __init__(self, path, mode='classification'):\n",
    "        ds_type = path.split('/')[-1].split('-')[0]\n",
    "        df = pd.read_csv(path)\n",
    "        \n",
    "        if mode == 'classification':\n",
    "            x = df.drop(['id', 'attack_cat', 'label'], axis=1)\n",
    "            y = pd.Categorical(df['attack_cat']).codes.astype(np.float64)\n",
    "        else:\n",
    "            x = df.drop(['id', 'attack_cat', 'label'], axis=1)\n",
    "            y = df['label'].astype(np.float64)\n",
    "\n",
    "        self.x = torch.FloatTensor(x.to_numpy())\n",
    "        self.y = torch.Tensor(y)\n",
    "\n",
    "        self.dim = self.x.shape[1]\n",
    "\n",
    "        print(\n",
    "            f'Finished reading the {ds_type} set of Dataset '\\\n",
    "            f'({len(self.x)} samples found, each dim = {self.dim})'\n",
    "        )\n",
    "\n",
    "    def __getitem__(self, index):\n",
    "        return self.x[index], self.y[index]\n",
    "\n",
    "    def __len__(self):\n",
    "        return len(self.x)"
   ]
  },
  {
   "cell_type": "code",
   "execution_count": 4,
   "id": "aad9a401",
   "metadata": {},
   "outputs": [],
   "source": [
    "def prep_dataloader(path, mode, batch_size, shuffle):\n",
    "    dataset = NUSW_NB15_Dataset(path, mode)\n",
    "    dataloader = DataLoader(\n",
    "        dataset,\n",
    "        batch_size,\n",
    "        shuffle\n",
    "    )\n",
    "    return dataloader"
   ]
  },
  {
   "cell_type": "code",
   "execution_count": 5,
   "id": "ab8dbdc5",
   "metadata": {},
   "outputs": [
    {
     "name": "stdout",
     "output_type": "stream",
     "text": [
      "Finished reading the training set of Dataset (164910 samples found, each dim = 196)\n",
      "Finished reading the validation set of Dataset (41228 samples found, each dim = 196)\n",
      "Finished reading the testing set of Dataset (51535 samples found, each dim = 196)\n"
     ]
    }
   ],
   "source": [
    "mode = 'classification'\n",
    "\n",
    "tr_dl = prep_dataloader(\n",
    "    tr_path,\n",
    "    mode=mode,\n",
    "    batch_size=64,\n",
    "    shuffle=True\n",
    ")\n",
    "\n",
    "val_dl = prep_dataloader(\n",
    "    val_path,\n",
    "    mode=mode,\n",
    "    batch_size=64,\n",
    "    shuffle=True\n",
    ")\n",
    "\n",
    "tt_dl = prep_dataloader(\n",
    "    tt_path,\n",
    "    mode=mode,\n",
    "    batch_size=64,\n",
    "    shuffle=False\n",
    ")"
   ]
  },
  {
   "cell_type": "code",
   "execution_count": 6,
   "id": "2150966a",
   "metadata": {},
   "outputs": [],
   "source": [
    "class NeuralNetwork(nn.Module):\n",
    "    def __init__(self):\n",
    "        super(NeuralNetwork, self).__init__()\n",
    "        self.flatten = nn.Flatten()\n",
    "        self.linear_relu_stack = nn.Sequential(\n",
    "            nn.Linear(196, 512),\n",
    "            nn.ReLU(),\n",
    "            nn.Linear(512, 512),\n",
    "            nn.ReLU(),\n",
    "            nn.Linear(512, 10),\n",
    "        )\n",
    "\n",
    "    def forward(self, x):\n",
    "        x = self.flatten(x)\n",
    "        logits = self.linear_relu_stack(x)\n",
    "        return logits"
   ]
  }
 ],
 "metadata": {
  "kernelspec": {
   "display_name": "Python 3 (ipykernel)",
   "language": "python",
   "name": "python3"
  },
  "language_info": {
   "codemirror_mode": {
    "name": "ipython",
    "version": 3
   },
   "file_extension": ".py",
   "mimetype": "text/x-python",
   "name": "python",
   "nbconvert_exporter": "python",
   "pygments_lexer": "ipython3",
   "version": "3.9.7"
  },
  "toc": {
   "base_numbering": 1,
   "nav_menu": {},
   "number_sections": true,
   "sideBar": true,
   "skip_h1_title": false,
   "title_cell": "Table of Contents",
   "title_sidebar": "Contents",
   "toc_cell": false,
   "toc_position": {},
   "toc_section_display": true,
   "toc_window_display": false
  }
 },
 "nbformat": 4,
 "nbformat_minor": 5
}
