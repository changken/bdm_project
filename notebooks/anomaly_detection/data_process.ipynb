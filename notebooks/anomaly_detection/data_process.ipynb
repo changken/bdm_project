{
 "cells": [
  {
   "cell_type": "code",
   "execution_count": 1,
   "id": "b83a4568",
   "metadata": {},
   "outputs": [],
   "source": [
    "import numpy as np\n",
    "import pandas as pd\n",
    "from sklearn.model_selection import train_test_split\n",
    "\n",
    "from src.data_process import preprocess"
   ]
  },
  {
   "cell_type": "code",
   "execution_count": 2,
   "id": "a143b32d",
   "metadata": {},
   "outputs": [
    {
     "data": {
      "text/plain": [
       "((82332, 45), (175341, 45))"
      ]
     },
     "execution_count": 2,
     "metadata": {},
     "output_type": "execute_result"
    }
   ],
   "source": [
    "raw_tr = pd.read_csv('../../data/raw/UNSW_NB15_training-set.csv')\n",
    "raw_tt = pd.read_csv('../../data/raw/UNSW_NB15_testing-set.csv')\n",
    "raw_tr.shape, raw_tt.shape"
   ]
  },
  {
   "cell_type": "code",
   "execution_count": 3,
   "id": "6a19f56d",
   "metadata": {},
   "outputs": [
    {
     "data": {
      "text/plain": [
       "{'icmp', 'rtp'}"
      ]
     },
     "execution_count": 3,
     "metadata": {},
     "output_type": "execute_result"
    }
   ],
   "source": [
    "set(raw_tt['proto'].unique()) - set(raw_tr['proto'].unique())"
   ]
  },
  {
   "cell_type": "code",
   "execution_count": 4,
   "id": "e3dede02",
   "metadata": {},
   "outputs": [
    {
     "data": {
      "text/plain": [
       "{'ECO', 'PAR', 'URN', 'no'}"
      ]
     },
     "execution_count": 4,
     "metadata": {},
     "output_type": "execute_result"
    }
   ],
   "source": [
    "set(raw_tt['state'].unique()) - set(raw_tr['state'].unique())"
   ]
  },
  {
   "cell_type": "code",
   "execution_count": 5,
   "id": "e1e289cc",
   "metadata": {},
   "outputs": [
    {
     "data": {
      "text/plain": [
       "(257673, 199)"
      ]
     },
     "execution_count": 5,
     "metadata": {},
     "output_type": "execute_result"
    }
   ],
   "source": [
    "raw_data = pd.concat([raw_tr, raw_tt]).reset_index(drop=True)\n",
    "processed_data = preprocess(raw_data)\n",
    "processed_data.shape"
   ]
  },
  {
   "cell_type": "code",
   "execution_count": 6,
   "id": "89fbf763",
   "metadata": {},
   "outputs": [
    {
     "data": {
      "text/plain": [
       "((164910, 199), (41228, 199), (51535, 199))"
      ]
     },
     "execution_count": 6,
     "metadata": {},
     "output_type": "execute_result"
    }
   ],
   "source": [
    "tr, tt = train_test_split(processed_data, test_size=0.2, random_state=88)\n",
    "tr, val = train_test_split(tr, test_size=0.2, random_state=88)\n",
    "tr.shape, val.shape, tt.shape"
   ]
  },
  {
   "cell_type": "code",
   "execution_count": 8,
   "id": "e7657388",
   "metadata": {},
   "outputs": [],
   "source": [
    "tr.to_csv('../../data/anomaly_detection/training-set.csv', index=False)\n",
    "val.to_csv('../../data/anomaly_detection/validation-set.csv', index=False)\n",
    "tt.to_csv('../../data/anomaly_detection/testing-set.csv', index=False)"
   ]
  }
 ],
 "metadata": {
  "kernelspec": {
   "display_name": "Python 3 (ipykernel)",
   "language": "python",
   "name": "python3"
  },
  "language_info": {
   "codemirror_mode": {
    "name": "ipython",
    "version": 3
   },
   "file_extension": ".py",
   "mimetype": "text/x-python",
   "name": "python",
   "nbconvert_exporter": "python",
   "pygments_lexer": "ipython3",
   "version": "3.9.7"
  },
  "toc": {
   "base_numbering": 1,
   "nav_menu": {},
   "number_sections": true,
   "sideBar": true,
   "skip_h1_title": false,
   "title_cell": "Table of Contents",
   "title_sidebar": "Contents",
   "toc_cell": false,
   "toc_position": {},
   "toc_section_display": true,
   "toc_window_display": false
  }
 },
 "nbformat": 4,
 "nbformat_minor": 5
}
