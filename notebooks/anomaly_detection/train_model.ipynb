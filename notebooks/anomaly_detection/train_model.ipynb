{
 "cells": [
  {
   "cell_type": "code",
   "execution_count": 1,
   "id": "841dfc0b",
   "metadata": {},
   "outputs": [],
   "source": [
    "import os\n",
    "from datetime import datetime\n",
    "import pandas as  pd\n",
    "import numpy as np\n",
    "from sklearn.metrics import confusion_matrix, classification_report\n",
    "import seaborn as sns\n",
    "import matplotlib.pyplot as plt\n",
    "\n",
    "import torch\n",
    "import torch.nn as nn\n",
    "from torch.utils.tensorboard import SummaryWriter\n",
    "\n",
    "from src.dataset import prep_dataloader\n",
    "from src.model import NeuralNetwork\n",
    "from src.training import train, test\n",
    "from src.evaluation import create_loss_label_df, cal_threshold, predict, show_confusion_matrix"
   ]
  },
  {
   "cell_type": "code",
   "execution_count": 2,
   "id": "d8a8e3b9",
   "metadata": {},
   "outputs": [],
   "source": [
    "# config\n",
    "# path\n",
    "tr_path = '../../data/processed/training-set.csv'\n",
    "val_path = '../../data/processed/validation-set.csv'\n",
    "tt_path = '../../data/processed/testing-set.csv'\n",
    "log_path = '../../logs/anomaly_detection'\n",
    "model_path = '../../models/anomaly_detection/model_weights.pth'\n",
    "\n",
    "# hyperparameter\n",
    "batch_size = 64"
   ]
  },
  {
   "cell_type": "code",
   "execution_count": 3,
   "id": "fac3696e",
   "metadata": {},
   "outputs": [
    {
     "name": "stdout",
     "output_type": "stream",
     "text": [
      "Finished reading the training set (normal) of Dataset (59584 samples found, each dim = 196)\n",
      "Finished reading the validation set (normal) of Dataset (14753 samples found, each dim = 196)\n",
      "Finished reading the testing set (normal) of Dataset (18663 samples found, each dim = 196)\n",
      "Finished reading the training set (all) of Dataset (164910 samples found, each dim = 196)\n",
      "Finished reading the validation set (all) of Dataset (41228 samples found, each dim = 196)\n",
      "Finished reading the testing set (all) of Dataset (51535 samples found, each dim = 196)\n"
     ]
    }
   ],
   "source": [
    "# prepare dataloader\n",
    "normal_tr_dl = prep_dataloader(\n",
    "    tr_path,\n",
    "    batch_size,\n",
    "    shuffle=True,\n",
    "    mode='normal'\n",
    ")\n",
    "\n",
    "normal_val_dl = prep_dataloader(\n",
    "    val_path,\n",
    "    batch_size,\n",
    "    shuffle=False,\n",
    "    mode='normal'\n",
    ")\n",
    "\n",
    "normal_tt_dl = prep_dataloader(\n",
    "    tt_path,\n",
    "    batch_size,\n",
    "    shuffle=False,\n",
    "    mode='normal'\n",
    ")\n",
    "\n",
    "all_tr_dl = prep_dataloader(\n",
    "    tr_path,\n",
    "    batch_size,\n",
    "    shuffle=False,\n",
    "    mode='all'\n",
    ")\n",
    "\n",
    "all_val_dl = prep_dataloader(\n",
    "    val_path,\n",
    "    batch_size,\n",
    "    shuffle=False,\n",
    "    mode='all'\n",
    ")\n",
    "\n",
    "all_tt_dl = prep_dataloader(\n",
    "    tt_path,\n",
    "    batch_size,\n",
    "    shuffle=False,\n",
    "    mode='all'\n",
    ")"
   ]
  },
  {
   "cell_type": "code",
   "execution_count": 4,
   "id": "2f880a12",
   "metadata": {},
   "outputs": [
    {
     "name": "stdout",
     "output_type": "stream",
     "text": [
      "Using cuda device\n",
      "Epoch 1\n"
     ]
    },
    {
     "data": {
      "application/vnd.jupyter.widget-view+json": {
       "model_id": "94ea40f71a6c4f1981ebc73474e881ea",
       "version_major": 2,
       "version_minor": 0
      },
      "text/plain": [
       "  0%|          | 0/931 [00:00<?, ?it/s]"
      ]
     },
     "metadata": {},
     "output_type": "display_data"
    },
    {
     "name": "stdout",
     "output_type": "stream",
     "text": [
      "[Train] Avg loss: 0.038916 \n",
      "\n",
      "[Test] Avg loss: 0.010395 \n",
      "\n",
      "Saving model to ../../models/anomaly_detection/model_weights.pth\n",
      "\n",
      "Epoch 2\n"
     ]
    },
    {
     "data": {
      "application/vnd.jupyter.widget-view+json": {
       "model_id": "e6656d161fa74c78838fdb11297e2caa",
       "version_major": 2,
       "version_minor": 0
      },
      "text/plain": [
       "  0%|          | 0/931 [00:00<?, ?it/s]"
      ]
     },
     "metadata": {},
     "output_type": "display_data"
    },
    {
     "name": "stdout",
     "output_type": "stream",
     "text": [
      "[Train] Avg loss: 0.006564 \n",
      "\n",
      "[Test] Avg loss: 0.004597 \n",
      "\n",
      "Saving model to ../../models/anomaly_detection/model_weights.pth\n",
      "\n",
      "Epoch 3\n"
     ]
    },
    {
     "data": {
      "application/vnd.jupyter.widget-view+json": {
       "model_id": "e920dc8075fe4988a0d76ab75f79bf1e",
       "version_major": 2,
       "version_minor": 0
      },
      "text/plain": [
       "  0%|          | 0/931 [00:00<?, ?it/s]"
      ]
     },
     "metadata": {},
     "output_type": "display_data"
    },
    {
     "name": "stdout",
     "output_type": "stream",
     "text": [
      "[Train] Avg loss: 0.004345 \n",
      "\n",
      "[Test] Avg loss: 0.003495 \n",
      "\n",
      "Saving model to ../../models/anomaly_detection/model_weights.pth\n",
      "\n",
      "Epoch 4\n"
     ]
    },
    {
     "data": {
      "application/vnd.jupyter.widget-view+json": {
       "model_id": "5fb16bb786e9471e96120aa6a7ae5747",
       "version_major": 2,
       "version_minor": 0
      },
      "text/plain": [
       "  0%|          | 0/931 [00:00<?, ?it/s]"
      ]
     },
     "metadata": {},
     "output_type": "display_data"
    },
    {
     "name": "stdout",
     "output_type": "stream",
     "text": [
      "[Train] Avg loss: 0.003466 \n",
      "\n",
      "[Test] Avg loss: 0.003027 \n",
      "\n",
      "Saving model to ../../models/anomaly_detection/model_weights.pth\n",
      "\n",
      "Epoch 5\n"
     ]
    },
    {
     "data": {
      "application/vnd.jupyter.widget-view+json": {
       "model_id": "81aa18f8dd9c4ed29b35dacea5ecb761",
       "version_major": 2,
       "version_minor": 0
      },
      "text/plain": [
       "  0%|          | 0/931 [00:00<?, ?it/s]"
      ]
     },
     "metadata": {},
     "output_type": "display_data"
    },
    {
     "name": "stdout",
     "output_type": "stream",
     "text": [
      "[Train] Avg loss: 0.002865 \n",
      "\n",
      "[Test] Avg loss: 0.002355 \n",
      "\n",
      "Saving model to ../../models/anomaly_detection/model_weights.pth\n",
      "\n",
      "Epoch 6\n"
     ]
    },
    {
     "data": {
      "application/vnd.jupyter.widget-view+json": {
       "model_id": "71b30a293cb24ebc928ba46285f4012d",
       "version_major": 2,
       "version_minor": 0
      },
      "text/plain": [
       "  0%|          | 0/931 [00:00<?, ?it/s]"
      ]
     },
     "metadata": {},
     "output_type": "display_data"
    },
    {
     "name": "stdout",
     "output_type": "stream",
     "text": [
      "[Train] Avg loss: 0.002531 \n",
      "\n",
      "[Test] Avg loss: 0.002307 \n",
      "\n",
      "Saving model to ../../models/anomaly_detection/model_weights.pth\n",
      "\n",
      "Epoch 7\n"
     ]
    },
    {
     "data": {
      "application/vnd.jupyter.widget-view+json": {
       "model_id": "a2ac0daa097048c1b7dcb520f0f5b88e",
       "version_major": 2,
       "version_minor": 0
      },
      "text/plain": [
       "  0%|          | 0/931 [00:00<?, ?it/s]"
      ]
     },
     "metadata": {},
     "output_type": "display_data"
    },
    {
     "name": "stdout",
     "output_type": "stream",
     "text": [
      "[Train] Avg loss: 0.002239 \n",
      "\n",
      "[Test] Avg loss: 0.002076 \n",
      "\n",
      "Saving model to ../../models/anomaly_detection/model_weights.pth\n",
      "\n",
      "Epoch 8\n"
     ]
    },
    {
     "data": {
      "application/vnd.jupyter.widget-view+json": {
       "model_id": "f6c2c4b92c224c1492faead7fceef974",
       "version_major": 2,
       "version_minor": 0
      },
      "text/plain": [
       "  0%|          | 0/931 [00:00<?, ?it/s]"
      ]
     },
     "metadata": {},
     "output_type": "display_data"
    },
    {
     "name": "stdout",
     "output_type": "stream",
     "text": [
      "[Train] Avg loss: 0.001979 \n",
      "\n",
      "[Test] Avg loss: 0.001935 \n",
      "\n",
      "Saving model to ../../models/anomaly_detection/model_weights.pth\n",
      "\n",
      "Epoch 9\n"
     ]
    },
    {
     "data": {
      "application/vnd.jupyter.widget-view+json": {
       "model_id": "e897c51710a14516b9b581199fcd5762",
       "version_major": 2,
       "version_minor": 0
      },
      "text/plain": [
       "  0%|          | 0/931 [00:00<?, ?it/s]"
      ]
     },
     "metadata": {},
     "output_type": "display_data"
    },
    {
     "name": "stdout",
     "output_type": "stream",
     "text": [
      "[Train] Avg loss: 0.001860 \n",
      "\n",
      "[Test] Avg loss: 0.001526 \n",
      "\n",
      "Saving model to ../../models/anomaly_detection/model_weights.pth\n",
      "\n",
      "Epoch 10\n"
     ]
    },
    {
     "data": {
      "application/vnd.jupyter.widget-view+json": {
       "model_id": "433bf6963769403e8c374a06b595a30a",
       "version_major": 2,
       "version_minor": 0
      },
      "text/plain": [
       "  0%|          | 0/931 [00:00<?, ?it/s]"
      ]
     },
     "metadata": {},
     "output_type": "display_data"
    },
    {
     "name": "stdout",
     "output_type": "stream",
     "text": [
      "[Train] Avg loss: 0.001786 \n",
      "\n",
      "[Test] Avg loss: 0.001731 \n",
      "\n",
      "Epoch 11\n"
     ]
    },
    {
     "data": {
      "application/vnd.jupyter.widget-view+json": {
       "model_id": "3ea6cf6a5d944402946c5a51d31f27f1",
       "version_major": 2,
       "version_minor": 0
      },
      "text/plain": [
       "  0%|          | 0/931 [00:00<?, ?it/s]"
      ]
     },
     "metadata": {},
     "output_type": "display_data"
    },
    {
     "name": "stdout",
     "output_type": "stream",
     "text": [
      "[Train] Avg loss: 0.001634 \n",
      "\n",
      "[Test] Avg loss: 0.001462 \n",
      "\n",
      "Saving model to ../../models/anomaly_detection/model_weights.pth\n",
      "\n",
      "Epoch 12\n"
     ]
    },
    {
     "data": {
      "application/vnd.jupyter.widget-view+json": {
       "model_id": "d8c3f2cd477c4486a45a0524162e77d5",
       "version_major": 2,
       "version_minor": 0
      },
      "text/plain": [
       "  0%|          | 0/931 [00:00<?, ?it/s]"
      ]
     },
     "metadata": {},
     "output_type": "display_data"
    },
    {
     "name": "stdout",
     "output_type": "stream",
     "text": [
      "[Train] Avg loss: 0.001668 \n",
      "\n",
      "[Test] Avg loss: 0.001262 \n",
      "\n",
      "Saving model to ../../models/anomaly_detection/model_weights.pth\n",
      "\n",
      "Epoch 13\n"
     ]
    },
    {
     "data": {
      "application/vnd.jupyter.widget-view+json": {
       "model_id": "07e736c139974c6588e00ae1c7a27b78",
       "version_major": 2,
       "version_minor": 0
      },
      "text/plain": [
       "  0%|          | 0/931 [00:00<?, ?it/s]"
      ]
     },
     "metadata": {},
     "output_type": "display_data"
    },
    {
     "name": "stdout",
     "output_type": "stream",
     "text": [
      "[Train] Avg loss: 0.001594 \n",
      "\n",
      "[Test] Avg loss: 0.001303 \n",
      "\n",
      "Epoch 14\n"
     ]
    },
    {
     "data": {
      "application/vnd.jupyter.widget-view+json": {
       "model_id": "3945b3dd6cb2420ea543416c22e0eed7",
       "version_major": 2,
       "version_minor": 0
      },
      "text/plain": [
       "  0%|          | 0/931 [00:00<?, ?it/s]"
      ]
     },
     "metadata": {},
     "output_type": "display_data"
    },
    {
     "name": "stdout",
     "output_type": "stream",
     "text": [
      "[Train] Avg loss: 0.001458 \n",
      "\n",
      "[Test] Avg loss: 0.001202 \n",
      "\n",
      "Saving model to ../../models/anomaly_detection/model_weights.pth\n",
      "\n",
      "Epoch 15\n"
     ]
    },
    {
     "data": {
      "application/vnd.jupyter.widget-view+json": {
       "model_id": "3a3ad411c83e4f7482e5e0b255045c1c",
       "version_major": 2,
       "version_minor": 0
      },
      "text/plain": [
       "  0%|          | 0/931 [00:00<?, ?it/s]"
      ]
     },
     "metadata": {},
     "output_type": "display_data"
    },
    {
     "name": "stdout",
     "output_type": "stream",
     "text": [
      "[Train] Avg loss: 0.001449 \n",
      "\n",
      "[Test] Avg loss: 0.002406 \n",
      "\n",
      "Epoch 16\n"
     ]
    },
    {
     "data": {
      "application/vnd.jupyter.widget-view+json": {
       "model_id": "eae39fe9e12e435ebd6c30cf9cabe864",
       "version_major": 2,
       "version_minor": 0
      },
      "text/plain": [
       "  0%|          | 0/931 [00:00<?, ?it/s]"
      ]
     },
     "metadata": {},
     "output_type": "display_data"
    },
    {
     "name": "stdout",
     "output_type": "stream",
     "text": [
      "[Train] Avg loss: 0.001382 \n",
      "\n",
      "[Test] Avg loss: 0.001349 \n",
      "\n",
      "Epoch 17\n"
     ]
    },
    {
     "data": {
      "application/vnd.jupyter.widget-view+json": {
       "model_id": "8129dd6e80cb4aa4803a4e009181471f",
       "version_major": 2,
       "version_minor": 0
      },
      "text/plain": [
       "  0%|          | 0/931 [00:00<?, ?it/s]"
      ]
     },
     "metadata": {},
     "output_type": "display_data"
    },
    {
     "name": "stdout",
     "output_type": "stream",
     "text": [
      "[Train] Avg loss: 0.001390 \n",
      "\n",
      "[Test] Avg loss: 0.001155 \n",
      "\n",
      "Saving model to ../../models/anomaly_detection/model_weights.pth\n",
      "\n",
      "Epoch 18\n"
     ]
    },
    {
     "data": {
      "application/vnd.jupyter.widget-view+json": {
       "model_id": "c4d252d9b9a6483bb1b30b9c7a2b0d6b",
       "version_major": 2,
       "version_minor": 0
      },
      "text/plain": [
       "  0%|          | 0/931 [00:00<?, ?it/s]"
      ]
     },
     "metadata": {},
     "output_type": "display_data"
    },
    {
     "name": "stdout",
     "output_type": "stream",
     "text": [
      "[Train] Avg loss: 0.001388 \n",
      "\n",
      "[Test] Avg loss: 0.001172 \n",
      "\n",
      "Epoch 19\n"
     ]
    },
    {
     "data": {
      "application/vnd.jupyter.widget-view+json": {
       "model_id": "f250cd0c5a5843bb8b22c4a317e15174",
       "version_major": 2,
       "version_minor": 0
      },
      "text/plain": [
       "  0%|          | 0/931 [00:00<?, ?it/s]"
      ]
     },
     "metadata": {},
     "output_type": "display_data"
    },
    {
     "name": "stdout",
     "output_type": "stream",
     "text": [
      "[Train] Avg loss: 0.001346 \n",
      "\n",
      "[Test] Avg loss: 0.001122 \n",
      "\n",
      "Saving model to ../../models/anomaly_detection/model_weights.pth\n",
      "\n",
      "Epoch 20\n"
     ]
    },
    {
     "data": {
      "application/vnd.jupyter.widget-view+json": {
       "model_id": "4653f7b015514cb5a54260c2757c8a03",
       "version_major": 2,
       "version_minor": 0
      },
      "text/plain": [
       "  0%|          | 0/931 [00:00<?, ?it/s]"
      ]
     },
     "metadata": {},
     "output_type": "display_data"
    },
    {
     "name": "stdout",
     "output_type": "stream",
     "text": [
      "[Train] Avg loss: 0.001183 \n",
      "\n",
      "[Test] Avg loss: 0.001319 \n",
      "\n",
      "Epoch 21\n"
     ]
    },
    {
     "data": {
      "application/vnd.jupyter.widget-view+json": {
       "model_id": "9ce853b5f7ad42fcbff27ee126d30ad5",
       "version_major": 2,
       "version_minor": 0
      },
      "text/plain": [
       "  0%|          | 0/931 [00:00<?, ?it/s]"
      ]
     },
     "metadata": {},
     "output_type": "display_data"
    },
    {
     "name": "stdout",
     "output_type": "stream",
     "text": [
      "[Train] Avg loss: 0.001307 \n",
      "\n",
      "[Test] Avg loss: 0.001111 \n",
      "\n",
      "Saving model to ../../models/anomaly_detection/model_weights.pth\n",
      "\n",
      "Epoch 22\n"
     ]
    },
    {
     "data": {
      "application/vnd.jupyter.widget-view+json": {
       "model_id": "3141e42e673b45788635f3a8877305ae",
       "version_major": 2,
       "version_minor": 0
      },
      "text/plain": [
       "  0%|          | 0/931 [00:00<?, ?it/s]"
      ]
     },
     "metadata": {},
     "output_type": "display_data"
    },
    {
     "name": "stdout",
     "output_type": "stream",
     "text": [
      "[Train] Avg loss: 0.001163 \n",
      "\n",
      "[Test] Avg loss: 0.001123 \n",
      "\n",
      "Epoch 23\n"
     ]
    },
    {
     "data": {
      "application/vnd.jupyter.widget-view+json": {
       "model_id": "d9b38eb803194cf5bae06a4615610d75",
       "version_major": 2,
       "version_minor": 0
      },
      "text/plain": [
       "  0%|          | 0/931 [00:00<?, ?it/s]"
      ]
     },
     "metadata": {},
     "output_type": "display_data"
    },
    {
     "name": "stdout",
     "output_type": "stream",
     "text": [
      "[Train] Avg loss: 0.001235 \n",
      "\n",
      "[Test] Avg loss: 0.001061 \n",
      "\n",
      "Saving model to ../../models/anomaly_detection/model_weights.pth\n",
      "\n",
      "Epoch 24\n"
     ]
    },
    {
     "data": {
      "application/vnd.jupyter.widget-view+json": {
       "model_id": "71f3e45dfc164b9693be542b47943fea",
       "version_major": 2,
       "version_minor": 0
      },
      "text/plain": [
       "  0%|          | 0/931 [00:00<?, ?it/s]"
      ]
     },
     "metadata": {},
     "output_type": "display_data"
    },
    {
     "name": "stdout",
     "output_type": "stream",
     "text": [
      "[Train] Avg loss: 0.001171 \n",
      "\n",
      "[Test] Avg loss: 0.001506 \n",
      "\n",
      "Epoch 25\n"
     ]
    },
    {
     "data": {
      "application/vnd.jupyter.widget-view+json": {
       "model_id": "34c7782705a141b390c4ace60747fe63",
       "version_major": 2,
       "version_minor": 0
      },
      "text/plain": [
       "  0%|          | 0/931 [00:00<?, ?it/s]"
      ]
     },
     "metadata": {},
     "output_type": "display_data"
    },
    {
     "name": "stdout",
     "output_type": "stream",
     "text": [
      "[Train] Avg loss: 0.001152 \n",
      "\n",
      "[Test] Avg loss: 0.000928 \n",
      "\n",
      "Saving model to ../../models/anomaly_detection/model_weights.pth\n",
      "\n",
      "Epoch 26\n"
     ]
    },
    {
     "data": {
      "application/vnd.jupyter.widget-view+json": {
       "model_id": "26f46929b3fb489db6ecb314898274cc",
       "version_major": 2,
       "version_minor": 0
      },
      "text/plain": [
       "  0%|          | 0/931 [00:00<?, ?it/s]"
      ]
     },
     "metadata": {},
     "output_type": "display_data"
    },
    {
     "name": "stdout",
     "output_type": "stream",
     "text": [
      "[Train] Avg loss: 0.001042 \n",
      "\n",
      "[Test] Avg loss: 0.000996 \n",
      "\n",
      "Epoch 27\n"
     ]
    },
    {
     "data": {
      "application/vnd.jupyter.widget-view+json": {
       "model_id": "9d971221ee4c4a5fbb8a4be30f1a0403",
       "version_major": 2,
       "version_minor": 0
      },
      "text/plain": [
       "  0%|          | 0/931 [00:00<?, ?it/s]"
      ]
     },
     "metadata": {},
     "output_type": "display_data"
    },
    {
     "name": "stdout",
     "output_type": "stream",
     "text": [
      "[Train] Avg loss: 0.001152 \n",
      "\n",
      "[Test] Avg loss: 0.000912 \n",
      "\n",
      "Saving model to ../../models/anomaly_detection/model_weights.pth\n",
      "\n",
      "Epoch 28\n"
     ]
    },
    {
     "data": {
      "application/vnd.jupyter.widget-view+json": {
       "model_id": "a2c5e144f83c46fca8a669bf34f8a3b8",
       "version_major": 2,
       "version_minor": 0
      },
      "text/plain": [
       "  0%|          | 0/931 [00:00<?, ?it/s]"
      ]
     },
     "metadata": {},
     "output_type": "display_data"
    },
    {
     "name": "stdout",
     "output_type": "stream",
     "text": [
      "[Train] Avg loss: 0.001331 \n",
      "\n",
      "[Test] Avg loss: 0.001367 \n",
      "\n",
      "Epoch 29\n"
     ]
    },
    {
     "data": {
      "application/vnd.jupyter.widget-view+json": {
       "model_id": "34fb386fcb38447a949e561fa1c9d24e",
       "version_major": 2,
       "version_minor": 0
      },
      "text/plain": [
       "  0%|          | 0/931 [00:00<?, ?it/s]"
      ]
     },
     "metadata": {},
     "output_type": "display_data"
    },
    {
     "name": "stdout",
     "output_type": "stream",
     "text": [
      "[Train] Avg loss: 0.001007 \n",
      "\n",
      "[Test] Avg loss: 0.000820 \n",
      "\n",
      "Saving model to ../../models/anomaly_detection/model_weights.pth\n",
      "\n",
      "Epoch 30\n"
     ]
    },
    {
     "data": {
      "application/vnd.jupyter.widget-view+json": {
       "model_id": "5e77989ac0994411a10e44e1ab558848",
       "version_major": 2,
       "version_minor": 0
      },
      "text/plain": [
       "  0%|          | 0/931 [00:00<?, ?it/s]"
      ]
     },
     "metadata": {},
     "output_type": "display_data"
    },
    {
     "name": "stdout",
     "output_type": "stream",
     "text": [
      "[Train] Avg loss: 0.000997 \n",
      "\n",
      "[Test] Avg loss: 0.000844 \n",
      "\n",
      "Epoch 31\n"
     ]
    },
    {
     "data": {
      "application/vnd.jupyter.widget-view+json": {
       "model_id": "cadbf1432d8147378e068ff66cbe7ad5",
       "version_major": 2,
       "version_minor": 0
      },
      "text/plain": [
       "  0%|          | 0/931 [00:00<?, ?it/s]"
      ]
     },
     "metadata": {},
     "output_type": "display_data"
    },
    {
     "name": "stdout",
     "output_type": "stream",
     "text": [
      "[Train] Avg loss: 0.000988 \n",
      "\n",
      "[Test] Avg loss: 0.000802 \n",
      "\n",
      "Saving model to ../../models/anomaly_detection/model_weights.pth\n",
      "\n",
      "Epoch 32\n"
     ]
    },
    {
     "data": {
      "application/vnd.jupyter.widget-view+json": {
       "model_id": "28a871213999429cb650cd839d65faff",
       "version_major": 2,
       "version_minor": 0
      },
      "text/plain": [
       "  0%|          | 0/931 [00:00<?, ?it/s]"
      ]
     },
     "metadata": {},
     "output_type": "display_data"
    },
    {
     "name": "stdout",
     "output_type": "stream",
     "text": [
      "[Train] Avg loss: 0.000999 \n",
      "\n",
      "[Test] Avg loss: 0.000977 \n",
      "\n",
      "Epoch 33\n"
     ]
    },
    {
     "data": {
      "application/vnd.jupyter.widget-view+json": {
       "model_id": "9f5dbe7c90e24e29b32ce8738ba29090",
       "version_major": 2,
       "version_minor": 0
      },
      "text/plain": [
       "  0%|          | 0/931 [00:00<?, ?it/s]"
      ]
     },
     "metadata": {},
     "output_type": "display_data"
    },
    {
     "name": "stdout",
     "output_type": "stream",
     "text": [
      "[Train] Avg loss: 0.000947 \n",
      "\n",
      "[Test] Avg loss: 0.002263 \n",
      "\n",
      "Epoch 34\n"
     ]
    },
    {
     "data": {
      "application/vnd.jupyter.widget-view+json": {
       "model_id": "7ae2d8afb0ba44758b57923ca7745398",
       "version_major": 2,
       "version_minor": 0
      },
      "text/plain": [
       "  0%|          | 0/931 [00:00<?, ?it/s]"
      ]
     },
     "metadata": {},
     "output_type": "display_data"
    },
    {
     "name": "stdout",
     "output_type": "stream",
     "text": [
      "[Train] Avg loss: 0.001015 \n",
      "\n",
      "[Test] Avg loss: 0.000756 \n",
      "\n",
      "Saving model to ../../models/anomaly_detection/model_weights.pth\n",
      "\n",
      "Epoch 35\n"
     ]
    },
    {
     "data": {
      "application/vnd.jupyter.widget-view+json": {
       "model_id": "beb6f264449344c09f6ecec0fa785f43",
       "version_major": 2,
       "version_minor": 0
      },
      "text/plain": [
       "  0%|          | 0/931 [00:00<?, ?it/s]"
      ]
     },
     "metadata": {},
     "output_type": "display_data"
    },
    {
     "name": "stdout",
     "output_type": "stream",
     "text": [
      "[Train] Avg loss: 0.000995 \n",
      "\n",
      "[Test] Avg loss: 0.000719 \n",
      "\n",
      "Saving model to ../../models/anomaly_detection/model_weights.pth\n",
      "\n",
      "Epoch 36\n"
     ]
    },
    {
     "data": {
      "application/vnd.jupyter.widget-view+json": {
       "model_id": "480988e10f7d4d499ed96d1358f6ede1",
       "version_major": 2,
       "version_minor": 0
      },
      "text/plain": [
       "  0%|          | 0/931 [00:00<?, ?it/s]"
      ]
     },
     "metadata": {},
     "output_type": "display_data"
    },
    {
     "name": "stdout",
     "output_type": "stream",
     "text": [
      "[Train] Avg loss: 0.000947 \n",
      "\n",
      "[Test] Avg loss: 0.000763 \n",
      "\n",
      "Epoch 37\n"
     ]
    },
    {
     "data": {
      "application/vnd.jupyter.widget-view+json": {
       "model_id": "9c9bc64dfe49436fbcd7e48e92497c66",
       "version_major": 2,
       "version_minor": 0
      },
      "text/plain": [
       "  0%|          | 0/931 [00:00<?, ?it/s]"
      ]
     },
     "metadata": {},
     "output_type": "display_data"
    },
    {
     "name": "stdout",
     "output_type": "stream",
     "text": [
      "[Train] Avg loss: 0.000848 \n",
      "\n",
      "[Test] Avg loss: 0.000973 \n",
      "\n",
      "Epoch 38\n"
     ]
    },
    {
     "data": {
      "application/vnd.jupyter.widget-view+json": {
       "model_id": "b6cffb0c171e4ba1b697f932aca251ae",
       "version_major": 2,
       "version_minor": 0
      },
      "text/plain": [
       "  0%|          | 0/931 [00:00<?, ?it/s]"
      ]
     },
     "metadata": {},
     "output_type": "display_data"
    },
    {
     "name": "stdout",
     "output_type": "stream",
     "text": [
      "[Train] Avg loss: 0.000879 \n",
      "\n",
      "[Test] Avg loss: 0.000753 \n",
      "\n",
      "Epoch 39\n"
     ]
    },
    {
     "data": {
      "application/vnd.jupyter.widget-view+json": {
       "model_id": "ee3418cfac0f4a9f8442cc764c08faf8",
       "version_major": 2,
       "version_minor": 0
      },
      "text/plain": [
       "  0%|          | 0/931 [00:00<?, ?it/s]"
      ]
     },
     "metadata": {},
     "output_type": "display_data"
    },
    {
     "name": "stdout",
     "output_type": "stream",
     "text": [
      "[Train] Avg loss: 0.000860 \n",
      "\n",
      "[Test] Avg loss: 0.000686 \n",
      "\n",
      "Saving model to ../../models/anomaly_detection/model_weights.pth\n",
      "\n",
      "Epoch 40\n"
     ]
    },
    {
     "data": {
      "application/vnd.jupyter.widget-view+json": {
       "model_id": "8d9faefe287a4f26a577fb643ff39dfa",
       "version_major": 2,
       "version_minor": 0
      },
      "text/plain": [
       "  0%|          | 0/931 [00:00<?, ?it/s]"
      ]
     },
     "metadata": {},
     "output_type": "display_data"
    },
    {
     "name": "stdout",
     "output_type": "stream",
     "text": [
      "[Train] Avg loss: 0.000807 \n",
      "\n",
      "[Test] Avg loss: 0.000727 \n",
      "\n",
      "Epoch 41\n"
     ]
    },
    {
     "data": {
      "application/vnd.jupyter.widget-view+json": {
       "model_id": "a3fa997e0f574eb39eb7cfc6836dd63e",
       "version_major": 2,
       "version_minor": 0
      },
      "text/plain": [
       "  0%|          | 0/931 [00:00<?, ?it/s]"
      ]
     },
     "metadata": {},
     "output_type": "display_data"
    },
    {
     "name": "stdout",
     "output_type": "stream",
     "text": [
      "[Train] Avg loss: 0.000819 \n",
      "\n",
      "[Test] Avg loss: 0.000734 \n",
      "\n",
      "Epoch 42\n"
     ]
    },
    {
     "data": {
      "application/vnd.jupyter.widget-view+json": {
       "model_id": "3289ed2ba1b0402bb8a6b65867cc5768",
       "version_major": 2,
       "version_minor": 0
      },
      "text/plain": [
       "  0%|          | 0/931 [00:00<?, ?it/s]"
      ]
     },
     "metadata": {},
     "output_type": "display_data"
    },
    {
     "name": "stdout",
     "output_type": "stream",
     "text": [
      "[Train] Avg loss: 0.000847 \n",
      "\n",
      "[Test] Avg loss: 0.001552 \n",
      "\n",
      "Epoch 43\n"
     ]
    },
    {
     "data": {
      "application/vnd.jupyter.widget-view+json": {
       "model_id": "30242b0b2a84415f9334b7585af44526",
       "version_major": 2,
       "version_minor": 0
      },
      "text/plain": [
       "  0%|          | 0/931 [00:00<?, ?it/s]"
      ]
     },
     "metadata": {},
     "output_type": "display_data"
    },
    {
     "name": "stdout",
     "output_type": "stream",
     "text": [
      "[Train] Avg loss: 0.000791 \n",
      "\n",
      "[Test] Avg loss: 0.000594 \n",
      "\n",
      "Saving model to ../../models/anomaly_detection/model_weights.pth\n",
      "\n",
      "Epoch 44\n"
     ]
    },
    {
     "data": {
      "application/vnd.jupyter.widget-view+json": {
       "model_id": "fc7cecc9443f4ed081e4b85edf1f9be0",
       "version_major": 2,
       "version_minor": 0
      },
      "text/plain": [
       "  0%|          | 0/931 [00:00<?, ?it/s]"
      ]
     },
     "metadata": {},
     "output_type": "display_data"
    },
    {
     "name": "stdout",
     "output_type": "stream",
     "text": [
      "[Train] Avg loss: 0.000685 \n",
      "\n",
      "[Test] Avg loss: 0.000703 \n",
      "\n",
      "Epoch 45\n"
     ]
    },
    {
     "data": {
      "application/vnd.jupyter.widget-view+json": {
       "model_id": "d26cba0f46854a2d8d8d227c4331ec5d",
       "version_major": 2,
       "version_minor": 0
      },
      "text/plain": [
       "  0%|          | 0/931 [00:00<?, ?it/s]"
      ]
     },
     "metadata": {},
     "output_type": "display_data"
    },
    {
     "name": "stdout",
     "output_type": "stream",
     "text": [
      "[Train] Avg loss: 0.000743 \n",
      "\n",
      "[Test] Avg loss: 0.001026 \n",
      "\n",
      "Epoch 46\n"
     ]
    },
    {
     "data": {
      "application/vnd.jupyter.widget-view+json": {
       "model_id": "f12c5b3639bb4a02977149267783045b",
       "version_major": 2,
       "version_minor": 0
      },
      "text/plain": [
       "  0%|          | 0/931 [00:00<?, ?it/s]"
      ]
     },
     "metadata": {},
     "output_type": "display_data"
    },
    {
     "name": "stdout",
     "output_type": "stream",
     "text": [
      "[Train] Avg loss: 0.000720 \n",
      "\n",
      "[Test] Avg loss: 0.000645 \n",
      "\n",
      "Epoch 47\n"
     ]
    },
    {
     "data": {
      "application/vnd.jupyter.widget-view+json": {
       "model_id": "a09c6d2960344e129a4bfad9ec8ffefa",
       "version_major": 2,
       "version_minor": 0
      },
      "text/plain": [
       "  0%|          | 0/931 [00:00<?, ?it/s]"
      ]
     },
     "metadata": {},
     "output_type": "display_data"
    },
    {
     "name": "stdout",
     "output_type": "stream",
     "text": [
      "[Train] Avg loss: 0.000695 \n",
      "\n",
      "[Test] Avg loss: 0.000612 \n",
      "\n",
      "Epoch 48\n"
     ]
    },
    {
     "data": {
      "application/vnd.jupyter.widget-view+json": {
       "model_id": "98a7e9a6a72d40209a714c524ee66c5a",
       "version_major": 2,
       "version_minor": 0
      },
      "text/plain": [
       "  0%|          | 0/931 [00:00<?, ?it/s]"
      ]
     },
     "metadata": {},
     "output_type": "display_data"
    },
    {
     "name": "stdout",
     "output_type": "stream",
     "text": [
      "[Train] Avg loss: 0.000698 \n",
      "\n",
      "[Test] Avg loss: 0.000657 \n",
      "\n",
      "Epoch 49\n"
     ]
    },
    {
     "data": {
      "application/vnd.jupyter.widget-view+json": {
       "model_id": "f137f13f528b4b4b9050b028d89ea7ce",
       "version_major": 2,
       "version_minor": 0
      },
      "text/plain": [
       "  0%|          | 0/931 [00:00<?, ?it/s]"
      ]
     },
     "metadata": {},
     "output_type": "display_data"
    },
    {
     "name": "stdout",
     "output_type": "stream",
     "text": [
      "[Train] Avg loss: 0.000629 \n",
      "\n",
      "[Test] Avg loss: 0.000544 \n",
      "\n",
      "Saving model to ../../models/anomaly_detection/model_weights.pth\n",
      "\n",
      "Epoch 50\n"
     ]
    },
    {
     "data": {
      "application/vnd.jupyter.widget-view+json": {
       "model_id": "0fdb2061dea549f0b3b6048cfdea1947",
       "version_major": 2,
       "version_minor": 0
      },
      "text/plain": [
       "  0%|          | 0/931 [00:00<?, ?it/s]"
      ]
     },
     "metadata": {},
     "output_type": "display_data"
    },
    {
     "name": "stdout",
     "output_type": "stream",
     "text": [
      "[Train] Avg loss: 0.000720 \n",
      "\n",
      "[Test] Avg loss: 0.000524 \n",
      "\n",
      "Saving model to ../../models/anomaly_detection/model_weights.pth\n",
      "\n",
      "Epoch 51\n"
     ]
    },
    {
     "data": {
      "application/vnd.jupyter.widget-view+json": {
       "model_id": "30503efe647341178cc9f973667b5ce4",
       "version_major": 2,
       "version_minor": 0
      },
      "text/plain": [
       "  0%|          | 0/931 [00:00<?, ?it/s]"
      ]
     },
     "metadata": {},
     "output_type": "display_data"
    },
    {
     "name": "stdout",
     "output_type": "stream",
     "text": [
      "[Train] Avg loss: 0.000720 \n",
      "\n",
      "[Test] Avg loss: 0.001025 \n",
      "\n",
      "Epoch 52\n"
     ]
    },
    {
     "data": {
      "application/vnd.jupyter.widget-view+json": {
       "model_id": "5924d7810ad5488f878b526dd3a11694",
       "version_major": 2,
       "version_minor": 0
      },
      "text/plain": [
       "  0%|          | 0/931 [00:00<?, ?it/s]"
      ]
     },
     "metadata": {},
     "output_type": "display_data"
    },
    {
     "name": "stdout",
     "output_type": "stream",
     "text": [
      "[Train] Avg loss: 0.000621 \n",
      "\n",
      "[Test] Avg loss: 0.000574 \n",
      "\n",
      "Epoch 53\n"
     ]
    },
    {
     "data": {
      "application/vnd.jupyter.widget-view+json": {
       "model_id": "0592281a79da434a8a81e27bcf517509",
       "version_major": 2,
       "version_minor": 0
      },
      "text/plain": [
       "  0%|          | 0/931 [00:00<?, ?it/s]"
      ]
     },
     "metadata": {},
     "output_type": "display_data"
    },
    {
     "name": "stdout",
     "output_type": "stream",
     "text": [
      "[Train] Avg loss: 0.000664 \n",
      "\n",
      "[Test] Avg loss: 0.001180 \n",
      "\n",
      "Epoch 54\n"
     ]
    },
    {
     "data": {
      "application/vnd.jupyter.widget-view+json": {
       "model_id": "88f92f01a5ec41199093ec2a7e2978c7",
       "version_major": 2,
       "version_minor": 0
      },
      "text/plain": [
       "  0%|          | 0/931 [00:00<?, ?it/s]"
      ]
     },
     "metadata": {},
     "output_type": "display_data"
    },
    {
     "name": "stdout",
     "output_type": "stream",
     "text": [
      "[Train] Avg loss: 0.000643 \n",
      "\n",
      "[Test] Avg loss: 0.000498 \n",
      "\n",
      "Saving model to ../../models/anomaly_detection/model_weights.pth\n",
      "\n",
      "Epoch 55\n"
     ]
    },
    {
     "data": {
      "application/vnd.jupyter.widget-view+json": {
       "model_id": "be56c1261d934d16aa71906911044a48",
       "version_major": 2,
       "version_minor": 0
      },
      "text/plain": [
       "  0%|          | 0/931 [00:00<?, ?it/s]"
      ]
     },
     "metadata": {},
     "output_type": "display_data"
    },
    {
     "name": "stdout",
     "output_type": "stream",
     "text": [
      "[Train] Avg loss: 0.000604 \n",
      "\n",
      "[Test] Avg loss: 0.001097 \n",
      "\n",
      "Epoch 56\n"
     ]
    },
    {
     "data": {
      "application/vnd.jupyter.widget-view+json": {
       "model_id": "facfdc527678457581db708cb12d77cf",
       "version_major": 2,
       "version_minor": 0
      },
      "text/plain": [
       "  0%|          | 0/931 [00:00<?, ?it/s]"
      ]
     },
     "metadata": {},
     "output_type": "display_data"
    },
    {
     "name": "stdout",
     "output_type": "stream",
     "text": [
      "[Train] Avg loss: 0.000685 \n",
      "\n",
      "[Test] Avg loss: 0.000483 \n",
      "\n",
      "Saving model to ../../models/anomaly_detection/model_weights.pth\n",
      "\n",
      "Epoch 57\n"
     ]
    },
    {
     "data": {
      "application/vnd.jupyter.widget-view+json": {
       "model_id": "b074a01cfb9944f9a86a8f27daa038b4",
       "version_major": 2,
       "version_minor": 0
      },
      "text/plain": [
       "  0%|          | 0/931 [00:00<?, ?it/s]"
      ]
     },
     "metadata": {},
     "output_type": "display_data"
    },
    {
     "name": "stdout",
     "output_type": "stream",
     "text": [
      "[Train] Avg loss: 0.000632 \n",
      "\n",
      "[Test] Avg loss: 0.000690 \n",
      "\n",
      "Epoch 58\n"
     ]
    },
    {
     "data": {
      "application/vnd.jupyter.widget-view+json": {
       "model_id": "532afa8b1116491eb39708e16b4a906f",
       "version_major": 2,
       "version_minor": 0
      },
      "text/plain": [
       "  0%|          | 0/931 [00:00<?, ?it/s]"
      ]
     },
     "metadata": {},
     "output_type": "display_data"
    },
    {
     "name": "stdout",
     "output_type": "stream",
     "text": [
      "[Train] Avg loss: 0.000616 \n",
      "\n",
      "[Test] Avg loss: 0.000466 \n",
      "\n",
      "Saving model to ../../models/anomaly_detection/model_weights.pth\n",
      "\n",
      "Epoch 59\n"
     ]
    },
    {
     "data": {
      "application/vnd.jupyter.widget-view+json": {
       "model_id": "d71f9b8081a34a2f9825b6ab1b7344f0",
       "version_major": 2,
       "version_minor": 0
      },
      "text/plain": [
       "  0%|          | 0/931 [00:00<?, ?it/s]"
      ]
     },
     "metadata": {},
     "output_type": "display_data"
    },
    {
     "name": "stdout",
     "output_type": "stream",
     "text": [
      "[Train] Avg loss: 0.000581 \n",
      "\n",
      "[Test] Avg loss: 0.000532 \n",
      "\n",
      "Epoch 60\n"
     ]
    },
    {
     "data": {
      "application/vnd.jupyter.widget-view+json": {
       "model_id": "cb30b8824660425998f60552d8ca6ae3",
       "version_major": 2,
       "version_minor": 0
      },
      "text/plain": [
       "  0%|          | 0/931 [00:00<?, ?it/s]"
      ]
     },
     "metadata": {},
     "output_type": "display_data"
    },
    {
     "name": "stdout",
     "output_type": "stream",
     "text": [
      "[Train] Avg loss: 0.000686 \n",
      "\n",
      "[Test] Avg loss: 0.000501 \n",
      "\n",
      "Epoch 61\n"
     ]
    },
    {
     "data": {
      "application/vnd.jupyter.widget-view+json": {
       "model_id": "4ce21551c41d4ff5b03ec895c1ea8090",
       "version_major": 2,
       "version_minor": 0
      },
      "text/plain": [
       "  0%|          | 0/931 [00:00<?, ?it/s]"
      ]
     },
     "metadata": {},
     "output_type": "display_data"
    },
    {
     "name": "stdout",
     "output_type": "stream",
     "text": [
      "[Train] Avg loss: 0.000574 \n",
      "\n",
      "[Test] Avg loss: 0.001315 \n",
      "\n",
      "Epoch 62\n"
     ]
    },
    {
     "data": {
      "application/vnd.jupyter.widget-view+json": {
       "model_id": "a75a5115d7b444dd907949195b586783",
       "version_major": 2,
       "version_minor": 0
      },
      "text/plain": [
       "  0%|          | 0/931 [00:00<?, ?it/s]"
      ]
     },
     "metadata": {},
     "output_type": "display_data"
    },
    {
     "name": "stdout",
     "output_type": "stream",
     "text": [
      "[Train] Avg loss: 0.000615 \n",
      "\n",
      "[Test] Avg loss: 0.000431 \n",
      "\n",
      "Saving model to ../../models/anomaly_detection/model_weights.pth\n",
      "\n",
      "Epoch 63\n"
     ]
    },
    {
     "data": {
      "application/vnd.jupyter.widget-view+json": {
       "model_id": "220d061fd4194c67953db39cd94a3653",
       "version_major": 2,
       "version_minor": 0
      },
      "text/plain": [
       "  0%|          | 0/931 [00:00<?, ?it/s]"
      ]
     },
     "metadata": {},
     "output_type": "display_data"
    },
    {
     "name": "stdout",
     "output_type": "stream",
     "text": [
      "[Train] Avg loss: 0.000640 \n",
      "\n",
      "[Test] Avg loss: 0.000466 \n",
      "\n",
      "Epoch 64\n"
     ]
    },
    {
     "data": {
      "application/vnd.jupyter.widget-view+json": {
       "model_id": "3d4cf89589f2489e8a4bc0d5867eb560",
       "version_major": 2,
       "version_minor": 0
      },
      "text/plain": [
       "  0%|          | 0/931 [00:00<?, ?it/s]"
      ]
     },
     "metadata": {},
     "output_type": "display_data"
    },
    {
     "name": "stdout",
     "output_type": "stream",
     "text": [
      "[Train] Avg loss: 0.000554 \n",
      "\n",
      "[Test] Avg loss: 0.000636 \n",
      "\n",
      "Epoch 65\n"
     ]
    },
    {
     "data": {
      "application/vnd.jupyter.widget-view+json": {
       "model_id": "a53fff1f97c44e7a83e7ee6862d00dfa",
       "version_major": 2,
       "version_minor": 0
      },
      "text/plain": [
       "  0%|          | 0/931 [00:00<?, ?it/s]"
      ]
     },
     "metadata": {},
     "output_type": "display_data"
    },
    {
     "name": "stdout",
     "output_type": "stream",
     "text": [
      "[Train] Avg loss: 0.000609 \n",
      "\n",
      "[Test] Avg loss: 0.000478 \n",
      "\n",
      "Epoch 66\n"
     ]
    },
    {
     "data": {
      "application/vnd.jupyter.widget-view+json": {
       "model_id": "d1771c97aaaf46ba9c9aa114564f4aab",
       "version_major": 2,
       "version_minor": 0
      },
      "text/plain": [
       "  0%|          | 0/931 [00:00<?, ?it/s]"
      ]
     },
     "metadata": {},
     "output_type": "display_data"
    },
    {
     "name": "stdout",
     "output_type": "stream",
     "text": [
      "[Train] Avg loss: 0.000580 \n",
      "\n",
      "[Test] Avg loss: 0.000405 \n",
      "\n",
      "Saving model to ../../models/anomaly_detection/model_weights.pth\n",
      "\n",
      "Epoch 67\n"
     ]
    },
    {
     "data": {
      "application/vnd.jupyter.widget-view+json": {
       "model_id": "e14794580c7d4622b0dd3193ca0ff959",
       "version_major": 2,
       "version_minor": 0
      },
      "text/plain": [
       "  0%|          | 0/931 [00:00<?, ?it/s]"
      ]
     },
     "metadata": {},
     "output_type": "display_data"
    },
    {
     "name": "stdout",
     "output_type": "stream",
     "text": [
      "[Train] Avg loss: 0.000632 \n",
      "\n",
      "[Test] Avg loss: 0.000407 \n",
      "\n",
      "Epoch 68\n"
     ]
    },
    {
     "data": {
      "application/vnd.jupyter.widget-view+json": {
       "model_id": "73770a482a784406bacc7ed8806aeb95",
       "version_major": 2,
       "version_minor": 0
      },
      "text/plain": [
       "  0%|          | 0/931 [00:00<?, ?it/s]"
      ]
     },
     "metadata": {},
     "output_type": "display_data"
    },
    {
     "name": "stdout",
     "output_type": "stream",
     "text": [
      "[Train] Avg loss: 0.000506 \n",
      "\n",
      "[Test] Avg loss: 0.000448 \n",
      "\n",
      "Epoch 69\n"
     ]
    },
    {
     "data": {
      "application/vnd.jupyter.widget-view+json": {
       "model_id": "1463e0829294453c9c4cf304831a370e",
       "version_major": 2,
       "version_minor": 0
      },
      "text/plain": [
       "  0%|          | 0/931 [00:00<?, ?it/s]"
      ]
     },
     "metadata": {},
     "output_type": "display_data"
    },
    {
     "name": "stdout",
     "output_type": "stream",
     "text": [
      "[Train] Avg loss: 0.000549 \n",
      "\n",
      "[Test] Avg loss: 0.000533 \n",
      "\n",
      "Epoch 70\n"
     ]
    },
    {
     "data": {
      "application/vnd.jupyter.widget-view+json": {
       "model_id": "673a5ff2452b450baf55ed2ff6d4ecf4",
       "version_major": 2,
       "version_minor": 0
      },
      "text/plain": [
       "  0%|          | 0/931 [00:00<?, ?it/s]"
      ]
     },
     "metadata": {},
     "output_type": "display_data"
    },
    {
     "name": "stdout",
     "output_type": "stream",
     "text": [
      "[Train] Avg loss: 0.000625 \n",
      "\n",
      "[Test] Avg loss: 0.000455 \n",
      "\n",
      "Epoch 71\n"
     ]
    },
    {
     "data": {
      "application/vnd.jupyter.widget-view+json": {
       "model_id": "9e559581c2144cad8ec58659a583ca4c",
       "version_major": 2,
       "version_minor": 0
      },
      "text/plain": [
       "  0%|          | 0/931 [00:00<?, ?it/s]"
      ]
     },
     "metadata": {},
     "output_type": "display_data"
    },
    {
     "name": "stdout",
     "output_type": "stream",
     "text": [
      "[Train] Avg loss: 0.000545 \n",
      "\n",
      "[Test] Avg loss: 0.000370 \n",
      "\n",
      "Saving model to ../../models/anomaly_detection/model_weights.pth\n",
      "\n",
      "Epoch 72\n"
     ]
    },
    {
     "data": {
      "application/vnd.jupyter.widget-view+json": {
       "model_id": "0171f4f75fad48e299b5bfa68dba5bfe",
       "version_major": 2,
       "version_minor": 0
      },
      "text/plain": [
       "  0%|          | 0/931 [00:00<?, ?it/s]"
      ]
     },
     "metadata": {},
     "output_type": "display_data"
    },
    {
     "name": "stdout",
     "output_type": "stream",
     "text": [
      "[Train] Avg loss: 0.000537 \n",
      "\n",
      "[Test] Avg loss: 0.000471 \n",
      "\n",
      "Epoch 73\n"
     ]
    },
    {
     "data": {
      "application/vnd.jupyter.widget-view+json": {
       "model_id": "07a7622bba7a440b8b60ea8c174e3649",
       "version_major": 2,
       "version_minor": 0
      },
      "text/plain": [
       "  0%|          | 0/931 [00:00<?, ?it/s]"
      ]
     },
     "metadata": {},
     "output_type": "display_data"
    },
    {
     "name": "stdout",
     "output_type": "stream",
     "text": [
      "[Train] Avg loss: 0.000510 \n",
      "\n",
      "[Test] Avg loss: 0.000388 \n",
      "\n",
      "Epoch 74\n"
     ]
    },
    {
     "data": {
      "application/vnd.jupyter.widget-view+json": {
       "model_id": "86c1e0ca0d3344f1a3a0d7b5753962fc",
       "version_major": 2,
       "version_minor": 0
      },
      "text/plain": [
       "  0%|          | 0/931 [00:00<?, ?it/s]"
      ]
     },
     "metadata": {},
     "output_type": "display_data"
    },
    {
     "name": "stdout",
     "output_type": "stream",
     "text": [
      "[Train] Avg loss: 0.000545 \n",
      "\n",
      "[Test] Avg loss: 0.000487 \n",
      "\n",
      "Epoch 75\n"
     ]
    },
    {
     "data": {
      "application/vnd.jupyter.widget-view+json": {
       "model_id": "734b70d8886c42318b72826c985a2bdd",
       "version_major": 2,
       "version_minor": 0
      },
      "text/plain": [
       "  0%|          | 0/931 [00:00<?, ?it/s]"
      ]
     },
     "metadata": {},
     "output_type": "display_data"
    },
    {
     "name": "stdout",
     "output_type": "stream",
     "text": [
      "[Train] Avg loss: 0.000513 \n",
      "\n",
      "[Test] Avg loss: 0.000450 \n",
      "\n",
      "Epoch 76\n"
     ]
    },
    {
     "data": {
      "application/vnd.jupyter.widget-view+json": {
       "model_id": "d3c0b838587543c6ad98583809c23cf1",
       "version_major": 2,
       "version_minor": 0
      },
      "text/plain": [
       "  0%|          | 0/931 [00:00<?, ?it/s]"
      ]
     },
     "metadata": {},
     "output_type": "display_data"
    },
    {
     "name": "stdout",
     "output_type": "stream",
     "text": [
      "[Train] Avg loss: 0.000588 \n",
      "\n",
      "[Test] Avg loss: 0.000670 \n",
      "\n",
      "Epoch 77\n"
     ]
    },
    {
     "data": {
      "application/vnd.jupyter.widget-view+json": {
       "model_id": "69841e7b86cc405dbcc5631c1dfc2f92",
       "version_major": 2,
       "version_minor": 0
      },
      "text/plain": [
       "  0%|          | 0/931 [00:00<?, ?it/s]"
      ]
     },
     "metadata": {},
     "output_type": "display_data"
    },
    {
     "name": "stdout",
     "output_type": "stream",
     "text": [
      "[Train] Avg loss: 0.000565 \n",
      "\n",
      "[Test] Avg loss: 0.000421 \n",
      "\n",
      "Epoch 78\n"
     ]
    },
    {
     "data": {
      "application/vnd.jupyter.widget-view+json": {
       "model_id": "0055b7f3558d4980954366393cf3ea11",
       "version_major": 2,
       "version_minor": 0
      },
      "text/plain": [
       "  0%|          | 0/931 [00:00<?, ?it/s]"
      ]
     },
     "metadata": {},
     "output_type": "display_data"
    },
    {
     "name": "stdout",
     "output_type": "stream",
     "text": [
      "[Train] Avg loss: 0.000507 \n",
      "\n",
      "[Test] Avg loss: 0.000487 \n",
      "\n",
      "Epoch 79\n"
     ]
    },
    {
     "data": {
      "application/vnd.jupyter.widget-view+json": {
       "model_id": "897624b1e77245479a445b141f00f302",
       "version_major": 2,
       "version_minor": 0
      },
      "text/plain": [
       "  0%|          | 0/931 [00:00<?, ?it/s]"
      ]
     },
     "metadata": {},
     "output_type": "display_data"
    },
    {
     "name": "stdout",
     "output_type": "stream",
     "text": [
      "[Train] Avg loss: 0.000550 \n",
      "\n",
      "[Test] Avg loss: 0.000471 \n",
      "\n",
      "Epoch 80\n"
     ]
    },
    {
     "data": {
      "application/vnd.jupyter.widget-view+json": {
       "model_id": "a33cd36384bb44228cdc3060499a77c8",
       "version_major": 2,
       "version_minor": 0
      },
      "text/plain": [
       "  0%|          | 0/931 [00:00<?, ?it/s]"
      ]
     },
     "metadata": {},
     "output_type": "display_data"
    },
    {
     "name": "stdout",
     "output_type": "stream",
     "text": [
      "[Train] Avg loss: 0.000488 \n",
      "\n",
      "[Test] Avg loss: 0.001214 \n",
      "\n",
      "Epoch 81\n"
     ]
    },
    {
     "data": {
      "application/vnd.jupyter.widget-view+json": {
       "model_id": "387daedc4e1e4e65b1a31062e812f7a0",
       "version_major": 2,
       "version_minor": 0
      },
      "text/plain": [
       "  0%|          | 0/931 [00:00<?, ?it/s]"
      ]
     },
     "metadata": {},
     "output_type": "display_data"
    },
    {
     "name": "stdout",
     "output_type": "stream",
     "text": [
      "[Train] Avg loss: 0.000544 \n",
      "\n",
      "[Test] Avg loss: 0.000563 \n",
      "\n",
      "Epoch 82\n"
     ]
    },
    {
     "data": {
      "application/vnd.jupyter.widget-view+json": {
       "model_id": "289c63e42a53436da4faac0ac6c6d046",
       "version_major": 2,
       "version_minor": 0
      },
      "text/plain": [
       "  0%|          | 0/931 [00:00<?, ?it/s]"
      ]
     },
     "metadata": {},
     "output_type": "display_data"
    },
    {
     "name": "stdout",
     "output_type": "stream",
     "text": [
      "[Train] Avg loss: 0.000511 \n",
      "\n",
      "[Test] Avg loss: 0.000480 \n",
      "\n",
      "Epoch 83\n"
     ]
    },
    {
     "data": {
      "application/vnd.jupyter.widget-view+json": {
       "model_id": "2bfb978edcb74fe78138156752c46aed",
       "version_major": 2,
       "version_minor": 0
      },
      "text/plain": [
       "  0%|          | 0/931 [00:00<?, ?it/s]"
      ]
     },
     "metadata": {},
     "output_type": "display_data"
    },
    {
     "name": "stdout",
     "output_type": "stream",
     "text": [
      "[Train] Avg loss: 0.000493 \n",
      "\n",
      "[Test] Avg loss: 0.001241 \n",
      "\n",
      "Epoch 84\n"
     ]
    },
    {
     "data": {
      "application/vnd.jupyter.widget-view+json": {
       "model_id": "8caa3f29c73f452ba539bf9309f4d616",
       "version_major": 2,
       "version_minor": 0
      },
      "text/plain": [
       "  0%|          | 0/931 [00:00<?, ?it/s]"
      ]
     },
     "metadata": {},
     "output_type": "display_data"
    },
    {
     "name": "stdout",
     "output_type": "stream",
     "text": [
      "[Train] Avg loss: 0.000500 \n",
      "\n",
      "[Test] Avg loss: 0.000653 \n",
      "\n",
      "Epoch 85\n"
     ]
    },
    {
     "data": {
      "application/vnd.jupyter.widget-view+json": {
       "model_id": "60f1ab6f8c994f5b92aa514d11855499",
       "version_major": 2,
       "version_minor": 0
      },
      "text/plain": [
       "  0%|          | 0/931 [00:00<?, ?it/s]"
      ]
     },
     "metadata": {},
     "output_type": "display_data"
    },
    {
     "name": "stdout",
     "output_type": "stream",
     "text": [
      "[Train] Avg loss: 0.000551 \n",
      "\n",
      "[Test] Avg loss: 0.000477 \n",
      "\n",
      "Epoch 86\n"
     ]
    },
    {
     "data": {
      "application/vnd.jupyter.widget-view+json": {
       "model_id": "192aa09e162546408b2cb244ee99cc4c",
       "version_major": 2,
       "version_minor": 0
      },
      "text/plain": [
       "  0%|          | 0/931 [00:00<?, ?it/s]"
      ]
     },
     "metadata": {},
     "output_type": "display_data"
    },
    {
     "name": "stdout",
     "output_type": "stream",
     "text": [
      "[Train] Avg loss: 0.000467 \n",
      "\n",
      "[Test] Avg loss: 0.000368 \n",
      "\n",
      "Saving model to ../../models/anomaly_detection/model_weights.pth\n",
      "\n",
      "Epoch 87\n"
     ]
    },
    {
     "data": {
      "application/vnd.jupyter.widget-view+json": {
       "model_id": "7c3ff61aafc54cd9bfdb25875c804b41",
       "version_major": 2,
       "version_minor": 0
      },
      "text/plain": [
       "  0%|          | 0/931 [00:00<?, ?it/s]"
      ]
     },
     "metadata": {},
     "output_type": "display_data"
    },
    {
     "name": "stdout",
     "output_type": "stream",
     "text": [
      "[Train] Avg loss: 0.000458 \n",
      "\n",
      "[Test] Avg loss: 0.000519 \n",
      "\n",
      "Epoch 88\n"
     ]
    },
    {
     "data": {
      "application/vnd.jupyter.widget-view+json": {
       "model_id": "eed6fef749cc413ba18b58c64751bca3",
       "version_major": 2,
       "version_minor": 0
      },
      "text/plain": [
       "  0%|          | 0/931 [00:00<?, ?it/s]"
      ]
     },
     "metadata": {},
     "output_type": "display_data"
    },
    {
     "name": "stdout",
     "output_type": "stream",
     "text": [
      "[Train] Avg loss: 0.000487 \n",
      "\n",
      "[Test] Avg loss: 0.000354 \n",
      "\n",
      "Saving model to ../../models/anomaly_detection/model_weights.pth\n",
      "\n",
      "Epoch 89\n"
     ]
    },
    {
     "data": {
      "application/vnd.jupyter.widget-view+json": {
       "model_id": "1e23920323fd4103ad8394983f218bf8",
       "version_major": 2,
       "version_minor": 0
      },
      "text/plain": [
       "  0%|          | 0/931 [00:00<?, ?it/s]"
      ]
     },
     "metadata": {},
     "output_type": "display_data"
    },
    {
     "name": "stdout",
     "output_type": "stream",
     "text": [
      "[Train] Avg loss: 0.000447 \n",
      "\n",
      "[Test] Avg loss: 0.000417 \n",
      "\n",
      "Epoch 90\n"
     ]
    },
    {
     "data": {
      "application/vnd.jupyter.widget-view+json": {
       "model_id": "2a5cb16e3890482a9f8aa28ee35c12f5",
       "version_major": 2,
       "version_minor": 0
      },
      "text/plain": [
       "  0%|          | 0/931 [00:00<?, ?it/s]"
      ]
     },
     "metadata": {},
     "output_type": "display_data"
    },
    {
     "name": "stdout",
     "output_type": "stream",
     "text": [
      "[Train] Avg loss: 0.000476 \n",
      "\n",
      "[Test] Avg loss: 0.000402 \n",
      "\n",
      "Epoch 91\n"
     ]
    },
    {
     "data": {
      "application/vnd.jupyter.widget-view+json": {
       "model_id": "638331783bf74b15ab1b3372fccbab9c",
       "version_major": 2,
       "version_minor": 0
      },
      "text/plain": [
       "  0%|          | 0/931 [00:00<?, ?it/s]"
      ]
     },
     "metadata": {},
     "output_type": "display_data"
    },
    {
     "name": "stdout",
     "output_type": "stream",
     "text": [
      "[Train] Avg loss: 0.000469 \n",
      "\n",
      "[Test] Avg loss: 0.000692 \n",
      "\n",
      "Epoch 92\n"
     ]
    },
    {
     "data": {
      "application/vnd.jupyter.widget-view+json": {
       "model_id": "0e66a149ae7c4d39ae542703a4dad5b3",
       "version_major": 2,
       "version_minor": 0
      },
      "text/plain": [
       "  0%|          | 0/931 [00:00<?, ?it/s]"
      ]
     },
     "metadata": {},
     "output_type": "display_data"
    },
    {
     "name": "stdout",
     "output_type": "stream",
     "text": [
      "[Train] Avg loss: 0.000474 \n",
      "\n",
      "[Test] Avg loss: 0.000395 \n",
      "\n",
      "Epoch 93\n"
     ]
    },
    {
     "data": {
      "application/vnd.jupyter.widget-view+json": {
       "model_id": "8b503237052a4b509e326259238580f5",
       "version_major": 2,
       "version_minor": 0
      },
      "text/plain": [
       "  0%|          | 0/931 [00:00<?, ?it/s]"
      ]
     },
     "metadata": {},
     "output_type": "display_data"
    },
    {
     "name": "stdout",
     "output_type": "stream",
     "text": [
      "[Train] Avg loss: 0.000556 \n",
      "\n",
      "[Test] Avg loss: 0.000340 \n",
      "\n",
      "Saving model to ../../models/anomaly_detection/model_weights.pth\n",
      "\n",
      "Epoch 94\n"
     ]
    },
    {
     "data": {
      "application/vnd.jupyter.widget-view+json": {
       "model_id": "abff4c91f22049c09132876697bf3ecc",
       "version_major": 2,
       "version_minor": 0
      },
      "text/plain": [
       "  0%|          | 0/931 [00:00<?, ?it/s]"
      ]
     },
     "metadata": {},
     "output_type": "display_data"
    },
    {
     "name": "stdout",
     "output_type": "stream",
     "text": [
      "[Train] Avg loss: 0.000417 \n",
      "\n",
      "[Test] Avg loss: 0.000329 \n",
      "\n",
      "Saving model to ../../models/anomaly_detection/model_weights.pth\n",
      "\n",
      "Epoch 95\n"
     ]
    },
    {
     "data": {
      "application/vnd.jupyter.widget-view+json": {
       "model_id": "bce7ea89f4e74429bb6f0cfad9e4b44d",
       "version_major": 2,
       "version_minor": 0
      },
      "text/plain": [
       "  0%|          | 0/931 [00:00<?, ?it/s]"
      ]
     },
     "metadata": {},
     "output_type": "display_data"
    },
    {
     "name": "stdout",
     "output_type": "stream",
     "text": [
      "[Train] Avg loss: 0.000481 \n",
      "\n",
      "[Test] Avg loss: 0.000316 \n",
      "\n",
      "Saving model to ../../models/anomaly_detection/model_weights.pth\n",
      "\n",
      "Epoch 96\n"
     ]
    },
    {
     "data": {
      "application/vnd.jupyter.widget-view+json": {
       "model_id": "88bec12d9e44476cb0138eebbeac1d4f",
       "version_major": 2,
       "version_minor": 0
      },
      "text/plain": [
       "  0%|          | 0/931 [00:00<?, ?it/s]"
      ]
     },
     "metadata": {},
     "output_type": "display_data"
    },
    {
     "name": "stdout",
     "output_type": "stream",
     "text": [
      "[Train] Avg loss: 0.000522 \n",
      "\n",
      "[Test] Avg loss: 0.000419 \n",
      "\n",
      "Epoch 97\n"
     ]
    },
    {
     "data": {
      "application/vnd.jupyter.widget-view+json": {
       "model_id": "8ad4a8434e2b430db399201a61e6a362",
       "version_major": 2,
       "version_minor": 0
      },
      "text/plain": [
       "  0%|          | 0/931 [00:00<?, ?it/s]"
      ]
     },
     "metadata": {},
     "output_type": "display_data"
    },
    {
     "name": "stdout",
     "output_type": "stream",
     "text": [
      "[Train] Avg loss: 0.000419 \n",
      "\n",
      "[Test] Avg loss: 0.000347 \n",
      "\n",
      "Epoch 98\n"
     ]
    },
    {
     "data": {
      "application/vnd.jupyter.widget-view+json": {
       "model_id": "701599febf80485399cc301ca3d77c8d",
       "version_major": 2,
       "version_minor": 0
      },
      "text/plain": [
       "  0%|          | 0/931 [00:00<?, ?it/s]"
      ]
     },
     "metadata": {},
     "output_type": "display_data"
    },
    {
     "name": "stdout",
     "output_type": "stream",
     "text": [
      "[Train] Avg loss: 0.000447 \n",
      "\n",
      "[Test] Avg loss: 0.000455 \n",
      "\n",
      "Epoch 99\n"
     ]
    },
    {
     "data": {
      "application/vnd.jupyter.widget-view+json": {
       "model_id": "5a5146ea4ddf46938e1aa5404775861b",
       "version_major": 2,
       "version_minor": 0
      },
      "text/plain": [
       "  0%|          | 0/931 [00:00<?, ?it/s]"
      ]
     },
     "metadata": {},
     "output_type": "display_data"
    },
    {
     "name": "stdout",
     "output_type": "stream",
     "text": [
      "[Train] Avg loss: 0.000471 \n",
      "\n",
      "[Test] Avg loss: 0.000400 \n",
      "\n",
      "Epoch 100\n"
     ]
    },
    {
     "data": {
      "application/vnd.jupyter.widget-view+json": {
       "model_id": "0b7438bfc0044785b99caa4d363c3a97",
       "version_major": 2,
       "version_minor": 0
      },
      "text/plain": [
       "  0%|          | 0/931 [00:00<?, ?it/s]"
      ]
     },
     "metadata": {},
     "output_type": "display_data"
    },
    {
     "name": "stdout",
     "output_type": "stream",
     "text": [
      "[Train] Avg loss: 0.000424 \n",
      "\n",
      "[Test] Avg loss: 0.000371 \n",
      "\n",
      "Done!\n"
     ]
    }
   ],
   "source": [
    "# training and validation\n",
    "# device\n",
    "device = \"cuda\" if torch.cuda.is_available() else \"cpu\"\n",
    "print(f\"Using {device} device\")\n",
    "\n",
    "# summary writer\n",
    "last_log_path = os.path.join(log_path, datetime.now().strftime(\"%Y-%m-%d_%H-%M-%S\"))\n",
    "writer = SummaryWriter(last_log_path)\n",
    "\n",
    "# neural network\n",
    "model = NeuralNetwork().to(device)\n",
    "\n",
    "# load model weight\n",
    "if os.path.isfile(model_path):\n",
    "    print(f'Load model weights form {model_path}')\n",
    "    model.load_state_dict(torch.load(model_path))\n",
    "\n",
    "# loss func and optimizer\n",
    "loss_fn = nn.MSELoss()\n",
    "optimizer = torch.optim.Adam(model.parameters(), lr=1e-3)\n",
    "\n",
    "min_loss = 1000\n",
    "\n",
    "# training and validation\n",
    "epochs = 100\n",
    "for t in range(epochs):\n",
    "    ep = t + 1\n",
    "    print(f\"Epoch {ep}\")\n",
    "    tr_loss = train(normal_tr_dl, model, loss_fn, optimizer, device)\n",
    "    val_loss = test(normal_val_dl, model, loss_fn, device)\n",
    "    \n",
    "    # log loss and acc\n",
    "    writer.add_scalar('Loss/train', tr_loss, ep)\n",
    "    writer.add_scalar('Loss/val', val_loss, ep)\n",
    "    \n",
    "    # save best model by min val loss\n",
    "    if val_loss < min_loss:\n",
    "        print(f'Saving model to {model_path}\\n')\n",
    "        torch.save(model.state_dict(), model_path)\n",
    "        min_loss = val_loss\n",
    "\n",
    "print(\"Done!\")"
   ]
  },
  {
   "cell_type": "code",
   "execution_count": 5,
   "id": "f70ad6a0",
   "metadata": {},
   "outputs": [
    {
     "name": "stdout",
     "output_type": "stream",
     "text": [
      "[Test] Avg loss: 0.000377 \n",
      "\n"
     ]
    }
   ],
   "source": [
    "# testing\n",
    "tt_loss = test(normal_tt_dl, model, loss_fn, device)\n",
    "writer.add_scalar('Loss/test', tt_loss, 1)"
   ]
  },
  {
   "cell_type": "code",
   "execution_count": 6,
   "id": "b9164a8a",
   "metadata": {},
   "outputs": [],
   "source": [
    "tr_df = create_loss_label_df(model, all_tr_dl, device)\n",
    "val_df = create_loss_label_df(model, all_val_dl, device)\n",
    "tt_df = create_loss_label_df(model, all_tt_dl, device)\n",
    "\n",
    "tr_threshold = cal_threshold(tr_df)\n",
    "\n",
    "tr_pred = predict(tr_df['loss'].values, tr_threshold)\n",
    "val_pred = predict(val_df['loss'].values, tr_threshold)\n",
    "tt_pred = predict(tt_df['loss'].values, tr_threshold)"
   ]
  },
  {
   "cell_type": "code",
   "execution_count": 7,
   "id": "1b7d68f3",
   "metadata": {},
   "outputs": [
    {
     "name": "stdout",
     "output_type": "stream",
     "text": [
      "threshold: 0.0018388032913208008\n",
      "\n",
      "training dataset\n",
      "\n",
      "              precision    recall  f1-score   support\n",
      "\n",
      "           0       0.66      0.96      0.78     59584\n",
      "           1       0.97      0.72      0.83    105326\n",
      "\n",
      "    accuracy                           0.81    164910\n",
      "   macro avg       0.82      0.84      0.80    164910\n",
      "weighted avg       0.86      0.81      0.81    164910\n",
      "\n",
      "validation dataset\n",
      "\n",
      "              precision    recall  f1-score   support\n",
      "\n",
      "           0       0.66      0.96      0.78     14753\n",
      "           1       0.97      0.72      0.83     26475\n",
      "\n",
      "    accuracy                           0.81     41228\n",
      "   macro avg       0.82      0.84      0.81     41228\n",
      "weighted avg       0.86      0.81      0.81     41228\n",
      "\n",
      "testing dataset\n",
      "\n",
      "              precision    recall  f1-score   support\n",
      "\n",
      "           0       0.66      0.96      0.78     18663\n",
      "           1       0.97      0.72      0.83     32872\n",
      "\n",
      "    accuracy                           0.81     51535\n",
      "   macro avg       0.82      0.84      0.80     51535\n",
      "weighted avg       0.86      0.81      0.81     51535\n",
      "\n"
     ]
    }
   ],
   "source": [
    "print(f'threshold: {tr_threshold}\\n')\n",
    "\n",
    "print('training dataset\\n')\n",
    "print(classification_report(tr_df['label'].values, tr_pred))\n",
    "\n",
    "print('validation dataset\\n')\n",
    "print(classification_report(val_df['label'].values, val_pred))\n",
    "\n",
    "print('testing dataset\\n')\n",
    "print(classification_report(tt_df['label'].values, tt_pred))"
   ]
  },
  {
   "cell_type": "code",
   "execution_count": 8,
   "id": "fd5ed742",
   "metadata": {},
   "outputs": [
    {
     "name": "stdout",
     "output_type": "stream",
     "text": [
      "training dataset\n",
      "\n"
     ]
    },
    {
     "data": {
      "image/png": "[encoded data removed]",
      "text/plain": [
       "<Figure size 720x720 with 2 Axes>"
      ]
     },
     "metadata": {},
     "output_type": "display_data"
    },
    {
     "name": "stdout",
     "output_type": "stream",
     "text": [
      "validation dataset\n",
      "\n"
     ]
    },
    {
     "data": {
      "image/png": "[encoded data removed]",
      "text/plain": [
       "<Figure size 720x720 with 2 Axes>"
      ]
     },
     "metadata": {},
     "output_type": "display_data"
    },
    {
     "name": "stdout",
     "output_type": "stream",
     "text": [
      "testing dataset\n",
      "\n"
     ]
    },
    {
     "data": {
      "image/png": "[encoded data removed]",
      "text/plain": [
       "<Figure size 720x720 with 2 Axes>"
      ]
     },
     "metadata": {},
     "output_type": "display_data"
    }
   ],
   "source": [
    "print('training dataset\\n')\n",
    "show_confusion_matrix(tr_df, tr_pred)\n",
    "print('validation dataset\\n')\n",
    "show_confusion_matrix(val_df, val_pred)\n",
    "print('testing dataset\\n')\n",
    "show_confusion_matrix(tt_df, tt_pred)"
   ]
  }
 ],
 "metadata": {
  "kernelspec": {
   "display_name": "Python 3 (ipykernel)",
   "language": "python",
   "name": "python3"
  },
  "language_info": {
   "codemirror_mode": {
    "name": "ipython",
    "version": 3
   },
   "file_extension": ".py",
   "mimetype": "text/x-python",
   "name": "python",
   "nbconvert_exporter": "python",
   "pygments_lexer": "ipython3",
   "version": "3.9.7"
  },
  "toc": {
   "base_numbering": 1,
   "nav_menu": {},
   "number_sections": true,
   "sideBar": true,
   "skip_h1_title": false,
   "title_cell": "Table of Contents",
   "title_sidebar": "Contents",
   "toc_cell": false,
   "toc_position": {},
   "toc_section_display": true,
   "toc_window_display": false
  }
 },
 "nbformat": 4,
 "nbformat_minor": 5
}
