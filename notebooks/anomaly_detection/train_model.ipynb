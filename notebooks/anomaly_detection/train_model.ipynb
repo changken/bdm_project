{
 "cells": [
  {
   "cell_type": "code",
   "execution_count": 6,
   "id": "841dfc0b",
   "metadata": {},
   "outputs": [],
   "source": [
    "import os\n",
    "from datetime import datetime\n",
    "\n",
    "import torch\n",
    "import torch.nn as nn\n",
    "from torch.utils.tensorboard import SummaryWriter\n",
    "\n",
    "from src.dataset import prep_dataloader\n",
    "from src.model import NeuralNetwork\n",
    "from src.training import train, test"
   ]
  },
  {
   "cell_type": "code",
   "execution_count": 7,
   "id": "d8a8e3b9",
   "metadata": {},
   "outputs": [],
   "source": [
    "# config\n",
    "# path\n",
    "tr_path = '../../data/processed/training-set.csv'\n",
    "val_path = '../../data/processed/validation-set.csv'\n",
    "tt_path = '../../data/processed/testing-set.csv'\n",
    "log_path = '../../logs/anomaly_detection'\n",
    "model_path = '../../models/anomaly_detection/model_weights.pth'\n",
    "\n",
    "# hyperparameter\n",
    "batch_size = 64"
   ]
  },
  {
   "cell_type": "code",
   "execution_count": 8,
   "id": "fac3696e",
   "metadata": {},
   "outputs": [
    {
     "name": "stdout",
     "output_type": "stream",
     "text": [
      "Finished reading the training set of Dataset (164910 samples found, each dim = 196)\n",
      "Finished reading the validation set of Dataset (41228 samples found, each dim = 196)\n",
      "Finished reading the testing set of Dataset (51535 samples found, each dim = 196)\n"
     ]
    }
   ],
   "source": [
    "# prepare dataloader\n",
    "tr_dl = prep_dataloader(\n",
    "    tr_path,\n",
    "    batch_size,\n",
    "    shuffle=True\n",
    ")\n",
    "\n",
    "val_dl = prep_dataloader(\n",
    "    val_path,\n",
    "    batch_size,\n",
    "    shuffle=True\n",
    ")\n",
    "\n",
    "tt_dl = prep_dataloader(\n",
    "    tt_path,\n",
    "    batch_size,\n",
    "    shuffle=False\n",
    ")"
   ]
  },
  {
   "cell_type": "code",
   "execution_count": 11,
   "id": "2f880a12",
   "metadata": {},
   "outputs": [
    {
     "name": "stdout",
     "output_type": "stream",
     "text": [
      "Using cuda device\n",
      "Load model weights form ../../models/anomaly_detection/model_weights.pth\n",
      "Epoch 1\n"
     ]
    },
    {
     "data": {
      "application/vnd.jupyter.widget-view+json": {
       "model_id": "3eed7838b8e34335ae3ac7329d67e910",
       "version_major": 2,
       "version_minor": 0
      },
      "text/plain": [
       "  0%|          | 0/2577 [00:00<?, ?it/s]"
      ]
     },
     "metadata": {},
     "output_type": "display_data"
    },
    {
     "name": "stdout",
     "output_type": "stream",
     "text": [
      "[Train] Accuracy: 36.1%, Avg loss: 0.377568 \n",
      "\n",
      "[Test] Accuracy: 35.8%, Avg loss: 0.344527 \n",
      "\n",
      "Epoch 2\n"
     ]
    },
    {
     "data": {
      "application/vnd.jupyter.widget-view+json": {
       "model_id": "9776c1ecb46f4fe6a199ff2bc10cd83b",
       "version_major": 2,
       "version_minor": 0
      },
      "text/plain": [
       "  0%|          | 0/2577 [00:00<?, ?it/s]"
      ]
     },
     "metadata": {},
     "output_type": "display_data"
    },
    {
     "name": "stdout",
     "output_type": "stream",
     "text": [
      "[Train] Accuracy: 36.1%, Avg loss: 0.318982 \n",
      "\n",
      "[Test] Accuracy: 35.8%, Avg loss: 0.293369 \n",
      "\n",
      "Saving model to ../../models/anomaly_detection/model_weights.pth\n",
      "\n",
      "Done!\n"
     ]
    }
   ],
   "source": [
    "# training and validation\n",
    "# device\n",
    "device = \"cuda\" if torch.cuda.is_available() else \"cpu\"\n",
    "print(f\"Using {device} device\")\n",
    "\n",
    "# summary writer\n",
    "last_log_path = os.path.join(log_path, datetime.now().strftime(\"%Y-%m-%d_%H-%M-%S\"))\n",
    "writer = SummaryWriter(last_log_path)\n",
    "\n",
    "# neural network\n",
    "model = NeuralNetwork().to(device)\n",
    "\n",
    "# load model weight\n",
    "if os.path.isfile(model_path):\n",
    "    print(f'Load model weights form {model_path}')\n",
    "    model.load_state_dict(torch.load(model_path))\n",
    "\n",
    "# loss func and optimizer\n",
    "loss_fn = nn.BCEWithLogitsLoss()\n",
    "optimizer = torch.optim.SGD(model.parameters(), lr=1e-3)\n",
    "\n",
    "# training and validation\n",
    "epochs = 2\n",
    "for t in range(epochs):\n",
    "    ep = t + 1\n",
    "    print(f\"Epoch {ep}\")\n",
    "    tr_loss, tr_acc = train(tr_dl, model, loss_fn, optimizer, device)\n",
    "    val_loss, val_acc = test(val_dl, model, loss_fn, device)\n",
    "    \n",
    "    # log loss and acc\n",
    "    writer.add_scalar('Loss/train', tr_loss, ep)\n",
    "    writer.add_scalar('Accuracy/train', tr_acc, ep)\n",
    "    writer.add_scalar('Loss/val', val_loss, ep)\n",
    "    writer.add_scalar('Accuracy/val', val_acc, ep)\n",
    "\n",
    "# saving model\n",
    "print(f'Saving model to {model_path}\\n')\n",
    "torch.save(model.state_dict(), model_path)\n",
    "    \n",
    "print(\"Done!\")"
   ]
  },
  {
   "cell_type": "code",
   "execution_count": 12,
   "id": "c55ab867",
   "metadata": {},
   "outputs": [
    {
     "name": "stdout",
     "output_type": "stream",
     "text": [
      "[Test] Accuracy: 36.2%, Avg loss: 0.298892 \n",
      "\n"
     ]
    }
   ],
   "source": [
    "# testing\n",
    "tt_loss, tt_acc = test(tt_dl, model, loss_fn, device)\n",
    "writer.add_scalar('Loss/test', tt_loss, 1)\n",
    "writer.add_scalar('Accuracy/test', tt_acc, 1)"
   ]
  }
 ],
 "metadata": {
  "kernelspec": {
   "display_name": "Python 3 (ipykernel)",
   "language": "python",
   "name": "python3"
  },
  "language_info": {
   "codemirror_mode": {
    "name": "ipython",
    "version": 3
   },
   "file_extension": ".py",
   "mimetype": "text/x-python",
   "name": "python",
   "nbconvert_exporter": "python",
   "pygments_lexer": "ipython3",
   "version": "3.9.7"
  },
  "toc": {
   "base_numbering": 1,
   "nav_menu": {},
   "number_sections": true,
   "sideBar": true,
   "skip_h1_title": false,
   "title_cell": "Table of Contents",
   "title_sidebar": "Contents",
   "toc_cell": false,
   "toc_position": {},
   "toc_section_display": true,
   "toc_window_display": false
  }
 },
 "nbformat": 4,
 "nbformat_minor": 5
}
