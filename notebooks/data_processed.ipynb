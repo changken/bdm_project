{
 "cells": [
  {
   "cell_type": "code",
   "execution_count": 1,
   "id": "b83a4568",
   "metadata": {},
   "outputs": [],
   "source": [
    "import numpy as np\n",
    "import pandas as pd\n",
    "from sklearn.model_selection import train_test_split"
   ]
  },
  {
   "cell_type": "code",
   "execution_count": 25,
   "id": "adf3468b",
   "metadata": {},
   "outputs": [],
   "source": [
    "def remove_dump_values(data, cols):\n",
    "    for col in cols:\n",
    "        data[col] = np.where(data[col] == '-', 'None', data[col])\n",
    "    return data\n",
    "\n",
    "\n",
    "def preprocess(data):\n",
    "    cols = data.columns\n",
    "    cols_cat = data.select_dtypes('object').columns\n",
    "    cols_numeric = data._get_numeric_data().columns\n",
    "\n",
    "    # remove dump value\n",
    "    data_bin = remove_dump_values(data, cols)\n",
    "\n",
    "    # remove unnecessary features\n",
    "    cols_cat = cols_cat.drop(['attack_cat'])\n",
    "    cols_numeric = cols_numeric.drop(['id', 'label'])\n",
    "\n",
    "    # one hot encoding category feature\n",
    "    data_bin_hot = pd.get_dummies(data_bin, columns=cols_cat)\n",
    "\n",
    "    # normalize numeric features\n",
    "    data_bin_hot[cols_numeric] = data_bin_hot[cols_numeric].astype('float')\n",
    "    data_bin_hot[cols_numeric] = (data_bin_hot[cols_numeric] - np.min(data_bin_hot[cols_numeric])) / np.std(data_bin_hot[cols_numeric])\n",
    "\n",
    "    return data_bin_hot"
   ]
  },
  {
   "cell_type": "code",
   "execution_count": 2,
   "id": "a143b32d",
   "metadata": {},
   "outputs": [
    {
     "data": {
      "text/plain": [
       "((82332, 45), (175341, 45))"
      ]
     },
     "execution_count": 2,
     "metadata": {},
     "output_type": "execute_result"
    }
   ],
   "source": [
    "raw_tr = pd.read_csv('../data/raw/UNSW_NB15_training-set.csv')\n",
    "raw_tt = pd.read_csv('../data/raw/UNSW_NB15_testing-set.csv')\n",
    "raw_tr.shape, raw_tt.shaperaw_tr"
   ]
  },
  {
   "cell_type": "code",
   "execution_count": 16,
   "id": "6a19f56d",
   "metadata": {},
   "outputs": [
    {
     "data": {
      "text/plain": [
       "{'icmp', 'rtp'}"
      ]
     },
     "execution_count": 16,
     "metadata": {},
     "output_type": "execute_result"
    }
   ],
   "source": [
    "set(raw_tt['proto'].unique()) - set(raw_tr['proto'].unique())"
   ]
  },
  {
   "cell_type": "code",
   "execution_count": 17,
   "id": "e3dede02",
   "metadata": {},
   "outputs": [
    {
     "data": {
      "text/plain": [
       "{'ECO', 'PAR', 'URN', 'no'}"
      ]
     },
     "execution_count": 17,
     "metadata": {},
     "output_type": "execute_result"
    }
   ],
   "source": [
    "set(raw_tt['state'].unique()) - set(raw_tr['state'].unique())"
   ]
  },
  {
   "cell_type": "code",
   "execution_count": 27,
   "id": "e1e289cc",
   "metadata": {},
   "outputs": [
    {
     "data": {
      "text/plain": [
       "(257673, 199)"
      ]
     },
     "execution_count": 27,
     "metadata": {},
     "output_type": "execute_result"
    }
   ],
   "source": [
    "raw_data = pd.concat([raw_tr, raw_tt]).reset_index(drop=True)\n",
    "processed_data = preprocess(raw_data)\n",
    "processed_data.shape"
   ]
  },
  {
   "cell_type": "code",
   "execution_count": 28,
   "id": "89fbf763",
   "metadata": {},
   "outputs": [
    {
     "data": {
      "text/plain": [
       "((164910, 199), (41228, 199), (51535, 199))"
      ]
     },
     "execution_count": 28,
     "metadata": {},
     "output_type": "execute_result"
    }
   ],
   "source": [
    "tr, tt = train_test_split(processed_data, test_size=0.2, random_state=88)\n",
    "tr, val = train_test_split(tr, test_size=0.2, random_state=88)\n",
    "tr.shape, val.shape, tt.shape"
   ]
  },
  {
   "cell_type": "code",
   "execution_count": 29,
   "id": "e7657388",
   "metadata": {},
   "outputs": [],
   "source": [
    "tr.to_csv('../data/processed/training-set.csv', index=False)\n",
    "val.to_csv('../data/processed/validation-set.csv', index=False)\n",
    "tt.to_csv('../data/processed/testing-set.csv', index=False)"
   ]
  }
 ],
 "metadata": {
  "kernelspec": {
   "display_name": "Python 3 (ipykernel)",
   "language": "python",
   "name": "python3"
  },
  "language_info": {
   "codemirror_mode": {
    "name": "ipython",
    "version": 3
   },
   "file_extension": ".py",
   "mimetype": "text/x-python",
   "name": "python",
   "nbconvert_exporter": "python",
   "pygments_lexer": "ipython3",
   "version": "3.9.7"
  },
  "toc": {
   "base_numbering": 1,
   "nav_menu": {},
   "number_sections": true,
   "sideBar": true,
   "skip_h1_title": false,
   "title_cell": "Table of Contents",
   "title_sidebar": "Contents",
   "toc_cell": false,
   "toc_position": {},
   "toc_section_display": true,
   "toc_window_display": false
  }
 },
 "nbformat": 4,
 "nbformat_minor": 5
}
